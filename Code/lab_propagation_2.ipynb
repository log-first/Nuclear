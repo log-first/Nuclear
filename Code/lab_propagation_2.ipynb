{
 "cells": [
  {
   "cell_type": "code",
   "execution_count": 22,
   "metadata": {},
   "outputs": [],
   "source": [
    "import numpy as np\n",
    "import pandas as pd \n",
    "import matplotlib.pyplot as plt\n",
    "\n",
    "from tqdm import tqdm_notebook\n",
    "from sklearn.semi_supervised import label_propagation\n",
    "from sklearn.metrics import confusion_matrix, classification_report\n",
    "from scipy import stats\n",
    "from sklearn.decomposition import PCA\n",
    "\n",
    "import time"
   ]
  },
  {
   "cell_type": "markdown",
   "metadata": {},
   "source": [
    "### 1 加载数据"
   ]
  },
  {
   "cell_type": "code",
   "execution_count": 2,
   "metadata": {},
   "outputs": [
    {
     "data": {
      "text/html": [
       "<div>\n",
       "<style scoped>\n",
       "    .dataframe tbody tr th:only-of-type {\n",
       "        vertical-align: middle;\n",
       "    }\n",
       "\n",
       "    .dataframe tbody tr th {\n",
       "        vertical-align: top;\n",
       "    }\n",
       "\n",
       "    .dataframe thead th {\n",
       "        text-align: right;\n",
       "    }\n",
       "</style>\n",
       "<table border=\"1\" class=\"dataframe\">\n",
       "  <thead>\n",
       "    <tr style=\"text-align: right;\">\n",
       "      <th></th>\n",
       "      <th>Unnamed: 0</th>\n",
       "      <th>0</th>\n",
       "      <th>1</th>\n",
       "      <th>2</th>\n",
       "      <th>3</th>\n",
       "      <th>4</th>\n",
       "      <th>5</th>\n",
       "      <th>6</th>\n",
       "      <th>7</th>\n",
       "      <th>8</th>\n",
       "      <th>...</th>\n",
       "      <th>4991</th>\n",
       "      <th>4992</th>\n",
       "      <th>4993</th>\n",
       "      <th>4994</th>\n",
       "      <th>4995</th>\n",
       "      <th>4996</th>\n",
       "      <th>4997</th>\n",
       "      <th>4998</th>\n",
       "      <th>4999</th>\n",
       "      <th>5000</th>\n",
       "    </tr>\n",
       "  </thead>\n",
       "  <tbody>\n",
       "    <tr>\n",
       "      <td>0</td>\n",
       "      <td>0</td>\n",
       "      <td>97.0</td>\n",
       "      <td>101.0</td>\n",
       "      <td>77.0</td>\n",
       "      <td>74.0</td>\n",
       "      <td>90.0</td>\n",
       "      <td>88.0</td>\n",
       "      <td>30.0</td>\n",
       "      <td>29.0</td>\n",
       "      <td>241.0</td>\n",
       "      <td>...</td>\n",
       "      <td>37.0</td>\n",
       "      <td>33.0</td>\n",
       "      <td>195.0</td>\n",
       "      <td>196.0</td>\n",
       "      <td>34.0</td>\n",
       "      <td>31.0</td>\n",
       "      <td>42.0</td>\n",
       "      <td>44.0</td>\n",
       "      <td>77.0</td>\n",
       "      <td>0.0</td>\n",
       "    </tr>\n",
       "    <tr>\n",
       "      <td>1</td>\n",
       "      <td>1</td>\n",
       "      <td>79.0</td>\n",
       "      <td>74.0</td>\n",
       "      <td>141.0</td>\n",
       "      <td>143.0</td>\n",
       "      <td>235.0</td>\n",
       "      <td>237.0</td>\n",
       "      <td>32.0</td>\n",
       "      <td>31.0</td>\n",
       "      <td>68.0</td>\n",
       "      <td>...</td>\n",
       "      <td>90.0</td>\n",
       "      <td>88.0</td>\n",
       "      <td>31.0</td>\n",
       "      <td>31.0</td>\n",
       "      <td>58.0</td>\n",
       "      <td>60.0</td>\n",
       "      <td>28.0</td>\n",
       "      <td>27.0</td>\n",
       "      <td>26.0</td>\n",
       "      <td>0.0</td>\n",
       "    </tr>\n",
       "    <tr>\n",
       "      <td>2</td>\n",
       "      <td>2</td>\n",
       "      <td>82.0</td>\n",
       "      <td>85.0</td>\n",
       "      <td>51.0</td>\n",
       "      <td>51.0</td>\n",
       "      <td>52.0</td>\n",
       "      <td>53.0</td>\n",
       "      <td>119.0</td>\n",
       "      <td>119.0</td>\n",
       "      <td>152.0</td>\n",
       "      <td>...</td>\n",
       "      <td>38.0</td>\n",
       "      <td>67.0</td>\n",
       "      <td>66.0</td>\n",
       "      <td>134.0</td>\n",
       "      <td>134.0</td>\n",
       "      <td>32.0</td>\n",
       "      <td>33.0</td>\n",
       "      <td>98.0</td>\n",
       "      <td>100.0</td>\n",
       "      <td>0.0</td>\n",
       "    </tr>\n",
       "    <tr>\n",
       "      <td>3</td>\n",
       "      <td>3</td>\n",
       "      <td>46.0</td>\n",
       "      <td>49.0</td>\n",
       "      <td>30.0</td>\n",
       "      <td>29.0</td>\n",
       "      <td>85.0</td>\n",
       "      <td>85.0</td>\n",
       "      <td>62.0</td>\n",
       "      <td>62.0</td>\n",
       "      <td>245.0</td>\n",
       "      <td>...</td>\n",
       "      <td>34.0</td>\n",
       "      <td>103.0</td>\n",
       "      <td>101.0</td>\n",
       "      <td>52.0</td>\n",
       "      <td>52.0</td>\n",
       "      <td>82.0</td>\n",
       "      <td>78.0</td>\n",
       "      <td>46.0</td>\n",
       "      <td>46.0</td>\n",
       "      <td>0.0</td>\n",
       "    </tr>\n",
       "    <tr>\n",
       "      <td>4</td>\n",
       "      <td>4</td>\n",
       "      <td>50.0</td>\n",
       "      <td>50.0</td>\n",
       "      <td>232.0</td>\n",
       "      <td>232.0</td>\n",
       "      <td>30.0</td>\n",
       "      <td>36.0</td>\n",
       "      <td>180.0</td>\n",
       "      <td>181.0</td>\n",
       "      <td>88.0</td>\n",
       "      <td>...</td>\n",
       "      <td>53.0</td>\n",
       "      <td>58.0</td>\n",
       "      <td>45.0</td>\n",
       "      <td>43.0</td>\n",
       "      <td>67.0</td>\n",
       "      <td>67.0</td>\n",
       "      <td>64.0</td>\n",
       "      <td>63.0</td>\n",
       "      <td>28.0</td>\n",
       "      <td>0.0</td>\n",
       "    </tr>\n",
       "  </tbody>\n",
       "</table>\n",
       "<p>5 rows × 5002 columns</p>\n",
       "</div>"
      ],
      "text/plain": [
       "   Unnamed: 0     0      1      2      3      4      5      6      7      8  \\\n",
       "0           0  97.0  101.0   77.0   74.0   90.0   88.0   30.0   29.0  241.0   \n",
       "1           1  79.0   74.0  141.0  143.0  235.0  237.0   32.0   31.0   68.0   \n",
       "2           2  82.0   85.0   51.0   51.0   52.0   53.0  119.0  119.0  152.0   \n",
       "3           3  46.0   49.0   30.0   29.0   85.0   85.0   62.0   62.0  245.0   \n",
       "4           4  50.0   50.0  232.0  232.0   30.0   36.0  180.0  181.0   88.0   \n",
       "\n",
       "   ...  4991   4992   4993   4994   4995  4996  4997  4998   4999  5000  \n",
       "0  ...  37.0   33.0  195.0  196.0   34.0  31.0  42.0  44.0   77.0   0.0  \n",
       "1  ...  90.0   88.0   31.0   31.0   58.0  60.0  28.0  27.0   26.0   0.0  \n",
       "2  ...  38.0   67.0   66.0  134.0  134.0  32.0  33.0  98.0  100.0   0.0  \n",
       "3  ...  34.0  103.0  101.0   52.0   52.0  82.0  78.0  46.0   46.0   0.0  \n",
       "4  ...  53.0   58.0   45.0   43.0   67.0  67.0  64.0  63.0   28.0   0.0  \n",
       "\n",
       "[5 rows x 5002 columns]"
      ]
     },
     "execution_count": 2,
     "metadata": {},
     "output_type": "execute_result"
    }
   ],
   "source": [
    "dataSet = pd.read_csv('../Cs137data/re_bp_SetData.csv')\n",
    "dataSet.head()"
   ]
  },
  {
   "cell_type": "code",
   "execution_count": 3,
   "metadata": {},
   "outputs": [
    {
     "data": {
      "text/plain": [
       "((7317, 5000), (7317,))"
      ]
     },
     "execution_count": 3,
     "metadata": {},
     "output_type": "execute_result"
    }
   ],
   "source": [
    "X = dataSet.values[:, 1: 5001]\n",
    "Y = dataSet.values[:, -1]\n",
    "\n",
    "# 删除本底数据，得到新的训练数据\n",
    "X1 = np.delete(X, np.where(Y == 0)[0], axis=0)\n",
    "Y1 = np.delete(Y, np.where(Y == 0)[0], axis=0)\n",
    "X1.shape, Y1.shape"
   ]
  },
  {
   "cell_type": "code",
   "execution_count": 4,
   "metadata": {},
   "outputs": [
    {
     "data": {
      "text/plain": [
       "7316"
      ]
     },
     "execution_count": 4,
     "metadata": {},
     "output_type": "execute_result"
    }
   ],
   "source": [
    "rng = np.random.RandomState(2)\n",
    "indices = np.arange(X1.shape[0])\n",
    "rng.shuffle(indices)\n",
    "indices.max()"
   ]
  },
  {
   "cell_type": "code",
   "execution_count": 23,
   "metadata": {},
   "outputs": [],
   "source": [
    "def data_pca(x_train, COMPONENT_NUM):\n",
    "    start = time.time()\n",
    "    print(\"====>>===>>===>> PCA \")\n",
    "    pca = PCA(n_components=COMPONENT_NUM, copy=True, whiten=False)  # 创建一个 PCA 对象\n",
    "    pca.fit(x_train)    # 构建 PCA 模型\n",
    "    pcaXTrain = pca.transform(x_train)\n",
    "    # pcaXTest = pca.transform(x_test)\n",
    "    print('pca time is %0.3fs' % (time.time() - start))\n",
    "    return pcaXTrain"
   ]
  },
  {
   "cell_type": "code",
   "execution_count": null,
   "metadata": {},
   "outputs": [],
   "source": []
  },
  {
   "cell_type": "code",
   "execution_count": 24,
   "metadata": {},
   "outputs": [
    {
     "name": "stdout",
     "output_type": "stream",
     "text": [
      "====>>===>>===>> PCA \n",
      "pca time is 83.312s\n"
     ]
    },
    {
     "data": {
      "text/plain": [
       "((5000, 2570), array([[-1017.29013269,   250.38499221,    56.31505813, ...,\n",
       "           -14.60496093,    15.21905425,    27.70739763],\n",
       "        [ -795.19157289,    81.55740213,   -55.37583812, ...,\n",
       "            11.20707372,    52.44707993,   -28.67307639],\n",
       "        [   40.70541809,   226.6525751 ,   -32.78683521, ...,\n",
       "            25.78342479,    78.78625651,    -7.85024934],\n",
       "        [   20.1505545 ,   -82.70954004,   -52.74263687, ...,\n",
       "           -16.29999199,   -23.12175141,    28.35322013],\n",
       "        [-1027.294783  ,   183.75991871,  -413.5661098 , ...,\n",
       "            15.12700849,   -10.2510332 ,    25.90691698]]), array([3., 3., 2., 2., 3.]))"
      ]
     },
     "execution_count": 24,
     "metadata": {},
     "output_type": "execute_result"
    }
   ],
   "source": [
    "x_train = X1[indices[ :5000]]\n",
    "y = Y1[indices[ :5000]]\n",
    "x_train = data_pca(x_train, 0.95)\n",
    "\n",
    "x_train.shape, x_train[:5, :], y[:5]"
   ]
  },
  {
   "cell_type": "code",
   "execution_count": 25,
   "metadata": {},
   "outputs": [
    {
     "data": {
      "text/plain": [
       "(4000,)"
      ]
     },
     "execution_count": 25,
     "metadata": {},
     "output_type": "execute_result"
    },
    {
     "data": {
      "text/plain": [
       "<Figure size 432x288 with 0 Axes>"
      ]
     },
     "metadata": {},
     "output_type": "display_data"
    }
   ],
   "source": [
    "n_total_samples = y.shape[0]\n",
    "n_labeled_points = 1000\n",
    "max_iterations = 10\n",
    "\n",
    "# 后面 2500 个数据未被标签\n",
    "unlabeled_indices = np.arange(n_total_samples)[n_labeled_points: ]\n",
    "\n",
    "f = plt.figure()\n",
    "\n",
    "unlabeled_indices.shape"
   ]
  },
  {
   "cell_type": "code",
   "execution_count": 26,
   "metadata": {},
   "outputs": [
    {
     "name": "stderr",
     "output_type": "stream",
     "text": [
      "e:\\anaconda\\envs\\deeplearning\\lib\\site-packages\\sklearn\\semi_supervised\\label_propagation.py:293: RuntimeWarning: invalid value encountered in true_divide\n",
      "  self.label_distributions_ /= normalizer\n"
     ]
    },
    {
     "name": "stdout",
     "output_type": "stream",
     "text": [
      "Iteration 0 ______________________________________________________________________\n",
      "Label Spreading model: 1000 labeled & 4000 unlabeled (5000 total)\n"
     ]
    },
    {
     "name": "stderr",
     "output_type": "stream",
     "text": [
      "e:\\anaconda\\envs\\deeplearning\\lib\\site-packages\\sklearn\\metrics\\classification.py:1437: UndefinedMetricWarning: Precision and F-score are ill-defined and being set to 0.0 in labels with no predicted samples.\n",
      "  'precision', 'predicted', average, warn_for)\n"
     ]
    },
    {
     "name": "stdout",
     "output_type": "stream",
     "text": [
      "              precision    recall  f1-score   support\n",
      "\n",
      "         1.0       0.31      1.00      0.47      1243\n",
      "         2.0       0.00      0.00      0.00      1187\n",
      "         3.0       0.00      0.00      0.00      1496\n",
      "         4.0       0.00      0.00      0.00        74\n",
      "\n",
      "    accuracy                           0.31      4000\n",
      "   macro avg       0.08      0.25      0.12      4000\n",
      "weighted avg       0.10      0.31      0.15      4000\n",
      "\n",
      "Confusion matrix\n",
      "[[1243    0    0    0]\n",
      " [1187    0    0    0]\n",
      " [1496    0    0    0]\n",
      " [  74    0    0    0]]\n"
     ]
    },
    {
     "name": "stderr",
     "output_type": "stream",
     "text": [
      "e:\\anaconda\\envs\\deeplearning\\lib\\site-packages\\ipykernel_launcher.py:45: DeprecationWarning: elementwise comparison failed; this will raise an error in the future.\n",
      "e:\\anaconda\\envs\\deeplearning\\lib\\site-packages\\sklearn\\semi_supervised\\label_propagation.py:293: RuntimeWarning: invalid value encountered in true_divide\n",
      "  self.label_distributions_ /= normalizer\n"
     ]
    },
    {
     "name": "stdout",
     "output_type": "stream",
     "text": [
      "Iteration 1 ______________________________________________________________________\n",
      "Label Spreading model: 1300 labeled & 3700 unlabeled (5000 total)\n"
     ]
    },
    {
     "name": "stderr",
     "output_type": "stream",
     "text": [
      "e:\\anaconda\\envs\\deeplearning\\lib\\site-packages\\sklearn\\metrics\\classification.py:1437: UndefinedMetricWarning: Precision and F-score are ill-defined and being set to 0.0 in labels with no predicted samples.\n",
      "  'precision', 'predicted', average, warn_for)\n"
     ]
    },
    {
     "name": "stdout",
     "output_type": "stream",
     "text": [
      "              precision    recall  f1-score   support\n",
      "\n",
      "         1.0       0.31      1.00      0.47      1243\n",
      "         2.0       0.00      0.00      0.00      1187\n",
      "         3.0       0.00      0.00      0.00      1496\n",
      "         4.0       0.00      0.00      0.00        74\n",
      "\n",
      "    accuracy                           0.31      4000\n",
      "   macro avg       0.08      0.25      0.12      4000\n",
      "weighted avg       0.10      0.31      0.15      4000\n",
      "\n",
      "Confusion matrix\n",
      "[[1243    0    0    0]\n",
      " [1187    0    0    0]\n",
      " [1496    0    0    0]\n",
      " [  74    0    0    0]]\n"
     ]
    },
    {
     "name": "stderr",
     "output_type": "stream",
     "text": [
      "e:\\anaconda\\envs\\deeplearning\\lib\\site-packages\\ipykernel_launcher.py:45: DeprecationWarning: elementwise comparison failed; this will raise an error in the future.\n",
      "e:\\anaconda\\envs\\deeplearning\\lib\\site-packages\\sklearn\\semi_supervised\\label_propagation.py:293: RuntimeWarning: invalid value encountered in true_divide\n",
      "  self.label_distributions_ /= normalizer\n"
     ]
    },
    {
     "name": "stdout",
     "output_type": "stream",
     "text": [
      "Iteration 2 ______________________________________________________________________\n",
      "Label Spreading model: 1600 labeled & 3400 unlabeled (5000 total)\n"
     ]
    },
    {
     "name": "stderr",
     "output_type": "stream",
     "text": [
      "e:\\anaconda\\envs\\deeplearning\\lib\\site-packages\\sklearn\\metrics\\classification.py:1437: UndefinedMetricWarning: Precision and F-score are ill-defined and being set to 0.0 in labels with no predicted samples.\n",
      "  'precision', 'predicted', average, warn_for)\n"
     ]
    },
    {
     "name": "stdout",
     "output_type": "stream",
     "text": [
      "              precision    recall  f1-score   support\n",
      "\n",
      "         1.0       0.31      1.00      0.47      1243\n",
      "         2.0       0.00      0.00      0.00      1187\n",
      "         3.0       0.00      0.00      0.00      1496\n",
      "         4.0       0.00      0.00      0.00        74\n",
      "\n",
      "    accuracy                           0.31      4000\n",
      "   macro avg       0.08      0.25      0.12      4000\n",
      "weighted avg       0.10      0.31      0.15      4000\n",
      "\n",
      "Confusion matrix\n",
      "[[1243    0    0    0]\n",
      " [1187    0    0    0]\n",
      " [1496    0    0    0]\n",
      " [  74    0    0    0]]\n"
     ]
    },
    {
     "name": "stderr",
     "output_type": "stream",
     "text": [
      "e:\\anaconda\\envs\\deeplearning\\lib\\site-packages\\ipykernel_launcher.py:45: DeprecationWarning: elementwise comparison failed; this will raise an error in the future.\n",
      "e:\\anaconda\\envs\\deeplearning\\lib\\site-packages\\sklearn\\semi_supervised\\label_propagation.py:293: RuntimeWarning: invalid value encountered in true_divide\n",
      "  self.label_distributions_ /= normalizer\n"
     ]
    },
    {
     "name": "stdout",
     "output_type": "stream",
     "text": [
      "Iteration 3 ______________________________________________________________________\n",
      "Label Spreading model: 1900 labeled & 3100 unlabeled (5000 total)\n"
     ]
    },
    {
     "name": "stderr",
     "output_type": "stream",
     "text": [
      "e:\\anaconda\\envs\\deeplearning\\lib\\site-packages\\sklearn\\metrics\\classification.py:1437: UndefinedMetricWarning: Precision and F-score are ill-defined and being set to 0.0 in labels with no predicted samples.\n",
      "  'precision', 'predicted', average, warn_for)\n"
     ]
    },
    {
     "name": "stdout",
     "output_type": "stream",
     "text": [
      "              precision    recall  f1-score   support\n",
      "\n",
      "         1.0       0.31      1.00      0.47      1243\n",
      "         2.0       0.00      0.00      0.00      1187\n",
      "         3.0       0.00      0.00      0.00      1496\n",
      "         4.0       0.00      0.00      0.00        74\n",
      "\n",
      "    accuracy                           0.31      4000\n",
      "   macro avg       0.08      0.25      0.12      4000\n",
      "weighted avg       0.10      0.31      0.15      4000\n",
      "\n",
      "Confusion matrix\n",
      "[[1243    0    0    0]\n",
      " [1187    0    0    0]\n",
      " [1496    0    0    0]\n",
      " [  74    0    0    0]]\n"
     ]
    },
    {
     "name": "stderr",
     "output_type": "stream",
     "text": [
      "e:\\anaconda\\envs\\deeplearning\\lib\\site-packages\\ipykernel_launcher.py:45: DeprecationWarning: elementwise comparison failed; this will raise an error in the future.\n",
      "e:\\anaconda\\envs\\deeplearning\\lib\\site-packages\\sklearn\\semi_supervised\\label_propagation.py:293: RuntimeWarning: invalid value encountered in true_divide\n",
      "  self.label_distributions_ /= normalizer\n"
     ]
    },
    {
     "name": "stdout",
     "output_type": "stream",
     "text": [
      "Iteration 4 ______________________________________________________________________\n",
      "Label Spreading model: 2200 labeled & 2800 unlabeled (5000 total)\n"
     ]
    },
    {
     "name": "stderr",
     "output_type": "stream",
     "text": [
      "e:\\anaconda\\envs\\deeplearning\\lib\\site-packages\\sklearn\\metrics\\classification.py:1437: UndefinedMetricWarning: Precision and F-score are ill-defined and being set to 0.0 in labels with no predicted samples.\n",
      "  'precision', 'predicted', average, warn_for)\n"
     ]
    },
    {
     "name": "stdout",
     "output_type": "stream",
     "text": [
      "              precision    recall  f1-score   support\n",
      "\n",
      "         1.0       0.31      1.00      0.47      1243\n",
      "         2.0       0.00      0.00      0.00      1187\n",
      "         3.0       0.00      0.00      0.00      1496\n",
      "         4.0       0.00      0.00      0.00        74\n",
      "\n",
      "    accuracy                           0.31      4000\n",
      "   macro avg       0.08      0.25      0.12      4000\n",
      "weighted avg       0.10      0.31      0.15      4000\n",
      "\n",
      "Confusion matrix\n",
      "[[1243    0    0    0]\n",
      " [1187    0    0    0]\n",
      " [1496    0    0    0]\n",
      " [  74    0    0    0]]\n"
     ]
    },
    {
     "name": "stderr",
     "output_type": "stream",
     "text": [
      "e:\\anaconda\\envs\\deeplearning\\lib\\site-packages\\ipykernel_launcher.py:45: DeprecationWarning: elementwise comparison failed; this will raise an error in the future.\n",
      "e:\\anaconda\\envs\\deeplearning\\lib\\site-packages\\sklearn\\semi_supervised\\label_propagation.py:293: RuntimeWarning: invalid value encountered in true_divide\n",
      "  self.label_distributions_ /= normalizer\n"
     ]
    },
    {
     "name": "stdout",
     "output_type": "stream",
     "text": [
      "Iteration 5 ______________________________________________________________________\n",
      "Label Spreading model: 2500 labeled & 2500 unlabeled (5000 total)\n"
     ]
    },
    {
     "name": "stderr",
     "output_type": "stream",
     "text": [
      "e:\\anaconda\\envs\\deeplearning\\lib\\site-packages\\sklearn\\metrics\\classification.py:1437: UndefinedMetricWarning: Precision and F-score are ill-defined and being set to 0.0 in labels with no predicted samples.\n",
      "  'precision', 'predicted', average, warn_for)\n"
     ]
    },
    {
     "name": "stdout",
     "output_type": "stream",
     "text": [
      "              precision    recall  f1-score   support\n",
      "\n",
      "         1.0       0.31      1.00      0.47      1243\n",
      "         2.0       0.00      0.00      0.00      1187\n",
      "         3.0       0.00      0.00      0.00      1496\n",
      "         4.0       0.00      0.00      0.00        74\n",
      "\n",
      "    accuracy                           0.31      4000\n",
      "   macro avg       0.08      0.25      0.12      4000\n",
      "weighted avg       0.10      0.31      0.15      4000\n",
      "\n",
      "Confusion matrix\n",
      "[[1243    0    0    0]\n",
      " [1187    0    0    0]\n",
      " [1496    0    0    0]\n",
      " [  74    0    0    0]]\n"
     ]
    },
    {
     "name": "stderr",
     "output_type": "stream",
     "text": [
      "e:\\anaconda\\envs\\deeplearning\\lib\\site-packages\\ipykernel_launcher.py:45: DeprecationWarning: elementwise comparison failed; this will raise an error in the future.\n",
      "e:\\anaconda\\envs\\deeplearning\\lib\\site-packages\\sklearn\\semi_supervised\\label_propagation.py:293: RuntimeWarning: invalid value encountered in true_divide\n",
      "  self.label_distributions_ /= normalizer\n"
     ]
    },
    {
     "name": "stdout",
     "output_type": "stream",
     "text": [
      "Iteration 6 ______________________________________________________________________\n",
      "Label Spreading model: 2800 labeled & 2200 unlabeled (5000 total)\n"
     ]
    },
    {
     "name": "stderr",
     "output_type": "stream",
     "text": [
      "e:\\anaconda\\envs\\deeplearning\\lib\\site-packages\\sklearn\\metrics\\classification.py:1437: UndefinedMetricWarning: Precision and F-score are ill-defined and being set to 0.0 in labels with no predicted samples.\n",
      "  'precision', 'predicted', average, warn_for)\n"
     ]
    },
    {
     "name": "stdout",
     "output_type": "stream",
     "text": [
      "              precision    recall  f1-score   support\n",
      "\n",
      "         1.0       0.31      1.00      0.47      1243\n",
      "         2.0       0.00      0.00      0.00      1187\n",
      "         3.0       0.00      0.00      0.00      1496\n",
      "         4.0       0.00      0.00      0.00        74\n",
      "\n",
      "    accuracy                           0.31      4000\n",
      "   macro avg       0.08      0.25      0.12      4000\n",
      "weighted avg       0.10      0.31      0.15      4000\n",
      "\n",
      "Confusion matrix\n",
      "[[1243    0    0    0]\n",
      " [1187    0    0    0]\n",
      " [1496    0    0    0]\n",
      " [  74    0    0    0]]\n"
     ]
    },
    {
     "name": "stderr",
     "output_type": "stream",
     "text": [
      "e:\\anaconda\\envs\\deeplearning\\lib\\site-packages\\ipykernel_launcher.py:45: DeprecationWarning: elementwise comparison failed; this will raise an error in the future.\n",
      "e:\\anaconda\\envs\\deeplearning\\lib\\site-packages\\sklearn\\semi_supervised\\label_propagation.py:293: RuntimeWarning: invalid value encountered in true_divide\n",
      "  self.label_distributions_ /= normalizer\n"
     ]
    },
    {
     "name": "stdout",
     "output_type": "stream",
     "text": [
      "Iteration 7 ______________________________________________________________________\n",
      "Label Spreading model: 3100 labeled & 1900 unlabeled (5000 total)\n"
     ]
    },
    {
     "name": "stderr",
     "output_type": "stream",
     "text": [
      "e:\\anaconda\\envs\\deeplearning\\lib\\site-packages\\sklearn\\metrics\\classification.py:1437: UndefinedMetricWarning: Precision and F-score are ill-defined and being set to 0.0 in labels with no predicted samples.\n",
      "  'precision', 'predicted', average, warn_for)\n"
     ]
    },
    {
     "name": "stdout",
     "output_type": "stream",
     "text": [
      "              precision    recall  f1-score   support\n",
      "\n",
      "         1.0       0.31      1.00      0.47      1243\n",
      "         2.0       0.00      0.00      0.00      1187\n",
      "         3.0       0.00      0.00      0.00      1496\n",
      "         4.0       0.00      0.00      0.00        74\n",
      "\n",
      "    accuracy                           0.31      4000\n",
      "   macro avg       0.08      0.25      0.12      4000\n",
      "weighted avg       0.10      0.31      0.15      4000\n",
      "\n",
      "Confusion matrix\n",
      "[[1243    0    0    0]\n",
      " [1187    0    0    0]\n",
      " [1496    0    0    0]\n",
      " [  74    0    0    0]]\n"
     ]
    },
    {
     "name": "stderr",
     "output_type": "stream",
     "text": [
      "e:\\anaconda\\envs\\deeplearning\\lib\\site-packages\\ipykernel_launcher.py:45: DeprecationWarning: elementwise comparison failed; this will raise an error in the future.\n",
      "e:\\anaconda\\envs\\deeplearning\\lib\\site-packages\\sklearn\\semi_supervised\\label_propagation.py:293: RuntimeWarning: invalid value encountered in true_divide\n",
      "  self.label_distributions_ /= normalizer\n"
     ]
    },
    {
     "name": "stdout",
     "output_type": "stream",
     "text": [
      "Iteration 8 ______________________________________________________________________\n",
      "Label Spreading model: 3400 labeled & 1600 unlabeled (5000 total)\n"
     ]
    },
    {
     "name": "stderr",
     "output_type": "stream",
     "text": [
      "e:\\anaconda\\envs\\deeplearning\\lib\\site-packages\\sklearn\\metrics\\classification.py:1437: UndefinedMetricWarning: Precision and F-score are ill-defined and being set to 0.0 in labels with no predicted samples.\n",
      "  'precision', 'predicted', average, warn_for)\n"
     ]
    },
    {
     "name": "stdout",
     "output_type": "stream",
     "text": [
      "              precision    recall  f1-score   support\n",
      "\n",
      "         1.0       0.31      1.00      0.47      1243\n",
      "         2.0       0.00      0.00      0.00      1187\n",
      "         3.0       0.00      0.00      0.00      1496\n",
      "         4.0       0.00      0.00      0.00        74\n",
      "\n",
      "    accuracy                           0.31      4000\n",
      "   macro avg       0.08      0.25      0.12      4000\n",
      "weighted avg       0.10      0.31      0.15      4000\n",
      "\n",
      "Confusion matrix\n",
      "[[1243    0    0    0]\n",
      " [1187    0    0    0]\n",
      " [1496    0    0    0]\n",
      " [  74    0    0    0]]\n"
     ]
    },
    {
     "name": "stderr",
     "output_type": "stream",
     "text": [
      "e:\\anaconda\\envs\\deeplearning\\lib\\site-packages\\ipykernel_launcher.py:45: DeprecationWarning: elementwise comparison failed; this will raise an error in the future.\n",
      "e:\\anaconda\\envs\\deeplearning\\lib\\site-packages\\sklearn\\semi_supervised\\label_propagation.py:293: RuntimeWarning: invalid value encountered in true_divide\n",
      "  self.label_distributions_ /= normalizer\n"
     ]
    },
    {
     "name": "stdout",
     "output_type": "stream",
     "text": [
      "Iteration 9 ______________________________________________________________________\n",
      "Label Spreading model: 3700 labeled & 1300 unlabeled (5000 total)\n"
     ]
    },
    {
     "name": "stderr",
     "output_type": "stream",
     "text": [
      "e:\\anaconda\\envs\\deeplearning\\lib\\site-packages\\sklearn\\metrics\\classification.py:1437: UndefinedMetricWarning: Precision and F-score are ill-defined and being set to 0.0 in labels with no predicted samples.\n",
      "  'precision', 'predicted', average, warn_for)\n"
     ]
    },
    {
     "name": "stdout",
     "output_type": "stream",
     "text": [
      "              precision    recall  f1-score   support\n",
      "\n",
      "         1.0       0.31      1.00      0.47      1243\n",
      "         2.0       0.00      0.00      0.00      1187\n",
      "         3.0       0.00      0.00      0.00      1496\n",
      "         4.0       0.00      0.00      0.00        74\n",
      "\n",
      "    accuracy                           0.31      4000\n",
      "   macro avg       0.08      0.25      0.12      4000\n",
      "weighted avg       0.10      0.31      0.15      4000\n",
      "\n",
      "Confusion matrix\n",
      "[[1243    0    0    0]\n",
      " [1187    0    0    0]\n",
      " [1496    0    0    0]\n",
      " [  74    0    0    0]]\n"
     ]
    },
    {
     "name": "stderr",
     "output_type": "stream",
     "text": [
      "e:\\anaconda\\envs\\deeplearning\\lib\\site-packages\\ipykernel_launcher.py:45: DeprecationWarning: elementwise comparison failed; this will raise an error in the future.\n"
     ]
    },
    {
     "data": {
      "text/plain": [
       "<Figure size 432x288 with 0 Axes>"
      ]
     },
     "metadata": {},
     "output_type": "display_data"
    }
   ],
   "source": [
    "for i in range(max_iterations):\n",
    "    if len(unlabeled_indices) == 0:\n",
    "        print(\"No unlabeled items left to label.\")\n",
    "        break\n",
    "    y_train = np.copy(y)\n",
    "    y_train[unlabeled_indices] = -1\n",
    "\n",
    "    lp_model = label_propagation.LabelSpreading(gamma=0.25, max_iter=20)\n",
    "    lp_model.fit(x_train, y_train)\n",
    "\n",
    "    predicted_labels = lp_model.transduction_[unlabeled_indices]\n",
    "    true_labels = y[unlabeled_indices]\n",
    "\n",
    "    cm = confusion_matrix(true_labels, predicted_labels,\n",
    "                          labels=lp_model.classes_)\n",
    "\n",
    "    print(\"Iteration %i %s\" % (i, 70 * \"_\"))\n",
    "    print(\"Label Spreading model: %d labeled & %d unlabeled (%d total)\"\n",
    "          % (n_labeled_points, n_total_samples - n_labeled_points,\n",
    "             n_total_samples))\n",
    "    print(classification_report(true_labels, predicted_labels))\n",
    "    print(\"Confusion matrix\")\n",
    "    print(cm)\n",
    "\n",
    "    # compute the entropies of transduced label distributions\n",
    "    pred_entropies = stats.distributions.entropy(\n",
    "        lp_model.label_distributions_.T)\n",
    "\n",
    "    # select up to 5 digit examples that the classifier is most uncertain about\n",
    "    uncertainty_index = np.argsort(pred_entropies)[::-1]\n",
    "    uncertainty_index = uncertainty_index[\n",
    "        np.in1d(uncertainty_index, unlabeled_indices)][:300]\n",
    "\n",
    "    # keep track of indices that we get labels for\n",
    "    delete_indices = np.array([], dtype=int)\n",
    "\n",
    "    # for more than 5 iterations, visualize the gain only on the first 5\n",
    "    if i < 5:\n",
    "        f.text(.05, (1 - (i + 1) * .183),\n",
    "               \"model %d\\n\\nfit with\\n%d labels\" %\n",
    "               ((i + 1), i * 5 + 10), size=10)\n",
    "    for index in enumerate(uncertainty_index):\n",
    "        # for more than 5 iterations, visualize the gain only on the first 5\n",
    "        # labeling 5 points, remote from labeled set\n",
    "        delete_index, = np.where(unlabeled_indices == index)\n",
    "        delete_indices = np.concatenate((delete_indices, delete_index))\n",
    "\n",
    "    unlabeled_indices = np.delete(unlabeled_indices, delete_indices)\n",
    "    n_labeled_points += len(uncertainty_index)\n",
    "\n",
    "f.suptitle(\"Active learning with Label Propagation.\\nRows show 5 most \"\n",
    "           \"uncertain labels to learn with the next model.\", y=1.15)\n",
    "plt.subplots_adjust(left=0.2, bottom=0.03, right=0.9, top=0.9, wspace=0.2,\n",
    "                    hspace=0.85)\n",
    "plt.show()"
   ]
  },
  {
   "cell_type": "code",
   "execution_count": null,
   "metadata": {},
   "outputs": [],
   "source": []
  }
 ],
 "metadata": {
  "kernelspec": {
   "display_name": "Python 3",
   "language": "python",
   "name": "python3"
  },
  "language_info": {
   "codemirror_mode": {
    "name": "ipython",
    "version": 3
   },
   "file_extension": ".py",
   "mimetype": "text/x-python",
   "name": "python",
   "nbconvert_exporter": "python",
   "pygments_lexer": "ipython3",
   "version": "3.7.4"
  }
 },
 "nbformat": 4,
 "nbformat_minor": 2
}
