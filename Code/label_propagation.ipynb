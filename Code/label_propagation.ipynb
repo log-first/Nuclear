{
 "cells": [
  {
   "cell_type": "code",
   "execution_count": 19,
   "metadata": {},
   "outputs": [],
   "source": [
    "import numpy as np\n",
    "import pandas as pd \n",
    "import matplotlib.pyplot as plt\n",
    "\n",
    "import time\n",
    "from tqdm import tqdm_notebook\n",
    "from sklearn.semi_supervised import label_propagation\n",
    "from sklearn.metrics import confusion_matrix, classification_report\n",
    "from scipy import stats\n",
    "from sklearn.decomposition import PCA"
   ]
  },
  {
   "cell_type": "markdown",
   "metadata": {},
   "source": [
    "### 1  加载数据"
   ]
  },
  {
   "cell_type": "code",
   "execution_count": 2,
   "metadata": {},
   "outputs": [
    {
     "data": {
      "text/html": [
       "<div>\n",
       "<style scoped>\n",
       "    .dataframe tbody tr th:only-of-type {\n",
       "        vertical-align: middle;\n",
       "    }\n",
       "\n",
       "    .dataframe tbody tr th {\n",
       "        vertical-align: top;\n",
       "    }\n",
       "\n",
       "    .dataframe thead th {\n",
       "        text-align: right;\n",
       "    }\n",
       "</style>\n",
       "<table border=\"1\" class=\"dataframe\">\n",
       "  <thead>\n",
       "    <tr style=\"text-align: right;\">\n",
       "      <th></th>\n",
       "      <th>Unnamed: 0</th>\n",
       "      <th>0</th>\n",
       "      <th>1</th>\n",
       "      <th>2</th>\n",
       "      <th>3</th>\n",
       "      <th>4</th>\n",
       "      <th>5</th>\n",
       "      <th>6</th>\n",
       "      <th>7</th>\n",
       "      <th>8</th>\n",
       "      <th>...</th>\n",
       "      <th>4991</th>\n",
       "      <th>4992</th>\n",
       "      <th>4993</th>\n",
       "      <th>4994</th>\n",
       "      <th>4995</th>\n",
       "      <th>4996</th>\n",
       "      <th>4997</th>\n",
       "      <th>4998</th>\n",
       "      <th>4999</th>\n",
       "      <th>5000</th>\n",
       "    </tr>\n",
       "  </thead>\n",
       "  <tbody>\n",
       "    <tr>\n",
       "      <td>0</td>\n",
       "      <td>0</td>\n",
       "      <td>97.0</td>\n",
       "      <td>101.0</td>\n",
       "      <td>77.0</td>\n",
       "      <td>74.0</td>\n",
       "      <td>90.0</td>\n",
       "      <td>88.0</td>\n",
       "      <td>30.0</td>\n",
       "      <td>29.0</td>\n",
       "      <td>241.0</td>\n",
       "      <td>...</td>\n",
       "      <td>37.0</td>\n",
       "      <td>33.0</td>\n",
       "      <td>195.0</td>\n",
       "      <td>196.0</td>\n",
       "      <td>34.0</td>\n",
       "      <td>31.0</td>\n",
       "      <td>42.0</td>\n",
       "      <td>44.0</td>\n",
       "      <td>77.0</td>\n",
       "      <td>0.0</td>\n",
       "    </tr>\n",
       "    <tr>\n",
       "      <td>1</td>\n",
       "      <td>1</td>\n",
       "      <td>79.0</td>\n",
       "      <td>74.0</td>\n",
       "      <td>141.0</td>\n",
       "      <td>143.0</td>\n",
       "      <td>235.0</td>\n",
       "      <td>237.0</td>\n",
       "      <td>32.0</td>\n",
       "      <td>31.0</td>\n",
       "      <td>68.0</td>\n",
       "      <td>...</td>\n",
       "      <td>90.0</td>\n",
       "      <td>88.0</td>\n",
       "      <td>31.0</td>\n",
       "      <td>31.0</td>\n",
       "      <td>58.0</td>\n",
       "      <td>60.0</td>\n",
       "      <td>28.0</td>\n",
       "      <td>27.0</td>\n",
       "      <td>26.0</td>\n",
       "      <td>0.0</td>\n",
       "    </tr>\n",
       "    <tr>\n",
       "      <td>2</td>\n",
       "      <td>2</td>\n",
       "      <td>82.0</td>\n",
       "      <td>85.0</td>\n",
       "      <td>51.0</td>\n",
       "      <td>51.0</td>\n",
       "      <td>52.0</td>\n",
       "      <td>53.0</td>\n",
       "      <td>119.0</td>\n",
       "      <td>119.0</td>\n",
       "      <td>152.0</td>\n",
       "      <td>...</td>\n",
       "      <td>38.0</td>\n",
       "      <td>67.0</td>\n",
       "      <td>66.0</td>\n",
       "      <td>134.0</td>\n",
       "      <td>134.0</td>\n",
       "      <td>32.0</td>\n",
       "      <td>33.0</td>\n",
       "      <td>98.0</td>\n",
       "      <td>100.0</td>\n",
       "      <td>0.0</td>\n",
       "    </tr>\n",
       "    <tr>\n",
       "      <td>3</td>\n",
       "      <td>3</td>\n",
       "      <td>46.0</td>\n",
       "      <td>49.0</td>\n",
       "      <td>30.0</td>\n",
       "      <td>29.0</td>\n",
       "      <td>85.0</td>\n",
       "      <td>85.0</td>\n",
       "      <td>62.0</td>\n",
       "      <td>62.0</td>\n",
       "      <td>245.0</td>\n",
       "      <td>...</td>\n",
       "      <td>34.0</td>\n",
       "      <td>103.0</td>\n",
       "      <td>101.0</td>\n",
       "      <td>52.0</td>\n",
       "      <td>52.0</td>\n",
       "      <td>82.0</td>\n",
       "      <td>78.0</td>\n",
       "      <td>46.0</td>\n",
       "      <td>46.0</td>\n",
       "      <td>0.0</td>\n",
       "    </tr>\n",
       "    <tr>\n",
       "      <td>4</td>\n",
       "      <td>4</td>\n",
       "      <td>50.0</td>\n",
       "      <td>50.0</td>\n",
       "      <td>232.0</td>\n",
       "      <td>232.0</td>\n",
       "      <td>30.0</td>\n",
       "      <td>36.0</td>\n",
       "      <td>180.0</td>\n",
       "      <td>181.0</td>\n",
       "      <td>88.0</td>\n",
       "      <td>...</td>\n",
       "      <td>53.0</td>\n",
       "      <td>58.0</td>\n",
       "      <td>45.0</td>\n",
       "      <td>43.0</td>\n",
       "      <td>67.0</td>\n",
       "      <td>67.0</td>\n",
       "      <td>64.0</td>\n",
       "      <td>63.0</td>\n",
       "      <td>28.0</td>\n",
       "      <td>0.0</td>\n",
       "    </tr>\n",
       "  </tbody>\n",
       "</table>\n",
       "<p>5 rows × 5002 columns</p>\n",
       "</div>"
      ],
      "text/plain": [
       "   Unnamed: 0     0      1      2      3      4      5      6      7      8  \\\n",
       "0           0  97.0  101.0   77.0   74.0   90.0   88.0   30.0   29.0  241.0   \n",
       "1           1  79.0   74.0  141.0  143.0  235.0  237.0   32.0   31.0   68.0   \n",
       "2           2  82.0   85.0   51.0   51.0   52.0   53.0  119.0  119.0  152.0   \n",
       "3           3  46.0   49.0   30.0   29.0   85.0   85.0   62.0   62.0  245.0   \n",
       "4           4  50.0   50.0  232.0  232.0   30.0   36.0  180.0  181.0   88.0   \n",
       "\n",
       "   ...  4991   4992   4993   4994   4995  4996  4997  4998   4999  5000  \n",
       "0  ...  37.0   33.0  195.0  196.0   34.0  31.0  42.0  44.0   77.0   0.0  \n",
       "1  ...  90.0   88.0   31.0   31.0   58.0  60.0  28.0  27.0   26.0   0.0  \n",
       "2  ...  38.0   67.0   66.0  134.0  134.0  32.0  33.0  98.0  100.0   0.0  \n",
       "3  ...  34.0  103.0  101.0   52.0   52.0  82.0  78.0  46.0   46.0   0.0  \n",
       "4  ...  53.0   58.0   45.0   43.0   67.0  67.0  64.0  63.0   28.0   0.0  \n",
       "\n",
       "[5 rows x 5002 columns]"
      ]
     },
     "execution_count": 2,
     "metadata": {},
     "output_type": "execute_result"
    }
   ],
   "source": [
    "dataSet = pd.read_csv('../Cs137data/re_bp_SetData.csv')\n",
    "dataSet.head()"
   ]
  },
  {
   "cell_type": "code",
   "execution_count": 10,
   "metadata": {},
   "outputs": [
    {
     "data": {
      "text/plain": [
       "((7317, 5000), (7317,))"
      ]
     },
     "execution_count": 10,
     "metadata": {},
     "output_type": "execute_result"
    }
   ],
   "source": [
    "X = dataSet.values[:, 1: 5001]\n",
    "Y = dataSet.values[:, -1]\n",
    "\n",
    "# 删除本底数据，得到新的训练数据\n",
    "X1 = np.delete(X, np.where(Y == 0)[0], axis=0)\n",
    "X1 = X1 / np.max(X1)\n",
    "Y1 = np.delete(Y, np.where(Y == 0)[0], axis=0)\n",
    "X1.shape, Y1.shape"
   ]
  },
  {
   "cell_type": "code",
   "execution_count": 11,
   "metadata": {},
   "outputs": [
    {
     "data": {
      "text/plain": [
       "7316"
      ]
     },
     "execution_count": 11,
     "metadata": {},
     "output_type": "execute_result"
    }
   ],
   "source": [
    "rng = np.random.RandomState(2)\n",
    "indices = np.arange(X1.shape[0])\n",
    "rng.shuffle(indices)\n",
    "indices.max()"
   ]
  },
  {
   "cell_type": "code",
   "execution_count": 12,
   "metadata": {},
   "outputs": [
    {
     "data": {
      "text/plain": [
       "(array([[0.42971888, 0.7751004 , 0.7751004 , ..., 0.12851406, 0.12449799,\n",
       "         0.21686747],\n",
       "        [0.45783133, 0.58232932, 0.58634538, ..., 0.20883534, 0.22088353,\n",
       "         0.38955823],\n",
       "        [0.18875502, 0.18473896, 0.28915663, ..., 0.25702811, 0.24096386,\n",
       "         0.13654618],\n",
       "        [0.29718876, 0.30120482, 0.07228916, ..., 0.19277108, 0.19277108,\n",
       "         0.18473896],\n",
       "        [0.79116466, 0.15261044, 0.39759036, ..., 0.1124498 , 0.11646586,\n",
       "         0.12449799]]), array([3., 3., 2., 2., 3.]))"
      ]
     },
     "execution_count": 12,
     "metadata": {},
     "output_type": "execute_result"
    }
   ],
   "source": [
    "x_train = X1[indices[ :3000]]\n",
    "y = Y1[indices[ :3000]]\n",
    "x_train[:5, :], y[:5]"
   ]
  },
  {
   "cell_type": "code",
   "execution_count": 13,
   "metadata": {},
   "outputs": [
    {
     "data": {
      "text/plain": [
       "(2500,)"
      ]
     },
     "execution_count": 13,
     "metadata": {},
     "output_type": "execute_result"
    }
   ],
   "source": [
    "n_total_sample = y.shape[0]\n",
    "n_labeled_points = 500\n",
    "max_iterations = 5\n",
    "\n",
    "# 后面 2500 个数据未被标签\n",
    "unlabeled_indices = np.arange(n_total_sample)[n_labeled_points: ]\n",
    "unlabeled_indices.shape"
   ]
  },
  {
   "cell_type": "code",
   "execution_count": 14,
   "metadata": {},
   "outputs": [
    {
     "data": {
      "text/plain": [
       "array([ 3.,  3.,  2., ..., -1., -1., -1.])"
      ]
     },
     "execution_count": 14,
     "metadata": {},
     "output_type": "execute_result"
    }
   ],
   "source": [
    "y_train = np.copy(y)\n",
    "y_train[unlabeled_indices] = -1\n",
    "y_train"
   ]
  },
  {
   "cell_type": "code",
   "execution_count": 20,
   "metadata": {},
   "outputs": [],
   "source": [
    "def data_pca(dataSet, COMPONENT_NUM):\n",
    "    start = time.time()\n",
    "    print(\"====>>===>>===>> PCA \")\n",
    "    pca = PCA(n_components=COMPONENT_NUM, copy=True, whiten=False)  # 创建一个 PCA 对象\n",
    "    pca.fit(dataSet)    # 构建 PCA 模型\n",
    "    pcaXTrain = pca.transform(dataSet)\n",
    "    # pcaXTest = pca.transform(x_test)\n",
    "    print('pca time is %0.3fs' % (time.time() - start))\n",
    "    return pcaXTrain"
   ]
  },
  {
   "cell_type": "code",
   "execution_count": 21,
   "metadata": {},
   "outputs": [
    {
     "name": "stdout",
     "output_type": "stream",
     "text": [
      "====>>===>>===>> PCA \n",
      "pca time is 143.552s\n"
     ]
    },
    {
     "data": {
      "text/plain": [
       "array([[ 4.42038159e+00,  8.57917234e-02, -3.09075014e-01, ...,\n",
       "         9.10819946e-02,  1.97234393e-03, -1.47497017e-02],\n",
       "       [ 4.34248476e+00,  2.82932737e-01,  3.02745594e-01, ...,\n",
       "         1.59299290e-01, -2.16621990e-02,  2.09502261e-01],\n",
       "       [ 4.34081479e+00, -1.07727230e-01,  6.13420402e-02, ...,\n",
       "         2.81632415e-02,  2.75935421e-03,  1.20106537e-01],\n",
       "       [ 4.26617736e+00,  2.86449078e-02,  4.90487192e-01, ...,\n",
       "        -5.56877910e-02,  4.16500367e-02, -3.03900693e-02],\n",
       "       [ 4.28606221e+00, -1.67505656e-01,  1.43922287e-01, ...,\n",
       "        -1.64488462e-01,  1.78066734e-02, -4.25832159e-02]])"
      ]
     },
     "execution_count": 21,
     "metadata": {},
     "output_type": "execute_result"
    }
   ],
   "source": [
    "X1 = data_pca(X1, 0.95)\n",
    "X1[: 5, ]"
   ]
  },
  {
   "cell_type": "markdown",
   "metadata": {},
   "source": [
    "### 2 训练模型\n",
    "#### keyValue = {'BenDi': 0, 'Cs137': 1, 'CsGo': 2, 'Cs': 1, 'G60': 3, 'Eu155': 4}"
   ]
  },
  {
   "cell_type": "code",
   "execution_count": 22,
   "metadata": {},
   "outputs": [
    {
     "data": {
      "text/plain": [
       "LabelSpreading(alpha=0.2, gamma=0.25, kernel='rbf', max_iter=20, n_jobs=None,\n",
       "               n_neighbors=7, tol=0.001)"
      ]
     },
     "execution_count": 22,
     "metadata": {},
     "output_type": "execute_result"
    }
   ],
   "source": [
    "lp_model = label_propagation.LabelSpreading(gamma=0.25, max_iter=20)\n",
    "lp_model.fit(x_train, y_train)"
   ]
  },
  {
   "cell_type": "code",
   "execution_count": 23,
   "metadata": {},
   "outputs": [
    {
     "data": {
      "text/plain": [
       "((2500,),\n",
       " array([1., 1., 1., ..., 1., 1., 1.]),\n",
       " array([2., 2., 1., ..., 3., 1., 3.]))"
      ]
     },
     "execution_count": 23,
     "metadata": {},
     "output_type": "execute_result"
    }
   ],
   "source": [
    "predicted_labels = lp_model.transduction_[unlabeled_indices]\n",
    "# 未标记的样本点的真实标签\n",
    "true_labels = y[unlabeled_indices]  \n",
    "predicted_labels.shape, predicted_labels, true_labels"
   ]
  },
  {
   "cell_type": "code",
   "execution_count": 24,
   "metadata": {},
   "outputs": [
    {
     "data": {
      "image/png": "[encoded data removed]",
      "text/plain": [
       "<Figure size 1152x288 with 2 Axes>"
      ]
     },
     "metadata": {
      "needs_background": "light"
     },
     "output_type": "display_data"
    }
   ],
   "source": [
    "fig, axes = plt.subplots(ncols=2, figsize=(16, 4))\n",
    "axes[0].scatter(range(2500), predicted_labels, c='c')\n",
    "axes[1].scatter(range(2500), true_labels, s=0.2, c='c')\n",
    "plt.show()"
   ]
  },
  {
   "cell_type": "code",
   "execution_count": 25,
   "metadata": {},
   "outputs": [
    {
     "data": {
      "image/png": "[encoded data removed]",
      "text/plain": [
       "<Figure size 1152x288 with 2 Axes>"
      ]
     },
     "metadata": {
      "needs_background": "light"
     },
     "output_type": "display_data"
    }
   ],
   "source": [
    "fig, axes = plt.subplots(ncols=2, figsize=(16, 4))\n",
    "axes[0].scatter(range(500), y_train[:500], s=0.2, c='c')\n",
    "axes[1].scatter(range(3000), y, s=0.2, c='c')\n",
    "plt.show()"
   ]
  },
  {
   "cell_type": "markdown",
   "metadata": {},
   "source": [
    "### 3 度量训练效果"
   ]
  },
  {
   "cell_type": "code",
   "execution_count": 26,
   "metadata": {},
   "outputs": [
    {
     "data": {
      "text/plain": [
       "(array([[787,   0,   0,   0],\n",
       "        [741,   0,   0,   0],\n",
       "        [855,  60,   6,   0],\n",
       "        [ 51,   0,   0,   0]], dtype=int64), (4, 4))"
      ]
     },
     "execution_count": 26,
     "metadata": {},
     "output_type": "execute_result"
    }
   ],
   "source": [
    "cm = confusion_matrix(true_labels, predicted_labels, labels=lp_model.classes_)\n",
    "cm, cm.shape"
   ]
  },
  {
   "cell_type": "code",
   "execution_count": 27,
   "metadata": {},
   "outputs": [
    {
     "name": "stderr",
     "output_type": "stream",
     "text": [
      "e:\\anaconda\\envs\\deeplearning\\lib\\site-packages\\sklearn\\metrics\\classification.py:1437: UndefinedMetricWarning: Precision and F-score are ill-defined and being set to 0.0 in labels with no predicted samples.\n",
      "  'precision', 'predicted', average, warn_for)\n"
     ]
    },
    {
     "name": "stdout",
     "output_type": "stream",
     "text": [
      "              precision    recall  f1-score   support\n",
      "\n",
      "         1.0       0.32      1.00      0.49       787\n",
      "         2.0       0.00      0.00      0.00       741\n",
      "         3.0       1.00      0.01      0.01       921\n",
      "         4.0       0.00      0.00      0.00        51\n",
      "\n",
      "    accuracy                           0.32      2500\n",
      "   macro avg       0.33      0.25      0.13      2500\n",
      "weighted avg       0.47      0.32      0.16      2500\n",
      "\n"
     ]
    }
   ],
   "source": [
    "print(classification_report(true_labels, predicted_labels))"
   ]
  },
  {
   "cell_type": "code",
   "execution_count": 98,
   "metadata": {},
   "outputs": [
    {
     "data": {
      "text/plain": [
       "array([ 0.,  0.,  0., ..., nan, nan, nan])"
      ]
     },
     "execution_count": 98,
     "metadata": {},
     "output_type": "execute_result"
    }
   ],
   "source": [
    "pred_entropies = stats.distributions.entropy(lp_model.label_distributions_.T)\n",
    "pred_entropies"
   ]
  },
  {
   "cell_type": "code",
   "execution_count": 99,
   "metadata": {},
   "outputs": [
    {
     "data": {
      "text/plain": [
       "array([2999, 1332, 1340, 1339, 1338, 1337, 1336, 1334, 1333, 1331, 1322,\n",
       "       1330, 1329, 1328, 1327, 1326, 1325, 1324, 1341, 1342, 1343, 1344,\n",
       "       1359, 1358, 1357, 1356, 1355, 1354, 1353, 1352, 1351, 1350, 1349,\n",
       "       1348, 1347, 1346, 1345, 1323, 1321, 1361, 1293, 1300, 1299, 1298,\n",
       "       1297, 1296, 1295, 1294, 1292, 1320, 1291, 1290, 1289, 1288, 1287,\n",
       "       1286, 1285, 1301, 1302, 1303, 1304, 1319, 1318, 1317, 1316, 1315,\n",
       "       1314, 1313, 1312, 1311, 1310, 1309, 1308, 1307, 1306, 1305, 1360,\n",
       "       1362, 1283, 1411, 1418, 1417, 1416, 1415, 1414, 1413, 1412, 1410,\n",
       "       1401, 1409, 1408, 1407, 1406, 1405, 1404, 1403, 1419, 1420, 1421,\n",
       "       1422], dtype=int64)"
      ]
     },
     "execution_count": 99,
     "metadata": {},
     "output_type": "execute_result"
    }
   ],
   "source": [
    "# select up to 5 digit examples that the classifier is most uncertain about\n",
    "# 找到熵最大的索引值\n",
    "uncertainty_index = np.argsort(pred_entropies)[::-1]\n",
    "uncertainty_index = uncertainty_index[np.in1d(uncertainty_index, unlabeled_indices)][:100]\n",
    "uncertainty_index"
   ]
  },
  {
   "cell_type": "code",
   "execution_count": 100,
   "metadata": {},
   "outputs": [
    {
     "data": {
      "image/png": "[encoded data removed]",
      "text/plain": [
       "<Figure size 1152x288 with 2 Axes>"
      ]
     },
     "metadata": {
      "needs_background": "light"
     },
     "output_type": "display_data"
    }
   ],
   "source": [
    "fig, axes = plt.subplots(ncols=2, figsize=(16, 4))\n",
    "axes[0].scatter(range(len(uncertainty_index)), y_train[uncertainty_index], s=0.5, c='r')\n",
    "plt.show()\n"
   ]
  },
  {
   "cell_type": "code",
   "execution_count": 101,
   "metadata": {},
   "outputs": [],
   "source": [
    "# keep track of indices that we get labels for\n",
    "delete_indices = np.array([], dtype=int)"
   ]
  },
  {
   "cell_type": "code",
   "execution_count": 102,
   "metadata": {},
   "outputs": [
    {
     "data": {
      "text/plain": [
       "(array([2499,  832,  840,  839,  838,  837,  836,  834,  833,  831,  822,\n",
       "         830,  829,  828,  827,  826,  825,  824,  841,  842,  843,  844,\n",
       "         859,  858,  857,  856,  855,  854,  853,  852,  851,  850,  849,\n",
       "         848,  847,  846,  845,  823,  821,  861,  793,  800,  799,  798,\n",
       "         797,  796,  795,  794,  792,  820,  791,  790,  789,  788,  787,\n",
       "         786,  785,  801,  802,  803,  804,  819,  818,  817,  816,  815,\n",
       "         814,  813,  812,  811,  810,  809,  808,  807,  806,  805,  860,\n",
       "         862,  783,  911,  918,  917,  916,  915,  914,  913,  912,  910,\n",
       "         901,  909,  908,  907,  906,  905,  904,  903,  919,  920,  921,\n",
       "         922], dtype=int64), (100,), 600)"
      ]
     },
     "execution_count": 102,
     "metadata": {},
     "output_type": "execute_result"
    }
   ],
   "source": [
    "# labeling 5 points, remote from labeled set\n",
    "for index, image_index in enumerate(uncertainty_index):\n",
    "    # labeling 5 points, remote from labeled set\n",
    "    # 找出熵最大的样本点在未标记索引中的位置\n",
    "    delete_index, = np.where(unlabeled_indices == image_index)\n",
    "    delete_indices = np.concatenate((delete_indices, delete_index))\n",
    "\n",
    "unlabeled_indices = np.delete(unlabeled_indices, delete_indices)\n",
    "n_labeled_points += len(uncertainty_index)\n",
    "delete_indices, delete_indices.shape, n_labeled_points"
   ]
  },
  {
   "cell_type": "markdown",
   "metadata": {},
   "source": [
    "### 3 第二次循环"
   ]
  },
  {
   "cell_type": "code",
   "execution_count": 103,
   "metadata": {},
   "outputs": [
    {
     "name": "stderr",
     "output_type": "stream",
     "text": [
      "e:\\anaconda\\envs\\deeplearning\\lib\\site-packages\\sklearn\\semi_supervised\\label_propagation.py:293: RuntimeWarning: invalid value encountered in true_divide\n",
      "  self.label_distributions_ /= normalizer\n"
     ]
    },
    {
     "data": {
      "text/plain": [
       "((2400,),\n",
       " array([1., 1., 1., ..., 1., 1., 1.]),\n",
       " array([2., 2., 1., ..., 2., 3., 1.]))"
      ]
     },
     "execution_count": 103,
     "metadata": {},
     "output_type": "execute_result"
    }
   ],
   "source": [
    "y_train = np.copy(y)\n",
    "y_train[unlabeled_indices] = -1\n",
    "lp_model = label_propagation.LabelSpreading(gamma=0.25, max_iter=20)\n",
    "lp_model.fit(x_train, y_train)\n",
    "predicted_labels = lp_model.transduction_[unlabeled_indices]\n",
    "# 未标记的样本点的真实标签\n",
    "true_labels = y[unlabeled_indices]  \n",
    "predicted_labels.shape, predicted_labels, true_labels"
   ]
  },
  {
   "cell_type": "code",
   "execution_count": 105,
   "metadata": {},
   "outputs": [
    {
     "data": {
      "image/png": "[encoded data removed]",
      "text/plain": [
       "<Figure size 1152x288 with 2 Axes>"
      ]
     },
     "metadata": {
      "needs_background": "light"
     },
     "output_type": "display_data"
    }
   ],
   "source": [
    "fig, axes = plt.subplots(ncols=2, figsize=(16, 4))\n",
    "axes[0].scatter(range(2400), predicted_labels, c='c')\n",
    "axes[1].scatter(range(2400), true_labels, s=0.2, c='c')\n",
    "plt.show()"
   ]
  },
  {
   "cell_type": "code",
   "execution_count": null,
   "metadata": {},
   "outputs": [],
   "source": []
  }
 ],
 "metadata": {
  "kernelspec": {
   "display_name": "Python 3",
   "language": "python",
   "name": "python3"
  },
  "language_info": {
   "codemirror_mode": {
    "name": "ipython",
    "version": 3
   },
   "file_extension": ".py",
   "mimetype": "text/x-python",
   "name": "python",
   "nbconvert_exporter": "python",
   "pygments_lexer": "ipython3",
   "version": "3.7.4"
  }
 },
 "nbformat": 4,
 "nbformat_minor": 2
}
