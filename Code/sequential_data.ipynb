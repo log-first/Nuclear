{
 "cells": [
  {
   "cell_type": "code",
   "execution_count": 1,
   "metadata": {},
   "outputs": [],
   "source": [
    "import pandas as pd\n",
    "import numpy as np\n",
    "import matplotlib.pyplot as plt\n",
    "from os import listdir\n",
    "from tqdm import tqdm_notebook,tqdm\n",
    "import nucleus as ncl\n",
    "\n",
    "import d2lzh as d2l\n",
    "import mxnet\n",
    "import d2lzh as d2l\n",
    "from mxnet import gluon, init, nd\n",
    "from mxnet.gluon import data as gdata, nn\n",
    "from time import time\n",
    "import os\n",
    "import sys\n",
    "\n",
    "from tensorflow.keras import datasets, layers, models\n",
    "import matplotlib.pyplot as plt\n",
    "import tensorflow as tf\n",
    "\n",
    "import nucleus as nuc\n",
    "from sklearn.model_selection import train_test_split"
   ]
  },
  {
   "cell_type": "markdown",
   "metadata": {},
   "source": [
    "### 1  获取数据函数"
   ]
  },
  {
   "cell_type": "code",
   "execution_count": 51,
   "metadata": {},
   "outputs": [],
   "source": [
    "def get_pulse_data(filename):\n",
    "\n",
    "    fid = open(filename, 'rb')\n",
    "    pulseheight = []\n",
    "    realtime = []\n",
    "    da1 = []\n",
    "    da2 = []\n",
    "\n",
    "    fid.seek( 256, 0 )\n",
    "    data_array0 = np.fromfile(fid, dtype=np.uint32)\n",
    "\n",
    "    RTword = np.where((data_array0 >= 2**31) & (data_array0 < (2**31 + 2**30)))\n",
    "    RTwordcounts = RTword[0]\n",
    "    \n",
    "    fid.seek( 256, 0 )\n",
    "    # with pbar.ProgressBar(max_value=RTwordcounts.size) as bar: \n",
    "    for i in tqdm_notebook(range(0, RTwordcounts.size)):\n",
    "        fid.seek(RTwordcounts[i]*4, 1)\n",
    "        da = np.fromfile(fid, dtype = np.uint16, count = 1)\n",
    "        realtime10ms = da\n",
    "        da1.append(da[0])\n",
    "\n",
    "        fid.seek(14, 1)\n",
    "        # realtime200ns = []\n",
    "        while 1:\n",
    "            # data_array00 = np.fromfile(fid, dtype=np.uint32, count = 1)\n",
    "            data_array1 = np.fromfile(fid, dtype=np.uint16, count=1)\n",
    "            data_array2 = np.fromfile(fid, dtype=np.uint16, count=1)\n",
    "\n",
    "            if data_array2 < 2**15 + 2**14:\n",
    "                break\n",
    "            realtime200ns = data_array1[0]\n",
    "            # da2 = np.hstack((da2, realtime200ns))\n",
    "            realtime0 = realtime200ns * 200 * 1e-6 + realtime10ms * 10  # ns 换算为ms\n",
    "            realtime.append(realtime0)\n",
    "            pulseheight.append(data_array2 - (2 ** 15 + 2 ** 14))\n",
    "        fid.seek(256, 0)\n",
    "    pulseheight = np.array(pulseheight)\n",
    "    pulseheight = pulseheight.T\n",
    "\n",
    "    realtime = np.array(realtime)\n",
    "    realtime = realtime.T\n",
    "    realtimepulse = np.hstack((realtime, pulseheight))\n",
    "    \n",
    "    return pulseheight, realtime, realtimepulse"
   ]
  },
  {
   "cell_type": "markdown",
   "metadata": {},
   "source": [
    "### 2 获取数据文件夹的全部文件名"
   ]
  },
  {
   "cell_type": "code",
   "execution_count": 52,
   "metadata": {},
   "outputs": [
    {
     "data": {
      "text/plain": [
       "(['BenDi_10min_02.Lis',\n",
       "  'Co60_10min_03.Lis',\n",
       "  'Co60_180s_01.Lis',\n",
       "  'Co60_180s_02.Lis',\n",
       "  'Cs137_10min_01.Lis',\n",
       "  'Cs137_180s_000.Lis',\n",
       "  'Cs137_180s_001.Lis',\n",
       "  'Cs137_180s_s1.Lis',\n",
       "  'CsCo_10min_01.Lis',\n",
       "  'Eu155_10min_01.Lis'],\n",
       " 10)"
      ]
     },
     "execution_count": 52,
     "metadata": {},
     "output_type": "execute_result"
    }
   ],
   "source": [
    "fileName = listdir('../Cs137data/lis')\n",
    "fileName, len(fileName)"
   ]
  },
  {
   "cell_type": "markdown",
   "metadata": {},
   "source": [
    "### 3 获取数据"
   ]
  },
  {
   "cell_type": "code",
   "execution_count": 53,
   "metadata": {},
   "outputs": [
    {
     "data": {
      "application/vnd.jupyter.widget-view+json": {
       "model_id": "6daa2c6c65f34711a238c17af51b1845",
       "version_major": 2,
       "version_minor": 0
      },
      "text/plain": [
       "HBox(children=(IntProgress(value=0, max=78073), HTML(value='')))"
      ]
     },
     "metadata": {},
     "output_type": "display_data"
    },
    {
     "name": "stderr",
     "output_type": "stream",
     "text": [
      "Exception ignored in: <function WeakKeyDictionary.__init__.<locals>.remove at 0x00000129102838B8>\n",
      "Traceback (most recent call last):\n",
      "  File \"e:\\anaconda\\envs\\deeplearning\\lib\\weakref.py\", line 359, in remove\n",
      "    self = selfref()\n",
      "KeyboardInterrupt: \n"
     ]
    },
    {
     "ename": "KeyboardInterrupt",
     "evalue": "",
     "output_type": "error",
     "traceback": [
      "\u001b[1;31m---------------------------------------------------------------------------\u001b[0m",
      "\u001b[1;31mKeyboardInterrupt\u001b[0m                         Traceback (most recent call last)",
      "\u001b[1;32m<ipython-input-53-f69e9c92b761>\u001b[0m in \u001b[0;36m<module>\u001b[1;34m\u001b[0m\n\u001b[1;32m----> 1\u001b[1;33m \u001b[0mpulseCs137\u001b[0m\u001b[1;33m,\u001b[0m \u001b[0mrealtimeCs137\u001b[0m\u001b[1;33m,\u001b[0m \u001b[0mpulsetimeCs137\u001b[0m \u001b[1;33m=\u001b[0m \u001b[0mget_pulse_data\u001b[0m\u001b[1;33m(\u001b[0m\u001b[1;34m'../Cs137data/lis/'\u001b[0m \u001b[1;33m+\u001b[0m \u001b[0mfileName\u001b[0m\u001b[1;33m[\u001b[0m\u001b[1;36m4\u001b[0m\u001b[1;33m]\u001b[0m\u001b[1;33m)\u001b[0m\u001b[1;33m\u001b[0m\u001b[1;33m\u001b[0m\u001b[0m\n\u001b[0m",
      "\u001b[1;32m<ipython-input-51-f6c06e7d9c01>\u001b[0m in \u001b[0;36mget_pulse_data\u001b[1;34m(filename)\u001b[0m\n\u001b[0;32m     25\u001b[0m         \u001b[1;32mwhile\u001b[0m \u001b[1;36m1\u001b[0m\u001b[1;33m:\u001b[0m\u001b[1;33m\u001b[0m\u001b[1;33m\u001b[0m\u001b[0m\n\u001b[0;32m     26\u001b[0m             \u001b[1;31m# data_array00 = np.fromfile(fid, dtype=np.uint32, count = 1)\u001b[0m\u001b[1;33m\u001b[0m\u001b[1;33m\u001b[0m\u001b[1;33m\u001b[0m\u001b[0m\n\u001b[1;32m---> 27\u001b[1;33m             \u001b[0mdata_array1\u001b[0m \u001b[1;33m=\u001b[0m \u001b[0mnp\u001b[0m\u001b[1;33m.\u001b[0m\u001b[0mfromfile\u001b[0m\u001b[1;33m(\u001b[0m\u001b[0mfid\u001b[0m\u001b[1;33m,\u001b[0m \u001b[0mdtype\u001b[0m\u001b[1;33m=\u001b[0m\u001b[0mnp\u001b[0m\u001b[1;33m.\u001b[0m\u001b[0muint16\u001b[0m\u001b[1;33m,\u001b[0m \u001b[0mcount\u001b[0m\u001b[1;33m=\u001b[0m\u001b[1;36m1\u001b[0m\u001b[1;33m)\u001b[0m\u001b[1;33m\u001b[0m\u001b[1;33m\u001b[0m\u001b[0m\n\u001b[0m\u001b[0;32m     28\u001b[0m             \u001b[0mdata_array2\u001b[0m \u001b[1;33m=\u001b[0m \u001b[0mnp\u001b[0m\u001b[1;33m.\u001b[0m\u001b[0mfromfile\u001b[0m\u001b[1;33m(\u001b[0m\u001b[0mfid\u001b[0m\u001b[1;33m,\u001b[0m \u001b[0mdtype\u001b[0m\u001b[1;33m=\u001b[0m\u001b[0mnp\u001b[0m\u001b[1;33m.\u001b[0m\u001b[0muint16\u001b[0m\u001b[1;33m,\u001b[0m \u001b[0mcount\u001b[0m\u001b[1;33m=\u001b[0m\u001b[1;36m1\u001b[0m\u001b[1;33m)\u001b[0m\u001b[1;33m\u001b[0m\u001b[1;33m\u001b[0m\u001b[0m\n\u001b[0;32m     29\u001b[0m \u001b[1;33m\u001b[0m\u001b[0m\n",
      "\u001b[1;31mKeyboardInterrupt\u001b[0m: "
     ]
    }
   ],
   "source": [
    "pulseCs137, realtimeCs137, pulsetimeCs137 = get_pulse_data('../Cs137data/lis/' + fileName[4])"
   ]
  },
  {
   "cell_type": "code",
   "execution_count": 143,
   "metadata": {
    "collapsed": true
   },
   "outputs": [
    {
     "data": {
      "application/vnd.jupyter.widget-view+json": {
       "model_id": "1ac1487ca0f949f6b848076a2dc4964e",
       "version_major": 2,
       "version_minor": 0
      },
      "text/plain": [
       "HBox(children=(IntProgress(value=0, max=137617), HTML(value='')))"
      ]
     },
     "metadata": {},
     "output_type": "display_data"
    },
    {
     "name": "stdout",
     "output_type": "stream",
     "text": [
      "\n"
     ]
    }
   ],
   "source": [
    "pulseCo, realtimeCo, pulsetimeCo = get_pulse_data('../Cs137data/lis/' + fileName[1])"
   ]
  },
  {
   "cell_type": "code",
   "execution_count": 144,
   "metadata": {
    "collapsed": true
   },
   "outputs": [
    {
     "data": {
      "application/vnd.jupyter.widget-view+json": {
       "model_id": "309deb560288491bb8730419461f4b0f",
       "version_major": 2,
       "version_minor": 0
      },
      "text/plain": [
       "HBox(children=(IntProgress(value=0, max=62230), HTML(value='')))"
      ]
     },
     "metadata": {},
     "output_type": "display_data"
    },
    {
     "name": "stdout",
     "output_type": "stream",
     "text": [
      "\n"
     ]
    }
   ],
   "source": [
    "pulseEu155_Na22, realtimeEu155_Na22, pulsetimeEu155_Na22 = get_pulse_data('../Cs137data/lis/' + fileName[9])"
   ]
  },
  {
   "cell_type": "code",
   "execution_count": 145,
   "metadata": {
    "collapsed": true
   },
   "outputs": [
    {
     "data": {
      "application/vnd.jupyter.widget-view+json": {
       "model_id": "05d0c6dce22d4e2b9721720284ff10f6",
       "version_major": 2,
       "version_minor": 0
      },
      "text/plain": [
       "HBox(children=(IntProgress(value=0, max=61340), HTML(value='')))"
      ]
     },
     "metadata": {},
     "output_type": "display_data"
    },
    {
     "name": "stdout",
     "output_type": "stream",
     "text": [
      "\n"
     ]
    }
   ],
   "source": [
    "pulseBq, realtimeBq, pulsetimeBq = get_pulse_data('../Cs137data/lis/' + fileName[0])"
   ]
  },
  {
   "cell_type": "code",
   "execution_count": 146,
   "metadata": {
    "collapsed": true
   },
   "outputs": [
    {
     "data": {
      "application/vnd.jupyter.widget-view+json": {
       "model_id": "14f8741626d54e3cb796044a99bbe368",
       "version_major": 2,
       "version_minor": 0
      },
      "text/plain": [
       "HBox(children=(IntProgress(value=0, max=112028), HTML(value='')))"
      ]
     },
     "metadata": {},
     "output_type": "display_data"
    },
    {
     "name": "stdout",
     "output_type": "stream",
     "text": [
      "\n"
     ]
    }
   ],
   "source": [
    "pulseCo60_Cs137, realtimeCo60_Cs137, pulsetimeCo60_Cs137 = get_pulse_data('../Cs137data/lis/' + fileName[8])"
   ]
  },
  {
   "cell_type": "code",
   "execution_count": 62,
   "metadata": {},
   "outputs": [],
   "source": [
    "keyValue = {'BenDi': 0, 'Cs137': 1, 'CsGo': 2, 'Cs': 1, 'Co60': 3, 'Eu155': 4}"
   ]
  },
  {
   "cell_type": "code",
   "execution_count": 90,
   "metadata": {
    "collapsed": true
   },
   "outputs": [
    {
     "data": {
      "application/vnd.jupyter.widget-view+json": {
       "model_id": "9c219830413c4e899ce4e3217b20085e",
       "version_major": 2,
       "version_minor": 0
      },
      "text/plain": [
       "HBox(children=(IntProgress(value=0, max=61340), HTML(value='')))"
      ]
     },
     "metadata": {},
     "output_type": "display_data"
    },
    {
     "name": "stdout",
     "output_type": "stream",
     "text": [
      "\n",
      "i = 0, len = 1, nuc is BenDi  i = 0, len = 1, nuc is BenDi  i = 0, len = 1, nuc is BenDi  i = 0, len = 1, nuc is BenDi  i = 0, len = 1, nuc is BenDi  i = 0, len = 1, nuc is BenDi  i = 0, len = 1, nuc is BenDi  i = 0, len = 1, nuc is BenDi  i = 0, len = 1, nuc is BenDi  i = 0, len = 1, nuc is BenDi  i = 0, len = 1, nuc is BenDi  i = 0, len = 1, nuc is BenDi  i = 0, len = 1, nuc is BenDi  i = 0, len = 1, nuc is BenDi  i = 0, len = 1, nuc is BenDi  i = 0, len = 1, nuc is BenDi  i = 0, len = 1, nuc is BenDi  i = 0, len = 1, nuc is BenDi  i = 0, len = 1, nuc is BenDi  i = 0, len = 1, nuc is BenDi  i = 0, len = 1, nuc is BenDi  i = 0, len = 1, nuc is BenDi  i = 0, len = 1, nuc is BenDi  i = 0, len = 1, nuc is BenDi  i = 0, len = 1, nuc is BenDi  i = 0, len = 1, nuc is BenDi  i = 0, len = 1, nuc is BenDi  i = 0, len = 1, nuc is BenDi  i = 0, len = 1, nuc is BenDi  i = 0, len = 1, nuc is BenDi  i = 0, len = 1, nuc is BenDi  i = 0, len = 1, nuc is BenDi  i = 0, len = 1, nuc is BenDi  i = 0, len = 1, nuc is BenDi  i = 0, len = 1, nuc is BenDi  i = 0, len = 1, nuc is BenDi  i = 0, len = 1, nuc is BenDi  i = 0, len = 1, nuc is BenDi  i = 0, len = 1, nuc is BenDi  i = 0, len = 1, nuc is BenDi  i = 0, len = 1, nuc is BenDi  i = 0, len = 1, nuc is BenDi  i = 0, len = 1, nuc is BenDi  i = 0, len = 1, nuc is BenDi  i = 0, len = 1, nuc is BenDi  i = 0, len = 1, nuc is BenDi  i = 0, len = 1, nuc is BenDi  i = 0, len = 1, nuc is BenDi  i = 0, len = 1, nuc is BenDi  i = 0, len = 1, nuc is BenDi  i = 0, len = 1, nuc is BenDi  i = 0, len = 1, nuc is BenDi  i = 0, len = 1, nuc is BenDi  i = 0, len = 1, nuc is BenDi  i = 0, len = 1, nuc is BenDi  i = 0, len = 1, nuc is BenDi  i = 0, len = 1, nuc is BenDi  i = 0, len = 1, nuc is BenDi  i = 0, len = 1, nuc is BenDi  i = 0, len = 1, nuc is BenDi  i = 0, len = 1, nuc is BenDi  i = 0, len = 1, nuc is BenDi  i = 0, len = 1, nuc is BenDi  i = 0, len = 1, nuc is BenDi  i = 0, len = 1, nuc is BenDi  i = 0, len = 1, nuc is BenDi  i = 0, len = 1, nuc is BenDi  i = 0, len = 1, nuc is BenDi  i = 0, len = 1, nuc is BenDi  i = 0, len = 1, nuc is BenDi  i = 0, len = 1, nuc is BenDi  i = 0, len = 1, nuc is BenDi  i = 0, len = 1, nuc is BenDi  i = 0, len = 1, nuc is BenDi  i = 0, len = 1, nuc is BenDi  i = 0, len = 1, nuc is BenDi  i = 0, len = 1, nuc is BenDi  i = 0, len = 1, nuc is BenDi  i = 0, len = 1, nuc is BenDi  i = 0, len = 1, nuc is BenDi  i = 0, len = 1, nuc is BenDi  i = 0, len = 1, nuc is BenDi  i = 0, len = 1, nuc is BenDi  i = 0, len = 1, nuc is BenDi  i = 0, len = 1, nuc is BenDi  i = 0, len = 1, nuc is BenDi  i = 0, len = 1, nuc is BenDi  i = 0, len = 1, nuc is BenDi  i = 0, len = 1, nuc is BenDi  i = 0, len = 1, nuc is BenDi  i = 0, len = 1, nuc is BenDi  i = 0, len = 1, nuc is BenDi  i = 0, len = 1, nuc is BenDi  i = 0, len = 1, nuc is BenDi  i = 0, len = 1, nuc is BenDi  i = 0, len = 1, nuc is BenDi  i = 0, len = 1, nuc is BenDi  i = 0, len = 1, nuc is BenDi  i = 0, len = 1, nuc is BenDi  i = 0, len = 1, nuc is BenDi  i = 0, len = 1, nuc is BenDi  i = 0, len = 1, nuc is BenDi  i = 0, len = 1, nuc is BenDi  i = 0, len = 1, nuc is BenDi  i = 0, len = 1, nuc is BenDi  i = 0, len = 1, nuc is BenDi  i = 0, len = 1, nuc is BenDi  i = 0, len = 1, nuc is BenDi  i = 0, len = 1, nuc is BenDi  i = 0, len = 1, nuc is BenDi  i = 0, len = 1, nuc is BenDi  \n",
      " time is :0:45\n"
     ]
    }
   ],
   "source": [
    "start  = time()    \n",
    "timeData = np.zeros((1, 5000))\n",
    "pulseData = np.zeros((1, 5000))\n",
    "nuc_index = []\n",
    "for i in range(len(fileName)):\n",
    "    fileaddress = '../Cs137data/lis/' + fileName[0]\n",
    "    pulse, realtime, pr = get_pulse_data(fileaddress)\n",
    "    \n",
    "    pulse_1 = np.zeros((realtime.shape[1]//5000, 5000))\n",
    "    time_1 = np.zeros((realtime.shape[1]//5000, 5000))\n",
    "\n",
    "    for j in range(realtime.shape[1] // 5000):\n",
    "        time_1[i] = realtime[0, j * 5000 : j * 5000 + 5000]\n",
    "        pulse_1[i] = pulse[0, j * 5000 : j * 5000 + 5000]\n",
    "        nuc_index.append(keyValue[fileName[0].split('_')[0]])\n",
    "    print( 'i = %d, len = %d, nuc is %s' % (i, len(timeData), fileName[i].split('_')[0]), end='  ' )\n",
    "    break\n",
    "print('\\n time is :%d:%d' % ((time() - start) // 60, (time() - start) % 60))"
   ]
  },
  {
   "cell_type": "code",
   "execution_count": 212,
   "metadata": {},
   "outputs": [
    {
     "name": "stdout",
     "output_type": "stream",
     "text": [
      "1.1778485774993896\n"
     ]
    }
   ],
   "source": [
    "start = time()\n",
    "dataSet = np.zeros((pulseCs137.shape[1]//2500 + pulseCo.shape[1]//2500, 50, 50, 2))\n",
    "labels = np.zeros((pulseCs137.shape[1]//2500 + pulseCo.shape[1]//2500, 1))\n",
    "for i in range(pulseCs137.shape[1]//2500):\n",
    "    labels[i, 0] = 0 \n",
    "    for j in range(50):\n",
    "        dataSet[i, j, :, 0] = pulseCs137[0, i * 2500 + j * 50 : i * 2500 + j * 50 + 50]\n",
    "        dataSet[i, j, :, 1] = realtimeCs137[0, i * 2500 + j * 50 : i * 2500 + j * 50 + 50]\n",
    "for i in range(pulseCo.shape[1]//2500):\n",
    "    labels[i + pulseCs137.shape[1]//2500, 0] = 1 \n",
    "    for j in range(50):\n",
    "        dataSet[(i + pulseCs137.shape[1]//2500), j, :, 0] = pulseCo[0, i * 2500 + j * 50 : i * 2500 + j * 50 + 50]\n",
    "        dataSet[(i + pulseCs137.shape[1]//2500), j, :, 1] = realtimeCo[0, i * 2500 + j * 50 : i * 2500 + j * 50 + 50]\n",
    "print(time() - start)"
   ]
  },
  {
   "cell_type": "code",
   "execution_count": 213,
   "metadata": {},
   "outputs": [
    {
     "data": {
      "text/plain": [
       "array([38, 38, 38, ..., 49, 49, 49], dtype=int64)"
      ]
     },
     "execution_count": 213,
     "metadata": {},
     "output_type": "execute_result"
    }
   ],
   "source": [
    "np.where(dataSet[:, :, :, 1] > 65530)[1]"
   ]
  },
  {
   "cell_type": "code",
   "execution_count": 214,
   "metadata": {},
   "outputs": [
    {
     "data": {
      "text/plain": [
       "(6409, 50, 50, 2)"
      ]
     },
     "execution_count": 214,
     "metadata": {},
     "output_type": "execute_result"
    }
   ],
   "source": [
    "dataSet.shape"
   ]
  },
  {
   "cell_type": "code",
   "execution_count": 215,
   "metadata": {
    "scrolled": true
   },
   "outputs": [
    {
     "data": {
      "text/plain": [
       "[192,\n",
       " 385,\n",
       " 577,\n",
       " 767,\n",
       " 958,\n",
       " 1150,\n",
       " 1342,\n",
       " 1534,\n",
       " 1725,\n",
       " 1917,\n",
       " 2110,\n",
       " 2483,\n",
       " 2680,\n",
       " 2877,\n",
       " 3074,\n",
       " 3272,\n",
       " 3469,\n",
       " 3667,\n",
       " 3862,\n",
       " 4052,\n",
       " 4246,\n",
       " 4439,\n",
       " 4632,\n",
       " 4820,\n",
       " 5014,\n",
       " 5207,\n",
       " 5401,\n",
       " 5592,\n",
       " 5785,\n",
       " 5975,\n",
       " 6166,\n",
       " 6357]"
      ]
     },
     "execution_count": 215,
     "metadata": {},
     "output_type": "execute_result"
    }
   ],
   "source": [
    "index = []\n",
    "for i in range(dataSet.shape[0]):\n",
    "    if np.max(dataSet[i, :, :, 1]) - np.min(dataSet[i, :, :, 1]) > 60000:\n",
    "        index.append(i)\n",
    "index"
   ]
  },
  {
   "cell_type": "code",
   "execution_count": 216,
   "metadata": {},
   "outputs": [],
   "source": [
    "labels = np.delete(labels, index[:], 0)"
   ]
  },
  {
   "cell_type": "code",
   "execution_count": 217,
   "metadata": {},
   "outputs": [],
   "source": [
    "dataSet = np.delete(dataSet, index[:], 0)"
   ]
  },
  {
   "cell_type": "code",
   "execution_count": 218,
   "metadata": {},
   "outputs": [
    {
     "data": {
      "text/plain": [
       "(6377, 50, 50, 2)"
      ]
     },
     "execution_count": 218,
     "metadata": {},
     "output_type": "execute_result"
    }
   ],
   "source": [
    "dataSet.shape"
   ]
  },
  {
   "cell_type": "code",
   "execution_count": 219,
   "metadata": {
    "collapsed": true
   },
   "outputs": [
    {
     "data": {
      "application/vnd.jupyter.widget-view+json": {
       "model_id": "ec91195245284559a458206c7b01decc",
       "version_major": 2,
       "version_minor": 0
      },
      "text/plain": [
       "HBox(children=(IntProgress(value=0, max=6377), HTML(value='')))"
      ]
     },
     "metadata": {},
     "output_type": "display_data"
    },
    {
     "name": "stdout",
     "output_type": "stream",
     "text": [
      "52660.0\n",
      "6782.0\n",
      "4030.0\n",
      "6550.0\n",
      "59000.0\n",
      "53842.0\n",
      "26950.0\n",
      "34950.0\n",
      "12462.0\n",
      "57042.0\n",
      "3074.0\n",
      "47418.0\n",
      "\n"
     ]
    }
   ],
   "source": [
    "# first_data = dataSet[0, 0, 0, 1]\n",
    "for i in tqdm_notebook(range(dataSet.shape[0])):\n",
    "    first_data = int(dataSet[i, 0, 0, 1])\n",
    "    for j in range(50):\n",
    "        for k in range(50):\n",
    "            if dataSet[i, j, k, 1] - first_data > 0 or dataSet[i, j, k, 1] - first_data == 0: \n",
    "                dataSet[i, j, k, 1] = dataSet[i, j, k, 1] - first_data\n",
    "            else:\n",
    "                print(dataSet[i, j, k, 1])\n",
    "                dataSet[i, j, k, 1] = 0\n",
    "           "
   ]
  },
  {
   "cell_type": "code",
   "execution_count": 220,
   "metadata": {},
   "outputs": [],
   "source": [
    "for i in range(dataSet.shape[0]):\n",
    "    if np.max(dataSet[i, :, :, 1]) > 1000:\n",
    "        print(i, np.max(dataSet[i, :, :, 1]), end=' ' )\n"
   ]
  },
  {
   "cell_type": "code",
   "execution_count": 221,
   "metadata": {},
   "outputs": [
    {
     "data": {
      "text/plain": [
       "array([[3.110000e-01, 3.376000e-01, 5.282000e-01, ..., 7.199000e+00,\n",
       "        7.224200e+00, 7.402600e+00],\n",
       "       [7.427400e+00, 7.650200e+00, 7.675600e+00, ..., 1.201040e+01,\n",
       "        1.203680e+01, 1.268220e+01],\n",
       "       [1.271000e+01, 1.305760e+01, 1.308360e+01, ..., 1.880180e+01,\n",
       "        1.915240e+01, 1.918020e+01],\n",
       "       ...,\n",
       "       [3.146138e+02, 3.146366e+02, 3.150290e+02, ..., 3.201212e+02,\n",
       "        3.202828e+02, 3.205352e+02],\n",
       "       [3.205624e+02, 3.206480e+02, 3.207494e+02, ..., 3.262444e+02,\n",
       "        3.270750e+02, 3.271026e+02],\n",
       "       [3.273770e+02, 3.274014e+02, 3.274724e+02, ..., 3.332008e+02,\n",
       "        3.332278e+02, 3.335682e+02]])"
      ]
     },
     "execution_count": 221,
     "metadata": {},
     "output_type": "execute_result"
    }
   ],
   "source": [
    "dataSet[155, :, :, 1]"
   ]
  },
  {
   "cell_type": "code",
   "execution_count": 187,
   "metadata": {},
   "outputs": [
    {
     "data": {
      "image/png": "[encoded data removed]",
      "text/plain": [
       "<Figure size 432x288 with 1 Axes>"
      ]
     },
     "metadata": {
      "needs_background": "light"
     },
     "output_type": "display_data"
    }
   ],
   "source": [
    "a = dataSet[155, :, :, 1].reshape(1, 2500)\n",
    "plt.scatter(range(2500), a)\n",
    "plt.show()"
   ]
  },
  {
   "cell_type": "code",
   "execution_count": 188,
   "metadata": {},
   "outputs": [
    {
     "data": {
      "image/png": "[encoded data removed]",
      "text/plain": [
       "<Figure size 432x288 with 1 Axes>"
      ]
     },
     "metadata": {
      "needs_background": "light"
     },
     "output_type": "display_data"
    }
   ],
   "source": [
    "a = dataSet[594 , :, :, 1].reshape(1, 2500)\n",
    "plt.scatter(range(2500), a)\n",
    "plt.show()"
   ]
  },
  {
   "cell_type": "code",
   "execution_count": 189,
   "metadata": {},
   "outputs": [
    {
     "data": {
      "image/png": "[encoded data removed]",
      "text/plain": [
       "<Figure size 432x288 with 1 Axes>"
      ]
     },
     "metadata": {
      "needs_background": "light"
     },
     "output_type": "display_data"
    }
   ],
   "source": [
    "a = dataSet[594 , :, :, 1].reshape(1, 2500)\n",
    "plt.scatter(range(2500), a)\n",
    "plt.show(965 )"
   ]
  },
  {
   "cell_type": "code",
   "execution_count": 107,
   "metadata": {
    "collapsed": true
   },
   "outputs": [
    {
     "name": "stdout",
     "output_type": "stream",
     "text": [
      "Downloading data from https://www.cs.toronto.edu/~kriz/cifar-10-python.tar.gz\n",
      " 29335552/170498071 [====>.........................] - ETA: 1:48:1 - ETA: 1:03:1 - ETA: 42:28  - ETA: 28:4 - ETA: 17:0 - ETA: 13:3 - ETA: 13:5 - ETA: 10:1 - ETA: 11:1 - ETA: 9:4 - ETA: 8: - ETA: 8: - ETA: 7: - ETA: 7: - ETA: 7: - ETA: 7: - ETA: 6: - ETA: 6: - ETA: 6: - ETA: 6: - ETA: 6: - ETA: 6: - ETA: 6: - ETA: 6: - ETA: 6: - ETA: 6: - ETA: 6: - ETA: 6: - ETA: 6: - ETA: 6: - ETA: 6: - ETA: 5: - ETA: 6: - ETA: 5: - ETA: 5: - ETA: 5: - ETA: 5: - ETA: 5: - ETA: 5: - ETA: 5: - ETA: 5: - ETA: 5: - ETA: 5: - ETA: 5: - ETA: 5: - ETA: 5: - ETA: 5: - ETA: 5: - ETA: 5: - ETA: 5: - ETA: 5: - ETA: 5: - ETA: 5: - ETA: 5: - ETA: 5: - ETA: 5: - ETA: 5: - ETA: 5: - ETA: 5: - ETA: 5: - ETA: 5: - ETA: 5: - ETA: 5: - ETA: 5: - ETA: 5: - ETA: 5: - ETA: 5: - ETA: 5: - ETA: 5: - ETA: 5: - ETA: 5: - ETA: 5: - ETA: 6: - ETA: 6: - ETA: 6: - ETA: 6: - ETA: 6: - ETA: 6: - ETA: 6: - ETA: 6: - ETA: 6: - ETA: 6: - ETA: 6: - ETA: 6: - ETA: 6: - ETA: 6: - ETA: 6: - ETA: 6: - ETA: 6: - ETA: 6: - ETA: 6: - ETA: 6: - ETA: 6: - ETA: 6: - ETA: 6: - ETA: 6: - ETA: 6: - ETA: 6: - ETA: 6: - ETA: 6: - ETA: 6: - ETA: 6: - ETA: 6: - ETA: 6: - ETA: 6: - ETA: 6: - ETA: 6: - ETA: 6: - ETA: 6: - ETA: 6: - ETA: 6: - ETA: 6: - ETA: 6: - ETA: 6: - ETA: 6: - ETA: 6: - ETA: 6: - ETA: 6: - ETA: 6: - ETA: 6: - ETA: 6: - ETA: 6: - ETA: 6: - ETA: 6: - ETA: 6: - ETA: 6: - ETA: 6: - ETA: 6: - ETA: 6: - ETA: 6: - ETA: 6: - ETA: 6: - ETA: 6: - ETA: 6: - ETA: 6: - ETA: 6: - ETA: 6: - ETA: 6: - ETA: 6: - ETA: 6: - ETA: 6: - ETA: 6: - ETA: 6: - ETA: 6: - ETA: 6: - ETA: 6: - ETA: 6: - ETA: 6: - ETA: 6: - ETA: 6: - ETA: 6: - ETA: 6: - ETA: 6: - ETA: 6: - ETA: 6: - ETA: 6: - ETA: 6: - ETA: 6: - ETA: 6: - ETA: 6: - ETA: 6: - ETA: 6: - ETA: 6: - ETA: 6: - ETA: 6: - ETA: 6: - ETA: 6: - ETA: 7: - ETA: 6: - ETA: 6: - ETA: 6: - ETA: 6: - ETA: 6: - ETA: 6: - ETA: 6: - ETA: 7: - ETA: 7: - ETA: 7: - ETA: 7: - ETA: 7: - ETA: 7: - ETA: 7: - ETA: 7: - ETA: 7: - ETA: 7: - ETA: 7: - ETA: 7: - ETA: 7: - ETA: 7: - ETA: 7: - ETA: 7: - ETA: 7: - ETA: 7: - ETA: 7: - ETA: 7: - ETA: 7: - ETA: 7: - ETA: 7: - ETA: 7: - ETA: 7: - ETA: 7: - ETA: 7: - ETA: 7: - ETA: 7: - ETA: 7: - ETA: 7: - ETA: 7: - ETA: 7: - ETA: 7: - ETA: 7: - ETA: 7: - ETA: 7: - ETA: 7: - ETA: 7: - ETA: 7: - ETA: 7: - ETA: 7: - ETA: 7: - ETA: 7: - ETA: 7: - ETA: 7: - ETA: 7: - ETA: 7: - ETA: 7: - ETA: 7: - ETA: 7: - ETA: 7: - ETA: 7: - ETA: 7: - ETA: 7: - ETA: 7: - ETA: 7: - ETA: 7: - ETA: 7: - ETA: 7: - ETA: 7: - ETA: 7: - ETA: 7: - ETA: 7: - ETA: 7: - ETA: 7: - ETA: 7: - ETA: 7: - ETA: 7: - ETA: 7: - ETA: 7: - ETA: 7: - ETA: 7: - ETA: 7: - ETA: 7: - ETA: 8: - ETA: 8: - ETA: 8: - ETA: 8: - ETA: 8: - ETA: 8: - ETA: 8: - ETA: 8: - ETA: 8: - ETA: 8: - ETA: 8: - ETA: 8: - ETA: 8: - ETA: 8: - ETA: 8: - ETA: 8: - ETA: 8: - ETA: 8: - ETA: 8: - ETA: 8: - ETA: 8: - ETA: 8: - ETA: 8: - ETA: 8: - ETA: 8: - ETA: 8: - ETA: 8: - ETA: 8: - ETA: 8: - ETA: 8: - ETA: 8: - ETA: 8: - ETA: 8: - ETA: 8: - ETA: 8: - ETA: 8: - ETA: 8: - ETA: 7: - ETA: 8: - ETA: 7: - ETA: 7: - ETA: 7: - ETA: 7: - ETA: 7: - ETA: 8: - ETA: 8: - ETA: 8: - ETA: 8: - ETA: 8: - ETA: 8: - ETA: 8: - ETA: 7: - ETA: 7: - ETA: 8: - ETA: 7: - ETA: 7: - ETA: 7: - ETA: 7: - ETA: 7: - ETA: 7: - ETA: 7: - ETA: 7: - ETA: 7: - ETA: 7: - ETA: 7: - ETA: 7: - ETA: 7: - ETA: 7: - ETA: 7: - ETA: 7: - ETA: 7: - ETA: 7: - ETA: 7: - ETA: 7: - ETA: 7: - ETA: 7: - ETA: 7: - ETA: 7: - ETA: 7: - ETA: 7: - ETA: 7: - ETA: 7: - ETA: 7: - ETA: 7: - ETA: 7: - ETA: 7: - ETA: 7: - ETA: 7: - ETA: 7: - ETA: 7: - ETA: 7: - ETA: 7: - ETA: 7: - ETA: 7: - ETA: 7: - ETA: 7: - ETA: 7: - ETA: 7: - ETA: 7: - ETA: 7: - ETA: 7: - ETA: 7: - ETA: 7: - ETA: 7: - ETA: 7: - ETA: 7: - ETA: 7: - ETA: 7: - ETA: 7: - ETA: 7: - ETA: 7: - ETA: 7: - ETA: 7: - ETA: 7: - ETA: 7: - ETA: 7: - ETA: 7: - ETA: 7: - ETA: 7: - ETA: 7: - ETA: 7: - ETA: 7: - ETA: 7: - ETA: 7: - ETA: 7: - ETA: 7: - ETA: 7: - ETA: 7: - ETA: 7: - ETA: 7: - ETA: 7: - ETA: 7: - ETA: 7: - ETA: 7: - ETA: 7: - ETA: 7: - ETA: 7: - ETA: 7: - ETA: 7: - ETA: 7: - ETA: 7: - ETA: 7: - ETA: 7: - ETA: 7: - ETA: 7: - ETA: 7: - ETA: 7: - ETA: 7: - ETA: 7: - ETA: 7: - ETA: 7: - ETA: 7: - ETA: 7: - ETA: 7: - ETA: 7: - ETA: 7: - ETA: 7: - ETA: 7: - ETA: 7: - ETA: 7: - ETA: 7: - ETA: 7: - ETA: 7: - ETA: 7: - ETA: 7: - ETA: 7: - ETA: 7: - ETA: 7: - ETA: 7: - ETA: 7: - ETA: 7: - ETA: 7: - ETA: 7: - ETA: 7: - ETA: 7: - ETA: 7: - ETA: 7: - ETA: 7: - ETA: 7: - ETA: 7: - ETA: 7: - ETA: 7: - ETA: 7: - ETA: 7: - ETA: 7: - ETA: 7: - ETA: 7: - ETA: 7: - ETA: 7: - ETA: 7: - ETA: 7: - ETA: 7: - ETA: 7: - ETA: 7: - ETA: 7: - ETA: 7: - ETA: 7: - ETA: 7: - ETA: 7: - ETA: 7: - ETA: 7: - ETA: 7: - ETA: 7: - ETA: 7: - ETA: 7: - ETA: 7: - ETA: 7: - ETA: 7: - ETA: 7: - ETA: 7: - ETA: 7: - ETA: 7: - ETA: 7: - ETA: 7: - ETA: 7: - ETA: 7: - ETA: 7: - ETA: 7: - ETA: 7: - ETA: 7: - ETA: 7: - ETA: 7: - ETA: 7: - ETA: 7: - ETA: 7: - ETA: 7: - ETA: 7: - ETA: 7: - ETA: 7: - ETA: 7: - ETA: 7: - ETA: 7: - ETA: 7: - ETA: 7: - ETA: 7: - ETA: 7: - ETA: 7: - ETA: 7: - ETA: 7: - ETA: 7: - ETA: 7: - ETA: 7: - ETA: 7: - ETA: 7: - ETA: 7: - ETA: 7: - ETA: 7: - ETA: 7: - ETA: 7: - ETA: 7: - ETA: 7: - ETA: 7: - ETA: 7: - ETA: 7: - ETA: 7: - ETA: 7: - ETA: 7: - ETA: 7: - ETA: 7: - ETA: 7: - ETA: 7: - ETA: 7: - ETA: 7: - ETA: 7: - ETA: 7: - ETA: 7: - ETA: 7: - ETA: 7: - ETA: 7: - ETA: 7: - ETA: 7: - ETA: 7: - ETA: 7: - ETA: 7: - ETA: 7: - ETA: 7: - ETA: 7: - ETA: 7: - ETA: 7: - ETA: 7: - ETA: 7: - ETA: 7: - ETA: 7: - ETA: 7: - ETA: 7: - ETA: 7: - ETA: 7: - ETA: 7: - ETA: 7: - ETA: 7: - ETA: 7: - ETA: 7: - ETA: 7: - ETA: 7: - ETA: 7: - ETA: 7: - ETA: 7: - ETA: 7: - ETA: 7: - ETA: 7: - ETA: 7: - ETA: 7: - ETA: 7: - ETA: 7: - ETA: 7: - ETA: 7: - ETA: 7: - ETA: 7: - ETA: 7: - ETA: 7: - ETA: 7: - ETA: 7: - ETA: 7: - ETA: 7: - ETA: 7: - ETA: 7: - ETA: 7: - ETA: 7: - ETA: 7: - ETA: 7: - ETA: 7: - ETA: 7: - ETA: 7: - ETA: 7: - ETA: 7: - ETA: 7: - ETA: 7: - ETA: 7: - ETA: 7: - ETA: 7: - ETA: 7: - ETA: 7: - ETA: 7: - ETA: 7: - ETA: 7: - ETA: 7: - ETA: 7: - ETA: 7: - ETA: 7: - ETA: 7: - ETA: 7: - ETA: 7: - ETA: 7: - ETA: 7: - ETA: 7: - ETA: 7: - ETA: 7: - ETA: 7: - ETA: 7: - ETA: 7: - ETA: 7: - ETA: 7: - ETA: 7: - ETA: 7: - ETA: 7: - ETA: 7: - ETA: 7: - ETA: 7: - ETA: 7: - ETA: 7: - ETA: 7: - ETA: 7: - ETA: 7: - ETA: 7: - ETA: 7: - ETA: 7: - ETA: 7: - ETA: 7: - ETA: 7: - ETA: 7: - ETA: 7: - ETA: 7: - ETA: 7: - ETA: 7: - ETA: 7: - ETA: 7: - ETA: 7: - ETA: 7: - ETA: 7: - ETA: 7: - ETA: 7: - ETA: 7: - ETA: 7: - ETA: 7: - ETA: 7: - ETA: 7: - ETA: 7: - ETA: 7: - ETA: 7: - ETA: 7: - ETA: 7: - ETA: 7: - ETA: 7: - ETA: 7: - ETA: 7: - ETA: 7: - ETA: 7: - ETA: 7: - ETA: 7: - ETA: 7: - ETA: 7: - ETA: 7: - ETA: 7: - ETA: 7: - ETA: 7: - ETA: 7: - ETA: 7: - ETA: 7: - ETA: 7: - ETA: 7: - ETA: 7: - ETA: 7: - ETA: 7: - ETA: 7: - ETA: 7: - ETA: 7: - ETA: 7: - ETA: 7: - ETA: 7: - ETA: 7: - ETA: 7: - ETA: 7: - ETA: 7: - ETA: 7: - ETA: 7: - ETA: 7: - ETA: 7: - ETA: 7: - ETA: 7: - ETA: 7: - ETA: 7: - ETA: 7: - ETA: 7: - ETA: 7: - ETA: 7: - ETA: 7: - ETA: 7: - ETA: 7: - ETA: 7: - ETA: 8: - ETA: 8: - ETA: 8: - ETA: 8: - ETA: 8: - ETA: 8: - ETA: 8: - ETA: 8: - ETA: 8: - ETA: 8: - ETA: 8: - ETA: 8: - ETA: 8: - ETA: 8: - ETA: 8: - ETA: 8: - ETA: 8: - ETA: 8: - ETA: 8: - ETA: 8: - ETA: 8: - ETA: 8: - ETA: 8: - ETA: 8: - ETA: 8: - ETA: 8: - ETA: 8: - ETA: 8: - ETA: 8: - ETA: 8: - ETA: 8: - ETA: 8: - ETA: 8: - ETA: 8: - ETA: 8: - ETA: 8: - ETA: 8: - ETA: 8: - ETA: 8: - ETA: 8: - ETA: 8: - ETA: 8: - ETA: 8: - ETA: 8: - ETA: 8: - ETA: 8: - ETA: 8: - ETA: 8: - ETA: 8: - ETA: 8: - ETA: 8: - ETA: 8: - ETA: 8: - ETA: 8: - ETA: 8: - ETA: 8: - ETA: 8: - ETA: 8: - ETA: 8: - ETA: 8: - ETA: 8: - ETA: 8: - ETA: 8: - ETA: 8: - ETA: 8: - ETA: 8: - ETA: 8: - ETA: 8: - ETA: 8: - ETA: 8: - ETA: 8: - ETA: 8: - ETA: 8: - ETA: 8: - ETA: 8: - ETA: 8: - ETA: 8: - ETA: 8: - ETA: 8: - ETA: 8: - ETA: 8: - ETA: 8: - ETA: 8: - ETA: 8: - ETA: 8: - ETA: 8: - ETA: 8: - ETA: 8: - ETA: 8: - ETA: 8: - ETA: 8: - ETA: 8: - ETA: 8: - ETA: 8: - ETA: 8: - ETA: 8: - ETA: 8: - ETA: 8: - ETA: 8: - ETA: 8: - ETA: 8: - ETA: 8: - ETA: 8: - ETA: 8: - ETA: 8: - ETA: 8: - ETA: 8: - ETA: 8: - ETA: 8: - ETA: 8: - ETA: 8: - ETA: 8: - ETA: 8: - ETA: 8: - ETA: 8: - ETA: 8: - ETA: 8: - ETA: 8: - ETA: 8: - ETA: 8: - ETA: 8: - ETA: 8: - ETA: 8:17 58056704/170498071 [=========>....................] - ETA: 8: - ETA: 8: - ETA: 8: - ETA: 8: - ETA: 8: - ETA: 8: - ETA: 8: - ETA: 8: - ETA: 8: - ETA: 8: - ETA: 8: - ETA: 8: - ETA: 8: - ETA: 8: - ETA: 8: - ETA: 8: - ETA: 8: - ETA: 8: - ETA: 8: - ETA: 8: - ETA: 8: - ETA: 8: - ETA: 8: - ETA: 8: - ETA: 8: - ETA: 8: - ETA: 8: - ETA: 8: - ETA: 8: - ETA: 8: - ETA: 8: - ETA: 8: - ETA: 8: - ETA: 8: - ETA: 8: - ETA: 8: - ETA: 8: - ETA: 8: - ETA: 8: - ETA: 8: - ETA: 8: - ETA: 8: - ETA: 8: - ETA: 8: - ETA: 8: - ETA: 8: - ETA: 8: - ETA: 8: - ETA: 8: - ETA: 8: - ETA: 8: - ETA: 8: - ETA: 8: - ETA: 8: - ETA: 8: - ETA: 8: - ETA: 8: - ETA: 8: - ETA: 8: - ETA: 8: - ETA: 8: - ETA: 8: - ETA: 8: - ETA: 8: - ETA: 8: - ETA: 8: - ETA: 8: - ETA: 8: - ETA: 8: - ETA: 8: - ETA: 8: - ETA: 8: - ETA: 8: - ETA: 8: - ETA: 8: - ETA: 8: - ETA: 8: - ETA: 8: - ETA: 8: - ETA: 8: - ETA: 8: - ETA: 8: - ETA: 8: - ETA: 8: - ETA: 8: - ETA: 8: - ETA: 8: - ETA: 8: - ETA: 8: - ETA: 8: - ETA: 8: - ETA: 8: - ETA: 8: - ETA: 8: - ETA: 8: - ETA: 8: - ETA: 8: - ETA: 8: - ETA: 8: - ETA: 8: - ETA: 8: - ETA: 8: - ETA: 8: - ETA: 8: - ETA: 8: - ETA: 8: - ETA: 8: - ETA: 8: - ETA: 8: - ETA: 8: - ETA: 8: - ETA: 8: - ETA: 8: - ETA: 8: - ETA: 8: - ETA: 8: - ETA: 8: - ETA: 8: - ETA: 8: - ETA: 8: - ETA: 8: - ETA: 8: - ETA: 8: - ETA: 8: - ETA: 8: - ETA: 8: - ETA: 8: - ETA: 8: - ETA: 8: - ETA: 8: - ETA: 8: - ETA: 8: - ETA: 8: - ETA: 8: - ETA: 8: - ETA: 8: - ETA: 8: - ETA: 8: - ETA: 8: - ETA: 8: - ETA: 8: - ETA: 8: - ETA: 8: - ETA: 8: - ETA: 8: - ETA: 8: - ETA: 8: - ETA: 8: - ETA: 8: - ETA: 8: - ETA: 8: - ETA: 8: - ETA: 8: - ETA: 8: - ETA: 8: - ETA: 8: - ETA: 8: - ETA: 8: - ETA: 8: - ETA: 8: - ETA: 8: - ETA: 8: - ETA: 8: - ETA: 8: - ETA: 8: - ETA: 8: - ETA: 8: - ETA: 8: - ETA: 8: - ETA: 8: - ETA: 8: - ETA: 8: - ETA: 8: - ETA: 8: - ETA: 8: - ETA: 8: - ETA: 8: - ETA: 8: - ETA: 8: - ETA: 8: - ETA: 8: - ETA: 8: - ETA: 8: - ETA: 8: - ETA: 8: - ETA: 8: - ETA: 8: - ETA: 8: - ETA: 8: - ETA: 8: - ETA: 8: - ETA: 8: - ETA: 8: - ETA: 8: - ETA: 8: - ETA: 8: - ETA: 8: - ETA: 7: - ETA: 7: - ETA: 7: - ETA: 7: - ETA: 7: - ETA: 7: - ETA: 7: - ETA: 7: - ETA: 7: - ETA: 7: - ETA: 7: - ETA: 7: - ETA: 7: - ETA: 7: - ETA: 7: - ETA: 7: - ETA: 7: - ETA: 7: - ETA: 7: - ETA: 7: - ETA: 7: - ETA: 7: - ETA: 7: - ETA: 7: - ETA: 7: - ETA: 7: - ETA: 7: - ETA: 7: - ETA: 7: - ETA: 7: - ETA: 7: - ETA: 7: - ETA: 7: - ETA: 7: - ETA: 7: - ETA: 7: - ETA: 7: - ETA: 7: - ETA: 7: - ETA: 7: - ETA: 7: - ETA: 7: - ETA: 7: - ETA: 7: - ETA: 7: - ETA: 7: - ETA: 7: - ETA: 7: - ETA: 7: - ETA: 7: - ETA: 7: - ETA: 7: - ETA: 7: - ETA: 7: - ETA: 7: - ETA: 7: - ETA: 7: - ETA: 7: - ETA: 7: - ETA: 7: - ETA: 7: - ETA: 7: - ETA: 7: - ETA: 7: - ETA: 7: - ETA: 7: - ETA: 7: - ETA: 7: - ETA: 7: - ETA: 7: - ETA: 7: - ETA: 7: - ETA: 7: - ETA: 7: - ETA: 7: - ETA: 7: - ETA: 7: - ETA: 7: - ETA: 7: - ETA: 7: - ETA: 7: - ETA: 7: - ETA: 7: - ETA: 7: - ETA: 7: - ETA: 7: - ETA: 7: - ETA: 7: - ETA: 7: - ETA: 7: - ETA: 7: - ETA: 7: - ETA: 7: - ETA: 7: - ETA: 7: - ETA: 7: - ETA: 7: - ETA: 7: - ETA: 7: - ETA: 7: - ETA: 7: - ETA: 7: - ETA: 7: - ETA: 7: - ETA: 7: - ETA: 7: - ETA: 7: - ETA: 7: - ETA: 7: - ETA: 7: - ETA: 7: - ETA: 7: - ETA: 7: - ETA: 7: - ETA: 7: - ETA: 7: - ETA: 7: - ETA: 7: - ETA: 7: - ETA: 7: - ETA: 7: - ETA: 7: - ETA: 7: - ETA: 7: - ETA: 7: - ETA: 7: - ETA: 7: - ETA: 7: - ETA: 7: - ETA: 7: - ETA: 7: - ETA: 7: - ETA: 7: - ETA: 6: - ETA: 6: - ETA: 6: - ETA: 6: - ETA: 6: - ETA: 6: - ETA: 6: - ETA: 6: - ETA: 6: - ETA: 6: - ETA: 6: - ETA: 6: - ETA: 6: - ETA: 6: - ETA: 6: - ETA: 6: - ETA: 6: - ETA: 6: - ETA: 6: - ETA: 6: - ETA: 6: - ETA: 6: - ETA: 6: - ETA: 6: - ETA: 6: - ETA: 6: - ETA: 6: - ETA: 6: - ETA: 6: - ETA: 6: - ETA: 6: - ETA: 6: - ETA: 6: - ETA: 6: - ETA: 6: - ETA: 6: - ETA: 6: - ETA: 6: - ETA: 6: - ETA: 6: - ETA: 6: - ETA: 6: - ETA: 6: - ETA: 6: - ETA: 6: - ETA: 6: - ETA: 6: - ETA: 6: - ETA: 6: - ETA: 6: - ETA: 6: - ETA: 6: - ETA: 6: - ETA: 6: - ETA: 6: - ETA: 6: - ETA: 6: - ETA: 6: - ETA: 6: - ETA: 6: - ETA: 6: - ETA: 6: - ETA: 6: - ETA: 6: - ETA: 6: - ETA: 6: - ETA: 6: - ETA: 6: - ETA: 6: - ETA: 6: - ETA: 6: - ETA: 6: - ETA: 6: - ETA: 6: - ETA: 6: - ETA: 6: - ETA: 6: - ETA: 6: - ETA: 6: - ETA: 6: - ETA: 6: - ETA: 6: - ETA: 6: - ETA: 6: - ETA: 6: - ETA: 6: - ETA: 6: - ETA: 6: - ETA: 6: - ETA: 6: - ETA: 6: - ETA: 6: - ETA: 6: - ETA: 6: - ETA: 6: - ETA: 6: - ETA: 6: - ETA: 6: - ETA: 6: - ETA: 6: - ETA: 6: - ETA: 6: - ETA: 6: - ETA: 6: - ETA: 6: - ETA: 6: - ETA: 6: - ETA: 6: - ETA: 6: - ETA: 6: - ETA: 6: - ETA: 6: - ETA: 6: - ETA: 6: - ETA: 6: - ETA: 6: - ETA: 6: - ETA: 6: - ETA: 6: - ETA: 6: - ETA: 6: - ETA: 6: - ETA: 6: - ETA: 6: - ETA: 6: - ETA: 6: - ETA: 6: - ETA: 6: - ETA: 6: - ETA: 6: - ETA: 6: - ETA: 6: - ETA: 6: - ETA: 6: - ETA: 6: - ETA: 6: - ETA: 6: - ETA: 6: - ETA: 6: - ETA: 6: - ETA: 6: - ETA: 6: - ETA: 6: - ETA: 6: - ETA: 6: - ETA: 6: - ETA: 6: - ETA: 6: - ETA: 6: - ETA: 6: - ETA: 6: - ETA: 6: - ETA: 6: - ETA: 6: - ETA: 6: - ETA: 6: - ETA: 6: - ETA: 6: - ETA: 6: - ETA: 6: - ETA: 6: - ETA: 6: - ETA: 6: - ETA: 6: - ETA: 6: - ETA: 6: - ETA: 6: - ETA: 6: - ETA: 6: - ETA: 6: - ETA: 6: - ETA: 6: - ETA: 6: - ETA: 6: - ETA: 6: - ETA: 6: - ETA: 6: - ETA: 6: - ETA: 6: - ETA: 6: - ETA: 6: - ETA: 6: - ETA: 6: - ETA: 6: - ETA: 6: - ETA: 6: - ETA: 6: - ETA: 6: - ETA: 6: - ETA: 6: - ETA: 6: - ETA: 6: - ETA: 6: - ETA: 6: - ETA: 6: - ETA: 6: - ETA: 6: - ETA: 6: - ETA: 6: - ETA: 6: - ETA: 6: - ETA: 6: - ETA: 6: - ETA: 6: - ETA: 6: - ETA: 6: - ETA: 6: - ETA: 6: - ETA: 6: - ETA: 6: - ETA: 6: - ETA: 6: - ETA: 6: - ETA: 6: - ETA: 6: - ETA: 6: - ETA: 6: - ETA: 6: - ETA: 6: - ETA: 6: - ETA: 6: - ETA: 6: - ETA: 6: - ETA: 6: - ETA: 6: - ETA: 6: - ETA: 6: - ETA: 6: - ETA: 6: - ETA: 6: - ETA: 6: - ETA: 6: - ETA: 6: - ETA: 6: - ETA: 6: - ETA: 6: - ETA: 6: - ETA: 6: - ETA: 6: - ETA: 6: - ETA: 6: - ETA: 6: - ETA: 6: - ETA: 6: - ETA: 6: - ETA: 6: - ETA: 6: - ETA: 6: - ETA: 6: - ETA: 6: - ETA: 6: - ETA: 6: - ETA: 6: - ETA: 6: - ETA: 6: - ETA: 6: - ETA: 6: - ETA: 6: - ETA: 6: - ETA: 6: - ETA: 6: - ETA: 6: - ETA: 6: - ETA: 6: - ETA: 6: - ETA: 6: - ETA: 6: - ETA: 6: - ETA: 6: - ETA: 6: - ETA: 6: - ETA: 6: - ETA: 6: - ETA: 6: - ETA: 6: - ETA: 6: - ETA: 6: - ETA: 6: - ETA: 6: - ETA: 6: - ETA: 6: - ETA: 6: - ETA: 6: - ETA: 6: - ETA: 6: - ETA: 6: - ETA: 6: - ETA: 6: - ETA: 6: - ETA: 6: - ETA: 6: - ETA: 6: - ETA: 6: - ETA: 6: - ETA: 6: - ETA: 6: - ETA: 6: - ETA: 6: - ETA: 6: - ETA: 6: - ETA: 6: - ETA: 6: - ETA: 6: - ETA: 6: - ETA: 6: - ETA: 6: - ETA: 6: - ETA: 6: - ETA: 6: - ETA: 6: - ETA: 6: - ETA: 6: - ETA: 6: - ETA: 6: - ETA: 6: - ETA: 6: - ETA: 6: - ETA: 6: - ETA: 6: - ETA: 6: - ETA: 6: - ETA: 6: - ETA: 6: - ETA: 6: - ETA: 6: - ETA: 6: - ETA: 6: - ETA: 6: - ETA: 6: - ETA: 6: - ETA: 6: - ETA: 6: - ETA: 6: - ETA: 6: - ETA: 6: - ETA: 6: - ETA: 6: - ETA: 6: - ETA: 6: - ETA: 6: - ETA: 6: - ETA: 6: - ETA: 6: - ETA: 6: - ETA: 6: - ETA: 6: - ETA: 6: - ETA: 6: - ETA: 6: - ETA: 6: - ETA: 6: - ETA: 6: - ETA: 6: - ETA: 6: - ETA: 6: - ETA: 6: - ETA: 6: - ETA: 6: - ETA: 6: - ETA: 6: - ETA: 6: - ETA: 6: - ETA: 6: - ETA: 6: - ETA: 6: - ETA: 6: - ETA: 6: - ETA: 6: - ETA: 6: - ETA: 6: - ETA: 6: - ETA: 6: - ETA: 6: - ETA: 6: - ETA: 6: - ETA: 6: - ETA: 6: - ETA: 6: - ETA: 6: - ETA: 6: - ETA: 6: - ETA: 6: - ETA: 6: - ETA: 6: - ETA: 6: - ETA: 6: - ETA: 6: - ETA: 6: - ETA: 6: - ETA: 6: - ETA: 6: - ETA: 6: - ETA: 6: - ETA: 6: - ETA: 6: - ETA: 6: - ETA: 6: - ETA: 6: - ETA: 6: - ETA: 6: - ETA: 6: - ETA: 6: - ETA: 6: - ETA: 6: - ETA: 6: - ETA: 6: - ETA: 6: - ETA: 6: - ETA: 6: - ETA: 6: - ETA: 6: - ETA: 6: - ETA: 6: - ETA: 6: - ETA: 6: - ETA: 6: - ETA: 6: - ETA: 6: - ETA: 6: - ETA: 6: - ETA: 6: - ETA: 6: - ETA: 6: - ETA: 6: - ETA: 6: - ETA: 6: - ETA: 6: - ETA: 6: - ETA: 6: - ETA: 6: - ETA: 6: - ETA: 6: - ETA: 6: - ETA: 6: - ETA: 6: - ETA: 6: - ETA: 6: - ETA: 6: - ETA: 6: - ETA: 6: - ETA: 6: - ETA: 6: - ETA: 6: - ETA: 6: - ETA: 6: - ETA: 6: - ETA: 6: - ETA: 6: - ETA: 6: - ETA: 6: - ETA: 6: - ETA: 6: - ETA: 6: - ETA: 6: - ETA: 6: - ETA: 6: - ETA: 6: - ETA: 6: - ETA: 6: - ETA: 6: - ETA: 6: - ETA: 6: - ETA: 6: - ETA: 6: - ETA: 6: - ETA: 6: - ETA: 6: - ETA: 6: - ETA: 6: - ETA: 6: - ETA: 6: - ETA: 6: - ETA: 6: - ETA: 6: - ETA: 6: - ETA: 6: - ETA: 6: - ETA: 6: - ETA: 6: - ETA: 6: - ETA: 6: - ETA: 6: - ETA: 6: - ETA: 6:17 82599936/170498071 [=============>................] - ETA: 6: - ETA: 6: - ETA: 6: - ETA: 6: - ETA: 6: - ETA: 6: - ETA: 6: - ETA: 6: - ETA: 6: - ETA: 6: - ETA: 6: - ETA: 6: - ETA: 6: - ETA: 6: - ETA: 6: - ETA: 6: - ETA: 6: - ETA: 6: - ETA: 6: - ETA: 6: - ETA: 6: - ETA: 6: - ETA: 6: - ETA: 6: - ETA: 6: - ETA: 6: - ETA: 6: - ETA: 6: - ETA: 6: - ETA: 6: - ETA: 6: - ETA: 6: - ETA: 6: - ETA: 6: - ETA: 6: - ETA: 6: - ETA: 6: - ETA: 6: - ETA: 6: - ETA: 6: - ETA: 6: - ETA: 6: - ETA: 6: - ETA: 6: - ETA: 6: - ETA: 6: - ETA: 6: - ETA: 6: - ETA: 6: - ETA: 6: - ETA: 6: - ETA: 6: - ETA: 6: - ETA: 6: - ETA: 6: - ETA: 6: - ETA: 6: - ETA: 6: - ETA: 6: - ETA: 6: - ETA: 6: - ETA: 6: - ETA: 6: - ETA: 6: - ETA: 6: - ETA: 6: - ETA: 6: - ETA: 6: - ETA: 6: - ETA: 6: - ETA: 6: - ETA: 6: - ETA: 6: - ETA: 6: - ETA: 6: - ETA: 6: - ETA: 6: - ETA: 6: - ETA: 6: - ETA: 6: - ETA: 6: - ETA: 6: - ETA: 6: - ETA: 6: - ETA: 6: - ETA: 6: - ETA: 6: - ETA: 6: - ETA: 6: - ETA: 6: - ETA: 6: - ETA: 6: - ETA: 6: - ETA: 6: - ETA: 6: - ETA: 6: - ETA: 6: - ETA: 6: - ETA: 6: - ETA: 6: - ETA: 6: - ETA: 6: - ETA: 6: - ETA: 6: - ETA: 6: - ETA: 6: - ETA: 6: - ETA: 6: - ETA: 6: - ETA: 6: - ETA: 6: - ETA: 6: - ETA: 6: - ETA: 6: - ETA: 6: - ETA: 6: - ETA: 6: - ETA: 6: - ETA: 6: - ETA: 6: - ETA: 6: - ETA: 6: - ETA: 6: - ETA: 6: - ETA: 6: - ETA: 6: - ETA: 6: - ETA: 6: - ETA: 6: - ETA: 6: - ETA: 6: - ETA: 6: - ETA: 6: - ETA: 6: - ETA: 6: - ETA: 6: - ETA: 6: - ETA: 6: - ETA: 6: - ETA: 6: - ETA: 6: - ETA: 6: - ETA: 6: - ETA: 6: - ETA: 6: - ETA: 6: - ETA: 6: - ETA: 6: - ETA: 6: - ETA: 6: - ETA: 6: - ETA: 6: - ETA: 6: - ETA: 6: - ETA: 6: - ETA: 6: - ETA: 6: - ETA: 6: - ETA: 6: - ETA: 6: - ETA: 6: - ETA: 6: - ETA: 6: - ETA: 6: - ETA: 6: - ETA: 6: - ETA: 6: - ETA: 6: - ETA: 6: - ETA: 6: - ETA: 6: - ETA: 6: - ETA: 6: - ETA: 6: - ETA: 6: - ETA: 6: - ETA: 6: - ETA: 6: - ETA: 6: - ETA: 6: - ETA: 6: - ETA: 6: - ETA: 6: - ETA: 6: - ETA: 6: - ETA: 6: - ETA: 6: - ETA: 6: - ETA: 6: - ETA: 6: - ETA: 6: - ETA: 6: - ETA: 6: - ETA: 6: - ETA: 6: - ETA: 6: - ETA: 6: - ETA: 6: - ETA: 6: - ETA: 6: - ETA: 6: - ETA: 6: - ETA: 6: - ETA: 6: - ETA: 6: - ETA: 6: - ETA: 6: - ETA: 6: - ETA: 6: - ETA: 6: - ETA: 6: - ETA: 6: - ETA: 6: - ETA: 6: - ETA: 6: - ETA: 6: - ETA: 6: - ETA: 6: - ETA: 6: - ETA: 6: - ETA: 6: - ETA: 6: - ETA: 6: - ETA: 6: - ETA: 6: - ETA: 6: - ETA: 6: - ETA: 6: - ETA: 6: - ETA: 6: - ETA: 6: - ETA: 6: - ETA: 5: - ETA: 5: - ETA: 5: - ETA: 5: - ETA: 5: - ETA: 5: - ETA: 5: - ETA: 5: - ETA: 5: - ETA: 5: - ETA: 5: - ETA: 5: - ETA: 5: - ETA: 5: - ETA: 5: - ETA: 5: - ETA: 5: - ETA: 5: - ETA: 5: - ETA: 5: - ETA: 5: - ETA: 5: - ETA: 5: - ETA: 5: - ETA: 5: - ETA: 5: - ETA: 5: - ETA: 5: - ETA: 5: - ETA: 5: - ETA: 5: - ETA: 5: - ETA: 5: - ETA: 5: - ETA: 5: - ETA: 5: - ETA: 5: - ETA: 5: - ETA: 5: - ETA: 5: - ETA: 5: - ETA: 5: - ETA: 5: - ETA: 5: - ETA: 5: - ETA: 5: - ETA: 5: - ETA: 5: - ETA: 5: - ETA: 5: - ETA: 5: - ETA: 5: - ETA: 5: - ETA: 5: - ETA: 5: - ETA: 5: - ETA: 5: - ETA: 5: - ETA: 5: - ETA: 5: - ETA: 5: - ETA: 5: - ETA: 5: - ETA: 5: - ETA: 5: - ETA: 5: - ETA: 5: - ETA: 5: - ETA: 5: - ETA: 5: - ETA: 5: - ETA: 5: - ETA: 5: - ETA: 5: - ETA: 5: - ETA: 5: - ETA: 5: - ETA: 5: - ETA: 5: - ETA: 5: - ETA: 5: - ETA: 5: - ETA: 5: - ETA: 5: - ETA: 5: - ETA: 5: - ETA: 5: - ETA: 5: - ETA: 5: - ETA: 5: - ETA: 5: - ETA: 5: - ETA: 5: - ETA: 5: - ETA: 5: - ETA: 5: - ETA: 5: - ETA: 5: - ETA: 5: - ETA: 5: - ETA: 5: - ETA: 5: - ETA: 5: - ETA: 5: - ETA: 5: - ETA: 5: - ETA: 5: - ETA: 5: - ETA: 5: - ETA: 5: - ETA: 5: - ETA: 5: - ETA: 5: - ETA: 5: - ETA: 5: - ETA: 5: - ETA: 5: - ETA: 5: - ETA: 5: - ETA: 5: - ETA: 5: - ETA: 5: - ETA: 5: - ETA: 5: - ETA: 5: - ETA: 5: - ETA: 5: - ETA: 5: - ETA: 5: - ETA: 5: - ETA: 5: - ETA: 5: - ETA: 5: - ETA: 5: - ETA: 5: - ETA: 5: - ETA: 5: - ETA: 5: - ETA: 5: - ETA: 5: - ETA: 5: - ETA: 5: - ETA: 5: - ETA: 5: - ETA: 5: - ETA: 5: - ETA: 5: - ETA: 5: - ETA: 5: - ETA: 5: - ETA: 5: - ETA: 5: - ETA: 5: - ETA: 5: - ETA: 5: - ETA: 5: - ETA: 5: - ETA: 5: - ETA: 5: - ETA: 5: - ETA: 5: - ETA: 5: - ETA: 5: - ETA: 5: - ETA: 5: - ETA: 5: - ETA: 5: - ETA: 5: - ETA: 5: - ETA: 5: - ETA: 5: - ETA: 5: - ETA: 5: - ETA: 5: - ETA: 5: - ETA: 5: - ETA: 5: - ETA: 5: - ETA: 5: - ETA: 5: - ETA: 5: - ETA: 5: - ETA: 5: - ETA: 5: - ETA: 5: - ETA: 5: - ETA: 5: - ETA: 5: - ETA: 5: - ETA: 5: - ETA: 5: - ETA: 5: - ETA: 5: - ETA: 5: - ETA: 5: - ETA: 5: - ETA: 5: - ETA: 5: - ETA: 5: - ETA: 5: - ETA: 5: - ETA: 5: - ETA: 5: - ETA: 5: - ETA: 5: - ETA: 5: - ETA: 5: - ETA: 5: - ETA: 5: - ETA: 5: - ETA: 5: - ETA: 5: - ETA: 5: - ETA: 5: - ETA: 5: - ETA: 5: - ETA: 5: - ETA: 5: - ETA: 5: - ETA: 5: - ETA: 5: - ETA: 5: - ETA: 5: - ETA: 5: - ETA: 5: - ETA: 5: - ETA: 5: - ETA: 5: - ETA: 5: - ETA: 5: - ETA: 5: - ETA: 5: - ETA: 5: - ETA: 5: - ETA: 5: - ETA: 5: - ETA: 5: - ETA: 5: - ETA: 5: - ETA: 5: - ETA: 5: - ETA: 5: - ETA: 5: - ETA: 5: - ETA: 5: - ETA: 5: - ETA: 5: - ETA: 5: - ETA: 5: - ETA: 5: - ETA: 5: - ETA: 5: - ETA: 5: - ETA: 5: - ETA: 5: - ETA: 5: - ETA: 5: - ETA: 5: - ETA: 5: - ETA: 5: - ETA: 5: - ETA: 5: - ETA: 5: - ETA: 5: - ETA: 5: - ETA: 5: - ETA: 5: - ETA: 5: - ETA: 5: - ETA: 5: - ETA: 5: - ETA: 5: - ETA: 5: - ETA: 5: - ETA: 5: - ETA: 5: - ETA: 5: - ETA: 5: - ETA: 5: - ETA: 5: - ETA: 5: - ETA: 5: - ETA: 5: - ETA: 5: - ETA: 5: - ETA: 5: - ETA: 5: - ETA: 5: - ETA: 5: - ETA: 5: - ETA: 5: - ETA: 5: - ETA: 5: - ETA: 5: - ETA: 5: - ETA: 5: - ETA: 5: - ETA: 5: - ETA: 5: - ETA: 5: - ETA: 5: - ETA: 5: - ETA: 5: - ETA: 5: - ETA: 5: - ETA: 5: - ETA: 5: - ETA: 5: - ETA: 5: - ETA: 5: - ETA: 5: - ETA: 5: - ETA: 5: - ETA: 5: - ETA: 5: - ETA: 5: - ETA: 5: - ETA: 5: - ETA: 5: - ETA: 5: - ETA: 5: - ETA: 5: - ETA: 5: - ETA: 5: - ETA: 5: - ETA: 5: - ETA: 5: - ETA: 5: - ETA: 5: - ETA: 5: - ETA: 5: - ETA: 5: - ETA: 5: - ETA: 5: - ETA: 5: - ETA: 5: - ETA: 5: - ETA: 5: - ETA: 5: - ETA: 5: - ETA: 5: - ETA: 5: - ETA: 5: - ETA: 5: - ETA: 5: - ETA: 5: - ETA: 5: - ETA: 5: - ETA: 5: - ETA: 5: - ETA: 5: - ETA: 5: - ETA: 5: - ETA: 5: - ETA: 5: - ETA: 5: - ETA: 5: - ETA: 5: - ETA: 5: - ETA: 5: - ETA: 5: - ETA: 5: - ETA: 5: - ETA: 5: - ETA: 5: - ETA: 5: - ETA: 5: - ETA: 5: - ETA: 5: - ETA: 5: - ETA: 5: - ETA: 5: - ETA: 5: - ETA: 5: - ETA: 5: - ETA: 5: - ETA: 5: - ETA: 5: - ETA: 5: - ETA: 5: - ETA: 5: - ETA: 5: - ETA: 5: - ETA: 5: - ETA: 5: - ETA: 5: - ETA: 5: - ETA: 5: - ETA: 5: - ETA: 5: - ETA: 5: - ETA: 5: - ETA: 5: - ETA: 5: - ETA: 5: - ETA: 5: - ETA: 5: - ETA: 5: - ETA: 5: - ETA: 5: - ETA: 5: - ETA: 5: - ETA: 5: - ETA: 5: - ETA: 5: - ETA: 5: - ETA: 5: - ETA: 5: - ETA: 5: - ETA: 5: - ETA: 5: - ETA: 5: - ETA: 5: - ETA: 5: - ETA: 5: - ETA: 5: - ETA: 5: - ETA: 5: - ETA: 5: - ETA: 5: - ETA: 5: - ETA: 5: - ETA: 5: - ETA: 5: - ETA: 5: - ETA: 5: - ETA: 5: - ETA: 5: - ETA: 5: - ETA: 5: - ETA: 5: - ETA: 5: - ETA: 5: - ETA: 5: - ETA: 5: - ETA: 5: - ETA: 5: - ETA: 5: - ETA: 5: - ETA: 5: - ETA: 5: - ETA: 5: - ETA: 5: - ETA: 5: - ETA: 5: - ETA: 5: - ETA: 5: - ETA: 5: - ETA: 5: - ETA: 5: - ETA: 5: - ETA: 5: - ETA: 5: - ETA: 5: - ETA: 5: - ETA: 5: - ETA: 5: - ETA: 5: - ETA: 5: - ETA: 5: - ETA: 5: - ETA: 5: - ETA: 5: - ETA: 5: - ETA: 5: - ETA: 5: - ETA: 5: - ETA: 5: - ETA: 5: - ETA: 5: - ETA: 5: - ETA: 5: - ETA: 5: - ETA: 5: - ETA: 5: - ETA: 5: - ETA: 5: - ETA: 5: - ETA: 5: - ETA: 5: - ETA: 5: - ETA: 5: - ETA: 5: - ETA: 5: - ETA: 5: - ETA: 5: - ETA: 5: - ETA: 5: - ETA: 5: - ETA: 5: - ETA: 5: - ETA: 5: - ETA: 5: - ETA: 5: - ETA: 5: - ETA: 5: - ETA: 5: - ETA: 5: - ETA: 5: - ETA: 5: - ETA: 5: - ETA: 5: - ETA: 5: - ETA: 5: - ETA: 5: - ETA: 5: - ETA: 5: - ETA: 5: - ETA: 5: - ETA: 5: - ETA: 5: - ETA: 5: - ETA: 5: - ETA: 5: - ETA: 5: - ETA: 5: - ETA: 5: - ETA: 5: - ETA: 5: - ETA: 5: - ETA: 5: - ETA: 5: - ETA: 5: - ETA: 5: - ETA: 5: - ETA: 5: - ETA: 5: - ETA: 5: - ETA: 5: - ETA: 5: - ETA: 5: - ETA: 5: - ETA: 5: - ETA: 5: - ETA: 5: - ETA: 5: - ETA: 5: - ETA: 5: - ETA: 5: - ETA: 5: - ETA: 5: - ETA: 5: - ETA: 5: - ETA: 5: - ETA: 5: - ETA: 5: - ETA: 5: - ETA: 5: - ETA: 5: - ETA: 5: - ETA: 5: - ETA: 5: - ETA: 5: - ETA: 5: - ETA: 5: - ETA: 5: - ETA: 5: - ETA: 5: - ETA: 5: - ETA: 5: - ETA: 5: - ETA: 5: - ETA: 5: - ETA: 5: - ETA: 5: - ETA: 5: - ETA: 5: - ETA: 5: - ETA: 5: - ETA: 5: - ETA: 5: - ETA: 5: - ETA: 5: - ETA: 5: - ETA: 5: - ETA: 5: - ETA: 5: - ETA: 5: - ETA: 5: - ETA: 5: - ETA: 5: - ETA: 5:07120807424/170498071 [====================>.........] - ETA: 5: - ETA: 5: - ETA: 5: - ETA: 5: - ETA: 5: - ETA: 5: - ETA: 5: - ETA: 5: - ETA: 5: - ETA: 5: - ETA: 5: - ETA: 5: - ETA: 5: - ETA: 5: - ETA: 5: - ETA: 5: - ETA: 5: - ETA: 5: - ETA: 5: - ETA: 5: - ETA: 5: - ETA: 5: - ETA: 5: - ETA: 5: - ETA: 5: - ETA: 5: - ETA: 5: - ETA: 5: - ETA: 5: - ETA: 5: - ETA: 5: - ETA: 5: - ETA: 4: - ETA: 4: - ETA: 4: - ETA: 4: - ETA: 4: - ETA: 4: - ETA: 4: - ETA: 4: - ETA: 4: - ETA: 4: - ETA: 4: - ETA: 4: - ETA: 4: - ETA: 4: - ETA: 4: - ETA: 4: - ETA: 4: - ETA: 4: - ETA: 4: - ETA: 4: - ETA: 4: - ETA: 4: - ETA: 4: - ETA: 4: - ETA: 4: - ETA: 4: - ETA: 4: - ETA: 4: - ETA: 4: - ETA: 4: - ETA: 4: - ETA: 4: - ETA: 4: - ETA: 4: - ETA: 4: - ETA: 4: - ETA: 4: - ETA: 4: - ETA: 4: - ETA: 4: - ETA: 4: - ETA: 4: - ETA: 4: - ETA: 4: - ETA: 4: - ETA: 4: - ETA: 4: - ETA: 4: - ETA: 4: - ETA: 4: - ETA: 4: - ETA: 4: - ETA: 4: - ETA: 4: - ETA: 4: - ETA: 4: - ETA: 4: - ETA: 4: - ETA: 4: - ETA: 4: - ETA: 4: - ETA: 4: - ETA: 4: - ETA: 4: - ETA: 4: - ETA: 4: - ETA: 4: - ETA: 4: - ETA: 4: - ETA: 4: - ETA: 4: - ETA: 4: - ETA: 4: - ETA: 4: - ETA: 4: - ETA: 4: - ETA: 4: - ETA: 4: - ETA: 4: - ETA: 4: - ETA: 4: - ETA: 4: - ETA: 4: - ETA: 4: - ETA: 4: - ETA: 4: - ETA: 4: - ETA: 4: - ETA: 4: - ETA: 4: - ETA: 4: - ETA: 4: - ETA: 4: - ETA: 4: - ETA: 4: - ETA: 4: - ETA: 4: - ETA: 4: - ETA: 4: - ETA: 4: - ETA: 4: - ETA: 4: - ETA: 4: - ETA: 4: - ETA: 4: - ETA: 4: - ETA: 4: - ETA: 4: - ETA: 4: - ETA: 4: - ETA: 4: - ETA: 4: - ETA: 4: - ETA: 4: - ETA: 4: - ETA: 4: - ETA: 4: - ETA: 4: - ETA: 4: - ETA: 4: - ETA: 4: - ETA: 4: - ETA: 4: - ETA: 4: - ETA: 4: - ETA: 4: - ETA: 4: - ETA: 4: - ETA: 4: - ETA: 4: - ETA: 4: - ETA: 4: - ETA: 4: - ETA: 4: - ETA: 4: - ETA: 4: - ETA: 4: - ETA: 4: - ETA: 4: - ETA: 4: - ETA: 4: - ETA: 4: - ETA: 4: - ETA: 4: - ETA: 4: - ETA: 4: - ETA: 4: - ETA: 4: - ETA: 4: - ETA: 4: - ETA: 4: - ETA: 4: - ETA: 4: - ETA: 4: - ETA: 4: - ETA: 4: - ETA: 4: - ETA: 4: - ETA: 4: - ETA: 4: - ETA: 4: - ETA: 4: - ETA: 4: - ETA: 4: - ETA: 4: - ETA: 4: - ETA: 4: - ETA: 4: - ETA: 4: - ETA: 4: - ETA: 4: - ETA: 4: - ETA: 4: - ETA: 4: - ETA: 4: - ETA: 4: - ETA: 4: - ETA: 4: - ETA: 4: - ETA: 4: - ETA: 4: - ETA: 4: - ETA: 4: - ETA: 4: - ETA: 4: - ETA: 4: - ETA: 4: - ETA: 4: - ETA: 4: - ETA: 4: - ETA: 4: - ETA: 4: - ETA: 4: - ETA: 4: - ETA: 4: - ETA: 4: - ETA: 4: - ETA: 4: - ETA: 4: - ETA: 4: - ETA: 4: - ETA: 4: - ETA: 4: - ETA: 4: - ETA: 4: - ETA: 4: - ETA: 4: - ETA: 4: - ETA: 4: - ETA: 4: - ETA: 4: - ETA: 4: - ETA: 4: - ETA: 4: - ETA: 4: - ETA: 4: - ETA: 4: - ETA: 4: - ETA: 4: - ETA: 4: - ETA: 4: - ETA: 4: - ETA: 4: - ETA: 4: - ETA: 4: - ETA: 4: - ETA: 4: - ETA: 4: - ETA: 4: - ETA: 4: - ETA: 4: - ETA: 4: - ETA: 4: - ETA: 4: - ETA: 4: - ETA: 4: - ETA: 4: - ETA: 4: - ETA: 4: - ETA: 4: - ETA: 4: - ETA: 4: - ETA: 4: - ETA: 4: - ETA: 4: - ETA: 4: - ETA: 4: - ETA: 4: - ETA: 4: - ETA: 4: - ETA: 4: - ETA: 4: - ETA: 4: - ETA: 4: - ETA: 4: - ETA: 4: - ETA: 4: - ETA: 4: - ETA: 4: - ETA: 4: - ETA: 4: - ETA: 4: - ETA: 4: - ETA: 4: - ETA: 4: - ETA: 4: - ETA: 4: - ETA: 4: - ETA: 4: - ETA: 4: - ETA: 4: - ETA: 4: - ETA: 4: - ETA: 4: - ETA: 4: - ETA: 4: - ETA: 4: - ETA: 4: - ETA: 4: - ETA: 4: - ETA: 4: - ETA: 4: - ETA: 4: - ETA: 4: - ETA: 4: - ETA: 4: - ETA: 4: - ETA: 4: - ETA: 4: - ETA: 4: - ETA: 4: - ETA: 4: - ETA: 4: - ETA: 4: - ETA: 4: - ETA: 4: - ETA: 4: - ETA: 4: - ETA: 4: - ETA: 4: - ETA: 4: - ETA: 4: - ETA: 4: - ETA: 4: - ETA: 4: - ETA: 4: - ETA: 4: - ETA: 4: - ETA: 4: - ETA: 4: - ETA: 4: - ETA: 4: - ETA: 4: - ETA: 4: - ETA: 4: - ETA: 4: - ETA: 4: - ETA: 4: - ETA: 4: - ETA: 4: - ETA: 4: - ETA: 4: - ETA: 4: - ETA: 4: - ETA: 4: - ETA: 4: - ETA: 4: - ETA: 4: - ETA: 4: - ETA: 4: - ETA: 4: - ETA: 4: - ETA: 4: - ETA: 4: - ETA: 4: - ETA: 4: - ETA: 4: - ETA: 4: - ETA: 4: - ETA: 4: - ETA: 4: - ETA: 4: - ETA: 4: - ETA: 4: - ETA: 4: - ETA: 4: - ETA: 4: - ETA: 4: - ETA: 4: - ETA: 4: - ETA: 4: - ETA: 4: - ETA: 4: - ETA: 4: - ETA: 4: - ETA: 4: - ETA: 4: - ETA: 4: - ETA: 4: - ETA: 4: - ETA: 4: - ETA: 4: - ETA: 4: - ETA: 4: - ETA: 4: - ETA: 4: - ETA: 4: - ETA: 4: - ETA: 4: - ETA: 4: - ETA: 4: - ETA: 4: - ETA: 4: - ETA: 4: - ETA: 4: - ETA: 4: - ETA: 4: - ETA: 4: - ETA: 4: - ETA: 4: - ETA: 4: - ETA: 3: - ETA: 3: - ETA: 3: - ETA: 3: - ETA: 3: - ETA: 3: - ETA: 3: - ETA: 3: - ETA: 3: - ETA: 3: - ETA: 3: - ETA: 3: - ETA: 3: - ETA: 3: - ETA: 3: - ETA: 3: - ETA: 3: - ETA: 3: - ETA: 3: - ETA: 3: - ETA: 3: - ETA: 3: - ETA: 3: - ETA: 3: - ETA: 3: - ETA: 3: - ETA: 3: - ETA: 3: - ETA: 3: - ETA: 3: - ETA: 3: - ETA: 3: - ETA: 3: - ETA: 3: - ETA: 3: - ETA: 3: - ETA: 3: - ETA: 3: - ETA: 3: - ETA: 3: - ETA: 3: - ETA: 3: - ETA: 3: - ETA: 3: - ETA: 3: - ETA: 3: - ETA: 3: - ETA: 3: - ETA: 3: - ETA: 3: - ETA: 3: - ETA: 3: - ETA: 3: - ETA: 3: - ETA: 3: - ETA: 3: - ETA: 3: - ETA: 3: - ETA: 3: - ETA: 3: - ETA: 3: - ETA: 3: - ETA: 3: - ETA: 3: - ETA: 3: - ETA: 3: - ETA: 3: - ETA: 3: - ETA: 3: - ETA: 3: - ETA: 3: - ETA: 3: - ETA: 3: - ETA: 3: - ETA: 3: - ETA: 3: - ETA: 3: - ETA: 3: - ETA: 3: - ETA: 3: - ETA: 3: - ETA: 3: - ETA: 3: - ETA: 3: - ETA: 3: - ETA: 3: - ETA: 3: - ETA: 3: - ETA: 3: - ETA: 3: - ETA: 3: - ETA: 3: - ETA: 3: - ETA: 3: - ETA: 3: - ETA: 3: - ETA: 3: - ETA: 3: - ETA: 3: - ETA: 3: - ETA: 3: - ETA: 3: - ETA: 3: - ETA: 3: - ETA: 3: - ETA: 3: - ETA: 3: - ETA: 3: - ETA: 3: - ETA: 3: - ETA: 3: - ETA: 3: - ETA: 3: - ETA: 3: - ETA: 3: - ETA: 3: - ETA: 3: - ETA: 3: - ETA: 3: - ETA: 3: - ETA: 3: - ETA: 3: - ETA: 3: - ETA: 3: - ETA: 3: - ETA: 3: - ETA: 3: - ETA: 3: - ETA: 3: - ETA: 3: - ETA: 3: - ETA: 3: - ETA: 3: - ETA: 3: - ETA: 3: - ETA: 3: - ETA: 3: - ETA: 3: - ETA: 3: - ETA: 3: - ETA: 3: - ETA: 3: - ETA: 3: - ETA: 3: - ETA: 3: - ETA: 3: - ETA: 3: - ETA: 3: - ETA: 3: - ETA: 3: - ETA: 3: - ETA: 3: - ETA: 3: - ETA: 3: - ETA: 3: - ETA: 3: - ETA: 3: - ETA: 3: - ETA: 3: - ETA: 3: - ETA: 3: - ETA: 3: - ETA: 3: - ETA: 3: - ETA: 3: - ETA: 3: - ETA: 3: - ETA: 3: - ETA: 3: - ETA: 3: - ETA: 3: - ETA: 3: - ETA: 3: - ETA: 3: - ETA: 3: - ETA: 3: - ETA: 3: - ETA: 3: - ETA: 3: - ETA: 3: - ETA: 3: - ETA: 3: - ETA: 3: - ETA: 3: - ETA: 3: - ETA: 3: - ETA: 3: - ETA: 3: - ETA: 3: - ETA: 3: - ETA: 3: - ETA: 3: - ETA: 3: - ETA: 3: - ETA: 3: - ETA: 3: - ETA: 3: - ETA: 3: - ETA: 3: - ETA: 3: - ETA: 3: - ETA: 3: - ETA: 3: - ETA: 3: - ETA: 3: - ETA: 3: - ETA: 3: - ETA: 3: - ETA: 3: - ETA: 3: - ETA: 3: - ETA: 3: - ETA: 3: - ETA: 3: - ETA: 3: - ETA: 3: - ETA: 3: - ETA: 3: - ETA: 3: - ETA: 3: - ETA: 3: - ETA: 3: - ETA: 3: - ETA: 3: - ETA: 3: - ETA: 3: - ETA: 3: - ETA: 3: - ETA: 3: - ETA: 3: - ETA: 3: - ETA: 3: - ETA: 3: - ETA: 3: - ETA: 3: - ETA: 3: - ETA: 3: - ETA: 3: - ETA: 3: - ETA: 3: - ETA: 3: - ETA: 3: - ETA: 2: - ETA: 2: - ETA: 2: - ETA: 2: - ETA: 2: - ETA: 2: - ETA: 2: - ETA: 2: - ETA: 2: - ETA: 2: - ETA: 2: - ETA: 2: - ETA: 2: - ETA: 2: - ETA: 2: - ETA: 2: - ETA: 2: - ETA: 2: - ETA: 2: - ETA: 2: - ETA: 2: - ETA: 2: - ETA: 2: - ETA: 2: - ETA: 2: - ETA: 2: - ETA: 2: - ETA: 2: - ETA: 2: - ETA: 2: - ETA: 2: - ETA: 2: - ETA: 2: - ETA: 2: - ETA: 2: - ETA: 2: - ETA: 2: - ETA: 2: - ETA: 2: - ETA: 2: - ETA: 2: - ETA: 2: - ETA: 2: - ETA: 2: - ETA: 2: - ETA: 2: - ETA: 2: - ETA: 2: - ETA: 2: - ETA: 2: - ETA: 2: - ETA: 2: - ETA: 2: - ETA: 2: - ETA: 2: - ETA: 2: - ETA: 2: - ETA: 2: - ETA: 2: - ETA: 2: - ETA: 2: - ETA: 2: - ETA: 2: - ETA: 2: - ETA: 2: - ETA: 2: - ETA: 2: - ETA: 2: - ETA: 2: - ETA: 2: - ETA: 2: - ETA: 2: - ETA: 2: - ETA: 2: - ETA: 2: - ETA: 2: - ETA: 2: - ETA: 2: - ETA: 2: - ETA: 2: - ETA: 2: - ETA: 2: - ETA: 2: - ETA: 2: - ETA: 2: - ETA: 2: - ETA: 2: - ETA: 2: - ETA: 2: - ETA: 2: - ETA: 2: - ETA: 2: - ETA: 2: - ETA: 2: - ETA: 2: - ETA: 2: - ETA: 2: - ETA: 2: - ETA: 2: - ETA: 2: - ETA: 2: - ETA: 2: - ETA: 2: - ETA: 2: - ETA: 2: - ETA: 2: - ETA: 2: - ETA: 2: - ETA: 2: - ETA: 2: - ETA: 2: - ETA: 2: - ETA: 2: - ETA: 2: - ETA: 2: - ETA: 2: - ETA: 2: - ETA: 2: - ETA: 2: - ETA: 2: - ETA: 2: - ETA: 2: - ETA: 2: - ETA: 2: - ETA: 2: - ETA: 2: - ETA: 2: - ETA: 2: - ETA: 2: - ETA: 2: - ETA: 2: - ETA: 2: - ETA: 2: - ETA: 2: - ETA: 2: - ETA: 2: - ETA: 2: - ETA: 2: - ETA: 2: - ETA: 2: - ETA: 2: - ETA: 2: - ETA: 2: - ETA: 2: - ETA: 2: - ETA: 2: - ETA: 2: - ETA: 2: - ETA: 2: - ETA: 2: - ETA: 2: - ETA: 2: - ETA: 2: - ETA: 2: - ETA: 2: - ETA: 2: - ETA: 2: - ETA: 2: - ETA: 2:35151216128/170498071 [=========================>....] - ETA: 2: - ETA: 2: - ETA: 2: - ETA: 2: - ETA: 2: - ETA: 2: - ETA: 2: - ETA: 2: - ETA: 2: - ETA: 2: - ETA: 2: - ETA: 2: - ETA: 2: - ETA: 2: - ETA: 2: - ETA: 2: - ETA: 2: - ETA: 2: - ETA: 2: - ETA: 2: - ETA: 2: - ETA: 2: - ETA: 2: - ETA: 2: - ETA: 2: - ETA: 2: - ETA: 2: - ETA: 2: - ETA: 2: - ETA: 2: - ETA: 2: - ETA: 2: - ETA: 2: - ETA: 2: - ETA: 2: - ETA: 2: - ETA: 2: - ETA: 2: - ETA: 2: - ETA: 2: - ETA: 2: - ETA: 2: - ETA: 2: - ETA: 2: - ETA: 2: - ETA: 2: - ETA: 2: - ETA: 2: - ETA: 2: - ETA: 2: - ETA: 2: - ETA: 2: - ETA: 2: - ETA: 2: - ETA: 2: - ETA: 2: - ETA: 2: - ETA: 2: - ETA: 2: - ETA: 2: - ETA: 2: - ETA: 2: - ETA: 2: - ETA: 2: - ETA: 2: - ETA: 2: - ETA: 2: - ETA: 2: - ETA: 2: - ETA: 2: - ETA: 2: - ETA: 2: - ETA: 2: - ETA: 2: - ETA: 2: - ETA: 2: - ETA: 2: - ETA: 2: - ETA: 2: - ETA: 2: - ETA: 2: - ETA: 2: - ETA: 2: - ETA: 2: - ETA: 2: - ETA: 2: - ETA: 2: - ETA: 2: - ETA: 2: - ETA: 2: - ETA: 2: - ETA: 2: - ETA: 2: - ETA: 2: - ETA: 2: - ETA: 2: - ETA: 2: - ETA: 2: - ETA: 2: - ETA: 2: - ETA: 2: - ETA: 2: - ETA: 2: - ETA: 2: - ETA: 2: - ETA: 2: - ETA: 2: - ETA: 2: - ETA: 2: - ETA: 2: - ETA: 2: - ETA: 2: - ETA: 2: - ETA: 2: - ETA: 2: - ETA: 2: - ETA: 2: - ETA: 2: - ETA: 2: - ETA: 2: - ETA: 2: - ETA: 2: - ETA: 2: - ETA: 2: - ETA: 2: - ETA: 2: - ETA: 2: - ETA: 2: - ETA: 2: - ETA: 2: - ETA: 2: - ETA: 2: - ETA: 2: - ETA: 2: - ETA: 2: - ETA: 2: - ETA: 2: - ETA: 2: - ETA: 2: - ETA: 2: - ETA: 2: - ETA: 2: - ETA: 2: - ETA: 2: - ETA: 2: - ETA: 2: - ETA: 2: - ETA: 2: - ETA: 2: - ETA: 2: - ETA: 2: - ETA: 2: - ETA: 2: - ETA: 2: - ETA: 2: - ETA: 2: - ETA: 2: - ETA: 2: - ETA: 2: - ETA: 2: - ETA: 2: - ETA: 2: - ETA: 2: - ETA: 2: - ETA: 2: - ETA: 2: - ETA: 2: - ETA: 2: - ETA: 2: - ETA: 2: - ETA: 2: - ETA: 2: - ETA: 2: - ETA: 2: - ETA: 2: - ETA: 2: - ETA: 2: - ETA: 2: - ETA: 2: - ETA: 2: - ETA: 2: - ETA: 2: - ETA: 2: - ETA: 2: - ETA: 2: - ETA: 2: - ETA: 2: - ETA: 2: - ETA: 2: - ETA: 2: - ETA: 2: - ETA: 2: - ETA: 2: - ETA: 2: - ETA: 2: - ETA: 2: - ETA: 2: - ETA: 2: - ETA: 2: - ETA: 2: - ETA: 2: - ETA: 2: - ETA: 2: - ETA: 2: - ETA: 2: - ETA: 2: - ETA: 2: - ETA: 2: - ETA: 2: - ETA: 2: - ETA: 2: - ETA: 2: - ETA: 2: - ETA: 2: - ETA: 2: - ETA: 2: - ETA: 2: - ETA: 2: - ETA: 2: - ETA: 2: - ETA: 2: - ETA: 2: - ETA: 2: - ETA: 2: - ETA: 2: - ETA: 2: - ETA: 2: - ETA: 2: - ETA: 2: - ETA: 2: - ETA: 2: - ETA: 2: - ETA: 2: - ETA: 2: - ETA: 2: - ETA: 2: - ETA: 2: - ETA: 2: - ETA: 2: - ETA: 2: - ETA: 2: - ETA: 2: - ETA: 2: - ETA: 2: - ETA: 2: - ETA: 2: - ETA: 2: - ETA: 2: - ETA: 2: - ETA: 2: - ETA: 2: - ETA: 2: - ETA: 2: - ETA: 2: - ETA: 2: - ETA: 2: - ETA: 2: - ETA: 2: - ETA: 2: - ETA: 2: - ETA: 2: - ETA: 2: - ETA: 2: - ETA: 2: - ETA: 2: - ETA: 2: - ETA: 2: - ETA: 2: - ETA: 2: - ETA: 2: - ETA: 2: - ETA: 2: - ETA: 2: - ETA: 2: - ETA: 2: - ETA: 2: - ETA: 2: - ETA: 2: - ETA: 2: - ETA: 2: - ETA: 2: - ETA: 2: - ETA: 2: - ETA: 2: - ETA: 2: - ETA: 2: - ETA: 2: - ETA: 2: - ETA: 2: - ETA: 2: - ETA: 2: - ETA: 2: - ETA: 2: - ETA: 2: - ETA: 2: - ETA: 2: - ETA: 2: - ETA: 2: - ETA: 2: - ETA: 2: - ETA: 2: - ETA: 2: - ETA: 2: - ETA: 2: - ETA: 2: - ETA: 2: - ETA: 2: - ETA: 2: - ETA: 2: - ETA: 2: - ETA: 2: - ETA: 2: - ETA: 2: - ETA: 2: - ETA: 2: - ETA: 2: - ETA: 2: - ETA: 2: - ETA: 2: - ETA: 2: - ETA: 2: - ETA: 2: - ETA: 2: - ETA: 2: - ETA: 2: - ETA: 2: - ETA: 2: - ETA: 2: - ETA: 2: - ETA: 2: - ETA: 2: - ETA: 2: - ETA: 2: - ETA: 2: - ETA: 2: - ETA: 2: - ETA: 2: - ETA: 2: - ETA: 2: - ETA: 2: - ETA: 2: - ETA: 2: - ETA: 2: - ETA: 2: - ETA: 2: - ETA: 2: - ETA: 2: - ETA: 2: - ETA: 2: - ETA: 2: - ETA: 2: - ETA: 1: - ETA: 1: - ETA: 1: - ETA: 1: - ETA: 1: - ETA: 1: - ETA: 1: - ETA: 1: - ETA: 1: - ETA: 1: - ETA: 1: - ETA: 1: - ETA: 1: - ETA: 1: - ETA: 1: - ETA: 1: - ETA: 1: - ETA: 1: - ETA: 1: - ETA: 1: - ETA: 1: - ETA: 1: - ETA: 1: - ETA: 1: - ETA: 1: - ETA: 1: - ETA: 1: - ETA: 1: - ETA: 1: - ETA: 1: - ETA: 1: - ETA: 1: - ETA: 1: - ETA: 1: - ETA: 1: - ETA: 1: - ETA: 1: - ETA: 1: - ETA: 1: - ETA: 1: - ETA: 1: - ETA: 1: - ETA: 1: - ETA: 1: - ETA: 1: - ETA: 1: - ETA: 1: - ETA: 1: - ETA: 1: - ETA: 1: - ETA: 1: - ETA: 1: - ETA: 1: - ETA: 1: - ETA: 1: - ETA: 1: - ETA: 1: - ETA: 1: - ETA: 1: - ETA: 1: - ETA: 1: - ETA: 1: - ETA: 1: - ETA: 1: - ETA: 1: - ETA: 1: - ETA: 1: - ETA: 1: - ETA: 1: - ETA: 1: - ETA: 1: - ETA: 1: - ETA: 1: - ETA: 1: - ETA: 1: - ETA: 1: - ETA: 1: - ETA: 1: - ETA: 1: - ETA: 1: - ETA: 1: - ETA: 1: - ETA: 1: - ETA: 1: - ETA: 1: - ETA: 1: - ETA: 1: - ETA: 1: - ETA: 1: - ETA: 1: - ETA: 1: - ETA: 1: - ETA: 1: - ETA: 1: - ETA: 1: - ETA: 1: - ETA: 1: - ETA: 1: - ETA: 1: - ETA: 1: - ETA: 1: - ETA: 1: - ETA: 1: - ETA: 1: - ETA: 1: - ETA: 1: - ETA: 1: - ETA: 1: - ETA: 1: - ETA: 1: - ETA: 1: - ETA: 1: - ETA: 1: - ETA: 1: - ETA: 1: - ETA: 1: - ETA: 1: - ETA: 1: - ETA: 1: - ETA: 1: - ETA: 1: - ETA: 1: - ETA: 1: - ETA: 1: - ETA: 1: - ETA: 1: - ETA: 1: - ETA: 1: - ETA: 1: - ETA: 1: - ETA: 1: - ETA: 1: - ETA: 1: - ETA: 1: - ETA: 1: - ETA: 1: - ETA: 1: - ETA: 1: - ETA: 1: - ETA: 1: - ETA: 1: - ETA: 1: - ETA: 1: - ETA: 1: - ETA: 1: - ETA: 1: - ETA: 1: - ETA: 1: - ETA: 1: - ETA: 1: - ETA: 1: - ETA: 1: - ETA: 1: - ETA: 1: - ETA: 1: - ETA: 1: - ETA: 1: - ETA: 1: - ETA: 1: - ETA: 1: - ETA: 1: - ETA: 1: - ETA: 1: - ETA: 1: - ETA: 1: - ETA: 1: - ETA: 1: - ETA: 1: - ETA: 1: - ETA: 1: - ETA: 1: - ETA: 1: - ETA: 1: - ETA: 1: - ETA: 1: - ETA: 1: - ETA: 1: - ETA: 1: - ETA: 1: - ETA: 1: - ETA: 1: - ETA: 1: - ETA: 1: - ETA: 1: - ETA: 1: - ETA: 1: - ETA: 1: - ETA: 1: - ETA: 1: - ETA: 1: - ETA: 1: - ETA: 1: - ETA: 1: - ETA: 1: - ETA: 1: - ETA: 1: - ETA: 1: - ETA: 1: - ETA: 1: - ETA: 1: - ETA: 1: - ETA: 1: - ETA: 1: - ETA: 1: - ETA: 1: - ETA: 1: - ETA: 1: - ETA: 1: - ETA: 1: - ETA: 1: - ETA: 1: - ETA: 1: - ETA: 1: - ETA: 1: - ETA: 1: - ETA: 1: - ETA: 1: - ETA: 1: - ETA: 1: - ETA: 1: - ETA: 1: - ETA: 1: - ETA: 1: - ETA: 1: - ETA: 1: - ETA: 1: - ETA: 1: - ETA: 1: - ETA: 1: - ETA: 1: - ETA: 1: - ETA: 1: - ETA: 1: - ETA: 1: - ETA: 1: - ETA: 1: - ETA: 1: - ETA: 1: - ETA: 1: - ETA: 1: - ETA: 1: - ETA: 1: - ETA: 1: - ETA: 1: - ETA: 1: - ETA: 1: - ETA: 1: - ETA: 1: - ETA: 1: - ETA: 1: - ETA: 1: - ETA: 1: - ETA: 1: - ETA: 1: - ETA: 1: - ETA: 1: - ETA: 1: - ETA: 1: - ETA: 1: - ETA: 1: - ETA: 1: - ETA: 1: - ETA: 1: - ETA: 1: - ETA: 1: - ETA: 1: - ETA: 1: - ETA: 1: - ETA: 1: - ETA: 1: - ETA: 1: - ETA: 1: - ETA: 1: - ETA: 1: - ETA: 1: - ETA: 1: - ETA: 1: - ETA: 1: - ETA: 1: - ETA: 1: - ETA: 1: - ETA: 1: - ETA: 1: - ETA: 1: - ETA: 1: - ETA: 1: - ETA: 1: - ETA: 1: - ETA: 1: - ETA: 1: - ETA: 1: - ETA: 1: - ETA: 1: - ETA: 1: - ETA: 1: - ETA: 1: - ETA: 1: - ETA: 1: - ETA: 1: - ETA: 1: - ETA: 1: - ETA: 1: - ETA: 1: - ETA: 1: - ETA: 1: - ETA: 1: - ETA: 1: - ETA: 1: - ETA: 1: - ETA: 1: - ETA: 1: - ETA: 1: - ETA: 1: - ETA: 1: - ETA: 1: - ETA: 1: - ETA: 1: - ETA: 1: - ETA: 1: - ETA: 1: - ETA: 1: - ETA: 1: - ETA: 1: - ETA: 1: - ETA: 1: - ETA: 1: - ETA: 1: - ETA: 1: - ETA: 1: - ETA: 1: - ETA: 1: - ETA: 1: - ETA: 1: - ETA: 1: - ETA: 1: - ETA: 1: - ETA: 1: - ETA: 1: - ETA: 1: - ETA: 1: - ETA: 1: - ETA: 1: - ETA: 1: - ETA: 1: - ETA: 1: - ETA: 1: - ETA: 1: - ETA: 1: - ETA: 1: - ETA: 1: - ETA: 1: - ETA: 1: - ETA: 1: - ETA: 1: - ETA: 1: - ETA: 1: - ETA: 1: - ETA: 1: - ETA: 1: - ETA: 1: - ETA: 1: - ETA: 1: - ETA: 1: - ETA: 1: - ETA: 1: - ETA: 1: - ETA: 1: - ETA: 1: - ETA: 1: - ETA: 1: - ETA: 1: - ETA: 1: - ETA: 1: - ETA: 1: - ETA: 1: - ETA: 1: - ETA: 1: - ETA: 1: - ETA: 1: - ETA: 1: - ETA: 1: - ETA: 1: - ETA: 1: - ETA: 1: - ETA: 1: - ETA: 1: - ETA: 1: - ETA: 1: - ETA: 1: - ETA: 1: - ETA: 1: - ETA: 1: - ETA: 1: - ETA: 1: - ETA: 1: - ETA: 1: - ETA: 1: - ETA: 1: - ETA: 1: - ETA: 1: - ETA: 1: - ETA: 1: - ETA: 1: - ETA: 1: - ETA: 1: - ETA: 1: - ETA: 1: - ETA: 1: - ETA: 1: - ETA: 1: - ETA: 1: - ETA: 1: - ETA: 1: - ETA: 1: - ETA: 1: - ETA: 1: - ETA: 1: - ETA: 1: - ETA: 1: - ETA: 1: - ETA: 1: - ETA: 1: - ETA: 1: - ETA: 1: - ETA: 1: - ETA: 1: - ETA: 1: - ETA: 1: - ETA: 1: - ETA: 1: - ETA: 1: - ETA: 1: - ETA: 1: - ETA: 1: - ETA: 1: - ETA: 1: - ETA: 1: - ETA: 1: - ETA: 1: - ETA: 1: - ETA: 1: - ETA: 1: - ETA: 1: - ETA: 1: - ETA: 1: - ETA: 1: - ETA: 1: - ETA: 1: - ETA: 1: - ETA: 1: - ETA: 1: - ETA: 1: - ETA: 1: - ETA: 1: - ETA: 1: - ETA: 1: - ETA: 1: - ETA: 1: - ETA: 1: - ETA: 1: - ETA: 1: - ETA: 1: - ETA: 1:00170500096/170498071 [==============================] - ETA: 59s - ETA: 59 - ETA: 59 - ETA: 59 - ETA: 59 - ETA: 59 - ETA: 59 - ETA: 59 - ETA: 59 - ETA: 59 - ETA: 59 - ETA: 59 - ETA: 58 - ETA: 58 - ETA: 58 - ETA: 58 - ETA: 58 - ETA: 58 - ETA: 58 - ETA: 57 - ETA: 57 - ETA: 57 - ETA: 57 - ETA: 57 - ETA: 57 - ETA: 57 - ETA: 57 - ETA: 57 - ETA: 57 - ETA: 57 - ETA: 57 - ETA: 57 - ETA: 56 - ETA: 56 - ETA: 56 - ETA: 56 - ETA: 56 - ETA: 56 - ETA: 55 - ETA: 55 - ETA: 55 - ETA: 55 - ETA: 55 - ETA: 55 - ETA: 55 - ETA: 55 - ETA: 55 - ETA: 55 - ETA: 55 - ETA: 54 - ETA: 54 - ETA: 54 - ETA: 54 - ETA: 54 - ETA: 54 - ETA: 54 - ETA: 54 - ETA: 54 - ETA: 54 - ETA: 53 - ETA: 53 - ETA: 53 - ETA: 53 - ETA: 53 - ETA: 53 - ETA: 53 - ETA: 53 - ETA: 53 - ETA: 53 - ETA: 52 - ETA: 52 - ETA: 52 - ETA: 52 - ETA: 52 - ETA: 52 - ETA: 52 - ETA: 52 - ETA: 52 - ETA: 52 - ETA: 52 - ETA: 52 - ETA: 52 - ETA: 51 - ETA: 51 - ETA: 51 - ETA: 51 - ETA: 51 - ETA: 51 - ETA: 51 - ETA: 51 - ETA: 51 - ETA: 50 - ETA: 50 - ETA: 50 - ETA: 50 - ETA: 50 - ETA: 50 - ETA: 50 - ETA: 50 - ETA: 49 - ETA: 49 - ETA: 49 - ETA: 49 - ETA: 49 - ETA: 49 - ETA: 49 - ETA: 48 - ETA: 48 - ETA: 48 - ETA: 47 - ETA: 47 - ETA: 47 - ETA: 47 - ETA: 47 - ETA: 47 - ETA: 47 - ETA: 46 - ETA: 46 - ETA: 46 - ETA: 46 - ETA: 46 - ETA: 46 - ETA: 45 - ETA: 45 - ETA: 45 - ETA: 45 - ETA: 45 - ETA: 44 - ETA: 44 - ETA: 44 - ETA: 44 - ETA: 44 - ETA: 44 - ETA: 44 - ETA: 44 - ETA: 43 - ETA: 43 - ETA: 43 - ETA: 43 - ETA: 43 - ETA: 43 - ETA: 43 - ETA: 43 - ETA: 43 - ETA: 43 - ETA: 42 - ETA: 42 - ETA: 42 - ETA: 42 - ETA: 42 - ETA: 41 - ETA: 41 - ETA: 41 - ETA: 41 - ETA: 41 - ETA: 41 - ETA: 41 - ETA: 40 - ETA: 40 - ETA: 40 - ETA: 40 - ETA: 40 - ETA: 40 - ETA: 40 - ETA: 40 - ETA: 39 - ETA: 39 - ETA: 39 - ETA: 39 - ETA: 39 - ETA: 39 - ETA: 39 - ETA: 38 - ETA: 38 - ETA: 38 - ETA: 38 - ETA: 38 - ETA: 38 - ETA: 38 - ETA: 38 - ETA: 38 - ETA: 38 - ETA: 37 - ETA: 37 - ETA: 37 - ETA: 37 - ETA: 37 - ETA: 37 - ETA: 37 - ETA: 37 - ETA: 37 - ETA: 36 - ETA: 36 - ETA: 36 - ETA: 36 - ETA: 36 - ETA: 36 - ETA: 36 - ETA: 35 - ETA: 35 - ETA: 35 - ETA: 35 - ETA: 35 - ETA: 35 - ETA: 35 - ETA: 35 - ETA: 34 - ETA: 34 - ETA: 34 - ETA: 34 - ETA: 34 - ETA: 34 - ETA: 34 - ETA: 33 - ETA: 33 - ETA: 33 - ETA: 33 - ETA: 33 - ETA: 33 - ETA: 33 - ETA: 33 - ETA: 33 - ETA: 33 - ETA: 33 - ETA: 32 - ETA: 32 - ETA: 32 - ETA: 32 - ETA: 32 - ETA: 32 - ETA: 32 - ETA: 32 - ETA: 32 - ETA: 32 - ETA: 31 - ETA: 31 - ETA: 31 - ETA: 31 - ETA: 31 - ETA: 31 - ETA: 31 - ETA: 30 - ETA: 30 - ETA: 30 - ETA: 30 - ETA: 30 - ETA: 30 - ETA: 30 - ETA: 30 - ETA: 30 - ETA: 30 - ETA: 30 - ETA: 30 - ETA: 29 - ETA: 29 - ETA: 29 - ETA: 29 - ETA: 29 - ETA: 29 - ETA: 29 - ETA: 29 - ETA: 29 - ETA: 29 - ETA: 29 - ETA: 29 - ETA: 29 - ETA: 29 - ETA: 28 - ETA: 28 - ETA: 28 - ETA: 28 - ETA: 28 - ETA: 28 - ETA: 28 - ETA: 28 - ETA: 28 - ETA: 28 - ETA: 28 - ETA: 28 - ETA: 27 - ETA: 27 - ETA: 27 - ETA: 27 - ETA: 27 - ETA: 27 - ETA: 27 - ETA: 27 - ETA: 27 - ETA: 27 - ETA: 26 - ETA: 26 - ETA: 26 - ETA: 26 - ETA: 26 - ETA: 26 - ETA: 26 - ETA: 26 - ETA: 26 - ETA: 26 - ETA: 25 - ETA: 25 - ETA: 25 - ETA: 25 - ETA: 25 - ETA: 25 - ETA: 25 - ETA: 24 - ETA: 24 - ETA: 24 - ETA: 24 - ETA: 24 - ETA: 24 - ETA: 24 - ETA: 24 - ETA: 24 - ETA: 24 - ETA: 23 - ETA: 23 - ETA: 23 - ETA: 23 - ETA: 23 - ETA: 23 - ETA: 23 - ETA: 23 - ETA: 23 - ETA: 23 - ETA: 23 - ETA: 23 - ETA: 23 - ETA: 22 - ETA: 22 - ETA: 22 - ETA: 22 - ETA: 22 - ETA: 22 - ETA: 22 - ETA: 21 - ETA: 21 - ETA: 21 - ETA: 21 - ETA: 21 - ETA: 21 - ETA: 21 - ETA: 21 - ETA: 20 - ETA: 20 - ETA: 20 - ETA: 20 - ETA: 20 - ETA: 20 - ETA: 20 - ETA: 20 - ETA: 19 - ETA: 19 - ETA: 19 - ETA: 19 - ETA: 19 - ETA: 19 - ETA: 19 - ETA: 19 - ETA: 18 - ETA: 18 - ETA: 18 - ETA: 18 - ETA: 18 - ETA: 18 - ETA: 18 - ETA: 18 - ETA: 18 - ETA: 17 - ETA: 17 - ETA: 17 - ETA: 17 - ETA: 17 - ETA: 17 - ETA: 17 - ETA: 17 - ETA: 17 - ETA: 17 - ETA: 17 - ETA: 16 - ETA: 16 - ETA: 16 - ETA: 16 - ETA: 16 - ETA: 16 - ETA: 16 - ETA: 16 - ETA: 16 - ETA: 15 - ETA: 15 - ETA: 15 - ETA: 15 - ETA: 15 - ETA: 15 - ETA: 15 - ETA: 15 - ETA: 15 - ETA: 15 - ETA: 15 - ETA: 14 - ETA: 14 - ETA: 14 - ETA: 14 - ETA: 14 - ETA: 14 - ETA: 14 - ETA: 14 - ETA: 14 - ETA: 13 - ETA: 13 - ETA: 13 - ETA: 13 - ETA: 13 - ETA: 13 - ETA: 13 - ETA: 12 - ETA: 12 - ETA: 12 - ETA: 12 - ETA: 12 - ETA: 12 - ETA: 12 - ETA: 12 - ETA: 12 - ETA: 12 - ETA: 11 - ETA: 11 - ETA: 11 - ETA: 11 - ETA: 11 - ETA: 11 - ETA: 11 - ETA: 11 - ETA: 11 - ETA: 11 - ETA: 11 - ETA: 11 - ETA: 11 - ETA: 10 - ETA: 10 - ETA: 10 - ETA: 10 - ETA: 10 - ETA: 10 - ETA: 10 - ETA: 10 - ETA: 10 - ETA: 10 - ETA: 10 - ETA: 9 - ETA:  - ETA:  - ETA:  - ETA:  - ETA:  - ETA:  - ETA:  - ETA:  - ETA:  - ETA:  - ETA:  - ETA:  - ETA:  - ETA:  - ETA:  - ETA:  - ETA:  - ETA:  - ETA:  - ETA:  - ETA:  - ETA:  - ETA:  - ETA:  - ETA:  - ETA:  - ETA:  - ETA:  - ETA:  - ETA:  - ETA:  - ETA:  - ETA:  - ETA:  - ETA:  - ETA:  - ETA:  - ETA:  - ETA:  - ETA:  - ETA:  - ETA:  - ETA:  - ETA:  - ETA:  - ETA:  - ETA:  - ETA:  - ETA:  - ETA:  - ETA:  - ETA:  - ETA:  - ETA:  - ETA:  - ETA:  - ETA:  - ETA:  - ETA:  - ETA:  - ETA:  - ETA:  - ETA:  - ETA:  - ETA:  - ETA:  - ETA:  - ETA:  - ETA:  - ETA:  - ETA:  - ETA:  - ETA:  - ETA:  - ETA:  - ETA:  - ETA:  - ETA:  - ETA:  - ETA:  - ETA:  - ETA:  - ETA:  - ETA:  - ETA:  - ETA:  - ETA:  - ETA:  - ETA:  - ETA:  - ETA:  - ETA:  - ETA:  - ETA:  - ETA:  - ETA:  - ETA:  - ETA:  - ETA:  - ETA:  - ETA:  - ETA:  - ETA:  - ETA:  - ETA:  - ETA:  - ETA:  - ETA:  - ETA:  - ETA:  - ETA:  - ETA:  - ETA:  - ETA:  - ETA:  - ETA:  - 554s 3us/step\n"
     ]
    }
   ],
   "source": [
    "(train_images, train_labels), (test_images, test_labels) = datasets.cifar10.load_data()\n",
    "\n",
    "# Normalize pixel values to be between 0 and 1\n",
    "train_images, test_images = train_images / 255.0, test_images / 255.0"
   ]
  },
  {
   "cell_type": "code",
   "execution_count": 108,
   "metadata": {},
   "outputs": [
    {
     "data": {
      "text/plain": [
       "(50000, 32, 32, 3)"
      ]
     },
     "execution_count": 108,
     "metadata": {},
     "output_type": "execute_result"
    }
   ],
   "source": [
    "train_images.shape"
   ]
  },
  {
   "cell_type": "markdown",
   "metadata": {},
   "source": [
    "### 4 处理数据"
   ]
  },
  {
   "cell_type": "code",
   "execution_count": 173,
   "metadata": {},
   "outputs": [
    {
     "data": {
      "text/plain": [
       "((11135, 2502), (11135, 2501))"
      ]
     },
     "execution_count": 173,
     "metadata": {},
     "output_type": "execute_result"
    }
   ],
   "source": [
    "pulsedataSet = pd.read_csv('../Cs137data/csv/pulse2525.csv')\n",
    "realtimedataSet = pd.read_csv('../Cs137data/csv/realtime2525.csv')\n",
    "pulsedataSet.shape, realtimedataSet.shape"
   ]
  },
  {
   "cell_type": "code",
   "execution_count": 174,
   "metadata": {},
   "outputs": [
    {
     "data": {
      "text/html": [
       "<div>\n",
       "<style scoped>\n",
       "    .dataframe tbody tr th:only-of-type {\n",
       "        vertical-align: middle;\n",
       "    }\n",
       "\n",
       "    .dataframe tbody tr th {\n",
       "        vertical-align: top;\n",
       "    }\n",
       "\n",
       "    .dataframe thead th {\n",
       "        text-align: right;\n",
       "    }\n",
       "</style>\n",
       "<table border=\"1\" class=\"dataframe\">\n",
       "  <thead>\n",
       "    <tr style=\"text-align: right;\">\n",
       "      <th></th>\n",
       "      <th>Unnamed: 0</th>\n",
       "      <th>0</th>\n",
       "      <th>1</th>\n",
       "      <th>2</th>\n",
       "      <th>3</th>\n",
       "      <th>4</th>\n",
       "      <th>5</th>\n",
       "      <th>6</th>\n",
       "      <th>7</th>\n",
       "      <th>8</th>\n",
       "      <th>...</th>\n",
       "      <th>2491</th>\n",
       "      <th>2492</th>\n",
       "      <th>2493</th>\n",
       "      <th>2494</th>\n",
       "      <th>2495</th>\n",
       "      <th>2496</th>\n",
       "      <th>2497</th>\n",
       "      <th>2498</th>\n",
       "      <th>2499</th>\n",
       "      <th>2500</th>\n",
       "    </tr>\n",
       "  </thead>\n",
       "  <tbody>\n",
       "    <tr>\n",
       "      <td>0</td>\n",
       "      <td>0</td>\n",
       "      <td>23.0</td>\n",
       "      <td>114.0</td>\n",
       "      <td>114.0</td>\n",
       "      <td>117.0</td>\n",
       "      <td>116.0</td>\n",
       "      <td>36.0</td>\n",
       "      <td>35.0</td>\n",
       "      <td>28.0</td>\n",
       "      <td>25.0</td>\n",
       "      <td>...</td>\n",
       "      <td>38.0</td>\n",
       "      <td>28.0</td>\n",
       "      <td>24.0</td>\n",
       "      <td>115.0</td>\n",
       "      <td>116.0</td>\n",
       "      <td>30.0</td>\n",
       "      <td>29.0</td>\n",
       "      <td>66.0</td>\n",
       "      <td>65.0</td>\n",
       "      <td>0.0</td>\n",
       "    </tr>\n",
       "    <tr>\n",
       "      <td>1</td>\n",
       "      <td>1</td>\n",
       "      <td>109.0</td>\n",
       "      <td>112.0</td>\n",
       "      <td>122.0</td>\n",
       "      <td>123.0</td>\n",
       "      <td>30.0</td>\n",
       "      <td>39.0</td>\n",
       "      <td>40.0</td>\n",
       "      <td>108.0</td>\n",
       "      <td>105.0</td>\n",
       "      <td>...</td>\n",
       "      <td>25.0</td>\n",
       "      <td>24.0</td>\n",
       "      <td>38.0</td>\n",
       "      <td>39.0</td>\n",
       "      <td>112.0</td>\n",
       "      <td>114.0</td>\n",
       "      <td>80.0</td>\n",
       "      <td>79.0</td>\n",
       "      <td>20.0</td>\n",
       "      <td>0.0</td>\n",
       "    </tr>\n",
       "    <tr>\n",
       "      <td>2</td>\n",
       "      <td>2</td>\n",
       "      <td>21.0</td>\n",
       "      <td>22.0</td>\n",
       "      <td>20.0</td>\n",
       "      <td>56.0</td>\n",
       "      <td>110.0</td>\n",
       "      <td>109.0</td>\n",
       "      <td>116.0</td>\n",
       "      <td>116.0</td>\n",
       "      <td>38.0</td>\n",
       "      <td>...</td>\n",
       "      <td>56.0</td>\n",
       "      <td>112.0</td>\n",
       "      <td>112.0</td>\n",
       "      <td>113.0</td>\n",
       "      <td>115.0</td>\n",
       "      <td>114.0</td>\n",
       "      <td>113.0</td>\n",
       "      <td>117.0</td>\n",
       "      <td>120.0</td>\n",
       "      <td>0.0</td>\n",
       "    </tr>\n",
       "    <tr>\n",
       "      <td>3</td>\n",
       "      <td>3</td>\n",
       "      <td>54.0</td>\n",
       "      <td>55.0</td>\n",
       "      <td>35.0</td>\n",
       "      <td>32.0</td>\n",
       "      <td>59.0</td>\n",
       "      <td>58.0</td>\n",
       "      <td>73.0</td>\n",
       "      <td>75.0</td>\n",
       "      <td>24.0</td>\n",
       "      <td>...</td>\n",
       "      <td>39.0</td>\n",
       "      <td>69.0</td>\n",
       "      <td>69.0</td>\n",
       "      <td>41.0</td>\n",
       "      <td>41.0</td>\n",
       "      <td>110.0</td>\n",
       "      <td>112.0</td>\n",
       "      <td>207.0</td>\n",
       "      <td>202.0</td>\n",
       "      <td>0.0</td>\n",
       "    </tr>\n",
       "    <tr>\n",
       "      <td>4</td>\n",
       "      <td>4</td>\n",
       "      <td>33.0</td>\n",
       "      <td>34.0</td>\n",
       "      <td>20.0</td>\n",
       "      <td>110.0</td>\n",
       "      <td>109.0</td>\n",
       "      <td>21.0</td>\n",
       "      <td>23.0</td>\n",
       "      <td>53.0</td>\n",
       "      <td>53.0</td>\n",
       "      <td>...</td>\n",
       "      <td>33.0</td>\n",
       "      <td>115.0</td>\n",
       "      <td>25.0</td>\n",
       "      <td>23.0</td>\n",
       "      <td>112.0</td>\n",
       "      <td>113.0</td>\n",
       "      <td>108.0</td>\n",
       "      <td>109.0</td>\n",
       "      <td>108.0</td>\n",
       "      <td>0.0</td>\n",
       "    </tr>\n",
       "    <tr>\n",
       "      <td>...</td>\n",
       "      <td>...</td>\n",
       "      <td>...</td>\n",
       "      <td>...</td>\n",
       "      <td>...</td>\n",
       "      <td>...</td>\n",
       "      <td>...</td>\n",
       "      <td>...</td>\n",
       "      <td>...</td>\n",
       "      <td>...</td>\n",
       "      <td>...</td>\n",
       "      <td>...</td>\n",
       "      <td>...</td>\n",
       "      <td>...</td>\n",
       "      <td>...</td>\n",
       "      <td>...</td>\n",
       "      <td>...</td>\n",
       "      <td>...</td>\n",
       "      <td>...</td>\n",
       "      <td>...</td>\n",
       "      <td>...</td>\n",
       "      <td>...</td>\n",
       "    </tr>\n",
       "    <tr>\n",
       "      <td>11130</td>\n",
       "      <td>11130</td>\n",
       "      <td>25.0</td>\n",
       "      <td>23.0</td>\n",
       "      <td>20.0</td>\n",
       "      <td>23.0</td>\n",
       "      <td>16.0</td>\n",
       "      <td>15.0</td>\n",
       "      <td>27.0</td>\n",
       "      <td>30.0</td>\n",
       "      <td>35.0</td>\n",
       "      <td>...</td>\n",
       "      <td>219.0</td>\n",
       "      <td>18.0</td>\n",
       "      <td>19.0</td>\n",
       "      <td>19.0</td>\n",
       "      <td>39.0</td>\n",
       "      <td>38.0</td>\n",
       "      <td>36.0</td>\n",
       "      <td>37.0</td>\n",
       "      <td>36.0</td>\n",
       "      <td>3.0</td>\n",
       "    </tr>\n",
       "    <tr>\n",
       "      <td>11131</td>\n",
       "      <td>11131</td>\n",
       "      <td>73.0</td>\n",
       "      <td>72.0</td>\n",
       "      <td>38.0</td>\n",
       "      <td>36.0</td>\n",
       "      <td>18.0</td>\n",
       "      <td>18.0</td>\n",
       "      <td>17.0</td>\n",
       "      <td>18.0</td>\n",
       "      <td>20.0</td>\n",
       "      <td>...</td>\n",
       "      <td>181.0</td>\n",
       "      <td>181.0</td>\n",
       "      <td>94.0</td>\n",
       "      <td>93.0</td>\n",
       "      <td>18.0</td>\n",
       "      <td>18.0</td>\n",
       "      <td>42.0</td>\n",
       "      <td>41.0</td>\n",
       "      <td>48.0</td>\n",
       "      <td>3.0</td>\n",
       "    </tr>\n",
       "    <tr>\n",
       "      <td>11132</td>\n",
       "      <td>11132</td>\n",
       "      <td>50.0</td>\n",
       "      <td>34.0</td>\n",
       "      <td>35.0</td>\n",
       "      <td>16.0</td>\n",
       "      <td>17.0</td>\n",
       "      <td>41.0</td>\n",
       "      <td>42.0</td>\n",
       "      <td>64.0</td>\n",
       "      <td>64.0</td>\n",
       "      <td>...</td>\n",
       "      <td>44.0</td>\n",
       "      <td>46.0</td>\n",
       "      <td>96.0</td>\n",
       "      <td>97.0</td>\n",
       "      <td>62.0</td>\n",
       "      <td>63.0</td>\n",
       "      <td>19.0</td>\n",
       "      <td>19.0</td>\n",
       "      <td>35.0</td>\n",
       "      <td>3.0</td>\n",
       "    </tr>\n",
       "    <tr>\n",
       "      <td>11133</td>\n",
       "      <td>11133</td>\n",
       "      <td>37.0</td>\n",
       "      <td>19.0</td>\n",
       "      <td>17.0</td>\n",
       "      <td>35.0</td>\n",
       "      <td>21.0</td>\n",
       "      <td>25.0</td>\n",
       "      <td>34.0</td>\n",
       "      <td>34.0</td>\n",
       "      <td>51.0</td>\n",
       "      <td>...</td>\n",
       "      <td>17.0</td>\n",
       "      <td>76.0</td>\n",
       "      <td>75.0</td>\n",
       "      <td>28.0</td>\n",
       "      <td>27.0</td>\n",
       "      <td>171.0</td>\n",
       "      <td>172.0</td>\n",
       "      <td>87.0</td>\n",
       "      <td>88.0</td>\n",
       "      <td>3.0</td>\n",
       "    </tr>\n",
       "    <tr>\n",
       "      <td>11134</td>\n",
       "      <td>11134</td>\n",
       "      <td>71.0</td>\n",
       "      <td>69.0</td>\n",
       "      <td>91.0</td>\n",
       "      <td>88.0</td>\n",
       "      <td>90.0</td>\n",
       "      <td>89.0</td>\n",
       "      <td>61.0</td>\n",
       "      <td>60.0</td>\n",
       "      <td>42.0</td>\n",
       "      <td>...</td>\n",
       "      <td>47.0</td>\n",
       "      <td>48.0</td>\n",
       "      <td>74.0</td>\n",
       "      <td>75.0</td>\n",
       "      <td>18.0</td>\n",
       "      <td>18.0</td>\n",
       "      <td>54.0</td>\n",
       "      <td>53.0</td>\n",
       "      <td>81.0</td>\n",
       "      <td>3.0</td>\n",
       "    </tr>\n",
       "  </tbody>\n",
       "</table>\n",
       "<p>11135 rows × 2502 columns</p>\n",
       "</div>"
      ],
      "text/plain": [
       "       Unnamed: 0      0      1      2      3      4      5      6      7  \\\n",
       "0               0   23.0  114.0  114.0  117.0  116.0   36.0   35.0   28.0   \n",
       "1               1  109.0  112.0  122.0  123.0   30.0   39.0   40.0  108.0   \n",
       "2               2   21.0   22.0   20.0   56.0  110.0  109.0  116.0  116.0   \n",
       "3               3   54.0   55.0   35.0   32.0   59.0   58.0   73.0   75.0   \n",
       "4               4   33.0   34.0   20.0  110.0  109.0   21.0   23.0   53.0   \n",
       "...           ...    ...    ...    ...    ...    ...    ...    ...    ...   \n",
       "11130       11130   25.0   23.0   20.0   23.0   16.0   15.0   27.0   30.0   \n",
       "11131       11131   73.0   72.0   38.0   36.0   18.0   18.0   17.0   18.0   \n",
       "11132       11132   50.0   34.0   35.0   16.0   17.0   41.0   42.0   64.0   \n",
       "11133       11133   37.0   19.0   17.0   35.0   21.0   25.0   34.0   34.0   \n",
       "11134       11134   71.0   69.0   91.0   88.0   90.0   89.0   61.0   60.0   \n",
       "\n",
       "           8  ...   2491   2492   2493   2494   2495   2496   2497   2498  \\\n",
       "0       25.0  ...   38.0   28.0   24.0  115.0  116.0   30.0   29.0   66.0   \n",
       "1      105.0  ...   25.0   24.0   38.0   39.0  112.0  114.0   80.0   79.0   \n",
       "2       38.0  ...   56.0  112.0  112.0  113.0  115.0  114.0  113.0  117.0   \n",
       "3       24.0  ...   39.0   69.0   69.0   41.0   41.0  110.0  112.0  207.0   \n",
       "4       53.0  ...   33.0  115.0   25.0   23.0  112.0  113.0  108.0  109.0   \n",
       "...      ...  ...    ...    ...    ...    ...    ...    ...    ...    ...   \n",
       "11130   35.0  ...  219.0   18.0   19.0   19.0   39.0   38.0   36.0   37.0   \n",
       "11131   20.0  ...  181.0  181.0   94.0   93.0   18.0   18.0   42.0   41.0   \n",
       "11132   64.0  ...   44.0   46.0   96.0   97.0   62.0   63.0   19.0   19.0   \n",
       "11133   51.0  ...   17.0   76.0   75.0   28.0   27.0  171.0  172.0   87.0   \n",
       "11134   42.0  ...   47.0   48.0   74.0   75.0   18.0   18.0   54.0   53.0   \n",
       "\n",
       "        2499  2500  \n",
       "0       65.0   0.0  \n",
       "1       20.0   0.0  \n",
       "2      120.0   0.0  \n",
       "3      202.0   0.0  \n",
       "4      108.0   0.0  \n",
       "...      ...   ...  \n",
       "11130   36.0   3.0  \n",
       "11131   48.0   3.0  \n",
       "11132   35.0   3.0  \n",
       "11133   88.0   3.0  \n",
       "11134   81.0   3.0  \n",
       "\n",
       "[11135 rows x 2502 columns]"
      ]
     },
     "execution_count": 174,
     "metadata": {},
     "output_type": "execute_result"
    }
   ],
   "source": [
    "pulsedataSet"
   ]
  },
  {
   "cell_type": "code",
   "execution_count": 175,
   "metadata": {},
   "outputs": [
    {
     "data": {
      "text/html": [
       "<div>\n",
       "<style scoped>\n",
       "    .dataframe tbody tr th:only-of-type {\n",
       "        vertical-align: middle;\n",
       "    }\n",
       "\n",
       "    .dataframe tbody tr th {\n",
       "        vertical-align: top;\n",
       "    }\n",
       "\n",
       "    .dataframe thead th {\n",
       "        text-align: right;\n",
       "    }\n",
       "</style>\n",
       "<table border=\"1\" class=\"dataframe\">\n",
       "  <thead>\n",
       "    <tr style=\"text-align: right;\">\n",
       "      <th></th>\n",
       "      <th>Unnamed: 0</th>\n",
       "      <th>0</th>\n",
       "      <th>1</th>\n",
       "      <th>2</th>\n",
       "      <th>3</th>\n",
       "      <th>4</th>\n",
       "      <th>5</th>\n",
       "      <th>6</th>\n",
       "      <th>7</th>\n",
       "      <th>8</th>\n",
       "      <th>...</th>\n",
       "      <th>2490</th>\n",
       "      <th>2491</th>\n",
       "      <th>2492</th>\n",
       "      <th>2493</th>\n",
       "      <th>2494</th>\n",
       "      <th>2495</th>\n",
       "      <th>2496</th>\n",
       "      <th>2497</th>\n",
       "      <th>2498</th>\n",
       "      <th>2499</th>\n",
       "    </tr>\n",
       "  </thead>\n",
       "  <tbody>\n",
       "    <tr>\n",
       "      <td>0</td>\n",
       "      <td>0</td>\n",
       "      <td>0.0220</td>\n",
       "      <td>0.1208</td>\n",
       "      <td>0.1460</td>\n",
       "      <td>0.1740</td>\n",
       "      <td>0.1986</td>\n",
       "      <td>0.6814</td>\n",
       "      <td>0.7060</td>\n",
       "      <td>0.8740</td>\n",
       "      <td>1.0720</td>\n",
       "      <td>...</td>\n",
       "      <td>321.7622</td>\n",
       "      <td>321.7886</td>\n",
       "      <td>321.9280</td>\n",
       "      <td>321.9544</td>\n",
       "      <td>323.0024</td>\n",
       "      <td>323.0290</td>\n",
       "      <td>323.1992</td>\n",
       "      <td>323.2262</td>\n",
       "      <td>323.5290</td>\n",
       "      <td>323.5540</td>\n",
       "    </tr>\n",
       "    <tr>\n",
       "      <td>1</td>\n",
       "      <td>1</td>\n",
       "      <td>323.5892</td>\n",
       "      <td>323.6136</td>\n",
       "      <td>323.6346</td>\n",
       "      <td>323.6582</td>\n",
       "      <td>323.7582</td>\n",
       "      <td>323.9508</td>\n",
       "      <td>323.9758</td>\n",
       "      <td>324.0214</td>\n",
       "      <td>324.0476</td>\n",
       "      <td>...</td>\n",
       "      <td>670.7084</td>\n",
       "      <td>671.1250</td>\n",
       "      <td>671.1500</td>\n",
       "      <td>671.3912</td>\n",
       "      <td>671.4160</td>\n",
       "      <td>671.5562</td>\n",
       "      <td>671.5828</td>\n",
       "      <td>671.7618</td>\n",
       "      <td>671.7884</td>\n",
       "      <td>672.3882</td>\n",
       "    </tr>\n",
       "    <tr>\n",
       "      <td>2</td>\n",
       "      <td>2</td>\n",
       "      <td>672.4158</td>\n",
       "      <td>673.4258</td>\n",
       "      <td>673.4524</td>\n",
       "      <td>673.5314</td>\n",
       "      <td>673.6350</td>\n",
       "      <td>673.6606</td>\n",
       "      <td>673.9064</td>\n",
       "      <td>673.9328</td>\n",
       "      <td>674.1066</td>\n",
       "      <td>...</td>\n",
       "      <td>1018.2674</td>\n",
       "      <td>1018.2946</td>\n",
       "      <td>1018.3874</td>\n",
       "      <td>1018.4134</td>\n",
       "      <td>1018.7042</td>\n",
       "      <td>1018.7306</td>\n",
       "      <td>1018.7686</td>\n",
       "      <td>1018.7938</td>\n",
       "      <td>1018.9022</td>\n",
       "      <td>1018.9280</td>\n",
       "    </tr>\n",
       "    <tr>\n",
       "      <td>3</td>\n",
       "      <td>3</td>\n",
       "      <td>1019.1612</td>\n",
       "      <td>1019.1862</td>\n",
       "      <td>1019.6476</td>\n",
       "      <td>1019.6730</td>\n",
       "      <td>1019.7700</td>\n",
       "      <td>1019.7962</td>\n",
       "      <td>1020.5138</td>\n",
       "      <td>1020.5394</td>\n",
       "      <td>1020.6956</td>\n",
       "      <td>...</td>\n",
       "      <td>1357.7292</td>\n",
       "      <td>1357.7554</td>\n",
       "      <td>1358.1994</td>\n",
       "      <td>1358.2256</td>\n",
       "      <td>1358.6246</td>\n",
       "      <td>1358.6504</td>\n",
       "      <td>1359.1626</td>\n",
       "      <td>1359.1886</td>\n",
       "      <td>1359.3802</td>\n",
       "      <td>1359.4048</td>\n",
       "    </tr>\n",
       "    <tr>\n",
       "      <td>4</td>\n",
       "      <td>4</td>\n",
       "      <td>1359.5428</td>\n",
       "      <td>1359.5694</td>\n",
       "      <td>1359.8832</td>\n",
       "      <td>1360.1066</td>\n",
       "      <td>1360.1322</td>\n",
       "      <td>1360.1530</td>\n",
       "      <td>1360.1770</td>\n",
       "      <td>1360.4792</td>\n",
       "      <td>1360.5044</td>\n",
       "      <td>...</td>\n",
       "      <td>1680.7774</td>\n",
       "      <td>1680.8038</td>\n",
       "      <td>1680.8694</td>\n",
       "      <td>1681.4416</td>\n",
       "      <td>1681.4666</td>\n",
       "      <td>1681.4864</td>\n",
       "      <td>1681.5142</td>\n",
       "      <td>1681.5754</td>\n",
       "      <td>1681.6510</td>\n",
       "      <td>1681.6762</td>\n",
       "    </tr>\n",
       "    <tr>\n",
       "      <td>...</td>\n",
       "      <td>...</td>\n",
       "      <td>...</td>\n",
       "      <td>...</td>\n",
       "      <td>...</td>\n",
       "      <td>...</td>\n",
       "      <td>...</td>\n",
       "      <td>...</td>\n",
       "      <td>...</td>\n",
       "      <td>...</td>\n",
       "      <td>...</td>\n",
       "      <td>...</td>\n",
       "      <td>...</td>\n",
       "      <td>...</td>\n",
       "      <td>...</td>\n",
       "      <td>...</td>\n",
       "      <td>...</td>\n",
       "      <td>...</td>\n",
       "      <td>...</td>\n",
       "      <td>...</td>\n",
       "      <td>...</td>\n",
       "      <td>...</td>\n",
       "    </tr>\n",
       "    <tr>\n",
       "      <td>11130</td>\n",
       "      <td>11130</td>\n",
       "      <td>21299.0818</td>\n",
       "      <td>21299.1072</td>\n",
       "      <td>21299.5854</td>\n",
       "      <td>21299.6116</td>\n",
       "      <td>21301.1124</td>\n",
       "      <td>21301.1402</td>\n",
       "      <td>21302.1564</td>\n",
       "      <td>21302.1824</td>\n",
       "      <td>21302.4806</td>\n",
       "      <td>...</td>\n",
       "      <td>23206.6454</td>\n",
       "      <td>23206.6710</td>\n",
       "      <td>23206.7648</td>\n",
       "      <td>23206.7922</td>\n",
       "      <td>23207.6020</td>\n",
       "      <td>23208.4856</td>\n",
       "      <td>23210.5802</td>\n",
       "      <td>23210.6062</td>\n",
       "      <td>23212.1132</td>\n",
       "      <td>23212.1392</td>\n",
       "    </tr>\n",
       "    <tr>\n",
       "      <td>11131</td>\n",
       "      <td>11131</td>\n",
       "      <td>23213.2654</td>\n",
       "      <td>23213.2906</td>\n",
       "      <td>23213.4462</td>\n",
       "      <td>23213.4722</td>\n",
       "      <td>23213.8386</td>\n",
       "      <td>23213.8650</td>\n",
       "      <td>23215.1242</td>\n",
       "      <td>23215.1514</td>\n",
       "      <td>23215.8802</td>\n",
       "      <td>...</td>\n",
       "      <td>25232.0726</td>\n",
       "      <td>25234.0622</td>\n",
       "      <td>25234.0866</td>\n",
       "      <td>25235.1106</td>\n",
       "      <td>25235.1378</td>\n",
       "      <td>25235.4720</td>\n",
       "      <td>25235.4978</td>\n",
       "      <td>25235.7932</td>\n",
       "      <td>25235.8196</td>\n",
       "      <td>25238.5198</td>\n",
       "    </tr>\n",
       "    <tr>\n",
       "      <td>11132</td>\n",
       "      <td>11132</td>\n",
       "      <td>25238.5458</td>\n",
       "      <td>25239.9602</td>\n",
       "      <td>25239.9870</td>\n",
       "      <td>25241.5098</td>\n",
       "      <td>25241.5360</td>\n",
       "      <td>25243.0870</td>\n",
       "      <td>25243.1122</td>\n",
       "      <td>25244.6904</td>\n",
       "      <td>25244.7152</td>\n",
       "      <td>...</td>\n",
       "      <td>27156.1792</td>\n",
       "      <td>27156.7932</td>\n",
       "      <td>27156.8202</td>\n",
       "      <td>27158.1824</td>\n",
       "      <td>27158.2068</td>\n",
       "      <td>27158.9064</td>\n",
       "      <td>27158.9312</td>\n",
       "      <td>27160.1832</td>\n",
       "      <td>27160.2092</td>\n",
       "      <td>27161.2874</td>\n",
       "    </tr>\n",
       "    <tr>\n",
       "      <td>11133</td>\n",
       "      <td>11133</td>\n",
       "      <td>27161.3136</td>\n",
       "      <td>27161.5862</td>\n",
       "      <td>27161.6112</td>\n",
       "      <td>27162.2104</td>\n",
       "      <td>27167.9958</td>\n",
       "      <td>27168.0218</td>\n",
       "      <td>27173.8528</td>\n",
       "      <td>27173.8786</td>\n",
       "      <td>27174.0216</td>\n",
       "      <td>...</td>\n",
       "      <td>29121.9866</td>\n",
       "      <td>29122.0140</td>\n",
       "      <td>29122.5288</td>\n",
       "      <td>29122.5548</td>\n",
       "      <td>29123.9612</td>\n",
       "      <td>29123.9876</td>\n",
       "      <td>29128.4714</td>\n",
       "      <td>29128.4982</td>\n",
       "      <td>29128.8862</td>\n",
       "      <td>29128.9120</td>\n",
       "    </tr>\n",
       "    <tr>\n",
       "      <td>11134</td>\n",
       "      <td>11134</td>\n",
       "      <td>29132.4256</td>\n",
       "      <td>29132.4514</td>\n",
       "      <td>29133.3562</td>\n",
       "      <td>29133.3828</td>\n",
       "      <td>29133.8834</td>\n",
       "      <td>29133.9088</td>\n",
       "      <td>29134.2532</td>\n",
       "      <td>29134.2780</td>\n",
       "      <td>29138.7648</td>\n",
       "      <td>...</td>\n",
       "      <td>31041.6434</td>\n",
       "      <td>31041.8964</td>\n",
       "      <td>31041.9218</td>\n",
       "      <td>31042.0880</td>\n",
       "      <td>31042.1122</td>\n",
       "      <td>31048.1598</td>\n",
       "      <td>31048.1864</td>\n",
       "      <td>31051.8076</td>\n",
       "      <td>31051.8332</td>\n",
       "      <td>31052.6984</td>\n",
       "    </tr>\n",
       "  </tbody>\n",
       "</table>\n",
       "<p>11135 rows × 2501 columns</p>\n",
       "</div>"
      ],
      "text/plain": [
       "       Unnamed: 0           0           1           2           3           4  \\\n",
       "0               0      0.0220      0.1208      0.1460      0.1740      0.1986   \n",
       "1               1    323.5892    323.6136    323.6346    323.6582    323.7582   \n",
       "2               2    672.4158    673.4258    673.4524    673.5314    673.6350   \n",
       "3               3   1019.1612   1019.1862   1019.6476   1019.6730   1019.7700   \n",
       "4               4   1359.5428   1359.5694   1359.8832   1360.1066   1360.1322   \n",
       "...           ...         ...         ...         ...         ...         ...   \n",
       "11130       11130  21299.0818  21299.1072  21299.5854  21299.6116  21301.1124   \n",
       "11131       11131  23213.2654  23213.2906  23213.4462  23213.4722  23213.8386   \n",
       "11132       11132  25238.5458  25239.9602  25239.9870  25241.5098  25241.5360   \n",
       "11133       11133  27161.3136  27161.5862  27161.6112  27162.2104  27167.9958   \n",
       "11134       11134  29132.4256  29132.4514  29133.3562  29133.3828  29133.8834   \n",
       "\n",
       "                5           6           7           8  ...        2490  \\\n",
       "0          0.6814      0.7060      0.8740      1.0720  ...    321.7622   \n",
       "1        323.9508    323.9758    324.0214    324.0476  ...    670.7084   \n",
       "2        673.6606    673.9064    673.9328    674.1066  ...   1018.2674   \n",
       "3       1019.7962   1020.5138   1020.5394   1020.6956  ...   1357.7292   \n",
       "4       1360.1530   1360.1770   1360.4792   1360.5044  ...   1680.7774   \n",
       "...           ...         ...         ...         ...  ...         ...   \n",
       "11130  21301.1402  21302.1564  21302.1824  21302.4806  ...  23206.6454   \n",
       "11131  23213.8650  23215.1242  23215.1514  23215.8802  ...  25232.0726   \n",
       "11132  25243.0870  25243.1122  25244.6904  25244.7152  ...  27156.1792   \n",
       "11133  27168.0218  27173.8528  27173.8786  27174.0216  ...  29121.9866   \n",
       "11134  29133.9088  29134.2532  29134.2780  29138.7648  ...  31041.6434   \n",
       "\n",
       "             2491        2492        2493        2494        2495        2496  \\\n",
       "0        321.7886    321.9280    321.9544    323.0024    323.0290    323.1992   \n",
       "1        671.1250    671.1500    671.3912    671.4160    671.5562    671.5828   \n",
       "2       1018.2946   1018.3874   1018.4134   1018.7042   1018.7306   1018.7686   \n",
       "3       1357.7554   1358.1994   1358.2256   1358.6246   1358.6504   1359.1626   \n",
       "4       1680.8038   1680.8694   1681.4416   1681.4666   1681.4864   1681.5142   \n",
       "...           ...         ...         ...         ...         ...         ...   \n",
       "11130  23206.6710  23206.7648  23206.7922  23207.6020  23208.4856  23210.5802   \n",
       "11131  25234.0622  25234.0866  25235.1106  25235.1378  25235.4720  25235.4978   \n",
       "11132  27156.7932  27156.8202  27158.1824  27158.2068  27158.9064  27158.9312   \n",
       "11133  29122.0140  29122.5288  29122.5548  29123.9612  29123.9876  29128.4714   \n",
       "11134  31041.8964  31041.9218  31042.0880  31042.1122  31048.1598  31048.1864   \n",
       "\n",
       "             2497        2498        2499  \n",
       "0        323.2262    323.5290    323.5540  \n",
       "1        671.7618    671.7884    672.3882  \n",
       "2       1018.7938   1018.9022   1018.9280  \n",
       "3       1359.1886   1359.3802   1359.4048  \n",
       "4       1681.5754   1681.6510   1681.6762  \n",
       "...           ...         ...         ...  \n",
       "11130  23210.6062  23212.1132  23212.1392  \n",
       "11131  25235.7932  25235.8196  25238.5198  \n",
       "11132  27160.1832  27160.2092  27161.2874  \n",
       "11133  29128.4982  29128.8862  29128.9120  \n",
       "11134  31051.8076  31051.8332  31052.6984  \n",
       "\n",
       "[11135 rows x 2501 columns]"
      ]
     },
     "execution_count": 175,
     "metadata": {},
     "output_type": "execute_result"
    }
   ],
   "source": [
    "realtimedataSet"
   ]
  },
  {
   "cell_type": "code",
   "execution_count": 176,
   "metadata": {},
   "outputs": [
    {
     "data": {
      "text/plain": [
       "((11135, 2502), (11135, 2501))"
      ]
     },
     "execution_count": 176,
     "metadata": {},
     "output_type": "execute_result"
    }
   ],
   "source": [
    "pulsedataSet = pulsedataSet.values\n",
    "realtimedataSet = realtimedataSet.values\n",
    "pulsedataSet.shape, realtimedataSet.shape"
   ]
  },
  {
   "cell_type": "code",
   "execution_count": 177,
   "metadata": {},
   "outputs": [
    {
     "data": {
      "text/plain": [
       "((11135, 2501), (11135, 2500))"
      ]
     },
     "execution_count": 177,
     "metadata": {},
     "output_type": "execute_result"
    }
   ],
   "source": [
    "pulsedataSet = pulsedataSet[:, 1: 2502]\n",
    "realtimedataSet = realtimedataSet[:, 1: 2501]\n",
    "pulsedataSet.shape, realtimedataSet.shape"
   ]
  },
  {
   "cell_type": "code",
   "execution_count": 178,
   "metadata": {},
   "outputs": [
    {
     "data": {
      "text/plain": [
       "(11134, array([ 616, 8925,  727, ..., 6637, 2575, 7336]))"
      ]
     },
     "execution_count": 178,
     "metadata": {},
     "output_type": "execute_result"
    }
   ],
   "source": [
    "rng = np.random.RandomState(2)\n",
    "indices = np.arange(pulsedataSet.shape[0])\n",
    "rng.shuffle(indices)\n",
    "indices.max(), indices"
   ]
  },
  {
   "cell_type": "code",
   "execution_count": 179,
   "metadata": {},
   "outputs": [
    {
     "data": {
      "text/plain": [
       "((11135, 2500), (11135, 2500))"
      ]
     },
     "execution_count": 179,
     "metadata": {},
     "output_type": "execute_result"
    }
   ],
   "source": [
    "labels = pulsedataSet[indices, -1]\n",
    "pulseSet = pulsedataSet[indices, :2500]\n",
    "realSet = realtimedataSet[indices, :]\n",
    "pulseSet.shape, realSet.shape"
   ]
  },
  {
   "cell_type": "code",
   "execution_count": 180,
   "metadata": {
    "collapsed": true
   },
   "outputs": [
    {
     "data": {
      "text/plain": [
       "[126,\n",
       " 298,\n",
       " 647,\n",
       " 832,\n",
       " 1008,\n",
       " 1196,\n",
       " 1353,\n",
       " 1406,\n",
       " 1483,\n",
       " 1589,\n",
       " 1921,\n",
       " 2120,\n",
       " 2308,\n",
       " 2436,\n",
       " 2758,\n",
       " 2818,\n",
       " 2891,\n",
       " 2999,\n",
       " 3196,\n",
       " 3774,\n",
       " 3980,\n",
       " 4220,\n",
       " 4235,\n",
       " 4398,\n",
       " 4641,\n",
       " 4706,\n",
       " 4825,\n",
       " 5073,\n",
       " 5089,\n",
       " 5184,\n",
       " 5226,\n",
       " 5238,\n",
       " 5497,\n",
       " 5809,\n",
       " 5862,\n",
       " 5902,\n",
       " 5919,\n",
       " 7161,\n",
       " 7291,\n",
       " 7296,\n",
       " 7434,\n",
       " 7578,\n",
       " 7668,\n",
       " 7784,\n",
       " 7908,\n",
       " 8235,\n",
       " 8551,\n",
       " 8553,\n",
       " 8582,\n",
       " 8619,\n",
       " 8628,\n",
       " 8740,\n",
       " 9346,\n",
       " 9566,\n",
       " 9612,\n",
       " 9933,\n",
       " 10011,\n",
       " 10325,\n",
       " 10597,\n",
       " 10657,\n",
       " 10686,\n",
       " 11001]"
      ]
     },
     "execution_count": 180,
     "metadata": {},
     "output_type": "execute_result"
    }
   ],
   "source": [
    "index1 = []\n",
    "for i in range(realSet.shape[0]):\n",
    "    if np.max(realSet[i, :]) - np.min(realSet[i, :]) > 50000:\n",
    "        index1.append(i)\n",
    "index1"
   ]
  },
  {
   "cell_type": "code",
   "execution_count": 181,
   "metadata": {},
   "outputs": [
    {
     "data": {
      "text/plain": [
       "((11073, 2500), (11073, 2500))"
      ]
     },
     "execution_count": 181,
     "metadata": {},
     "output_type": "execute_result"
    }
   ],
   "source": [
    "pulseSet = np.delete(pulseSet, index1, 0)\n",
    "realSet = np.delete(realSet, index1, 0)\n",
    "\n",
    "pulseSet.shape, realSet.shape"
   ]
  },
  {
   "cell_type": "code",
   "execution_count": 182,
   "metadata": {},
   "outputs": [
    {
     "data": {
      "text/plain": [
       "(array([0., 2., 0., ..., 2., 1., 2.]), (11073,))"
      ]
     },
     "execution_count": 182,
     "metadata": {},
     "output_type": "execute_result"
    }
   ],
   "source": [
    "labels = np.delete(labels, index1, 0)\n",
    "labels, labels.shape"
   ]
  },
  {
   "cell_type": "code",
   "execution_count": 183,
   "metadata": {},
   "outputs": [
    {
     "data": {
      "text/plain": [
       "19"
      ]
     },
     "execution_count": 183,
     "metadata": {},
     "output_type": "execute_result"
    }
   ],
   "source": [
    "index2 = []\n",
    "for i in range(realSet.shape[0]):\n",
    "    realSet[i, :] = realSet[i, :] - realSet[i, 0]\n",
    "    if np.min(realSet[i, :]) < 0:\n",
    "        index2.append(i)\n",
    "len(index2)"
   ]
  },
  {
   "cell_type": "code",
   "execution_count": 184,
   "metadata": {},
   "outputs": [
    {
     "data": {
      "text/plain": [
       "((11054, 2500), (11054, 2500), array([0., 2., 0., ..., 2., 1., 2.]), (11054,))"
      ]
     },
     "execution_count": 184,
     "metadata": {},
     "output_type": "execute_result"
    }
   ],
   "source": [
    "pulseSet = np.delete(pulseSet, index2, 0)\n",
    "realSet = np.delete(realSet, index2, 0)\n",
    "labels = np.delete(labels, index2, 0)\n",
    "\n",
    "pulseSet.shape, realSet.shape, labels, labels.shape"
   ]
  },
  {
   "cell_type": "code",
   "execution_count": 186,
   "metadata": {},
   "outputs": [
    {
     "data": {
      "text/plain": [
       "(11054, 50, 50, 2)"
      ]
     },
     "execution_count": 186,
     "metadata": {},
     "output_type": "execute_result"
    }
   ],
   "source": [
    "dataSet = np.zeros((pulseSet.shape[0], 50, 50, 2))\n",
    "for i in range(pulseSet.shape[0]):\n",
    "    for j in range(50):\n",
    "        dataSet[i, j, :, 0] = pulseSet[i, j * 50: j * 50 + 50]\n",
    "        dataSet[i, j, :, 1] = realSet[i, j * 50: j * 50 + 50]\n",
    "dataSet.shape"
   ]
  },
  {
   "cell_type": "code",
   "execution_count": 188,
   "metadata": {},
   "outputs": [
    {
     "data": {
      "text/plain": [
       "((7000, 50, 50, 2), (4054, 50, 50, 2), (7000,), (4054,))"
      ]
     },
     "execution_count": 188,
     "metadata": {},
     "output_type": "execute_result"
    }
   ],
   "source": [
    "dataSet[:, :, :, 0] = dataSet[:, :, :, 0] / np.max(dataSet[:, :, :, 0])\n",
    "dataSet[:, :, :, 1] = dataSet[:, :, :, 1] / np.max(dataSet[:, :, :, 1])\n",
    "\n",
    "trainData = dataSet[:7000, :, :, :]\n",
    "testData = dataSet[7000:, :, :, :]\n",
    "trainLabels = labels[:7000]\n",
    "testLabels = labels[7000:]\n",
    "trainData.shape, testData.shape, trainLabels.shape, testLabels.shape"
   ]
  },
  {
   "cell_type": "code",
   "execution_count": null,
   "metadata": {},
   "outputs": [],
   "source": []
  },
  {
   "cell_type": "code",
   "execution_count": 190,
   "metadata": {},
   "outputs": [
    {
     "data": {
      "text/plain": [
       "(19,)"
      ]
     },
     "execution_count": 190,
     "metadata": {},
     "output_type": "execute_result"
    }
   ],
   "source": [
    "lb = labels[index2]\n",
    "lb.shape"
   ]
  },
  {
   "cell_type": "code",
   "execution_count": 191,
   "metadata": {},
   "outputs": [
    {
     "data": {
      "image/png": "[encoded data removed]",
      "text/plain": [
       "<Figure size 432x288 with 1 Axes>"
      ]
     },
     "metadata": {
      "needs_background": "light"
     },
     "output_type": "display_data"
    }
   ],
   "source": [
    "plt.scatter(range(len(index2)), lb, s=0.5, c='r')\n",
    "plt.show()"
   ]
  },
  {
   "cell_type": "markdown",
   "metadata": {},
   "source": [
    "#### 处理时间数据，"
   ]
  },
  {
   "cell_type": "code",
   "execution_count": null,
   "metadata": {},
   "outputs": [],
   "source": []
  },
  {
   "cell_type": "code",
   "execution_count": 28,
   "metadata": {},
   "outputs": [],
   "source": [
    "np.random.randint??"
   ]
  },
  {
   "cell_type": "code",
   "execution_count": 42,
   "metadata": {
    "scrolled": true
   },
   "outputs": [
    {
     "data": {
      "image/png": "[encoded data removed]",
      "text/plain": [
       "<Figure size 1152x576 with 2 Axes>"
      ]
     },
     "metadata": {
      "needs_background": "light"
     },
     "output_type": "display_data"
    }
   ],
   "source": [
    "fig, axes = plt.subplots(ncols=2, figsize=(16, 8))\n",
    "axes[0].scatter(range(60100), realtimeBq[0, :60100], s=0.2, c='r')\n",
    "axes[1].scatter(range(realtimeBq.shape[1]), realtimeBq, s=0.2, c='c')\n",
    "plt.show()"
   ]
  },
  {
   "cell_type": "code",
   "execution_count": 58,
   "metadata": {},
   "outputs": [
    {
     "data": {
      "image/png": "[encoded data removed]",
      "text/plain": [
       "<Figure size 1152x432 with 2 Axes>"
      ]
     },
     "metadata": {
      "needs_background": "light"
     },
     "output_type": "display_data"
    }
   ],
   "source": [
    "fig, axes = plt.subplots(ncols=2, figsize=(16, 6))\n",
    "axes[0].plot(realtimeBq[0, : 100], pulseBq[0, :100])\n",
    "axes[1].plot(realtimeCs137[0, : 100], pulseCs137[0, : 100])\n",
    "plt.show()"
   ]
  },
  {
   "cell_type": "code",
   "execution_count": 87,
   "metadata": {},
   "outputs": [
    {
     "data": {
      "image/png": "[encoded data removed]",
      "text/plain": [
       "<Figure size 1152x576 with 2 Axes>"
      ]
     },
     "metadata": {
      "needs_background": "light"
     },
     "output_type": "display_data"
    }
   ],
   "source": [
    "fig, axes = plt.subplots(ncols=2, figsize=(16, 8))\n",
    "axes[0].scatter(range(420000), realtimeCs137[0, :420000], s=1, c='r')\n",
    "axes[1].scatter(range(500000), realtimeCs137[0, :500000], s=0.2, c='c')\n",
    "plt.show()"
   ]
  },
  {
   "cell_type": "code",
   "execution_count": 89,
   "metadata": {},
   "outputs": [
    {
     "name": "stdout",
     "output_type": "stream",
     "text": [
      "0 1 2 3 4 5 6 7 8 9 10 11 12 13 14 15 16 17 18 19 20 21 22 23 24 25 26 27 28 29 30 31 32 33 34 35 36 37 38 39 40 41 42 43 44 45 46 47 48 49 50 482020 482021 482022 1443068 1443069 1443070 1443071 1443072 1443073 2395405 2395406 2395407 2395408 2395409 2395410 2395411 2395412 2395413 2395414 2395415 2395416 2395417 2395418 2395419 2395420 2395421 2395422 2395423 2395424 2395425 2395426 2395427 2395428 2395429 2395430 2395431 2395432 2395433 2395434 2395435 2395436 2395437 2395438 2395439 2395440 2395441 2875330 2875331 3836134 3836135 3836136 3836137 3836138 3836139 3836140 3836141 3836142 3836143 3836144 3836145 3836146 3836147 3836148 3836149 3836150 3836151 3836152 3836153 3836154 3836155 3836156 4794359 4794360 4794361 4794362 4794363 4794364 4794365 4794366 4794367 4794368 4794369 4794370 4794371 4794372 4794373 4794374 4794375 4794376 4794377 4794378 4794379 4794380 4794381 5275597 5275598 5275599 5275600 5275601 5275602 5275603 5275604 "
     ]
    }
   ],
   "source": [
    "for i in range(realtimeCs137.shape[1]):\n",
    "    if realtimeCs137[0, i] < 5:\n",
    "        print(i, end=' ')"
   ]
  },
  {
   "cell_type": "code",
   "execution_count": 168,
   "metadata": {},
   "outputs": [
    {
     "data": {
      "text/plain": [
       "65539.7166"
      ]
     },
     "execution_count": 168,
     "metadata": {},
     "output_type": "execute_result"
    }
   ],
   "source": [
    "realtimeCs137[0, 482019] "
   ]
  },
  {
   "cell_type": "code",
   "execution_count": 91,
   "metadata": {},
   "outputs": [
    {
     "data": {
      "text/plain": [
       "4.231"
      ]
     },
     "execution_count": 91,
     "metadata": {},
     "output_type": "execute_result"
    }
   ],
   "source": [
    "realtimeCs137[0, 482020]  "
   ]
  },
  {
   "cell_type": "code",
   "execution_count": 77,
   "metadata": {
    "scrolled": true
   },
   "outputs": [
    {
     "data": {
      "text/plain": [
       "((array([0, 0, 0, 0, 0, 0, 0, 0, 0, 0, 0, 0, 0, 0, 0, 0, 0, 0, 0, 0, 0, 0,\n",
       "         0, 0, 0, 0, 0, 0, 0, 0, 0, 0, 0, 0, 0, 0, 0, 0, 0, 0, 0, 0, 0, 0,\n",
       "         0, 0, 0, 0, 0, 0, 0, 0, 0, 0, 0, 0, 0, 0, 0, 0], dtype=int64),\n",
       "  array([     0,      1,      2,      3,      4,      5,      6,      7,\n",
       "              8,      9,     10,     11,     12,     13,     14,     15,\n",
       "             16,     17,     18,     19,  60051,  60052, 175646, 175647,\n",
       "         175648, 175649, 175650, 175651, 175652, 175653, 175654, 175655,\n",
       "         235712, 235713, 295675, 295676, 356693, 356694, 356695, 356696,\n",
       "         356697, 356698, 417286, 417287, 417288, 417289, 476585, 476586,\n",
       "         476587, 476588, 476589, 476590, 476591, 476592, 536242, 536243,\n",
       "         536244, 536245, 536246, 536247], dtype=int64)),\n",
       " (array([0, 0, 0, 0, 0, 0, 0, 0, 0, 0, 0, 0, 0, 0, 0, 0, 0, 0, 0, 0, 0, 0,\n",
       "         0, 0, 0, 0, 0, 0, 0, 0, 0, 0, 0, 0, 0, 0, 0, 0, 0, 0, 0, 0, 0, 0,\n",
       "         0, 0, 0, 0, 0, 0, 0, 0, 0, 0, 0, 0, 0, 0, 0, 0, 0, 0, 0, 0, 0, 0,\n",
       "         0, 0, 0, 0, 0, 0, 0, 0, 0, 0, 0, 0, 0, 0, 0, 0, 0, 0, 0, 0, 0, 0,\n",
       "         0, 0, 0, 0, 0, 0, 0, 0, 0, 0, 0, 0, 0, 0, 0, 0, 0, 0, 0, 0, 0, 0,\n",
       "         0, 0, 0, 0, 0, 0, 0, 0, 0, 0, 0, 0, 0, 0, 0, 0, 0, 0, 0, 0, 0, 0,\n",
       "         0, 0, 0, 0, 0, 0, 0, 0, 0, 0, 0, 0, 0, 0, 0, 0, 0, 0, 0, 0, 0, 0,\n",
       "         0, 0, 0, 0, 0, 0, 0, 0, 0, 0, 0, 0, 0, 0, 0, 0, 0, 0, 0, 0, 0, 0,\n",
       "         0, 0, 0, 0, 0, 0, 0, 0, 0, 0, 0, 0, 0, 0, 0, 0, 0, 0, 0, 0, 0, 0,\n",
       "         0, 0, 0, 0, 0, 0, 0, 0, 0, 0, 0, 0, 0, 0, 0, 0, 0, 0, 0, 0, 0, 0,\n",
       "         0, 0, 0, 0, 0, 0, 0, 0, 0, 0, 0, 0, 0, 0, 0, 0, 0, 0, 0, 0, 0, 0,\n",
       "         0, 0, 0, 0, 0, 0, 0, 0, 0, 0, 0, 0, 0, 0, 0, 0, 0, 0, 0, 0, 0, 0,\n",
       "         0, 0, 0, 0, 0, 0, 0, 0, 0, 0, 0, 0, 0, 0, 0, 0, 0, 0, 0, 0, 0, 0,\n",
       "         0, 0, 0, 0, 0, 0, 0, 0, 0, 0, 0, 0, 0, 0, 0, 0, 0, 0, 0, 0, 0, 0,\n",
       "         0, 0, 0, 0, 0, 0, 0, 0, 0, 0, 0, 0, 0, 0, 0, 0, 0, 0, 0, 0, 0, 0,\n",
       "         0, 0, 0, 0, 0, 0, 0, 0, 0, 0, 0, 0, 0, 0, 0, 0, 0, 0, 0, 0, 0, 0,\n",
       "         0, 0, 0, 0, 0, 0, 0, 0, 0, 0, 0, 0, 0, 0, 0, 0, 0, 0, 0, 0, 0, 0,\n",
       "         0, 0, 0, 0, 0, 0, 0, 0, 0, 0, 0, 0, 0, 0, 0, 0, 0, 0, 0, 0, 0, 0,\n",
       "         0, 0, 0, 0, 0, 0, 0, 0, 0, 0, 0, 0, 0, 0, 0, 0, 0, 0, 0, 0, 0, 0,\n",
       "         0, 0, 0, 0, 0, 0, 0, 0, 0, 0, 0, 0, 0, 0, 0, 0, 0, 0, 0, 0, 0, 0,\n",
       "         0, 0, 0, 0, 0, 0, 0, 0, 0, 0, 0, 0, 0, 0, 0, 0, 0, 0, 0, 0, 0, 0,\n",
       "         0, 0, 0, 0, 0, 0, 0, 0, 0, 0, 0, 0, 0, 0, 0, 0, 0, 0, 0, 0, 0, 0,\n",
       "         0, 0, 0, 0, 0, 0, 0, 0, 0, 0, 0, 0, 0, 0, 0, 0, 0, 0, 0, 0, 0, 0,\n",
       "         0, 0, 0, 0, 0, 0, 0, 0, 0], dtype=int64),\n",
       "  array([      0,       1,       2,       3,       4,       5,       6,\n",
       "               7,       8,       9,      10,      11,      12,      13,\n",
       "              14,      15,      16,      17,      18,      19,      20,\n",
       "              21,      22,      23,      24,      25,      26,      27,\n",
       "              28,      29,      30,      31,      32,      33,      34,\n",
       "              35,      36,      37,      38,      39,      40,      41,\n",
       "              42,      43,      44,      45,      46,      47,      48,\n",
       "              49,      50,      51,      52,      53,      54,      55,\n",
       "              56,      57,      58,      59,      60,      61,      62,\n",
       "              63,      64,      65,      66,      67,      68,      69,\n",
       "              70,      71,      72,      73,      74,      75,      76,\n",
       "              77,      78,      79,      80,      81,      82,      83,\n",
       "              84,  482020,  482021,  482022,  482023,  482024,  482025,\n",
       "          482026,  482027,  482028,  482029,  482030,  482031,  482032,\n",
       "          482033,  482034,  482035,  482036,  482037,  482038,  482039,\n",
       "          482040,  482041,  482042,  482043,  482044,  482045,  482046,\n",
       "          482047,  482048,  482049,  482050,  482051,  482052,  482053,\n",
       "          482054,  482055,  482056,  482057,  962920,  962921,  962922,\n",
       "          962923,  962924,  962925,  962926,  962927,  962928,  962929,\n",
       "          962930,  962931,  962932,  962933,  962934,  962935, 1443068,\n",
       "         1443069, 1443070, 1443071, 1443072, 1443073, 1443074, 1443075,\n",
       "         1443076, 1443077, 1443078, 1443079, 1443080, 1443081, 1443082,\n",
       "         1443083, 1443084, 1443085, 1443086, 1443087, 1443088, 1443089,\n",
       "         1443090, 1443091, 1443092, 1443093, 1443094, 1443095, 1443096,\n",
       "         1443097, 1443098, 1443099, 1443100, 1443101, 1443102, 1443103,\n",
       "         1443104, 1443105, 1443106, 1443107, 1443108, 1443109, 1443110,\n",
       "         1443111, 1443112, 1443113, 1443114, 1443115, 1919352, 1919353,\n",
       "         1919354, 1919355, 1919356, 1919357, 1919358, 1919359, 1919360,\n",
       "         1919361, 1919362, 1919363, 1919364, 1919365, 1919366, 1919367,\n",
       "         1919368, 1919369, 1919370, 1919371, 1919372, 1919373, 1919374,\n",
       "         1919375, 1919376, 1919377, 1919378, 1919379, 1919380, 1919381,\n",
       "         1919382, 2395405, 2395406, 2395407, 2395408, 2395409, 2395410,\n",
       "         2395411, 2395412, 2395413, 2395414, 2395415, 2395416, 2395417,\n",
       "         2395418, 2395419, 2395420, 2395421, 2395422, 2395423, 2395424,\n",
       "         2395425, 2395426, 2395427, 2395428, 2395429, 2395430, 2395431,\n",
       "         2395432, 2395433, 2395434, 2395435, 2395436, 2395437, 2395438,\n",
       "         2395439, 2395440, 2395441, 2395442, 2395443, 2395444, 2395445,\n",
       "         2395446, 2395447, 2395448, 2395449, 2395450, 2395451, 2395452,\n",
       "         2395453, 2395454, 2395455, 2395456, 2395457, 2395458, 2395459,\n",
       "         2395460, 2395461, 2395462, 2395463, 2395464, 2395465, 2395466,\n",
       "         2395467, 2395468, 2395469, 2395470, 2395471, 2395472, 2395473,\n",
       "         2395474, 2395475, 2395476, 2395477, 2875330, 2875331, 2875332,\n",
       "         2875333, 2875334, 2875335, 2875336, 2875337, 2875338, 2875339,\n",
       "         2875340, 2875341, 2875342, 2875343, 2875344, 2875345, 2875346,\n",
       "         2875347, 2875348, 2875349, 2875350, 2875351, 2875352, 2875353,\n",
       "         2875354, 2875355, 2875356, 2875357, 2875358, 2875359, 2875360,\n",
       "         2875361, 2875362, 2875363, 2875364, 2875365, 2875366, 3356558,\n",
       "         3356559, 3356560, 3356561, 3356562, 3356563, 3356564, 3356565,\n",
       "         3356566, 3356567, 3356568, 3356569, 3356570, 3356571, 3356572,\n",
       "         3836134, 3836135, 3836136, 3836137, 3836138, 3836139, 3836140,\n",
       "         3836141, 3836142, 3836143, 3836144, 3836145, 3836146, 3836147,\n",
       "         3836148, 3836149, 3836150, 3836151, 3836152, 3836153, 3836154,\n",
       "         3836155, 3836156, 3836157, 3836158, 3836159, 3836160, 3836161,\n",
       "         3836162, 3836163, 3836164, 3836165, 3836166, 3836167, 3836168,\n",
       "         3836169, 3836170, 3836171, 3836172, 3836173, 3836174, 3836175,\n",
       "         3836176, 3836177, 3836178, 3836179, 3836180, 3836181, 3836182,\n",
       "         3836183, 3836184, 3836185, 3836186, 3836187, 3836188, 3836189,\n",
       "         3836190, 3836191, 3836192, 3836193, 3836194, 3836195, 3836196,\n",
       "         4313903, 4313904, 4313905, 4313906, 4313907, 4313908, 4313909,\n",
       "         4313910, 4313911, 4313912, 4313913, 4313914, 4313915, 4313916,\n",
       "         4313917, 4313918, 4313919, 4313920, 4313921, 4313922, 4313923,\n",
       "         4313924, 4313925, 4313926, 4313927, 4313928, 4313929, 4313930,\n",
       "         4313931, 4313932, 4313933, 4313934, 4313935, 4313936, 4313937,\n",
       "         4794359, 4794360, 4794361, 4794362, 4794363, 4794364, 4794365,\n",
       "         4794366, 4794367, 4794368, 4794369, 4794370, 4794371, 4794372,\n",
       "         4794373, 4794374, 4794375, 4794376, 4794377, 4794378, 4794379,\n",
       "         4794380, 4794381, 5275597, 5275598, 5275599, 5275600, 5275601,\n",
       "         5275602, 5275603, 5275604, 5275605, 5275606, 5275607, 5275608,\n",
       "         5275609, 5275610, 5275611, 5275612, 5275613, 5275614, 5275615,\n",
       "         5275616, 5275617, 5275618, 5275619, 5275620, 5275621, 5275622,\n",
       "         5275623, 5275624, 5275625, 5275626, 5275627, 5275628, 5275629,\n",
       "         5275630, 5275631, 5275632, 5275633, 5275634, 5275635, 5275636,\n",
       "         5275637, 5275638, 5275639, 5275640, 5275641, 5275642, 5275643,\n",
       "         5275644, 5275645, 5275646, 5275647], dtype=int64)))"
      ]
     },
     "execution_count": 77,
     "metadata": {},
     "output_type": "execute_result"
    }
   ],
   "source": [
    "np.where(realtimeBq < 10), np.where(realtimeCs137 < 10)"
   ]
  },
  {
   "cell_type": "markdown",
   "metadata": {},
   "source": [
    "### 5 卷积神经网络数据"
   ]
  },
  {
   "cell_type": "code",
   "execution_count": 224,
   "metadata": {},
   "outputs": [
    {
     "data": {
      "text/plain": [
       "(6377, 50, 50, 2)"
      ]
     },
     "execution_count": 224,
     "metadata": {},
     "output_type": "execute_result"
    }
   ],
   "source": [
    "index = np.random.randint(dataSet.shape[0], size=(1, dataSet.shape[0]))\n",
    "dataSet = dataSet[index[0], :, :, :]\n",
    "\n",
    "dataSet.shape"
   ]
  },
  {
   "cell_type": "code",
   "execution_count": 225,
   "metadata": {},
   "outputs": [
    {
     "data": {
      "text/plain": [
       "(6377, 1)"
      ]
     },
     "execution_count": 225,
     "metadata": {},
     "output_type": "execute_result"
    }
   ],
   "source": [
    "labels = labels[index[0]]\n",
    "labels.shape"
   ]
  },
  {
   "cell_type": "code",
   "execution_count": 226,
   "metadata": {},
   "outputs": [
    {
     "data": {
      "text/plain": [
       "((5000, 50, 50, 2), (1377, 50, 50, 2), (5000,), (1377,))"
      ]
     },
     "execution_count": 226,
     "metadata": {},
     "output_type": "execute_result"
    }
   ],
   "source": [
    "trainData = dataSet[:5000, :, :, :]\n",
    "testData = dataSet[5000: , :, :, :]\n",
    "train_labels = labels[: 5000, 0]\n",
    "test_labels = labels[5000: , 0]\n",
    "trainData.shape, testData.shape, train_labels.shape, test_labels.shape"
   ]
  },
  {
   "cell_type": "code",
   "execution_count": 235,
   "metadata": {},
   "outputs": [],
   "source": [
    "trainData[:, :, :, 0] = trainData[:, :, :, 0] / np.max(trainData[:, :, :, 0])\n",
    "trainData[:, :, :, 1] = trainData[:, :, :, 1] / np.max(trainData[:, :, :, 1])\n",
    "testData[:, :, :, 0] = testData[:, :, :, 0] / np.max(testData[:, :, :, 0])\n",
    "testData[:, :, :, 1] = testData[:, :, :, 1] / np.max(testData[:, :, :, 1])"
   ]
  },
  {
   "cell_type": "code",
   "execution_count": null,
   "metadata": {},
   "outputs": [],
   "source": []
  },
  {
   "cell_type": "markdown",
   "metadata": {},
   "source": [
    "### 6 训练模型"
   ]
  },
  {
   "cell_type": "code",
   "execution_count": 192,
   "metadata": {},
   "outputs": [],
   "source": [
    "model = models.Sequential()  # 线性模型\n",
    "model.add(layers.Conv2D(32, (3, 3), activation='relu', input_shape=(50, 50, 2)))\n",
    "model.add(layers.MaxPooling2D((2, 2)))\n",
    "model.add(layers.Conv2D(64, (3, 3), activation='relu'))\n",
    "model.add(layers.MaxPooling2D((2, 2)))\n",
    "model.add(layers.Conv2D(64, (3, 3), activation='relu'))"
   ]
  },
  {
   "cell_type": "code",
   "execution_count": 193,
   "metadata": {},
   "outputs": [
    {
     "name": "stdout",
     "output_type": "stream",
     "text": [
      "Model: \"sequential_3\"\n",
      "_________________________________________________________________\n",
      "Layer (type)                 Output Shape              Param #   \n",
      "=================================================================\n",
      "conv2d_9 (Conv2D)            (None, 48, 48, 32)        608       \n",
      "_________________________________________________________________\n",
      "max_pooling2d_6 (MaxPooling2 (None, 24, 24, 32)        0         \n",
      "_________________________________________________________________\n",
      "conv2d_10 (Conv2D)           (None, 22, 22, 64)        18496     \n",
      "_________________________________________________________________\n",
      "max_pooling2d_7 (MaxPooling2 (None, 11, 11, 64)        0         \n",
      "_________________________________________________________________\n",
      "conv2d_11 (Conv2D)           (None, 9, 9, 64)          36928     \n",
      "=================================================================\n",
      "Total params: 56,032\n",
      "Trainable params: 56,032\n",
      "Non-trainable params: 0\n",
      "_________________________________________________________________\n"
     ]
    }
   ],
   "source": [
    "model.summary()"
   ]
  },
  {
   "cell_type": "code",
   "execution_count": 194,
   "metadata": {},
   "outputs": [],
   "source": [
    "model.add(layers.Flatten())\n",
    "model.add(layers.Dense(64, activation='relu'))\n",
    "model.add(layers.Dense(4, activation='softmax'))"
   ]
  },
  {
   "cell_type": "code",
   "execution_count": 195,
   "metadata": {},
   "outputs": [
    {
     "name": "stdout",
     "output_type": "stream",
     "text": [
      "Model: \"sequential_3\"\n",
      "_________________________________________________________________\n",
      "Layer (type)                 Output Shape              Param #   \n",
      "=================================================================\n",
      "conv2d_9 (Conv2D)            (None, 48, 48, 32)        608       \n",
      "_________________________________________________________________\n",
      "max_pooling2d_6 (MaxPooling2 (None, 24, 24, 32)        0         \n",
      "_________________________________________________________________\n",
      "conv2d_10 (Conv2D)           (None, 22, 22, 64)        18496     \n",
      "_________________________________________________________________\n",
      "max_pooling2d_7 (MaxPooling2 (None, 11, 11, 64)        0         \n",
      "_________________________________________________________________\n",
      "conv2d_11 (Conv2D)           (None, 9, 9, 64)          36928     \n",
      "_________________________________________________________________\n",
      "flatten_4 (Flatten)          (None, 5184)              0         \n",
      "_________________________________________________________________\n",
      "dense_8 (Dense)              (None, 64)                331840    \n",
      "_________________________________________________________________\n",
      "dense_9 (Dense)              (None, 4)                 260       \n",
      "=================================================================\n",
      "Total params: 388,132\n",
      "Trainable params: 388,132\n",
      "Non-trainable params: 0\n",
      "_________________________________________________________________\n"
     ]
    }
   ],
   "source": [
    "model.summary()"
   ]
  },
  {
   "cell_type": "code",
   "execution_count": 196,
   "metadata": {},
   "outputs": [],
   "source": [
    "model.compile(optimizer='adam',\n",
    "              loss='sparse_categorical_crossentropy',\n",
    "              metrics=['accuracy'])"
   ]
  },
  {
   "cell_type": "code",
   "execution_count": 197,
   "metadata": {},
   "outputs": [
    {
     "name": "stdout",
     "output_type": "stream",
     "text": [
      "Train on 7000 samples\n",
      "Epoch 1/10\n",
      "6016/7000 [========================>.....] - ETA: 8:35 - loss: 1.3775 - accuracy: 0.43 - ETA: 4:26 - loss: 1.3352 - accuracy: 0.39 - ETA: 3:02 - loss: 1.2890 - accuracy: 0.39 - ETA: 2:21 - loss: 1.2361 - accuracy: 0.42 - ETA: 1:56 - loss: 1.2460 - accuracy: 0.41 - ETA: 1:40 - loss: 1.2129 - accuracy: 0.41 - ETA: 1:28 - loss: 1.2121 - accuracy: 0.40 - ETA: 1:18 - loss: 1.1889 - accuracy: 0.41 - ETA: 1:11 - loss: 1.1760 - accuracy: 0.40 - ETA: 1:05 - loss: 1.1754 - accuracy: 0.39 - ETA: 1:00 - loss: 1.1762 - accuracy: 0.38 - ETA: 56s - loss: 1.1622 - accuracy: 0.3880 - ETA: 53s - loss: 1.1539 - accuracy: 0.384 - ETA: 50s - loss: 1.1510 - accuracy: 0.377 - ETA: 48s - loss: 1.1413 - accuracy: 0.379 - ETA: 45s - loss: 1.1302 - accuracy: 0.384 - ETA: 43s - loss: 1.1142 - accuracy: 0.386 - ETA: 42s - loss: 1.1064 - accuracy: 0.385 - ETA: 40s - loss: 1.0963 - accuracy: 0.383 - ETA: 39s - loss: 1.0838 - accuracy: 0.398 - ETA: 38s - loss: 1.0708 - accuracy: 0.407 - ETA: 37s - loss: 1.0574 - accuracy: 0.424 - ETA: 35s - loss: 1.0418 - accuracy: 0.433 - ETA: 34s - loss: 1.0283 - accuracy: 0.441 - ETA: 34s - loss: 1.0168 - accuracy: 0.447 - ETA: 33s - loss: 1.0017 - accuracy: 0.460 - ETA: 32s - loss: 0.9854 - accuracy: 0.473 - ETA: 31s - loss: 0.9689 - accuracy: 0.483 - ETA: 31s - loss: 0.9639 - accuracy: 0.488 - ETA: 30s - loss: 0.9485 - accuracy: 0.501 - ETA: 29s - loss: 0.9427 - accuracy: 0.504 - ETA: 29s - loss: 0.9359 - accuracy: 0.503 - ETA: 28s - loss: 0.9234 - accuracy: 0.510 - ETA: 28s - loss: 0.9187 - accuracy: 0.514 - ETA: 27s - loss: 0.9103 - accuracy: 0.516 - ETA: 27s - loss: 0.9014 - accuracy: 0.519 - ETA: 26s - loss: 0.8975 - accuracy: 0.520 - ETA: 26s - loss: 0.8877 - accuracy: 0.525 - ETA: 25s - loss: 0.8774 - accuracy: 0.534 - ETA: 25s - loss: 0.8866 - accuracy: 0.531 - ETA: 24s - loss: 0.8789 - accuracy: 0.536 - ETA: 24s - loss: 0.8704 - accuracy: 0.543 - ETA: 24s - loss: 0.8635 - accuracy: 0.545 - ETA: 23s - loss: 0.8629 - accuracy: 0.543 - ETA: 23s - loss: 0.8551 - accuracy: 0.547 - ETA: 23s - loss: 0.8472 - accuracy: 0.555 - ETA: 22s - loss: 0.8420 - accuracy: 0.555 - ETA: 22s - loss: 0.8363 - accuracy: 0.557 - ETA: 22s - loss: 0.8361 - accuracy: 0.558 - ETA: 21s - loss: 0.8302 - accuracy: 0.558 - ETA: 21s - loss: 0.8229 - accuracy: 0.564 - ETA: 21s - loss: 0.8185 - accuracy: 0.564 - ETA: 21s - loss: 0.8135 - accuracy: 0.565 - ETA: 21s - loss: 0.8101 - accuracy: 0.568 - ETA: 20s - loss: 0.8065 - accuracy: 0.573 - ETA: 20s - loss: 0.8008 - accuracy: 0.578 - ETA: 20s - loss: 0.7980 - accuracy: 0.581 - ETA: 20s - loss: 0.7966 - accuracy: 0.585 - ETA: 19s - loss: 0.7906 - accuracy: 0.589 - ETA: 19s - loss: 0.7842 - accuracy: 0.594 - ETA: 19s - loss: 0.7794 - accuracy: 0.596 - ETA: 19s - loss: 0.7734 - accuracy: 0.600 - ETA: 19s - loss: 0.7662 - accuracy: 0.607 - ETA: 18s - loss: 0.7603 - accuracy: 0.610 - ETA: 18s - loss: 0.7549 - accuracy: 0.614 - ETA: 18s - loss: 0.7492 - accuracy: 0.619 - ETA: 18s - loss: 0.7441 - accuracy: 0.623 - ETA: 18s - loss: 0.7385 - accuracy: 0.628 - ETA: 17s - loss: 0.7328 - accuracy: 0.632 - ETA: 17s - loss: 0.7278 - accuracy: 0.635 - ETA: 17s - loss: 0.7217 - accuracy: 0.639 - ETA: 17s - loss: 0.7151 - accuracy: 0.643 - ETA: 17s - loss: 0.7100 - accuracy: 0.646 - ETA: 17s - loss: 0.7054 - accuracy: 0.649 - ETA: 16s - loss: 0.6998 - accuracy: 0.654 - ETA: 16s - loss: 0.6940 - accuracy: 0.657 - ETA: 16s - loss: 0.6883 - accuracy: 0.660 - ETA: 16s - loss: 0.6831 - accuracy: 0.663 - ETA: 16s - loss: 0.6779 - accuracy: 0.666 - ETA: 15s - loss: 0.6729 - accuracy: 0.668 - ETA: 15s - loss: 0.6685 - accuracy: 0.670 - ETA: 15s - loss: 0.6638 - accuracy: 0.673 - ETA: 15s - loss: 0.6600 - accuracy: 0.675 - ETA: 15s - loss: 0.6552 - accuracy: 0.677 - ETA: 15s - loss: 0.6533 - accuracy: 0.678 - ETA: 14s - loss: 0.6481 - accuracy: 0.682 - ETA: 14s - loss: 0.6422 - accuracy: 0.685 - ETA: 14s - loss: 0.6374 - accuracy: 0.687 - ETA: 14s - loss: 0.6347 - accuracy: 0.689 - ETA: 14s - loss: 0.6294 - accuracy: 0.692 - ETA: 14s - loss: 0.6259 - accuracy: 0.693 - ETA: 14s - loss: 0.6230 - accuracy: 0.694 - ETA: 13s - loss: 0.6206 - accuracy: 0.694 - ETA: 13s - loss: 0.6191 - accuracy: 0.695 - ETA: 13s - loss: 0.6140 - accuracy: 0.698 - ETA: 13s - loss: 0.6156 - accuracy: 0.697 - ETA: 13s - loss: 0.6115 - accuracy: 0.699 - ETA: 13s - loss: 0.6071 - accuracy: 0.701 - ETA: 13s - loss: 0.6067 - accuracy: 0.701 - ETA: 12s - loss: 0.6022 - accuracy: 0.703 - ETA: 12s - loss: 0.5974 - accuracy: 0.706 - ETA: 12s - loss: 0.5940 - accuracy: 0.708 - ETA: 12s - loss: 0.5898 - accuracy: 0.711 - ETA: 12s - loss: 0.5853 - accuracy: 0.714 - ETA: 12s - loss: 0.5810 - accuracy: 0.716 - ETA: 12s - loss: 0.5775 - accuracy: 0.718 - ETA: 11s - loss: 0.5734 - accuracy: 0.720 - ETA: 11s - loss: 0.5696 - accuracy: 0.723 - ETA: 11s - loss: 0.5657 - accuracy: 0.725 - ETA: 11s - loss: 0.5613 - accuracy: 0.727 - ETA: 11s - loss: 0.5577 - accuracy: 0.730 - ETA: 11s - loss: 0.5535 - accuracy: 0.732 - ETA: 11s - loss: 0.5493 - accuracy: 0.734 - ETA: 11s - loss: 0.5454 - accuracy: 0.736 - ETA: 10s - loss: 0.5413 - accuracy: 0.738 - ETA: 10s - loss: 0.5373 - accuracy: 0.740 - ETA: 10s - loss: 0.5346 - accuracy: 0.742 - ETA: 10s - loss: 0.5309 - accuracy: 0.744 - ETA: 10s - loss: 0.5282 - accuracy: 0.745 - ETA: 10s - loss: 0.5252 - accuracy: 0.747 - ETA: 10s - loss: 0.5219 - accuracy: 0.749 - ETA: 10s - loss: 0.5192 - accuracy: 0.750 - ETA: 10s - loss: 0.5155 - accuracy: 0.752 - ETA: 9s - loss: 0.5128 - accuracy: 0.753 - ETA: 9s - loss: 0.5094 - accuracy: 0.75 - ETA: 9s - loss: 0.5057 - accuracy: 0.75 - ETA: 9s - loss: 0.5022 - accuracy: 0.75 - ETA: 9s - loss: 0.4989 - accuracy: 0.76 - ETA: 9s - loss: 0.4956 - accuracy: 0.76 - ETA: 9s - loss: 0.4920 - accuracy: 0.76 - ETA: 9s - loss: 0.4892 - accuracy: 0.76 - ETA: 8s - loss: 0.4860 - accuracy: 0.76 - ETA: 8s - loss: 0.4827 - accuracy: 0.76 - ETA: 8s - loss: 0.4801 - accuracy: 0.77 - ETA: 8s - loss: 0.4769 - accuracy: 0.77 - ETA: 8s - loss: 0.4737 - accuracy: 0.77 - ETA: 8s - loss: 0.4709 - accuracy: 0.77 - ETA: 8s - loss: 0.4681 - accuracy: 0.77 - ETA: 8s - loss: 0.4649 - accuracy: 0.77 - ETA: 8s - loss: 0.4623 - accuracy: 0.78 - ETA: 7s - loss: 0.4595 - accuracy: 0.78 - ETA: 7s - loss: 0.4564 - accuracy: 0.78 - ETA: 7s - loss: 0.4535 - accuracy: 0.78 - ETA: 7s - loss: 0.4512 - accuracy: 0.78 - ETA: 7s - loss: 0.4484 - accuracy: 0.78 - ETA: 7s - loss: 0.4457 - accuracy: 0.78 - ETA: 7s - loss: 0.4435 - accuracy: 0.78 - ETA: 7s - loss: 0.4406 - accuracy: 0.79 - ETA: 7s - loss: 0.4380 - accuracy: 0.79 - ETA: 6s - loss: 0.4355 - accuracy: 0.79 - ETA: 6s - loss: 0.4329 - accuracy: 0.79 - ETA: 6s - loss: 0.4302 - accuracy: 0.79 - ETA: 6s - loss: 0.4276 - accuracy: 0.79 - ETA: 6s - loss: 0.4258 - accuracy: 0.79 - ETA: 6s - loss: 0.4233 - accuracy: 0.80 - ETA: 6s - loss: 0.4218 - accuracy: 0.80 - ETA: 6s - loss: 0.4193 - accuracy: 0.80 - ETA: 6s - loss: 0.4169 - accuracy: 0.80 - ETA: 5s - loss: 0.4153 - accuracy: 0.80 - ETA: 5s - loss: 0.4129 - accuracy: 0.80 - ETA: 5s - loss: 0.4104 - accuracy: 0.80 - ETA: 5s - loss: 0.4093 - accuracy: 0.80 - ETA: 5s - loss: 0.4069 - accuracy: 0.80 - ETA: 5s - loss: 0.4049 - accuracy: 0.80 - ETA: 5s - loss: 0.4028 - accuracy: 0.81 - ETA: 5s - loss: 0.4005 - accuracy: 0.81 - ETA: 5s - loss: 0.3982 - accuracy: 0.81 - ETA: 5s - loss: 0.3958 - accuracy: 0.81 - ETA: 4s - loss: 0.3936 - accuracy: 0.81 - ETA: 4s - loss: 0.3918 - accuracy: 0.81 - ETA: 4s - loss: 0.3896 - accuracy: 0.81 - ETA: 4s - loss: 0.3875 - accuracy: 0.81 - ETA: 4s - loss: 0.3859 - accuracy: 0.81 - ETA: 4s - loss: 0.3838 - accuracy: 0.81 - ETA: 4s - loss: 0.3816 - accuracy: 0.82 - ETA: 4s - loss: 0.3795 - accuracy: 0.82 - ETA: 4s - loss: 0.3778 - accuracy: 0.82 - ETA: 3s - loss: 0.3758 - accuracy: 0.82 - ETA: 3s - loss: 0.3738 - accuracy: 0.82 - ETA: 3s - loss: 0.3718 - accuracy: 0.82 - ETA: 3s - loss: 0.3702 - accuracy: 0.82 - ETA: 3s - loss: 0.3683 - accuracy: 0.82 - ETA: 3s - loss: 0.3663 - accuracy: 0.82 - ETA: 3s - loss: 0.3646 - accuracy: 0.82 - ETA: 3s - loss: 0.3630 - accuracy: 0.82 - ETA: 3s - loss: 0.3610 - accuracy: 0.83 - ETA: 3s - loss: 0.3592 - accuracy: 0.83 - ETA: 2s - loss: 0.3574 - accuracy: 0.837000/7000 [==============================] - ETA: 2s - loss: 0.3556 - accuracy: 0.83 - ETA: 2s - loss: 0.3541 - accuracy: 0.83 - ETA: 2s - loss: 0.3523 - accuracy: 0.83 - ETA: 2s - loss: 0.3508 - accuracy: 0.83 - ETA: 2s - loss: 0.3493 - accuracy: 0.83 - ETA: 2s - loss: 0.3477 - accuracy: 0.83 - ETA: 2s - loss: 0.3460 - accuracy: 0.83 - ETA: 2s - loss: 0.3446 - accuracy: 0.83 - ETA: 2s - loss: 0.3431 - accuracy: 0.83 - ETA: 2s - loss: 0.3415 - accuracy: 0.84 - ETA: 1s - loss: 0.3399 - accuracy: 0.84 - ETA: 1s - loss: 0.3386 - accuracy: 0.84 - ETA: 1s - loss: 0.3370 - accuracy: 0.84 - ETA: 1s - loss: 0.3354 - accuracy: 0.84 - ETA: 1s - loss: 0.3338 - accuracy: 0.84 - ETA: 1s - loss: 0.3324 - accuracy: 0.84 - ETA: 1s - loss: 0.3309 - accuracy: 0.84 - ETA: 1s - loss: 0.3293 - accuracy: 0.84 - ETA: 1s - loss: 0.3278 - accuracy: 0.84 - ETA: 1s - loss: 0.3263 - accuracy: 0.84 - ETA: 0s - loss: 0.3248 - accuracy: 0.84 - ETA: 0s - loss: 0.3233 - accuracy: 0.84 - ETA: 0s - loss: 0.3218 - accuracy: 0.85 - ETA: 0s - loss: 0.3203 - accuracy: 0.85 - ETA: 0s - loss: 0.3188 - accuracy: 0.85 - ETA: 0s - loss: 0.3174 - accuracy: 0.85 - ETA: 0s - loss: 0.3159 - accuracy: 0.85 - ETA: 0s - loss: 0.3145 - accuracy: 0.85 - ETA: 0s - loss: 0.3131 - accuracy: 0.85 - ETA: 0s - loss: 0.3116 - accuracy: 0.85 - 21s 3ms/sample - loss: 0.3106 - accuracy: 0.8556\n",
      "Epoch 2/10\n"
     ]
    },
    {
     "name": "stdout",
     "output_type": "stream",
     "text": [
      "6080/7000 [=========================>....] - ETA: 17s - loss: 0.0016 - accuracy: 1.000 - ETA: 17s - loss: 0.0018 - accuracy: 1.000 - ETA: 16s - loss: 0.0029 - accuracy: 1.000 - ETA: 16s - loss: 0.0029 - accuracy: 1.000 - ETA: 16s - loss: 0.0050 - accuracy: 1.000 - ETA: 16s - loss: 0.0050 - accuracy: 1.000 - ETA: 16s - loss: 0.0055 - accuracy: 1.000 - ETA: 17s - loss: 0.0056 - accuracy: 1.000 - ETA: 16s - loss: 0.0060 - accuracy: 1.000 - ETA: 16s - loss: 0.0061 - accuracy: 1.000 - ETA: 16s - loss: 0.0068 - accuracy: 1.000 - ETA: 16s - loss: 0.0065 - accuracy: 1.000 - ETA: 16s - loss: 0.0066 - accuracy: 1.000 - ETA: 16s - loss: 0.0076 - accuracy: 1.000 - ETA: 16s - loss: 0.0079 - accuracy: 1.000 - ETA: 16s - loss: 0.0075 - accuracy: 1.000 - ETA: 16s - loss: 0.0080 - accuracy: 1.000 - ETA: 16s - loss: 0.0081 - accuracy: 1.000 - ETA: 16s - loss: 0.0087 - accuracy: 1.000 - ETA: 16s - loss: 0.0086 - accuracy: 1.000 - ETA: 16s - loss: 0.0082 - accuracy: 1.000 - ETA: 16s - loss: 0.0081 - accuracy: 1.000 - ETA: 16s - loss: 0.0097 - accuracy: 0.998 - ETA: 16s - loss: 0.0100 - accuracy: 0.998 - ETA: 15s - loss: 0.0101 - accuracy: 0.998 - ETA: 15s - loss: 0.0100 - accuracy: 0.998 - ETA: 15s - loss: 0.0097 - accuracy: 0.998 - ETA: 15s - loss: 0.0096 - accuracy: 0.998 - ETA: 15s - loss: 0.0093 - accuracy: 0.998 - ETA: 15s - loss: 0.0091 - accuracy: 0.999 - ETA: 15s - loss: 0.0089 - accuracy: 0.999 - ETA: 15s - loss: 0.0086 - accuracy: 0.999 - ETA: 15s - loss: 0.0085 - accuracy: 0.999 - ETA: 15s - loss: 0.0083 - accuracy: 0.999 - ETA: 15s - loss: 0.0083 - accuracy: 0.999 - ETA: 14s - loss: 0.0081 - accuracy: 0.999 - ETA: 14s - loss: 0.0080 - accuracy: 0.999 - ETA: 14s - loss: 0.0078 - accuracy: 0.999 - ETA: 14s - loss: 0.0077 - accuracy: 0.999 - ETA: 14s - loss: 0.0077 - accuracy: 0.999 - ETA: 14s - loss: 0.0076 - accuracy: 0.999 - ETA: 14s - loss: 0.0075 - accuracy: 0.999 - ETA: 14s - loss: 0.0074 - accuracy: 0.999 - ETA: 14s - loss: 0.0073 - accuracy: 0.999 - ETA: 14s - loss: 0.0072 - accuracy: 0.999 - ETA: 14s - loss: 0.0071 - accuracy: 0.999 - ETA: 14s - loss: 0.0070 - accuracy: 0.999 - ETA: 14s - loss: 0.0069 - accuracy: 0.999 - ETA: 13s - loss: 0.0068 - accuracy: 0.999 - ETA: 13s - loss: 0.0067 - accuracy: 0.999 - ETA: 13s - loss: 0.0068 - accuracy: 0.999 - ETA: 13s - loss: 0.0069 - accuracy: 0.999 - ETA: 13s - loss: 0.0068 - accuracy: 0.999 - ETA: 13s - loss: 0.0067 - accuracy: 0.999 - ETA: 13s - loss: 0.0066 - accuracy: 0.999 - ETA: 13s - loss: 0.0065 - accuracy: 0.999 - ETA: 13s - loss: 0.0065 - accuracy: 0.999 - ETA: 13s - loss: 0.0064 - accuracy: 0.999 - ETA: 13s - loss: 0.0064 - accuracy: 0.999 - ETA: 13s - loss: 0.0064 - accuracy: 0.999 - ETA: 12s - loss: 0.0063 - accuracy: 0.999 - ETA: 12s - loss: 0.0065 - accuracy: 0.999 - ETA: 12s - loss: 0.0065 - accuracy: 0.999 - ETA: 12s - loss: 0.0064 - accuracy: 0.999 - ETA: 12s - loss: 0.0064 - accuracy: 0.999 - ETA: 12s - loss: 0.0065 - accuracy: 0.999 - ETA: 12s - loss: 0.0064 - accuracy: 0.999 - ETA: 12s - loss: 0.0065 - accuracy: 0.999 - ETA: 12s - loss: 0.0065 - accuracy: 0.999 - ETA: 12s - loss: 0.0064 - accuracy: 0.999 - ETA: 12s - loss: 0.0064 - accuracy: 0.999 - ETA: 12s - loss: 0.0063 - accuracy: 0.999 - ETA: 11s - loss: 0.0063 - accuracy: 0.999 - ETA: 11s - loss: 0.0066 - accuracy: 0.999 - ETA: 11s - loss: 0.0065 - accuracy: 0.999 - ETA: 11s - loss: 0.0064 - accuracy: 0.999 - ETA: 11s - loss: 0.0066 - accuracy: 0.999 - ETA: 11s - loss: 0.0069 - accuracy: 0.999 - ETA: 11s - loss: 0.0068 - accuracy: 0.999 - ETA: 11s - loss: 0.0067 - accuracy: 0.999 - ETA: 11s - loss: 0.0068 - accuracy: 0.999 - ETA: 11s - loss: 0.0069 - accuracy: 0.999 - ETA: 11s - loss: 0.0069 - accuracy: 0.999 - ETA: 11s - loss: 0.0069 - accuracy: 0.999 - ETA: 11s - loss: 0.0068 - accuracy: 0.999 - ETA: 10s - loss: 0.0068 - accuracy: 0.999 - ETA: 10s - loss: 0.0068 - accuracy: 0.999 - ETA: 10s - loss: 0.0068 - accuracy: 0.999 - ETA: 10s - loss: 0.0068 - accuracy: 0.999 - ETA: 10s - loss: 0.0067 - accuracy: 0.999 - ETA: 10s - loss: 0.0068 - accuracy: 0.999 - ETA: 10s - loss: 0.0067 - accuracy: 0.999 - ETA: 10s - loss: 0.0067 - accuracy: 0.999 - ETA: 10s - loss: 0.0069 - accuracy: 0.999 - ETA: 10s - loss: 0.0068 - accuracy: 0.999 - ETA: 10s - loss: 0.0068 - accuracy: 0.999 - ETA: 10s - loss: 0.0068 - accuracy: 0.999 - ETA: 9s - loss: 0.0068 - accuracy: 0.999 - ETA: 9s - loss: 0.0068 - accuracy: 0.99 - ETA: 9s - loss: 0.0067 - accuracy: 0.99 - ETA: 9s - loss: 0.0067 - accuracy: 0.99 - ETA: 9s - loss: 0.0067 - accuracy: 0.99 - ETA: 9s - loss: 0.0067 - accuracy: 0.99 - ETA: 9s - loss: 0.0067 - accuracy: 0.99 - ETA: 9s - loss: 0.0066 - accuracy: 0.99 - ETA: 9s - loss: 0.0066 - accuracy: 0.99 - ETA: 9s - loss: 0.0065 - accuracy: 0.99 - ETA: 9s - loss: 0.0065 - accuracy: 0.99 - ETA: 9s - loss: 0.0064 - accuracy: 0.99 - ETA: 8s - loss: 0.0064 - accuracy: 0.99 - ETA: 8s - loss: 0.0064 - accuracy: 0.99 - ETA: 8s - loss: 0.0065 - accuracy: 0.99 - ETA: 8s - loss: 0.0064 - accuracy: 0.99 - ETA: 8s - loss: 0.0065 - accuracy: 0.99 - ETA: 8s - loss: 0.0065 - accuracy: 0.99 - ETA: 8s - loss: 0.0065 - accuracy: 0.99 - ETA: 8s - loss: 0.0065 - accuracy: 0.99 - ETA: 8s - loss: 0.0064 - accuracy: 0.99 - ETA: 8s - loss: 0.0064 - accuracy: 0.99 - ETA: 8s - loss: 0.0064 - accuracy: 0.99 - ETA: 8s - loss: 0.0064 - accuracy: 0.99 - ETA: 8s - loss: 0.0064 - accuracy: 0.99 - ETA: 7s - loss: 0.0064 - accuracy: 0.99 - ETA: 7s - loss: 0.0063 - accuracy: 0.99 - ETA: 7s - loss: 0.0063 - accuracy: 0.99 - ETA: 7s - loss: 0.0062 - accuracy: 0.99 - ETA: 7s - loss: 0.0062 - accuracy: 0.99 - ETA: 7s - loss: 0.0062 - accuracy: 0.99 - ETA: 7s - loss: 0.0062 - accuracy: 0.99 - ETA: 7s - loss: 0.0061 - accuracy: 0.99 - ETA: 7s - loss: 0.0061 - accuracy: 0.99 - ETA: 7s - loss: 0.0061 - accuracy: 0.99 - ETA: 7s - loss: 0.0060 - accuracy: 0.99 - ETA: 7s - loss: 0.0061 - accuracy: 0.99 - ETA: 6s - loss: 0.0060 - accuracy: 0.99 - ETA: 6s - loss: 0.0060 - accuracy: 0.99 - ETA: 6s - loss: 0.0060 - accuracy: 0.99 - ETA: 6s - loss: 0.0059 - accuracy: 0.99 - ETA: 6s - loss: 0.0059 - accuracy: 0.99 - ETA: 6s - loss: 0.0059 - accuracy: 0.99 - ETA: 6s - loss: 0.0058 - accuracy: 0.99 - ETA: 6s - loss: 0.0058 - accuracy: 0.99 - ETA: 6s - loss: 0.0058 - accuracy: 0.99 - ETA: 6s - loss: 0.0057 - accuracy: 0.99 - ETA: 6s - loss: 0.0057 - accuracy: 0.99 - ETA: 6s - loss: 0.0057 - accuracy: 0.99 - ETA: 5s - loss: 0.0056 - accuracy: 0.99 - ETA: 5s - loss: 0.0056 - accuracy: 0.99 - ETA: 5s - loss: 0.0056 - accuracy: 0.99 - ETA: 5s - loss: 0.0056 - accuracy: 0.99 - ETA: 5s - loss: 0.0056 - accuracy: 0.99 - ETA: 5s - loss: 0.0056 - accuracy: 0.99 - ETA: 5s - loss: 0.0056 - accuracy: 0.99 - ETA: 5s - loss: 0.0056 - accuracy: 0.99 - ETA: 5s - loss: 0.0056 - accuracy: 0.99 - ETA: 5s - loss: 0.0056 - accuracy: 0.99 - ETA: 5s - loss: 0.0055 - accuracy: 0.99 - ETA: 5s - loss: 0.0055 - accuracy: 0.99 - ETA: 4s - loss: 0.0055 - accuracy: 0.99 - ETA: 4s - loss: 0.0055 - accuracy: 0.99 - ETA: 4s - loss: 0.0054 - accuracy: 0.99 - ETA: 4s - loss: 0.0054 - accuracy: 0.99 - ETA: 4s - loss: 0.0054 - accuracy: 0.99 - ETA: 4s - loss: 0.0054 - accuracy: 0.99 - ETA: 4s - loss: 0.0054 - accuracy: 0.99 - ETA: 4s - loss: 0.0053 - accuracy: 0.99 - ETA: 4s - loss: 0.0053 - accuracy: 0.99 - ETA: 4s - loss: 0.0053 - accuracy: 0.99 - ETA: 4s - loss: 0.0053 - accuracy: 0.99 - ETA: 4s - loss: 0.0053 - accuracy: 0.99 - ETA: 3s - loss: 0.0053 - accuracy: 0.99 - ETA: 3s - loss: 0.0052 - accuracy: 0.99 - ETA: 3s - loss: 0.0052 - accuracy: 0.99 - ETA: 3s - loss: 0.0053 - accuracy: 0.99 - ETA: 3s - loss: 0.0052 - accuracy: 0.99 - ETA: 3s - loss: 0.0052 - accuracy: 0.99 - ETA: 3s - loss: 0.0053 - accuracy: 0.99 - ETA: 3s - loss: 0.0052 - accuracy: 0.99 - ETA: 3s - loss: 0.0052 - accuracy: 0.99 - ETA: 3s - loss: 0.0052 - accuracy: 0.99 - ETA: 3s - loss: 0.0052 - accuracy: 0.99 - ETA: 3s - loss: 0.0052 - accuracy: 0.99 - ETA: 2s - loss: 0.0052 - accuracy: 0.99 - ETA: 2s - loss: 0.0052 - accuracy: 0.99 - ETA: 2s - loss: 0.0052 - accuracy: 0.99 - ETA: 2s - loss: 0.0052 - accuracy: 0.99 - ETA: 2s - loss: 0.0051 - accuracy: 0.99 - ETA: 2s - loss: 0.0051 - accuracy: 0.99 - ETA: 2s - loss: 0.0052 - accuracy: 0.99 - ETA: 2s - loss: 0.0051 - accuracy: 0.9998"
     ]
    },
    {
     "name": "stdout",
     "output_type": "stream",
     "text": [
      "7000/7000 [==============================] - ETA: 2s - loss: 0.0051 - accuracy: 0.99 - ETA: 2s - loss: 0.0052 - accuracy: 0.99 - ETA: 2s - loss: 0.0051 - accuracy: 0.99 - ETA: 2s - loss: 0.0051 - accuracy: 0.99 - ETA: 1s - loss: 0.0051 - accuracy: 0.99 - ETA: 1s - loss: 0.0051 - accuracy: 0.99 - ETA: 1s - loss: 0.0051 - accuracy: 0.99 - ETA: 1s - loss: 0.0051 - accuracy: 0.99 - ETA: 1s - loss: 0.0051 - accuracy: 0.99 - ETA: 1s - loss: 0.0051 - accuracy: 0.99 - ETA: 1s - loss: 0.0050 - accuracy: 0.99 - ETA: 1s - loss: 0.0050 - accuracy: 0.99 - ETA: 1s - loss: 0.0050 - accuracy: 0.99 - ETA: 1s - loss: 0.0050 - accuracy: 0.99 - ETA: 1s - loss: 0.0050 - accuracy: 0.99 - ETA: 1s - loss: 0.0049 - accuracy: 0.99 - ETA: 0s - loss: 0.0049 - accuracy: 0.99 - ETA: 0s - loss: 0.0049 - accuracy: 0.99 - ETA: 0s - loss: 0.0049 - accuracy: 0.99 - ETA: 0s - loss: 0.0049 - accuracy: 0.99 - ETA: 0s - loss: 0.0048 - accuracy: 0.99 - ETA: 0s - loss: 0.0048 - accuracy: 0.99 - ETA: 0s - loss: 0.0048 - accuracy: 0.99 - ETA: 0s - loss: 0.0048 - accuracy: 0.99 - ETA: 0s - loss: 0.0048 - accuracy: 0.99 - ETA: 0s - loss: 0.0047 - accuracy: 0.99 - ETA: 0s - loss: 0.0047 - accuracy: 0.99 - ETA: 0s - loss: 0.0047 - accuracy: 0.99 - 18s 3ms/sample - loss: 0.0047 - accuracy: 0.9999\n",
      "Epoch 3/10\n",
      "5952/7000 [========================>.....] - ETA: 16s - loss: 9.2851e-04 - accuracy: 1.000 - ETA: 16s - loss: 9.6376e-04 - accuracy: 1.000 - ETA: 16s - loss: 0.0015 - accuracy: 1.0000    - ETA: 16s - loss: 0.0012 - accuracy: 1.000 - ETA: 16s - loss: 0.0010 - accuracy: 1.000 - ETA: 16s - loss: 0.0012 - accuracy: 1.000 - ETA: 16s - loss: 0.0011 - accuracy: 1.000 - ETA: 16s - loss: 0.0010 - accuracy: 1.000 - ETA: 16s - loss: 9.5988e-04 - accuracy: 1.000 - ETA: 16s - loss: 0.0010 - accuracy: 1.0000    - ETA: 16s - loss: 9.5090e-04 - accuracy: 1.000 - ETA: 16s - loss: 9.2277e-04 - accuracy: 1.000 - ETA: 16s - loss: 9.0593e-04 - accuracy: 1.000 - ETA: 16s - loss: 0.0011 - accuracy: 1.0000    - ETA: 16s - loss: 0.0010 - accuracy: 1.000 - ETA: 16s - loss: 9.6618e-04 - accuracy: 1.000 - ETA: 15s - loss: 9.2133e-04 - accuracy: 1.000 - ETA: 15s - loss: 8.8455e-04 - accuracy: 1.000 - ETA: 15s - loss: 8.7291e-04 - accuracy: 1.000 - ETA: 15s - loss: 8.5890e-04 - accuracy: 1.000 - ETA: 15s - loss: 8.6664e-04 - accuracy: 1.000 - ETA: 15s - loss: 8.9714e-04 - accuracy: 1.000 - ETA: 15s - loss: 9.2352e-04 - accuracy: 1.000 - ETA: 15s - loss: 9.9691e-04 - accuracy: 1.000 - ETA: 15s - loss: 9.7507e-04 - accuracy: 1.000 - ETA: 15s - loss: 9.8540e-04 - accuracy: 1.000 - ETA: 15s - loss: 9.6206e-04 - accuracy: 1.000 - ETA: 15s - loss: 9.5991e-04 - accuracy: 1.000 - ETA: 14s - loss: 9.4464e-04 - accuracy: 1.000 - ETA: 14s - loss: 9.2679e-04 - accuracy: 1.000 - ETA: 14s - loss: 9.0635e-04 - accuracy: 1.000 - ETA: 14s - loss: 8.9540e-04 - accuracy: 1.000 - ETA: 14s - loss: 8.8751e-04 - accuracy: 1.000 - ETA: 14s - loss: 8.7791e-04 - accuracy: 1.000 - ETA: 14s - loss: 8.7584e-04 - accuracy: 1.000 - ETA: 14s - loss: 8.8324e-04 - accuracy: 1.000 - ETA: 14s - loss: 9.4455e-04 - accuracy: 1.000 - ETA: 14s - loss: 9.3368e-04 - accuracy: 1.000 - ETA: 14s - loss: 9.8488e-04 - accuracy: 1.000 - ETA: 14s - loss: 9.7352e-04 - accuracy: 1.000 - ETA: 14s - loss: 0.0010 - accuracy: 1.0000    - ETA: 13s - loss: 0.0011 - accuracy: 1.000 - ETA: 13s - loss: 0.0010 - accuracy: 1.000 - ETA: 13s - loss: 0.0010 - accuracy: 1.000 - ETA: 13s - loss: 0.0010 - accuracy: 1.000 - ETA: 13s - loss: 0.0011 - accuracy: 1.000 - ETA: 13s - loss: 0.0010 - accuracy: 1.000 - ETA: 13s - loss: 0.0010 - accuracy: 1.000 - ETA: 13s - loss: 0.0010 - accuracy: 1.000 - ETA: 13s - loss: 0.0010 - accuracy: 1.000 - ETA: 13s - loss: 0.0010 - accuracy: 1.000 - ETA: 13s - loss: 0.0010 - accuracy: 1.000 - ETA: 13s - loss: 0.0010 - accuracy: 1.000 - ETA: 12s - loss: 0.0010 - accuracy: 1.000 - ETA: 12s - loss: 9.9074e-04 - accuracy: 1.000 - ETA: 12s - loss: 9.8069e-04 - accuracy: 1.000 - ETA: 12s - loss: 9.8580e-04 - accuracy: 1.000 - ETA: 12s - loss: 9.7158e-04 - accuracy: 1.000 - ETA: 12s - loss: 9.6299e-04 - accuracy: 1.000 - ETA: 12s - loss: 9.6311e-04 - accuracy: 1.000 - ETA: 12s - loss: 9.6049e-04 - accuracy: 1.000 - ETA: 12s - loss: 9.6286e-04 - accuracy: 1.000 - ETA: 12s - loss: 0.0011 - accuracy: 1.0000    - ETA: 12s - loss: 0.0011 - accuracy: 1.000 - ETA: 12s - loss: 0.0011 - accuracy: 1.000 - ETA: 12s - loss: 0.0012 - accuracy: 1.000 - ETA: 12s - loss: 0.0017 - accuracy: 1.000 - ETA: 11s - loss: 0.0018 - accuracy: 1.000 - ETA: 11s - loss: 0.0059 - accuracy: 0.998 - ETA: 11s - loss: 0.0135 - accuracy: 0.996 - ETA: 11s - loss: 0.0146 - accuracy: 0.995 - ETA: 11s - loss: 0.0207 - accuracy: 0.993 - ETA: 11s - loss: 0.0204 - accuracy: 0.993 - ETA: 11s - loss: 0.0302 - accuracy: 0.990 - ETA: 11s - loss: 0.0298 - accuracy: 0.990 - ETA: 11s - loss: 0.0303 - accuracy: 0.990 - ETA: 11s - loss: 0.0354 - accuracy: 0.988 - ETA: 11s - loss: 0.0350 - accuracy: 0.988 - ETA: 11s - loss: 0.0426 - accuracy: 0.985 - ETA: 10s - loss: 0.0424 - accuracy: 0.985 - ETA: 10s - loss: 0.0481 - accuracy: 0.983 - ETA: 10s - loss: 0.0510 - accuracy: 0.981 - ETA: 10s - loss: 0.0506 - accuracy: 0.981 - ETA: 10s - loss: 0.0681 - accuracy: 0.978 - ETA: 10s - loss: 0.0687 - accuracy: 0.977 - ETA: 10s - loss: 0.0680 - accuracy: 0.978 - ETA: 10s - loss: 0.0752 - accuracy: 0.975 - ETA: 10s - loss: 0.0747 - accuracy: 0.975 - ETA: 10s - loss: 0.0739 - accuracy: 0.976 - ETA: 10s - loss: 0.0733 - accuracy: 0.976 - ETA: 10s - loss: 0.0744 - accuracy: 0.975 - ETA: 10s - loss: 0.0758 - accuracy: 0.974 - ETA: 9s - loss: 0.0751 - accuracy: 0.974 - ETA: 9s - loss: 0.0748 - accuracy: 0.97 - ETA: 9s - loss: 0.0790 - accuracy: 0.97 - ETA: 9s - loss: 0.0787 - accuracy: 0.97 - ETA: 9s - loss: 0.0780 - accuracy: 0.97 - ETA: 9s - loss: 0.0774 - accuracy: 0.97 - ETA: 9s - loss: 0.0784 - accuracy: 0.97 - ETA: 9s - loss: 0.0844 - accuracy: 0.96 - ETA: 9s - loss: 0.0839 - accuracy: 0.96 - ETA: 9s - loss: 0.0835 - accuracy: 0.96 - ETA: 9s - loss: 0.0867 - accuracy: 0.96 - ETA: 9s - loss: 0.0921 - accuracy: 0.96 - ETA: 9s - loss: 0.0915 - accuracy: 0.96 - ETA: 8s - loss: 0.0917 - accuracy: 0.96 - ETA: 8s - loss: 0.0974 - accuracy: 0.96 - ETA: 8s - loss: 0.1009 - accuracy: 0.95 - ETA: 8s - loss: 0.1005 - accuracy: 0.95 - ETA: 8s - loss: 0.1001 - accuracy: 0.95 - ETA: 8s - loss: 0.1028 - accuracy: 0.95 - ETA: 8s - loss: 0.1098 - accuracy: 0.95 - ETA: 8s - loss: 0.1092 - accuracy: 0.95 - ETA: 8s - loss: 0.1086 - accuracy: 0.95 - ETA: 8s - loss: 0.1084 - accuracy: 0.95 - ETA: 8s - loss: 0.1131 - accuracy: 0.95 - ETA: 8s - loss: 0.1162 - accuracy: 0.95 - ETA: 8s - loss: 0.1166 - accuracy: 0.95 - ETA: 7s - loss: 0.1160 - accuracy: 0.95 - ETA: 7s - loss: 0.1155 - accuracy: 0.95 - ETA: 7s - loss: 0.1166 - accuracy: 0.95 - ETA: 7s - loss: 0.1187 - accuracy: 0.94 - ETA: 7s - loss: 0.1184 - accuracy: 0.94 - ETA: 7s - loss: 0.1182 - accuracy: 0.95 - ETA: 7s - loss: 0.1178 - accuracy: 0.95 - ETA: 7s - loss: 0.1172 - accuracy: 0.95 - ETA: 7s - loss: 0.1167 - accuracy: 0.95 - ETA: 7s - loss: 0.1160 - accuracy: 0.95 - ETA: 7s - loss: 0.1159 - accuracy: 0.95 - ETA: 7s - loss: 0.1154 - accuracy: 0.95 - ETA: 6s - loss: 0.1153 - accuracy: 0.95 - ETA: 6s - loss: 0.1147 - accuracy: 0.95 - ETA: 6s - loss: 0.1139 - accuracy: 0.95 - ETA: 6s - loss: 0.1132 - accuracy: 0.95 - ETA: 6s - loss: 0.1127 - accuracy: 0.95 - ETA: 6s - loss: 0.1125 - accuracy: 0.95 - ETA: 6s - loss: 0.1118 - accuracy: 0.95 - ETA: 6s - loss: 0.1112 - accuracy: 0.95 - ETA: 6s - loss: 0.1108 - accuracy: 0.95 - ETA: 6s - loss: 0.1101 - accuracy: 0.95 - ETA: 6s - loss: 0.1093 - accuracy: 0.95 - ETA: 6s - loss: 0.1086 - accuracy: 0.95 - ETA: 6s - loss: 0.1080 - accuracy: 0.95 - ETA: 5s - loss: 0.1074 - accuracy: 0.95 - ETA: 5s - loss: 0.1068 - accuracy: 0.95 - ETA: 5s - loss: 0.1065 - accuracy: 0.95 - ETA: 5s - loss: 0.1058 - accuracy: 0.95 - ETA: 5s - loss: 0.1052 - accuracy: 0.95 - ETA: 5s - loss: 0.1045 - accuracy: 0.95 - ETA: 5s - loss: 0.1038 - accuracy: 0.95 - ETA: 5s - loss: 0.1032 - accuracy: 0.95 - ETA: 5s - loss: 0.1026 - accuracy: 0.95 - ETA: 5s - loss: 0.1021 - accuracy: 0.95 - ETA: 5s - loss: 0.1015 - accuracy: 0.95 - ETA: 5s - loss: 0.1009 - accuracy: 0.95 - ETA: 4s - loss: 0.1003 - accuracy: 0.95 - ETA: 4s - loss: 0.0997 - accuracy: 0.95 - ETA: 4s - loss: 0.0991 - accuracy: 0.95 - ETA: 4s - loss: 0.0985 - accuracy: 0.96 - ETA: 4s - loss: 0.0979 - accuracy: 0.96 - ETA: 4s - loss: 0.0974 - accuracy: 0.96 - ETA: 4s - loss: 0.0968 - accuracy: 0.96 - ETA: 4s - loss: 0.0962 - accuracy: 0.96 - ETA: 4s - loss: 0.0957 - accuracy: 0.96 - ETA: 4s - loss: 0.0951 - accuracy: 0.96 - ETA: 4s - loss: 0.0945 - accuracy: 0.96 - ETA: 4s - loss: 0.0940 - accuracy: 0.96 - ETA: 4s - loss: 0.0934 - accuracy: 0.96 - ETA: 3s - loss: 0.0929 - accuracy: 0.96 - ETA: 3s - loss: 0.0924 - accuracy: 0.96 - ETA: 3s - loss: 0.0919 - accuracy: 0.96 - ETA: 3s - loss: 0.0914 - accuracy: 0.96 - ETA: 3s - loss: 0.0909 - accuracy: 0.96 - ETA: 3s - loss: 0.0904 - accuracy: 0.96 - ETA: 3s - loss: 0.0899 - accuracy: 0.96 - ETA: 3s - loss: 0.0894 - accuracy: 0.96 - ETA: 3s - loss: 0.0889 - accuracy: 0.96 - ETA: 3s - loss: 0.0884 - accuracy: 0.96 - ETA: 3s - loss: 0.0879 - accuracy: 0.96 - ETA: 3s - loss: 0.0875 - accuracy: 0.96 - ETA: 3s - loss: 0.0870 - accuracy: 0.96 - ETA: 2s - loss: 0.0865 - accuracy: 0.96 - ETA: 2s - loss: 0.0861 - accuracy: 0.96 - ETA: 2s - loss: 0.0856 - accuracy: 0.96 - ETA: 2s - loss: 0.0852 - accuracy: 0.96 - ETA: 2s - loss: 0.0847 - accuracy: 0.96597000/7000 [==============================] - ETA: 2s - loss: 0.0843 - accuracy: 0.96 - ETA: 2s - loss: 0.0839 - accuracy: 0.96 - ETA: 2s - loss: 0.0834 - accuracy: 0.96 - ETA: 2s - loss: 0.0830 - accuracy: 0.96 - ETA: 2s - loss: 0.0826 - accuracy: 0.96 - ETA: 2s - loss: 0.0822 - accuracy: 0.96 - ETA: 2s - loss: 0.0818 - accuracy: 0.96 - ETA: 1s - loss: 0.0814 - accuracy: 0.96 - ETA: 1s - loss: 0.0810 - accuracy: 0.96 - ETA: 1s - loss: 0.0805 - accuracy: 0.96 - ETA: 1s - loss: 0.0801 - accuracy: 0.96 - ETA: 1s - loss: 0.0797 - accuracy: 0.96 - ETA: 1s - loss: 0.0794 - accuracy: 0.96 - ETA: 1s - loss: 0.0790 - accuracy: 0.96 - ETA: 1s - loss: 0.0786 - accuracy: 0.96 - ETA: 1s - loss: 0.0782 - accuracy: 0.96 - ETA: 1s - loss: 0.0778 - accuracy: 0.96 - ETA: 1s - loss: 0.0775 - accuracy: 0.96 - ETA: 1s - loss: 0.0771 - accuracy: 0.96 - ETA: 1s - loss: 0.0767 - accuracy: 0.96 - ETA: 0s - loss: 0.0765 - accuracy: 0.96 - ETA: 0s - loss: 0.0761 - accuracy: 0.96 - ETA: 0s - loss: 0.0758 - accuracy: 0.96 - ETA: 0s - loss: 0.0754 - accuracy: 0.96 - ETA: 0s - loss: 0.0751 - accuracy: 0.96 - ETA: 0s - loss: 0.0747 - accuracy: 0.97 - ETA: 0s - loss: 0.0744 - accuracy: 0.97 - ETA: 0s - loss: 0.0741 - accuracy: 0.97 - ETA: 0s - loss: 0.0737 - accuracy: 0.97 - ETA: 0s - loss: 0.0734 - accuracy: 0.97 - ETA: 0s - loss: 0.0731 - accuracy: 0.97 - ETA: 0s - loss: 0.0728 - accuracy: 0.97 - 17s 2ms/sample - loss: 0.0726 - accuracy: 0.9710\n",
      "Epoch 4/10\n"
     ]
    },
    {
     "name": "stdout",
     "output_type": "stream",
     "text": [
      "6080/7000 [=========================>....] - ETA: 15s - loss: 0.0025 - accuracy: 1.000 - ETA: 15s - loss: 0.0026 - accuracy: 1.000 - ETA: 15s - loss: 0.0019 - accuracy: 1.000 - ETA: 16s - loss: 0.0016 - accuracy: 1.000 - ETA: 16s - loss: 0.0016 - accuracy: 1.000 - ETA: 16s - loss: 0.0016 - accuracy: 1.000 - ETA: 15s - loss: 0.0015 - accuracy: 1.000 - ETA: 15s - loss: 0.0014 - accuracy: 1.000 - ETA: 15s - loss: 0.0017 - accuracy: 1.000 - ETA: 15s - loss: 0.0018 - accuracy: 1.000 - ETA: 15s - loss: 0.0024 - accuracy: 1.000 - ETA: 15s - loss: 0.0022 - accuracy: 1.000 - ETA: 15s - loss: 0.0023 - accuracy: 1.000 - ETA: 15s - loss: 0.0025 - accuracy: 1.000 - ETA: 15s - loss: 0.0025 - accuracy: 1.000 - ETA: 15s - loss: 0.0039 - accuracy: 1.000 - ETA: 15s - loss: 0.0038 - accuracy: 1.000 - ETA: 14s - loss: 0.0041 - accuracy: 1.000 - ETA: 14s - loss: 0.0045 - accuracy: 1.000 - ETA: 14s - loss: 0.0045 - accuracy: 1.000 - ETA: 14s - loss: 0.0043 - accuracy: 1.000 - ETA: 14s - loss: 0.0042 - accuracy: 1.000 - ETA: 14s - loss: 0.0040 - accuracy: 1.000 - ETA: 14s - loss: 0.0039 - accuracy: 1.000 - ETA: 14s - loss: 0.0038 - accuracy: 1.000 - ETA: 14s - loss: 0.0037 - accuracy: 1.000 - ETA: 14s - loss: 0.0037 - accuracy: 1.000 - ETA: 14s - loss: 0.0037 - accuracy: 1.000 - ETA: 14s - loss: 0.0036 - accuracy: 1.000 - ETA: 14s - loss: 0.0035 - accuracy: 1.000 - ETA: 14s - loss: 0.0036 - accuracy: 1.000 - ETA: 14s - loss: 0.0035 - accuracy: 1.000 - ETA: 13s - loss: 0.0034 - accuracy: 1.000 - ETA: 13s - loss: 0.0033 - accuracy: 1.000 - ETA: 13s - loss: 0.0033 - accuracy: 1.000 - ETA: 13s - loss: 0.0032 - accuracy: 1.000 - ETA: 13s - loss: 0.0031 - accuracy: 1.000 - ETA: 13s - loss: 0.0031 - accuracy: 1.000 - ETA: 13s - loss: 0.0030 - accuracy: 1.000 - ETA: 13s - loss: 0.0030 - accuracy: 1.000 - ETA: 13s - loss: 0.0030 - accuracy: 1.000 - ETA: 13s - loss: 0.0033 - accuracy: 1.000 - ETA: 13s - loss: 0.0032 - accuracy: 1.000 - ETA: 13s - loss: 0.0032 - accuracy: 1.000 - ETA: 13s - loss: 0.0032 - accuracy: 1.000 - ETA: 12s - loss: 0.0032 - accuracy: 1.000 - ETA: 12s - loss: 0.0032 - accuracy: 1.000 - ETA: 12s - loss: 0.0031 - accuracy: 1.000 - ETA: 12s - loss: 0.0032 - accuracy: 1.000 - ETA: 12s - loss: 0.0033 - accuracy: 1.000 - ETA: 12s - loss: 0.0033 - accuracy: 1.000 - ETA: 12s - loss: 0.0032 - accuracy: 1.000 - ETA: 12s - loss: 0.0032 - accuracy: 1.000 - ETA: 12s - loss: 0.0031 - accuracy: 1.000 - ETA: 12s - loss: 0.0031 - accuracy: 1.000 - ETA: 12s - loss: 0.0031 - accuracy: 1.000 - ETA: 12s - loss: 0.0030 - accuracy: 1.000 - ETA: 12s - loss: 0.0030 - accuracy: 1.000 - ETA: 12s - loss: 0.0029 - accuracy: 1.000 - ETA: 11s - loss: 0.0029 - accuracy: 1.000 - ETA: 11s - loss: 0.0029 - accuracy: 1.000 - ETA: 11s - loss: 0.0029 - accuracy: 1.000 - ETA: 11s - loss: 0.0029 - accuracy: 1.000 - ETA: 11s - loss: 0.0029 - accuracy: 1.000 - ETA: 11s - loss: 0.0029 - accuracy: 1.000 - ETA: 11s - loss: 0.0028 - accuracy: 1.000 - ETA: 11s - loss: 0.0028 - accuracy: 1.000 - ETA: 11s - loss: 0.0028 - accuracy: 1.000 - ETA: 11s - loss: 0.0027 - accuracy: 1.000 - ETA: 11s - loss: 0.0027 - accuracy: 1.000 - ETA: 11s - loss: 0.0027 - accuracy: 1.000 - ETA: 11s - loss: 0.0026 - accuracy: 1.000 - ETA: 10s - loss: 0.0026 - accuracy: 1.000 - ETA: 10s - loss: 0.0026 - accuracy: 1.000 - ETA: 10s - loss: 0.0026 - accuracy: 1.000 - ETA: 10s - loss: 0.0026 - accuracy: 1.000 - ETA: 10s - loss: 0.0025 - accuracy: 1.000 - ETA: 10s - loss: 0.0025 - accuracy: 1.000 - ETA: 10s - loss: 0.0025 - accuracy: 1.000 - ETA: 10s - loss: 0.0025 - accuracy: 1.000 - ETA: 10s - loss: 0.0024 - accuracy: 1.000 - ETA: 10s - loss: 0.0024 - accuracy: 1.000 - ETA: 10s - loss: 0.0024 - accuracy: 1.000 - ETA: 10s - loss: 0.0024 - accuracy: 1.000 - ETA: 10s - loss: 0.0024 - accuracy: 1.000 - ETA: 10s - loss: 0.0024 - accuracy: 1.000 - ETA: 9s - loss: 0.0025 - accuracy: 1.000 - ETA: 9s - loss: 0.0025 - accuracy: 1.00 - ETA: 9s - loss: 0.0025 - accuracy: 1.00 - ETA: 9s - loss: 0.0025 - accuracy: 1.00 - ETA: 9s - loss: 0.0024 - accuracy: 1.00 - ETA: 9s - loss: 0.0024 - accuracy: 1.00 - ETA: 9s - loss: 0.0024 - accuracy: 1.00 - ETA: 9s - loss: 0.0025 - accuracy: 1.00 - ETA: 9s - loss: 0.0028 - accuracy: 1.00 - ETA: 9s - loss: 0.0028 - accuracy: 1.00 - ETA: 9s - loss: 0.0028 - accuracy: 1.00 - ETA: 9s - loss: 0.0027 - accuracy: 1.00 - ETA: 9s - loss: 0.0027 - accuracy: 1.00 - ETA: 8s - loss: 0.0027 - accuracy: 1.00 - ETA: 8s - loss: 0.0027 - accuracy: 1.00 - ETA: 8s - loss: 0.0028 - accuracy: 1.00 - ETA: 8s - loss: 0.0028 - accuracy: 1.00 - ETA: 8s - loss: 0.0028 - accuracy: 1.00 - ETA: 8s - loss: 0.0028 - accuracy: 1.00 - ETA: 8s - loss: 0.0029 - accuracy: 1.00 - ETA: 8s - loss: 0.0029 - accuracy: 1.00 - ETA: 8s - loss: 0.0028 - accuracy: 1.00 - ETA: 8s - loss: 0.0028 - accuracy: 1.00 - ETA: 8s - loss: 0.0028 - accuracy: 1.00 - ETA: 8s - loss: 0.0028 - accuracy: 1.00 - ETA: 8s - loss: 0.0028 - accuracy: 1.00 - ETA: 7s - loss: 0.0027 - accuracy: 1.00 - ETA: 7s - loss: 0.0027 - accuracy: 1.00 - ETA: 7s - loss: 0.0028 - accuracy: 1.00 - ETA: 7s - loss: 0.0028 - accuracy: 1.00 - ETA: 7s - loss: 0.0028 - accuracy: 1.00 - ETA: 7s - loss: 0.0028 - accuracy: 1.00 - ETA: 7s - loss: 0.0027 - accuracy: 1.00 - ETA: 7s - loss: 0.0027 - accuracy: 1.00 - ETA: 7s - loss: 0.0027 - accuracy: 1.00 - ETA: 7s - loss: 0.0027 - accuracy: 1.00 - ETA: 7s - loss: 0.0027 - accuracy: 1.00 - ETA: 7s - loss: 0.0027 - accuracy: 1.00 - ETA: 7s - loss: 0.0027 - accuracy: 1.00 - ETA: 6s - loss: 0.0027 - accuracy: 1.00 - ETA: 6s - loss: 0.0027 - accuracy: 1.00 - ETA: 6s - loss: 0.0027 - accuracy: 1.00 - ETA: 6s - loss: 0.0027 - accuracy: 1.00 - ETA: 6s - loss: 0.0027 - accuracy: 1.00 - ETA: 6s - loss: 0.0027 - accuracy: 1.00 - ETA: 6s - loss: 0.0027 - accuracy: 1.00 - ETA: 6s - loss: 0.0027 - accuracy: 1.00 - ETA: 6s - loss: 0.0026 - accuracy: 1.00 - ETA: 6s - loss: 0.0026 - accuracy: 1.00 - ETA: 6s - loss: 0.0026 - accuracy: 1.00 - ETA: 6s - loss: 0.0026 - accuracy: 1.00 - ETA: 6s - loss: 0.0026 - accuracy: 1.00 - ETA: 6s - loss: 0.0026 - accuracy: 1.00 - ETA: 5s - loss: 0.0026 - accuracy: 1.00 - ETA: 5s - loss: 0.0026 - accuracy: 1.00 - ETA: 5s - loss: 0.0026 - accuracy: 1.00 - ETA: 5s - loss: 0.0026 - accuracy: 1.00 - ETA: 5s - loss: 0.0025 - accuracy: 1.00 - ETA: 5s - loss: 0.0025 - accuracy: 1.00 - ETA: 5s - loss: 0.0025 - accuracy: 1.00 - ETA: 5s - loss: 0.0025 - accuracy: 1.00 - ETA: 5s - loss: 0.0025 - accuracy: 1.00 - ETA: 5s - loss: 0.0025 - accuracy: 1.00 - ETA: 5s - loss: 0.0025 - accuracy: 1.00 - ETA: 5s - loss: 0.0024 - accuracy: 1.00 - ETA: 5s - loss: 0.0024 - accuracy: 1.00 - ETA: 4s - loss: 0.0024 - accuracy: 1.00 - ETA: 4s - loss: 0.0024 - accuracy: 1.00 - ETA: 4s - loss: 0.0024 - accuracy: 1.00 - ETA: 4s - loss: 0.0024 - accuracy: 1.00 - ETA: 4s - loss: 0.0024 - accuracy: 1.00 - ETA: 4s - loss: 0.0023 - accuracy: 1.00 - ETA: 4s - loss: 0.0023 - accuracy: 1.00 - ETA: 4s - loss: 0.0023 - accuracy: 1.00 - ETA: 4s - loss: 0.0023 - accuracy: 1.00 - ETA: 4s - loss: 0.0023 - accuracy: 1.00 - ETA: 4s - loss: 0.0023 - accuracy: 1.00 - ETA: 4s - loss: 0.0023 - accuracy: 1.00 - ETA: 4s - loss: 0.0023 - accuracy: 1.00 - ETA: 3s - loss: 0.0023 - accuracy: 1.00 - ETA: 3s - loss: 0.0023 - accuracy: 1.00 - ETA: 3s - loss: 0.0022 - accuracy: 1.00 - ETA: 3s - loss: 0.0022 - accuracy: 1.00 - ETA: 3s - loss: 0.0022 - accuracy: 1.00 - ETA: 3s - loss: 0.0022 - accuracy: 1.00 - ETA: 3s - loss: 0.0022 - accuracy: 1.00 - ETA: 3s - loss: 0.0022 - accuracy: 1.00 - ETA: 3s - loss: 0.0022 - accuracy: 1.00 - ETA: 3s - loss: 0.0022 - accuracy: 1.00 - ETA: 3s - loss: 0.0022 - accuracy: 1.00 - ETA: 3s - loss: 0.0022 - accuracy: 1.00 - ETA: 3s - loss: 0.0021 - accuracy: 1.00 - ETA: 3s - loss: 0.0022 - accuracy: 1.00 - ETA: 2s - loss: 0.0022 - accuracy: 1.00 - ETA: 2s - loss: 0.0021 - accuracy: 1.00 - ETA: 2s - loss: 0.0021 - accuracy: 1.00 - ETA: 2s - loss: 0.0022 - accuracy: 1.00 - ETA: 2s - loss: 0.0022 - accuracy: 1.00 - ETA: 2s - loss: 0.0021 - accuracy: 1.00 - ETA: 2s - loss: 0.0021 - accuracy: 1.00 - ETA: 2s - loss: 0.0021 - accuracy: 1.00 - ETA: 2s - loss: 0.0021 - accuracy: 1.00 - ETA: 2s - loss: 0.0021 - accuracy: 1.00 - ETA: 2s - loss: 0.0021 - accuracy: 1.0000"
     ]
    },
    {
     "name": "stdout",
     "output_type": "stream",
     "text": [
      "7000/7000 [==============================] - ETA: 2s - loss: 0.0021 - accuracy: 1.00 - ETA: 2s - loss: 0.0021 - accuracy: 1.00 - ETA: 1s - loss: 0.0021 - accuracy: 1.00 - ETA: 1s - loss: 0.0021 - accuracy: 1.00 - ETA: 1s - loss: 0.0021 - accuracy: 1.00 - ETA: 1s - loss: 0.0021 - accuracy: 1.00 - ETA: 1s - loss: 0.0021 - accuracy: 1.00 - ETA: 1s - loss: 0.0020 - accuracy: 1.00 - ETA: 1s - loss: 0.0020 - accuracy: 1.00 - ETA: 1s - loss: 0.0020 - accuracy: 1.00 - ETA: 1s - loss: 0.0020 - accuracy: 1.00 - ETA: 1s - loss: 0.0020 - accuracy: 1.00 - ETA: 1s - loss: 0.0020 - accuracy: 1.00 - ETA: 1s - loss: 0.0020 - accuracy: 1.00 - ETA: 1s - loss: 0.0020 - accuracy: 1.00 - ETA: 0s - loss: 0.0020 - accuracy: 1.00 - ETA: 0s - loss: 0.0020 - accuracy: 1.00 - ETA: 0s - loss: 0.0020 - accuracy: 1.00 - ETA: 0s - loss: 0.0020 - accuracy: 1.00 - ETA: 0s - loss: 0.0020 - accuracy: 1.00 - ETA: 0s - loss: 0.0020 - accuracy: 1.00 - ETA: 0s - loss: 0.0020 - accuracy: 1.00 - ETA: 0s - loss: 0.0020 - accuracy: 1.00 - ETA: 0s - loss: 0.0020 - accuracy: 1.00 - ETA: 0s - loss: 0.0019 - accuracy: 1.00 - ETA: 0s - loss: 0.0019 - accuracy: 1.00 - ETA: 0s - loss: 0.0019 - accuracy: 1.00 - ETA: 0s - loss: 0.0019 - accuracy: 1.00 - 17s 2ms/sample - loss: 0.0019 - accuracy: 1.0000\n",
      "Epoch 5/10\n",
      "5952/7000 [========================>.....] - ETA: 14s - loss: 0.0024 - accuracy: 1.000 - ETA: 15s - loss: 0.0019 - accuracy: 1.000 - ETA: 15s - loss: 0.0016 - accuracy: 1.000 - ETA: 15s - loss: 0.0015 - accuracy: 1.000 - ETA: 15s - loss: 0.0013 - accuracy: 1.000 - ETA: 15s - loss: 0.0011 - accuracy: 1.000 - ETA: 15s - loss: 0.0010 - accuracy: 1.000 - ETA: 15s - loss: 9.2693e-04 - accuracy: 1.000 - ETA: 15s - loss: 8.5596e-04 - accuracy: 1.000 - ETA: 15s - loss: 8.9639e-04 - accuracy: 1.000 - ETA: 15s - loss: 8.4701e-04 - accuracy: 1.000 - ETA: 15s - loss: 8.0022e-04 - accuracy: 1.000 - ETA: 15s - loss: 7.5410e-04 - accuracy: 1.000 - ETA: 15s - loss: 7.1159e-04 - accuracy: 1.000 - ETA: 15s - loss: 7.1881e-04 - accuracy: 1.000 - ETA: 15s - loss: 7.1486e-04 - accuracy: 1.000 - ETA: 15s - loss: 6.9828e-04 - accuracy: 1.000 - ETA: 15s - loss: 7.4912e-04 - accuracy: 1.000 - ETA: 15s - loss: 7.1653e-04 - accuracy: 1.000 - ETA: 14s - loss: 7.0288e-04 - accuracy: 1.000 - ETA: 14s - loss: 6.7861e-04 - accuracy: 1.000 - ETA: 14s - loss: 6.6266e-04 - accuracy: 1.000 - ETA: 14s - loss: 6.5124e-04 - accuracy: 1.000 - ETA: 14s - loss: 6.7528e-04 - accuracy: 1.000 - ETA: 14s - loss: 6.5905e-04 - accuracy: 1.000 - ETA: 14s - loss: 6.4262e-04 - accuracy: 1.000 - ETA: 14s - loss: 6.2462e-04 - accuracy: 1.000 - ETA: 14s - loss: 6.2616e-04 - accuracy: 1.000 - ETA: 14s - loss: 6.1551e-04 - accuracy: 1.000 - ETA: 14s - loss: 7.1028e-04 - accuracy: 1.000 - ETA: 14s - loss: 6.9115e-04 - accuracy: 1.000 - ETA: 14s - loss: 6.7674e-04 - accuracy: 1.000 - ETA: 14s - loss: 6.7083e-04 - accuracy: 1.000 - ETA: 14s - loss: 6.7000e-04 - accuracy: 1.000 - ETA: 14s - loss: 6.6500e-04 - accuracy: 1.000 - ETA: 14s - loss: 6.5733e-04 - accuracy: 1.000 - ETA: 14s - loss: 6.4341e-04 - accuracy: 1.000 - ETA: 14s - loss: 6.3243e-04 - accuracy: 1.000 - ETA: 14s - loss: 8.2357e-04 - accuracy: 1.000 - ETA: 14s - loss: 8.6867e-04 - accuracy: 1.000 - ETA: 14s - loss: 8.5152e-04 - accuracy: 1.000 - ETA: 14s - loss: 8.7100e-04 - accuracy: 1.000 - ETA: 14s - loss: 8.5678e-04 - accuracy: 1.000 - ETA: 14s - loss: 0.0013 - accuracy: 1.0000    - ETA: 14s - loss: 0.0013 - accuracy: 1.000 - ETA: 14s - loss: 0.0013 - accuracy: 1.000 - ETA: 14s - loss: 0.0012 - accuracy: 1.000 - ETA: 14s - loss: 0.0012 - accuracy: 1.000 - ETA: 14s - loss: 0.0012 - accuracy: 1.000 - ETA: 14s - loss: 0.0016 - accuracy: 1.000 - ETA: 14s - loss: 0.0016 - accuracy: 1.000 - ETA: 14s - loss: 0.0016 - accuracy: 1.000 - ETA: 14s - loss: 0.0015 - accuracy: 1.000 - ETA: 13s - loss: 0.0015 - accuracy: 1.000 - ETA: 13s - loss: 0.0015 - accuracy: 1.000 - ETA: 13s - loss: 0.0017 - accuracy: 1.000 - ETA: 13s - loss: 0.0017 - accuracy: 1.000 - ETA: 13s - loss: 0.0017 - accuracy: 1.000 - ETA: 13s - loss: 0.0017 - accuracy: 1.000 - ETA: 13s - loss: 0.0017 - accuracy: 1.000 - ETA: 13s - loss: 0.0017 - accuracy: 1.000 - ETA: 13s - loss: 0.0016 - accuracy: 1.000 - ETA: 13s - loss: 0.0016 - accuracy: 1.000 - ETA: 13s - loss: 0.0016 - accuracy: 1.000 - ETA: 13s - loss: 0.0016 - accuracy: 1.000 - ETA: 13s - loss: 0.0016 - accuracy: 1.000 - ETA: 12s - loss: 0.0015 - accuracy: 1.000 - ETA: 12s - loss: 0.0015 - accuracy: 1.000 - ETA: 12s - loss: 0.0016 - accuracy: 1.000 - ETA: 12s - loss: 0.0016 - accuracy: 1.000 - ETA: 12s - loss: 0.0016 - accuracy: 1.000 - ETA: 12s - loss: 0.0016 - accuracy: 1.000 - ETA: 12s - loss: 0.0016 - accuracy: 1.000 - ETA: 12s - loss: 0.0016 - accuracy: 1.000 - ETA: 12s - loss: 0.0016 - accuracy: 1.000 - ETA: 12s - loss: 0.0016 - accuracy: 1.000 - ETA: 11s - loss: 0.0016 - accuracy: 1.000 - ETA: 11s - loss: 0.0015 - accuracy: 1.000 - ETA: 11s - loss: 0.0015 - accuracy: 1.000 - ETA: 11s - loss: 0.0015 - accuracy: 1.000 - ETA: 11s - loss: 0.0015 - accuracy: 1.000 - ETA: 11s - loss: 0.0015 - accuracy: 1.000 - ETA: 11s - loss: 0.0015 - accuracy: 1.000 - ETA: 11s - loss: 0.0015 - accuracy: 1.000 - ETA: 11s - loss: 0.0015 - accuracy: 1.000 - ETA: 11s - loss: 0.0015 - accuracy: 1.000 - ETA: 11s - loss: 0.0015 - accuracy: 1.000 - ETA: 11s - loss: 0.0014 - accuracy: 1.000 - ETA: 10s - loss: 0.0014 - accuracy: 1.000 - ETA: 10s - loss: 0.0014 - accuracy: 1.000 - ETA: 10s - loss: 0.0014 - accuracy: 1.000 - ETA: 10s - loss: 0.0014 - accuracy: 1.000 - ETA: 10s - loss: 0.0014 - accuracy: 1.000 - ETA: 10s - loss: 0.0014 - accuracy: 1.000 - ETA: 10s - loss: 0.0014 - accuracy: 1.000 - ETA: 10s - loss: 0.0013 - accuracy: 1.000 - ETA: 10s - loss: 0.0014 - accuracy: 1.000 - ETA: 10s - loss: 0.0013 - accuracy: 1.000 - ETA: 10s - loss: 0.0013 - accuracy: 1.000 - ETA: 10s - loss: 0.0013 - accuracy: 1.000 - ETA: 9s - loss: 0.0013 - accuracy: 1.000 - ETA: 9s - loss: 0.0013 - accuracy: 1.00 - ETA: 9s - loss: 0.0013 - accuracy: 1.00 - ETA: 9s - loss: 0.0013 - accuracy: 1.00 - ETA: 9s - loss: 0.0013 - accuracy: 1.00 - ETA: 9s - loss: 0.0013 - accuracy: 1.00 - ETA: 9s - loss: 0.0013 - accuracy: 1.00 - ETA: 9s - loss: 0.0013 - accuracy: 1.00 - ETA: 9s - loss: 0.0013 - accuracy: 1.00 - ETA: 9s - loss: 0.0013 - accuracy: 1.00 - ETA: 9s - loss: 0.0013 - accuracy: 1.00 - ETA: 9s - loss: 0.0013 - accuracy: 1.00 - ETA: 8s - loss: 0.0013 - accuracy: 1.00 - ETA: 8s - loss: 0.0013 - accuracy: 1.00 - ETA: 8s - loss: 0.0013 - accuracy: 1.00 - ETA: 8s - loss: 0.0012 - accuracy: 1.00 - ETA: 8s - loss: 0.0013 - accuracy: 1.00 - ETA: 8s - loss: 0.0012 - accuracy: 1.00 - ETA: 8s - loss: 0.0012 - accuracy: 1.00 - ETA: 8s - loss: 0.0012 - accuracy: 1.00 - ETA: 8s - loss: 0.0012 - accuracy: 1.00 - ETA: 8s - loss: 0.0012 - accuracy: 1.00 - ETA: 8s - loss: 0.0012 - accuracy: 1.00 - ETA: 7s - loss: 0.0012 - accuracy: 1.00 - ETA: 7s - loss: 0.0012 - accuracy: 1.00 - ETA: 7s - loss: 0.0012 - accuracy: 1.00 - ETA: 7s - loss: 0.0012 - accuracy: 1.00 - ETA: 7s - loss: 0.0012 - accuracy: 1.00 - ETA: 7s - loss: 0.0012 - accuracy: 1.00 - ETA: 7s - loss: 0.0012 - accuracy: 1.00 - ETA: 7s - loss: 0.0012 - accuracy: 1.00 - ETA: 7s - loss: 0.0012 - accuracy: 1.00 - ETA: 7s - loss: 0.0012 - accuracy: 1.00 - ETA: 7s - loss: 0.0012 - accuracy: 1.00 - ETA: 7s - loss: 0.0012 - accuracy: 1.00 - ETA: 6s - loss: 0.0012 - accuracy: 1.00 - ETA: 6s - loss: 0.0012 - accuracy: 1.00 - ETA: 6s - loss: 0.0012 - accuracy: 1.00 - ETA: 6s - loss: 0.0012 - accuracy: 1.00 - ETA: 6s - loss: 0.0012 - accuracy: 1.00 - ETA: 6s - loss: 0.0012 - accuracy: 1.00 - ETA: 6s - loss: 0.0012 - accuracy: 1.00 - ETA: 6s - loss: 0.0012 - accuracy: 1.00 - ETA: 6s - loss: 0.0012 - accuracy: 1.00 - ETA: 6s - loss: 0.0012 - accuracy: 1.00 - ETA: 6s - loss: 0.0012 - accuracy: 1.00 - ETA: 6s - loss: 0.0012 - accuracy: 1.00 - ETA: 5s - loss: 0.0012 - accuracy: 1.00 - ETA: 5s - loss: 0.0012 - accuracy: 1.00 - ETA: 5s - loss: 0.0012 - accuracy: 1.00 - ETA: 5s - loss: 0.0012 - accuracy: 1.00 - ETA: 5s - loss: 0.0012 - accuracy: 1.00 - ETA: 5s - loss: 0.0012 - accuracy: 1.00 - ETA: 5s - loss: 0.0012 - accuracy: 1.00 - ETA: 5s - loss: 0.0011 - accuracy: 1.00 - ETA: 5s - loss: 0.0011 - accuracy: 1.00 - ETA: 5s - loss: 0.0011 - accuracy: 1.00 - ETA: 5s - loss: 0.0011 - accuracy: 1.00 - ETA: 5s - loss: 0.0011 - accuracy: 1.00 - ETA: 4s - loss: 0.0011 - accuracy: 1.00 - ETA: 4s - loss: 0.0011 - accuracy: 1.00 - ETA: 4s - loss: 0.0011 - accuracy: 1.00 - ETA: 4s - loss: 0.0011 - accuracy: 1.00 - ETA: 4s - loss: 0.0011 - accuracy: 1.00 - ETA: 4s - loss: 0.0011 - accuracy: 1.00 - ETA: 4s - loss: 0.0011 - accuracy: 1.00 - ETA: 4s - loss: 0.0011 - accuracy: 1.00 - ETA: 4s - loss: 0.0011 - accuracy: 1.00 - ETA: 4s - loss: 0.0011 - accuracy: 1.00 - ETA: 4s - loss: 0.0011 - accuracy: 1.00 - ETA: 4s - loss: 0.0011 - accuracy: 1.00 - ETA: 3s - loss: 0.0011 - accuracy: 1.00 - ETA: 3s - loss: 0.0011 - accuracy: 1.00 - ETA: 3s - loss: 0.0011 - accuracy: 1.00 - ETA: 3s - loss: 0.0011 - accuracy: 1.00 - ETA: 3s - loss: 0.0011 - accuracy: 1.00 - ETA: 3s - loss: 0.0011 - accuracy: 1.00 - ETA: 3s - loss: 0.0011 - accuracy: 1.00 - ETA: 3s - loss: 0.0011 - accuracy: 1.00 - ETA: 3s - loss: 0.0011 - accuracy: 1.00 - ETA: 3s - loss: 0.0011 - accuracy: 1.00 - ETA: 3s - loss: 0.0011 - accuracy: 1.00 - ETA: 3s - loss: 0.0011 - accuracy: 1.00 - ETA: 2s - loss: 0.0011 - accuracy: 1.00 - ETA: 2s - loss: 0.0011 - accuracy: 1.00 - ETA: 2s - loss: 0.0011 - accuracy: 1.00007000/7000 [==============================] - ETA: 2s - loss: 0.0011 - accuracy: 1.00 - ETA: 2s - loss: 0.0010 - accuracy: 1.00 - ETA: 2s - loss: 0.0010 - accuracy: 1.00 - ETA: 2s - loss: 0.0010 - accuracy: 1.00 - ETA: 2s - loss: 0.0010 - accuracy: 1.00 - ETA: 2s - loss: 0.0010 - accuracy: 1.00 - ETA: 2s - loss: 0.0010 - accuracy: 1.00 - ETA: 2s - loss: 0.0010 - accuracy: 1.00 - ETA: 1s - loss: 0.0010 - accuracy: 1.00 - ETA: 1s - loss: 0.0010 - accuracy: 1.00 - ETA: 1s - loss: 0.0010 - accuracy: 1.00 - ETA: 1s - loss: 0.0010 - accuracy: 1.00 - ETA: 1s - loss: 0.0010 - accuracy: 1.00 - ETA: 1s - loss: 0.0010 - accuracy: 1.00 - ETA: 1s - loss: 9.9980e-04 - accuracy: 1.00 - ETA: 1s - loss: 9.9544e-04 - accuracy: 1.00 - ETA: 1s - loss: 0.0011 - accuracy: 1.0000   - ETA: 1s - loss: 0.0011 - accuracy: 1.00 - ETA: 1s - loss: 0.0011 - accuracy: 1.00 - ETA: 1s - loss: 0.0011 - accuracy: 1.00 - ETA: 0s - loss: 0.0011 - accuracy: 1.00 - ETA: 0s - loss: 0.0011 - accuracy: 1.00 - ETA: 0s - loss: 0.0012 - accuracy: 1.00 - ETA: 0s - loss: 0.0012 - accuracy: 1.00 - ETA: 0s - loss: 0.0012 - accuracy: 1.00 - ETA: 0s - loss: 0.0012 - accuracy: 1.00 - ETA: 0s - loss: 0.0012 - accuracy: 1.00 - ETA: 0s - loss: 0.0012 - accuracy: 1.00 - ETA: 0s - loss: 0.0012 - accuracy: 1.00 - ETA: 0s - loss: 0.0012 - accuracy: 1.00 - ETA: 0s - loss: 0.0012 - accuracy: 1.00 - ETA: 0s - loss: 0.0013 - accuracy: 1.00 - 18s 3ms/sample - loss: 0.0013 - accuracy: 1.0000\n",
      "Epoch 6/10\n"
     ]
    },
    {
     "name": "stdout",
     "output_type": "stream",
     "text": [
      "6080/7000 [=========================>....] - ETA: 14s - loss: 0.0763 - accuracy: 0.968 - ETA: 14s - loss: 0.0387 - accuracy: 0.984 - ETA: 15s - loss: 0.0299 - accuracy: 0.989 - ETA: 15s - loss: 0.0227 - accuracy: 0.992 - ETA: 15s - loss: 0.0293 - accuracy: 0.993 - ETA: 15s - loss: 0.0245 - accuracy: 0.994 - ETA: 15s - loss: 0.0210 - accuracy: 0.995 - ETA: 15s - loss: 0.0184 - accuracy: 0.996 - ETA: 15s - loss: 0.0164 - accuracy: 0.996 - ETA: 15s - loss: 0.0148 - accuracy: 0.996 - ETA: 15s - loss: 0.0142 - accuracy: 0.997 - ETA: 15s - loss: 0.0141 - accuracy: 0.997 - ETA: 15s - loss: 0.0132 - accuracy: 0.997 - ETA: 15s - loss: 0.0126 - accuracy: 0.997 - ETA: 15s - loss: 0.0120 - accuracy: 0.997 - ETA: 15s - loss: 0.0113 - accuracy: 0.998 - ETA: 15s - loss: 0.0106 - accuracy: 0.998 - ETA: 15s - loss: 0.0101 - accuracy: 0.998 - ETA: 15s - loss: 0.0095 - accuracy: 0.998 - ETA: 15s - loss: 0.0095 - accuracy: 0.998 - ETA: 15s - loss: 0.0090 - accuracy: 0.998 - ETA: 15s - loss: 0.0087 - accuracy: 0.998 - ETA: 15s - loss: 0.0085 - accuracy: 0.998 - ETA: 14s - loss: 0.0081 - accuracy: 0.998 - ETA: 14s - loss: 0.0078 - accuracy: 0.998 - ETA: 14s - loss: 0.0076 - accuracy: 0.998 - ETA: 14s - loss: 0.0073 - accuracy: 0.998 - ETA: 14s - loss: 0.0071 - accuracy: 0.998 - ETA: 14s - loss: 0.0068 - accuracy: 0.998 - ETA: 14s - loss: 0.0066 - accuracy: 0.999 - ETA: 14s - loss: 0.0064 - accuracy: 0.999 - ETA: 14s - loss: 0.0062 - accuracy: 0.999 - ETA: 14s - loss: 0.0061 - accuracy: 0.999 - ETA: 14s - loss: 0.0059 - accuracy: 0.999 - ETA: 13s - loss: 0.0058 - accuracy: 0.999 - ETA: 13s - loss: 0.0056 - accuracy: 0.999 - ETA: 13s - loss: 0.0055 - accuracy: 0.999 - ETA: 13s - loss: 0.0054 - accuracy: 0.999 - ETA: 13s - loss: 0.0052 - accuracy: 0.999 - ETA: 13s - loss: 0.0051 - accuracy: 0.999 - ETA: 13s - loss: 0.0050 - accuracy: 0.999 - ETA: 13s - loss: 0.0049 - accuracy: 0.999 - ETA: 13s - loss: 0.0048 - accuracy: 0.999 - ETA: 13s - loss: 0.0047 - accuracy: 0.999 - ETA: 13s - loss: 0.0046 - accuracy: 0.999 - ETA: 13s - loss: 0.0045 - accuracy: 0.999 - ETA: 13s - loss: 0.0044 - accuracy: 0.999 - ETA: 12s - loss: 0.0043 - accuracy: 0.999 - ETA: 12s - loss: 0.0043 - accuracy: 0.999 - ETA: 12s - loss: 0.0042 - accuracy: 0.999 - ETA: 12s - loss: 0.0042 - accuracy: 0.999 - ETA: 12s - loss: 0.0041 - accuracy: 0.999 - ETA: 12s - loss: 0.0040 - accuracy: 0.999 - ETA: 12s - loss: 0.0039 - accuracy: 0.999 - ETA: 12s - loss: 0.0039 - accuracy: 0.999 - ETA: 12s - loss: 0.0038 - accuracy: 0.999 - ETA: 12s - loss: 0.0037 - accuracy: 0.999 - ETA: 12s - loss: 0.0037 - accuracy: 0.999 - ETA: 12s - loss: 0.0036 - accuracy: 0.999 - ETA: 12s - loss: 0.0036 - accuracy: 0.999 - ETA: 11s - loss: 0.0035 - accuracy: 0.999 - ETA: 11s - loss: 0.0035 - accuracy: 0.999 - ETA: 11s - loss: 0.0034 - accuracy: 0.999 - ETA: 11s - loss: 0.0034 - accuracy: 0.999 - ETA: 11s - loss: 0.0033 - accuracy: 0.999 - ETA: 11s - loss: 0.0033 - accuracy: 0.999 - ETA: 11s - loss: 0.0033 - accuracy: 0.999 - ETA: 11s - loss: 0.0032 - accuracy: 0.999 - ETA: 11s - loss: 0.0032 - accuracy: 0.999 - ETA: 11s - loss: 0.0032 - accuracy: 0.999 - ETA: 11s - loss: 0.0031 - accuracy: 0.999 - ETA: 11s - loss: 0.0031 - accuracy: 0.999 - ETA: 11s - loss: 0.0030 - accuracy: 0.999 - ETA: 11s - loss: 0.0030 - accuracy: 0.999 - ETA: 10s - loss: 0.0030 - accuracy: 0.999 - ETA: 10s - loss: 0.0029 - accuracy: 0.999 - ETA: 10s - loss: 0.0029 - accuracy: 0.999 - ETA: 10s - loss: 0.0029 - accuracy: 0.999 - ETA: 10s - loss: 0.0028 - accuracy: 0.999 - ETA: 10s - loss: 0.0028 - accuracy: 0.999 - ETA: 10s - loss: 0.0028 - accuracy: 0.999 - ETA: 10s - loss: 0.0027 - accuracy: 0.999 - ETA: 10s - loss: 0.0027 - accuracy: 0.999 - ETA: 10s - loss: 0.0027 - accuracy: 0.999 - ETA: 10s - loss: 0.0027 - accuracy: 0.999 - ETA: 10s - loss: 0.0026 - accuracy: 0.999 - ETA: 10s - loss: 0.0026 - accuracy: 0.999 - ETA: 9s - loss: 0.0026 - accuracy: 0.999 - ETA: 9s - loss: 0.0026 - accuracy: 0.99 - ETA: 9s - loss: 0.0025 - accuracy: 0.99 - ETA: 9s - loss: 0.0025 - accuracy: 0.99 - ETA: 9s - loss: 0.0025 - accuracy: 0.99 - ETA: 9s - loss: 0.0025 - accuracy: 0.99 - ETA: 9s - loss: 0.0024 - accuracy: 0.99 - ETA: 9s - loss: 0.0024 - accuracy: 0.99 - ETA: 9s - loss: 0.0024 - accuracy: 0.99 - ETA: 9s - loss: 0.0024 - accuracy: 0.99 - ETA: 9s - loss: 0.0024 - accuracy: 0.99 - ETA: 9s - loss: 0.0023 - accuracy: 0.99 - ETA: 9s - loss: 0.0023 - accuracy: 0.99 - ETA: 8s - loss: 0.0023 - accuracy: 0.99 - ETA: 8s - loss: 0.0023 - accuracy: 0.99 - ETA: 8s - loss: 0.0022 - accuracy: 0.99 - ETA: 8s - loss: 0.0022 - accuracy: 0.99 - ETA: 8s - loss: 0.0022 - accuracy: 0.99 - ETA: 8s - loss: 0.0022 - accuracy: 0.99 - ETA: 8s - loss: 0.0022 - accuracy: 0.99 - ETA: 8s - loss: 0.0022 - accuracy: 0.99 - ETA: 8s - loss: 0.0021 - accuracy: 0.99 - ETA: 8s - loss: 0.0021 - accuracy: 0.99 - ETA: 8s - loss: 0.0021 - accuracy: 0.99 - ETA: 8s - loss: 0.0021 - accuracy: 0.99 - ETA: 8s - loss: 0.0021 - accuracy: 0.99 - ETA: 7s - loss: 0.0021 - accuracy: 0.99 - ETA: 7s - loss: 0.0021 - accuracy: 0.99 - ETA: 7s - loss: 0.0021 - accuracy: 0.99 - ETA: 7s - loss: 0.0021 - accuracy: 0.99 - ETA: 7s - loss: 0.0020 - accuracy: 0.99 - ETA: 7s - loss: 0.0020 - accuracy: 0.99 - ETA: 7s - loss: 0.0020 - accuracy: 0.99 - ETA: 7s - loss: 0.0020 - accuracy: 0.99 - ETA: 7s - loss: 0.0020 - accuracy: 0.99 - ETA: 7s - loss: 0.0020 - accuracy: 0.99 - ETA: 7s - loss: 0.0020 - accuracy: 0.99 - ETA: 7s - loss: 0.0020 - accuracy: 0.99 - ETA: 7s - loss: 0.0020 - accuracy: 0.99 - ETA: 6s - loss: 0.0020 - accuracy: 0.99 - ETA: 6s - loss: 0.0019 - accuracy: 0.99 - ETA: 6s - loss: 0.0019 - accuracy: 0.99 - ETA: 6s - loss: 0.0019 - accuracy: 0.99 - ETA: 6s - loss: 0.0019 - accuracy: 0.99 - ETA: 6s - loss: 0.0019 - accuracy: 0.99 - ETA: 6s - loss: 0.0019 - accuracy: 0.99 - ETA: 6s - loss: 0.0019 - accuracy: 0.99 - ETA: 6s - loss: 0.0019 - accuracy: 0.99 - ETA: 6s - loss: 0.0019 - accuracy: 0.99 - ETA: 6s - loss: 0.0019 - accuracy: 0.99 - ETA: 6s - loss: 0.0019 - accuracy: 0.99 - ETA: 6s - loss: 0.0018 - accuracy: 0.99 - ETA: 5s - loss: 0.0018 - accuracy: 0.99 - ETA: 5s - loss: 0.0018 - accuracy: 0.99 - ETA: 5s - loss: 0.0018 - accuracy: 0.99 - ETA: 5s - loss: 0.0018 - accuracy: 0.99 - ETA: 5s - loss: 0.0018 - accuracy: 0.99 - ETA: 5s - loss: 0.0018 - accuracy: 0.99 - ETA: 5s - loss: 0.0018 - accuracy: 0.99 - ETA: 5s - loss: 0.0017 - accuracy: 0.99 - ETA: 5s - loss: 0.0018 - accuracy: 0.99 - ETA: 5s - loss: 0.0018 - accuracy: 0.99 - ETA: 5s - loss: 0.0018 - accuracy: 0.99 - ETA: 5s - loss: 0.0018 - accuracy: 0.99 - ETA: 5s - loss: 0.0018 - accuracy: 0.99 - ETA: 5s - loss: 0.0018 - accuracy: 0.99 - ETA: 4s - loss: 0.0018 - accuracy: 0.99 - ETA: 4s - loss: 0.0017 - accuracy: 0.99 - ETA: 4s - loss: 0.0019 - accuracy: 0.99 - ETA: 4s - loss: 0.0018 - accuracy: 0.99 - ETA: 4s - loss: 0.0018 - accuracy: 0.99 - ETA: 4s - loss: 0.0018 - accuracy: 0.99 - ETA: 4s - loss: 0.0018 - accuracy: 0.99 - ETA: 4s - loss: 0.0018 - accuracy: 0.99 - ETA: 4s - loss: 0.0018 - accuracy: 0.99 - ETA: 4s - loss: 0.0018 - accuracy: 0.99 - ETA: 4s - loss: 0.0018 - accuracy: 0.99 - ETA: 4s - loss: 0.0022 - accuracy: 0.99 - ETA: 4s - loss: 0.0022 - accuracy: 0.99 - ETA: 3s - loss: 0.0022 - accuracy: 0.99 - ETA: 3s - loss: 0.0022 - accuracy: 0.99 - ETA: 3s - loss: 0.0024 - accuracy: 0.99 - ETA: 3s - loss: 0.0026 - accuracy: 0.99 - ETA: 3s - loss: 0.0026 - accuracy: 0.99 - ETA: 3s - loss: 0.0025 - accuracy: 0.99 - ETA: 3s - loss: 0.0026 - accuracy: 0.99 - ETA: 3s - loss: 0.0026 - accuracy: 0.99 - ETA: 3s - loss: 0.0026 - accuracy: 0.99 - ETA: 3s - loss: 0.0026 - accuracy: 0.99 - ETA: 3s - loss: 0.0026 - accuracy: 0.99 - ETA: 3s - loss: 0.0026 - accuracy: 0.99 - ETA: 3s - loss: 0.0026 - accuracy: 0.99 - ETA: 2s - loss: 0.0026 - accuracy: 0.99 - ETA: 2s - loss: 0.0026 - accuracy: 0.99 - ETA: 2s - loss: 0.0026 - accuracy: 0.99 - ETA: 2s - loss: 0.0026 - accuracy: 0.99 - ETA: 2s - loss: 0.0026 - accuracy: 0.99 - ETA: 2s - loss: 0.0026 - accuracy: 0.99 - ETA: 2s - loss: 0.0025 - accuracy: 0.99 - ETA: 2s - loss: 0.0025 - accuracy: 0.99 - ETA: 2s - loss: 0.0025 - accuracy: 0.99 - ETA: 2s - loss: 0.0025 - accuracy: 0.99 - ETA: 2s - loss: 0.0025 - accuracy: 0.9993"
     ]
    },
    {
     "name": "stdout",
     "output_type": "stream",
     "text": [
      "7000/7000 [==============================] - ETA: 2s - loss: 0.0025 - accuracy: 0.99 - ETA: 2s - loss: 0.0025 - accuracy: 0.99 - ETA: 1s - loss: 0.0025 - accuracy: 0.99 - ETA: 1s - loss: 0.0025 - accuracy: 0.99 - ETA: 1s - loss: 0.0027 - accuracy: 0.99 - ETA: 1s - loss: 0.0027 - accuracy: 0.99 - ETA: 1s - loss: 0.0027 - accuracy: 0.99 - ETA: 1s - loss: 0.0026 - accuracy: 0.99 - ETA: 1s - loss: 0.0028 - accuracy: 0.99 - ETA: 1s - loss: 0.0028 - accuracy: 0.99 - ETA: 1s - loss: 0.0028 - accuracy: 0.99 - ETA: 1s - loss: 0.0028 - accuracy: 0.99 - ETA: 1s - loss: 0.0028 - accuracy: 0.99 - ETA: 1s - loss: 0.0028 - accuracy: 0.99 - ETA: 1s - loss: 0.0028 - accuracy: 0.99 - ETA: 0s - loss: 0.0032 - accuracy: 0.99 - ETA: 0s - loss: 0.0032 - accuracy: 0.99 - ETA: 0s - loss: 0.0032 - accuracy: 0.99 - ETA: 0s - loss: 0.0035 - accuracy: 0.99 - ETA: 0s - loss: 0.0035 - accuracy: 0.99 - ETA: 0s - loss: 0.0035 - accuracy: 0.99 - ETA: 0s - loss: 0.0034 - accuracy: 0.99 - ETA: 0s - loss: 0.0034 - accuracy: 0.99 - ETA: 0s - loss: 0.0034 - accuracy: 0.99 - ETA: 0s - loss: 0.0034 - accuracy: 0.99 - ETA: 0s - loss: 0.0034 - accuracy: 0.99 - ETA: 0s - loss: 0.0034 - accuracy: 0.99 - ETA: 0s - loss: 0.0034 - accuracy: 0.99 - 17s 2ms/sample - loss: 0.0034 - accuracy: 0.9990\n",
      "Epoch 7/10\n",
      "6016/7000 [========================>.....] - ETA: 16s - loss: 0.0025 - accuracy: 1.000 - ETA: 16s - loss: 0.0013 - accuracy: 1.000 - ETA: 16s - loss: 9.6412e-04 - accuracy: 1.000 - ETA: 16s - loss: 7.4733e-04 - accuracy: 1.000 - ETA: 16s - loss: 6.3304e-04 - accuracy: 1.000 - ETA: 16s - loss: 5.6508e-04 - accuracy: 1.000 - ETA: 16s - loss: 5.1006e-04 - accuracy: 1.000 - ETA: 16s - loss: 4.5809e-04 - accuracy: 1.000 - ETA: 15s - loss: 4.8673e-04 - accuracy: 1.000 - ETA: 15s - loss: 4.4492e-04 - accuracy: 1.000 - ETA: 15s - loss: 4.2459e-04 - accuracy: 1.000 - ETA: 15s - loss: 3.9570e-04 - accuracy: 1.000 - ETA: 15s - loss: 3.7399e-04 - accuracy: 1.000 - ETA: 15s - loss: 3.5765e-04 - accuracy: 1.000 - ETA: 15s - loss: 3.7127e-04 - accuracy: 1.000 - ETA: 15s - loss: 3.9185e-04 - accuracy: 1.000 - ETA: 15s - loss: 4.3457e-04 - accuracy: 1.000 - ETA: 15s - loss: 4.4401e-04 - accuracy: 1.000 - ETA: 15s - loss: 4.2676e-04 - accuracy: 1.000 - ETA: 15s - loss: 4.1242e-04 - accuracy: 1.000 - ETA: 15s - loss: 3.9879e-04 - accuracy: 1.000 - ETA: 14s - loss: 3.8965e-04 - accuracy: 1.000 - ETA: 14s - loss: 3.8006e-04 - accuracy: 1.000 - ETA: 14s - loss: 3.6682e-04 - accuracy: 1.000 - ETA: 14s - loss: 5.9862e-04 - accuracy: 1.000 - ETA: 14s - loss: 5.8742e-04 - accuracy: 1.000 - ETA: 14s - loss: 5.6955e-04 - accuracy: 1.000 - ETA: 14s - loss: 5.5339e-04 - accuracy: 1.000 - ETA: 14s - loss: 5.3920e-04 - accuracy: 1.000 - ETA: 14s - loss: 0.0018 - accuracy: 0.9990    - ETA: 14s - loss: 0.0018 - accuracy: 0.999 - ETA: 14s - loss: 0.0017 - accuracy: 0.999 - ETA: 14s - loss: 0.0018 - accuracy: 0.999 - ETA: 14s - loss: 0.0046 - accuracy: 0.998 - ETA: 14s - loss: 0.0045 - accuracy: 0.998 - ETA: 13s - loss: 0.0044 - accuracy: 0.998 - ETA: 13s - loss: 0.0043 - accuracy: 0.998 - ETA: 13s - loss: 0.0042 - accuracy: 0.998 - ETA: 13s - loss: 0.0064 - accuracy: 0.997 - ETA: 13s - loss: 0.0064 - accuracy: 0.997 - ETA: 13s - loss: 0.0065 - accuracy: 0.997 - ETA: 13s - loss: 0.0064 - accuracy: 0.997 - ETA: 13s - loss: 0.0063 - accuracy: 0.997 - ETA: 13s - loss: 0.0106 - accuracy: 0.997 - ETA: 13s - loss: 0.0119 - accuracy: 0.996 - ETA: 13s - loss: 0.0117 - accuracy: 0.996 - ETA: 13s - loss: 0.0115 - accuracy: 0.996 - ETA: 12s - loss: 0.0138 - accuracy: 0.996 - ETA: 12s - loss: 0.0138 - accuracy: 0.996 - ETA: 12s - loss: 0.0136 - accuracy: 0.996 - ETA: 12s - loss: 0.0133 - accuracy: 0.996 - ETA: 12s - loss: 0.0139 - accuracy: 0.996 - ETA: 12s - loss: 0.0136 - accuracy: 0.996 - ETA: 12s - loss: 0.0134 - accuracy: 0.996 - ETA: 12s - loss: 0.0131 - accuracy: 0.996 - ETA: 12s - loss: 0.0129 - accuracy: 0.996 - ETA: 12s - loss: 0.0127 - accuracy: 0.996 - ETA: 12s - loss: 0.0125 - accuracy: 0.996 - ETA: 12s - loss: 0.0123 - accuracy: 0.996 - ETA: 12s - loss: 0.0121 - accuracy: 0.996 - ETA: 12s - loss: 0.0119 - accuracy: 0.996 - ETA: 11s - loss: 0.0117 - accuracy: 0.997 - ETA: 11s - loss: 0.0115 - accuracy: 0.997 - ETA: 11s - loss: 0.0114 - accuracy: 0.997 - ETA: 11s - loss: 0.0112 - accuracy: 0.997 - ETA: 11s - loss: 0.0110 - accuracy: 0.997 - ETA: 11s - loss: 0.0111 - accuracy: 0.997 - ETA: 11s - loss: 0.0109 - accuracy: 0.997 - ETA: 11s - loss: 0.0108 - accuracy: 0.997 - ETA: 11s - loss: 0.0106 - accuracy: 0.997 - ETA: 11s - loss: 0.0105 - accuracy: 0.997 - ETA: 11s - loss: 0.0104 - accuracy: 0.997 - ETA: 11s - loss: 0.0103 - accuracy: 0.997 - ETA: 11s - loss: 0.0101 - accuracy: 0.997 - ETA: 10s - loss: 0.0100 - accuracy: 0.997 - ETA: 10s - loss: 0.0099 - accuracy: 0.997 - ETA: 10s - loss: 0.0099 - accuracy: 0.997 - ETA: 10s - loss: 0.0097 - accuracy: 0.997 - ETA: 10s - loss: 0.0096 - accuracy: 0.997 - ETA: 10s - loss: 0.0095 - accuracy: 0.997 - ETA: 10s - loss: 0.0094 - accuracy: 0.997 - ETA: 10s - loss: 0.0093 - accuracy: 0.997 - ETA: 10s - loss: 0.0092 - accuracy: 0.997 - ETA: 10s - loss: 0.0091 - accuracy: 0.997 - ETA: 10s - loss: 0.0090 - accuracy: 0.997 - ETA: 10s - loss: 0.0089 - accuracy: 0.997 - ETA: 10s - loss: 0.0088 - accuracy: 0.997 - ETA: 9s - loss: 0.0087 - accuracy: 0.997 - ETA: 9s - loss: 0.0087 - accuracy: 0.99 - ETA: 9s - loss: 0.0086 - accuracy: 0.99 - ETA: 9s - loss: 0.0085 - accuracy: 0.99 - ETA: 9s - loss: 0.0084 - accuracy: 0.99 - ETA: 9s - loss: 0.0083 - accuracy: 0.99 - ETA: 9s - loss: 0.0082 - accuracy: 0.99 - ETA: 9s - loss: 0.0081 - accuracy: 0.99 - ETA: 9s - loss: 0.0080 - accuracy: 0.99 - ETA: 9s - loss: 0.0080 - accuracy: 0.99 - ETA: 9s - loss: 0.0080 - accuracy: 0.99 - ETA: 9s - loss: 0.0079 - accuracy: 0.99 - ETA: 9s - loss: 0.0079 - accuracy: 0.99 - ETA: 8s - loss: 0.0078 - accuracy: 0.99 - ETA: 8s - loss: 0.0077 - accuracy: 0.99 - ETA: 8s - loss: 0.0077 - accuracy: 0.99 - ETA: 8s - loss: 0.0076 - accuracy: 0.99 - ETA: 8s - loss: 0.0076 - accuracy: 0.99 - ETA: 8s - loss: 0.0075 - accuracy: 0.99 - ETA: 8s - loss: 0.0075 - accuracy: 0.99 - ETA: 8s - loss: 0.0075 - accuracy: 0.99 - ETA: 8s - loss: 0.0074 - accuracy: 0.99 - ETA: 8s - loss: 0.0073 - accuracy: 0.99 - ETA: 8s - loss: 0.0073 - accuracy: 0.99 - ETA: 8s - loss: 0.0072 - accuracy: 0.99 - ETA: 8s - loss: 0.0071 - accuracy: 0.99 - ETA: 7s - loss: 0.0071 - accuracy: 0.99 - ETA: 7s - loss: 0.0070 - accuracy: 0.99 - ETA: 7s - loss: 0.0070 - accuracy: 0.99 - ETA: 7s - loss: 0.0071 - accuracy: 0.99 - ETA: 7s - loss: 0.0071 - accuracy: 0.99 - ETA: 7s - loss: 0.0070 - accuracy: 0.99 - ETA: 7s - loss: 0.0070 - accuracy: 0.99 - ETA: 7s - loss: 0.0069 - accuracy: 0.99 - ETA: 7s - loss: 0.0071 - accuracy: 0.99 - ETA: 7s - loss: 0.0070 - accuracy: 0.99 - ETA: 7s - loss: 0.0070 - accuracy: 0.99 - ETA: 7s - loss: 0.0069 - accuracy: 0.99 - ETA: 7s - loss: 0.0069 - accuracy: 0.99 - ETA: 6s - loss: 0.0068 - accuracy: 0.99 - ETA: 6s - loss: 0.0068 - accuracy: 0.99 - ETA: 6s - loss: 0.0067 - accuracy: 0.99 - ETA: 6s - loss: 0.0067 - accuracy: 0.99 - ETA: 6s - loss: 0.0067 - accuracy: 0.99 - ETA: 6s - loss: 0.0066 - accuracy: 0.99 - ETA: 6s - loss: 0.0066 - accuracy: 0.99 - ETA: 6s - loss: 0.0065 - accuracy: 0.99 - ETA: 6s - loss: 0.0065 - accuracy: 0.99 - ETA: 6s - loss: 0.0064 - accuracy: 0.99 - ETA: 6s - loss: 0.0064 - accuracy: 0.99 - ETA: 6s - loss: 0.0063 - accuracy: 0.99 - ETA: 6s - loss: 0.0063 - accuracy: 0.99 - ETA: 6s - loss: 0.0063 - accuracy: 0.99 - ETA: 5s - loss: 0.0062 - accuracy: 0.99 - ETA: 5s - loss: 0.0062 - accuracy: 0.99 - ETA: 5s - loss: 0.0061 - accuracy: 0.99 - ETA: 5s - loss: 0.0061 - accuracy: 0.99 - ETA: 5s - loss: 0.0060 - accuracy: 0.99 - ETA: 5s - loss: 0.0060 - accuracy: 0.99 - ETA: 5s - loss: 0.0060 - accuracy: 0.99 - ETA: 5s - loss: 0.0059 - accuracy: 0.99 - ETA: 5s - loss: 0.0059 - accuracy: 0.99 - ETA: 5s - loss: 0.0059 - accuracy: 0.99 - ETA: 5s - loss: 0.0058 - accuracy: 0.99 - ETA: 5s - loss: 0.0058 - accuracy: 0.99 - ETA: 5s - loss: 0.0058 - accuracy: 0.99 - ETA: 4s - loss: 0.0057 - accuracy: 0.99 - ETA: 4s - loss: 0.0057 - accuracy: 0.99 - ETA: 4s - loss: 0.0057 - accuracy: 0.99 - ETA: 4s - loss: 0.0056 - accuracy: 0.99 - ETA: 4s - loss: 0.0056 - accuracy: 0.99 - ETA: 4s - loss: 0.0056 - accuracy: 0.99 - ETA: 4s - loss: 0.0055 - accuracy: 0.99 - ETA: 4s - loss: 0.0055 - accuracy: 0.99 - ETA: 4s - loss: 0.0055 - accuracy: 0.99 - ETA: 4s - loss: 0.0054 - accuracy: 0.99 - ETA: 4s - loss: 0.0054 - accuracy: 0.99 - ETA: 4s - loss: 0.0054 - accuracy: 0.99 - ETA: 4s - loss: 0.0053 - accuracy: 0.99 - ETA: 3s - loss: 0.0053 - accuracy: 0.99 - ETA: 3s - loss: 0.0053 - accuracy: 0.99 - ETA: 3s - loss: 0.0052 - accuracy: 0.99 - ETA: 3s - loss: 0.0052 - accuracy: 0.99 - ETA: 3s - loss: 0.0052 - accuracy: 0.99 - ETA: 3s - loss: 0.0052 - accuracy: 0.99 - ETA: 3s - loss: 0.0051 - accuracy: 0.99 - ETA: 3s - loss: 0.0051 - accuracy: 0.99 - ETA: 3s - loss: 0.0051 - accuracy: 0.99 - ETA: 3s - loss: 0.0051 - accuracy: 0.99 - ETA: 3s - loss: 0.0050 - accuracy: 0.99 - ETA: 3s - loss: 0.0050 - accuracy: 0.99 - ETA: 3s - loss: 0.0050 - accuracy: 0.99 - ETA: 2s - loss: 0.0050 - accuracy: 0.99 - ETA: 2s - loss: 0.0050 - accuracy: 0.99 - ETA: 2s - loss: 0.0049 - accuracy: 0.99 - ETA: 2s - loss: 0.0049 - accuracy: 0.99 - ETA: 2s - loss: 0.0049 - accuracy: 0.99 - ETA: 2s - loss: 0.0049 - accuracy: 0.99 - ETA: 2s - loss: 0.0048 - accuracy: 0.99 - ETA: 2s - loss: 0.0048 - accuracy: 0.99 - ETA: 2s - loss: 0.0048 - accuracy: 0.99877000/7000 [==============================] - ETA: 2s - loss: 0.0048 - accuracy: 0.99 - ETA: 2s - loss: 0.0047 - accuracy: 0.99 - ETA: 2s - loss: 0.0047 - accuracy: 0.99 - ETA: 2s - loss: 0.0047 - accuracy: 0.99 - ETA: 1s - loss: 0.0047 - accuracy: 0.99 - ETA: 1s - loss: 0.0046 - accuracy: 0.99 - ETA: 1s - loss: 0.0046 - accuracy: 0.99 - ETA: 1s - loss: 0.0046 - accuracy: 0.99 - ETA: 1s - loss: 0.0046 - accuracy: 0.99 - ETA: 1s - loss: 0.0046 - accuracy: 0.99 - ETA: 1s - loss: 0.0046 - accuracy: 0.99 - ETA: 1s - loss: 0.0045 - accuracy: 0.99 - ETA: 1s - loss: 0.0045 - accuracy: 0.99 - ETA: 1s - loss: 0.0045 - accuracy: 0.99 - ETA: 1s - loss: 0.0045 - accuracy: 0.99 - ETA: 1s - loss: 0.0045 - accuracy: 0.99 - ETA: 1s - loss: 0.0044 - accuracy: 0.99 - ETA: 0s - loss: 0.0044 - accuracy: 0.99 - ETA: 0s - loss: 0.0044 - accuracy: 0.99 - ETA: 0s - loss: 0.0044 - accuracy: 0.99 - ETA: 0s - loss: 0.0044 - accuracy: 0.99 - ETA: 0s - loss: 0.0043 - accuracy: 0.99 - ETA: 0s - loss: 0.0043 - accuracy: 0.99 - ETA: 0s - loss: 0.0043 - accuracy: 0.99 - ETA: 0s - loss: 0.0043 - accuracy: 0.99 - ETA: 0s - loss: 0.0043 - accuracy: 0.99 - ETA: 0s - loss: 0.0043 - accuracy: 0.99 - ETA: 0s - loss: 0.0042 - accuracy: 0.99 - ETA: 0s - loss: 0.0042 - accuracy: 0.99 - ETA: 0s - loss: 0.0042 - accuracy: 0.99 - 17s 2ms/sample - loss: 0.0042 - accuracy: 0.9989\n",
      "Epoch 8/10\n"
     ]
    },
    {
     "name": "stdout",
     "output_type": "stream",
     "text": [
      "5568/7000 [======================>.......] - ETA: 16s - loss: 2.2076e-05 - accuracy: 1.000 - ETA: 16s - loss: 3.0155e-05 - accuracy: 1.000 - ETA: 16s - loss: 1.6164e-04 - accuracy: 1.000 - ETA: 16s - loss: 1.3252e-04 - accuracy: 1.000 - ETA: 16s - loss: 4.0846e-04 - accuracy: 1.000 - ETA: 16s - loss: 4.7268e-04 - accuracy: 1.000 - ETA: 16s - loss: 5.3049e-04 - accuracy: 1.000 - ETA: 16s - loss: 4.7038e-04 - accuracy: 1.000 - ETA: 16s - loss: 4.4705e-04 - accuracy: 1.000 - ETA: 16s - loss: 4.0449e-04 - accuracy: 1.000 - ETA: 16s - loss: 3.9637e-04 - accuracy: 1.000 - ETA: 16s - loss: 3.6782e-04 - accuracy: 1.000 - ETA: 16s - loss: 3.5062e-04 - accuracy: 1.000 - ETA: 16s - loss: 3.4437e-04 - accuracy: 1.000 - ETA: 16s - loss: 3.3360e-04 - accuracy: 1.000 - ETA: 16s - loss: 3.2502e-04 - accuracy: 1.000 - ETA: 16s - loss: 3.1340e-04 - accuracy: 1.000 - ETA: 15s - loss: 3.0010e-04 - accuracy: 1.000 - ETA: 15s - loss: 2.9577e-04 - accuracy: 1.000 - ETA: 15s - loss: 2.8558e-04 - accuracy: 1.000 - ETA: 15s - loss: 2.7575e-04 - accuracy: 1.000 - ETA: 15s - loss: 2.6537e-04 - accuracy: 1.000 - ETA: 15s - loss: 2.5766e-04 - accuracy: 1.000 - ETA: 15s - loss: 3.0022e-04 - accuracy: 1.000 - ETA: 15s - loss: 2.8961e-04 - accuracy: 1.000 - ETA: 15s - loss: 2.8016e-04 - accuracy: 1.000 - ETA: 15s - loss: 2.7133e-04 - accuracy: 1.000 - ETA: 15s - loss: 3.1189e-04 - accuracy: 1.000 - ETA: 15s - loss: 3.0623e-04 - accuracy: 1.000 - ETA: 15s - loss: 2.9827e-04 - accuracy: 1.000 - ETA: 15s - loss: 2.9902e-04 - accuracy: 1.000 - ETA: 14s - loss: 2.9172e-04 - accuracy: 1.000 - ETA: 14s - loss: 2.9061e-04 - accuracy: 1.000 - ETA: 14s - loss: 2.8418e-04 - accuracy: 1.000 - ETA: 14s - loss: 3.0973e-04 - accuracy: 1.000 - ETA: 14s - loss: 3.0201e-04 - accuracy: 1.000 - ETA: 14s - loss: 2.9898e-04 - accuracy: 1.000 - ETA: 14s - loss: 2.9605e-04 - accuracy: 1.000 - ETA: 14s - loss: 4.0808e-04 - accuracy: 1.000 - ETA: 14s - loss: 4.0060e-04 - accuracy: 1.000 - ETA: 14s - loss: 3.9199e-04 - accuracy: 1.000 - ETA: 14s - loss: 3.8432e-04 - accuracy: 1.000 - ETA: 13s - loss: 3.8132e-04 - accuracy: 1.000 - ETA: 13s - loss: 3.7353e-04 - accuracy: 1.000 - ETA: 13s - loss: 3.6855e-04 - accuracy: 1.000 - ETA: 13s - loss: 4.7569e-04 - accuracy: 1.000 - ETA: 13s - loss: 4.7951e-04 - accuracy: 1.000 - ETA: 13s - loss: 4.7087e-04 - accuracy: 1.000 - ETA: 13s - loss: 4.6232e-04 - accuracy: 1.000 - ETA: 13s - loss: 4.5669e-04 - accuracy: 1.000 - ETA: 13s - loss: 4.4955e-04 - accuracy: 1.000 - ETA: 13s - loss: 4.4238e-04 - accuracy: 1.000 - ETA: 13s - loss: 4.3473e-04 - accuracy: 1.000 - ETA: 13s - loss: 4.3025e-04 - accuracy: 1.000 - ETA: 13s - loss: 4.2317e-04 - accuracy: 1.000 - ETA: 12s - loss: 4.1674e-04 - accuracy: 1.000 - ETA: 12s - loss: 4.1078e-04 - accuracy: 1.000 - ETA: 12s - loss: 4.0625e-04 - accuracy: 1.000 - ETA: 12s - loss: 4.0509e-04 - accuracy: 1.000 - ETA: 12s - loss: 3.9958e-04 - accuracy: 1.000 - ETA: 12s - loss: 3.9438e-04 - accuracy: 1.000 - ETA: 12s - loss: 3.8861e-04 - accuracy: 1.000 - ETA: 12s - loss: 4.1292e-04 - accuracy: 1.000 - ETA: 12s - loss: 4.2465e-04 - accuracy: 1.000 - ETA: 12s - loss: 4.1914e-04 - accuracy: 1.000 - ETA: 12s - loss: 4.1617e-04 - accuracy: 1.000 - ETA: 11s - loss: 4.1058e-04 - accuracy: 1.000 - ETA: 11s - loss: 4.2861e-04 - accuracy: 1.000 - ETA: 11s - loss: 4.2330e-04 - accuracy: 1.000 - ETA: 11s - loss: 4.1828e-04 - accuracy: 1.000 - ETA: 11s - loss: 4.1318e-04 - accuracy: 1.000 - ETA: 11s - loss: 4.0844e-04 - accuracy: 1.000 - ETA: 11s - loss: 4.0400e-04 - accuracy: 1.000 - ETA: 11s - loss: 3.9906e-04 - accuracy: 1.000 - ETA: 11s - loss: 3.9543e-04 - accuracy: 1.000 - ETA: 11s - loss: 3.9062e-04 - accuracy: 1.000 - ETA: 11s - loss: 3.8714e-04 - accuracy: 1.000 - ETA: 11s - loss: 3.8267e-04 - accuracy: 1.000 - ETA: 11s - loss: 3.7858e-04 - accuracy: 1.000 - ETA: 10s - loss: 3.7674e-04 - accuracy: 1.000 - ETA: 10s - loss: 3.7279e-04 - accuracy: 1.000 - ETA: 10s - loss: 3.6940e-04 - accuracy: 1.000 - ETA: 10s - loss: 3.6947e-04 - accuracy: 1.000 - ETA: 10s - loss: 3.6544e-04 - accuracy: 1.000 - ETA: 10s - loss: 3.6401e-04 - accuracy: 1.000 - ETA: 10s - loss: 3.6174e-04 - accuracy: 1.000 - ETA: 10s - loss: 3.5818e-04 - accuracy: 1.000 - ETA: 10s - loss: 3.5600e-04 - accuracy: 1.000 - ETA: 10s - loss: 3.5261e-04 - accuracy: 1.000 - ETA: 10s - loss: 3.4923e-04 - accuracy: 1.000 - ETA: 10s - loss: 3.4633e-04 - accuracy: 1.000 - ETA: 9s - loss: 3.4285e-04 - accuracy: 1.000 - ETA: 9s - loss: 3.3939e-04 - accuracy: 1.00 - ETA: 9s - loss: 3.3616e-04 - accuracy: 1.00 - ETA: 9s - loss: 3.4449e-04 - accuracy: 1.00 - ETA: 9s - loss: 3.4121e-04 - accuracy: 1.00 - ETA: 9s - loss: 3.3914e-04 - accuracy: 1.00 - ETA: 9s - loss: 3.3618e-04 - accuracy: 1.00 - ETA: 9s - loss: 3.8402e-04 - accuracy: 1.00 - ETA: 9s - loss: 3.8053e-04 - accuracy: 1.00 - ETA: 9s - loss: 3.7701e-04 - accuracy: 1.00 - ETA: 9s - loss: 3.9352e-04 - accuracy: 1.00 - ETA: 9s - loss: 3.9237e-04 - accuracy: 1.00 - ETA: 9s - loss: 3.9404e-04 - accuracy: 1.00 - ETA: 8s - loss: 3.9325e-04 - accuracy: 1.00 - ETA: 8s - loss: 3.9905e-04 - accuracy: 1.00 - ETA: 8s - loss: 3.9897e-04 - accuracy: 1.00 - ETA: 8s - loss: 3.9581e-04 - accuracy: 1.00 - ETA: 8s - loss: 3.9270e-04 - accuracy: 1.00 - ETA: 8s - loss: 3.9143e-04 - accuracy: 1.00 - ETA: 8s - loss: 4.0568e-04 - accuracy: 1.00 - ETA: 8s - loss: 4.0308e-04 - accuracy: 1.00 - ETA: 8s - loss: 3.9971e-04 - accuracy: 1.00 - ETA: 8s - loss: 3.9754e-04 - accuracy: 1.00 - ETA: 8s - loss: 3.9605e-04 - accuracy: 1.00 - ETA: 8s - loss: 3.9284e-04 - accuracy: 1.00 - ETA: 7s - loss: 3.9095e-04 - accuracy: 1.00 - ETA: 7s - loss: 3.8836e-04 - accuracy: 1.00 - ETA: 7s - loss: 3.9040e-04 - accuracy: 1.00 - ETA: 7s - loss: 3.8756e-04 - accuracy: 1.00 - ETA: 7s - loss: 3.8723e-04 - accuracy: 1.00 - ETA: 7s - loss: 3.8429e-04 - accuracy: 1.00 - ETA: 7s - loss: 3.8153e-04 - accuracy: 1.00 - ETA: 7s - loss: 3.8305e-04 - accuracy: 1.00 - ETA: 7s - loss: 3.8153e-04 - accuracy: 1.00 - ETA: 7s - loss: 3.8098e-04 - accuracy: 1.00 - ETA: 7s - loss: 3.8000e-04 - accuracy: 1.00 - ETA: 7s - loss: 3.7792e-04 - accuracy: 1.00 - ETA: 7s - loss: 3.7726e-04 - accuracy: 1.00 - ETA: 6s - loss: 3.7454e-04 - accuracy: 1.00 - ETA: 6s - loss: 4.0070e-04 - accuracy: 1.00 - ETA: 6s - loss: 3.9893e-04 - accuracy: 1.00 - ETA: 6s - loss: 3.9605e-04 - accuracy: 1.00 - ETA: 6s - loss: 3.9323e-04 - accuracy: 1.00 - ETA: 6s - loss: 3.9065e-04 - accuracy: 1.00 - ETA: 6s - loss: 3.9041e-04 - accuracy: 1.00 - ETA: 6s - loss: 3.8901e-04 - accuracy: 1.00 - ETA: 6s - loss: 3.8838e-04 - accuracy: 1.00 - ETA: 6s - loss: 3.9015e-04 - accuracy: 1.00 - ETA: 6s - loss: 3.9070e-04 - accuracy: 1.00 - ETA: 6s - loss: 3.8927e-04 - accuracy: 1.00 - ETA: 5s - loss: 3.8719e-04 - accuracy: 1.00 - ETA: 5s - loss: 3.9020e-04 - accuracy: 1.00 - ETA: 5s - loss: 3.8839e-04 - accuracy: 1.00 - ETA: 5s - loss: 3.8646e-04 - accuracy: 1.00 - ETA: 5s - loss: 3.8573e-04 - accuracy: 1.00 - ETA: 5s - loss: 3.8378e-04 - accuracy: 1.00 - ETA: 5s - loss: 3.8226e-04 - accuracy: 1.00 - ETA: 5s - loss: 3.8036e-04 - accuracy: 1.00 - ETA: 5s - loss: 3.7807e-04 - accuracy: 1.00 - ETA: 5s - loss: 3.7847e-04 - accuracy: 1.00 - ETA: 5s - loss: 4.0246e-04 - accuracy: 1.00 - ETA: 5s - loss: 4.1011e-04 - accuracy: 1.00 - ETA: 5s - loss: 4.1181e-04 - accuracy: 1.00 - ETA: 4s - loss: 4.0987e-04 - accuracy: 1.00 - ETA: 4s - loss: 4.0747e-04 - accuracy: 1.00 - ETA: 4s - loss: 4.1267e-04 - accuracy: 1.00 - ETA: 4s - loss: 4.1026e-04 - accuracy: 1.00 - ETA: 4s - loss: 4.1069e-04 - accuracy: 1.00 - ETA: 4s - loss: 4.0998e-04 - accuracy: 1.00 - ETA: 4s - loss: 4.1976e-04 - accuracy: 1.00 - ETA: 4s - loss: 4.4274e-04 - accuracy: 1.00 - ETA: 4s - loss: 4.4104e-04 - accuracy: 1.00 - ETA: 4s - loss: 4.3863e-04 - accuracy: 1.00 - ETA: 4s - loss: 4.3879e-04 - accuracy: 1.00 - ETA: 4s - loss: 4.3641e-04 - accuracy: 1.00 - ETA: 4s - loss: 4.3489e-04 - accuracy: 1.00 - ETA: 3s - loss: 4.3292e-04 - accuracy: 1.00 - ETA: 3s - loss: 4.3159e-04 - accuracy: 1.00 - ETA: 3s - loss: 4.5381e-04 - accuracy: 1.00 - ETA: 3s - loss: 4.5129e-04 - accuracy: 1.00 - ETA: 3s - loss: 4.4896e-04 - accuracy: 1.00 - ETA: 3s - loss: 4.4707e-04 - accuracy: 1.00 - ETA: 3s - loss: 4.4486e-04 - accuracy: 1.0000"
     ]
    },
    {
     "name": "stdout",
     "output_type": "stream",
     "text": [
      "7000/7000 [==============================] - ETA: 3s - loss: 4.4251e-04 - accuracy: 1.00 - ETA: 3s - loss: 4.4013e-04 - accuracy: 1.00 - ETA: 3s - loss: 4.3786e-04 - accuracy: 1.00 - ETA: 3s - loss: 4.3550e-04 - accuracy: 1.00 - ETA: 3s - loss: 4.3321e-04 - accuracy: 1.00 - ETA: 3s - loss: 4.3132e-04 - accuracy: 1.00 - ETA: 2s - loss: 4.2904e-04 - accuracy: 1.00 - ETA: 2s - loss: 4.2694e-04 - accuracy: 1.00 - ETA: 2s - loss: 4.2478e-04 - accuracy: 1.00 - ETA: 2s - loss: 4.2347e-04 - accuracy: 1.00 - ETA: 2s - loss: 4.2130e-04 - accuracy: 1.00 - ETA: 2s - loss: 4.1920e-04 - accuracy: 1.00 - ETA: 2s - loss: 4.1725e-04 - accuracy: 1.00 - ETA: 2s - loss: 4.1538e-04 - accuracy: 1.00 - ETA: 2s - loss: 4.1327e-04 - accuracy: 1.00 - ETA: 2s - loss: 4.1230e-04 - accuracy: 1.00 - ETA: 2s - loss: 4.1043e-04 - accuracy: 1.00 - ETA: 2s - loss: 4.0864e-04 - accuracy: 1.00 - ETA: 2s - loss: 4.0665e-04 - accuracy: 1.00 - ETA: 1s - loss: 4.0469e-04 - accuracy: 1.00 - ETA: 1s - loss: 4.0303e-04 - accuracy: 1.00 - ETA: 1s - loss: 4.0120e-04 - accuracy: 1.00 - ETA: 1s - loss: 3.9958e-04 - accuracy: 1.00 - ETA: 1s - loss: 3.9767e-04 - accuracy: 1.00 - ETA: 1s - loss: 3.9577e-04 - accuracy: 1.00 - ETA: 1s - loss: 3.9494e-04 - accuracy: 1.00 - ETA: 1s - loss: 3.9390e-04 - accuracy: 1.00 - ETA: 1s - loss: 3.9213e-04 - accuracy: 1.00 - ETA: 1s - loss: 3.9068e-04 - accuracy: 1.00 - ETA: 1s - loss: 3.8900e-04 - accuracy: 1.00 - ETA: 1s - loss: 3.8720e-04 - accuracy: 1.00 - ETA: 0s - loss: 3.8613e-04 - accuracy: 1.00 - ETA: 0s - loss: 3.8500e-04 - accuracy: 1.00 - ETA: 0s - loss: 3.8348e-04 - accuracy: 1.00 - ETA: 0s - loss: 3.8175e-04 - accuracy: 1.00 - ETA: 0s - loss: 3.8097e-04 - accuracy: 1.00 - ETA: 0s - loss: 3.7927e-04 - accuracy: 1.00 - ETA: 0s - loss: 3.7781e-04 - accuracy: 1.00 - ETA: 0s - loss: 3.7624e-04 - accuracy: 1.00 - ETA: 0s - loss: 3.8081e-04 - accuracy: 1.00 - ETA: 0s - loss: 3.7917e-04 - accuracy: 1.00 - ETA: 0s - loss: 3.7751e-04 - accuracy: 1.00 - ETA: 0s - loss: 3.7592e-04 - accuracy: 1.00 - ETA: 0s - loss: 3.7568e-04 - accuracy: 1.00 - 17s 2ms/sample - loss: 3.7464e-04 - accuracy: 1.0000\n",
      "Epoch 9/10\n",
      "5568/7000 [======================>.......] - ETA: 16s - loss: 7.3290e-05 - accuracy: 1.000 - ETA: 17s - loss: 1.1829e-04 - accuracy: 1.000 - ETA: 17s - loss: 2.7432e-04 - accuracy: 1.000 - ETA: 17s - loss: 2.1360e-04 - accuracy: 1.000 - ETA: 16s - loss: 1.7586e-04 - accuracy: 1.000 - ETA: 16s - loss: 1.4990e-04 - accuracy: 1.000 - ETA: 16s - loss: 1.3417e-04 - accuracy: 1.000 - ETA: 16s - loss: 1.2517e-04 - accuracy: 1.000 - ETA: 16s - loss: 1.1628e-04 - accuracy: 1.000 - ETA: 16s - loss: 1.0938e-04 - accuracy: 1.000 - ETA: 16s - loss: 1.1178e-04 - accuracy: 1.000 - ETA: 16s - loss: 1.2087e-04 - accuracy: 1.000 - ETA: 16s - loss: 1.1335e-04 - accuracy: 1.000 - ETA: 16s - loss: 1.1071e-04 - accuracy: 1.000 - ETA: 16s - loss: 1.0647e-04 - accuracy: 1.000 - ETA: 16s - loss: 1.0294e-04 - accuracy: 1.000 - ETA: 16s - loss: 1.1953e-04 - accuracy: 1.000 - ETA: 16s - loss: 1.1622e-04 - accuracy: 1.000 - ETA: 16s - loss: 1.1503e-04 - accuracy: 1.000 - ETA: 16s - loss: 1.2024e-04 - accuracy: 1.000 - ETA: 15s - loss: 1.2991e-04 - accuracy: 1.000 - ETA: 15s - loss: 1.2666e-04 - accuracy: 1.000 - ETA: 15s - loss: 1.2277e-04 - accuracy: 1.000 - ETA: 15s - loss: 1.2039e-04 - accuracy: 1.000 - ETA: 15s - loss: 1.2038e-04 - accuracy: 1.000 - ETA: 15s - loss: 1.1717e-04 - accuracy: 1.000 - ETA: 15s - loss: 1.2603e-04 - accuracy: 1.000 - ETA: 15s - loss: 1.2211e-04 - accuracy: 1.000 - ETA: 15s - loss: 1.2137e-04 - accuracy: 1.000 - ETA: 15s - loss: 1.2193e-04 - accuracy: 1.000 - ETA: 15s - loss: 1.3498e-04 - accuracy: 1.000 - ETA: 15s - loss: 1.3189e-04 - accuracy: 1.000 - ETA: 14s - loss: 1.3970e-04 - accuracy: 1.000 - ETA: 14s - loss: 1.5508e-04 - accuracy: 1.000 - ETA: 14s - loss: 1.5128e-04 - accuracy: 1.000 - ETA: 14s - loss: 1.5802e-04 - accuracy: 1.000 - ETA: 14s - loss: 1.5905e-04 - accuracy: 1.000 - ETA: 14s - loss: 1.6660e-04 - accuracy: 1.000 - ETA: 14s - loss: 1.6776e-04 - accuracy: 1.000 - ETA: 14s - loss: 1.6567e-04 - accuracy: 1.000 - ETA: 14s - loss: 1.6206e-04 - accuracy: 1.000 - ETA: 14s - loss: 1.6323e-04 - accuracy: 1.000 - ETA: 14s - loss: 1.6031e-04 - accuracy: 1.000 - ETA: 14s - loss: 1.5828e-04 - accuracy: 1.000 - ETA: 14s - loss: 1.5514e-04 - accuracy: 1.000 - ETA: 14s - loss: 1.5553e-04 - accuracy: 1.000 - ETA: 13s - loss: 1.5252e-04 - accuracy: 1.000 - ETA: 13s - loss: 1.5567e-04 - accuracy: 1.000 - ETA: 13s - loss: 1.5307e-04 - accuracy: 1.000 - ETA: 13s - loss: 1.5296e-04 - accuracy: 1.000 - ETA: 13s - loss: 1.5086e-04 - accuracy: 1.000 - ETA: 13s - loss: 1.4895e-04 - accuracy: 1.000 - ETA: 13s - loss: 2.0198e-04 - accuracy: 1.000 - ETA: 13s - loss: 1.9901e-04 - accuracy: 1.000 - ETA: 13s - loss: 1.9620e-04 - accuracy: 1.000 - ETA: 13s - loss: 1.9349e-04 - accuracy: 1.000 - ETA: 13s - loss: 1.9127e-04 - accuracy: 1.000 - ETA: 13s - loss: 1.8831e-04 - accuracy: 1.000 - ETA: 12s - loss: 1.8548e-04 - accuracy: 1.000 - ETA: 12s - loss: 1.8347e-04 - accuracy: 1.000 - ETA: 12s - loss: 1.8075e-04 - accuracy: 1.000 - ETA: 12s - loss: 1.7838e-04 - accuracy: 1.000 - ETA: 12s - loss: 1.7818e-04 - accuracy: 1.000 - ETA: 12s - loss: 1.7562e-04 - accuracy: 1.000 - ETA: 12s - loss: 1.8528e-04 - accuracy: 1.000 - ETA: 12s - loss: 1.8325e-04 - accuracy: 1.000 - ETA: 12s - loss: 1.8176e-04 - accuracy: 1.000 - ETA: 12s - loss: 1.7922e-04 - accuracy: 1.000 - ETA: 12s - loss: 1.7837e-04 - accuracy: 1.000 - ETA: 11s - loss: 1.7613e-04 - accuracy: 1.000 - ETA: 11s - loss: 1.7591e-04 - accuracy: 1.000 - ETA: 11s - loss: 1.7360e-04 - accuracy: 1.000 - ETA: 11s - loss: 1.7166e-04 - accuracy: 1.000 - ETA: 11s - loss: 1.6997e-04 - accuracy: 1.000 - ETA: 11s - loss: 1.7009e-04 - accuracy: 1.000 - ETA: 11s - loss: 1.6846e-04 - accuracy: 1.000 - ETA: 11s - loss: 1.6984e-04 - accuracy: 1.000 - ETA: 11s - loss: 1.6939e-04 - accuracy: 1.000 - ETA: 11s - loss: 1.6818e-04 - accuracy: 1.000 - ETA: 11s - loss: 1.6638e-04 - accuracy: 1.000 - ETA: 10s - loss: 1.6460e-04 - accuracy: 1.000 - ETA: 10s - loss: 1.6365e-04 - accuracy: 1.000 - ETA: 10s - loss: 1.6206e-04 - accuracy: 1.000 - ETA: 10s - loss: 1.6036e-04 - accuracy: 1.000 - ETA: 10s - loss: 1.5868e-04 - accuracy: 1.000 - ETA: 10s - loss: 1.5847e-04 - accuracy: 1.000 - ETA: 10s - loss: 1.6303e-04 - accuracy: 1.000 - ETA: 10s - loss: 1.6129e-04 - accuracy: 1.000 - ETA: 10s - loss: 1.6005e-04 - accuracy: 1.000 - ETA: 10s - loss: 1.5862e-04 - accuracy: 1.000 - ETA: 10s - loss: 1.5722e-04 - accuracy: 1.000 - ETA: 10s - loss: 1.5618e-04 - accuracy: 1.000 - ETA: 9s - loss: 1.5467e-04 - accuracy: 1.000 - ETA: 9s - loss: 1.5500e-04 - accuracy: 1.00 - ETA: 9s - loss: 1.6176e-04 - accuracy: 1.00 - ETA: 9s - loss: 1.6103e-04 - accuracy: 1.00 - ETA: 9s - loss: 1.5947e-04 - accuracy: 1.00 - ETA: 9s - loss: 1.5804e-04 - accuracy: 1.00 - ETA: 9s - loss: 1.5701e-04 - accuracy: 1.00 - ETA: 9s - loss: 1.5583e-04 - accuracy: 1.00 - ETA: 9s - loss: 1.5502e-04 - accuracy: 1.00 - ETA: 9s - loss: 1.5370e-04 - accuracy: 1.00 - ETA: 9s - loss: 2.2088e-04 - accuracy: 1.00 - ETA: 9s - loss: 2.1955e-04 - accuracy: 1.00 - ETA: 8s - loss: 2.1767e-04 - accuracy: 1.00 - ETA: 8s - loss: 2.6034e-04 - accuracy: 1.00 - ETA: 8s - loss: 2.7436e-04 - accuracy: 1.00 - ETA: 8s - loss: 2.7316e-04 - accuracy: 1.00 - ETA: 8s - loss: 2.7119e-04 - accuracy: 1.00 - ETA: 8s - loss: 2.6911e-04 - accuracy: 1.00 - ETA: 8s - loss: 2.6773e-04 - accuracy: 1.00 - ETA: 8s - loss: 2.6548e-04 - accuracy: 1.00 - ETA: 8s - loss: 2.6329e-04 - accuracy: 1.00 - ETA: 8s - loss: 2.6142e-04 - accuracy: 1.00 - ETA: 8s - loss: 2.6170e-04 - accuracy: 1.00 - ETA: 8s - loss: 2.6929e-04 - accuracy: 1.00 - ETA: 8s - loss: 2.6835e-04 - accuracy: 1.00 - ETA: 7s - loss: 2.7329e-04 - accuracy: 1.00 - ETA: 7s - loss: 2.7113e-04 - accuracy: 1.00 - ETA: 7s - loss: 2.6930e-04 - accuracy: 1.00 - ETA: 7s - loss: 2.6737e-04 - accuracy: 1.00 - ETA: 7s - loss: 2.6531e-04 - accuracy: 1.00 - ETA: 7s - loss: 3.3949e-04 - accuracy: 1.00 - ETA: 7s - loss: 3.3861e-04 - accuracy: 1.00 - ETA: 7s - loss: 3.3609e-04 - accuracy: 1.00 - ETA: 7s - loss: 3.3365e-04 - accuracy: 1.00 - ETA: 7s - loss: 3.3533e-04 - accuracy: 1.00 - ETA: 7s - loss: 3.4622e-04 - accuracy: 1.00 - ETA: 7s - loss: 3.6324e-04 - accuracy: 1.00 - ETA: 6s - loss: 3.6706e-04 - accuracy: 1.00 - ETA: 6s - loss: 3.6540e-04 - accuracy: 1.00 - ETA: 6s - loss: 3.6273e-04 - accuracy: 1.00 - ETA: 6s - loss: 3.6082e-04 - accuracy: 1.00 - ETA: 6s - loss: 3.5867e-04 - accuracy: 1.00 - ETA: 6s - loss: 3.5697e-04 - accuracy: 1.00 - ETA: 6s - loss: 3.5495e-04 - accuracy: 1.00 - ETA: 6s - loss: 3.5266e-04 - accuracy: 1.00 - ETA: 6s - loss: 3.5886e-04 - accuracy: 1.00 - ETA: 6s - loss: 3.5692e-04 - accuracy: 1.00 - ETA: 6s - loss: 3.5450e-04 - accuracy: 1.00 - ETA: 6s - loss: 3.6153e-04 - accuracy: 1.00 - ETA: 6s - loss: 3.5912e-04 - accuracy: 1.00 - ETA: 5s - loss: 3.5700e-04 - accuracy: 1.00 - ETA: 5s - loss: 3.5541e-04 - accuracy: 1.00 - ETA: 5s - loss: 3.5313e-04 - accuracy: 1.00 - ETA: 5s - loss: 3.5123e-04 - accuracy: 1.00 - ETA: 5s - loss: 3.4912e-04 - accuracy: 1.00 - ETA: 5s - loss: 3.4805e-04 - accuracy: 1.00 - ETA: 5s - loss: 3.4914e-04 - accuracy: 1.00 - ETA: 5s - loss: 3.7464e-04 - accuracy: 1.00 - ETA: 5s - loss: 3.7225e-04 - accuracy: 1.00 - ETA: 5s - loss: 3.7047e-04 - accuracy: 1.00 - ETA: 5s - loss: 3.6819e-04 - accuracy: 1.00 - ETA: 5s - loss: 3.6586e-04 - accuracy: 1.00 - ETA: 4s - loss: 3.6360e-04 - accuracy: 1.00 - ETA: 4s - loss: 3.6165e-04 - accuracy: 1.00 - ETA: 4s - loss: 3.5944e-04 - accuracy: 1.00 - ETA: 4s - loss: 3.5763e-04 - accuracy: 1.00 - ETA: 4s - loss: 3.5554e-04 - accuracy: 1.00 - ETA: 4s - loss: 3.5357e-04 - accuracy: 1.00 - ETA: 4s - loss: 3.5180e-04 - accuracy: 1.00 - ETA: 4s - loss: 3.4988e-04 - accuracy: 1.00 - ETA: 4s - loss: 3.4789e-04 - accuracy: 1.00 - ETA: 4s - loss: 3.4586e-04 - accuracy: 1.00 - ETA: 4s - loss: 3.4406e-04 - accuracy: 1.00 - ETA: 4s - loss: 3.4208e-04 - accuracy: 1.00 - ETA: 4s - loss: 3.4653e-04 - accuracy: 1.00 - ETA: 3s - loss: 3.4510e-04 - accuracy: 1.00 - ETA: 3s - loss: 3.4717e-04 - accuracy: 1.00 - ETA: 3s - loss: 3.5439e-04 - accuracy: 1.00 - ETA: 3s - loss: 3.5239e-04 - accuracy: 1.00 - ETA: 3s - loss: 3.5039e-04 - accuracy: 1.00 - ETA: 3s - loss: 3.4879e-04 - accuracy: 1.00 - ETA: 3s - loss: 3.4729e-04 - accuracy: 1.00007000/7000 [==============================] - ETA: 3s - loss: 3.4560e-04 - accuracy: 1.00 - ETA: 3s - loss: 3.4427e-04 - accuracy: 1.00 - ETA: 3s - loss: 3.4239e-04 - accuracy: 1.00 - ETA: 3s - loss: 3.4295e-04 - accuracy: 1.00 - ETA: 3s - loss: 3.4117e-04 - accuracy: 1.00 - ETA: 3s - loss: 3.3985e-04 - accuracy: 1.00 - ETA: 2s - loss: 3.3803e-04 - accuracy: 1.00 - ETA: 2s - loss: 4.0786e-04 - accuracy: 1.00 - ETA: 2s - loss: 4.0977e-04 - accuracy: 1.00 - ETA: 2s - loss: 4.0777e-04 - accuracy: 1.00 - ETA: 2s - loss: 4.0589e-04 - accuracy: 1.00 - ETA: 2s - loss: 6.5704e-04 - accuracy: 0.99 - ETA: 2s - loss: 6.5404e-04 - accuracy: 0.99 - ETA: 2s - loss: 6.6778e-04 - accuracy: 0.99 - ETA: 2s - loss: 6.7655e-04 - accuracy: 0.99 - ETA: 2s - loss: 0.0012 - accuracy: 0.9997   - ETA: 2s - loss: 0.0012 - accuracy: 0.99 - ETA: 2s - loss: 0.0049 - accuracy: 0.99 - ETA: 2s - loss: 0.0057 - accuracy: 0.99 - ETA: 1s - loss: 0.0350 - accuracy: 0.99 - ETA: 1s - loss: 0.0400 - accuracy: 0.99 - ETA: 1s - loss: 0.0590 - accuracy: 0.99 - ETA: 1s - loss: 0.0588 - accuracy: 0.99 - ETA: 1s - loss: 0.0598 - accuracy: 0.98 - ETA: 1s - loss: 0.0732 - accuracy: 0.98 - ETA: 1s - loss: 0.0754 - accuracy: 0.98 - ETA: 1s - loss: 0.0759 - accuracy: 0.98 - ETA: 1s - loss: 0.0775 - accuracy: 0.98 - ETA: 1s - loss: 0.0806 - accuracy: 0.98 - ETA: 1s - loss: 0.0843 - accuracy: 0.97 - ETA: 1s - loss: 0.0875 - accuracy: 0.97 - ETA: 0s - loss: 0.0903 - accuracy: 0.97 - ETA: 0s - loss: 0.0929 - accuracy: 0.97 - ETA: 0s - loss: 0.0952 - accuracy: 0.96 - ETA: 0s - loss: 0.0969 - accuracy: 0.96 - ETA: 0s - loss: 0.0980 - accuracy: 0.96 - ETA: 0s - loss: 0.0997 - accuracy: 0.96 - ETA: 0s - loss: 0.1019 - accuracy: 0.96 - ETA: 0s - loss: 0.1037 - accuracy: 0.96 - ETA: 0s - loss: 0.1049 - accuracy: 0.96 - ETA: 0s - loss: 0.1071 - accuracy: 0.96 - ETA: 0s - loss: 0.1089 - accuracy: 0.96 - ETA: 0s - loss: 0.1098 - accuracy: 0.96 - ETA: 0s - loss: 0.1103 - accuracy: 0.96 - 17s 2ms/sample - loss: 0.1107 - accuracy: 0.9604\n",
      "Epoch 10/10\n"
     ]
    },
    {
     "name": "stdout",
     "output_type": "stream",
     "text": [
      "6080/7000 [=========================>....] - ETA: 15s - loss: 0.1260 - accuracy: 1.000 - ETA: 16s - loss: 0.5155 - accuracy: 0.968 - ETA: 16s - loss: 0.3628 - accuracy: 0.979 - ETA: 16s - loss: 0.3044 - accuracy: 0.976 - ETA: 16s - loss: 0.2760 - accuracy: 0.975 - ETA: 16s - loss: 0.2374 - accuracy: 0.979 - ETA: 15s - loss: 0.2099 - accuracy: 0.982 - ETA: 15s - loss: 0.2016 - accuracy: 0.968 - ETA: 15s - loss: 0.1814 - accuracy: 0.972 - ETA: 15s - loss: 0.1651 - accuracy: 0.975 - ETA: 15s - loss: 0.1512 - accuracy: 0.977 - ETA: 15s - loss: 0.1409 - accuracy: 0.979 - ETA: 15s - loss: 0.1318 - accuracy: 0.980 - ETA: 15s - loss: 0.1243 - accuracy: 0.982 - ETA: 15s - loss: 0.1169 - accuracy: 0.983 - ETA: 15s - loss: 0.1101 - accuracy: 0.984 - ETA: 15s - loss: 0.1042 - accuracy: 0.985 - ETA: 15s - loss: 0.0993 - accuracy: 0.986 - ETA: 15s - loss: 0.0954 - accuracy: 0.986 - ETA: 15s - loss: 0.0909 - accuracy: 0.987 - ETA: 15s - loss: 0.0868 - accuracy: 0.988 - ETA: 15s - loss: 0.0831 - accuracy: 0.988 - ETA: 14s - loss: 0.0796 - accuracy: 0.989 - ETA: 14s - loss: 0.0765 - accuracy: 0.989 - ETA: 14s - loss: 0.0736 - accuracy: 0.990 - ETA: 14s - loss: 0.0709 - accuracy: 0.990 - ETA: 14s - loss: 0.0683 - accuracy: 0.990 - ETA: 14s - loss: 0.0662 - accuracy: 0.991 - ETA: 14s - loss: 0.0643 - accuracy: 0.991 - ETA: 14s - loss: 0.0628 - accuracy: 0.991 - ETA: 14s - loss: 0.0610 - accuracy: 0.991 - ETA: 14s - loss: 0.0592 - accuracy: 0.992 - ETA: 14s - loss: 0.0577 - accuracy: 0.992 - ETA: 14s - loss: 0.0564 - accuracy: 0.992 - ETA: 14s - loss: 0.0549 - accuracy: 0.992 - ETA: 13s - loss: 0.0536 - accuracy: 0.993 - ETA: 13s - loss: 0.0524 - accuracy: 0.993 - ETA: 13s - loss: 0.0511 - accuracy: 0.993 - ETA: 13s - loss: 0.0499 - accuracy: 0.993 - ETA: 13s - loss: 0.0487 - accuracy: 0.993 - ETA: 13s - loss: 0.0475 - accuracy: 0.993 - ETA: 13s - loss: 0.0464 - accuracy: 0.994 - ETA: 13s - loss: 0.0466 - accuracy: 0.993 - ETA: 13s - loss: 0.0458 - accuracy: 0.993 - ETA: 13s - loss: 0.0448 - accuracy: 0.993 - ETA: 13s - loss: 0.0439 - accuracy: 0.993 - ETA: 13s - loss: 0.0429 - accuracy: 0.994 - ETA: 12s - loss: 0.0420 - accuracy: 0.994 - ETA: 12s - loss: 0.0417 - accuracy: 0.993 - ETA: 12s - loss: 0.0409 - accuracy: 0.993 - ETA: 12s - loss: 0.0402 - accuracy: 0.993 - ETA: 12s - loss: 0.0394 - accuracy: 0.994 - ETA: 12s - loss: 0.0389 - accuracy: 0.994 - ETA: 12s - loss: 0.0382 - accuracy: 0.994 - ETA: 12s - loss: 0.0375 - accuracy: 0.994 - ETA: 12s - loss: 0.0369 - accuracy: 0.994 - ETA: 12s - loss: 0.0363 - accuracy: 0.994 - ETA: 12s - loss: 0.0358 - accuracy: 0.994 - ETA: 12s - loss: 0.0353 - accuracy: 0.994 - ETA: 12s - loss: 0.0348 - accuracy: 0.994 - ETA: 12s - loss: 0.0343 - accuracy: 0.994 - ETA: 11s - loss: 0.0337 - accuracy: 0.995 - ETA: 11s - loss: 0.0333 - accuracy: 0.995 - ETA: 11s - loss: 0.0327 - accuracy: 0.995 - ETA: 11s - loss: 0.0323 - accuracy: 0.995 - ETA: 11s - loss: 0.0318 - accuracy: 0.995 - ETA: 11s - loss: 0.0314 - accuracy: 0.995 - ETA: 11s - loss: 0.0310 - accuracy: 0.995 - ETA: 11s - loss: 0.0305 - accuracy: 0.995 - ETA: 11s - loss: 0.0304 - accuracy: 0.995 - ETA: 11s - loss: 0.0301 - accuracy: 0.995 - ETA: 11s - loss: 0.0297 - accuracy: 0.995 - ETA: 11s - loss: 0.0293 - accuracy: 0.995 - ETA: 11s - loss: 0.0289 - accuracy: 0.995 - ETA: 10s - loss: 0.0285 - accuracy: 0.995 - ETA: 10s - loss: 0.0281 - accuracy: 0.995 - ETA: 10s - loss: 0.0279 - accuracy: 0.995 - ETA: 10s - loss: 0.0275 - accuracy: 0.995 - ETA: 10s - loss: 0.0277 - accuracy: 0.995 - ETA: 10s - loss: 0.0274 - accuracy: 0.995 - ETA: 10s - loss: 0.0271 - accuracy: 0.995 - ETA: 10s - loss: 0.0268 - accuracy: 0.995 - ETA: 10s - loss: 0.0264 - accuracy: 0.995 - ETA: 10s - loss: 0.0267 - accuracy: 0.995 - ETA: 10s - loss: 0.0264 - accuracy: 0.995 - ETA: 10s - loss: 0.0261 - accuracy: 0.995 - ETA: 10s - loss: 0.0258 - accuracy: 0.995 - ETA: 9s - loss: 0.0255 - accuracy: 0.995 - ETA: 9s - loss: 0.0252 - accuracy: 0.99 - ETA: 9s - loss: 0.0250 - accuracy: 0.99 - ETA: 9s - loss: 0.0248 - accuracy: 0.99 - ETA: 9s - loss: 0.0245 - accuracy: 0.99 - ETA: 9s - loss: 0.0242 - accuracy: 0.99 - ETA: 9s - loss: 0.0240 - accuracy: 0.99 - ETA: 9s - loss: 0.0240 - accuracy: 0.99 - ETA: 9s - loss: 0.0238 - accuracy: 0.99 - ETA: 9s - loss: 0.0235 - accuracy: 0.99 - ETA: 9s - loss: 0.0233 - accuracy: 0.99 - ETA: 9s - loss: 0.0230 - accuracy: 0.99 - ETA: 9s - loss: 0.0229 - accuracy: 0.99 - ETA: 8s - loss: 0.0227 - accuracy: 0.99 - ETA: 8s - loss: 0.0226 - accuracy: 0.99 - ETA: 8s - loss: 0.0224 - accuracy: 0.99 - ETA: 8s - loss: 0.0222 - accuracy: 0.99 - ETA: 8s - loss: 0.0220 - accuracy: 0.99 - ETA: 8s - loss: 0.0218 - accuracy: 0.99 - ETA: 8s - loss: 0.0216 - accuracy: 0.99 - ETA: 8s - loss: 0.0214 - accuracy: 0.99 - ETA: 8s - loss: 0.0212 - accuracy: 0.99 - ETA: 8s - loss: 0.0210 - accuracy: 0.99 - ETA: 8s - loss: 0.0208 - accuracy: 0.99 - ETA: 8s - loss: 0.0206 - accuracy: 0.99 - ETA: 8s - loss: 0.0204 - accuracy: 0.99 - ETA: 7s - loss: 0.0203 - accuracy: 0.99 - ETA: 7s - loss: 0.0201 - accuracy: 0.99 - ETA: 7s - loss: 0.0199 - accuracy: 0.99 - ETA: 7s - loss: 0.0198 - accuracy: 0.99 - ETA: 7s - loss: 0.0196 - accuracy: 0.99 - ETA: 7s - loss: 0.0195 - accuracy: 0.99 - ETA: 7s - loss: 0.0193 - accuracy: 0.99 - ETA: 7s - loss: 0.0192 - accuracy: 0.99 - ETA: 7s - loss: 0.0190 - accuracy: 0.99 - ETA: 7s - loss: 0.0189 - accuracy: 0.99 - ETA: 7s - loss: 0.0187 - accuracy: 0.99 - ETA: 7s - loss: 0.0186 - accuracy: 0.99 - ETA: 7s - loss: 0.0184 - accuracy: 0.99 - ETA: 7s - loss: 0.0183 - accuracy: 0.99 - ETA: 6s - loss: 0.0182 - accuracy: 0.99 - ETA: 6s - loss: 0.0180 - accuracy: 0.99 - ETA: 6s - loss: 0.0179 - accuracy: 0.99 - ETA: 6s - loss: 0.0178 - accuracy: 0.99 - ETA: 6s - loss: 0.0176 - accuracy: 0.99 - ETA: 6s - loss: 0.0175 - accuracy: 0.99 - ETA: 6s - loss: 0.0174 - accuracy: 0.99 - ETA: 6s - loss: 0.0172 - accuracy: 0.99 - ETA: 6s - loss: 0.0171 - accuracy: 0.99 - ETA: 6s - loss: 0.0170 - accuracy: 0.99 - ETA: 6s - loss: 0.0169 - accuracy: 0.99 - ETA: 6s - loss: 0.0168 - accuracy: 0.99 - ETA: 6s - loss: 0.0166 - accuracy: 0.99 - ETA: 5s - loss: 0.0165 - accuracy: 0.99 - ETA: 5s - loss: 0.0164 - accuracy: 0.99 - ETA: 5s - loss: 0.0163 - accuracy: 0.99 - ETA: 5s - loss: 0.0162 - accuracy: 0.99 - ETA: 5s - loss: 0.0161 - accuracy: 0.99 - ETA: 5s - loss: 0.0160 - accuracy: 0.99 - ETA: 5s - loss: 0.0159 - accuracy: 0.99 - ETA: 5s - loss: 0.0158 - accuracy: 0.99 - ETA: 5s - loss: 0.0157 - accuracy: 0.99 - ETA: 5s - loss: 0.0156 - accuracy: 0.99 - ETA: 5s - loss: 0.0155 - accuracy: 0.99 - ETA: 5s - loss: 0.0154 - accuracy: 0.99 - ETA: 5s - loss: 0.0153 - accuracy: 0.99 - ETA: 4s - loss: 0.0152 - accuracy: 0.99 - ETA: 4s - loss: 0.0151 - accuracy: 0.99 - ETA: 4s - loss: 0.0150 - accuracy: 0.99 - ETA: 4s - loss: 0.0149 - accuracy: 0.99 - ETA: 4s - loss: 0.0148 - accuracy: 0.99 - ETA: 4s - loss: 0.0147 - accuracy: 0.99 - ETA: 4s - loss: 0.0146 - accuracy: 0.99 - ETA: 4s - loss: 0.0145 - accuracy: 0.99 - ETA: 4s - loss: 0.0145 - accuracy: 0.99 - ETA: 4s - loss: 0.0144 - accuracy: 0.99 - ETA: 4s - loss: 0.0143 - accuracy: 0.99 - ETA: 4s - loss: 0.0142 - accuracy: 0.99 - ETA: 4s - loss: 0.0141 - accuracy: 0.99 - ETA: 3s - loss: 0.0140 - accuracy: 0.99 - ETA: 3s - loss: 0.0140 - accuracy: 0.99 - ETA: 3s - loss: 0.0139 - accuracy: 0.99 - ETA: 3s - loss: 0.0138 - accuracy: 0.99 - ETA: 3s - loss: 0.0137 - accuracy: 0.99 - ETA: 3s - loss: 0.0137 - accuracy: 0.99 - ETA: 3s - loss: 0.0136 - accuracy: 0.99 - ETA: 3s - loss: 0.0135 - accuracy: 0.99 - ETA: 3s - loss: 0.0135 - accuracy: 0.99 - ETA: 3s - loss: 0.0134 - accuracy: 0.99 - ETA: 3s - loss: 0.0137 - accuracy: 0.99 - ETA: 3s - loss: 0.0136 - accuracy: 0.99 - ETA: 3s - loss: 0.0135 - accuracy: 0.99 - ETA: 2s - loss: 0.0135 - accuracy: 0.99 - ETA: 2s - loss: 0.0136 - accuracy: 0.99 - ETA: 2s - loss: 0.0135 - accuracy: 0.99 - ETA: 2s - loss: 0.0134 - accuracy: 0.99 - ETA: 2s - loss: 0.0134 - accuracy: 0.99 - ETA: 2s - loss: 0.0133 - accuracy: 0.99 - ETA: 2s - loss: 0.0132 - accuracy: 0.99 - ETA: 2s - loss: 0.0132 - accuracy: 0.99 - ETA: 2s - loss: 0.0131 - accuracy: 0.99 - ETA: 2s - loss: 0.0131 - accuracy: 0.99 - ETA: 2s - loss: 0.0130 - accuracy: 0.9977"
     ]
    },
    {
     "name": "stdout",
     "output_type": "stream",
     "text": [
      "7000/7000 [==============================] - ETA: 2s - loss: 0.0129 - accuracy: 0.99 - ETA: 2s - loss: 0.0130 - accuracy: 0.99 - ETA: 1s - loss: 0.0130 - accuracy: 0.99 - ETA: 1s - loss: 0.0129 - accuracy: 0.99 - ETA: 1s - loss: 0.0129 - accuracy: 0.99 - ETA: 1s - loss: 0.0128 - accuracy: 0.99 - ETA: 1s - loss: 0.0127 - accuracy: 0.99 - ETA: 1s - loss: 0.0127 - accuracy: 0.99 - ETA: 1s - loss: 0.0127 - accuracy: 0.99 - ETA: 1s - loss: 0.0126 - accuracy: 0.99 - ETA: 1s - loss: 0.0126 - accuracy: 0.99 - ETA: 1s - loss: 0.0125 - accuracy: 0.99 - ETA: 1s - loss: 0.0124 - accuracy: 0.99 - ETA: 1s - loss: 0.0124 - accuracy: 0.99 - ETA: 1s - loss: 0.0123 - accuracy: 0.99 - ETA: 0s - loss: 0.0123 - accuracy: 0.99 - ETA: 0s - loss: 0.0122 - accuracy: 0.99 - ETA: 0s - loss: 0.0122 - accuracy: 0.99 - ETA: 0s - loss: 0.0121 - accuracy: 0.99 - ETA: 0s - loss: 0.0121 - accuracy: 0.99 - ETA: 0s - loss: 0.0120 - accuracy: 0.99 - ETA: 0s - loss: 0.0120 - accuracy: 0.99 - ETA: 0s - loss: 0.0119 - accuracy: 0.99 - ETA: 0s - loss: 0.0119 - accuracy: 0.99 - ETA: 0s - loss: 0.0118 - accuracy: 0.99 - ETA: 0s - loss: 0.0118 - accuracy: 0.99 - ETA: 0s - loss: 0.0117 - accuracy: 0.99 - ETA: 0s - loss: 0.0117 - accuracy: 0.99 - 17s 2ms/sample - loss: 0.0117 - accuracy: 0.9979\n"
     ]
    }
   ],
   "source": [
    "history = model.fit(trainData, trainLabels, epochs=10)"
   ]
  },
  {
   "cell_type": "code",
   "execution_count": 198,
   "metadata": {},
   "outputs": [],
   "source": [
    "acy = history.history['accuracy']\n",
    "loss = history.history['loss']"
   ]
  },
  {
   "cell_type": "code",
   "execution_count": 199,
   "metadata": {},
   "outputs": [
    {
     "data": {
      "image/png": "[encoded data removed]",
      "text/plain": [
       "<Figure size 1152x576 with 2 Axes>"
      ]
     },
     "metadata": {
      "needs_background": "light"
     },
     "output_type": "display_data"
    }
   ],
   "source": [
    "fig, axes = plt.subplots(ncols=2, figsize=(16, 8))\n",
    "axes[0].plot(acy)\n",
    "axes[1].plot(loss)\n",
    "plt.show()"
   ]
  },
  {
   "cell_type": "code",
   "execution_count": 200,
   "metadata": {},
   "outputs": [
    {
     "data": {
      "text/plain": [
       "array([[9.6966176e-07, 3.4910352e-07, 9.9999869e-01, 3.2000024e-11],\n",
       "       [8.8533934e-06, 1.1090344e-07, 9.9999106e-01, 5.1052401e-10],\n",
       "       [3.2188000e-17, 9.9999189e-01, 8.0626351e-06, 1.4083975e-15],\n",
       "       ...,\n",
       "       [7.1792806e-06, 1.9973252e-06, 9.9999082e-01, 8.0025375e-10],\n",
       "       [6.7182455e-16, 9.9996614e-01, 3.3909211e-05, 3.6693099e-15],\n",
       "       [9.0885500e-08, 3.9561443e-02, 9.6043825e-01, 2.7195054e-07]],\n",
       "      dtype=float32)"
      ]
     },
     "execution_count": 200,
     "metadata": {},
     "output_type": "execute_result"
    }
   ],
   "source": [
    "result = model.predict(testData)\n",
    "result"
   ]
  },
  {
   "cell_type": "code",
   "execution_count": 201,
   "metadata": {},
   "outputs": [
    {
     "data": {
      "text/plain": [
       "array([[2.],\n",
       "       [2.],\n",
       "       [1.],\n",
       "       ...,\n",
       "       [2.],\n",
       "       [1.],\n",
       "       [2.]])"
      ]
     },
     "execution_count": 201,
     "metadata": {},
     "output_type": "execute_result"
    }
   ],
   "source": [
    "array = np.zeros((len(result), 1))\n",
    "for i in range(len(result)):\n",
    "    array[i] = np.argmax(result[i])\n",
    "array\n",
    "    "
   ]
  },
  {
   "cell_type": "code",
   "execution_count": 202,
   "metadata": {},
   "outputs": [
    {
     "data": {
      "text/plain": [
       "4054"
      ]
     },
     "execution_count": 202,
     "metadata": {},
     "output_type": "execute_result"
    }
   ],
   "source": [
    "num = 0\n",
    "for i in range(len(array)):\n",
    "    if array[i, 0] == testLabels[i]:\n",
    "        num += 1\n",
    "num"
   ]
  },
  {
   "cell_type": "code",
   "execution_count": 203,
   "metadata": {},
   "outputs": [
    {
     "data": {
      "text/plain": [
       "1.0"
      ]
     },
     "execution_count": 203,
     "metadata": {},
     "output_type": "execute_result"
    }
   ],
   "source": [
    "num/testLabels.shape[0]"
   ]
  },
  {
   "cell_type": "code",
   "execution_count": 205,
   "metadata": {},
   "outputs": [
    {
     "data": {
      "image/png": "[encoded data removed]",
      "text/plain": [
       "<Figure size 1152x576 with 2 Axes>"
      ]
     },
     "metadata": {
      "needs_background": "light"
     },
     "output_type": "display_data"
    }
   ],
   "source": [
    "fig, axes = plt.subplots(ncols=2, figsize=(16, 8))\n",
    "axes[0].scatter(range(testLabels.shape[0]), testLabels, s=0.2, c='c')\n",
    "axes[1].scatter(range(trainLabels.shape[0]), trainLabels, s=0.2, c='r')\n",
    "plt.show()"
   ]
  },
  {
   "cell_type": "code",
   "execution_count": 163,
   "metadata": {},
   "outputs": [],
   "source": [
    "net = nn.Sequential()\n",
    "net.add(nn.Conv2D(channels=6, kernel_size=5, activation='sigmoid'),\n",
    "            nn.MaxPool2D(pool_size=2, strides=2),\n",
    "            nn.Conv2D(channels=16, kernel_size=5, activation='sigmoid'),\n",
    "            nn.MaxPool2D(pool_size=2, strides=2),\n",
    "            # Dense会默认将(批量⼤⼩, 通道, ⾼, 宽)形状的输⼊转换成\n",
    "            # (批量⼤⼩, 通道* ⾼* 宽)形状的输⼊\n",
    "            nn.Dense(120, activation='sigmoid'),\n",
    "            nn.Dense(84, activation='sigmoid'),\n",
    "            nn.Dense(10))"
   ]
  },
  {
   "cell_type": "code",
   "execution_count": 140,
   "metadata": {
    "scrolled": true
   },
   "outputs": [
    {
     "name": "stdout",
     "output_type": "stream",
     "text": [
      "conv30 output shape:\t (168, 96, 10, 10)\n",
      "pool18 output shape:\t (168, 1, 24, 24)\n",
      "conv31 output shape:\t (168, 256, 50, 50)\n",
      "pool19 output shape:\t (168, 1, 24, 24)\n",
      "conv32 output shape:\t (168, 384, 50, 50)\n",
      "conv33 output shape:\t (168, 384, 50, 50)\n",
      "conv34 output shape:\t (168, 256, 50, 50)\n",
      "pool20 output shape:\t (168, 1, 24, 24)\n",
      "dense18 output shape:\t (168, 4096)\n",
      "dropout12 output shape:\t (168, 1, 50, 50)\n",
      "dense19 output shape:\t (168, 4096)\n",
      "dropout13 output shape:\t (168, 1, 50, 50)\n",
      "dense20 output shape:\t (168, 2)\n"
     ]
    }
   ],
   "source": [
    "X = nd.random.uniform(shape=(1, 1, 224, 224))\n",
    "net.initialize()\n",
    "for layer in net:\n",
    "    X = layer(nd.array(dataCs137))\n",
    "    print(layer.name, 'output shape:\\t', X.shape)"
   ]
  },
  {
   "cell_type": "code",
   "execution_count": 164,
   "metadata": {},
   "outputs": [
    {
     "name": "stdout",
     "output_type": "stream",
     "text": [
      "conv40 output shape:\t (1, 6, 220, 220)\n",
      "pool24 output shape:\t (1, 6, 110, 110)\n",
      "conv41 output shape:\t (1, 16, 106, 106)\n",
      "pool25 output shape:\t (1, 16, 53, 53)\n",
      "dense24 output shape:\t (1, 120)\n",
      "dense25 output shape:\t (1, 84)\n",
      "dense26 output shape:\t (1, 10)\n"
     ]
    }
   ],
   "source": [
    "X = nd.random.uniform(shape=(1, 1, 224, 224))\n",
    "net.initialize()\n",
    "for layer in net:\n",
    "    X = layer(X)\n",
    "    print(layer.name, 'output shape:\\t', X.shape)"
   ]
  },
  {
   "cell_type": "code",
   "execution_count": 132,
   "metadata": {},
   "outputs": [],
   "source": [
    "nn.Conv2D?"
   ]
  },
  {
   "cell_type": "code",
   "execution_count": 157,
   "metadata": {},
   "outputs": [
    {
     "data": {
      "text/plain": [
       "((200, 1, 50, 50), (136, 1, 50, 50))"
      ]
     },
     "execution_count": 157,
     "metadata": {},
     "output_type": "execute_result"
    }
   ],
   "source": [
    "batch_size = 32\n",
    "index = np.random.randint(336, size=336)\n",
    "dataSet = dataSet[index, :, :, :]\n",
    "train_iter = nd.array(dataSet[: 200, :, :, :])\n",
    "test_iter = nd.array(dataSet[200:, :, :, :])\n",
    "\n",
    "train_iter.shape, test_iter.shape"
   ]
  },
  {
   "cell_type": "code",
   "execution_count": 158,
   "metadata": {
    "collapsed": true
   },
   "outputs": [
    {
     "name": "stdout",
     "output_type": "stream",
     "text": [
      "training on cpu(0)\n"
     ]
    },
    {
     "ename": "ValueError",
     "evalue": "not enough values to unpack (expected 2, got 1)",
     "output_type": "error",
     "traceback": [
      "\u001b[1;31m---------------------------------------------------------------------------\u001b[0m",
      "\u001b[1;31mValueError\u001b[0m                                Traceback (most recent call last)",
      "\u001b[1;32m<ipython-input-158-9d127199588b>\u001b[0m in \u001b[0;36m<module>\u001b[1;34m\u001b[0m\n\u001b[0;32m      2\u001b[0m \u001b[0mnet\u001b[0m\u001b[1;33m.\u001b[0m\u001b[0minitialize\u001b[0m\u001b[1;33m(\u001b[0m\u001b[0mforce_reinit\u001b[0m\u001b[1;33m=\u001b[0m\u001b[1;32mTrue\u001b[0m\u001b[1;33m,\u001b[0m \u001b[0mctx\u001b[0m\u001b[1;33m=\u001b[0m\u001b[0mctx\u001b[0m\u001b[1;33m,\u001b[0m \u001b[0minit\u001b[0m\u001b[1;33m=\u001b[0m\u001b[0minit\u001b[0m\u001b[1;33m.\u001b[0m\u001b[0mXavier\u001b[0m\u001b[1;33m(\u001b[0m\u001b[1;33m)\u001b[0m\u001b[1;33m)\u001b[0m\u001b[1;33m\u001b[0m\u001b[1;33m\u001b[0m\u001b[0m\n\u001b[0;32m      3\u001b[0m \u001b[0mtrainer\u001b[0m \u001b[1;33m=\u001b[0m \u001b[0mgluon\u001b[0m\u001b[1;33m.\u001b[0m\u001b[0mTrainer\u001b[0m\u001b[1;33m(\u001b[0m\u001b[0mnet\u001b[0m\u001b[1;33m.\u001b[0m\u001b[0mcollect_params\u001b[0m\u001b[1;33m(\u001b[0m\u001b[1;33m)\u001b[0m\u001b[1;33m,\u001b[0m \u001b[1;34m'sgd'\u001b[0m\u001b[1;33m,\u001b[0m \u001b[1;33m{\u001b[0m\u001b[1;34m'learning_rate'\u001b[0m\u001b[1;33m:\u001b[0m \u001b[0mlr\u001b[0m\u001b[1;33m}\u001b[0m\u001b[1;33m)\u001b[0m\u001b[1;33m\u001b[0m\u001b[1;33m\u001b[0m\u001b[0m\n\u001b[1;32m----> 4\u001b[1;33m \u001b[0md2l\u001b[0m\u001b[1;33m.\u001b[0m\u001b[0mtrain_ch5\u001b[0m\u001b[1;33m(\u001b[0m\u001b[0mnet\u001b[0m\u001b[1;33m,\u001b[0m \u001b[0mtrain_iter\u001b[0m\u001b[1;33m,\u001b[0m \u001b[0mtest_iter\u001b[0m\u001b[1;33m,\u001b[0m \u001b[0mbatch_size\u001b[0m\u001b[1;33m,\u001b[0m \u001b[0mtrainer\u001b[0m\u001b[1;33m,\u001b[0m \u001b[0mctx\u001b[0m\u001b[1;33m,\u001b[0m \u001b[0mnum_epochs\u001b[0m\u001b[1;33m)\u001b[0m\u001b[1;33m\u001b[0m\u001b[1;33m\u001b[0m\u001b[0m\n\u001b[0m",
      "\u001b[1;32me:\\anaconda\\envs\\deeplearning\\lib\\site-packages\\d2lzh\\utils.py\u001b[0m in \u001b[0;36mtrain_ch5\u001b[1;34m(net, train_iter, test_iter, batch_size, trainer, ctx, num_epochs)\u001b[0m\n\u001b[0;32m    669\u001b[0m     \u001b[1;32mfor\u001b[0m \u001b[0mepoch\u001b[0m \u001b[1;32min\u001b[0m \u001b[0mrange\u001b[0m\u001b[1;33m(\u001b[0m\u001b[0mnum_epochs\u001b[0m\u001b[1;33m)\u001b[0m\u001b[1;33m:\u001b[0m\u001b[1;33m\u001b[0m\u001b[1;33m\u001b[0m\u001b[0m\n\u001b[0;32m    670\u001b[0m         \u001b[0mtrain_l_sum\u001b[0m\u001b[1;33m,\u001b[0m \u001b[0mtrain_acc_sum\u001b[0m\u001b[1;33m,\u001b[0m \u001b[0mn\u001b[0m\u001b[1;33m,\u001b[0m \u001b[0mstart\u001b[0m \u001b[1;33m=\u001b[0m \u001b[1;36m0.0\u001b[0m\u001b[1;33m,\u001b[0m \u001b[1;36m0.0\u001b[0m\u001b[1;33m,\u001b[0m \u001b[1;36m0\u001b[0m\u001b[1;33m,\u001b[0m \u001b[0mtime\u001b[0m\u001b[1;33m.\u001b[0m\u001b[0mtime\u001b[0m\u001b[1;33m(\u001b[0m\u001b[1;33m)\u001b[0m\u001b[1;33m\u001b[0m\u001b[1;33m\u001b[0m\u001b[0m\n\u001b[1;32m--> 671\u001b[1;33m         \u001b[1;32mfor\u001b[0m \u001b[0mX\u001b[0m\u001b[1;33m,\u001b[0m \u001b[0my\u001b[0m \u001b[1;32min\u001b[0m \u001b[0mtrain_iter\u001b[0m\u001b[1;33m:\u001b[0m\u001b[1;33m\u001b[0m\u001b[1;33m\u001b[0m\u001b[0m\n\u001b[0m\u001b[0;32m    672\u001b[0m             \u001b[0mX\u001b[0m\u001b[1;33m,\u001b[0m \u001b[0my\u001b[0m \u001b[1;33m=\u001b[0m \u001b[0mX\u001b[0m\u001b[1;33m.\u001b[0m\u001b[0mas_in_context\u001b[0m\u001b[1;33m(\u001b[0m\u001b[0mctx\u001b[0m\u001b[1;33m)\u001b[0m\u001b[1;33m,\u001b[0m \u001b[0my\u001b[0m\u001b[1;33m.\u001b[0m\u001b[0mas_in_context\u001b[0m\u001b[1;33m(\u001b[0m\u001b[0mctx\u001b[0m\u001b[1;33m)\u001b[0m\u001b[1;33m\u001b[0m\u001b[1;33m\u001b[0m\u001b[0m\n\u001b[0;32m    673\u001b[0m             \u001b[1;32mwith\u001b[0m \u001b[0mautograd\u001b[0m\u001b[1;33m.\u001b[0m\u001b[0mrecord\u001b[0m\u001b[1;33m(\u001b[0m\u001b[1;33m)\u001b[0m\u001b[1;33m:\u001b[0m\u001b[1;33m\u001b[0m\u001b[1;33m\u001b[0m\u001b[0m\n",
      "\u001b[1;31mValueError\u001b[0m: not enough values to unpack (expected 2, got 1)"
     ]
    }
   ],
   "source": [
    "lr, num_epochs, ctx = 0.01, 5, d2l.try_gpu()\n",
    "net.initialize(force_reinit=True, ctx=ctx, init=init.Xavier())\n",
    "trainer = gluon.Trainer(net.collect_params(), 'sgd', {'learning_rate': lr})\n",
    "d2l.train_ch5(net, train_iter, test_iter, batch_size, trainer, ctx, num_epochs)"
   ]
  },
  {
   "cell_type": "code",
   "execution_count": 152,
   "metadata": {},
   "outputs": [],
   "source": [
    "net.collect_params?"
   ]
  },
  {
   "cell_type": "code",
   "execution_count": 166,
   "metadata": {},
   "outputs": [],
   "source": [
    "d2l.train_2d??"
   ]
  },
  {
   "cell_type": "code",
   "execution_count": 166,
   "metadata": {},
   "outputs": [],
   "source": [
    "n1 = pulseCs137.shape[1]//2500\n",
    "n2 = pulseCo.shape[1]//2500\n",
    "n3 = pulseCo60_Cs137.shape[1]//2500\n",
    "n4 = pulseEu155_Na22.shape[1]//2500\n",
    "nuc_ii = []\n",
    "\n",
    "dataSetPulse = np.zeros((n1 + n2 + n3 + n4, 2500))\n",
    "dataSetTime = np.zeros((n1 + n2 + n3 + n4, 2500))\n",
    "\n",
    "for i in range(n1):\n",
    "    dataSetPulse[i, :] = pulseCs137[0, i * 2500: i * 2500 + 2500]\n",
    "    dataSetTime[i, :] = realtimeCs137[0, i * 2500: i * 2500 + 2500]\n",
    "    nuc_ii.append(0) # Cs137 : 0\n",
    "for i in range(n2):\n",
    "    dataSetPulse[i + n1, :] = pulseCo[0, i * 2500: i * 2500 + 2500]\n",
    "    dataSetTime[i + n1, :] = realtimeCo[0, i * 2500: i * 2500 + 2500]\n",
    "    nuc_ii.append(1) # Co : 1\n",
    "for i in range(n3):\n",
    "    dataSetPulse[i + n1 + n2, :] = pulseCo60_Cs137[0, i * 2500: i * 2500 + 2500]\n",
    "    dataSetTime[i + n1 + n2, :] = realtimeCo60_Cs137[0, i * 2500: i * 2500 + 2500]\n",
    "    nuc_ii.append(2) # Co60 Cs 137  : 2\n",
    "for i in range(n4):\n",
    "    dataSetPulse[i + n1 + n2 + n3, :] = pulseEu155_Na22[0, i * 2500: i * 2500 + 2500]\n",
    "    dataSetTime[i + n1 + n2 + n3, :] = realtimeEu155_Na22[0, i * 2500: i * 2500 + 2500]\n",
    "    nuc_ii.append(3) # Eu155_Na22 : 3"
   ]
  },
  {
   "cell_type": "code",
   "execution_count": 167,
   "metadata": {},
   "outputs": [
    {
     "data": {
      "text/plain": [
       "(11135, 2500)"
      ]
     },
     "execution_count": 167,
     "metadata": {},
     "output_type": "execute_result"
    }
   ],
   "source": [
    "dataSetPulse.shape"
   ]
  },
  {
   "cell_type": "code",
   "execution_count": 168,
   "metadata": {},
   "outputs": [
    {
     "data": {
      "text/plain": [
       "(11135,)"
      ]
     },
     "execution_count": 168,
     "metadata": {},
     "output_type": "execute_result"
    }
   ],
   "source": [
    "aa = np.array(nuc_ii)\n",
    "aa.shape"
   ]
  },
  {
   "cell_type": "code",
   "execution_count": 169,
   "metadata": {},
   "outputs": [
    {
     "data": {
      "text/plain": [
       "(11135, 2501)"
      ]
     },
     "execution_count": 169,
     "metadata": {},
     "output_type": "execute_result"
    }
   ],
   "source": [
    "dataSet2 = np.hstack((dataSetPulse, aa.reshape(aa.shape[0], 1)))\n",
    "dataSet2.shape"
   ]
  },
  {
   "cell_type": "code",
   "execution_count": 170,
   "metadata": {
    "scrolled": true
   },
   "outputs": [
    {
     "data": {
      "text/html": [
       "<div>\n",
       "<style scoped>\n",
       "    .dataframe tbody tr th:only-of-type {\n",
       "        vertical-align: middle;\n",
       "    }\n",
       "\n",
       "    .dataframe tbody tr th {\n",
       "        vertical-align: top;\n",
       "    }\n",
       "\n",
       "    .dataframe thead th {\n",
       "        text-align: right;\n",
       "    }\n",
       "</style>\n",
       "<table border=\"1\" class=\"dataframe\">\n",
       "  <thead>\n",
       "    <tr style=\"text-align: right;\">\n",
       "      <th></th>\n",
       "      <th>0</th>\n",
       "      <th>1</th>\n",
       "      <th>2</th>\n",
       "      <th>3</th>\n",
       "      <th>4</th>\n",
       "      <th>5</th>\n",
       "      <th>6</th>\n",
       "      <th>7</th>\n",
       "      <th>8</th>\n",
       "      <th>9</th>\n",
       "      <th>...</th>\n",
       "      <th>2491</th>\n",
       "      <th>2492</th>\n",
       "      <th>2493</th>\n",
       "      <th>2494</th>\n",
       "      <th>2495</th>\n",
       "      <th>2496</th>\n",
       "      <th>2497</th>\n",
       "      <th>2498</th>\n",
       "      <th>2499</th>\n",
       "      <th>2500</th>\n",
       "    </tr>\n",
       "  </thead>\n",
       "  <tbody>\n",
       "    <tr>\n",
       "      <td>0</td>\n",
       "      <td>23.0</td>\n",
       "      <td>114.0</td>\n",
       "      <td>114.0</td>\n",
       "      <td>117.0</td>\n",
       "      <td>116.0</td>\n",
       "      <td>36.0</td>\n",
       "      <td>35.0</td>\n",
       "      <td>28.0</td>\n",
       "      <td>25.0</td>\n",
       "      <td>24.0</td>\n",
       "      <td>...</td>\n",
       "      <td>38.0</td>\n",
       "      <td>28.0</td>\n",
       "      <td>24.0</td>\n",
       "      <td>115.0</td>\n",
       "      <td>116.0</td>\n",
       "      <td>30.0</td>\n",
       "      <td>29.0</td>\n",
       "      <td>66.0</td>\n",
       "      <td>65.0</td>\n",
       "      <td>0.0</td>\n",
       "    </tr>\n",
       "    <tr>\n",
       "      <td>1</td>\n",
       "      <td>109.0</td>\n",
       "      <td>112.0</td>\n",
       "      <td>122.0</td>\n",
       "      <td>123.0</td>\n",
       "      <td>30.0</td>\n",
       "      <td>39.0</td>\n",
       "      <td>40.0</td>\n",
       "      <td>108.0</td>\n",
       "      <td>105.0</td>\n",
       "      <td>113.0</td>\n",
       "      <td>...</td>\n",
       "      <td>25.0</td>\n",
       "      <td>24.0</td>\n",
       "      <td>38.0</td>\n",
       "      <td>39.0</td>\n",
       "      <td>112.0</td>\n",
       "      <td>114.0</td>\n",
       "      <td>80.0</td>\n",
       "      <td>79.0</td>\n",
       "      <td>20.0</td>\n",
       "      <td>0.0</td>\n",
       "    </tr>\n",
       "    <tr>\n",
       "      <td>2</td>\n",
       "      <td>21.0</td>\n",
       "      <td>22.0</td>\n",
       "      <td>20.0</td>\n",
       "      <td>56.0</td>\n",
       "      <td>110.0</td>\n",
       "      <td>109.0</td>\n",
       "      <td>116.0</td>\n",
       "      <td>116.0</td>\n",
       "      <td>38.0</td>\n",
       "      <td>113.0</td>\n",
       "      <td>...</td>\n",
       "      <td>56.0</td>\n",
       "      <td>112.0</td>\n",
       "      <td>112.0</td>\n",
       "      <td>113.0</td>\n",
       "      <td>115.0</td>\n",
       "      <td>114.0</td>\n",
       "      <td>113.0</td>\n",
       "      <td>117.0</td>\n",
       "      <td>120.0</td>\n",
       "      <td>0.0</td>\n",
       "    </tr>\n",
       "    <tr>\n",
       "      <td>3</td>\n",
       "      <td>54.0</td>\n",
       "      <td>55.0</td>\n",
       "      <td>35.0</td>\n",
       "      <td>32.0</td>\n",
       "      <td>59.0</td>\n",
       "      <td>58.0</td>\n",
       "      <td>73.0</td>\n",
       "      <td>75.0</td>\n",
       "      <td>24.0</td>\n",
       "      <td>23.0</td>\n",
       "      <td>...</td>\n",
       "      <td>39.0</td>\n",
       "      <td>69.0</td>\n",
       "      <td>69.0</td>\n",
       "      <td>41.0</td>\n",
       "      <td>41.0</td>\n",
       "      <td>110.0</td>\n",
       "      <td>112.0</td>\n",
       "      <td>207.0</td>\n",
       "      <td>202.0</td>\n",
       "      <td>0.0</td>\n",
       "    </tr>\n",
       "    <tr>\n",
       "      <td>4</td>\n",
       "      <td>33.0</td>\n",
       "      <td>34.0</td>\n",
       "      <td>20.0</td>\n",
       "      <td>110.0</td>\n",
       "      <td>109.0</td>\n",
       "      <td>21.0</td>\n",
       "      <td>23.0</td>\n",
       "      <td>53.0</td>\n",
       "      <td>53.0</td>\n",
       "      <td>18.0</td>\n",
       "      <td>...</td>\n",
       "      <td>33.0</td>\n",
       "      <td>115.0</td>\n",
       "      <td>25.0</td>\n",
       "      <td>23.0</td>\n",
       "      <td>112.0</td>\n",
       "      <td>113.0</td>\n",
       "      <td>108.0</td>\n",
       "      <td>109.0</td>\n",
       "      <td>108.0</td>\n",
       "      <td>0.0</td>\n",
       "    </tr>\n",
       "    <tr>\n",
       "      <td>...</td>\n",
       "      <td>...</td>\n",
       "      <td>...</td>\n",
       "      <td>...</td>\n",
       "      <td>...</td>\n",
       "      <td>...</td>\n",
       "      <td>...</td>\n",
       "      <td>...</td>\n",
       "      <td>...</td>\n",
       "      <td>...</td>\n",
       "      <td>...</td>\n",
       "      <td>...</td>\n",
       "      <td>...</td>\n",
       "      <td>...</td>\n",
       "      <td>...</td>\n",
       "      <td>...</td>\n",
       "      <td>...</td>\n",
       "      <td>...</td>\n",
       "      <td>...</td>\n",
       "      <td>...</td>\n",
       "      <td>...</td>\n",
       "      <td>...</td>\n",
       "    </tr>\n",
       "    <tr>\n",
       "      <td>11130</td>\n",
       "      <td>25.0</td>\n",
       "      <td>23.0</td>\n",
       "      <td>20.0</td>\n",
       "      <td>23.0</td>\n",
       "      <td>16.0</td>\n",
       "      <td>15.0</td>\n",
       "      <td>27.0</td>\n",
       "      <td>30.0</td>\n",
       "      <td>35.0</td>\n",
       "      <td>37.0</td>\n",
       "      <td>...</td>\n",
       "      <td>219.0</td>\n",
       "      <td>18.0</td>\n",
       "      <td>19.0</td>\n",
       "      <td>19.0</td>\n",
       "      <td>39.0</td>\n",
       "      <td>38.0</td>\n",
       "      <td>36.0</td>\n",
       "      <td>37.0</td>\n",
       "      <td>36.0</td>\n",
       "      <td>3.0</td>\n",
       "    </tr>\n",
       "    <tr>\n",
       "      <td>11131</td>\n",
       "      <td>73.0</td>\n",
       "      <td>72.0</td>\n",
       "      <td>38.0</td>\n",
       "      <td>36.0</td>\n",
       "      <td>18.0</td>\n",
       "      <td>18.0</td>\n",
       "      <td>17.0</td>\n",
       "      <td>18.0</td>\n",
       "      <td>20.0</td>\n",
       "      <td>19.0</td>\n",
       "      <td>...</td>\n",
       "      <td>181.0</td>\n",
       "      <td>181.0</td>\n",
       "      <td>94.0</td>\n",
       "      <td>93.0</td>\n",
       "      <td>18.0</td>\n",
       "      <td>18.0</td>\n",
       "      <td>42.0</td>\n",
       "      <td>41.0</td>\n",
       "      <td>48.0</td>\n",
       "      <td>3.0</td>\n",
       "    </tr>\n",
       "    <tr>\n",
       "      <td>11132</td>\n",
       "      <td>50.0</td>\n",
       "      <td>34.0</td>\n",
       "      <td>35.0</td>\n",
       "      <td>16.0</td>\n",
       "      <td>17.0</td>\n",
       "      <td>41.0</td>\n",
       "      <td>42.0</td>\n",
       "      <td>64.0</td>\n",
       "      <td>64.0</td>\n",
       "      <td>89.0</td>\n",
       "      <td>...</td>\n",
       "      <td>44.0</td>\n",
       "      <td>46.0</td>\n",
       "      <td>96.0</td>\n",
       "      <td>97.0</td>\n",
       "      <td>62.0</td>\n",
       "      <td>63.0</td>\n",
       "      <td>19.0</td>\n",
       "      <td>19.0</td>\n",
       "      <td>35.0</td>\n",
       "      <td>3.0</td>\n",
       "    </tr>\n",
       "    <tr>\n",
       "      <td>11133</td>\n",
       "      <td>37.0</td>\n",
       "      <td>19.0</td>\n",
       "      <td>17.0</td>\n",
       "      <td>35.0</td>\n",
       "      <td>21.0</td>\n",
       "      <td>25.0</td>\n",
       "      <td>34.0</td>\n",
       "      <td>34.0</td>\n",
       "      <td>51.0</td>\n",
       "      <td>86.0</td>\n",
       "      <td>...</td>\n",
       "      <td>17.0</td>\n",
       "      <td>76.0</td>\n",
       "      <td>75.0</td>\n",
       "      <td>28.0</td>\n",
       "      <td>27.0</td>\n",
       "      <td>171.0</td>\n",
       "      <td>172.0</td>\n",
       "      <td>87.0</td>\n",
       "      <td>88.0</td>\n",
       "      <td>3.0</td>\n",
       "    </tr>\n",
       "    <tr>\n",
       "      <td>11134</td>\n",
       "      <td>71.0</td>\n",
       "      <td>69.0</td>\n",
       "      <td>91.0</td>\n",
       "      <td>88.0</td>\n",
       "      <td>90.0</td>\n",
       "      <td>89.0</td>\n",
       "      <td>61.0</td>\n",
       "      <td>60.0</td>\n",
       "      <td>42.0</td>\n",
       "      <td>42.0</td>\n",
       "      <td>...</td>\n",
       "      <td>47.0</td>\n",
       "      <td>48.0</td>\n",
       "      <td>74.0</td>\n",
       "      <td>75.0</td>\n",
       "      <td>18.0</td>\n",
       "      <td>18.0</td>\n",
       "      <td>54.0</td>\n",
       "      <td>53.0</td>\n",
       "      <td>81.0</td>\n",
       "      <td>3.0</td>\n",
       "    </tr>\n",
       "  </tbody>\n",
       "</table>\n",
       "<p>11135 rows × 2501 columns</p>\n",
       "</div>"
      ],
      "text/plain": [
       "        0      1      2      3      4      5      6      7      8      9     \\\n",
       "0       23.0  114.0  114.0  117.0  116.0   36.0   35.0   28.0   25.0   24.0   \n",
       "1      109.0  112.0  122.0  123.0   30.0   39.0   40.0  108.0  105.0  113.0   \n",
       "2       21.0   22.0   20.0   56.0  110.0  109.0  116.0  116.0   38.0  113.0   \n",
       "3       54.0   55.0   35.0   32.0   59.0   58.0   73.0   75.0   24.0   23.0   \n",
       "4       33.0   34.0   20.0  110.0  109.0   21.0   23.0   53.0   53.0   18.0   \n",
       "...      ...    ...    ...    ...    ...    ...    ...    ...    ...    ...   \n",
       "11130   25.0   23.0   20.0   23.0   16.0   15.0   27.0   30.0   35.0   37.0   \n",
       "11131   73.0   72.0   38.0   36.0   18.0   18.0   17.0   18.0   20.0   19.0   \n",
       "11132   50.0   34.0   35.0   16.0   17.0   41.0   42.0   64.0   64.0   89.0   \n",
       "11133   37.0   19.0   17.0   35.0   21.0   25.0   34.0   34.0   51.0   86.0   \n",
       "11134   71.0   69.0   91.0   88.0   90.0   89.0   61.0   60.0   42.0   42.0   \n",
       "\n",
       "       ...   2491   2492   2493   2494   2495   2496   2497   2498   2499  \\\n",
       "0      ...   38.0   28.0   24.0  115.0  116.0   30.0   29.0   66.0   65.0   \n",
       "1      ...   25.0   24.0   38.0   39.0  112.0  114.0   80.0   79.0   20.0   \n",
       "2      ...   56.0  112.0  112.0  113.0  115.0  114.0  113.0  117.0  120.0   \n",
       "3      ...   39.0   69.0   69.0   41.0   41.0  110.0  112.0  207.0  202.0   \n",
       "4      ...   33.0  115.0   25.0   23.0  112.0  113.0  108.0  109.0  108.0   \n",
       "...    ...    ...    ...    ...    ...    ...    ...    ...    ...    ...   \n",
       "11130  ...  219.0   18.0   19.0   19.0   39.0   38.0   36.0   37.0   36.0   \n",
       "11131  ...  181.0  181.0   94.0   93.0   18.0   18.0   42.0   41.0   48.0   \n",
       "11132  ...   44.0   46.0   96.0   97.0   62.0   63.0   19.0   19.0   35.0   \n",
       "11133  ...   17.0   76.0   75.0   28.0   27.0  171.0  172.0   87.0   88.0   \n",
       "11134  ...   47.0   48.0   74.0   75.0   18.0   18.0   54.0   53.0   81.0   \n",
       "\n",
       "       2500  \n",
       "0       0.0  \n",
       "1       0.0  \n",
       "2       0.0  \n",
       "3       0.0  \n",
       "4       0.0  \n",
       "...     ...  \n",
       "11130   3.0  \n",
       "11131   3.0  \n",
       "11132   3.0  \n",
       "11133   3.0  \n",
       "11134   3.0  \n",
       "\n",
       "[11135 rows x 2501 columns]"
      ]
     },
     "execution_count": 170,
     "metadata": {},
     "output_type": "execute_result"
    }
   ],
   "source": [
    "fr1 = pd.DataFrame(dataSet2)\n",
    "fr1"
   ]
  },
  {
   "cell_type": "code",
   "execution_count": 171,
   "metadata": {},
   "outputs": [
    {
     "data": {
      "text/html": [
       "<div>\n",
       "<style scoped>\n",
       "    .dataframe tbody tr th:only-of-type {\n",
       "        vertical-align: middle;\n",
       "    }\n",
       "\n",
       "    .dataframe tbody tr th {\n",
       "        vertical-align: top;\n",
       "    }\n",
       "\n",
       "    .dataframe thead th {\n",
       "        text-align: right;\n",
       "    }\n",
       "</style>\n",
       "<table border=\"1\" class=\"dataframe\">\n",
       "  <thead>\n",
       "    <tr style=\"text-align: right;\">\n",
       "      <th></th>\n",
       "      <th>0</th>\n",
       "      <th>1</th>\n",
       "      <th>2</th>\n",
       "      <th>3</th>\n",
       "      <th>4</th>\n",
       "      <th>5</th>\n",
       "      <th>6</th>\n",
       "      <th>7</th>\n",
       "      <th>8</th>\n",
       "      <th>9</th>\n",
       "      <th>...</th>\n",
       "      <th>2490</th>\n",
       "      <th>2491</th>\n",
       "      <th>2492</th>\n",
       "      <th>2493</th>\n",
       "      <th>2494</th>\n",
       "      <th>2495</th>\n",
       "      <th>2496</th>\n",
       "      <th>2497</th>\n",
       "      <th>2498</th>\n",
       "      <th>2499</th>\n",
       "    </tr>\n",
       "  </thead>\n",
       "  <tbody>\n",
       "    <tr>\n",
       "      <td>0</td>\n",
       "      <td>0.0220</td>\n",
       "      <td>0.1208</td>\n",
       "      <td>0.1460</td>\n",
       "      <td>0.1740</td>\n",
       "      <td>0.1986</td>\n",
       "      <td>0.6814</td>\n",
       "      <td>0.7060</td>\n",
       "      <td>0.8740</td>\n",
       "      <td>1.0720</td>\n",
       "      <td>1.0974</td>\n",
       "      <td>...</td>\n",
       "      <td>321.7622</td>\n",
       "      <td>321.7886</td>\n",
       "      <td>321.9280</td>\n",
       "      <td>321.9544</td>\n",
       "      <td>323.0024</td>\n",
       "      <td>323.0290</td>\n",
       "      <td>323.1992</td>\n",
       "      <td>323.2262</td>\n",
       "      <td>323.5290</td>\n",
       "      <td>323.5540</td>\n",
       "    </tr>\n",
       "    <tr>\n",
       "      <td>1</td>\n",
       "      <td>323.5892</td>\n",
       "      <td>323.6136</td>\n",
       "      <td>323.6346</td>\n",
       "      <td>323.6582</td>\n",
       "      <td>323.7582</td>\n",
       "      <td>323.9508</td>\n",
       "      <td>323.9758</td>\n",
       "      <td>324.0214</td>\n",
       "      <td>324.0476</td>\n",
       "      <td>324.2434</td>\n",
       "      <td>...</td>\n",
       "      <td>670.7084</td>\n",
       "      <td>671.1250</td>\n",
       "      <td>671.1500</td>\n",
       "      <td>671.3912</td>\n",
       "      <td>671.4160</td>\n",
       "      <td>671.5562</td>\n",
       "      <td>671.5828</td>\n",
       "      <td>671.7618</td>\n",
       "      <td>671.7884</td>\n",
       "      <td>672.3882</td>\n",
       "    </tr>\n",
       "    <tr>\n",
       "      <td>2</td>\n",
       "      <td>672.4158</td>\n",
       "      <td>673.4258</td>\n",
       "      <td>673.4524</td>\n",
       "      <td>673.5314</td>\n",
       "      <td>673.6350</td>\n",
       "      <td>673.6606</td>\n",
       "      <td>673.9064</td>\n",
       "      <td>673.9328</td>\n",
       "      <td>674.1066</td>\n",
       "      <td>674.7086</td>\n",
       "      <td>...</td>\n",
       "      <td>1018.2674</td>\n",
       "      <td>1018.2946</td>\n",
       "      <td>1018.3874</td>\n",
       "      <td>1018.4134</td>\n",
       "      <td>1018.7042</td>\n",
       "      <td>1018.7306</td>\n",
       "      <td>1018.7686</td>\n",
       "      <td>1018.7938</td>\n",
       "      <td>1018.9022</td>\n",
       "      <td>1018.9280</td>\n",
       "    </tr>\n",
       "    <tr>\n",
       "      <td>3</td>\n",
       "      <td>1019.1612</td>\n",
       "      <td>1019.1862</td>\n",
       "      <td>1019.6476</td>\n",
       "      <td>1019.6730</td>\n",
       "      <td>1019.7700</td>\n",
       "      <td>1019.7962</td>\n",
       "      <td>1020.5138</td>\n",
       "      <td>1020.5394</td>\n",
       "      <td>1020.6956</td>\n",
       "      <td>1020.7212</td>\n",
       "      <td>...</td>\n",
       "      <td>1357.7292</td>\n",
       "      <td>1357.7554</td>\n",
       "      <td>1358.1994</td>\n",
       "      <td>1358.2256</td>\n",
       "      <td>1358.6246</td>\n",
       "      <td>1358.6504</td>\n",
       "      <td>1359.1626</td>\n",
       "      <td>1359.1886</td>\n",
       "      <td>1359.3802</td>\n",
       "      <td>1359.4048</td>\n",
       "    </tr>\n",
       "    <tr>\n",
       "      <td>4</td>\n",
       "      <td>1359.5428</td>\n",
       "      <td>1359.5694</td>\n",
       "      <td>1359.8832</td>\n",
       "      <td>1360.1066</td>\n",
       "      <td>1360.1322</td>\n",
       "      <td>1360.1530</td>\n",
       "      <td>1360.1770</td>\n",
       "      <td>1360.4792</td>\n",
       "      <td>1360.5044</td>\n",
       "      <td>1360.8108</td>\n",
       "      <td>...</td>\n",
       "      <td>1680.7774</td>\n",
       "      <td>1680.8038</td>\n",
       "      <td>1680.8694</td>\n",
       "      <td>1681.4416</td>\n",
       "      <td>1681.4666</td>\n",
       "      <td>1681.4864</td>\n",
       "      <td>1681.5142</td>\n",
       "      <td>1681.5754</td>\n",
       "      <td>1681.6510</td>\n",
       "      <td>1681.6762</td>\n",
       "    </tr>\n",
       "    <tr>\n",
       "      <td>...</td>\n",
       "      <td>...</td>\n",
       "      <td>...</td>\n",
       "      <td>...</td>\n",
       "      <td>...</td>\n",
       "      <td>...</td>\n",
       "      <td>...</td>\n",
       "      <td>...</td>\n",
       "      <td>...</td>\n",
       "      <td>...</td>\n",
       "      <td>...</td>\n",
       "      <td>...</td>\n",
       "      <td>...</td>\n",
       "      <td>...</td>\n",
       "      <td>...</td>\n",
       "      <td>...</td>\n",
       "      <td>...</td>\n",
       "      <td>...</td>\n",
       "      <td>...</td>\n",
       "      <td>...</td>\n",
       "      <td>...</td>\n",
       "      <td>...</td>\n",
       "    </tr>\n",
       "    <tr>\n",
       "      <td>11130</td>\n",
       "      <td>21299.0818</td>\n",
       "      <td>21299.1072</td>\n",
       "      <td>21299.5854</td>\n",
       "      <td>21299.6116</td>\n",
       "      <td>21301.1124</td>\n",
       "      <td>21301.1402</td>\n",
       "      <td>21302.1564</td>\n",
       "      <td>21302.1824</td>\n",
       "      <td>21302.4806</td>\n",
       "      <td>21302.5066</td>\n",
       "      <td>...</td>\n",
       "      <td>23206.6454</td>\n",
       "      <td>23206.6710</td>\n",
       "      <td>23206.7648</td>\n",
       "      <td>23206.7922</td>\n",
       "      <td>23207.6020</td>\n",
       "      <td>23208.4856</td>\n",
       "      <td>23210.5802</td>\n",
       "      <td>23210.6062</td>\n",
       "      <td>23212.1132</td>\n",
       "      <td>23212.1392</td>\n",
       "    </tr>\n",
       "    <tr>\n",
       "      <td>11131</td>\n",
       "      <td>23213.2654</td>\n",
       "      <td>23213.2906</td>\n",
       "      <td>23213.4462</td>\n",
       "      <td>23213.4722</td>\n",
       "      <td>23213.8386</td>\n",
       "      <td>23213.8650</td>\n",
       "      <td>23215.1242</td>\n",
       "      <td>23215.1514</td>\n",
       "      <td>23215.8802</td>\n",
       "      <td>23215.9070</td>\n",
       "      <td>...</td>\n",
       "      <td>25232.0726</td>\n",
       "      <td>25234.0622</td>\n",
       "      <td>25234.0866</td>\n",
       "      <td>25235.1106</td>\n",
       "      <td>25235.1378</td>\n",
       "      <td>25235.4720</td>\n",
       "      <td>25235.4978</td>\n",
       "      <td>25235.7932</td>\n",
       "      <td>25235.8196</td>\n",
       "      <td>25238.5198</td>\n",
       "    </tr>\n",
       "    <tr>\n",
       "      <td>11132</td>\n",
       "      <td>25238.5458</td>\n",
       "      <td>25239.9602</td>\n",
       "      <td>25239.9870</td>\n",
       "      <td>25241.5098</td>\n",
       "      <td>25241.5360</td>\n",
       "      <td>25243.0870</td>\n",
       "      <td>25243.1122</td>\n",
       "      <td>25244.6904</td>\n",
       "      <td>25244.7152</td>\n",
       "      <td>25246.8596</td>\n",
       "      <td>...</td>\n",
       "      <td>27156.1792</td>\n",
       "      <td>27156.7932</td>\n",
       "      <td>27156.8202</td>\n",
       "      <td>27158.1824</td>\n",
       "      <td>27158.2068</td>\n",
       "      <td>27158.9064</td>\n",
       "      <td>27158.9312</td>\n",
       "      <td>27160.1832</td>\n",
       "      <td>27160.2092</td>\n",
       "      <td>27161.2874</td>\n",
       "    </tr>\n",
       "    <tr>\n",
       "      <td>11133</td>\n",
       "      <td>27161.3136</td>\n",
       "      <td>27161.5862</td>\n",
       "      <td>27161.6112</td>\n",
       "      <td>27162.2104</td>\n",
       "      <td>27167.9958</td>\n",
       "      <td>27168.0218</td>\n",
       "      <td>27173.8528</td>\n",
       "      <td>27173.8786</td>\n",
       "      <td>27174.0216</td>\n",
       "      <td>27175.1878</td>\n",
       "      <td>...</td>\n",
       "      <td>29121.9866</td>\n",
       "      <td>29122.0140</td>\n",
       "      <td>29122.5288</td>\n",
       "      <td>29122.5548</td>\n",
       "      <td>29123.9612</td>\n",
       "      <td>29123.9876</td>\n",
       "      <td>29128.4714</td>\n",
       "      <td>29128.4982</td>\n",
       "      <td>29128.8862</td>\n",
       "      <td>29128.9120</td>\n",
       "    </tr>\n",
       "    <tr>\n",
       "      <td>11134</td>\n",
       "      <td>29132.4256</td>\n",
       "      <td>29132.4514</td>\n",
       "      <td>29133.3562</td>\n",
       "      <td>29133.3828</td>\n",
       "      <td>29133.8834</td>\n",
       "      <td>29133.9088</td>\n",
       "      <td>29134.2532</td>\n",
       "      <td>29134.2780</td>\n",
       "      <td>29138.7648</td>\n",
       "      <td>29138.7912</td>\n",
       "      <td>...</td>\n",
       "      <td>31041.6434</td>\n",
       "      <td>31041.8964</td>\n",
       "      <td>31041.9218</td>\n",
       "      <td>31042.0880</td>\n",
       "      <td>31042.1122</td>\n",
       "      <td>31048.1598</td>\n",
       "      <td>31048.1864</td>\n",
       "      <td>31051.8076</td>\n",
       "      <td>31051.8332</td>\n",
       "      <td>31052.6984</td>\n",
       "    </tr>\n",
       "  </tbody>\n",
       "</table>\n",
       "<p>11135 rows × 2500 columns</p>\n",
       "</div>"
      ],
      "text/plain": [
       "             0           1           2           3           4           5     \\\n",
       "0          0.0220      0.1208      0.1460      0.1740      0.1986      0.6814   \n",
       "1        323.5892    323.6136    323.6346    323.6582    323.7582    323.9508   \n",
       "2        672.4158    673.4258    673.4524    673.5314    673.6350    673.6606   \n",
       "3       1019.1612   1019.1862   1019.6476   1019.6730   1019.7700   1019.7962   \n",
       "4       1359.5428   1359.5694   1359.8832   1360.1066   1360.1322   1360.1530   \n",
       "...           ...         ...         ...         ...         ...         ...   \n",
       "11130  21299.0818  21299.1072  21299.5854  21299.6116  21301.1124  21301.1402   \n",
       "11131  23213.2654  23213.2906  23213.4462  23213.4722  23213.8386  23213.8650   \n",
       "11132  25238.5458  25239.9602  25239.9870  25241.5098  25241.5360  25243.0870   \n",
       "11133  27161.3136  27161.5862  27161.6112  27162.2104  27167.9958  27168.0218   \n",
       "11134  29132.4256  29132.4514  29133.3562  29133.3828  29133.8834  29133.9088   \n",
       "\n",
       "             6           7           8           9     ...        2490  \\\n",
       "0          0.7060      0.8740      1.0720      1.0974  ...    321.7622   \n",
       "1        323.9758    324.0214    324.0476    324.2434  ...    670.7084   \n",
       "2        673.9064    673.9328    674.1066    674.7086  ...   1018.2674   \n",
       "3       1020.5138   1020.5394   1020.6956   1020.7212  ...   1357.7292   \n",
       "4       1360.1770   1360.4792   1360.5044   1360.8108  ...   1680.7774   \n",
       "...           ...         ...         ...         ...  ...         ...   \n",
       "11130  21302.1564  21302.1824  21302.4806  21302.5066  ...  23206.6454   \n",
       "11131  23215.1242  23215.1514  23215.8802  23215.9070  ...  25232.0726   \n",
       "11132  25243.1122  25244.6904  25244.7152  25246.8596  ...  27156.1792   \n",
       "11133  27173.8528  27173.8786  27174.0216  27175.1878  ...  29121.9866   \n",
       "11134  29134.2532  29134.2780  29138.7648  29138.7912  ...  31041.6434   \n",
       "\n",
       "             2491        2492        2493        2494        2495        2496  \\\n",
       "0        321.7886    321.9280    321.9544    323.0024    323.0290    323.1992   \n",
       "1        671.1250    671.1500    671.3912    671.4160    671.5562    671.5828   \n",
       "2       1018.2946   1018.3874   1018.4134   1018.7042   1018.7306   1018.7686   \n",
       "3       1357.7554   1358.1994   1358.2256   1358.6246   1358.6504   1359.1626   \n",
       "4       1680.8038   1680.8694   1681.4416   1681.4666   1681.4864   1681.5142   \n",
       "...           ...         ...         ...         ...         ...         ...   \n",
       "11130  23206.6710  23206.7648  23206.7922  23207.6020  23208.4856  23210.5802   \n",
       "11131  25234.0622  25234.0866  25235.1106  25235.1378  25235.4720  25235.4978   \n",
       "11132  27156.7932  27156.8202  27158.1824  27158.2068  27158.9064  27158.9312   \n",
       "11133  29122.0140  29122.5288  29122.5548  29123.9612  29123.9876  29128.4714   \n",
       "11134  31041.8964  31041.9218  31042.0880  31042.1122  31048.1598  31048.1864   \n",
       "\n",
       "             2497        2498        2499  \n",
       "0        323.2262    323.5290    323.5540  \n",
       "1        671.7618    671.7884    672.3882  \n",
       "2       1018.7938   1018.9022   1018.9280  \n",
       "3       1359.1886   1359.3802   1359.4048  \n",
       "4       1681.5754   1681.6510   1681.6762  \n",
       "...           ...         ...         ...  \n",
       "11130  23210.6062  23212.1132  23212.1392  \n",
       "11131  25235.7932  25235.8196  25238.5198  \n",
       "11132  27160.1832  27160.2092  27161.2874  \n",
       "11133  29128.4982  29128.8862  29128.9120  \n",
       "11134  31051.8076  31051.8332  31052.6984  \n",
       "\n",
       "[11135 rows x 2500 columns]"
      ]
     },
     "execution_count": 171,
     "metadata": {},
     "output_type": "execute_result"
    }
   ],
   "source": [
    "fr2 = pd.DataFrame(dataSetTime)\n",
    "fr2"
   ]
  },
  {
   "cell_type": "code",
   "execution_count": 172,
   "metadata": {},
   "outputs": [],
   "source": [
    "fr1.to_csv('../Cs137data/csv/pulse2525.csv')\n",
    "fr2.to_csv('../Cs137data/csv/realtime2525.csv')"
   ]
  },
  {
   "cell_type": "code",
   "execution_count": 147,
   "metadata": {
    "collapsed": true
   },
   "outputs": [
    {
     "data": {
      "text/plain": [
       "array([[0.000000e+00, 9.880000e-02, 1.240000e-01, ..., 3.232042e+02,\n",
       "        3.235070e+02, 3.235320e+02],\n",
       "       [0.000000e+00, 2.440000e-02, 4.540000e-02, ..., 3.481726e+02,\n",
       "        3.481992e+02, 3.487990e+02],\n",
       "       [0.000000e+00, 1.010000e+00, 1.036600e+00, ..., 3.463780e+02,\n",
       "        3.464864e+02, 3.465122e+02],\n",
       "       ...,\n",
       "       [0.000000e+00, 7.658000e-01, 7.908000e-01, ..., 3.513006e+02,\n",
       "        3.513256e+02, 3.515142e+02],\n",
       "       [0.000000e+00, 2.020000e-02, 5.740000e-01, ..., 3.428496e+02,\n",
       "        3.433064e+02, 3.433306e+02],\n",
       "       [0.000000e+00, 2.480000e-02, 2.006000e-01, ..., 3.386002e+02,\n",
       "        3.386658e+02, 3.386896e+02]])"
      ]
     },
     "execution_count": 147,
     "metadata": {},
     "output_type": "execute_result"
    }
   ],
   "source": [
    "data = np.zeros((realtimeCs137.shape[1]//2500, 2500))\n",
    "for i in range(realtimeCs137.shape[1]//2500):\n",
    "    data[i, :] = realtimeCs137[0, i * 2500: i * 2500 + 2500]\n",
    "    data[i, :] = data[i, :] - data[i, 0]\n",
    "data"
   ]
  },
  {
   "cell_type": "code",
   "execution_count": 154,
   "metadata": {},
   "outputs": [],
   "source": [
    "label_cs = np.zeros((data.shape[0], 1))"
   ]
  },
  {
   "cell_type": "code",
   "execution_count": 148,
   "metadata": {},
   "outputs": [],
   "source": [
    "indexs3 = []\n",
    "for i in range(pulseCs137.shape[1]//2500):\n",
    "    if np.min(data[i, :]) < 0:\n",
    "        indexs3.append(i)"
   ]
  },
  {
   "cell_type": "code",
   "execution_count": 149,
   "metadata": {
    "collapsed": true
   },
   "outputs": [
    {
     "data": {
      "text/plain": [
       "[155,\n",
       " 192,\n",
       " 385,\n",
       " 577,\n",
       " 597,\n",
       " 767,\n",
       " 958,\n",
       " 970,\n",
       " 1150,\n",
       " 1342,\n",
       " 1534,\n",
       " 1725,\n",
       " 1917,\n",
       " 1937,\n",
       " 2091,\n",
       " 2110]"
      ]
     },
     "execution_count": 149,
     "metadata": {},
     "output_type": "execute_result"
    }
   ],
   "source": [
    "indexs3"
   ]
  },
  {
   "cell_type": "markdown",
   "metadata": {},
   "source": [
    "### 7 制作数据集"
   ]
  },
  {
   "cell_type": "code",
   "execution_count": 155,
   "metadata": {
    "collapsed": true
   },
   "outputs": [
    {
     "ename": "AttributeError",
     "evalue": "module 'tensorflow' has no attribute 'python_io'",
     "output_type": "error",
     "traceback": [
      "\u001b[1;31m---------------------------------------------------------------------------\u001b[0m",
      "\u001b[1;31mAttributeError\u001b[0m                            Traceback (most recent call last)",
      "\u001b[1;32m<ipython-input-155-bdaa05aa463d>\u001b[0m in \u001b[0;36m<module>\u001b[1;34m\u001b[0m\n\u001b[0;32m      2\u001b[0m classes = {'daffodil', 'snowdrop', 'lilyvalley', 'bluebell', 'crocus', 'iris', 'tigerlily', 'tulip', 'fritiuary',\n\u001b[0;32m      3\u001b[0m            'sunflower', 'daisy', 'coltsfoot', 'dandelion', 'cowslip', 'buttercup', 'windflower', 'pansy'}  # 花为 设定 17 类\n\u001b[1;32m----> 4\u001b[1;33m \u001b[0mwriter\u001b[0m \u001b[1;33m=\u001b[0m \u001b[0mtf\u001b[0m\u001b[1;33m.\u001b[0m\u001b[0mpython_io\u001b[0m\u001b[1;33m.\u001b[0m\u001b[0mTFRecordWriter\u001b[0m\u001b[1;33m(\u001b[0m\u001b[1;34m\"flower_train.tfrecords\"\u001b[0m\u001b[1;33m)\u001b[0m  \u001b[1;31m# 要生成的文件\u001b[0m\u001b[1;33m\u001b[0m\u001b[1;33m\u001b[0m\u001b[0m\n\u001b[0m\u001b[0;32m      5\u001b[0m \u001b[1;33m\u001b[0m\u001b[0m\n\u001b[0;32m      6\u001b[0m \u001b[1;32mfor\u001b[0m \u001b[0mindex\u001b[0m\u001b[1;33m,\u001b[0m \u001b[0mname\u001b[0m \u001b[1;32min\u001b[0m \u001b[0menumerate\u001b[0m\u001b[1;33m(\u001b[0m\u001b[0mclasses\u001b[0m\u001b[1;33m)\u001b[0m\u001b[1;33m:\u001b[0m\u001b[1;33m\u001b[0m\u001b[1;33m\u001b[0m\u001b[0m\n",
      "\u001b[1;31mAttributeError\u001b[0m: module 'tensorflow' has no attribute 'python_io'"
     ]
    }
   ],
   "source": [
    "cwd = 'D:\\PyCharm Community Edition 2017.2.3\\Work\\google_net\\jpg\\\\'\n",
    "classes = {'daffodil', 'snowdrop', 'lilyvalley', 'bluebell', 'crocus', 'iris', 'tigerlily', 'tulip', 'fritiuary',\n",
    "           'sunflower', 'daisy', 'coltsfoot', 'dandelion', 'cowslip', 'buttercup', 'windflower', 'pansy'}  # 花为 设定 17 类\n",
    "writer = tf.python_io.TFRecordWriter(\"flower_train.tfrecords\")  # 要生成的文件\n",
    " \n",
    "for index, name in enumerate(classes):\n",
    "    class_path = cwd + name + '\\\\'\n",
    "    for img_name in os.listdir(class_path):\n",
    "        img_path = class_path + img_name  # 每一个图片的地址\n",
    "        img = Image.open(img_path)\n",
    "        img = img.resize((224, 224))\n",
    "        img_raw = img.tobytes()  # 将图片转化为二进制格式\n",
    "        example = tf.train.Example(features=tf.train.Features(feature={\n",
    "            \"label\": tf.train.Feature(int64_list=tf.train.Int64List(value=[index])),\n",
    "            'img_raw': tf.train.Feature(bytes_list=tf.train.BytesList(value=[img_raw]))\n",
    "        }))  # example对象对label和image数据进行封装\n",
    "        writer.write(example.SerializeToString())  # 序列化为字符串\n",
    "writer.close()"
   ]
  },
  {
   "cell_type": "code",
   "execution_count": 159,
   "metadata": {
    "collapsed": true
   },
   "outputs": [
    {
     "ename": "TypeError",
     "evalue": "1 has type int, but expected one of: bytes",
     "output_type": "error",
     "traceback": [
      "\u001b[1;31m---------------------------------------------------------------------------\u001b[0m",
      "\u001b[1;31mTypeError\u001b[0m                                 Traceback (most recent call last)",
      "\u001b[1;32m<ipython-input-159-ccbecd450f88>\u001b[0m in \u001b[0;36m<module>\u001b[1;34m\u001b[0m\n\u001b[0;32m      1\u001b[0m example = tf.train.Example(features=tf.train.Features(feature={\n\u001b[0;32m      2\u001b[0m             \u001b[1;34m\"label\"\u001b[0m\u001b[1;33m:\u001b[0m \u001b[0mtf\u001b[0m\u001b[1;33m.\u001b[0m\u001b[0mtrain\u001b[0m\u001b[1;33m.\u001b[0m\u001b[0mFeature\u001b[0m\u001b[1;33m(\u001b[0m\u001b[0mint64_list\u001b[0m\u001b[1;33m=\u001b[0m\u001b[0mtf\u001b[0m\u001b[1;33m.\u001b[0m\u001b[0mtrain\u001b[0m\u001b[1;33m.\u001b[0m\u001b[0mInt64List\u001b[0m\u001b[1;33m(\u001b[0m\u001b[0mvalue\u001b[0m\u001b[1;33m=\u001b[0m\u001b[1;33m[\u001b[0m\u001b[1;36m1\u001b[0m\u001b[1;33m]\u001b[0m\u001b[1;33m)\u001b[0m\u001b[1;33m)\u001b[0m\u001b[1;33m,\u001b[0m\u001b[1;33m\u001b[0m\u001b[1;33m\u001b[0m\u001b[0m\n\u001b[1;32m----> 3\u001b[1;33m             \u001b[1;34m'realtime'\u001b[0m\u001b[1;33m:\u001b[0m \u001b[0mtf\u001b[0m\u001b[1;33m.\u001b[0m\u001b[0mtrain\u001b[0m\u001b[1;33m.\u001b[0m\u001b[0mFeature\u001b[0m\u001b[1;33m(\u001b[0m\u001b[0mbytes_list\u001b[0m\u001b[1;33m=\u001b[0m\u001b[0mtf\u001b[0m\u001b[1;33m.\u001b[0m\u001b[0mtrain\u001b[0m\u001b[1;33m.\u001b[0m\u001b[0mBytesList\u001b[0m\u001b[1;33m(\u001b[0m\u001b[0mvalue\u001b[0m\u001b[1;33m=\u001b[0m\u001b[1;33m[\u001b[0m\u001b[1;36m1\u001b[0m\u001b[1;33m]\u001b[0m\u001b[1;33m)\u001b[0m\u001b[1;33m)\u001b[0m\u001b[1;33m\u001b[0m\u001b[1;33m\u001b[0m\u001b[0m\n\u001b[0m\u001b[0;32m      4\u001b[0m         }))  # example对象对label和image数据进行封装\n",
      "\u001b[1;31mTypeError\u001b[0m: 1 has type int, but expected one of: bytes"
     ]
    }
   ],
   "source": [
    "example = tf.train.Example(features=tf.train.Features(feature={\n",
    "            \"label\": tf.train.Feature(int64_list=tf.train.Int64List(value=[1])),\n",
    "            'realtime': tf.train.Feature(bytes_list=tf.train.BytesList(value=[1]))\n",
    "        }))  # example对象对label和image数据进行封装"
   ]
  },
  {
   "cell_type": "code",
   "execution_count": 5,
   "metadata": {},
   "outputs": [],
   "source": [
    "a = np.array([[1, 2 ,3, 4], [2, 3, 4, 5]])"
   ]
  },
  {
   "cell_type": "code",
   "execution_count": 8,
   "metadata": {},
   "outputs": [
    {
     "name": "stdout",
     "output_type": "stream",
     "text": [
      "a.shaep= (2, 4)\n"
     ]
    }
   ],
   "source": [
    "print('a.shaep=', a.shape)"
   ]
  },
  {
   "cell_type": "code",
   "execution_count": 7,
   "metadata": {},
   "outputs": [],
   "source": [
    "import nucleus\n",
    "from os import listdir\n",
    "import numpy as np"
   ]
  },
  {
   "cell_type": "code",
   "execution_count": 8,
   "metadata": {
    "collapsed": true
   },
   "outputs": [
    {
     "data": {
      "text/plain": [
       "['BenDi_10min_02.Lis',\n",
       " 'Co60_10min_03.Lis',\n",
       " 'Co60_180s_01.Lis',\n",
       " 'Co60_180s_02.Lis',\n",
       " 'Cs137_10min_01.Lis',\n",
       " 'Cs137_180s_000.Lis',\n",
       " 'Cs137_180s_001.Lis',\n",
       " 'Cs137_180s_s1.Lis',\n",
       " 'CsCo_10min_01.Lis',\n",
       " 'Eu155_10min_01.Lis']"
      ]
     },
     "execution_count": 8,
     "metadata": {},
     "output_type": "execute_result"
    }
   ],
   "source": [
    "filename = listdir('../Cs137data/lis/')\n",
    "filename"
   ]
  },
  {
   "cell_type": "code",
   "execution_count": 9,
   "metadata": {},
   "outputs": [
    {
     "data": {
      "text/plain": [
       "((1, 5000), (4, 5000))"
      ]
     },
     "execution_count": 9,
     "metadata": {},
     "output_type": "execute_result"
    }
   ],
   "source": [
    "a = np.zeros((1, 5000))\n",
    "b = np.zeros((4, 5000))\n",
    "a.shape, b.shape"
   ]
  },
  {
   "cell_type": "code",
   "execution_count": 10,
   "metadata": {},
   "outputs": [
    {
     "data": {
      "text/plain": [
       "array([[0., 0., 0., ..., 0., 0., 0.],\n",
       "       [0., 0., 0., ..., 0., 0., 0.],\n",
       "       [0., 0., 0., ..., 0., 0., 0.],\n",
       "       [0., 0., 0., ..., 0., 0., 0.],\n",
       "       [0., 0., 0., ..., 0., 0., 0.]])"
      ]
     },
     "execution_count": 10,
     "metadata": {},
     "output_type": "execute_result"
    }
   ],
   "source": [
    "np.vstack((a, b))"
   ]
  },
  {
   "cell_type": "code",
   "execution_count": 11,
   "metadata": {
    "collapsed": true
   },
   "outputs": [
    {
     "name": "stderr",
     "output_type": "stream",
     "text": [
      "100%|██████████████████████████████████████████████████████████████████████████| 61340/61340 [00:43<00:00, 1404.29it/s]\n"
     ]
    },
    {
     "name": "stdout",
     "output_type": "stream",
     "text": [
      "i = 0, len = 111, nuc is BenDi  "
     ]
    },
    {
     "name": "stderr",
     "output_type": "stream",
     "text": [
      "100%|█████████████████████████████████████████████████████████████████████████| 137617/137617 [11:43<00:00, 195.48it/s]\n"
     ]
    },
    {
     "name": "stdout",
     "output_type": "stream",
     "text": [
      "i = 1, len = 2061, nuc is Co60  "
     ]
    },
    {
     "name": "stderr",
     "output_type": "stream",
     "text": [
      "100%|███████████████████████████████████████████████████████████████████████████| 23660/23660 [02:01<00:00, 194.63it/s]\n"
     ]
    },
    {
     "name": "stdout",
     "output_type": "stream",
     "text": [
      "i = 2, len = 357, nuc is Co60  "
     ]
    },
    {
     "name": "stderr",
     "output_type": "stream",
     "text": [
      "100%|███████████████████████████████████████████████████████████████████████████| 23635/23635 [01:59<00:00, 197.09it/s]\n"
     ]
    },
    {
     "name": "stdout",
     "output_type": "stream",
     "text": [
      "i = 3, len = 352, nuc is Co60  "
     ]
    },
    {
     "name": "stderr",
     "output_type": "stream",
     "text": [
      "100%|███████████████████████████████████████████████████████████████████████████| 78073/78073 [06:29<00:00, 200.60it/s]\n"
     ]
    },
    {
     "name": "stdout",
     "output_type": "stream",
     "text": [
      "i = 4, len = 1143, nuc is Cs137  "
     ]
    },
    {
     "name": "stderr",
     "output_type": "stream",
     "text": [
      "100%|███████████████████████████████████████████████████████████████████████████| 23882/23882 [02:00<00:00, 198.23it/s]\n"
     ]
    },
    {
     "name": "stdout",
     "output_type": "stream",
     "text": [
      "i = 5, len = 358, nuc is Cs137  "
     ]
    },
    {
     "name": "stderr",
     "output_type": "stream",
     "text": [
      "100%|███████████████████████████████████████████████████████████████████████████| 23882/23882 [02:00<00:00, 198.41it/s]\n"
     ]
    },
    {
     "name": "stdout",
     "output_type": "stream",
     "text": [
      "i = 6, len = 358, nuc is Cs137  "
     ]
    },
    {
     "name": "stderr",
     "output_type": "stream",
     "text": [
      "100%|███████████████████████████████████████████████████████████████████████████| 23880/23880 [02:02<00:00, 195.12it/s]\n"
     ]
    },
    {
     "name": "stdout",
     "output_type": "stream",
     "text": [
      "i = 7, len = 365, nuc is Cs137  "
     ]
    },
    {
     "name": "stderr",
     "output_type": "stream",
     "text": [
      "100%|█████████████████████████████████████████████████████████████████████████| 112028/112028 [12:31<00:00, 148.99it/s]\n"
     ]
    },
    {
     "name": "stdout",
     "output_type": "stream",
     "text": [
      "i = 8, len = 2202, nuc is CsCo  "
     ]
    },
    {
     "name": "stderr",
     "output_type": "stream",
     "text": [
      "100%|██████████████████████████████████████████████████████████████████████████| 62230/62230 [00:58<00:00, 1071.62it/s]\n"
     ]
    },
    {
     "name": "stdout",
     "output_type": "stream",
     "text": [
      "i = 9, len = 160, nuc is Eu155  \n",
      " time is :43:21\n",
      "pulseDataSet.shape =  (7468, 5000) realtimeDataSet.shaep =  (7468, 5000) nuc_index.shape =  (7467,)\n"
     ]
    }
   ],
   "source": [
    "## keyValue = {'BenDi': 0, 'Cs137': 1, 'CsCo': 2, 'Cs': 1, 'Co60': 3, 'Eu155': 4}\n",
    "## nuc_index 数据的数字对应代表 核素\n",
    "\n",
    "a, b, c = nucleus.get_file_fulldata(filename)"
   ]
  },
  {
   "cell_type": "code",
   "execution_count": 12,
   "metadata": {},
   "outputs": [],
   "source": [
    "nucleus.get_file_fulldata??"
   ]
  },
  {
   "cell_type": "code",
   "execution_count": 2,
   "metadata": {},
   "outputs": [],
   "source": [
    "import pandas as pd\n",
    "import numpy as np\n",
    "import nucleus as nuc"
   ]
  },
  {
   "cell_type": "code",
   "execution_count": 2,
   "metadata": {},
   "outputs": [],
   "source": [
    "pulseData = pd.read_csv('../Cs137data/csv/pulse2525.csv')\n",
    "realtimeData = pd.read_csv('../Cs137data/csv/realtime2525.csv')"
   ]
  },
  {
   "cell_type": "code",
   "execution_count": 3,
   "metadata": {},
   "outputs": [
    {
     "data": {
      "text/plain": [
       "(array([  0.,  23., 114., ...,  66.,  65.,   0.]),\n",
       " array([0.000000e+00, 2.200000e-02, 1.208000e-01, ..., 3.232262e+02,\n",
       "        3.235290e+02, 3.235540e+02]),\n",
       " (11135, 2502),\n",
       " (11135, 2501))"
      ]
     },
     "execution_count": 3,
     "metadata": {},
     "output_type": "execute_result"
    }
   ],
   "source": [
    "pulse = pulseData.values\n",
    "realtime = realtimeData.values\n",
    "pulse[0], realtime[0], pulse.shape, realtime.shape"
   ]
  },
  {
   "cell_type": "code",
   "execution_count": 4,
   "metadata": {},
   "outputs": [
    {
     "data": {
      "text/plain": [
       "((11135, 2500), (11135, 2500), (11135,))"
      ]
     },
     "execution_count": 4,
     "metadata": {},
     "output_type": "execute_result"
    }
   ],
   "source": [
    "labels = pulse[:, -1]\n",
    "pulse = pulse[:, 1: 2501]\n",
    "realtime = realtime[:, 1: 2501]\n",
    "pulse.shape, realtime.shape,labels.shape"
   ]
  },
  {
   "cell_type": "code",
   "execution_count": 5,
   "metadata": {},
   "outputs": [
    {
     "name": "stdout",
     "output_type": "stream",
     "text": [
      "len(index) = 81\n",
      "pulse.shape =  (11054, 2500) realtime.shape =  (11054, 2500) dataSet.shape =  (11054, 50, 50, 2)\n"
     ]
    }
   ],
   "source": [
    "dataSet, labels = nuc.scquential_data_trans_CNN_data(pulse, realtime, labels, Item_shape=[50, 50, 2])"
   ]
  },
  {
   "cell_type": "code",
   "execution_count": 6,
   "metadata": {},
   "outputs": [
    {
     "data": {
      "text/plain": [
       "(array([0., 2., 0., ..., 2., 1., 2.]), (11054,))"
      ]
     },
     "execution_count": 6,
     "metadata": {},
     "output_type": "execute_result"
    }
   ],
   "source": [
    "labels, labels.shape"
   ]
  },
  {
   "cell_type": "code",
   "execution_count": 9,
   "metadata": {},
   "outputs": [
    {
     "name": "stdout",
     "output_type": "stream",
     "text": [
      "x_train.shape= (7737, 50, 50, 2) y_train.shape= (7737,) x_test.shape= (3317, 50, 50, 2) y_test.shape= (3317,)\n"
     ]
    }
   ],
   "source": [
    "x_train, y_train, x_test, y_test = nuc.split_dataSet(dataSet, labels, test_size=0.3, random_state=42)"
   ]
  },
  {
   "cell_type": "markdown",
   "metadata": {},
   "source": [
    "### 8 30cm模型训练"
   ]
  },
  {
   "cell_type": "markdown",
   "metadata": {},
   "source": [
    "#### 获取数据集"
   ]
  },
  {
   "cell_type": "code",
   "execution_count": 5,
   "metadata": {},
   "outputs": [
    {
     "data": {
      "text/plain": [
       "['Co60_10min_30cm.Lis',\n",
       " 'Cs137_10min_30cm.Lis',\n",
       " 'CsCo_10min_30cm.Lis',\n",
       " 'Eu155_10min_30cm.Lis']"
      ]
     },
     "execution_count": 5,
     "metadata": {},
     "output_type": "execute_result"
    }
   ],
   "source": [
    "filename = listdir('../Cs137data/lis_30cm/')\n",
    "filename"
   ]
  },
  {
   "cell_type": "code",
   "execution_count": 3,
   "metadata": {
    "scrolled": true
   },
   "outputs": [
    {
     "data": {
      "application/vnd.jupyter.widget-view+json": {
       "model_id": "36459f8cf6b1470f86b047eeac5c6db0",
       "version_major": 2,
       "version_minor": 0
      },
      "text/plain": [
       "HBox(children=(IntProgress(value=0, max=60001), HTML(value='')))"
      ]
     },
     "metadata": {},
     "output_type": "display_data"
    },
    {
     "name": "stdout",
     "output_type": "stream",
     "text": [
      "\n",
      "i = 0, len = 294, nuc is Co60 "
     ]
    },
    {
     "data": {
      "application/vnd.jupyter.widget-view+json": {
       "model_id": "f8cc7c211f234416a7389d01e52d58d9",
       "version_major": 2,
       "version_minor": 0
      },
      "text/plain": [
       "HBox(children=(IntProgress(value=0, max=60001), HTML(value='')))"
      ]
     },
     "metadata": {},
     "output_type": "display_data"
    },
    {
     "name": "stdout",
     "output_type": "stream",
     "text": [
      "\n",
      "i = 1, len = 285, nuc is Cs137 "
     ]
    },
    {
     "data": {
      "application/vnd.jupyter.widget-view+json": {
       "model_id": "2da72f6cd2174397a3fee2f96d46cfea",
       "version_major": 2,
       "version_minor": 0
      },
      "text/plain": [
       "HBox(children=(IntProgress(value=0, max=60001), HTML(value='')))"
      ]
     },
     "metadata": {},
     "output_type": "display_data"
    },
    {
     "name": "stdout",
     "output_type": "stream",
     "text": [
      "\n",
      "i = 2, len = 419, nuc is CsCo "
     ]
    },
    {
     "data": {
      "application/vnd.jupyter.widget-view+json": {
       "model_id": "93f5e31019e14d788aceedebceb76780",
       "version_major": 2,
       "version_minor": 0
      },
      "text/plain": [
       "HBox(children=(IntProgress(value=0, max=60001), HTML(value='')))"
      ]
     },
     "metadata": {},
     "output_type": "display_data"
    },
    {
     "name": "stdout",
     "output_type": "stream",
     "text": [
      "\n",
      "i = 3, len = 158, nuc is Eu155 \n",
      " time is :3m50s\n",
      "pulseDataSet.shape =  (1156, 2500) realtimeDataSet.shaep =  (1156, 2500) nuc_index.shape =  (1156,)\n"
     ]
    }
   ],
   "source": [
    "pulse, realtime, labels = nuc.get_file_fulldata('../Cs137data/lis_30cm/')"
   ]
  },
  {
   "cell_type": "code",
   "execution_count": 8,
   "metadata": {
    "scrolled": true
   },
   "outputs": [
    {
     "data": {
      "text/plain": [
       "((1156, 2500), (1156, 2500))"
      ]
     },
     "execution_count": 8,
     "metadata": {},
     "output_type": "execute_result"
    }
   ],
   "source": [
    "pulse = np.delete(pulse, 0, axis=0)\n",
    "realtime = np.delete(realtime, 0, axis=0)\n",
    "pulse.shape, realtime.shape"
   ]
  },
  {
   "cell_type": "code",
   "execution_count": 52,
   "metadata": {},
   "outputs": [
    {
     "data": {
      "text/plain": [
       "(1156, 1)"
      ]
     },
     "execution_count": 52,
     "metadata": {},
     "output_type": "execute_result"
    }
   ],
   "source": [
    "label = np.reshape(labels, (labels.shape[0], 1))\n",
    "label.shape"
   ]
  },
  {
   "cell_type": "code",
   "execution_count": 53,
   "metadata": {},
   "outputs": [
    {
     "data": {
      "text/plain": [
       "(1156, 2501)"
      ]
     },
     "execution_count": 53,
     "metadata": {},
     "output_type": "execute_result"
    }
   ],
   "source": [
    "pulse1 = np.hstack((pulse, label))\n",
    "pulse1.shape"
   ]
  },
  {
   "cell_type": "code",
   "execution_count": 54,
   "metadata": {},
   "outputs": [],
   "source": [
    "# 保存到 CSV中\n",
    "fd1 = pd.DataFrame(pulse1)\n",
    "fd2 = pd.DataFrame(realtime)\n"
   ]
  },
  {
   "cell_type": "code",
   "execution_count": 55,
   "metadata": {},
   "outputs": [],
   "source": [
    "fd1.to_csv('../Cs137data/csv/pulse_30cm_Set.csv')\n",
    "fd2.to_csv('../Cs137data/csv/realtime_30cm_Set.csv')"
   ]
  },
  {
   "cell_type": "code",
   "execution_count": 11,
   "metadata": {},
   "outputs": [
    {
     "data": {
      "image/png": "[encoded data removed]",
      "text/plain": [
       "<Figure size 1152x288 with 2 Axes>"
      ]
     },
     "metadata": {
      "needs_background": "light"
     },
     "output_type": "display_data"
    }
   ],
   "source": [
    "fig, axes = plt.subplots(ncols=2, figsize=(16, 4))\n",
    "axes[0].scatter(range(2500), pulse[0], c='r', s=0.5)\n",
    "axes[1].scatter(range(2500), pulse[320], s=0.5, c='c')\n",
    "plt.show()"
   ]
  },
  {
   "cell_type": "code",
   "execution_count": 12,
   "metadata": {},
   "outputs": [
    {
     "name": "stdout",
     "output_type": "stream",
     "text": [
      "len(index) = 36\n",
      "pulse.shape =  (1120, 2500) realtime.shape =  (1120, 2500) dataSet.shape =  (1120, 50, 50, 2)\n"
     ]
    }
   ],
   "source": [
    "dataSet30cm, labels_30cm = nuc.scquential_data_trans_CNN_data(pulse, realtime, labels)"
   ]
  },
  {
   "cell_type": "code",
   "execution_count": 28,
   "metadata": {},
   "outputs": [],
   "source": [
    "labels_30cm = labels_30cm[:] - 1\n",
    "dataSet30cm[:, :, :, 0] = dataSet30cm[:, :, :, 0] / np.max(dataSet30cm[:, :, :, 0])\n",
    "dataSet30cm[:, :, :, 1] = dataSet30cm[:, :, :, 1] / np.max(dataSet30cm[:, :, :, 1])"
   ]
  },
  {
   "cell_type": "code",
   "execution_count": 35,
   "metadata": {},
   "outputs": [],
   "source": [
    "labels_30cm = labels_30cm[:] + 1"
   ]
  },
  {
   "cell_type": "code",
   "execution_count": 36,
   "metadata": {},
   "outputs": [
    {
     "name": "stdout",
     "output_type": "stream",
     "text": [
      "[]\n"
     ]
    }
   ],
   "source": [
    "index = []\n",
    "for i in range(dataSet30cm.shape[0]):\n",
    "    if np.min(dataSet30cm[i]) < 0:\n",
    "        index.append(i)\n",
    "print(index)"
   ]
  },
  {
   "cell_type": "code",
   "execution_count": 79,
   "metadata": {},
   "outputs": [
    {
     "name": "stdout",
     "output_type": "stream",
     "text": [
      "x_train.shape= (896, 50, 50, 2) y_train.shape= (896,) x_test.shape= (224, 50, 50, 2) y_test.shape= (224,)\n"
     ]
    }
   ],
   "source": [
    "x_train30, y_train30, x_test30, y_test30 = nuc.split_dataSet(dataSet30cm, labels_30cm, test_size=0.2, random_state=42)"
   ]
  },
  {
   "cell_type": "markdown",
   "metadata": {},
   "source": [
    "#### 模型训练"
   ]
  },
  {
   "cell_type": "code",
   "execution_count": 80,
   "metadata": {},
   "outputs": [],
   "source": [
    "model30 = models.Sequential()  # 线性模型\n",
    "model30.add(layers.Conv2D(32, (3, 3), activation='relu', input_shape=(50, 50, 2)))\n",
    "model30.add(layers.MaxPooling2D((2, 2)))\n",
    "model30.add(layers.Conv2D(64, (3, 3), activation='relu'))\n",
    "model30.add(layers.MaxPooling2D((2, 2)))\n",
    "model30.add(layers.Conv2D(64, (3, 3), activation='relu'))"
   ]
  },
  {
   "cell_type": "code",
   "execution_count": 81,
   "metadata": {},
   "outputs": [],
   "source": [
    "model30.add(layers.Flatten())\n",
    "model30.add(layers.Dense(64, activation='relu'))\n",
    "model30.add(layers.Dense(4, activation='softmax'))"
   ]
  },
  {
   "cell_type": "code",
   "execution_count": 82,
   "metadata": {},
   "outputs": [],
   "source": [
    "model30.compile(optimizer='adam',\n",
    "              loss='sparse_categorical_crossentropy',\n",
    "              metrics=['accuracy'])"
   ]
  },
  {
   "cell_type": "code",
   "execution_count": 83,
   "metadata": {
    "scrolled": true
   },
   "outputs": [
    {
     "name": "stdout",
     "output_type": "stream",
     "text": [
      "Train on 896 samples\n",
      "Epoch 1/10\n",
      "896/896 [==============================] - ETA: 5s - loss: 1.4125 - accuracy: 0.15 - ETA: 3s - loss: 1.4441 - accuracy: 0.32 - ETA: 3s - loss: 1.4110 - accuracy: 0.33 - ETA: 2s - loss: 1.3841 - accuracy: 0.32 - ETA: 2s - loss: 1.3577 - accuracy: 0.32 - ETA: 2s - loss: 1.3208 - accuracy: 0.35 - ETA: 2s - loss: 1.2901 - accuracy: 0.34 - ETA: 1s - loss: 1.2500 - accuracy: 0.39 - ETA: 1s - loss: 1.2092 - accuracy: 0.42 - ETA: 1s - loss: 1.1643 - accuracy: 0.44 - ETA: 1s - loss: 1.1143 - accuracy: 0.47 - ETA: 1s - loss: 1.0721 - accuracy: 0.49 - ETA: 1s - loss: 1.0231 - accuracy: 0.53 - ETA: 1s - loss: 0.9789 - accuracy: 0.56 - ETA: 1s - loss: 0.9324 - accuracy: 0.59 - ETA: 1s - loss: 0.8856 - accuracy: 0.61 - ETA: 1s - loss: 0.8439 - accuracy: 0.63 - ETA: 0s - loss: 0.8065 - accuracy: 0.65 - ETA: 0s - loss: 0.7689 - accuracy: 0.67 - ETA: 0s - loss: 0.7366 - accuracy: 0.69 - ETA: 0s - loss: 0.7067 - accuracy: 0.70 - ETA: 0s - loss: 0.6782 - accuracy: 0.71 - ETA: 0s - loss: 0.6496 - accuracy: 0.72 - ETA: 0s - loss: 0.6270 - accuracy: 0.74 - ETA: 0s - loss: 0.6024 - accuracy: 0.75 - ETA: 0s - loss: 0.5809 - accuracy: 0.76 - ETA: 0s - loss: 0.5613 - accuracy: 0.76 - 3s 3ms/sample - loss: 0.5414 - accuracy: 0.7768\n",
      "Epoch 2/10\n",
      "896/896 [==============================] - ETA: 2s - loss: 0.0121 - accuracy: 1.00 - ETA: 2s - loss: 0.0271 - accuracy: 1.00 - ETA: 2s - loss: 0.0291 - accuracy: 1.00 - ETA: 2s - loss: 0.0231 - accuracy: 1.00 - ETA: 1s - loss: 0.0263 - accuracy: 1.00 - ETA: 1s - loss: 0.0274 - accuracy: 1.00 - ETA: 1s - loss: 0.0238 - accuracy: 1.00 - ETA: 1s - loss: 0.0209 - accuracy: 1.00 - ETA: 1s - loss: 0.0188 - accuracy: 1.00 - ETA: 1s - loss: 0.0189 - accuracy: 1.00 - ETA: 1s - loss: 0.0199 - accuracy: 0.99 - ETA: 1s - loss: 0.0183 - accuracy: 0.99 - ETA: 1s - loss: 0.0169 - accuracy: 0.99 - ETA: 1s - loss: 0.0158 - accuracy: 0.99 - ETA: 1s - loss: 0.0164 - accuracy: 0.99 - ETA: 1s - loss: 0.0156 - accuracy: 0.99 - ETA: 0s - loss: 0.0149 - accuracy: 0.99 - ETA: 0s - loss: 0.0141 - accuracy: 0.99 - ETA: 0s - loss: 0.0135 - accuracy: 0.99 - ETA: 0s - loss: 0.0129 - accuracy: 0.99 - ETA: 0s - loss: 0.0125 - accuracy: 0.99 - ETA: 0s - loss: 0.0139 - accuracy: 0.99 - ETA: 0s - loss: 0.0133 - accuracy: 0.99 - ETA: 0s - loss: 0.0128 - accuracy: 0.99 - ETA: 0s - loss: 0.0123 - accuracy: 0.99 - ETA: 0s - loss: 0.0123 - accuracy: 0.99 - ETA: 0s - loss: 0.0124 - accuracy: 0.99 - 2s 3ms/sample - loss: 0.0120 - accuracy: 0.9978\n",
      "Epoch 3/10\n",
      "896/896 [==============================] - ETA: 2s - loss: 1.5296e-04 - accuracy: 1.00 - ETA: 2s - loss: 1.5823e-04 - accuracy: 1.00 - ETA: 2s - loss: 0.0051 - accuracy: 1.0000   - ETA: 2s - loss: 0.0040 - accuracy: 1.00 - ETA: 1s - loss: 0.0033 - accuracy: 1.00 - ETA: 1s - loss: 0.0028 - accuracy: 1.00 - ETA: 1s - loss: 0.0025 - accuracy: 1.00 - ETA: 1s - loss: 0.0022 - accuracy: 1.00 - ETA: 1s - loss: 0.0020 - accuracy: 1.00 - ETA: 1s - loss: 0.0018 - accuracy: 1.00 - ETA: 1s - loss: 0.0016 - accuracy: 1.00 - ETA: 1s - loss: 0.0015 - accuracy: 1.00 - ETA: 1s - loss: 0.0014 - accuracy: 1.00 - ETA: 1s - loss: 0.0013 - accuracy: 1.00 - ETA: 1s - loss: 0.0013 - accuracy: 1.00 - ETA: 1s - loss: 0.0013 - accuracy: 1.00 - ETA: 0s - loss: 0.0012 - accuracy: 1.00 - ETA: 0s - loss: 0.0012 - accuracy: 1.00 - ETA: 0s - loss: 0.0012 - accuracy: 1.00 - ETA: 0s - loss: 0.0011 - accuracy: 1.00 - ETA: 0s - loss: 0.0011 - accuracy: 1.00 - ETA: 0s - loss: 0.0010 - accuracy: 1.00 - ETA: 0s - loss: 0.0010 - accuracy: 1.00 - ETA: 0s - loss: 9.6912e-04 - accuracy: 1.00 - ETA: 0s - loss: 9.3508e-04 - accuracy: 1.00 - ETA: 0s - loss: 9.0368e-04 - accuracy: 1.00 - ETA: 0s - loss: 8.9604e-04 - accuracy: 1.00 - 3s 3ms/sample - loss: 8.6681e-04 - accuracy: 1.0000\n",
      "Epoch 4/10\n",
      "896/896 [==============================] - ETA: 2s - loss: 6.3353e-05 - accuracy: 1.00 - ETA: 2s - loss: 1.0135e-04 - accuracy: 1.00 - ETA: 2s - loss: 1.5765e-04 - accuracy: 1.00 - ETA: 2s - loss: 1.3674e-04 - accuracy: 1.00 - ETA: 2s - loss: 1.9101e-04 - accuracy: 1.00 - ETA: 1s - loss: 1.6669e-04 - accuracy: 1.00 - ETA: 1s - loss: 1.4976e-04 - accuracy: 1.00 - ETA: 1s - loss: 1.4061e-04 - accuracy: 1.00 - ETA: 1s - loss: 1.3348e-04 - accuracy: 1.00 - ETA: 1s - loss: 1.6772e-04 - accuracy: 1.00 - ETA: 1s - loss: 1.5964e-04 - accuracy: 1.00 - ETA: 1s - loss: 1.5306e-04 - accuracy: 1.00 - ETA: 1s - loss: 1.4743e-04 - accuracy: 1.00 - ETA: 1s - loss: 1.5974e-04 - accuracy: 1.00 - ETA: 1s - loss: 1.6600e-04 - accuracy: 1.00 - ETA: 1s - loss: 1.5921e-04 - accuracy: 1.00 - ETA: 0s - loss: 1.5776e-04 - accuracy: 1.00 - ETA: 0s - loss: 1.5476e-04 - accuracy: 1.00 - ETA: 0s - loss: 1.5241e-04 - accuracy: 1.00 - ETA: 0s - loss: 1.5417e-04 - accuracy: 1.00 - ETA: 0s - loss: 1.5067e-04 - accuracy: 1.00 - ETA: 0s - loss: 1.5006e-04 - accuracy: 1.00 - ETA: 0s - loss: 1.5028e-04 - accuracy: 1.00 - ETA: 0s - loss: 1.5973e-04 - accuracy: 1.00 - ETA: 0s - loss: 1.5716e-04 - accuracy: 1.00 - ETA: 0s - loss: 1.5368e-04 - accuracy: 1.00 - ETA: 0s - loss: 1.5075e-04 - accuracy: 1.00 - 2s 3ms/sample - loss: 1.5247e-04 - accuracy: 1.0000\n",
      "Epoch 5/10\n",
      "896/896 [==============================] - ETA: 2s - loss: 7.0186e-05 - accuracy: 1.00 - ETA: 2s - loss: 1.0410e-04 - accuracy: 1.00 - ETA: 2s - loss: 1.2319e-04 - accuracy: 1.00 - ETA: 2s - loss: 1.0211e-04 - accuracy: 1.00 - ETA: 2s - loss: 1.1083e-04 - accuracy: 1.00 - ETA: 1s - loss: 9.7289e-05 - accuracy: 1.00 - ETA: 1s - loss: 1.4284e-04 - accuracy: 1.00 - ETA: 1s - loss: 1.3534e-04 - accuracy: 1.00 - ETA: 1s - loss: 1.4294e-04 - accuracy: 1.00 - ETA: 1s - loss: 1.3364e-04 - accuracy: 1.00 - ETA: 1s - loss: 1.3438e-04 - accuracy: 1.00 - ETA: 1s - loss: 1.2884e-04 - accuracy: 1.00 - ETA: 1s - loss: 1.3104e-04 - accuracy: 1.00 - ETA: 1s - loss: 1.2561e-04 - accuracy: 1.00 - ETA: 1s - loss: 1.3322e-04 - accuracy: 1.00 - ETA: 1s - loss: 1.3965e-04 - accuracy: 1.00 - ETA: 0s - loss: 1.3663e-04 - accuracy: 1.00 - ETA: 0s - loss: 1.3628e-04 - accuracy: 1.00 - ETA: 0s - loss: 1.3774e-04 - accuracy: 1.00 - ETA: 0s - loss: 1.3395e-04 - accuracy: 1.00 - ETA: 0s - loss: 1.2943e-04 - accuracy: 1.00 - ETA: 0s - loss: 1.2624e-04 - accuracy: 1.00 - ETA: 0s - loss: 1.2532e-04 - accuracy: 1.00 - ETA: 0s - loss: 1.2095e-04 - accuracy: 1.00 - ETA: 0s - loss: 1.1791e-04 - accuracy: 1.00 - ETA: 0s - loss: 1.1595e-04 - accuracy: 1.00 - ETA: 0s - loss: 1.1368e-04 - accuracy: 1.00 - 3s 3ms/sample - loss: 1.1305e-04 - accuracy: 1.0000\n",
      "Epoch 6/10\n",
      "896/896 [==============================] - ETA: 2s - loss: 8.6596e-05 - accuracy: 1.00 - ETA: 2s - loss: 9.7983e-05 - accuracy: 1.00 - ETA: 2s - loss: 7.7000e-05 - accuracy: 1.00 - ETA: 2s - loss: 7.3576e-05 - accuracy: 1.00 - ETA: 2s - loss: 6.5427e-05 - accuracy: 1.00 - ETA: 2s - loss: 1.6315e-04 - accuracy: 1.00 - ETA: 1s - loss: 1.4664e-04 - accuracy: 1.00 - ETA: 1s - loss: 1.3678e-04 - accuracy: 1.00 - ETA: 1s - loss: 1.3436e-04 - accuracy: 1.00 - ETA: 1s - loss: 1.3188e-04 - accuracy: 1.00 - ETA: 1s - loss: 1.2784e-04 - accuracy: 1.00 - ETA: 1s - loss: 1.2743e-04 - accuracy: 1.00 - ETA: 1s - loss: 1.2181e-04 - accuracy: 1.00 - ETA: 1s - loss: 1.1497e-04 - accuracy: 1.00 - ETA: 1s - loss: 1.1068e-04 - accuracy: 1.00 - ETA: 1s - loss: 1.1393e-04 - accuracy: 1.00 - ETA: 0s - loss: 1.0988e-04 - accuracy: 1.00 - ETA: 0s - loss: 1.0828e-04 - accuracy: 1.00 - ETA: 0s - loss: 1.2282e-04 - accuracy: 1.00 - ETA: 0s - loss: 1.1884e-04 - accuracy: 1.00 - ETA: 0s - loss: 1.1679e-04 - accuracy: 1.00 - ETA: 0s - loss: 1.1450e-04 - accuracy: 1.00 - ETA: 0s - loss: 1.1255e-04 - accuracy: 1.00 - ETA: 0s - loss: 1.1756e-04 - accuracy: 1.00 - ETA: 0s - loss: 1.1422e-04 - accuracy: 1.00 - ETA: 0s - loss: 1.1386e-04 - accuracy: 1.00 - ETA: 0s - loss: 1.1267e-04 - accuracy: 1.00 - 3s 3ms/sample - loss: 1.1200e-04 - accuracy: 1.0000\n",
      "Epoch 7/10\n",
      "896/896 [==============================] - ETA: 2s - loss: 3.9453e-05 - accuracy: 1.00 - ETA: 2s - loss: 9.4364e-05 - accuracy: 1.00 - ETA: 2s - loss: 8.1352e-05 - accuracy: 1.00 - ETA: 2s - loss: 9.1097e-05 - accuracy: 1.00 - ETA: 2s - loss: 8.0764e-05 - accuracy: 1.00 - ETA: 1s - loss: 9.6319e-05 - accuracy: 1.00 - ETA: 1s - loss: 9.2546e-05 - accuracy: 1.00 - ETA: 1s - loss: 8.4551e-05 - accuracy: 1.00 - ETA: 1s - loss: 9.7592e-05 - accuracy: 1.00 - ETA: 1s - loss: 1.0418e-04 - accuracy: 1.00 - ETA: 1s - loss: 9.7625e-05 - accuracy: 1.00 - ETA: 1s - loss: 9.2864e-05 - accuracy: 1.00 - ETA: 1s - loss: 1.1234e-04 - accuracy: 1.00 - ETA: 1s - loss: 1.1058e-04 - accuracy: 1.00 - ETA: 1s - loss: 1.0998e-04 - accuracy: 1.00 - ETA: 1s - loss: 1.0546e-04 - accuracy: 1.00 - ETA: 0s - loss: 1.0233e-04 - accuracy: 1.00 - ETA: 0s - loss: 1.0036e-04 - accuracy: 1.00 - ETA: 0s - loss: 9.8656e-05 - accuracy: 1.00 - ETA: 0s - loss: 9.6133e-05 - accuracy: 1.00 - ETA: 0s - loss: 9.4126e-05 - accuracy: 1.00 - ETA: 0s - loss: 9.2940e-05 - accuracy: 1.00 - ETA: 0s - loss: 9.2157e-05 - accuracy: 1.00 - ETA: 0s - loss: 9.2945e-05 - accuracy: 1.00 - ETA: 0s - loss: 9.1749e-05 - accuracy: 1.00 - ETA: 0s - loss: 9.2635e-05 - accuracy: 1.00 - ETA: 0s - loss: 9.5973e-05 - accuracy: 1.00 - 2s 3ms/sample - loss: 9.5661e-05 - accuracy: 1.0000\n",
      "Epoch 8/10\n",
      "896/896 [==============================] - ETA: 2s - loss: 3.1381e-05 - accuracy: 1.00 - ETA: 2s - loss: 2.5074e-05 - accuracy: 1.00 - ETA: 2s - loss: 2.5157e-05 - accuracy: 1.00 - ETA: 2s - loss: 3.5140e-05 - accuracy: 1.00 - ETA: 2s - loss: 7.8105e-05 - accuracy: 1.00 - ETA: 1s - loss: 7.7122e-05 - accuracy: 1.00 - ETA: 1s - loss: 7.9469e-05 - accuracy: 1.00 - ETA: 1s - loss: 8.6555e-05 - accuracy: 1.00 - ETA: 1s - loss: 1.1927e-04 - accuracy: 1.00 - ETA: 1s - loss: 1.1729e-04 - accuracy: 1.00 - ETA: 1s - loss: 1.2131e-04 - accuracy: 1.00 - ETA: 1s - loss: 1.1824e-04 - accuracy: 1.00 - ETA: 1s - loss: 1.1240e-04 - accuracy: 1.00 - ETA: 1s - loss: 1.1186e-04 - accuracy: 1.00 - ETA: 1s - loss: 1.2176e-04 - accuracy: 1.00 - ETA: 1s - loss: 1.1909e-04 - accuracy: 1.00 - ETA: 0s - loss: 1.1480e-04 - accuracy: 1.00 - ETA: 0s - loss: 1.1116e-04 - accuracy: 1.00 - ETA: 0s - loss: 1.0948e-04 - accuracy: 1.00 - ETA: 0s - loss: 1.0761e-04 - accuracy: 1.00 - ETA: 0s - loss: 1.0455e-04 - accuracy: 1.00 - ETA: 0s - loss: 1.0252e-04 - accuracy: 1.00 - ETA: 0s - loss: 1.0083e-04 - accuracy: 1.00 - ETA: 0s - loss: 9.8266e-05 - accuracy: 1.00 - ETA: 0s - loss: 1.0065e-04 - accuracy: 1.00 - ETA: 0s - loss: 9.7853e-05 - accuracy: 1.00 - ETA: 0s - loss: 9.6707e-05 - accuracy: 1.00 - 2s 3ms/sample - loss: 9.7448e-05 - accuracy: 1.0000\n",
      "Epoch 9/10\n",
      "896/896 [==============================] - ETA: 2s - loss: 7.0355e-05 - accuracy: 1.00 - ETA: 2s - loss: 7.5600e-05 - accuracy: 1.00 - ETA: 2s - loss: 6.9946e-05 - accuracy: 1.00 - ETA: 2s - loss: 1.0532e-04 - accuracy: 1.00 - ETA: 1s - loss: 8.8024e-05 - accuracy: 1.00 - ETA: 1s - loss: 8.7996e-05 - accuracy: 1.00 - ETA: 1s - loss: 8.0225e-05 - accuracy: 1.00 - ETA: 1s - loss: 7.3563e-05 - accuracy: 1.00 - ETA: 1s - loss: 7.5138e-05 - accuracy: 1.00 - ETA: 1s - loss: 8.0000e-05 - accuracy: 1.00 - ETA: 1s - loss: 7.6573e-05 - accuracy: 1.00 - ETA: 1s - loss: 7.3308e-05 - accuracy: 1.00 - ETA: 1s - loss: 7.2116e-05 - accuracy: 1.00 - ETA: 1s - loss: 7.1193e-05 - accuracy: 1.00 - ETA: 1s - loss: 7.8956e-05 - accuracy: 1.00 - ETA: 1s - loss: 7.7016e-05 - accuracy: 1.00 - ETA: 0s - loss: 7.5070e-05 - accuracy: 1.00 - ETA: 0s - loss: 7.8290e-05 - accuracy: 1.00 - ETA: 0s - loss: 8.0309e-05 - accuracy: 1.00 - ETA: 0s - loss: 7.9489e-05 - accuracy: 1.00 - ETA: 0s - loss: 8.3646e-05 - accuracy: 1.00 - ETA: 0s - loss: 8.0499e-05 - accuracy: 1.00 - ETA: 0s - loss: 7.7735e-05 - accuracy: 1.00 - ETA: 0s - loss: 7.6128e-05 - accuracy: 1.00 - ETA: 0s - loss: 7.6668e-05 - accuracy: 1.00 - ETA: 0s - loss: 8.6238e-05 - accuracy: 1.00 - ETA: 0s - loss: 8.4893e-05 - accuracy: 1.00 - 2s 3ms/sample - loss: 8.3134e-05 - accuracy: 1.0000\n",
      "Epoch 10/10\n",
      "896/896 [==============================] - ETA: 2s - loss: 1.5993e-04 - accuracy: 1.00 - ETA: 2s - loss: 1.2076e-04 - accuracy: 1.00 - ETA: 2s - loss: 9.9674e-05 - accuracy: 1.00 - ETA: 2s - loss: 1.0026e-04 - accuracy: 1.00 - ETA: 2s - loss: 8.4140e-05 - accuracy: 1.00 - ETA: 1s - loss: 7.7103e-05 - accuracy: 1.00 - ETA: 1s - loss: 8.0241e-05 - accuracy: 1.00 - ETA: 1s - loss: 7.5573e-05 - accuracy: 1.00 - ETA: 1s - loss: 7.2244e-05 - accuracy: 1.00 - ETA: 1s - loss: 7.0916e-05 - accuracy: 1.00 - ETA: 1s - loss: 6.9306e-05 - accuracy: 1.00 - ETA: 1s - loss: 6.8450e-05 - accuracy: 1.00 - ETA: 1s - loss: 7.4692e-05 - accuracy: 1.00 - ETA: 1s - loss: 7.7445e-05 - accuracy: 1.00 - ETA: 1s - loss: 7.7733e-05 - accuracy: 1.00 - ETA: 1s - loss: 7.7265e-05 - accuracy: 1.00 - ETA: 0s - loss: 7.8296e-05 - accuracy: 1.00 - ETA: 0s - loss: 7.6898e-05 - accuracy: 1.00 - ETA: 0s - loss: 7.4139e-05 - accuracy: 1.00 - ETA: 0s - loss: 7.1093e-05 - accuracy: 1.00 - ETA: 0s - loss: 6.8768e-05 - accuracy: 1.00 - ETA: 0s - loss: 6.6372e-05 - accuracy: 1.00 - ETA: 0s - loss: 6.9511e-05 - accuracy: 1.00 - ETA: 0s - loss: 7.0451e-05 - accuracy: 1.00 - ETA: 0s - loss: 7.5571e-05 - accuracy: 1.00 - ETA: 0s - loss: 7.4081e-05 - accuracy: 1.00 - ETA: 0s - loss: 8.8916e-05 - accuracy: 1.00 - 2s 3ms/sample - loss: 8.6887e-05 - accuracy: 1.0000\n"
     ]
    }
   ],
   "source": [
    "history = model30.fit(x_train30, y_train30, epochs=10)"
   ]
  },
  {
   "cell_type": "code",
   "execution_count": 84,
   "metadata": {},
   "outputs": [],
   "source": [
    "acy = history.history['accuracy']\n",
    "loss = history.history['loss']"
   ]
  },
  {
   "cell_type": "code",
   "execution_count": 85,
   "metadata": {},
   "outputs": [
    {
     "data": {
      "image/png": "[encoded data removed]",
      "text/plain": [
       "<Figure size 1152x288 with 2 Axes>"
      ]
     },
     "metadata": {
      "needs_background": "light"
     },
     "output_type": "display_data"
    }
   ],
   "source": [
    "fig, axes = plt.subplots(ncols=2, figsize=(16, 4))\n",
    "axes[0].plot(acy, c='r')\n",
    "axes[1].plot(loss, c='c')\n",
    "plt.show()"
   ]
  },
  {
   "cell_type": "markdown",
   "metadata": {},
   "source": [
    "#### 模型测试"
   ]
  },
  {
   "cell_type": "code",
   "execution_count": 104,
   "metadata": {},
   "outputs": [
    {
     "data": {
      "text/plain": [
       "(224, 4)"
      ]
     },
     "execution_count": 104,
     "metadata": {},
     "output_type": "execute_result"
    }
   ],
   "source": [
    "result1 = model30.predict(x_test30)\n",
    "result1.shape"
   ]
  },
  {
   "cell_type": "code",
   "execution_count": 105,
   "metadata": {},
   "outputs": [
    {
     "data": {
      "text/plain": [
       "array([[2.],\n",
       "       [0.],\n",
       "       [2.],\n",
       "       [2.],\n",
       "       [1.],\n",
       "       [1.],\n",
       "       [2.],\n",
       "       [1.],\n",
       "       [2.],\n",
       "       [3.],\n",
       "       [1.],\n",
       "       [1.],\n",
       "       [0.],\n",
       "       [3.],\n",
       "       [1.],\n",
       "       [0.],\n",
       "       [0.],\n",
       "       [0.],\n",
       "       [2.],\n",
       "       [3.],\n",
       "       [3.],\n",
       "       [2.],\n",
       "       [2.],\n",
       "       [1.],\n",
       "       [1.],\n",
       "       [1.],\n",
       "       [1.],\n",
       "       [2.],\n",
       "       [0.],\n",
       "       [0.],\n",
       "       [0.],\n",
       "       [3.],\n",
       "       [1.],\n",
       "       [0.],\n",
       "       [1.],\n",
       "       [1.],\n",
       "       [1.],\n",
       "       [0.],\n",
       "       [0.],\n",
       "       [0.],\n",
       "       [0.],\n",
       "       [0.],\n",
       "       [1.],\n",
       "       [0.],\n",
       "       [2.],\n",
       "       [3.],\n",
       "       [1.],\n",
       "       [2.],\n",
       "       [1.],\n",
       "       [2.],\n",
       "       [2.],\n",
       "       [1.],\n",
       "       [3.],\n",
       "       [2.],\n",
       "       [1.],\n",
       "       [2.],\n",
       "       [1.],\n",
       "       [2.],\n",
       "       [1.],\n",
       "       [1.],\n",
       "       [1.],\n",
       "       [1.],\n",
       "       [3.],\n",
       "       [0.],\n",
       "       [3.],\n",
       "       [0.],\n",
       "       [2.],\n",
       "       [1.],\n",
       "       [2.],\n",
       "       [2.],\n",
       "       [3.],\n",
       "       [1.],\n",
       "       [1.],\n",
       "       [1.],\n",
       "       [0.],\n",
       "       [3.],\n",
       "       [2.],\n",
       "       [0.],\n",
       "       [3.],\n",
       "       [1.],\n",
       "       [1.],\n",
       "       [1.],\n",
       "       [1.],\n",
       "       [2.],\n",
       "       [3.],\n",
       "       [2.],\n",
       "       [1.],\n",
       "       [2.],\n",
       "       [0.],\n",
       "       [2.],\n",
       "       [1.],\n",
       "       [2.],\n",
       "       [1.],\n",
       "       [1.],\n",
       "       [1.],\n",
       "       [1.],\n",
       "       [1.],\n",
       "       [2.],\n",
       "       [3.],\n",
       "       [1.],\n",
       "       [0.],\n",
       "       [0.],\n",
       "       [2.],\n",
       "       [2.],\n",
       "       [1.],\n",
       "       [1.],\n",
       "       [1.],\n",
       "       [0.],\n",
       "       [2.],\n",
       "       [0.],\n",
       "       [2.],\n",
       "       [1.],\n",
       "       [0.],\n",
       "       [1.],\n",
       "       [2.],\n",
       "       [1.],\n",
       "       [2.],\n",
       "       [0.],\n",
       "       [1.],\n",
       "       [2.],\n",
       "       [2.],\n",
       "       [0.],\n",
       "       [1.],\n",
       "       [2.],\n",
       "       [1.],\n",
       "       [2.],\n",
       "       [1.],\n",
       "       [1.],\n",
       "       [3.],\n",
       "       [2.],\n",
       "       [3.],\n",
       "       [3.],\n",
       "       [2.],\n",
       "       [0.],\n",
       "       [1.],\n",
       "       [2.],\n",
       "       [0.],\n",
       "       [3.],\n",
       "       [0.],\n",
       "       [0.],\n",
       "       [2.],\n",
       "       [0.],\n",
       "       [1.],\n",
       "       [3.],\n",
       "       [0.],\n",
       "       [2.],\n",
       "       [1.],\n",
       "       [1.],\n",
       "       [1.],\n",
       "       [3.],\n",
       "       [2.],\n",
       "       [1.],\n",
       "       [1.],\n",
       "       [0.],\n",
       "       [1.],\n",
       "       [3.],\n",
       "       [2.],\n",
       "       [2.],\n",
       "       [0.],\n",
       "       [2.],\n",
       "       [0.],\n",
       "       [1.],\n",
       "       [0.],\n",
       "       [2.],\n",
       "       [1.],\n",
       "       [1.],\n",
       "       [0.],\n",
       "       [2.],\n",
       "       [2.],\n",
       "       [0.],\n",
       "       [0.],\n",
       "       [1.],\n",
       "       [2.],\n",
       "       [0.],\n",
       "       [0.],\n",
       "       [1.],\n",
       "       [2.],\n",
       "       [0.],\n",
       "       [0.],\n",
       "       [2.],\n",
       "       [1.],\n",
       "       [3.],\n",
       "       [1.],\n",
       "       [2.],\n",
       "       [2.],\n",
       "       [2.],\n",
       "       [2.],\n",
       "       [2.],\n",
       "       [0.],\n",
       "       [2.],\n",
       "       [1.],\n",
       "       [2.],\n",
       "       [1.],\n",
       "       [1.],\n",
       "       [2.],\n",
       "       [0.],\n",
       "       [1.],\n",
       "       [1.],\n",
       "       [0.],\n",
       "       [1.],\n",
       "       [3.],\n",
       "       [1.],\n",
       "       [3.],\n",
       "       [2.],\n",
       "       [2.],\n",
       "       [2.],\n",
       "       [2.],\n",
       "       [1.],\n",
       "       [2.],\n",
       "       [0.],\n",
       "       [2.],\n",
       "       [3.],\n",
       "       [1.],\n",
       "       [0.],\n",
       "       [1.],\n",
       "       [1.],\n",
       "       [0.],\n",
       "       [3.],\n",
       "       [1.],\n",
       "       [1.],\n",
       "       [2.],\n",
       "       [0.],\n",
       "       [1.],\n",
       "       [3.]])"
      ]
     },
     "execution_count": 105,
     "metadata": {},
     "output_type": "execute_result"
    }
   ],
   "source": [
    "array = np.zeros((len(result1), 1))\n",
    "for i in range(len(result1)):\n",
    "    array[i] = np.argmax(result1[i])\n",
    "array"
   ]
  },
  {
   "cell_type": "code",
   "execution_count": 106,
   "metadata": {},
   "outputs": [
    {
     "data": {
      "text/plain": [
       "224"
      ]
     },
     "execution_count": 106,
     "metadata": {},
     "output_type": "execute_result"
    }
   ],
   "source": [
    "num = 0\n",
    "for i in range(len(array)):\n",
    "    if array[i, 0] == y_test30[i]:\n",
    "        num += 1\n",
    "num"
   ]
  },
  {
   "cell_type": "markdown",
   "metadata": {},
   "source": [
    "### 9  10cm模型"
   ]
  },
  {
   "cell_type": "markdown",
   "metadata": {},
   "source": [
    "#### 获取数据"
   ]
  },
  {
   "cell_type": "code",
   "execution_count": 56,
   "metadata": {},
   "outputs": [],
   "source": [
    "fd3 = pd.read_csv('../Cs137data/csv/pulse2525.csv')\n",
    "fd4 = pd.read_csv('../Cs137data/csv/realtime2525.csv')"
   ]
  },
  {
   "cell_type": "code",
   "execution_count": 62,
   "metadata": {},
   "outputs": [],
   "source": [
    "pulse_10cm = fd3.values\n",
    "realtime_10cm = fd4.values"
   ]
  },
  {
   "cell_type": "code",
   "execution_count": 63,
   "metadata": {},
   "outputs": [
    {
     "data": {
      "text/plain": [
       "(array([  0.,  23., 114., ...,  66.,  65.,   0.]),\n",
       " array([0.000000e+00, 2.200000e-02, 1.208000e-01, ..., 3.232262e+02,\n",
       "        3.235290e+02, 3.235540e+02]))"
      ]
     },
     "execution_count": 63,
     "metadata": {},
     "output_type": "execute_result"
    }
   ],
   "source": [
    "pulse_10cm[0], realtime_10cm[0]"
   ]
  },
  {
   "cell_type": "code",
   "execution_count": 64,
   "metadata": {},
   "outputs": [
    {
     "data": {
      "text/plain": [
       "((11135, 2502), (11135, 2501))"
      ]
     },
     "execution_count": 64,
     "metadata": {},
     "output_type": "execute_result"
    }
   ],
   "source": [
    "pulse_10cm.shape, realtime_10cm.shape"
   ]
  },
  {
   "cell_type": "code",
   "execution_count": 65,
   "metadata": {},
   "outputs": [
    {
     "data": {
      "text/plain": [
       "((11135,), (11135, 2501), (11135, 2500))"
      ]
     },
     "execution_count": 65,
     "metadata": {},
     "output_type": "execute_result"
    }
   ],
   "source": [
    "labels = pulse_10cm[: ,-1]\n",
    "pulse_10cm = pulse_10cm[:, 1: 2502]\n",
    "realtime_10cm = realtime_10cm[:, 1: 2501]\n",
    "labels.shape, pulse_10cm.shape, realtime_10cm.shape"
   ]
  },
  {
   "cell_type": "code",
   "execution_count": 67,
   "metadata": {},
   "outputs": [
    {
     "name": "stdout",
     "output_type": "stream",
     "text": [
      "len(index) = 81\n",
      "pulse.shape =  (11054, 2501) realtime.shape =  (11054, 2500) dataSet.shape =  (11054, 50, 50, 2)\n"
     ]
    }
   ],
   "source": [
    "dataSet10cm, labels_10cm = nuc.scquential_data_trans_CNN_data(pulse_10cm, realtime_10cm, labels)"
   ]
  },
  {
   "cell_type": "code",
   "execution_count": 68,
   "metadata": {},
   "outputs": [],
   "source": [
    "dataSet10cm[:, :, :, 0] = dataSet10cm[:, :, :, 0] / np.max(dataSet10cm[:, :, :, 0])\n",
    "dataSet10cm[:, :, :, 1] = dataSet10cm[:, :, :, 1] / np.max(dataSet10cm[:, :, :, 1])"
   ]
  },
  {
   "cell_type": "code",
   "execution_count": 69,
   "metadata": {},
   "outputs": [
    {
     "name": "stdout",
     "output_type": "stream",
     "text": [
      "x_train.shape= (7737, 50, 50, 2) y_train.shape= (7737,) x_test.shape= (3317, 50, 50, 2) y_test.shape= (3317,)\n"
     ]
    }
   ],
   "source": [
    "x_train, y_train, x_test, y_test = nuc.split_dataSet(dataSet10cm, labels_10cm, test_size=0.3, random_state=42)"
   ]
  },
  {
   "cell_type": "markdown",
   "metadata": {},
   "source": [
    "#### 训练模型"
   ]
  },
  {
   "cell_type": "code",
   "execution_count": 70,
   "metadata": {},
   "outputs": [],
   "source": [
    "model = models.Sequential()  # 线性模型\n",
    "model.add(layers.Conv2D(32, (3, 3), activation='relu', input_shape=(50, 50, 2)))\n",
    "model.add(layers.MaxPooling2D((2, 2)))\n",
    "model.add(layers.Conv2D(64, (3, 3), activation='relu'))\n",
    "model.add(layers.MaxPooling2D((2, 2)))\n",
    "model.add(layers.Conv2D(64, (3, 3), activation='relu'))"
   ]
  },
  {
   "cell_type": "code",
   "execution_count": 71,
   "metadata": {},
   "outputs": [],
   "source": [
    "model.add(layers.Flatten())\n",
    "model.add(layers.Dense(64, activation='relu'))\n",
    "model.add(layers.Dense(4, activation='softmax'))"
   ]
  },
  {
   "cell_type": "code",
   "execution_count": 72,
   "metadata": {},
   "outputs": [],
   "source": [
    "model.compile(optimizer='adam',\n",
    "              loss='sparse_categorical_crossentropy',\n",
    "              metrics=['accuracy'])"
   ]
  },
  {
   "cell_type": "code",
   "execution_count": 73,
   "metadata": {
    "scrolled": true
   },
   "outputs": [
    {
     "name": "stdout",
     "output_type": "stream",
     "text": [
      "Train on 7737 samples\n",
      "Epoch 1/10\n",
      "6016/7737 [======================>.......] - ETA: 52s - loss: 1.3976 - accuracy: 0.218 - ETA: 37s - loss: 1.3593 - accuracy: 0.328 - ETA: 31s - loss: 1.2951 - accuracy: 0.354 - ETA: 27s - loss: 1.2654 - accuracy: 0.335 - ETA: 26s - loss: 1.2533 - accuracy: 0.343 - ETA: 25s - loss: 1.2318 - accuracy: 0.322 - ETA: 24s - loss: 1.1989 - accuracy: 0.343 - ETA: 24s - loss: 1.1790 - accuracy: 0.343 - ETA: 24s - loss: 1.1817 - accuracy: 0.336 - ETA: 23s - loss: 1.1639 - accuracy: 0.350 - ETA: 23s - loss: 1.1487 - accuracy: 0.360 - ETA: 22s - loss: 1.1284 - accuracy: 0.372 - ETA: 22s - loss: 1.1307 - accuracy: 0.372 - ETA: 22s - loss: 1.1266 - accuracy: 0.370 - ETA: 21s - loss: 1.1157 - accuracy: 0.372 - ETA: 21s - loss: 1.1118 - accuracy: 0.371 - ETA: 21s - loss: 1.1013 - accuracy: 0.380 - ETA: 21s - loss: 1.0935 - accuracy: 0.383 - ETA: 20s - loss: 1.0889 - accuracy: 0.381 - ETA: 20s - loss: 1.0826 - accuracy: 0.378 - ETA: 20s - loss: 1.0750 - accuracy: 0.383 - ETA: 20s - loss: 1.0700 - accuracy: 0.379 - ETA: 20s - loss: 1.0677 - accuracy: 0.385 - ETA: 19s - loss: 1.0618 - accuracy: 0.395 - ETA: 19s - loss: 1.0554 - accuracy: 0.403 - ETA: 19s - loss: 1.0500 - accuracy: 0.401 - ETA: 19s - loss: 1.0422 - accuracy: 0.410 - ETA: 19s - loss: 1.0387 - accuracy: 0.410 - ETA: 19s - loss: 1.0336 - accuracy: 0.410 - ETA: 19s - loss: 1.0273 - accuracy: 0.419 - ETA: 19s - loss: 1.0215 - accuracy: 0.421 - ETA: 18s - loss: 1.0114 - accuracy: 0.431 - ETA: 18s - loss: 1.0065 - accuracy: 0.436 - ETA: 18s - loss: 0.9987 - accuracy: 0.441 - ETA: 18s - loss: 0.9941 - accuracy: 0.443 - ETA: 18s - loss: 0.9856 - accuracy: 0.454 - ETA: 18s - loss: 0.9760 - accuracy: 0.463 - ETA: 18s - loss: 0.9657 - accuracy: 0.472 - ETA: 18s - loss: 0.9564 - accuracy: 0.480 - ETA: 18s - loss: 0.9472 - accuracy: 0.486 - ETA: 17s - loss: 0.9402 - accuracy: 0.490 - ETA: 17s - loss: 0.9360 - accuracy: 0.493 - ETA: 17s - loss: 0.9260 - accuracy: 0.500 - ETA: 17s - loss: 0.9179 - accuracy: 0.507 - ETA: 17s - loss: 0.9065 - accuracy: 0.514 - ETA: 17s - loss: 0.9023 - accuracy: 0.517 - ETA: 17s - loss: 0.8971 - accuracy: 0.519 - ETA: 17s - loss: 0.8877 - accuracy: 0.527 - ETA: 17s - loss: 0.8796 - accuracy: 0.531 - ETA: 17s - loss: 0.8718 - accuracy: 0.537 - ETA: 16s - loss: 0.8645 - accuracy: 0.539 - ETA: 16s - loss: 0.8563 - accuracy: 0.546 - ETA: 16s - loss: 0.8483 - accuracy: 0.553 - ETA: 16s - loss: 0.8426 - accuracy: 0.554 - ETA: 16s - loss: 0.8364 - accuracy: 0.557 - ETA: 16s - loss: 0.8290 - accuracy: 0.560 - ETA: 16s - loss: 0.8212 - accuracy: 0.565 - ETA: 16s - loss: 0.8133 - accuracy: 0.570 - ETA: 16s - loss: 0.8076 - accuracy: 0.575 - ETA: 16s - loss: 0.8006 - accuracy: 0.579 - ETA: 15s - loss: 0.7928 - accuracy: 0.584 - ETA: 15s - loss: 0.7860 - accuracy: 0.589 - ETA: 15s - loss: 0.7788 - accuracy: 0.594 - ETA: 15s - loss: 0.7758 - accuracy: 0.596 - ETA: 15s - loss: 0.7685 - accuracy: 0.600 - ETA: 15s - loss: 0.7619 - accuracy: 0.605 - ETA: 15s - loss: 0.7548 - accuracy: 0.609 - ETA: 15s - loss: 0.7503 - accuracy: 0.613 - ETA: 15s - loss: 0.7441 - accuracy: 0.617 - ETA: 15s - loss: 0.7403 - accuracy: 0.620 - ETA: 15s - loss: 0.7339 - accuracy: 0.624 - ETA: 14s - loss: 0.7274 - accuracy: 0.628 - ETA: 14s - loss: 0.7209 - accuracy: 0.633 - ETA: 14s - loss: 0.7157 - accuracy: 0.636 - ETA: 14s - loss: 0.7099 - accuracy: 0.639 - ETA: 14s - loss: 0.7032 - accuracy: 0.643 - ETA: 14s - loss: 0.7001 - accuracy: 0.644 - ETA: 14s - loss: 0.6950 - accuracy: 0.647 - ETA: 14s - loss: 0.6894 - accuracy: 0.650 - ETA: 14s - loss: 0.6821 - accuracy: 0.654 - ETA: 14s - loss: 0.6770 - accuracy: 0.657 - ETA: 14s - loss: 0.6699 - accuracy: 0.661 - ETA: 13s - loss: 0.6664 - accuracy: 0.662 - ETA: 13s - loss: 0.6600 - accuracy: 0.666 - ETA: 13s - loss: 0.6583 - accuracy: 0.666 - ETA: 13s - loss: 0.6522 - accuracy: 0.670 - ETA: 13s - loss: 0.6489 - accuracy: 0.671 - ETA: 13s - loss: 0.6437 - accuracy: 0.674 - ETA: 13s - loss: 0.6384 - accuracy: 0.677 - ETA: 13s - loss: 0.6337 - accuracy: 0.680 - ETA: 13s - loss: 0.6275 - accuracy: 0.683 - ETA: 13s - loss: 0.6219 - accuracy: 0.686 - ETA: 13s - loss: 0.6181 - accuracy: 0.688 - ETA: 12s - loss: 0.6124 - accuracy: 0.692 - ETA: 12s - loss: 0.6072 - accuracy: 0.694 - ETA: 12s - loss: 0.6039 - accuracy: 0.697 - ETA: 12s - loss: 0.5986 - accuracy: 0.700 - ETA: 12s - loss: 0.5940 - accuracy: 0.703 - ETA: 12s - loss: 0.5927 - accuracy: 0.703 - ETA: 12s - loss: 0.5873 - accuracy: 0.706 - ETA: 12s - loss: 0.5844 - accuracy: 0.708 - ETA: 12s - loss: 0.5808 - accuracy: 0.710 - ETA: 12s - loss: 0.5765 - accuracy: 0.713 - ETA: 12s - loss: 0.5725 - accuracy: 0.714 - ETA: 11s - loss: 0.5692 - accuracy: 0.716 - ETA: 11s - loss: 0.5642 - accuracy: 0.719 - ETA: 11s - loss: 0.5598 - accuracy: 0.722 - ETA: 11s - loss: 0.5574 - accuracy: 0.722 - ETA: 11s - loss: 0.5528 - accuracy: 0.725 - ETA: 11s - loss: 0.5484 - accuracy: 0.727 - ETA: 11s - loss: 0.5457 - accuracy: 0.728 - ETA: 11s - loss: 0.5420 - accuracy: 0.730 - ETA: 11s - loss: 0.5380 - accuracy: 0.732 - ETA: 11s - loss: 0.5342 - accuracy: 0.734 - ETA: 11s - loss: 0.5311 - accuracy: 0.736 - ETA: 11s - loss: 0.5283 - accuracy: 0.738 - ETA: 10s - loss: 0.5252 - accuracy: 0.740 - ETA: 10s - loss: 0.5221 - accuracy: 0.741 - ETA: 10s - loss: 0.5185 - accuracy: 0.743 - ETA: 10s - loss: 0.5144 - accuracy: 0.745 - ETA: 10s - loss: 0.5121 - accuracy: 0.746 - ETA: 10s - loss: 0.5084 - accuracy: 0.748 - ETA: 10s - loss: 0.5045 - accuracy: 0.750 - ETA: 10s - loss: 0.5010 - accuracy: 0.752 - ETA: 10s - loss: 0.4980 - accuracy: 0.754 - ETA: 10s - loss: 0.4944 - accuracy: 0.756 - ETA: 10s - loss: 0.4906 - accuracy: 0.757 - ETA: 9s - loss: 0.4879 - accuracy: 0.759 - ETA: 9s - loss: 0.4846 - accuracy: 0.76 - ETA: 9s - loss: 0.4809 - accuracy: 0.76 - ETA: 9s - loss: 0.4774 - accuracy: 0.76 - ETA: 9s - loss: 0.4742 - accuracy: 0.76 - ETA: 9s - loss: 0.4709 - accuracy: 0.76 - ETA: 9s - loss: 0.4677 - accuracy: 0.76 - ETA: 9s - loss: 0.4643 - accuracy: 0.77 - ETA: 9s - loss: 0.4610 - accuracy: 0.77 - ETA: 9s - loss: 0.4578 - accuracy: 0.77 - ETA: 9s - loss: 0.4548 - accuracy: 0.77 - ETA: 9s - loss: 0.4516 - accuracy: 0.77 - ETA: 8s - loss: 0.4485 - accuracy: 0.77 - ETA: 8s - loss: 0.4454 - accuracy: 0.78 - ETA: 8s - loss: 0.4423 - accuracy: 0.78 - ETA: 8s - loss: 0.4394 - accuracy: 0.78 - ETA: 8s - loss: 0.4370 - accuracy: 0.78 - ETA: 8s - loss: 0.4341 - accuracy: 0.78 - ETA: 8s - loss: 0.4313 - accuracy: 0.78 - ETA: 8s - loss: 0.4288 - accuracy: 0.78 - ETA: 8s - loss: 0.4261 - accuracy: 0.79 - ETA: 8s - loss: 0.4233 - accuracy: 0.79 - ETA: 8s - loss: 0.4206 - accuracy: 0.79 - ETA: 8s - loss: 0.4182 - accuracy: 0.79 - ETA: 7s - loss: 0.4156 - accuracy: 0.79 - ETA: 7s - loss: 0.4135 - accuracy: 0.79 - ETA: 7s - loss: 0.4109 - accuracy: 0.79 - ETA: 7s - loss: 0.4083 - accuracy: 0.80 - ETA: 7s - loss: 0.4057 - accuracy: 0.80 - ETA: 7s - loss: 0.4032 - accuracy: 0.80 - ETA: 7s - loss: 0.4007 - accuracy: 0.80 - ETA: 7s - loss: 0.3982 - accuracy: 0.80 - ETA: 7s - loss: 0.3958 - accuracy: 0.80 - ETA: 7s - loss: 0.3935 - accuracy: 0.80 - ETA: 7s - loss: 0.3911 - accuracy: 0.80 - ETA: 6s - loss: 0.3887 - accuracy: 0.80 - ETA: 6s - loss: 0.3864 - accuracy: 0.81 - ETA: 6s - loss: 0.3841 - accuracy: 0.81 - ETA: 6s - loss: 0.3820 - accuracy: 0.81 - ETA: 6s - loss: 0.3797 - accuracy: 0.81 - ETA: 6s - loss: 0.3775 - accuracy: 0.81 - ETA: 6s - loss: 0.3753 - accuracy: 0.81 - ETA: 6s - loss: 0.3732 - accuracy: 0.81 - ETA: 6s - loss: 0.3710 - accuracy: 0.81 - ETA: 6s - loss: 0.3689 - accuracy: 0.81 - ETA: 6s - loss: 0.3668 - accuracy: 0.82 - ETA: 6s - loss: 0.3647 - accuracy: 0.82 - ETA: 5s - loss: 0.3627 - accuracy: 0.82 - ETA: 5s - loss: 0.3606 - accuracy: 0.82 - ETA: 5s - loss: 0.3586 - accuracy: 0.82 - ETA: 5s - loss: 0.3566 - accuracy: 0.82 - ETA: 5s - loss: 0.3547 - accuracy: 0.82 - ETA: 5s - loss: 0.3527 - accuracy: 0.82 - ETA: 5s - loss: 0.3508 - accuracy: 0.82 - ETA: 5s - loss: 0.3489 - accuracy: 0.82 - ETA: 5s - loss: 0.3470 - accuracy: 0.83 - ETA: 5s - loss: 0.3451 - accuracy: 0.83 - ETA: 5s - loss: 0.3433 - accuracy: 0.83 - ETA: 4s - loss: 0.3415 - accuracy: 0.83 - ETA: 4s - loss: 0.3397 - accuracy: 0.83 - ETA: 4s - loss: 0.3379 - accuracy: 0.837737/7737 [==============================] - ETA: 4s - loss: 0.3361 - accuracy: 0.83 - ETA: 4s - loss: 0.3345 - accuracy: 0.83 - ETA: 4s - loss: 0.3328 - accuracy: 0.83 - ETA: 4s - loss: 0.3310 - accuracy: 0.83 - ETA: 4s - loss: 0.3294 - accuracy: 0.83 - ETA: 4s - loss: 0.3278 - accuracy: 0.84 - ETA: 4s - loss: 0.3262 - accuracy: 0.84 - ETA: 4s - loss: 0.3245 - accuracy: 0.84 - ETA: 3s - loss: 0.3229 - accuracy: 0.84 - ETA: 3s - loss: 0.3213 - accuracy: 0.84 - ETA: 3s - loss: 0.3198 - accuracy: 0.84 - ETA: 3s - loss: 0.3183 - accuracy: 0.84 - ETA: 3s - loss: 0.3167 - accuracy: 0.84 - ETA: 3s - loss: 0.3152 - accuracy: 0.84 - ETA: 3s - loss: 0.3140 - accuracy: 0.84 - ETA: 3s - loss: 0.3125 - accuracy: 0.84 - ETA: 3s - loss: 0.3110 - accuracy: 0.84 - ETA: 3s - loss: 0.3098 - accuracy: 0.84 - ETA: 3s - loss: 0.3084 - accuracy: 0.84 - ETA: 2s - loss: 0.3069 - accuracy: 0.85 - ETA: 2s - loss: 0.3055 - accuracy: 0.85 - ETA: 2s - loss: 0.3040 - accuracy: 0.85 - ETA: 2s - loss: 0.3027 - accuracy: 0.85 - ETA: 2s - loss: 0.3016 - accuracy: 0.85 - ETA: 2s - loss: 0.3002 - accuracy: 0.85 - ETA: 2s - loss: 0.2988 - accuracy: 0.85 - ETA: 2s - loss: 0.2984 - accuracy: 0.85 - ETA: 2s - loss: 0.2970 - accuracy: 0.85 - ETA: 2s - loss: 0.2968 - accuracy: 0.85 - ETA: 2s - loss: 0.2956 - accuracy: 0.85 - ETA: 2s - loss: 0.2943 - accuracy: 0.85 - ETA: 1s - loss: 0.2934 - accuracy: 0.85 - ETA: 1s - loss: 0.2923 - accuracy: 0.85 - ETA: 1s - loss: 0.2910 - accuracy: 0.85 - ETA: 1s - loss: 0.2897 - accuracy: 0.85 - ETA: 1s - loss: 0.2884 - accuracy: 0.85 - ETA: 1s - loss: 0.2872 - accuracy: 0.86 - ETA: 1s - loss: 0.2860 - accuracy: 0.86 - ETA: 1s - loss: 0.2848 - accuracy: 0.86 - ETA: 1s - loss: 0.2836 - accuracy: 0.86 - ETA: 1s - loss: 0.2824 - accuracy: 0.86 - ETA: 1s - loss: 0.2812 - accuracy: 0.86 - ETA: 0s - loss: 0.2800 - accuracy: 0.86 - ETA: 0s - loss: 0.2788 - accuracy: 0.86 - ETA: 0s - loss: 0.2778 - accuracy: 0.86 - ETA: 0s - loss: 0.2767 - accuracy: 0.86 - ETA: 0s - loss: 0.2755 - accuracy: 0.86 - ETA: 0s - loss: 0.2745 - accuracy: 0.86 - ETA: 0s - loss: 0.2735 - accuracy: 0.86 - ETA: 0s - loss: 0.2723 - accuracy: 0.86 - ETA: 0s - loss: 0.2712 - accuracy: 0.86 - ETA: 0s - loss: 0.2701 - accuracy: 0.86 - ETA: 0s - loss: 0.2690 - accuracy: 0.86 - 21s 3ms/sample - loss: 0.2682 - accuracy: 0.8700\n",
      "Epoch 2/10\n"
     ]
    },
    {
     "name": "stdout",
     "output_type": "stream",
     "text": [
      "6016/7737 [======================>.......] - ETA: 21s - loss: 0.0060 - accuracy: 1.000 - ETA: 20s - loss: 0.0075 - accuracy: 1.000 - ETA: 19s - loss: 0.0081 - accuracy: 1.000 - ETA: 19s - loss: 0.0073 - accuracy: 1.000 - ETA: 19s - loss: 0.0078 - accuracy: 1.000 - ETA: 19s - loss: 0.0068 - accuracy: 1.000 - ETA: 19s - loss: 0.0065 - accuracy: 1.000 - ETA: 19s - loss: 0.0065 - accuracy: 1.000 - ETA: 19s - loss: 0.0071 - accuracy: 1.000 - ETA: 19s - loss: 0.0070 - accuracy: 1.000 - ETA: 19s - loss: 0.0066 - accuracy: 1.000 - ETA: 19s - loss: 0.0062 - accuracy: 1.000 - ETA: 19s - loss: 0.0059 - accuracy: 1.000 - ETA: 19s - loss: 0.0056 - accuracy: 1.000 - ETA: 19s - loss: 0.0060 - accuracy: 1.000 - ETA: 19s - loss: 0.0060 - accuracy: 1.000 - ETA: 19s - loss: 0.0057 - accuracy: 1.000 - ETA: 19s - loss: 0.0054 - accuracy: 1.000 - ETA: 19s - loss: 0.0053 - accuracy: 1.000 - ETA: 19s - loss: 0.0058 - accuracy: 1.000 - ETA: 19s - loss: 0.0065 - accuracy: 1.000 - ETA: 19s - loss: 0.0063 - accuracy: 1.000 - ETA: 18s - loss: 0.0061 - accuracy: 1.000 - ETA: 18s - loss: 0.0063 - accuracy: 1.000 - ETA: 18s - loss: 0.0061 - accuracy: 1.000 - ETA: 18s - loss: 0.0059 - accuracy: 1.000 - ETA: 18s - loss: 0.0057 - accuracy: 1.000 - ETA: 18s - loss: 0.0056 - accuracy: 1.000 - ETA: 18s - loss: 0.0056 - accuracy: 1.000 - ETA: 18s - loss: 0.0054 - accuracy: 1.000 - ETA: 18s - loss: 0.0054 - accuracy: 1.000 - ETA: 18s - loss: 0.0053 - accuracy: 1.000 - ETA: 18s - loss: 0.0052 - accuracy: 1.000 - ETA: 17s - loss: 0.0051 - accuracy: 1.000 - ETA: 17s - loss: 0.0049 - accuracy: 1.000 - ETA: 17s - loss: 0.0049 - accuracy: 1.000 - ETA: 17s - loss: 0.0048 - accuracy: 1.000 - ETA: 17s - loss: 0.0047 - accuracy: 1.000 - ETA: 17s - loss: 0.0045 - accuracy: 1.000 - ETA: 17s - loss: 0.0044 - accuracy: 1.000 - ETA: 17s - loss: 0.0044 - accuracy: 1.000 - ETA: 17s - loss: 0.0043 - accuracy: 1.000 - ETA: 17s - loss: 0.0043 - accuracy: 1.000 - ETA: 17s - loss: 0.0042 - accuracy: 1.000 - ETA: 17s - loss: 0.0041 - accuracy: 1.000 - ETA: 16s - loss: 0.0040 - accuracy: 1.000 - ETA: 16s - loss: 0.0040 - accuracy: 1.000 - ETA: 16s - loss: 0.0039 - accuracy: 1.000 - ETA: 16s - loss: 0.0038 - accuracy: 1.000 - ETA: 16s - loss: 0.0038 - accuracy: 1.000 - ETA: 16s - loss: 0.0037 - accuracy: 1.000 - ETA: 16s - loss: 0.0037 - accuracy: 1.000 - ETA: 16s - loss: 0.0037 - accuracy: 1.000 - ETA: 16s - loss: 0.0039 - accuracy: 1.000 - ETA: 16s - loss: 0.0039 - accuracy: 1.000 - ETA: 16s - loss: 0.0038 - accuracy: 1.000 - ETA: 16s - loss: 0.0039 - accuracy: 1.000 - ETA: 15s - loss: 0.0040 - accuracy: 1.000 - ETA: 15s - loss: 0.0040 - accuracy: 1.000 - ETA: 15s - loss: 0.0039 - accuracy: 1.000 - ETA: 15s - loss: 0.0039 - accuracy: 1.000 - ETA: 15s - loss: 0.0038 - accuracy: 1.000 - ETA: 15s - loss: 0.0039 - accuracy: 1.000 - ETA: 15s - loss: 0.0038 - accuracy: 1.000 - ETA: 15s - loss: 0.0038 - accuracy: 1.000 - ETA: 15s - loss: 0.0038 - accuracy: 1.000 - ETA: 15s - loss: 0.0038 - accuracy: 1.000 - ETA: 15s - loss: 0.0039 - accuracy: 1.000 - ETA: 15s - loss: 0.0039 - accuracy: 1.000 - ETA: 14s - loss: 0.0039 - accuracy: 1.000 - ETA: 14s - loss: 0.0039 - accuracy: 1.000 - ETA: 14s - loss: 0.0039 - accuracy: 1.000 - ETA: 14s - loss: 0.0041 - accuracy: 1.000 - ETA: 14s - loss: 0.0041 - accuracy: 1.000 - ETA: 14s - loss: 0.0042 - accuracy: 1.000 - ETA: 14s - loss: 0.0042 - accuracy: 1.000 - ETA: 14s - loss: 0.0042 - accuracy: 1.000 - ETA: 14s - loss: 0.0043 - accuracy: 1.000 - ETA: 14s - loss: 0.0047 - accuracy: 1.000 - ETA: 14s - loss: 0.0047 - accuracy: 1.000 - ETA: 13s - loss: 0.0046 - accuracy: 1.000 - ETA: 13s - loss: 0.0062 - accuracy: 0.999 - ETA: 13s - loss: 0.0062 - accuracy: 0.999 - ETA: 13s - loss: 0.0061 - accuracy: 0.999 - ETA: 13s - loss: 0.0061 - accuracy: 0.999 - ETA: 13s - loss: 0.0060 - accuracy: 0.999 - ETA: 13s - loss: 0.0062 - accuracy: 0.999 - ETA: 13s - loss: 0.0065 - accuracy: 0.999 - ETA: 13s - loss: 0.0064 - accuracy: 0.999 - ETA: 13s - loss: 0.0064 - accuracy: 0.999 - ETA: 13s - loss: 0.0063 - accuracy: 0.999 - ETA: 13s - loss: 0.0065 - accuracy: 0.999 - ETA: 12s - loss: 0.0074 - accuracy: 0.999 - ETA: 12s - loss: 0.0073 - accuracy: 0.999 - ETA: 12s - loss: 0.0076 - accuracy: 0.999 - ETA: 12s - loss: 0.0078 - accuracy: 0.999 - ETA: 12s - loss: 0.0090 - accuracy: 0.998 - ETA: 12s - loss: 0.0090 - accuracy: 0.998 - ETA: 12s - loss: 0.0089 - accuracy: 0.998 - ETA: 12s - loss: 0.0117 - accuracy: 0.997 - ETA: 12s - loss: 0.0116 - accuracy: 0.997 - ETA: 12s - loss: 0.0115 - accuracy: 0.997 - ETA: 12s - loss: 0.0157 - accuracy: 0.994 - ETA: 12s - loss: 0.0155 - accuracy: 0.994 - ETA: 11s - loss: 0.0300 - accuracy: 0.991 - ETA: 11s - loss: 0.0300 - accuracy: 0.991 - ETA: 11s - loss: 0.0309 - accuracy: 0.990 - ETA: 11s - loss: 0.0407 - accuracy: 0.987 - ETA: 11s - loss: 0.0405 - accuracy: 0.988 - ETA: 11s - loss: 0.0526 - accuracy: 0.984 - ETA: 11s - loss: 0.0648 - accuracy: 0.981 - ETA: 11s - loss: 0.0645 - accuracy: 0.981 - ETA: 11s - loss: 0.0665 - accuracy: 0.980 - ETA: 11s - loss: 0.0747 - accuracy: 0.977 - ETA: 11s - loss: 0.0768 - accuracy: 0.976 - ETA: 11s - loss: 0.0765 - accuracy: 0.976 - ETA: 10s - loss: 0.0788 - accuracy: 0.976 - ETA: 10s - loss: 0.0835 - accuracy: 0.974 - ETA: 10s - loss: 0.0874 - accuracy: 0.972 - ETA: 10s - loss: 0.0905 - accuracy: 0.970 - ETA: 10s - loss: 0.0909 - accuracy: 0.970 - ETA: 10s - loss: 0.0907 - accuracy: 0.970 - ETA: 10s - loss: 0.0911 - accuracy: 0.970 - ETA: 10s - loss: 0.0928 - accuracy: 0.969 - ETA: 10s - loss: 0.0946 - accuracy: 0.968 - ETA: 10s - loss: 0.0960 - accuracy: 0.968 - ETA: 10s - loss: 0.0964 - accuracy: 0.968 - ETA: 9s - loss: 0.0964 - accuracy: 0.968 - ETA: 9s - loss: 0.0965 - accuracy: 0.96 - ETA: 9s - loss: 0.0968 - accuracy: 0.96 - ETA: 9s - loss: 0.0971 - accuracy: 0.96 - ETA: 9s - loss: 0.0973 - accuracy: 0.96 - ETA: 9s - loss: 0.0976 - accuracy: 0.96 - ETA: 9s - loss: 0.0978 - accuracy: 0.96 - ETA: 9s - loss: 0.0978 - accuracy: 0.96 - ETA: 9s - loss: 0.0976 - accuracy: 0.96 - ETA: 9s - loss: 0.0976 - accuracy: 0.96 - ETA: 9s - loss: 0.0972 - accuracy: 0.96 - ETA: 8s - loss: 0.0970 - accuracy: 0.96 - ETA: 8s - loss: 0.0966 - accuracy: 0.96 - ETA: 8s - loss: 0.0963 - accuracy: 0.97 - ETA: 8s - loss: 0.0958 - accuracy: 0.97 - ETA: 8s - loss: 0.0953 - accuracy: 0.97 - ETA: 8s - loss: 0.0947 - accuracy: 0.97 - ETA: 8s - loss: 0.0943 - accuracy: 0.97 - ETA: 8s - loss: 0.0938 - accuracy: 0.97 - ETA: 8s - loss: 0.0935 - accuracy: 0.97 - ETA: 8s - loss: 0.0929 - accuracy: 0.97 - ETA: 8s - loss: 0.0923 - accuracy: 0.97 - ETA: 8s - loss: 0.0918 - accuracy: 0.97 - ETA: 7s - loss: 0.0912 - accuracy: 0.97 - ETA: 7s - loss: 0.0907 - accuracy: 0.97 - ETA: 7s - loss: 0.0902 - accuracy: 0.97 - ETA: 7s - loss: 0.0896 - accuracy: 0.97 - ETA: 7s - loss: 0.0891 - accuracy: 0.97 - ETA: 7s - loss: 0.0888 - accuracy: 0.97 - ETA: 7s - loss: 0.0882 - accuracy: 0.97 - ETA: 7s - loss: 0.0877 - accuracy: 0.97 - ETA: 7s - loss: 0.0873 - accuracy: 0.97 - ETA: 7s - loss: 0.0868 - accuracy: 0.97 - ETA: 7s - loss: 0.0863 - accuracy: 0.97 - ETA: 6s - loss: 0.0858 - accuracy: 0.97 - ETA: 6s - loss: 0.0853 - accuracy: 0.97 - ETA: 6s - loss: 0.0849 - accuracy: 0.97 - ETA: 6s - loss: 0.0844 - accuracy: 0.97 - ETA: 6s - loss: 0.0839 - accuracy: 0.97 - ETA: 6s - loss: 0.0834 - accuracy: 0.97 - ETA: 6s - loss: 0.0829 - accuracy: 0.97 - ETA: 6s - loss: 0.0826 - accuracy: 0.97 - ETA: 6s - loss: 0.0821 - accuracy: 0.97 - ETA: 6s - loss: 0.0817 - accuracy: 0.97 - ETA: 6s - loss: 0.0812 - accuracy: 0.97 - ETA: 5s - loss: 0.0808 - accuracy: 0.97 - ETA: 5s - loss: 0.0803 - accuracy: 0.97 - ETA: 5s - loss: 0.0799 - accuracy: 0.97 - ETA: 5s - loss: 0.0795 - accuracy: 0.97 - ETA: 5s - loss: 0.0790 - accuracy: 0.97 - ETA: 5s - loss: 0.0786 - accuracy: 0.97 - ETA: 5s - loss: 0.0782 - accuracy: 0.97 - ETA: 5s - loss: 0.0778 - accuracy: 0.97 - ETA: 5s - loss: 0.0774 - accuracy: 0.97 - ETA: 5s - loss: 0.0770 - accuracy: 0.97 - ETA: 5s - loss: 0.0765 - accuracy: 0.97 - ETA: 5s - loss: 0.0762 - accuracy: 0.97 - ETA: 4s - loss: 0.0758 - accuracy: 0.97 - ETA: 4s - loss: 0.0754 - accuracy: 0.97 - ETA: 4s - loss: 0.0750 - accuracy: 0.97 - ETA: 4s - loss: 0.0746 - accuracy: 0.9772"
     ]
    },
    {
     "name": "stdout",
     "output_type": "stream",
     "text": [
      "7737/7737 [==============================] - ETA: 4s - loss: 0.0742 - accuracy: 0.97 - ETA: 4s - loss: 0.0738 - accuracy: 0.97 - ETA: 4s - loss: 0.0735 - accuracy: 0.97 - ETA: 4s - loss: 0.0731 - accuracy: 0.97 - ETA: 4s - loss: 0.0727 - accuracy: 0.97 - ETA: 4s - loss: 0.0724 - accuracy: 0.97 - ETA: 4s - loss: 0.0720 - accuracy: 0.97 - ETA: 3s - loss: 0.0717 - accuracy: 0.97 - ETA: 3s - loss: 0.0713 - accuracy: 0.97 - ETA: 3s - loss: 0.0710 - accuracy: 0.97 - ETA: 3s - loss: 0.0706 - accuracy: 0.97 - ETA: 3s - loss: 0.0703 - accuracy: 0.97 - ETA: 3s - loss: 0.0699 - accuracy: 0.97 - ETA: 3s - loss: 0.0696 - accuracy: 0.97 - ETA: 3s - loss: 0.0693 - accuracy: 0.97 - ETA: 3s - loss: 0.0690 - accuracy: 0.97 - ETA: 3s - loss: 0.0687 - accuracy: 0.97 - ETA: 3s - loss: 0.0684 - accuracy: 0.97 - ETA: 3s - loss: 0.0680 - accuracy: 0.97 - ETA: 2s - loss: 0.0677 - accuracy: 0.97 - ETA: 2s - loss: 0.0674 - accuracy: 0.97 - ETA: 2s - loss: 0.0671 - accuracy: 0.97 - ETA: 2s - loss: 0.0668 - accuracy: 0.97 - ETA: 2s - loss: 0.0665 - accuracy: 0.97 - ETA: 2s - loss: 0.0662 - accuracy: 0.97 - ETA: 2s - loss: 0.0659 - accuracy: 0.98 - ETA: 2s - loss: 0.0656 - accuracy: 0.98 - ETA: 2s - loss: 0.0653 - accuracy: 0.98 - ETA: 2s - loss: 0.0650 - accuracy: 0.98 - ETA: 2s - loss: 0.0647 - accuracy: 0.98 - ETA: 1s - loss: 0.0644 - accuracy: 0.98 - ETA: 1s - loss: 0.0641 - accuracy: 0.98 - ETA: 1s - loss: 0.0638 - accuracy: 0.98 - ETA: 1s - loss: 0.0635 - accuracy: 0.98 - ETA: 1s - loss: 0.0633 - accuracy: 0.98 - ETA: 1s - loss: 0.0630 - accuracy: 0.98 - ETA: 1s - loss: 0.0627 - accuracy: 0.98 - ETA: 1s - loss: 0.0624 - accuracy: 0.98 - ETA: 1s - loss: 0.0622 - accuracy: 0.98 - ETA: 1s - loss: 0.0619 - accuracy: 0.98 - ETA: 1s - loss: 0.0616 - accuracy: 0.98 - ETA: 1s - loss: 0.0614 - accuracy: 0.98 - ETA: 0s - loss: 0.0611 - accuracy: 0.98 - ETA: 0s - loss: 0.0609 - accuracy: 0.98 - ETA: 0s - loss: 0.0606 - accuracy: 0.98 - ETA: 0s - loss: 0.0603 - accuracy: 0.98 - ETA: 0s - loss: 0.0601 - accuracy: 0.98 - ETA: 0s - loss: 0.0598 - accuracy: 0.98 - ETA: 0s - loss: 0.0596 - accuracy: 0.98 - ETA: 0s - loss: 0.0593 - accuracy: 0.98 - ETA: 0s - loss: 0.0591 - accuracy: 0.98 - ETA: 0s - loss: 0.0589 - accuracy: 0.98 - ETA: 0s - loss: 0.0586 - accuracy: 0.98 - 21s 3ms/sample - loss: 0.0584 - accuracy: 0.9823\n",
      "Epoch 3/10\n",
      "6048/7737 [======================>.......] - ETA: 19s - loss: 0.0016 - accuracy: 1.000 - ETA: 20s - loss: 0.0648 - accuracy: 0.984 - ETA: 20s - loss: 0.0435 - accuracy: 0.989 - ETA: 20s - loss: 0.0328 - accuracy: 0.992 - ETA: 20s - loss: 0.0358 - accuracy: 0.987 - ETA: 20s - loss: 0.0358 - accuracy: 0.989 - ETA: 20s - loss: 0.0317 - accuracy: 0.991 - ETA: 20s - loss: 0.0278 - accuracy: 0.992 - ETA: 20s - loss: 0.0248 - accuracy: 0.993 - ETA: 20s - loss: 0.0237 - accuracy: 0.993 - ETA: 20s - loss: 0.0243 - accuracy: 0.994 - ETA: 20s - loss: 0.0226 - accuracy: 0.994 - ETA: 19s - loss: 0.0210 - accuracy: 0.995 - ETA: 19s - loss: 0.0195 - accuracy: 0.995 - ETA: 19s - loss: 0.0183 - accuracy: 0.995 - ETA: 19s - loss: 0.0173 - accuracy: 0.996 - ETA: 19s - loss: 0.0164 - accuracy: 0.996 - ETA: 19s - loss: 0.0158 - accuracy: 0.996 - ETA: 19s - loss: 0.0150 - accuracy: 0.996 - ETA: 19s - loss: 0.0143 - accuracy: 0.996 - ETA: 19s - loss: 0.0137 - accuracy: 0.997 - ETA: 19s - loss: 0.0161 - accuracy: 0.995 - ETA: 18s - loss: 0.0157 - accuracy: 0.995 - ETA: 18s - loss: 0.0151 - accuracy: 0.996 - ETA: 18s - loss: 0.0147 - accuracy: 0.996 - ETA: 18s - loss: 0.0142 - accuracy: 0.996 - ETA: 18s - loss: 0.0140 - accuracy: 0.996 - ETA: 18s - loss: 0.0142 - accuracy: 0.996 - ETA: 18s - loss: 0.0138 - accuracy: 0.996 - ETA: 17s - loss: 0.0136 - accuracy: 0.996 - ETA: 17s - loss: 0.0132 - accuracy: 0.997 - ETA: 17s - loss: 0.0129 - accuracy: 0.997 - ETA: 17s - loss: 0.0126 - accuracy: 0.997 - ETA: 17s - loss: 0.0123 - accuracy: 0.997 - ETA: 17s - loss: 0.0119 - accuracy: 0.997 - ETA: 17s - loss: 0.0116 - accuracy: 0.997 - ETA: 17s - loss: 0.0115 - accuracy: 0.997 - ETA: 16s - loss: 0.0118 - accuracy: 0.997 - ETA: 16s - loss: 0.0115 - accuracy: 0.997 - ETA: 16s - loss: 0.0113 - accuracy: 0.997 - ETA: 16s - loss: 0.0110 - accuracy: 0.997 - ETA: 16s - loss: 0.0108 - accuracy: 0.997 - ETA: 16s - loss: 0.0106 - accuracy: 0.997 - ETA: 16s - loss: 0.0104 - accuracy: 0.997 - ETA: 16s - loss: 0.0102 - accuracy: 0.997 - ETA: 16s - loss: 0.0100 - accuracy: 0.998 - ETA: 15s - loss: 0.0098 - accuracy: 0.998 - ETA: 15s - loss: 0.0104 - accuracy: 0.997 - ETA: 15s - loss: 0.0102 - accuracy: 0.997 - ETA: 15s - loss: 0.0100 - accuracy: 0.997 - ETA: 15s - loss: 0.0098 - accuracy: 0.997 - ETA: 15s - loss: 0.0097 - accuracy: 0.997 - ETA: 15s - loss: 0.0095 - accuracy: 0.997 - ETA: 15s - loss: 0.0094 - accuracy: 0.997 - ETA: 15s - loss: 0.0093 - accuracy: 0.997 - ETA: 15s - loss: 0.0091 - accuracy: 0.997 - ETA: 15s - loss: 0.0090 - accuracy: 0.997 - ETA: 14s - loss: 0.0089 - accuracy: 0.997 - ETA: 14s - loss: 0.0093 - accuracy: 0.997 - ETA: 14s - loss: 0.0092 - accuracy: 0.997 - ETA: 14s - loss: 0.0091 - accuracy: 0.997 - ETA: 14s - loss: 0.0089 - accuracy: 0.997 - ETA: 14s - loss: 0.0089 - accuracy: 0.997 - ETA: 14s - loss: 0.0089 - accuracy: 0.997 - ETA: 14s - loss: 0.0089 - accuracy: 0.997 - ETA: 14s - loss: 0.0088 - accuracy: 0.997 - ETA: 14s - loss: 0.0086 - accuracy: 0.997 - ETA: 13s - loss: 0.0085 - accuracy: 0.997 - ETA: 13s - loss: 0.0084 - accuracy: 0.997 - ETA: 13s - loss: 0.0083 - accuracy: 0.997 - ETA: 13s - loss: 0.0082 - accuracy: 0.997 - ETA: 13s - loss: 0.0081 - accuracy: 0.997 - ETA: 13s - loss: 0.0080 - accuracy: 0.997 - ETA: 13s - loss: 0.0079 - accuracy: 0.997 - ETA: 13s - loss: 0.0079 - accuracy: 0.997 - ETA: 13s - loss: 0.0078 - accuracy: 0.997 - ETA: 13s - loss: 0.0077 - accuracy: 0.998 - ETA: 13s - loss: 0.0076 - accuracy: 0.998 - ETA: 13s - loss: 0.0075 - accuracy: 0.998 - ETA: 12s - loss: 0.0074 - accuracy: 0.998 - ETA: 12s - loss: 0.0073 - accuracy: 0.998 - ETA: 12s - loss: 0.0072 - accuracy: 0.998 - ETA: 12s - loss: 0.0072 - accuracy: 0.998 - ETA: 12s - loss: 0.0071 - accuracy: 0.998 - ETA: 12s - loss: 0.0070 - accuracy: 0.998 - ETA: 12s - loss: 0.0070 - accuracy: 0.998 - ETA: 12s - loss: 0.0070 - accuracy: 0.998 - ETA: 12s - loss: 0.0069 - accuracy: 0.998 - ETA: 12s - loss: 0.0068 - accuracy: 0.998 - ETA: 12s - loss: 0.0067 - accuracy: 0.998 - ETA: 12s - loss: 0.0067 - accuracy: 0.998 - ETA: 11s - loss: 0.0066 - accuracy: 0.998 - ETA: 11s - loss: 0.0066 - accuracy: 0.998 - ETA: 11s - loss: 0.0065 - accuracy: 0.998 - ETA: 11s - loss: 0.0065 - accuracy: 0.998 - ETA: 11s - loss: 0.0064 - accuracy: 0.998 - ETA: 11s - loss: 0.0064 - accuracy: 0.998 - ETA: 11s - loss: 0.0063 - accuracy: 0.998 - ETA: 11s - loss: 0.0063 - accuracy: 0.998 - ETA: 11s - loss: 0.0062 - accuracy: 0.998 - ETA: 11s - loss: 0.0061 - accuracy: 0.998 - ETA: 11s - loss: 0.0061 - accuracy: 0.998 - ETA: 11s - loss: 0.0060 - accuracy: 0.998 - ETA: 11s - loss: 0.0060 - accuracy: 0.998 - ETA: 10s - loss: 0.0059 - accuracy: 0.998 - ETA: 10s - loss: 0.0059 - accuracy: 0.998 - ETA: 10s - loss: 0.0058 - accuracy: 0.998 - ETA: 10s - loss: 0.0058 - accuracy: 0.998 - ETA: 10s - loss: 0.0057 - accuracy: 0.998 - ETA: 10s - loss: 0.0057 - accuracy: 0.998 - ETA: 10s - loss: 0.0056 - accuracy: 0.998 - ETA: 10s - loss: 0.0056 - accuracy: 0.998 - ETA: 10s - loss: 0.0055 - accuracy: 0.998 - ETA: 10s - loss: 0.0055 - accuracy: 0.998 - ETA: 10s - loss: 0.0055 - accuracy: 0.998 - ETA: 10s - loss: 0.0054 - accuracy: 0.998 - ETA: 9s - loss: 0.0054 - accuracy: 0.998 - ETA: 9s - loss: 0.0054 - accuracy: 0.99 - ETA: 9s - loss: 0.0053 - accuracy: 0.99 - ETA: 9s - loss: 0.0053 - accuracy: 0.99 - ETA: 9s - loss: 0.0053 - accuracy: 0.99 - ETA: 9s - loss: 0.0052 - accuracy: 0.99 - ETA: 9s - loss: 0.0052 - accuracy: 0.99 - ETA: 9s - loss: 0.0051 - accuracy: 0.99 - ETA: 9s - loss: 0.0051 - accuracy: 0.99 - ETA: 9s - loss: 0.0051 - accuracy: 0.99 - ETA: 9s - loss: 0.0051 - accuracy: 0.99 - ETA: 9s - loss: 0.0050 - accuracy: 0.99 - ETA: 9s - loss: 0.0050 - accuracy: 0.99 - ETA: 8s - loss: 0.0050 - accuracy: 0.99 - ETA: 8s - loss: 0.0049 - accuracy: 0.99 - ETA: 8s - loss: 0.0049 - accuracy: 0.99 - ETA: 8s - loss: 0.0049 - accuracy: 0.99 - ETA: 8s - loss: 0.0048 - accuracy: 0.99 - ETA: 8s - loss: 0.0048 - accuracy: 0.99 - ETA: 8s - loss: 0.0048 - accuracy: 0.99 - ETA: 8s - loss: 0.0047 - accuracy: 0.99 - ETA: 8s - loss: 0.0047 - accuracy: 0.99 - ETA: 8s - loss: 0.0047 - accuracy: 0.99 - ETA: 8s - loss: 0.0046 - accuracy: 0.99 - ETA: 8s - loss: 0.0046 - accuracy: 0.99 - ETA: 7s - loss: 0.0046 - accuracy: 0.99 - ETA: 7s - loss: 0.0046 - accuracy: 0.99 - ETA: 7s - loss: 0.0045 - accuracy: 0.99 - ETA: 7s - loss: 0.0045 - accuracy: 0.99 - ETA: 7s - loss: 0.0045 - accuracy: 0.99 - ETA: 7s - loss: 0.0044 - accuracy: 0.99 - ETA: 7s - loss: 0.0044 - accuracy: 0.99 - ETA: 7s - loss: 0.0044 - accuracy: 0.99 - ETA: 7s - loss: 0.0044 - accuracy: 0.99 - ETA: 7s - loss: 0.0043 - accuracy: 0.99 - ETA: 7s - loss: 0.0043 - accuracy: 0.99 - ETA: 7s - loss: 0.0043 - accuracy: 0.99 - ETA: 7s - loss: 0.0043 - accuracy: 0.99 - ETA: 6s - loss: 0.0042 - accuracy: 0.99 - ETA: 6s - loss: 0.0042 - accuracy: 0.99 - ETA: 6s - loss: 0.0042 - accuracy: 0.99 - ETA: 6s - loss: 0.0042 - accuracy: 0.99 - ETA: 6s - loss: 0.0042 - accuracy: 0.99 - ETA: 6s - loss: 0.0041 - accuracy: 0.99 - ETA: 6s - loss: 0.0041 - accuracy: 0.99 - ETA: 6s - loss: 0.0041 - accuracy: 0.99 - ETA: 6s - loss: 0.0041 - accuracy: 0.99 - ETA: 6s - loss: 0.0040 - accuracy: 0.99 - ETA: 6s - loss: 0.0040 - accuracy: 0.99 - ETA: 6s - loss: 0.0040 - accuracy: 0.99 - ETA: 5s - loss: 0.0040 - accuracy: 0.99 - ETA: 5s - loss: 0.0040 - accuracy: 0.99 - ETA: 5s - loss: 0.0039 - accuracy: 0.99 - ETA: 5s - loss: 0.0039 - accuracy: 0.99 - ETA: 5s - loss: 0.0039 - accuracy: 0.99 - ETA: 5s - loss: 0.0039 - accuracy: 0.99 - ETA: 5s - loss: 0.0038 - accuracy: 0.99 - ETA: 5s - loss: 0.0038 - accuracy: 0.99 - ETA: 5s - loss: 0.0038 - accuracy: 0.99 - ETA: 5s - loss: 0.0038 - accuracy: 0.99 - ETA: 5s - loss: 0.0038 - accuracy: 0.99 - ETA: 5s - loss: 0.0038 - accuracy: 0.99 - ETA: 5s - loss: 0.0038 - accuracy: 0.99 - ETA: 4s - loss: 0.0037 - accuracy: 0.99 - ETA: 4s - loss: 0.0037 - accuracy: 0.99 - ETA: 4s - loss: 0.0037 - accuracy: 0.99 - ETA: 4s - loss: 0.0037 - accuracy: 0.99 - ETA: 4s - loss: 0.0037 - accuracy: 0.99 - ETA: 4s - loss: 0.0037 - accuracy: 0.99 - ETA: 4s - loss: 0.0037 - accuracy: 0.99 - ETA: 4s - loss: 0.0037 - accuracy: 0.99 - ETA: 4s - loss: 0.0036 - accuracy: 0.99 - ETA: 4s - loss: 0.0036 - accuracy: 0.99927737/7737 [==============================] - ETA: 4s - loss: 0.0036 - accuracy: 0.99 - ETA: 4s - loss: 0.0036 - accuracy: 0.99 - ETA: 3s - loss: 0.0036 - accuracy: 0.99 - ETA: 3s - loss: 0.0036 - accuracy: 0.99 - ETA: 3s - loss: 0.0035 - accuracy: 0.99 - ETA: 3s - loss: 0.0035 - accuracy: 0.99 - ETA: 3s - loss: 0.0035 - accuracy: 0.99 - ETA: 3s - loss: 0.0035 - accuracy: 0.99 - ETA: 3s - loss: 0.0035 - accuracy: 0.99 - ETA: 3s - loss: 0.0035 - accuracy: 0.99 - ETA: 3s - loss: 0.0035 - accuracy: 0.99 - ETA: 3s - loss: 0.0035 - accuracy: 0.99 - ETA: 3s - loss: 0.0035 - accuracy: 0.99 - ETA: 3s - loss: 0.0035 - accuracy: 0.99 - ETA: 3s - loss: 0.0034 - accuracy: 0.99 - ETA: 2s - loss: 0.0034 - accuracy: 0.99 - ETA: 2s - loss: 0.0034 - accuracy: 0.99 - ETA: 2s - loss: 0.0034 - accuracy: 0.99 - ETA: 2s - loss: 0.0035 - accuracy: 0.99 - ETA: 2s - loss: 0.0035 - accuracy: 0.99 - ETA: 2s - loss: 0.0035 - accuracy: 0.99 - ETA: 2s - loss: 0.0035 - accuracy: 0.99 - ETA: 2s - loss: 0.0035 - accuracy: 0.99 - ETA: 2s - loss: 0.0035 - accuracy: 0.99 - ETA: 2s - loss: 0.0035 - accuracy: 0.99 - ETA: 2s - loss: 0.0035 - accuracy: 0.99 - ETA: 2s - loss: 0.0035 - accuracy: 0.99 - ETA: 1s - loss: 0.0035 - accuracy: 0.99 - ETA: 1s - loss: 0.0035 - accuracy: 0.99 - ETA: 1s - loss: 0.0035 - accuracy: 0.99 - ETA: 1s - loss: 0.0035 - accuracy: 0.99 - ETA: 1s - loss: 0.0035 - accuracy: 0.99 - ETA: 1s - loss: 0.0035 - accuracy: 0.99 - ETA: 1s - loss: 0.0034 - accuracy: 0.99 - ETA: 1s - loss: 0.0034 - accuracy: 0.99 - ETA: 1s - loss: 0.0034 - accuracy: 0.99 - ETA: 1s - loss: 0.0035 - accuracy: 0.99 - ETA: 1s - loss: 0.0035 - accuracy: 0.99 - ETA: 1s - loss: 0.0034 - accuracy: 0.99 - ETA: 1s - loss: 0.0034 - accuracy: 0.99 - ETA: 0s - loss: 0.0034 - accuracy: 0.99 - ETA: 0s - loss: 0.0034 - accuracy: 0.99 - ETA: 0s - loss: 0.0034 - accuracy: 0.99 - ETA: 0s - loss: 0.0034 - accuracy: 0.99 - ETA: 0s - loss: 0.0034 - accuracy: 0.99 - ETA: 0s - loss: 0.0034 - accuracy: 0.99 - ETA: 0s - loss: 0.0033 - accuracy: 0.99 - ETA: 0s - loss: 0.0033 - accuracy: 0.99 - ETA: 0s - loss: 0.0033 - accuracy: 0.99 - ETA: 0s - loss: 0.0033 - accuracy: 0.99 - ETA: 0s - loss: 0.0033 - accuracy: 0.99 - ETA: 0s - loss: 0.0033 - accuracy: 0.99 - 19s 3ms/sample - loss: 0.0033 - accuracy: 0.9992\n",
      "Epoch 4/10\n"
     ]
    },
    {
     "name": "stdout",
     "output_type": "stream",
     "text": [
      "5568/7737 [====================>.........] - ETA: 18s - loss: 0.0060 - accuracy: 1.000 - ETA: 19s - loss: 0.0038 - accuracy: 1.000 - ETA: 18s - loss: 0.0032 - accuracy: 1.000 - ETA: 18s - loss: 0.0025 - accuracy: 1.000 - ETA: 18s - loss: 0.0021 - accuracy: 1.000 - ETA: 18s - loss: 0.0018 - accuracy: 1.000 - ETA: 18s - loss: 0.0016 - accuracy: 1.000 - ETA: 18s - loss: 0.0014 - accuracy: 1.000 - ETA: 18s - loss: 0.0014 - accuracy: 1.000 - ETA: 18s - loss: 0.0012 - accuracy: 1.000 - ETA: 18s - loss: 0.0011 - accuracy: 1.000 - ETA: 18s - loss: 0.0011 - accuracy: 1.000 - ETA: 17s - loss: 0.0013 - accuracy: 1.000 - ETA: 17s - loss: 0.0014 - accuracy: 1.000 - ETA: 17s - loss: 0.0013 - accuracy: 1.000 - ETA: 17s - loss: 0.0012 - accuracy: 1.000 - ETA: 17s - loss: 0.0013 - accuracy: 1.000 - ETA: 17s - loss: 0.0013 - accuracy: 1.000 - ETA: 17s - loss: 0.0012 - accuracy: 1.000 - ETA: 17s - loss: 0.0011 - accuracy: 1.000 - ETA: 17s - loss: 0.0011 - accuracy: 1.000 - ETA: 17s - loss: 0.0011 - accuracy: 1.000 - ETA: 17s - loss: 0.0010 - accuracy: 1.000 - ETA: 17s - loss: 9.7197e-04 - accuracy: 1.000 - ETA: 16s - loss: 9.6212e-04 - accuracy: 1.000 - ETA: 16s - loss: 9.3184e-04 - accuracy: 1.000 - ETA: 16s - loss: 9.0180e-04 - accuracy: 1.000 - ETA: 16s - loss: 9.3428e-04 - accuracy: 1.000 - ETA: 16s - loss: 9.2035e-04 - accuracy: 1.000 - ETA: 16s - loss: 8.9324e-04 - accuracy: 1.000 - ETA: 16s - loss: 9.3325e-04 - accuracy: 1.000 - ETA: 16s - loss: 9.0775e-04 - accuracy: 1.000 - ETA: 16s - loss: 8.8614e-04 - accuracy: 1.000 - ETA: 16s - loss: 8.8668e-04 - accuracy: 1.000 - ETA: 16s - loss: 8.6583e-04 - accuracy: 1.000 - ETA: 16s - loss: 8.7813e-04 - accuracy: 1.000 - ETA: 16s - loss: 8.6214e-04 - accuracy: 1.000 - ETA: 16s - loss: 8.5360e-04 - accuracy: 1.000 - ETA: 15s - loss: 8.3573e-04 - accuracy: 1.000 - ETA: 15s - loss: 8.1630e-04 - accuracy: 1.000 - ETA: 15s - loss: 8.0440e-04 - accuracy: 1.000 - ETA: 15s - loss: 7.9044e-04 - accuracy: 1.000 - ETA: 15s - loss: 7.7376e-04 - accuracy: 1.000 - ETA: 15s - loss: 7.8189e-04 - accuracy: 1.000 - ETA: 15s - loss: 7.6711e-04 - accuracy: 1.000 - ETA: 15s - loss: 7.5601e-04 - accuracy: 1.000 - ETA: 15s - loss: 7.4183e-04 - accuracy: 1.000 - ETA: 15s - loss: 7.3580e-04 - accuracy: 1.000 - ETA: 15s - loss: 7.3288e-04 - accuracy: 1.000 - ETA: 15s - loss: 7.2813e-04 - accuracy: 1.000 - ETA: 15s - loss: 7.6647e-04 - accuracy: 1.000 - ETA: 15s - loss: 7.8529e-04 - accuracy: 1.000 - ETA: 14s - loss: 7.7212e-04 - accuracy: 1.000 - ETA: 14s - loss: 7.5839e-04 - accuracy: 1.000 - ETA: 14s - loss: 7.4558e-04 - accuracy: 1.000 - ETA: 14s - loss: 8.9786e-04 - accuracy: 1.000 - ETA: 14s - loss: 8.8295e-04 - accuracy: 1.000 - ETA: 14s - loss: 8.9606e-04 - accuracy: 1.000 - ETA: 14s - loss: 8.8490e-04 - accuracy: 1.000 - ETA: 14s - loss: 8.8105e-04 - accuracy: 1.000 - ETA: 14s - loss: 8.6797e-04 - accuracy: 1.000 - ETA: 14s - loss: 8.5719e-04 - accuracy: 1.000 - ETA: 14s - loss: 8.5155e-04 - accuracy: 1.000 - ETA: 14s - loss: 8.4200e-04 - accuracy: 1.000 - ETA: 14s - loss: 8.3376e-04 - accuracy: 1.000 - ETA: 13s - loss: 8.4864e-04 - accuracy: 1.000 - ETA: 13s - loss: 8.7335e-04 - accuracy: 1.000 - ETA: 13s - loss: 8.6602e-04 - accuracy: 1.000 - ETA: 13s - loss: 8.5464e-04 - accuracy: 1.000 - ETA: 13s - loss: 8.4317e-04 - accuracy: 1.000 - ETA: 13s - loss: 8.3750e-04 - accuracy: 1.000 - ETA: 13s - loss: 8.2676e-04 - accuracy: 1.000 - ETA: 13s - loss: 8.1701e-04 - accuracy: 1.000 - ETA: 13s - loss: 8.1080e-04 - accuracy: 1.000 - ETA: 13s - loss: 8.7619e-04 - accuracy: 1.000 - ETA: 13s - loss: 8.7279e-04 - accuracy: 1.000 - ETA: 13s - loss: 8.9065e-04 - accuracy: 1.000 - ETA: 13s - loss: 8.8025e-04 - accuracy: 1.000 - ETA: 12s - loss: 8.7007e-04 - accuracy: 1.000 - ETA: 12s - loss: 8.8655e-04 - accuracy: 1.000 - ETA: 12s - loss: 8.7935e-04 - accuracy: 1.000 - ETA: 12s - loss: 8.7347e-04 - accuracy: 1.000 - ETA: 12s - loss: 8.6431e-04 - accuracy: 1.000 - ETA: 12s - loss: 8.6055e-04 - accuracy: 1.000 - ETA: 12s - loss: 8.5219e-04 - accuracy: 1.000 - ETA: 12s - loss: 8.6347e-04 - accuracy: 1.000 - ETA: 12s - loss: 8.5738e-04 - accuracy: 1.000 - ETA: 12s - loss: 8.4852e-04 - accuracy: 1.000 - ETA: 12s - loss: 8.3928e-04 - accuracy: 1.000 - ETA: 12s - loss: 8.3127e-04 - accuracy: 1.000 - ETA: 12s - loss: 8.3699e-04 - accuracy: 1.000 - ETA: 11s - loss: 8.3372e-04 - accuracy: 1.000 - ETA: 11s - loss: 8.3393e-04 - accuracy: 1.000 - ETA: 11s - loss: 8.2711e-04 - accuracy: 1.000 - ETA: 11s - loss: 8.3693e-04 - accuracy: 1.000 - ETA: 11s - loss: 8.2932e-04 - accuracy: 1.000 - ETA: 11s - loss: 8.2156e-04 - accuracy: 1.000 - ETA: 11s - loss: 8.1505e-04 - accuracy: 1.000 - ETA: 11s - loss: 8.1150e-04 - accuracy: 1.000 - ETA: 11s - loss: 8.2182e-04 - accuracy: 1.000 - ETA: 11s - loss: 8.2031e-04 - accuracy: 1.000 - ETA: 11s - loss: 8.1329e-04 - accuracy: 1.000 - ETA: 11s - loss: 8.3068e-04 - accuracy: 1.000 - ETA: 11s - loss: 8.2536e-04 - accuracy: 1.000 - ETA: 10s - loss: 8.1830e-04 - accuracy: 1.000 - ETA: 10s - loss: 8.1213e-04 - accuracy: 1.000 - ETA: 10s - loss: 8.0551e-04 - accuracy: 1.000 - ETA: 10s - loss: 7.9887e-04 - accuracy: 1.000 - ETA: 10s - loss: 8.0312e-04 - accuracy: 1.000 - ETA: 10s - loss: 7.9775e-04 - accuracy: 1.000 - ETA: 10s - loss: 7.9120e-04 - accuracy: 1.000 - ETA: 10s - loss: 7.8487e-04 - accuracy: 1.000 - ETA: 10s - loss: 7.7863e-04 - accuracy: 1.000 - ETA: 10s - loss: 7.7416e-04 - accuracy: 1.000 - ETA: 10s - loss: 7.7413e-04 - accuracy: 1.000 - ETA: 10s - loss: 7.6794e-04 - accuracy: 1.000 - ETA: 10s - loss: 7.6485e-04 - accuracy: 1.000 - ETA: 10s - loss: 7.5875e-04 - accuracy: 1.000 - ETA: 9s - loss: 7.5518e-04 - accuracy: 1.000 - ETA: 9s - loss: 7.5647e-04 - accuracy: 1.00 - ETA: 9s - loss: 7.5083e-04 - accuracy: 1.00 - ETA: 9s - loss: 7.4857e-04 - accuracy: 1.00 - ETA: 9s - loss: 7.5780e-04 - accuracy: 1.00 - ETA: 9s - loss: 7.5231e-04 - accuracy: 1.00 - ETA: 9s - loss: 7.5242e-04 - accuracy: 1.00 - ETA: 9s - loss: 7.4700e-04 - accuracy: 1.00 - ETA: 9s - loss: 7.4265e-04 - accuracy: 1.00 - ETA: 9s - loss: 7.3937e-04 - accuracy: 1.00 - ETA: 9s - loss: 7.3532e-04 - accuracy: 1.00 - ETA: 9s - loss: 7.3063e-04 - accuracy: 1.00 - ETA: 9s - loss: 7.2587e-04 - accuracy: 1.00 - ETA: 8s - loss: 7.2524e-04 - accuracy: 1.00 - ETA: 8s - loss: 7.2013e-04 - accuracy: 1.00 - ETA: 8s - loss: 7.2642e-04 - accuracy: 1.00 - ETA: 8s - loss: 7.2142e-04 - accuracy: 1.00 - ETA: 8s - loss: 7.1689e-04 - accuracy: 1.00 - ETA: 8s - loss: 7.1687e-04 - accuracy: 1.00 - ETA: 8s - loss: 7.2007e-04 - accuracy: 1.00 - ETA: 8s - loss: 7.1591e-04 - accuracy: 1.00 - ETA: 8s - loss: 7.1183e-04 - accuracy: 1.00 - ETA: 8s - loss: 7.0735e-04 - accuracy: 1.00 - ETA: 8s - loss: 7.0270e-04 - accuracy: 1.00 - ETA: 8s - loss: 6.9955e-04 - accuracy: 1.00 - ETA: 8s - loss: 6.9538e-04 - accuracy: 1.00 - ETA: 7s - loss: 7.0234e-04 - accuracy: 1.00 - ETA: 7s - loss: 6.9934e-04 - accuracy: 1.00 - ETA: 7s - loss: 6.9541e-04 - accuracy: 1.00 - ETA: 7s - loss: 6.9365e-04 - accuracy: 1.00 - ETA: 7s - loss: 6.9143e-04 - accuracy: 1.00 - ETA: 7s - loss: 6.8786e-04 - accuracy: 1.00 - ETA: 7s - loss: 6.8356e-04 - accuracy: 1.00 - ETA: 7s - loss: 6.9123e-04 - accuracy: 1.00 - ETA: 7s - loss: 6.8747e-04 - accuracy: 1.00 - ETA: 7s - loss: 6.8397e-04 - accuracy: 1.00 - ETA: 7s - loss: 6.8007e-04 - accuracy: 1.00 - ETA: 7s - loss: 6.8585e-04 - accuracy: 1.00 - ETA: 6s - loss: 6.8497e-04 - accuracy: 1.00 - ETA: 6s - loss: 6.8129e-04 - accuracy: 1.00 - ETA: 6s - loss: 6.7731e-04 - accuracy: 1.00 - ETA: 6s - loss: 6.7711e-04 - accuracy: 1.00 - ETA: 6s - loss: 6.7328e-04 - accuracy: 1.00 - ETA: 6s - loss: 6.6938e-04 - accuracy: 1.00 - ETA: 6s - loss: 6.6613e-04 - accuracy: 1.00 - ETA: 6s - loss: 6.6398e-04 - accuracy: 1.00 - ETA: 6s - loss: 6.6028e-04 - accuracy: 1.00 - ETA: 6s - loss: 6.5671e-04 - accuracy: 1.00 - ETA: 6s - loss: 6.5904e-04 - accuracy: 1.00 - ETA: 6s - loss: 6.5748e-04 - accuracy: 1.00 - ETA: 5s - loss: 6.5410e-04 - accuracy: 1.00 - ETA: 5s - loss: 6.5149e-04 - accuracy: 1.00 - ETA: 5s - loss: 6.5283e-04 - accuracy: 1.00 - ETA: 5s - loss: 6.5034e-04 - accuracy: 1.00 - ETA: 5s - loss: 6.4687e-04 - accuracy: 1.00 - ETA: 5s - loss: 6.4322e-04 - accuracy: 1.0000"
     ]
    },
    {
     "name": "stdout",
     "output_type": "stream",
     "text": [
      "7737/7737 [==============================] - ETA: 5s - loss: 6.4100e-04 - accuracy: 1.00 - ETA: 5s - loss: 6.3820e-04 - accuracy: 1.00 - ETA: 5s - loss: 6.3502e-04 - accuracy: 1.00 - ETA: 5s - loss: 6.3151e-04 - accuracy: 1.00 - ETA: 5s - loss: 6.3147e-04 - accuracy: 1.00 - ETA: 5s - loss: 6.2936e-04 - accuracy: 1.00 - ETA: 4s - loss: 6.2854e-04 - accuracy: 1.00 - ETA: 4s - loss: 7.2178e-04 - accuracy: 1.00 - ETA: 4s - loss: 7.2075e-04 - accuracy: 1.00 - ETA: 4s - loss: 7.2756e-04 - accuracy: 1.00 - ETA: 4s - loss: 7.3605e-04 - accuracy: 1.00 - ETA: 4s - loss: 7.4020e-04 - accuracy: 1.00 - ETA: 4s - loss: 9.4575e-04 - accuracy: 1.00 - ETA: 4s - loss: 9.6706e-04 - accuracy: 1.00 - ETA: 4s - loss: 9.6216e-04 - accuracy: 1.00 - ETA: 4s - loss: 9.6573e-04 - accuracy: 1.00 - ETA: 4s - loss: 9.9262e-04 - accuracy: 1.00 - ETA: 4s - loss: 0.0016 - accuracy: 0.9998   - ETA: 3s - loss: 0.0016 - accuracy: 0.99 - ETA: 3s - loss: 0.0016 - accuracy: 0.99 - ETA: 3s - loss: 0.0016 - accuracy: 0.99 - ETA: 3s - loss: 0.0016 - accuracy: 0.99 - ETA: 3s - loss: 0.0016 - accuracy: 0.99 - ETA: 3s - loss: 0.0024 - accuracy: 0.99 - ETA: 3s - loss: 0.0024 - accuracy: 0.99 - ETA: 3s - loss: 0.0024 - accuracy: 0.99 - ETA: 3s - loss: 0.0024 - accuracy: 0.99 - ETA: 3s - loss: 0.0026 - accuracy: 0.99 - ETA: 3s - loss: 0.0028 - accuracy: 0.99 - ETA: 3s - loss: 0.0028 - accuracy: 0.99 - ETA: 2s - loss: 0.0028 - accuracy: 0.99 - ETA: 2s - loss: 0.0028 - accuracy: 0.99 - ETA: 2s - loss: 0.0028 - accuracy: 0.99 - ETA: 2s - loss: 0.0028 - accuracy: 0.99 - ETA: 2s - loss: 0.0029 - accuracy: 0.99 - ETA: 2s - loss: 0.0030 - accuracy: 0.99 - ETA: 2s - loss: 0.0030 - accuracy: 0.99 - ETA: 2s - loss: 0.0030 - accuracy: 0.99 - ETA: 2s - loss: 0.0030 - accuracy: 0.99 - ETA: 2s - loss: 0.0030 - accuracy: 0.99 - ETA: 2s - loss: 0.0030 - accuracy: 0.99 - ETA: 2s - loss: 0.0031 - accuracy: 0.99 - ETA: 2s - loss: 0.0031 - accuracy: 0.99 - ETA: 1s - loss: 0.0032 - accuracy: 0.99 - ETA: 1s - loss: 0.0032 - accuracy: 0.99 - ETA: 1s - loss: 0.0032 - accuracy: 0.99 - ETA: 1s - loss: 0.0032 - accuracy: 0.99 - ETA: 1s - loss: 0.0032 - accuracy: 0.99 - ETA: 1s - loss: 0.0031 - accuracy: 0.99 - ETA: 1s - loss: 0.0032 - accuracy: 0.99 - ETA: 1s - loss: 0.0032 - accuracy: 0.99 - ETA: 1s - loss: 0.0033 - accuracy: 0.99 - ETA: 1s - loss: 0.0033 - accuracy: 0.99 - ETA: 1s - loss: 0.0033 - accuracy: 0.99 - ETA: 1s - loss: 0.0032 - accuracy: 0.99 - ETA: 0s - loss: 0.0032 - accuracy: 0.99 - ETA: 0s - loss: 0.0032 - accuracy: 0.99 - ETA: 0s - loss: 0.0033 - accuracy: 0.99 - ETA: 0s - loss: 0.0033 - accuracy: 0.99 - ETA: 0s - loss: 0.0032 - accuracy: 0.99 - ETA: 0s - loss: 0.0032 - accuracy: 0.99 - ETA: 0s - loss: 0.0032 - accuracy: 0.99 - ETA: 0s - loss: 0.0032 - accuracy: 0.99 - ETA: 0s - loss: 0.0032 - accuracy: 0.99 - ETA: 0s - loss: 0.0032 - accuracy: 0.99 - ETA: 0s - loss: 0.0032 - accuracy: 0.99 - ETA: 0s - loss: 0.0032 - accuracy: 0.99 - 20s 3ms/sample - loss: 0.0032 - accuracy: 0.9995\n",
      "Epoch 5/10\n",
      "5920/7737 [=====================>........] - ETA: 17s - loss: 6.1252e-04 - accuracy: 1.000 - ETA: 19s - loss: 3.9548e-04 - accuracy: 1.000 - ETA: 18s - loss: 3.4065e-04 - accuracy: 1.000 - ETA: 18s - loss: 0.0010 - accuracy: 1.0000    - ETA: 19s - loss: 8.5946e-04 - accuracy: 1.000 - ETA: 19s - loss: 9.3335e-04 - accuracy: 1.000 - ETA: 19s - loss: 8.1605e-04 - accuracy: 1.000 - ETA: 19s - loss: 7.3357e-04 - accuracy: 1.000 - ETA: 19s - loss: 6.7364e-04 - accuracy: 1.000 - ETA: 19s - loss: 6.2893e-04 - accuracy: 1.000 - ETA: 19s - loss: 5.7785e-04 - accuracy: 1.000 - ETA: 19s - loss: 5.3668e-04 - accuracy: 1.000 - ETA: 19s - loss: 5.5622e-04 - accuracy: 1.000 - ETA: 19s - loss: 5.2279e-04 - accuracy: 1.000 - ETA: 19s - loss: 5.1442e-04 - accuracy: 1.000 - ETA: 19s - loss: 5.0279e-04 - accuracy: 1.000 - ETA: 19s - loss: 4.9706e-04 - accuracy: 1.000 - ETA: 19s - loss: 4.9957e-04 - accuracy: 1.000 - ETA: 18s - loss: 4.8481e-04 - accuracy: 1.000 - ETA: 18s - loss: 4.6866e-04 - accuracy: 1.000 - ETA: 18s - loss: 4.5678e-04 - accuracy: 1.000 - ETA: 18s - loss: 4.4693e-04 - accuracy: 1.000 - ETA: 18s - loss: 4.5226e-04 - accuracy: 1.000 - ETA: 18s - loss: 4.4785e-04 - accuracy: 1.000 - ETA: 18s - loss: 4.3468e-04 - accuracy: 1.000 - ETA: 18s - loss: 4.2094e-04 - accuracy: 1.000 - ETA: 18s - loss: 4.2097e-04 - accuracy: 1.000 - ETA: 18s - loss: 4.0914e-04 - accuracy: 1.000 - ETA: 17s - loss: 4.0947e-04 - accuracy: 1.000 - ETA: 17s - loss: 3.9886e-04 - accuracy: 1.000 - ETA: 17s - loss: 4.0600e-04 - accuracy: 1.000 - ETA: 17s - loss: 4.8461e-04 - accuracy: 1.000 - ETA: 17s - loss: 4.7676e-04 - accuracy: 1.000 - ETA: 17s - loss: 4.6467e-04 - accuracy: 1.000 - ETA: 17s - loss: 4.5763e-04 - accuracy: 1.000 - ETA: 17s - loss: 9.8907e-04 - accuracy: 1.000 - ETA: 17s - loss: 9.6657e-04 - accuracy: 1.000 - ETA: 17s - loss: 9.6910e-04 - accuracy: 1.000 - ETA: 17s - loss: 9.5548e-04 - accuracy: 1.000 - ETA: 17s - loss: 0.0013 - accuracy: 1.0000    - ETA: 17s - loss: 0.0013 - accuracy: 1.000 - ETA: 17s - loss: 0.0012 - accuracy: 1.000 - ETA: 16s - loss: 0.0012 - accuracy: 1.000 - ETA: 16s - loss: 0.0014 - accuracy: 1.000 - ETA: 16s - loss: 0.0013 - accuracy: 1.000 - ETA: 16s - loss: 0.0013 - accuracy: 1.000 - ETA: 16s - loss: 0.0013 - accuracy: 1.000 - ETA: 16s - loss: 0.0013 - accuracy: 1.000 - ETA: 16s - loss: 0.0013 - accuracy: 1.000 - ETA: 16s - loss: 0.0012 - accuracy: 1.000 - ETA: 16s - loss: 0.0012 - accuracy: 1.000 - ETA: 16s - loss: 0.0012 - accuracy: 1.000 - ETA: 16s - loss: 0.0012 - accuracy: 1.000 - ETA: 15s - loss: 0.0012 - accuracy: 1.000 - ETA: 15s - loss: 0.0012 - accuracy: 1.000 - ETA: 15s - loss: 0.0013 - accuracy: 1.000 - ETA: 15s - loss: 0.0012 - accuracy: 1.000 - ETA: 15s - loss: 0.0013 - accuracy: 1.000 - ETA: 15s - loss: 0.0013 - accuracy: 1.000 - ETA: 15s - loss: 0.0013 - accuracy: 1.000 - ETA: 15s - loss: 0.0012 - accuracy: 1.000 - ETA: 15s - loss: 0.0012 - accuracy: 1.000 - ETA: 15s - loss: 0.0012 - accuracy: 1.000 - ETA: 15s - loss: 0.0012 - accuracy: 1.000 - ETA: 15s - loss: 0.0012 - accuracy: 1.000 - ETA: 14s - loss: 0.0012 - accuracy: 1.000 - ETA: 14s - loss: 0.0018 - accuracy: 0.999 - ETA: 14s - loss: 0.0017 - accuracy: 0.999 - ETA: 14s - loss: 0.0017 - accuracy: 0.999 - ETA: 14s - loss: 0.0017 - accuracy: 0.999 - ETA: 14s - loss: 0.0017 - accuracy: 0.999 - ETA: 14s - loss: 0.0017 - accuracy: 0.999 - ETA: 14s - loss: 0.0017 - accuracy: 0.999 - ETA: 14s - loss: 0.0024 - accuracy: 0.999 - ETA: 14s - loss: 0.0023 - accuracy: 0.999 - ETA: 14s - loss: 0.0023 - accuracy: 0.999 - ETA: 13s - loss: 0.0024 - accuracy: 0.999 - ETA: 13s - loss: 0.0024 - accuracy: 0.999 - ETA: 13s - loss: 0.0023 - accuracy: 0.999 - ETA: 13s - loss: 0.0023 - accuracy: 0.999 - ETA: 13s - loss: 0.0023 - accuracy: 0.999 - ETA: 13s - loss: 0.0023 - accuracy: 0.999 - ETA: 13s - loss: 0.0023 - accuracy: 0.999 - ETA: 13s - loss: 0.0022 - accuracy: 0.999 - ETA: 13s - loss: 0.0022 - accuracy: 0.999 - ETA: 13s - loss: 0.0022 - accuracy: 0.999 - ETA: 13s - loss: 0.0022 - accuracy: 0.999 - ETA: 13s - loss: 0.0021 - accuracy: 0.999 - ETA: 12s - loss: 0.0021 - accuracy: 0.999 - ETA: 12s - loss: 0.0021 - accuracy: 0.999 - ETA: 12s - loss: 0.0021 - accuracy: 0.999 - ETA: 12s - loss: 0.0021 - accuracy: 0.999 - ETA: 12s - loss: 0.0020 - accuracy: 0.999 - ETA: 12s - loss: 0.0041 - accuracy: 0.999 - ETA: 12s - loss: 0.0041 - accuracy: 0.999 - ETA: 12s - loss: 0.0041 - accuracy: 0.999 - ETA: 12s - loss: 0.0040 - accuracy: 0.999 - ETA: 12s - loss: 0.0040 - accuracy: 0.999 - ETA: 12s - loss: 0.0040 - accuracy: 0.999 - ETA: 11s - loss: 0.0040 - accuracy: 0.999 - ETA: 11s - loss: 0.0039 - accuracy: 0.999 - ETA: 11s - loss: 0.0039 - accuracy: 0.999 - ETA: 11s - loss: 0.0039 - accuracy: 0.999 - ETA: 11s - loss: 0.0038 - accuracy: 0.999 - ETA: 11s - loss: 0.0038 - accuracy: 0.999 - ETA: 11s - loss: 0.0038 - accuracy: 0.999 - ETA: 11s - loss: 0.0037 - accuracy: 0.999 - ETA: 11s - loss: 0.0037 - accuracy: 0.999 - ETA: 11s - loss: 0.0037 - accuracy: 0.999 - ETA: 11s - loss: 0.0037 - accuracy: 0.999 - ETA: 11s - loss: 0.0036 - accuracy: 0.999 - ETA: 11s - loss: 0.0036 - accuracy: 0.999 - ETA: 10s - loss: 0.0036 - accuracy: 0.999 - ETA: 10s - loss: 0.0036 - accuracy: 0.999 - ETA: 10s - loss: 0.0036 - accuracy: 0.999 - ETA: 10s - loss: 0.0036 - accuracy: 0.999 - ETA: 10s - loss: 0.0035 - accuracy: 0.999 - ETA: 10s - loss: 0.0035 - accuracy: 0.999 - ETA: 10s - loss: 0.0035 - accuracy: 0.999 - ETA: 10s - loss: 0.0035 - accuracy: 0.999 - ETA: 10s - loss: 0.0035 - accuracy: 0.999 - ETA: 10s - loss: 0.0034 - accuracy: 0.999 - ETA: 10s - loss: 0.0034 - accuracy: 0.999 - ETA: 9s - loss: 0.0034 - accuracy: 0.999 - ETA: 9s - loss: 0.0034 - accuracy: 0.99 - ETA: 9s - loss: 0.0033 - accuracy: 0.99 - ETA: 9s - loss: 0.0033 - accuracy: 0.99 - ETA: 9s - loss: 0.0033 - accuracy: 0.99 - ETA: 9s - loss: 0.0033 - accuracy: 0.99 - ETA: 9s - loss: 0.0032 - accuracy: 0.99 - ETA: 9s - loss: 0.0032 - accuracy: 0.99 - ETA: 9s - loss: 0.0032 - accuracy: 0.99 - ETA: 9s - loss: 0.0033 - accuracy: 0.99 - ETA: 9s - loss: 0.0033 - accuracy: 0.99 - ETA: 9s - loss: 0.0033 - accuracy: 0.99 - ETA: 8s - loss: 0.0032 - accuracy: 0.99 - ETA: 8s - loss: 0.0032 - accuracy: 0.99 - ETA: 8s - loss: 0.0032 - accuracy: 0.99 - ETA: 8s - loss: 0.0032 - accuracy: 0.99 - ETA: 8s - loss: 0.0033 - accuracy: 0.99 - ETA: 8s - loss: 0.0032 - accuracy: 0.99 - ETA: 8s - loss: 0.0032 - accuracy: 0.99 - ETA: 8s - loss: 0.0032 - accuracy: 0.99 - ETA: 8s - loss: 0.0032 - accuracy: 0.99 - ETA: 8s - loss: 0.0032 - accuracy: 0.99 - ETA: 8s - loss: 0.0032 - accuracy: 0.99 - ETA: 7s - loss: 0.0032 - accuracy: 0.99 - ETA: 7s - loss: 0.0031 - accuracy: 0.99 - ETA: 7s - loss: 0.0031 - accuracy: 0.99 - ETA: 7s - loss: 0.0031 - accuracy: 0.99 - ETA: 7s - loss: 0.0031 - accuracy: 0.99 - ETA: 7s - loss: 0.0031 - accuracy: 0.99 - ETA: 7s - loss: 0.0032 - accuracy: 0.99 - ETA: 7s - loss: 0.0032 - accuracy: 0.99 - ETA: 7s - loss: 0.0031 - accuracy: 0.99 - ETA: 7s - loss: 0.0031 - accuracy: 0.99 - ETA: 7s - loss: 0.0031 - accuracy: 0.99 - ETA: 7s - loss: 0.0031 - accuracy: 0.99 - ETA: 6s - loss: 0.0031 - accuracy: 0.99 - ETA: 6s - loss: 0.0035 - accuracy: 0.99 - ETA: 6s - loss: 0.0035 - accuracy: 0.99 - ETA: 6s - loss: 0.0035 - accuracy: 0.99 - ETA: 6s - loss: 0.0035 - accuracy: 0.99 - ETA: 6s - loss: 0.0036 - accuracy: 0.99 - ETA: 6s - loss: 0.0036 - accuracy: 0.99 - ETA: 6s - loss: 0.0036 - accuracy: 0.99 - ETA: 6s - loss: 0.0036 - accuracy: 0.99 - ETA: 6s - loss: 0.0036 - accuracy: 0.99 - ETA: 6s - loss: 0.0036 - accuracy: 0.99 - ETA: 6s - loss: 0.0035 - accuracy: 0.99 - ETA: 5s - loss: 0.0035 - accuracy: 0.99 - ETA: 5s - loss: 0.0035 - accuracy: 0.99 - ETA: 5s - loss: 0.0035 - accuracy: 0.99 - ETA: 5s - loss: 0.0035 - accuracy: 0.99 - ETA: 5s - loss: 0.0034 - accuracy: 0.99 - ETA: 5s - loss: 0.0034 - accuracy: 0.99 - ETA: 5s - loss: 0.0034 - accuracy: 0.99 - ETA: 5s - loss: 0.0034 - accuracy: 0.99 - ETA: 5s - loss: 0.0034 - accuracy: 0.99 - ETA: 5s - loss: 0.0035 - accuracy: 0.99 - ETA: 5s - loss: 0.0035 - accuracy: 0.99 - ETA: 5s - loss: 0.0035 - accuracy: 0.99 - ETA: 4s - loss: 0.0035 - accuracy: 0.99 - ETA: 4s - loss: 0.0035 - accuracy: 0.99 - ETA: 4s - loss: 0.0035 - accuracy: 0.99927737/7737 [==============================] - ETA: 4s - loss: 0.0035 - accuracy: 0.99 - ETA: 4s - loss: 0.0035 - accuracy: 0.99 - ETA: 4s - loss: 0.0038 - accuracy: 0.99 - ETA: 4s - loss: 0.0038 - accuracy: 0.99 - ETA: 4s - loss: 0.0038 - accuracy: 0.99 - ETA: 4s - loss: 0.0038 - accuracy: 0.99 - ETA: 4s - loss: 0.0050 - accuracy: 0.99 - ETA: 4s - loss: 0.0050 - accuracy: 0.99 - ETA: 4s - loss: 0.0050 - accuracy: 0.99 - ETA: 3s - loss: 0.0056 - accuracy: 0.99 - ETA: 3s - loss: 0.0056 - accuracy: 0.99 - ETA: 3s - loss: 0.0055 - accuracy: 0.99 - ETA: 3s - loss: 0.0055 - accuracy: 0.99 - ETA: 3s - loss: 0.0056 - accuracy: 0.99 - ETA: 3s - loss: 0.0055 - accuracy: 0.99 - ETA: 3s - loss: 0.0057 - accuracy: 0.99 - ETA: 3s - loss: 0.0057 - accuracy: 0.99 - ETA: 3s - loss: 0.0057 - accuracy: 0.99 - ETA: 3s - loss: 0.0056 - accuracy: 0.99 - ETA: 3s - loss: 0.0056 - accuracy: 0.99 - ETA: 2s - loss: 0.0056 - accuracy: 0.99 - ETA: 2s - loss: 0.0056 - accuracy: 0.99 - ETA: 2s - loss: 0.0055 - accuracy: 0.99 - ETA: 2s - loss: 0.0055 - accuracy: 0.99 - ETA: 2s - loss: 0.0055 - accuracy: 0.99 - ETA: 2s - loss: 0.0055 - accuracy: 0.99 - ETA: 2s - loss: 0.0055 - accuracy: 0.99 - ETA: 2s - loss: 0.0055 - accuracy: 0.99 - ETA: 2s - loss: 0.0054 - accuracy: 0.99 - ETA: 2s - loss: 0.0054 - accuracy: 0.99 - ETA: 2s - loss: 0.0054 - accuracy: 0.99 - ETA: 2s - loss: 0.0054 - accuracy: 0.99 - ETA: 1s - loss: 0.0053 - accuracy: 0.99 - ETA: 1s - loss: 0.0053 - accuracy: 0.99 - ETA: 1s - loss: 0.0053 - accuracy: 0.99 - ETA: 1s - loss: 0.0053 - accuracy: 0.99 - ETA: 1s - loss: 0.0053 - accuracy: 0.99 - ETA: 1s - loss: 0.0052 - accuracy: 0.99 - ETA: 1s - loss: 0.0052 - accuracy: 0.99 - ETA: 1s - loss: 0.0052 - accuracy: 0.99 - ETA: 1s - loss: 0.0052 - accuracy: 0.99 - ETA: 1s - loss: 0.0051 - accuracy: 0.99 - ETA: 1s - loss: 0.0051 - accuracy: 0.99 - ETA: 1s - loss: 0.0051 - accuracy: 0.99 - ETA: 0s - loss: 0.0051 - accuracy: 0.99 - ETA: 0s - loss: 0.0051 - accuracy: 0.99 - ETA: 0s - loss: 0.0051 - accuracy: 0.99 - ETA: 0s - loss: 0.0050 - accuracy: 0.99 - ETA: 0s - loss: 0.0050 - accuracy: 0.99 - ETA: 0s - loss: 0.0050 - accuracy: 0.99 - ETA: 0s - loss: 0.0050 - accuracy: 0.99 - ETA: 0s - loss: 0.0050 - accuracy: 0.99 - ETA: 0s - loss: 0.0049 - accuracy: 0.99 - ETA: 0s - loss: 0.0049 - accuracy: 0.99 - ETA: 0s - loss: 0.0049 - accuracy: 0.99 - ETA: 0s - loss: 0.0049 - accuracy: 0.99 - 20s 3ms/sample - loss: 0.0049 - accuracy: 0.9986\n",
      "Epoch 6/10\n"
     ]
    },
    {
     "name": "stdout",
     "output_type": "stream",
     "text": [
      "5504/7737 [====================>.........] - ETA: 18s - loss: 3.7780e-04 - accuracy: 1.000 - ETA: 19s - loss: 2.9030e-04 - accuracy: 1.000 - ETA: 19s - loss: 3.6842e-04 - accuracy: 1.000 - ETA: 21s - loss: 3.1582e-04 - accuracy: 1.000 - ETA: 21s - loss: 2.8423e-04 - accuracy: 1.000 - ETA: 21s - loss: 2.5492e-04 - accuracy: 1.000 - ETA: 21s - loss: 2.2685e-04 - accuracy: 1.000 - ETA: 21s - loss: 5.1349e-04 - accuracy: 1.000 - ETA: 21s - loss: 4.8650e-04 - accuracy: 1.000 - ETA: 21s - loss: 5.4947e-04 - accuracy: 1.000 - ETA: 21s - loss: 5.1492e-04 - accuracy: 1.000 - ETA: 21s - loss: 5.3323e-04 - accuracy: 1.000 - ETA: 21s - loss: 5.0067e-04 - accuracy: 1.000 - ETA: 21s - loss: 4.7952e-04 - accuracy: 1.000 - ETA: 21s - loss: 5.1558e-04 - accuracy: 1.000 - ETA: 20s - loss: 5.0506e-04 - accuracy: 1.000 - ETA: 20s - loss: 5.6892e-04 - accuracy: 1.000 - ETA: 20s - loss: 5.6424e-04 - accuracy: 1.000 - ETA: 20s - loss: 5.5815e-04 - accuracy: 1.000 - ETA: 20s - loss: 5.3802e-04 - accuracy: 1.000 - ETA: 19s - loss: 5.1580e-04 - accuracy: 1.000 - ETA: 19s - loss: 4.9827e-04 - accuracy: 1.000 - ETA: 19s - loss: 5.0438e-04 - accuracy: 1.000 - ETA: 19s - loss: 4.9109e-04 - accuracy: 1.000 - ETA: 19s - loss: 4.9368e-04 - accuracy: 1.000 - ETA: 19s - loss: 4.7883e-04 - accuracy: 1.000 - ETA: 18s - loss: 4.6447e-04 - accuracy: 1.000 - ETA: 18s - loss: 4.5080e-04 - accuracy: 1.000 - ETA: 18s - loss: 4.7114e-04 - accuracy: 1.000 - ETA: 18s - loss: 4.6313e-04 - accuracy: 1.000 - ETA: 18s - loss: 4.5144e-04 - accuracy: 1.000 - ETA: 18s - loss: 4.6161e-04 - accuracy: 1.000 - ETA: 18s - loss: 4.5397e-04 - accuracy: 1.000 - ETA: 18s - loss: 4.4499e-04 - accuracy: 1.000 - ETA: 18s - loss: 4.3684e-04 - accuracy: 1.000 - ETA: 18s - loss: 4.2777e-04 - accuracy: 1.000 - ETA: 18s - loss: 4.3522e-04 - accuracy: 1.000 - ETA: 17s - loss: 4.3112e-04 - accuracy: 1.000 - ETA: 17s - loss: 4.2179e-04 - accuracy: 1.000 - ETA: 17s - loss: 4.1527e-04 - accuracy: 1.000 - ETA: 17s - loss: 4.3378e-04 - accuracy: 1.000 - ETA: 17s - loss: 4.2494e-04 - accuracy: 1.000 - ETA: 17s - loss: 4.1625e-04 - accuracy: 1.000 - ETA: 17s - loss: 4.0789e-04 - accuracy: 1.000 - ETA: 17s - loss: 4.0061e-04 - accuracy: 1.000 - ETA: 17s - loss: 4.2117e-04 - accuracy: 1.000 - ETA: 16s - loss: 4.1450e-04 - accuracy: 1.000 - ETA: 16s - loss: 4.3084e-04 - accuracy: 1.000 - ETA: 16s - loss: 4.2356e-04 - accuracy: 1.000 - ETA: 16s - loss: 4.2008e-04 - accuracy: 1.000 - ETA: 16s - loss: 4.1435e-04 - accuracy: 1.000 - ETA: 16s - loss: 4.0837e-04 - accuracy: 1.000 - ETA: 16s - loss: 4.1384e-04 - accuracy: 1.000 - ETA: 16s - loss: 4.0783e-04 - accuracy: 1.000 - ETA: 16s - loss: 4.0100e-04 - accuracy: 1.000 - ETA: 16s - loss: 3.9508e-04 - accuracy: 1.000 - ETA: 16s - loss: 3.8901e-04 - accuracy: 1.000 - ETA: 16s - loss: 3.8440e-04 - accuracy: 1.000 - ETA: 16s - loss: 3.8117e-04 - accuracy: 1.000 - ETA: 16s - loss: 3.7616e-04 - accuracy: 1.000 - ETA: 16s - loss: 4.4293e-04 - accuracy: 1.000 - ETA: 15s - loss: 4.3705e-04 - accuracy: 1.000 - ETA: 15s - loss: 4.3273e-04 - accuracy: 1.000 - ETA: 15s - loss: 4.5026e-04 - accuracy: 1.000 - ETA: 15s - loss: 4.4445e-04 - accuracy: 1.000 - ETA: 15s - loss: 4.4301e-04 - accuracy: 1.000 - ETA: 15s - loss: 4.3839e-04 - accuracy: 1.000 - ETA: 15s - loss: 4.3554e-04 - accuracy: 1.000 - ETA: 15s - loss: 4.3139e-04 - accuracy: 1.000 - ETA: 15s - loss: 4.2812e-04 - accuracy: 1.000 - ETA: 14s - loss: 4.9169e-04 - accuracy: 1.000 - ETA: 14s - loss: 4.8699e-04 - accuracy: 1.000 - ETA: 14s - loss: 4.8342e-04 - accuracy: 1.000 - ETA: 14s - loss: 4.8452e-04 - accuracy: 1.000 - ETA: 14s - loss: 4.8431e-04 - accuracy: 1.000 - ETA: 14s - loss: 4.8148e-04 - accuracy: 1.000 - ETA: 14s - loss: 4.7707e-04 - accuracy: 1.000 - ETA: 14s - loss: 4.7367e-04 - accuracy: 1.000 - ETA: 14s - loss: 4.7080e-04 - accuracy: 1.000 - ETA: 14s - loss: 4.6875e-04 - accuracy: 1.000 - ETA: 14s - loss: 4.6443e-04 - accuracy: 1.000 - ETA: 13s - loss: 4.5972e-04 - accuracy: 1.000 - ETA: 13s - loss: 4.5470e-04 - accuracy: 1.000 - ETA: 13s - loss: 4.5066e-04 - accuracy: 1.000 - ETA: 13s - loss: 4.4614e-04 - accuracy: 1.000 - ETA: 13s - loss: 4.4252e-04 - accuracy: 1.000 - ETA: 13s - loss: 4.3926e-04 - accuracy: 1.000 - ETA: 13s - loss: 4.3834e-04 - accuracy: 1.000 - ETA: 13s - loss: 4.4079e-04 - accuracy: 1.000 - ETA: 13s - loss: 4.5170e-04 - accuracy: 1.000 - ETA: 13s - loss: 4.4817e-04 - accuracy: 1.000 - ETA: 12s - loss: 4.4467e-04 - accuracy: 1.000 - ETA: 12s - loss: 4.4048e-04 - accuracy: 1.000 - ETA: 12s - loss: 4.3729e-04 - accuracy: 1.000 - ETA: 12s - loss: 4.3736e-04 - accuracy: 1.000 - ETA: 12s - loss: 4.3408e-04 - accuracy: 1.000 - ETA: 12s - loss: 4.3128e-04 - accuracy: 1.000 - ETA: 12s - loss: 4.2761e-04 - accuracy: 1.000 - ETA: 12s - loss: 4.2382e-04 - accuracy: 1.000 - ETA: 12s - loss: 4.2147e-04 - accuracy: 1.000 - ETA: 12s - loss: 4.5468e-04 - accuracy: 1.000 - ETA: 12s - loss: 4.5074e-04 - accuracy: 1.000 - ETA: 11s - loss: 4.5484e-04 - accuracy: 1.000 - ETA: 11s - loss: 4.5101e-04 - accuracy: 1.000 - ETA: 11s - loss: 4.5072e-04 - accuracy: 1.000 - ETA: 11s - loss: 4.4822e-04 - accuracy: 1.000 - ETA: 11s - loss: 4.4478e-04 - accuracy: 1.000 - ETA: 11s - loss: 4.4125e-04 - accuracy: 1.000 - ETA: 11s - loss: 4.3788e-04 - accuracy: 1.000 - ETA: 11s - loss: 4.3817e-04 - accuracy: 1.000 - ETA: 11s - loss: 4.4275e-04 - accuracy: 1.000 - ETA: 11s - loss: 5.1040e-04 - accuracy: 1.000 - ETA: 11s - loss: 5.0665e-04 - accuracy: 1.000 - ETA: 10s - loss: 5.0319e-04 - accuracy: 1.000 - ETA: 10s - loss: 5.0042e-04 - accuracy: 1.000 - ETA: 10s - loss: 4.9674e-04 - accuracy: 1.000 - ETA: 10s - loss: 4.9425e-04 - accuracy: 1.000 - ETA: 10s - loss: 4.9080e-04 - accuracy: 1.000 - ETA: 10s - loss: 4.9069e-04 - accuracy: 1.000 - ETA: 10s - loss: 4.9024e-04 - accuracy: 1.000 - ETA: 10s - loss: 4.8683e-04 - accuracy: 1.000 - ETA: 10s - loss: 4.9573e-04 - accuracy: 1.000 - ETA: 10s - loss: 5.2977e-04 - accuracy: 1.000 - ETA: 10s - loss: 5.3138e-04 - accuracy: 1.000 - ETA: 9s - loss: 5.9191e-04 - accuracy: 1.000 - ETA: 9s - loss: 5.9314e-04 - accuracy: 1.00 - ETA: 9s - loss: 5.8955e-04 - accuracy: 1.00 - ETA: 9s - loss: 5.8535e-04 - accuracy: 1.00 - ETA: 9s - loss: 6.8605e-04 - accuracy: 1.00 - ETA: 9s - loss: 6.9578e-04 - accuracy: 1.00 - ETA: 9s - loss: 6.9148e-04 - accuracy: 1.00 - ETA: 9s - loss: 6.8638e-04 - accuracy: 1.00 - ETA: 9s - loss: 6.8220e-04 - accuracy: 1.00 - ETA: 9s - loss: 6.7772e-04 - accuracy: 1.00 - ETA: 9s - loss: 6.7342e-04 - accuracy: 1.00 - ETA: 9s - loss: 6.6876e-04 - accuracy: 1.00 - ETA: 8s - loss: 6.6637e-04 - accuracy: 1.00 - ETA: 8s - loss: 6.6833e-04 - accuracy: 1.00 - ETA: 8s - loss: 6.6403e-04 - accuracy: 1.00 - ETA: 8s - loss: 6.6087e-04 - accuracy: 1.00 - ETA: 8s - loss: 6.5907e-04 - accuracy: 1.00 - ETA: 8s - loss: 6.5553e-04 - accuracy: 1.00 - ETA: 8s - loss: 6.5115e-04 - accuracy: 1.00 - ETA: 8s - loss: 6.4764e-04 - accuracy: 1.00 - ETA: 8s - loss: 6.4344e-04 - accuracy: 1.00 - ETA: 8s - loss: 6.3952e-04 - accuracy: 1.00 - ETA: 8s - loss: 6.5283e-04 - accuracy: 1.00 - ETA: 7s - loss: 6.5110e-04 - accuracy: 1.00 - ETA: 7s - loss: 6.4891e-04 - accuracy: 1.00 - ETA: 7s - loss: 6.4492e-04 - accuracy: 1.00 - ETA: 7s - loss: 6.4147e-04 - accuracy: 1.00 - ETA: 7s - loss: 6.3765e-04 - accuracy: 1.00 - ETA: 7s - loss: 6.3384e-04 - accuracy: 1.00 - ETA: 7s - loss: 6.2996e-04 - accuracy: 1.00 - ETA: 7s - loss: 6.2712e-04 - accuracy: 1.00 - ETA: 7s - loss: 6.2348e-04 - accuracy: 1.00 - ETA: 7s - loss: 6.2260e-04 - accuracy: 1.00 - ETA: 7s - loss: 6.1954e-04 - accuracy: 1.00 - ETA: 7s - loss: 6.2815e-04 - accuracy: 1.00 - ETA: 6s - loss: 6.2616e-04 - accuracy: 1.00 - ETA: 6s - loss: 6.2360e-04 - accuracy: 1.00 - ETA: 6s - loss: 6.3669e-04 - accuracy: 1.00 - ETA: 6s - loss: 6.3316e-04 - accuracy: 1.00 - ETA: 6s - loss: 6.3006e-04 - accuracy: 1.00 - ETA: 6s - loss: 6.2691e-04 - accuracy: 1.00 - ETA: 6s - loss: 6.2435e-04 - accuracy: 1.00 - ETA: 6s - loss: 7.1718e-04 - accuracy: 1.00 - ETA: 6s - loss: 7.1338e-04 - accuracy: 1.00 - ETA: 6s - loss: 7.0936e-04 - accuracy: 1.00 - ETA: 6s - loss: 7.0697e-04 - accuracy: 1.00 - ETA: 5s - loss: 7.0568e-04 - accuracy: 1.00 - ETA: 5s - loss: 7.2385e-04 - accuracy: 1.0000"
     ]
    },
    {
     "name": "stdout",
     "output_type": "stream",
     "text": [
      "7737/7737 [==============================] - ETA: 5s - loss: 7.2038e-04 - accuracy: 1.00 - ETA: 5s - loss: 7.2415e-04 - accuracy: 1.00 - ETA: 5s - loss: 7.3707e-04 - accuracy: 1.00 - ETA: 5s - loss: 7.3459e-04 - accuracy: 1.00 - ETA: 5s - loss: 7.3201e-04 - accuracy: 1.00 - ETA: 5s - loss: 7.2954e-04 - accuracy: 1.00 - ETA: 5s - loss: 7.2558e-04 - accuracy: 1.00 - ETA: 5s - loss: 7.2181e-04 - accuracy: 1.00 - ETA: 5s - loss: 7.3443e-04 - accuracy: 1.00 - ETA: 5s - loss: 7.3074e-04 - accuracy: 1.00 - ETA: 4s - loss: 7.2788e-04 - accuracy: 1.00 - ETA: 4s - loss: 7.2633e-04 - accuracy: 1.00 - ETA: 4s - loss: 7.2296e-04 - accuracy: 1.00 - ETA: 4s - loss: 7.1934e-04 - accuracy: 1.00 - ETA: 4s - loss: 7.1765e-04 - accuracy: 1.00 - ETA: 4s - loss: 7.1455e-04 - accuracy: 1.00 - ETA: 4s - loss: 7.1126e-04 - accuracy: 1.00 - ETA: 4s - loss: 7.0782e-04 - accuracy: 1.00 - ETA: 4s - loss: 7.0470e-04 - accuracy: 1.00 - ETA: 4s - loss: 7.0458e-04 - accuracy: 1.00 - ETA: 4s - loss: 7.0186e-04 - accuracy: 1.00 - ETA: 4s - loss: 6.9889e-04 - accuracy: 1.00 - ETA: 3s - loss: 7.0265e-04 - accuracy: 1.00 - ETA: 3s - loss: 6.9950e-04 - accuracy: 1.00 - ETA: 3s - loss: 6.9726e-04 - accuracy: 1.00 - ETA: 3s - loss: 6.9400e-04 - accuracy: 1.00 - ETA: 3s - loss: 6.9174e-04 - accuracy: 1.00 - ETA: 3s - loss: 6.8838e-04 - accuracy: 1.00 - ETA: 3s - loss: 6.8513e-04 - accuracy: 1.00 - ETA: 3s - loss: 6.8314e-04 - accuracy: 1.00 - ETA: 3s - loss: 6.8067e-04 - accuracy: 1.00 - ETA: 3s - loss: 6.7762e-04 - accuracy: 1.00 - ETA: 3s - loss: 6.7458e-04 - accuracy: 1.00 - ETA: 3s - loss: 6.7200e-04 - accuracy: 1.00 - ETA: 2s - loss: 6.6885e-04 - accuracy: 1.00 - ETA: 2s - loss: 6.6709e-04 - accuracy: 1.00 - ETA: 2s - loss: 6.6411e-04 - accuracy: 1.00 - ETA: 2s - loss: 6.6237e-04 - accuracy: 1.00 - ETA: 2s - loss: 6.5947e-04 - accuracy: 1.00 - ETA: 2s - loss: 6.5668e-04 - accuracy: 1.00 - ETA: 2s - loss: 6.5378e-04 - accuracy: 1.00 - ETA: 2s - loss: 6.5109e-04 - accuracy: 1.00 - ETA: 2s - loss: 6.4823e-04 - accuracy: 1.00 - ETA: 2s - loss: 6.4545e-04 - accuracy: 1.00 - ETA: 2s - loss: 6.4317e-04 - accuracy: 1.00 - ETA: 2s - loss: 6.4041e-04 - accuracy: 1.00 - ETA: 1s - loss: 6.3764e-04 - accuracy: 1.00 - ETA: 1s - loss: 6.3493e-04 - accuracy: 1.00 - ETA: 1s - loss: 6.3229e-04 - accuracy: 1.00 - ETA: 1s - loss: 6.2963e-04 - accuracy: 1.00 - ETA: 1s - loss: 6.2704e-04 - accuracy: 1.00 - ETA: 1s - loss: 6.2548e-04 - accuracy: 1.00 - ETA: 1s - loss: 6.2288e-04 - accuracy: 1.00 - ETA: 1s - loss: 6.2117e-04 - accuracy: 1.00 - ETA: 1s - loss: 6.1902e-04 - accuracy: 1.00 - ETA: 1s - loss: 6.1643e-04 - accuracy: 1.00 - ETA: 1s - loss: 6.1398e-04 - accuracy: 1.00 - ETA: 0s - loss: 6.1205e-04 - accuracy: 1.00 - ETA: 0s - loss: 6.0948e-04 - accuracy: 1.00 - ETA: 0s - loss: 6.0695e-04 - accuracy: 1.00 - ETA: 0s - loss: 6.0482e-04 - accuracy: 1.00 - ETA: 0s - loss: 6.0258e-04 - accuracy: 1.00 - ETA: 0s - loss: 6.0021e-04 - accuracy: 1.00 - ETA: 0s - loss: 5.9778e-04 - accuracy: 1.00 - ETA: 0s - loss: 5.9642e-04 - accuracy: 1.00 - ETA: 0s - loss: 5.9419e-04 - accuracy: 1.00 - ETA: 0s - loss: 5.9185e-04 - accuracy: 1.00 - ETA: 0s - loss: 5.8962e-04 - accuracy: 1.00 - ETA: 0s - loss: 5.8769e-04 - accuracy: 1.00 - 21s 3ms/sample - loss: 5.8591e-04 - accuracy: 1.0000\n",
      "Epoch 7/10\n",
      "5504/7737 [====================>.........] - ETA: 21s - loss: 5.6411e-05 - accuracy: 1.000 - ETA: 19s - loss: 5.9463e-05 - accuracy: 1.000 - ETA: 19s - loss: 7.0679e-05 - accuracy: 1.000 - ETA: 20s - loss: 6.2999e-05 - accuracy: 1.000 - ETA: 20s - loss: 1.6276e-04 - accuracy: 1.000 - ETA: 20s - loss: 1.3847e-04 - accuracy: 1.000 - ETA: 20s - loss: 1.2868e-04 - accuracy: 1.000 - ETA: 20s - loss: 1.2043e-04 - accuracy: 1.000 - ETA: 20s - loss: 1.7096e-04 - accuracy: 1.000 - ETA: 19s - loss: 1.5671e-04 - accuracy: 1.000 - ETA: 19s - loss: 1.5438e-04 - accuracy: 1.000 - ETA: 19s - loss: 1.5786e-04 - accuracy: 1.000 - ETA: 19s - loss: 1.5472e-04 - accuracy: 1.000 - ETA: 19s - loss: 1.4837e-04 - accuracy: 1.000 - ETA: 19s - loss: 1.4089e-04 - accuracy: 1.000 - ETA: 19s - loss: 1.3401e-04 - accuracy: 1.000 - ETA: 18s - loss: 1.2752e-04 - accuracy: 1.000 - ETA: 18s - loss: 1.3953e-04 - accuracy: 1.000 - ETA: 18s - loss: 1.3442e-04 - accuracy: 1.000 - ETA: 18s - loss: 1.3477e-04 - accuracy: 1.000 - ETA: 18s - loss: 1.3599e-04 - accuracy: 1.000 - ETA: 18s - loss: 1.3245e-04 - accuracy: 1.000 - ETA: 19s - loss: 1.4181e-04 - accuracy: 1.000 - ETA: 19s - loss: 1.3661e-04 - accuracy: 1.000 - ETA: 19s - loss: 1.3709e-04 - accuracy: 1.000 - ETA: 19s - loss: 1.3570e-04 - accuracy: 1.000 - ETA: 18s - loss: 1.3307e-04 - accuracy: 1.000 - ETA: 18s - loss: 1.3706e-04 - accuracy: 1.000 - ETA: 18s - loss: 1.3480e-04 - accuracy: 1.000 - ETA: 18s - loss: 1.3585e-04 - accuracy: 1.000 - ETA: 18s - loss: 1.3194e-04 - accuracy: 1.000 - ETA: 18s - loss: 1.2930e-04 - accuracy: 1.000 - ETA: 18s - loss: 1.3145e-04 - accuracy: 1.000 - ETA: 18s - loss: 1.2851e-04 - accuracy: 1.000 - ETA: 18s - loss: 1.2638e-04 - accuracy: 1.000 - ETA: 18s - loss: 1.2503e-04 - accuracy: 1.000 - ETA: 18s - loss: 1.2248e-04 - accuracy: 1.000 - ETA: 17s - loss: 1.2140e-04 - accuracy: 1.000 - ETA: 17s - loss: 1.2003e-04 - accuracy: 1.000 - ETA: 17s - loss: 1.1875e-04 - accuracy: 1.000 - ETA: 17s - loss: 1.1913e-04 - accuracy: 1.000 - ETA: 17s - loss: 1.1774e-04 - accuracy: 1.000 - ETA: 17s - loss: 1.7123e-04 - accuracy: 1.000 - ETA: 17s - loss: 1.6866e-04 - accuracy: 1.000 - ETA: 17s - loss: 1.6820e-04 - accuracy: 1.000 - ETA: 17s - loss: 1.6806e-04 - accuracy: 1.000 - ETA: 17s - loss: 1.6481e-04 - accuracy: 1.000 - ETA: 16s - loss: 1.6335e-04 - accuracy: 1.000 - ETA: 16s - loss: 1.6098e-04 - accuracy: 1.000 - ETA: 16s - loss: 1.5866e-04 - accuracy: 1.000 - ETA: 16s - loss: 1.5690e-04 - accuracy: 1.000 - ETA: 16s - loss: 1.5538e-04 - accuracy: 1.000 - ETA: 16s - loss: 1.5336e-04 - accuracy: 1.000 - ETA: 16s - loss: 2.0248e-04 - accuracy: 1.000 - ETA: 16s - loss: 1.9978e-04 - accuracy: 1.000 - ETA: 16s - loss: 2.0019e-04 - accuracy: 1.000 - ETA: 16s - loss: 2.0279e-04 - accuracy: 1.000 - ETA: 16s - loss: 1.9993e-04 - accuracy: 1.000 - ETA: 15s - loss: 2.1536e-04 - accuracy: 1.000 - ETA: 15s - loss: 2.1238e-04 - accuracy: 1.000 - ETA: 15s - loss: 2.0920e-04 - accuracy: 1.000 - ETA: 15s - loss: 2.0722e-04 - accuracy: 1.000 - ETA: 15s - loss: 2.0523e-04 - accuracy: 1.000 - ETA: 15s - loss: 2.0628e-04 - accuracy: 1.000 - ETA: 15s - loss: 2.0366e-04 - accuracy: 1.000 - ETA: 15s - loss: 2.0140e-04 - accuracy: 1.000 - ETA: 15s - loss: 1.9961e-04 - accuracy: 1.000 - ETA: 15s - loss: 1.9794e-04 - accuracy: 1.000 - ETA: 15s - loss: 1.9844e-04 - accuracy: 1.000 - ETA: 14s - loss: 2.1213e-04 - accuracy: 1.000 - ETA: 14s - loss: 2.1193e-04 - accuracy: 1.000 - ETA: 14s - loss: 2.0988e-04 - accuracy: 1.000 - ETA: 14s - loss: 2.0715e-04 - accuracy: 1.000 - ETA: 14s - loss: 2.2213e-04 - accuracy: 1.000 - ETA: 14s - loss: 2.2124e-04 - accuracy: 1.000 - ETA: 14s - loss: 2.1893e-04 - accuracy: 1.000 - ETA: 14s - loss: 2.1791e-04 - accuracy: 1.000 - ETA: 14s - loss: 2.2057e-04 - accuracy: 1.000 - ETA: 14s - loss: 2.1813e-04 - accuracy: 1.000 - ETA: 14s - loss: 2.1566e-04 - accuracy: 1.000 - ETA: 13s - loss: 2.1416e-04 - accuracy: 1.000 - ETA: 13s - loss: 2.1187e-04 - accuracy: 1.000 - ETA: 13s - loss: 2.0967e-04 - accuracy: 1.000 - ETA: 13s - loss: 2.1046e-04 - accuracy: 1.000 - ETA: 13s - loss: 2.1001e-04 - accuracy: 1.000 - ETA: 13s - loss: 2.2054e-04 - accuracy: 1.000 - ETA: 13s - loss: 2.2039e-04 - accuracy: 1.000 - ETA: 13s - loss: 2.1867e-04 - accuracy: 1.000 - ETA: 13s - loss: 2.1668e-04 - accuracy: 1.000 - ETA: 13s - loss: 2.1494e-04 - accuracy: 1.000 - ETA: 13s - loss: 2.1291e-04 - accuracy: 1.000 - ETA: 13s - loss: 2.2146e-04 - accuracy: 1.000 - ETA: 12s - loss: 2.1999e-04 - accuracy: 1.000 - ETA: 12s - loss: 2.2685e-04 - accuracy: 1.000 - ETA: 12s - loss: 2.2456e-04 - accuracy: 1.000 - ETA: 12s - loss: 2.2259e-04 - accuracy: 1.000 - ETA: 12s - loss: 2.2081e-04 - accuracy: 1.000 - ETA: 12s - loss: 2.1893e-04 - accuracy: 1.000 - ETA: 12s - loss: 2.1783e-04 - accuracy: 1.000 - ETA: 12s - loss: 2.1591e-04 - accuracy: 1.000 - ETA: 12s - loss: 2.1397e-04 - accuracy: 1.000 - ETA: 12s - loss: 2.1209e-04 - accuracy: 1.000 - ETA: 12s - loss: 2.1078e-04 - accuracy: 1.000 - ETA: 12s - loss: 2.0907e-04 - accuracy: 1.000 - ETA: 11s - loss: 2.0720e-04 - accuracy: 1.000 - ETA: 11s - loss: 2.0581e-04 - accuracy: 1.000 - ETA: 11s - loss: 2.1353e-04 - accuracy: 1.000 - ETA: 11s - loss: 2.1203e-04 - accuracy: 1.000 - ETA: 11s - loss: 2.1044e-04 - accuracy: 1.000 - ETA: 11s - loss: 2.0886e-04 - accuracy: 1.000 - ETA: 11s - loss: 2.0728e-04 - accuracy: 1.000 - ETA: 11s - loss: 2.0650e-04 - accuracy: 1.000 - ETA: 11s - loss: 2.0483e-04 - accuracy: 1.000 - ETA: 11s - loss: 2.0330e-04 - accuracy: 1.000 - ETA: 11s - loss: 2.0191e-04 - accuracy: 1.000 - ETA: 11s - loss: 2.0062e-04 - accuracy: 1.000 - ETA: 11s - loss: 2.0034e-04 - accuracy: 1.000 - ETA: 10s - loss: 1.9899e-04 - accuracy: 1.000 - ETA: 10s - loss: 1.9833e-04 - accuracy: 1.000 - ETA: 10s - loss: 1.9678e-04 - accuracy: 1.000 - ETA: 10s - loss: 1.9584e-04 - accuracy: 1.000 - ETA: 10s - loss: 1.9575e-04 - accuracy: 1.000 - ETA: 10s - loss: 1.9471e-04 - accuracy: 1.000 - ETA: 10s - loss: 1.9354e-04 - accuracy: 1.000 - ETA: 10s - loss: 1.9218e-04 - accuracy: 1.000 - ETA: 10s - loss: 1.9084e-04 - accuracy: 1.000 - ETA: 10s - loss: 1.8951e-04 - accuracy: 1.000 - ETA: 10s - loss: 1.8815e-04 - accuracy: 1.000 - ETA: 9s - loss: 2.0264e-04 - accuracy: 1.000 - ETA: 9s - loss: 2.0137e-04 - accuracy: 1.00 - ETA: 9s - loss: 2.0321e-04 - accuracy: 1.00 - ETA: 9s - loss: 2.0197e-04 - accuracy: 1.00 - ETA: 9s - loss: 2.0459e-04 - accuracy: 1.00 - ETA: 9s - loss: 2.0331e-04 - accuracy: 1.00 - ETA: 9s - loss: 2.1322e-04 - accuracy: 1.00 - ETA: 9s - loss: 2.1187e-04 - accuracy: 1.00 - ETA: 9s - loss: 2.1139e-04 - accuracy: 1.00 - ETA: 9s - loss: 2.1781e-04 - accuracy: 1.00 - ETA: 9s - loss: 2.1702e-04 - accuracy: 1.00 - ETA: 8s - loss: 2.1673e-04 - accuracy: 1.00 - ETA: 8s - loss: 2.1530e-04 - accuracy: 1.00 - ETA: 8s - loss: 2.1392e-04 - accuracy: 1.00 - ETA: 8s - loss: 2.2376e-04 - accuracy: 1.00 - ETA: 8s - loss: 2.2253e-04 - accuracy: 1.00 - ETA: 8s - loss: 2.2414e-04 - accuracy: 1.00 - ETA: 8s - loss: 2.2288e-04 - accuracy: 1.00 - ETA: 8s - loss: 2.2191e-04 - accuracy: 1.00 - ETA: 8s - loss: 2.2089e-04 - accuracy: 1.00 - ETA: 8s - loss: 2.1962e-04 - accuracy: 1.00 - ETA: 8s - loss: 2.1911e-04 - accuracy: 1.00 - ETA: 8s - loss: 2.1770e-04 - accuracy: 1.00 - ETA: 7s - loss: 2.1641e-04 - accuracy: 1.00 - ETA: 7s - loss: 2.1510e-04 - accuracy: 1.00 - ETA: 7s - loss: 2.1483e-04 - accuracy: 1.00 - ETA: 7s - loss: 2.1550e-04 - accuracy: 1.00 - ETA: 7s - loss: 2.1449e-04 - accuracy: 1.00 - ETA: 7s - loss: 2.1921e-04 - accuracy: 1.00 - ETA: 7s - loss: 2.1793e-04 - accuracy: 1.00 - ETA: 7s - loss: 2.1884e-04 - accuracy: 1.00 - ETA: 7s - loss: 2.1766e-04 - accuracy: 1.00 - ETA: 7s - loss: 2.1645e-04 - accuracy: 1.00 - ETA: 7s - loss: 2.1540e-04 - accuracy: 1.00 - ETA: 6s - loss: 2.1420e-04 - accuracy: 1.00 - ETA: 6s - loss: 2.1308e-04 - accuracy: 1.00 - ETA: 6s - loss: 2.1340e-04 - accuracy: 1.00 - ETA: 6s - loss: 2.1507e-04 - accuracy: 1.00 - ETA: 6s - loss: 2.1389e-04 - accuracy: 1.00 - ETA: 6s - loss: 2.1305e-04 - accuracy: 1.00 - ETA: 6s - loss: 2.1201e-04 - accuracy: 1.00 - ETA: 6s - loss: 2.1095e-04 - accuracy: 1.00 - ETA: 6s - loss: 2.2047e-04 - accuracy: 1.00 - ETA: 6s - loss: 2.1939e-04 - accuracy: 1.00007737/7737 [==============================] - ETA: 6s - loss: 2.1854e-04 - accuracy: 1.00 - ETA: 5s - loss: 2.1740e-04 - accuracy: 1.00 - ETA: 5s - loss: 2.1745e-04 - accuracy: 1.00 - ETA: 5s - loss: 2.1628e-04 - accuracy: 1.00 - ETA: 5s - loss: 2.1515e-04 - accuracy: 1.00 - ETA: 5s - loss: 2.1413e-04 - accuracy: 1.00 - ETA: 5s - loss: 2.1303e-04 - accuracy: 1.00 - ETA: 5s - loss: 2.1559e-04 - accuracy: 1.00 - ETA: 5s - loss: 2.1450e-04 - accuracy: 1.00 - ETA: 5s - loss: 2.1341e-04 - accuracy: 1.00 - ETA: 5s - loss: 2.1258e-04 - accuracy: 1.00 - ETA: 5s - loss: 2.1149e-04 - accuracy: 1.00 - ETA: 4s - loss: 2.1045e-04 - accuracy: 1.00 - ETA: 4s - loss: 2.0999e-04 - accuracy: 1.00 - ETA: 4s - loss: 2.0893e-04 - accuracy: 1.00 - ETA: 4s - loss: 2.0844e-04 - accuracy: 1.00 - ETA: 4s - loss: 2.0822e-04 - accuracy: 1.00 - ETA: 4s - loss: 2.4753e-04 - accuracy: 1.00 - ETA: 4s - loss: 2.4634e-04 - accuracy: 1.00 - ETA: 4s - loss: 2.4539e-04 - accuracy: 1.00 - ETA: 4s - loss: 2.4489e-04 - accuracy: 1.00 - ETA: 4s - loss: 2.5135e-04 - accuracy: 1.00 - ETA: 4s - loss: 2.5287e-04 - accuracy: 1.00 - ETA: 3s - loss: 2.5274e-04 - accuracy: 1.00 - ETA: 3s - loss: 2.5733e-04 - accuracy: 1.00 - ETA: 3s - loss: 2.5683e-04 - accuracy: 1.00 - ETA: 3s - loss: 2.5619e-04 - accuracy: 1.00 - ETA: 3s - loss: 2.5637e-04 - accuracy: 1.00 - ETA: 3s - loss: 2.6026e-04 - accuracy: 1.00 - ETA: 3s - loss: 2.5983e-04 - accuracy: 1.00 - ETA: 3s - loss: 2.5870e-04 - accuracy: 1.00 - ETA: 3s - loss: 3.1107e-04 - accuracy: 1.00 - ETA: 3s - loss: 3.2033e-04 - accuracy: 1.00 - ETA: 3s - loss: 3.1886e-04 - accuracy: 1.00 - ETA: 3s - loss: 3.2094e-04 - accuracy: 1.00 - ETA: 2s - loss: 3.3363e-04 - accuracy: 1.00 - ETA: 2s - loss: 3.3298e-04 - accuracy: 1.00 - ETA: 2s - loss: 3.4922e-04 - accuracy: 1.00 - ETA: 2s - loss: 3.4787e-04 - accuracy: 1.00 - ETA: 2s - loss: 5.2363e-04 - accuracy: 0.99 - ETA: 2s - loss: 5.2124e-04 - accuracy: 0.99 - ETA: 2s - loss: 5.1893e-04 - accuracy: 0.99 - ETA: 2s - loss: 8.7150e-04 - accuracy: 0.99 - ETA: 2s - loss: 8.6783e-04 - accuracy: 0.99 - ETA: 2s - loss: 8.6470e-04 - accuracy: 0.99 - ETA: 2s - loss: 8.6128e-04 - accuracy: 0.99 - ETA: 1s - loss: 8.5768e-04 - accuracy: 0.99 - ETA: 1s - loss: 8.5391e-04 - accuracy: 0.99 - ETA: 1s - loss: 8.5077e-04 - accuracy: 0.99 - ETA: 1s - loss: 9.2646e-04 - accuracy: 0.99 - ETA: 1s - loss: 9.2341e-04 - accuracy: 0.99 - ETA: 1s - loss: 9.2057e-04 - accuracy: 0.99 - ETA: 1s - loss: 9.1656e-04 - accuracy: 0.99 - ETA: 1s - loss: 9.1260e-04 - accuracy: 0.99 - ETA: 1s - loss: 9.0875e-04 - accuracy: 0.99 - ETA: 1s - loss: 9.0672e-04 - accuracy: 0.99 - ETA: 1s - loss: 9.0312e-04 - accuracy: 0.99 - ETA: 1s - loss: 9.3229e-04 - accuracy: 0.99 - ETA: 0s - loss: 9.2837e-04 - accuracy: 0.99 - ETA: 0s - loss: 9.2487e-04 - accuracy: 0.99 - ETA: 0s - loss: 9.2105e-04 - accuracy: 0.99 - ETA: 0s - loss: 9.1725e-04 - accuracy: 0.99 - ETA: 0s - loss: 9.1346e-04 - accuracy: 0.99 - ETA: 0s - loss: 9.0970e-04 - accuracy: 0.99 - ETA: 0s - loss: 9.0609e-04 - accuracy: 0.99 - ETA: 0s - loss: 9.0410e-04 - accuracy: 0.99 - ETA: 0s - loss: 9.0385e-04 - accuracy: 0.99 - ETA: 0s - loss: 9.0062e-04 - accuracy: 0.99 - ETA: 0s - loss: 8.9733e-04 - accuracy: 0.99 - 21s 3ms/sample - loss: 8.9496e-04 - accuracy: 0.9997\n",
      "Epoch 8/10\n"
     ]
    },
    {
     "name": "stdout",
     "output_type": "stream",
     "text": [
      "5696/7737 [=====================>........] - ETA: 18s - loss: 1.2679e-04 - accuracy: 1.000 - ETA: 18s - loss: 7.8326e-05 - accuracy: 1.000 - ETA: 18s - loss: 8.2817e-05 - accuracy: 1.000 - ETA: 18s - loss: 7.4442e-05 - accuracy: 1.000 - ETA: 18s - loss: 6.4576e-04 - accuracy: 1.000 - ETA: 18s - loss: 5.4136e-04 - accuracy: 1.000 - ETA: 18s - loss: 5.2149e-04 - accuracy: 1.000 - ETA: 18s - loss: 4.5890e-04 - accuracy: 1.000 - ETA: 17s - loss: 4.1319e-04 - accuracy: 1.000 - ETA: 17s - loss: 3.8189e-04 - accuracy: 1.000 - ETA: 17s - loss: 3.4960e-04 - accuracy: 1.000 - ETA: 17s - loss: 3.2196e-04 - accuracy: 1.000 - ETA: 17s - loss: 2.9893e-04 - accuracy: 1.000 - ETA: 17s - loss: 2.7867e-04 - accuracy: 1.000 - ETA: 17s - loss: 2.8444e-04 - accuracy: 1.000 - ETA: 17s - loss: 2.8041e-04 - accuracy: 1.000 - ETA: 17s - loss: 2.6795e-04 - accuracy: 1.000 - ETA: 17s - loss: 2.5563e-04 - accuracy: 1.000 - ETA: 17s - loss: 2.4495e-04 - accuracy: 1.000 - ETA: 17s - loss: 2.4428e-04 - accuracy: 1.000 - ETA: 17s - loss: 2.4213e-04 - accuracy: 1.000 - ETA: 17s - loss: 2.3573e-04 - accuracy: 1.000 - ETA: 17s - loss: 3.2259e-04 - accuracy: 1.000 - ETA: 17s - loss: 3.1249e-04 - accuracy: 1.000 - ETA: 17s - loss: 3.0311e-04 - accuracy: 1.000 - ETA: 16s - loss: 2.9209e-04 - accuracy: 1.000 - ETA: 16s - loss: 2.8220e-04 - accuracy: 1.000 - ETA: 16s - loss: 2.7384e-04 - accuracy: 1.000 - ETA: 16s - loss: 2.6927e-04 - accuracy: 1.000 - ETA: 16s - loss: 2.7546e-04 - accuracy: 1.000 - ETA: 16s - loss: 2.7159e-04 - accuracy: 1.000 - ETA: 16s - loss: 2.6912e-04 - accuracy: 1.000 - ETA: 16s - loss: 2.6378e-04 - accuracy: 1.000 - ETA: 16s - loss: 2.5798e-04 - accuracy: 1.000 - ETA: 16s - loss: 2.5186e-04 - accuracy: 1.000 - ETA: 16s - loss: 2.4512e-04 - accuracy: 1.000 - ETA: 16s - loss: 2.9116e-04 - accuracy: 1.000 - ETA: 16s - loss: 2.8450e-04 - accuracy: 1.000 - ETA: 15s - loss: 3.0105e-04 - accuracy: 1.000 - ETA: 15s - loss: 2.9462e-04 - accuracy: 1.000 - ETA: 15s - loss: 2.8822e-04 - accuracy: 1.000 - ETA: 15s - loss: 2.8193e-04 - accuracy: 1.000 - ETA: 15s - loss: 2.7569e-04 - accuracy: 1.000 - ETA: 15s - loss: 2.7026e-04 - accuracy: 1.000 - ETA: 15s - loss: 2.6510e-04 - accuracy: 1.000 - ETA: 15s - loss: 2.6034e-04 - accuracy: 1.000 - ETA: 15s - loss: 2.5621e-04 - accuracy: 1.000 - ETA: 15s - loss: 2.5234e-04 - accuracy: 1.000 - ETA: 15s - loss: 2.4763e-04 - accuracy: 1.000 - ETA: 15s - loss: 2.4318e-04 - accuracy: 1.000 - ETA: 15s - loss: 2.3881e-04 - accuracy: 1.000 - ETA: 15s - loss: 2.3471e-04 - accuracy: 1.000 - ETA: 14s - loss: 2.3262e-04 - accuracy: 1.000 - ETA: 14s - loss: 2.2981e-04 - accuracy: 1.000 - ETA: 14s - loss: 2.3760e-04 - accuracy: 1.000 - ETA: 14s - loss: 2.3557e-04 - accuracy: 1.000 - ETA: 14s - loss: 2.3322e-04 - accuracy: 1.000 - ETA: 14s - loss: 2.2955e-04 - accuracy: 1.000 - ETA: 14s - loss: 2.2595e-04 - accuracy: 1.000 - ETA: 14s - loss: 2.2333e-04 - accuracy: 1.000 - ETA: 14s - loss: 2.1995e-04 - accuracy: 1.000 - ETA: 14s - loss: 2.1690e-04 - accuracy: 1.000 - ETA: 14s - loss: 2.1376e-04 - accuracy: 1.000 - ETA: 14s - loss: 2.1092e-04 - accuracy: 1.000 - ETA: 13s - loss: 2.0803e-04 - accuracy: 1.000 - ETA: 13s - loss: 2.0575e-04 - accuracy: 1.000 - ETA: 13s - loss: 2.0286e-04 - accuracy: 1.000 - ETA: 13s - loss: 3.1166e-04 - accuracy: 1.000 - ETA: 13s - loss: 3.1279e-04 - accuracy: 1.000 - ETA: 13s - loss: 3.0908e-04 - accuracy: 1.000 - ETA: 13s - loss: 3.0542e-04 - accuracy: 1.000 - ETA: 13s - loss: 3.0452e-04 - accuracy: 1.000 - ETA: 13s - loss: 3.0277e-04 - accuracy: 1.000 - ETA: 13s - loss: 3.5548e-04 - accuracy: 1.000 - ETA: 13s - loss: 5.3220e-04 - accuracy: 1.000 - ETA: 13s - loss: 5.2709e-04 - accuracy: 1.000 - ETA: 13s - loss: 5.2034e-04 - accuracy: 1.000 - ETA: 12s - loss: 5.1428e-04 - accuracy: 1.000 - ETA: 12s - loss: 5.1839e-04 - accuracy: 1.000 - ETA: 12s - loss: 6.0006e-04 - accuracy: 1.000 - ETA: 12s - loss: 5.9359e-04 - accuracy: 1.000 - ETA: 12s - loss: 6.0101e-04 - accuracy: 1.000 - ETA: 12s - loss: 6.4772e-04 - accuracy: 1.000 - ETA: 12s - loss: 6.4332e-04 - accuracy: 1.000 - ETA: 12s - loss: 6.3665e-04 - accuracy: 1.000 - ETA: 12s - loss: 6.2944e-04 - accuracy: 1.000 - ETA: 12s - loss: 6.2254e-04 - accuracy: 1.000 - ETA: 12s - loss: 6.1564e-04 - accuracy: 1.000 - ETA: 12s - loss: 6.0918e-04 - accuracy: 1.000 - ETA: 12s - loss: 6.0347e-04 - accuracy: 1.000 - ETA: 11s - loss: 5.9699e-04 - accuracy: 1.000 - ETA: 11s - loss: 5.9232e-04 - accuracy: 1.000 - ETA: 11s - loss: 5.8669e-04 - accuracy: 1.000 - ETA: 11s - loss: 5.8073e-04 - accuracy: 1.000 - ETA: 11s - loss: 5.7518e-04 - accuracy: 1.000 - ETA: 11s - loss: 5.7031e-04 - accuracy: 1.000 - ETA: 11s - loss: 5.6511e-04 - accuracy: 1.000 - ETA: 11s - loss: 5.5959e-04 - accuracy: 1.000 - ETA: 11s - loss: 5.5603e-04 - accuracy: 1.000 - ETA: 11s - loss: 5.6874e-04 - accuracy: 1.000 - ETA: 11s - loss: 5.6351e-04 - accuracy: 1.000 - ETA: 11s - loss: 5.6473e-04 - accuracy: 1.000 - ETA: 10s - loss: 5.6073e-04 - accuracy: 1.000 - ETA: 10s - loss: 5.5631e-04 - accuracy: 1.000 - ETA: 10s - loss: 5.5131e-04 - accuracy: 1.000 - ETA: 10s - loss: 5.4629e-04 - accuracy: 1.000 - ETA: 10s - loss: 5.4166e-04 - accuracy: 1.000 - ETA: 10s - loss: 5.3672e-04 - accuracy: 1.000 - ETA: 10s - loss: 5.3228e-04 - accuracy: 1.000 - ETA: 10s - loss: 5.2920e-04 - accuracy: 1.000 - ETA: 10s - loss: 5.3125e-04 - accuracy: 1.000 - ETA: 10s - loss: 5.3118e-04 - accuracy: 1.000 - ETA: 10s - loss: 5.6713e-04 - accuracy: 1.000 - ETA: 10s - loss: 5.6230e-04 - accuracy: 1.000 - ETA: 10s - loss: 5.5758e-04 - accuracy: 1.000 - ETA: 9s - loss: 5.5326e-04 - accuracy: 1.000 - ETA: 9s - loss: 5.5129e-04 - accuracy: 1.00 - ETA: 9s - loss: 5.4803e-04 - accuracy: 1.00 - ETA: 9s - loss: 5.4410e-04 - accuracy: 1.00 - ETA: 9s - loss: 0.0013 - accuracy: 0.9997   - ETA: 9s - loss: 0.0013 - accuracy: 0.99 - ETA: 9s - loss: 0.0013 - accuracy: 0.99 - ETA: 9s - loss: 0.0014 - accuracy: 0.99 - ETA: 9s - loss: 0.0064 - accuracy: 0.99 - ETA: 9s - loss: 0.0198 - accuracy: 0.99 - ETA: 9s - loss: 0.0196 - accuracy: 0.99 - ETA: 9s - loss: 0.0228 - accuracy: 0.99 - ETA: 9s - loss: 0.0241 - accuracy: 0.99 - ETA: 8s - loss: 0.0239 - accuracy: 0.99 - ETA: 8s - loss: 0.0239 - accuracy: 0.99 - ETA: 8s - loss: 0.0245 - accuracy: 0.99 - ETA: 8s - loss: 0.0262 - accuracy: 0.99 - ETA: 8s - loss: 0.0261 - accuracy: 0.99 - ETA: 8s - loss: 0.0259 - accuracy: 0.99 - ETA: 8s - loss: 0.0259 - accuracy: 0.99 - ETA: 8s - loss: 0.0265 - accuracy: 0.99 - ETA: 8s - loss: 0.0275 - accuracy: 0.99 - ETA: 8s - loss: 0.0277 - accuracy: 0.99 - ETA: 8s - loss: 0.0276 - accuracy: 0.99 - ETA: 8s - loss: 0.0280 - accuracy: 0.99 - ETA: 7s - loss: 0.0297 - accuracy: 0.99 - ETA: 7s - loss: 0.0301 - accuracy: 0.99 - ETA: 7s - loss: 0.0300 - accuracy: 0.99 - ETA: 7s - loss: 0.0299 - accuracy: 0.99 - ETA: 7s - loss: 0.0302 - accuracy: 0.99 - ETA: 7s - loss: 0.0310 - accuracy: 0.99 - ETA: 7s - loss: 0.0315 - accuracy: 0.99 - ETA: 7s - loss: 0.0313 - accuracy: 0.99 - ETA: 7s - loss: 0.0311 - accuracy: 0.99 - ETA: 7s - loss: 0.0310 - accuracy: 0.99 - ETA: 7s - loss: 0.0312 - accuracy: 0.99 - ETA: 7s - loss: 0.0310 - accuracy: 0.99 - ETA: 7s - loss: 0.0310 - accuracy: 0.99 - ETA: 6s - loss: 0.0311 - accuracy: 0.99 - ETA: 6s - loss: 0.0314 - accuracy: 0.99 - ETA: 6s - loss: 0.0313 - accuracy: 0.99 - ETA: 6s - loss: 0.0311 - accuracy: 0.99 - ETA: 6s - loss: 0.0311 - accuracy: 0.99 - ETA: 6s - loss: 0.0309 - accuracy: 0.99 - ETA: 6s - loss: 0.0312 - accuracy: 0.99 - ETA: 6s - loss: 0.0311 - accuracy: 0.99 - ETA: 6s - loss: 0.0309 - accuracy: 0.99 - ETA: 6s - loss: 0.0307 - accuracy: 0.99 - ETA: 6s - loss: 0.0306 - accuracy: 0.99 - ETA: 6s - loss: 0.0304 - accuracy: 0.99 - ETA: 5s - loss: 0.0302 - accuracy: 0.99 - ETA: 5s - loss: 0.0302 - accuracy: 0.99 - ETA: 5s - loss: 0.0301 - accuracy: 0.99 - ETA: 5s - loss: 0.0300 - accuracy: 0.99 - ETA: 5s - loss: 0.0298 - accuracy: 0.99 - ETA: 5s - loss: 0.0297 - accuracy: 0.99 - ETA: 5s - loss: 0.0295 - accuracy: 0.99 - ETA: 5s - loss: 0.0294 - accuracy: 0.99 - ETA: 5s - loss: 0.0293 - accuracy: 0.99 - ETA: 5s - loss: 0.0291 - accuracy: 0.99 - ETA: 5s - loss: 0.0289 - accuracy: 0.99 - ETA: 5s - loss: 0.0288 - accuracy: 0.99 - ETA: 5s - loss: 0.0296 - accuracy: 0.9914"
     ]
    },
    {
     "name": "stdout",
     "output_type": "stream",
     "text": [
      "7737/7737 [==============================] - ETA: 4s - loss: 0.0294 - accuracy: 0.99 - ETA: 4s - loss: 0.0294 - accuracy: 0.99 - ETA: 4s - loss: 0.0293 - accuracy: 0.99 - ETA: 4s - loss: 0.0291 - accuracy: 0.99 - ETA: 4s - loss: 0.0290 - accuracy: 0.99 - ETA: 4s - loss: 0.0288 - accuracy: 0.99 - ETA: 4s - loss: 0.0287 - accuracy: 0.99 - ETA: 4s - loss: 0.0288 - accuracy: 0.99 - ETA: 4s - loss: 0.0287 - accuracy: 0.99 - ETA: 4s - loss: 0.0285 - accuracy: 0.99 - ETA: 4s - loss: 0.0284 - accuracy: 0.99 - ETA: 4s - loss: 0.0282 - accuracy: 0.99 - ETA: 3s - loss: 0.0281 - accuracy: 0.99 - ETA: 3s - loss: 0.0280 - accuracy: 0.99 - ETA: 3s - loss: 0.0280 - accuracy: 0.99 - ETA: 3s - loss: 0.0278 - accuracy: 0.99 - ETA: 3s - loss: 0.0277 - accuracy: 0.99 - ETA: 3s - loss: 0.0276 - accuracy: 0.99 - ETA: 3s - loss: 0.0274 - accuracy: 0.99 - ETA: 3s - loss: 0.0274 - accuracy: 0.99 - ETA: 3s - loss: 0.0272 - accuracy: 0.99 - ETA: 3s - loss: 0.0271 - accuracy: 0.99 - ETA: 3s - loss: 0.0270 - accuracy: 0.99 - ETA: 3s - loss: 0.0268 - accuracy: 0.99 - ETA: 3s - loss: 0.0267 - accuracy: 0.99 - ETA: 2s - loss: 0.0266 - accuracy: 0.99 - ETA: 2s - loss: 0.0265 - accuracy: 0.99 - ETA: 2s - loss: 0.0264 - accuracy: 0.99 - ETA: 2s - loss: 0.0262 - accuracy: 0.99 - ETA: 2s - loss: 0.0261 - accuracy: 0.99 - ETA: 2s - loss: 0.0260 - accuracy: 0.99 - ETA: 2s - loss: 0.0259 - accuracy: 0.99 - ETA: 2s - loss: 0.0258 - accuracy: 0.99 - ETA: 2s - loss: 0.0262 - accuracy: 0.99 - ETA: 2s - loss: 0.0261 - accuracy: 0.99 - ETA: 2s - loss: 0.0260 - accuracy: 0.99 - ETA: 2s - loss: 0.0259 - accuracy: 0.99 - ETA: 2s - loss: 0.0258 - accuracy: 0.99 - ETA: 1s - loss: 0.0257 - accuracy: 0.99 - ETA: 1s - loss: 0.0256 - accuracy: 0.99 - ETA: 1s - loss: 0.0255 - accuracy: 0.99 - ETA: 1s - loss: 0.0254 - accuracy: 0.99 - ETA: 1s - loss: 0.0253 - accuracy: 0.99 - ETA: 1s - loss: 0.0251 - accuracy: 0.99 - ETA: 1s - loss: 0.0250 - accuracy: 0.99 - ETA: 1s - loss: 0.0249 - accuracy: 0.99 - ETA: 1s - loss: 0.0249 - accuracy: 0.99 - ETA: 1s - loss: 0.0248 - accuracy: 0.99 - ETA: 1s - loss: 0.0247 - accuracy: 0.99 - ETA: 1s - loss: 0.0245 - accuracy: 0.99 - ETA: 1s - loss: 0.0244 - accuracy: 0.99 - ETA: 0s - loss: 0.0243 - accuracy: 0.99 - ETA: 0s - loss: 0.0242 - accuracy: 0.99 - ETA: 0s - loss: 0.0241 - accuracy: 0.99 - ETA: 0s - loss: 0.0240 - accuracy: 0.99 - ETA: 0s - loss: 0.0239 - accuracy: 0.99 - ETA: 0s - loss: 0.0238 - accuracy: 0.99 - ETA: 0s - loss: 0.0237 - accuracy: 0.99 - ETA: 0s - loss: 0.0236 - accuracy: 0.99 - ETA: 0s - loss: 0.0235 - accuracy: 0.99 - ETA: 0s - loss: 0.0234 - accuracy: 0.99 - ETA: 0s - loss: 0.0233 - accuracy: 0.99 - ETA: 0s - loss: 0.0233 - accuracy: 0.99 - 19s 2ms/sample - loss: 0.0232 - accuracy: 0.9931\n",
      "Epoch 9/10\n",
      "5536/7737 [====================>.........] - ETA: 18s - loss: 9.0101e-05 - accuracy: 1.000 - ETA: 18s - loss: 3.7466e-04 - accuracy: 1.000 - ETA: 18s - loss: 4.2625e-04 - accuracy: 1.000 - ETA: 18s - loss: 3.8899e-04 - accuracy: 1.000 - ETA: 18s - loss: 3.5655e-04 - accuracy: 1.000 - ETA: 18s - loss: 3.5639e-04 - accuracy: 1.000 - ETA: 18s - loss: 3.4060e-04 - accuracy: 1.000 - ETA: 18s - loss: 3.2004e-04 - accuracy: 1.000 - ETA: 18s - loss: 2.9913e-04 - accuracy: 1.000 - ETA: 18s - loss: 3.9050e-04 - accuracy: 1.000 - ETA: 18s - loss: 3.6397e-04 - accuracy: 1.000 - ETA: 18s - loss: 4.1536e-04 - accuracy: 1.000 - ETA: 18s - loss: 3.9188e-04 - accuracy: 1.000 - ETA: 18s - loss: 4.5857e-04 - accuracy: 1.000 - ETA: 17s - loss: 4.3913e-04 - accuracy: 1.000 - ETA: 17s - loss: 5.0973e-04 - accuracy: 1.000 - ETA: 17s - loss: 4.9733e-04 - accuracy: 1.000 - ETA: 17s - loss: 4.9818e-04 - accuracy: 1.000 - ETA: 17s - loss: 5.2355e-04 - accuracy: 1.000 - ETA: 17s - loss: 5.0440e-04 - accuracy: 1.000 - ETA: 17s - loss: 4.8940e-04 - accuracy: 1.000 - ETA: 17s - loss: 4.7740e-04 - accuracy: 1.000 - ETA: 17s - loss: 4.6921e-04 - accuracy: 1.000 - ETA: 17s - loss: 4.6515e-04 - accuracy: 1.000 - ETA: 17s - loss: 5.3982e-04 - accuracy: 1.000 - ETA: 16s - loss: 5.3690e-04 - accuracy: 1.000 - ETA: 16s - loss: 5.3125e-04 - accuracy: 1.000 - ETA: 16s - loss: 5.2386e-04 - accuracy: 1.000 - ETA: 16s - loss: 5.4302e-04 - accuracy: 1.000 - ETA: 16s - loss: 5.5216e-04 - accuracy: 1.000 - ETA: 16s - loss: 5.4094e-04 - accuracy: 1.000 - ETA: 16s - loss: 5.2799e-04 - accuracy: 1.000 - ETA: 16s - loss: 5.2155e-04 - accuracy: 1.000 - ETA: 16s - loss: 5.2924e-04 - accuracy: 1.000 - ETA: 16s - loss: 5.2221e-04 - accuracy: 1.000 - ETA: 16s - loss: 5.1507e-04 - accuracy: 1.000 - ETA: 16s - loss: 6.2755e-04 - accuracy: 1.000 - ETA: 16s - loss: 6.1557e-04 - accuracy: 1.000 - ETA: 15s - loss: 6.0902e-04 - accuracy: 1.000 - ETA: 15s - loss: 6.0192e-04 - accuracy: 1.000 - ETA: 15s - loss: 6.2181e-04 - accuracy: 1.000 - ETA: 15s - loss: 6.0869e-04 - accuracy: 1.000 - ETA: 15s - loss: 5.9698e-04 - accuracy: 1.000 - ETA: 15s - loss: 5.8566e-04 - accuracy: 1.000 - ETA: 15s - loss: 6.3003e-04 - accuracy: 1.000 - ETA: 15s - loss: 6.1784e-04 - accuracy: 1.000 - ETA: 15s - loss: 6.0653e-04 - accuracy: 1.000 - ETA: 15s - loss: 5.9590e-04 - accuracy: 1.000 - ETA: 15s - loss: 5.8452e-04 - accuracy: 1.000 - ETA: 15s - loss: 5.8447e-04 - accuracy: 1.000 - ETA: 14s - loss: 7.9800e-04 - accuracy: 1.000 - ETA: 14s - loss: 7.9892e-04 - accuracy: 1.000 - ETA: 14s - loss: 7.8635e-04 - accuracy: 1.000 - ETA: 14s - loss: 7.9854e-04 - accuracy: 1.000 - ETA: 14s - loss: 8.0239e-04 - accuracy: 1.000 - ETA: 14s - loss: 8.0024e-04 - accuracy: 1.000 - ETA: 14s - loss: 7.9693e-04 - accuracy: 1.000 - ETA: 14s - loss: 7.9668e-04 - accuracy: 1.000 - ETA: 14s - loss: 8.7426e-04 - accuracy: 1.000 - ETA: 14s - loss: 8.9364e-04 - accuracy: 1.000 - ETA: 14s - loss: 9.0087e-04 - accuracy: 1.000 - ETA: 14s - loss: 8.8964e-04 - accuracy: 1.000 - ETA: 14s - loss: 9.1652e-04 - accuracy: 1.000 - ETA: 13s - loss: 9.0362e-04 - accuracy: 1.000 - ETA: 13s - loss: 8.9248e-04 - accuracy: 1.000 - ETA: 13s - loss: 8.8395e-04 - accuracy: 1.000 - ETA: 13s - loss: 8.7340e-04 - accuracy: 1.000 - ETA: 13s - loss: 8.6249e-04 - accuracy: 1.000 - ETA: 13s - loss: 8.5301e-04 - accuracy: 1.000 - ETA: 13s - loss: 8.4755e-04 - accuracy: 1.000 - ETA: 13s - loss: 8.3658e-04 - accuracy: 1.000 - ETA: 13s - loss: 8.2564e-04 - accuracy: 1.000 - ETA: 13s - loss: 8.2114e-04 - accuracy: 1.000 - ETA: 13s - loss: 8.1337e-04 - accuracy: 1.000 - ETA: 13s - loss: 8.0359e-04 - accuracy: 1.000 - ETA: 13s - loss: 7.9393e-04 - accuracy: 1.000 - ETA: 12s - loss: 7.8612e-04 - accuracy: 1.000 - ETA: 12s - loss: 7.8078e-04 - accuracy: 1.000 - ETA: 12s - loss: 7.7608e-04 - accuracy: 1.000 - ETA: 12s - loss: 7.7403e-04 - accuracy: 1.000 - ETA: 12s - loss: 7.6863e-04 - accuracy: 1.000 - ETA: 12s - loss: 7.5955e-04 - accuracy: 1.000 - ETA: 12s - loss: 7.5178e-04 - accuracy: 1.000 - ETA: 12s - loss: 7.5861e-04 - accuracy: 1.000 - ETA: 12s - loss: 7.5025e-04 - accuracy: 1.000 - ETA: 12s - loss: 7.4918e-04 - accuracy: 1.000 - ETA: 12s - loss: 7.4111e-04 - accuracy: 1.000 - ETA: 12s - loss: 7.3358e-04 - accuracy: 1.000 - ETA: 12s - loss: 7.2582e-04 - accuracy: 1.000 - ETA: 11s - loss: 7.1826e-04 - accuracy: 1.000 - ETA: 11s - loss: 7.1133e-04 - accuracy: 1.000 - ETA: 11s - loss: 7.0533e-04 - accuracy: 1.000 - ETA: 11s - loss: 7.0257e-04 - accuracy: 1.000 - ETA: 11s - loss: 6.9554e-04 - accuracy: 1.000 - ETA: 11s - loss: 6.8917e-04 - accuracy: 1.000 - ETA: 11s - loss: 6.8382e-04 - accuracy: 1.000 - ETA: 11s - loss: 6.8871e-04 - accuracy: 1.000 - ETA: 11s - loss: 7.1482e-04 - accuracy: 1.000 - ETA: 11s - loss: 7.1075e-04 - accuracy: 1.000 - ETA: 11s - loss: 7.1922e-04 - accuracy: 1.000 - ETA: 11s - loss: 7.1542e-04 - accuracy: 1.000 - ETA: 10s - loss: 7.0875e-04 - accuracy: 1.000 - ETA: 10s - loss: 7.1337e-04 - accuracy: 1.000 - ETA: 10s - loss: 7.0818e-04 - accuracy: 1.000 - ETA: 10s - loss: 7.0714e-04 - accuracy: 1.000 - ETA: 10s - loss: 7.0798e-04 - accuracy: 1.000 - ETA: 10s - loss: 7.0649e-04 - accuracy: 1.000 - ETA: 10s - loss: 7.3194e-04 - accuracy: 1.000 - ETA: 10s - loss: 7.3520e-04 - accuracy: 1.000 - ETA: 10s - loss: 7.2916e-04 - accuracy: 1.000 - ETA: 10s - loss: 7.3467e-04 - accuracy: 1.000 - ETA: 10s - loss: 7.3076e-04 - accuracy: 1.000 - ETA: 10s - loss: 7.2776e-04 - accuracy: 1.000 - ETA: 10s - loss: 7.2482e-04 - accuracy: 1.000 - ETA: 9s - loss: 7.2054e-04 - accuracy: 1.000 - ETA: 9s - loss: 7.2262e-04 - accuracy: 1.00 - ETA: 9s - loss: 7.1688e-04 - accuracy: 1.00 - ETA: 9s - loss: 7.1151e-04 - accuracy: 1.00 - ETA: 9s - loss: 7.0632e-04 - accuracy: 1.00 - ETA: 9s - loss: 7.0166e-04 - accuracy: 1.00 - ETA: 9s - loss: 6.9733e-04 - accuracy: 1.00 - ETA: 9s - loss: 6.9208e-04 - accuracy: 1.00 - ETA: 9s - loss: 6.8704e-04 - accuracy: 1.00 - ETA: 9s - loss: 6.8449e-04 - accuracy: 1.00 - ETA: 9s - loss: 6.7943e-04 - accuracy: 1.00 - ETA: 9s - loss: 6.7807e-04 - accuracy: 1.00 - ETA: 9s - loss: 6.7557e-04 - accuracy: 1.00 - ETA: 8s - loss: 7.0975e-04 - accuracy: 1.00 - ETA: 8s - loss: 7.1654e-04 - accuracy: 1.00 - ETA: 8s - loss: 7.3735e-04 - accuracy: 1.00 - ETA: 8s - loss: 7.3217e-04 - accuracy: 1.00 - ETA: 8s - loss: 7.3350e-04 - accuracy: 1.00 - ETA: 8s - loss: 7.2840e-04 - accuracy: 1.00 - ETA: 8s - loss: 7.2335e-04 - accuracy: 1.00 - ETA: 8s - loss: 7.4758e-04 - accuracy: 1.00 - ETA: 8s - loss: 7.4294e-04 - accuracy: 1.00 - ETA: 8s - loss: 7.4181e-04 - accuracy: 1.00 - ETA: 8s - loss: 7.3727e-04 - accuracy: 1.00 - ETA: 8s - loss: 7.3505e-04 - accuracy: 1.00 - ETA: 8s - loss: 7.3095e-04 - accuracy: 1.00 - ETA: 7s - loss: 7.2626e-04 - accuracy: 1.00 - ETA: 7s - loss: 7.2154e-04 - accuracy: 1.00 - ETA: 7s - loss: 7.1840e-04 - accuracy: 1.00 - ETA: 7s - loss: 7.1451e-04 - accuracy: 1.00 - ETA: 7s - loss: 7.1134e-04 - accuracy: 1.00 - ETA: 7s - loss: 7.0746e-04 - accuracy: 1.00 - ETA: 7s - loss: 7.0814e-04 - accuracy: 1.00 - ETA: 7s - loss: 7.0354e-04 - accuracy: 1.00 - ETA: 7s - loss: 6.9913e-04 - accuracy: 1.00 - ETA: 7s - loss: 6.9487e-04 - accuracy: 1.00 - ETA: 7s - loss: 6.9109e-04 - accuracy: 1.00 - ETA: 7s - loss: 6.8767e-04 - accuracy: 1.00 - ETA: 6s - loss: 6.8494e-04 - accuracy: 1.00 - ETA: 6s - loss: 6.8105e-04 - accuracy: 1.00 - ETA: 6s - loss: 6.7750e-04 - accuracy: 1.00 - ETA: 6s - loss: 6.7751e-04 - accuracy: 1.00 - ETA: 6s - loss: 6.7365e-04 - accuracy: 1.00 - ETA: 6s - loss: 6.6991e-04 - accuracy: 1.00 - ETA: 6s - loss: 6.6689e-04 - accuracy: 1.00 - ETA: 6s - loss: 6.6310e-04 - accuracy: 1.00 - ETA: 6s - loss: 6.5976e-04 - accuracy: 1.00 - ETA: 6s - loss: 6.6097e-04 - accuracy: 1.00 - ETA: 6s - loss: 6.5745e-04 - accuracy: 1.00 - ETA: 6s - loss: 6.5389e-04 - accuracy: 1.00 - ETA: 6s - loss: 6.5022e-04 - accuracy: 1.00 - ETA: 5s - loss: 6.4651e-04 - accuracy: 1.00 - ETA: 5s - loss: 6.4382e-04 - accuracy: 1.00 - ETA: 5s - loss: 6.4018e-04 - accuracy: 1.00 - ETA: 5s - loss: 6.3736e-04 - accuracy: 1.00 - ETA: 5s - loss: 6.3386e-04 - accuracy: 1.00 - ETA: 5s - loss: 6.3043e-04 - accuracy: 1.00 - ETA: 5s - loss: 6.2877e-04 - accuracy: 1.00 - ETA: 5s - loss: 6.2771e-04 - accuracy: 1.00007737/7737 [==============================] - ETA: 5s - loss: 6.2438e-04 - accuracy: 1.00 - ETA: 5s - loss: 6.2131e-04 - accuracy: 1.00 - ETA: 5s - loss: 6.2026e-04 - accuracy: 1.00 - ETA: 5s - loss: 6.1692e-04 - accuracy: 1.00 - ETA: 5s - loss: 6.1363e-04 - accuracy: 1.00 - ETA: 4s - loss: 6.1061e-04 - accuracy: 1.00 - ETA: 4s - loss: 6.0811e-04 - accuracy: 1.00 - ETA: 4s - loss: 6.5512e-04 - accuracy: 1.00 - ETA: 4s - loss: 6.5163e-04 - accuracy: 1.00 - ETA: 4s - loss: 6.4973e-04 - accuracy: 1.00 - ETA: 4s - loss: 6.5568e-04 - accuracy: 1.00 - ETA: 4s - loss: 6.5232e-04 - accuracy: 1.00 - ETA: 4s - loss: 6.5078e-04 - accuracy: 1.00 - ETA: 4s - loss: 6.5248e-04 - accuracy: 1.00 - ETA: 4s - loss: 6.4985e-04 - accuracy: 1.00 - ETA: 4s - loss: 6.4680e-04 - accuracy: 1.00 - ETA: 4s - loss: 6.4377e-04 - accuracy: 1.00 - ETA: 3s - loss: 6.5229e-04 - accuracy: 1.00 - ETA: 3s - loss: 6.7388e-04 - accuracy: 1.00 - ETA: 3s - loss: 6.7099e-04 - accuracy: 1.00 - ETA: 3s - loss: 6.6760e-04 - accuracy: 1.00 - ETA: 3s - loss: 6.6465e-04 - accuracy: 1.00 - ETA: 3s - loss: 6.7533e-04 - accuracy: 1.00 - ETA: 3s - loss: 6.7348e-04 - accuracy: 1.00 - ETA: 3s - loss: 6.7013e-04 - accuracy: 1.00 - ETA: 3s - loss: 6.6792e-04 - accuracy: 1.00 - ETA: 3s - loss: 6.6575e-04 - accuracy: 1.00 - ETA: 3s - loss: 6.6264e-04 - accuracy: 1.00 - ETA: 3s - loss: 6.5968e-04 - accuracy: 1.00 - ETA: 3s - loss: 6.5874e-04 - accuracy: 1.00 - ETA: 2s - loss: 6.5614e-04 - accuracy: 1.00 - ETA: 2s - loss: 6.5364e-04 - accuracy: 1.00 - ETA: 2s - loss: 6.5159e-04 - accuracy: 1.00 - ETA: 2s - loss: 6.4897e-04 - accuracy: 1.00 - ETA: 2s - loss: 6.4595e-04 - accuracy: 1.00 - ETA: 2s - loss: 6.4900e-04 - accuracy: 1.00 - ETA: 2s - loss: 6.4867e-04 - accuracy: 1.00 - ETA: 2s - loss: 6.4634e-04 - accuracy: 1.00 - ETA: 2s - loss: 6.4617e-04 - accuracy: 1.00 - ETA: 2s - loss: 6.4418e-04 - accuracy: 1.00 - ETA: 2s - loss: 6.4258e-04 - accuracy: 1.00 - ETA: 2s - loss: 6.4137e-04 - accuracy: 1.00 - ETA: 2s - loss: 6.3862e-04 - accuracy: 1.00 - ETA: 1s - loss: 6.3618e-04 - accuracy: 1.00 - ETA: 1s - loss: 6.3441e-04 - accuracy: 1.00 - ETA: 1s - loss: 6.3392e-04 - accuracy: 1.00 - ETA: 1s - loss: 6.3115e-04 - accuracy: 1.00 - ETA: 1s - loss: 6.2864e-04 - accuracy: 1.00 - ETA: 1s - loss: 6.2631e-04 - accuracy: 1.00 - ETA: 1s - loss: 6.2371e-04 - accuracy: 1.00 - ETA: 1s - loss: 6.2161e-04 - accuracy: 1.00 - ETA: 1s - loss: 6.1900e-04 - accuracy: 1.00 - ETA: 1s - loss: 6.1731e-04 - accuracy: 1.00 - ETA: 1s - loss: 6.1848e-04 - accuracy: 1.00 - ETA: 1s - loss: 6.1635e-04 - accuracy: 1.00 - ETA: 1s - loss: 6.1380e-04 - accuracy: 1.00 - ETA: 0s - loss: 6.1163e-04 - accuracy: 1.00 - ETA: 0s - loss: 6.0929e-04 - accuracy: 1.00 - ETA: 0s - loss: 6.0679e-04 - accuracy: 1.00 - ETA: 0s - loss: 6.0425e-04 - accuracy: 1.00 - ETA: 0s - loss: 6.0185e-04 - accuracy: 1.00 - ETA: 0s - loss: 5.9944e-04 - accuracy: 1.00 - ETA: 0s - loss: 5.9702e-04 - accuracy: 1.00 - ETA: 0s - loss: 6.6707e-04 - accuracy: 1.00 - ETA: 0s - loss: 6.6477e-04 - accuracy: 1.00 - ETA: 0s - loss: 6.6266e-04 - accuracy: 1.00 - ETA: 0s - loss: 6.6009e-04 - accuracy: 1.00 - ETA: 0s - loss: 6.5968e-04 - accuracy: 1.00 - 19s 2ms/sample - loss: 6.6455e-04 - accuracy: 1.0000\n",
      "Epoch 10/10\n"
     ]
    },
    {
     "name": "stdout",
     "output_type": "stream",
     "text": [
      "6048/7737 [======================>.......] - ETA: 18s - loss: 0.0039 - accuracy: 1.000 - ETA: 19s - loss: 0.0038 - accuracy: 1.000 - ETA: 19s - loss: 0.0033 - accuracy: 1.000 - ETA: 18s - loss: 0.0026 - accuracy: 1.000 - ETA: 18s - loss: 0.0026 - accuracy: 1.000 - ETA: 18s - loss: 0.0022 - accuracy: 1.000 - ETA: 18s - loss: 0.0019 - accuracy: 1.000 - ETA: 18s - loss: 0.0017 - accuracy: 1.000 - ETA: 17s - loss: 0.0015 - accuracy: 1.000 - ETA: 17s - loss: 0.0014 - accuracy: 1.000 - ETA: 17s - loss: 0.0013 - accuracy: 1.000 - ETA: 17s - loss: 0.0012 - accuracy: 1.000 - ETA: 17s - loss: 0.0011 - accuracy: 1.000 - ETA: 17s - loss: 0.0011 - accuracy: 1.000 - ETA: 17s - loss: 0.0010 - accuracy: 1.000 - ETA: 17s - loss: 9.4544e-04 - accuracy: 1.000 - ETA: 17s - loss: 8.9599e-04 - accuracy: 1.000 - ETA: 17s - loss: 8.5064e-04 - accuracy: 1.000 - ETA: 17s - loss: 8.1390e-04 - accuracy: 1.000 - ETA: 17s - loss: 0.0016 - accuracy: 1.0000    - ETA: 17s - loss: 0.0015 - accuracy: 1.000 - ETA: 17s - loss: 0.0015 - accuracy: 1.000 - ETA: 17s - loss: 0.0014 - accuracy: 1.000 - ETA: 16s - loss: 0.0014 - accuracy: 1.000 - ETA: 16s - loss: 0.0013 - accuracy: 1.000 - ETA: 16s - loss: 0.0013 - accuracy: 1.000 - ETA: 16s - loss: 0.0012 - accuracy: 1.000 - ETA: 16s - loss: 0.0012 - accuracy: 1.000 - ETA: 16s - loss: 0.0012 - accuracy: 1.000 - ETA: 16s - loss: 0.0014 - accuracy: 1.000 - ETA: 16s - loss: 0.0041 - accuracy: 0.998 - ETA: 16s - loss: 0.0040 - accuracy: 0.998 - ETA: 16s - loss: 0.0053 - accuracy: 0.997 - ETA: 16s - loss: 0.0052 - accuracy: 0.997 - ETA: 16s - loss: 0.0067 - accuracy: 0.996 - ETA: 15s - loss: 0.0065 - accuracy: 0.996 - ETA: 15s - loss: 0.0063 - accuracy: 0.996 - ETA: 15s - loss: 0.0062 - accuracy: 0.996 - ETA: 15s - loss: 0.0062 - accuracy: 0.996 - ETA: 15s - loss: 0.0061 - accuracy: 0.996 - ETA: 15s - loss: 0.0062 - accuracy: 0.997 - ETA: 15s - loss: 0.0076 - accuracy: 0.995 - ETA: 15s - loss: 0.0074 - accuracy: 0.995 - ETA: 15s - loss: 0.0073 - accuracy: 0.995 - ETA: 15s - loss: 0.0080 - accuracy: 0.995 - ETA: 15s - loss: 0.0079 - accuracy: 0.995 - ETA: 15s - loss: 0.0077 - accuracy: 0.995 - ETA: 15s - loss: 0.0078 - accuracy: 0.995 - ETA: 15s - loss: 0.0077 - accuracy: 0.995 - ETA: 14s - loss: 0.0076 - accuracy: 0.995 - ETA: 14s - loss: 0.0075 - accuracy: 0.995 - ETA: 14s - loss: 0.0074 - accuracy: 0.995 - ETA: 14s - loss: 0.0073 - accuracy: 0.995 - ETA: 14s - loss: 0.0072 - accuracy: 0.995 - ETA: 14s - loss: 0.0070 - accuracy: 0.996 - ETA: 14s - loss: 0.0069 - accuracy: 0.996 - ETA: 14s - loss: 0.0068 - accuracy: 0.996 - ETA: 14s - loss: 0.0067 - accuracy: 0.996 - ETA: 14s - loss: 0.0066 - accuracy: 0.996 - ETA: 14s - loss: 0.0065 - accuracy: 0.996 - ETA: 14s - loss: 0.0064 - accuracy: 0.996 - ETA: 13s - loss: 0.0063 - accuracy: 0.996 - ETA: 13s - loss: 0.0063 - accuracy: 0.996 - ETA: 13s - loss: 0.0062 - accuracy: 0.996 - ETA: 13s - loss: 0.0061 - accuracy: 0.996 - ETA: 13s - loss: 0.0060 - accuracy: 0.996 - ETA: 13s - loss: 0.0060 - accuracy: 0.996 - ETA: 13s - loss: 0.0059 - accuracy: 0.996 - ETA: 13s - loss: 0.0058 - accuracy: 0.996 - ETA: 13s - loss: 0.0057 - accuracy: 0.996 - ETA: 13s - loss: 0.0056 - accuracy: 0.996 - ETA: 13s - loss: 0.0056 - accuracy: 0.997 - ETA: 13s - loss: 0.0055 - accuracy: 0.997 - ETA: 13s - loss: 0.0054 - accuracy: 0.997 - ETA: 12s - loss: 0.0053 - accuracy: 0.997 - ETA: 12s - loss: 0.0053 - accuracy: 0.997 - ETA: 12s - loss: 0.0052 - accuracy: 0.997 - ETA: 12s - loss: 0.0051 - accuracy: 0.997 - ETA: 12s - loss: 0.0051 - accuracy: 0.997 - ETA: 12s - loss: 0.0050 - accuracy: 0.997 - ETA: 12s - loss: 0.0050 - accuracy: 0.997 - ETA: 12s - loss: 0.0049 - accuracy: 0.997 - ETA: 12s - loss: 0.0049 - accuracy: 0.997 - ETA: 12s - loss: 0.0048 - accuracy: 0.997 - ETA: 12s - loss: 0.0047 - accuracy: 0.997 - ETA: 12s - loss: 0.0047 - accuracy: 0.997 - ETA: 12s - loss: 0.0046 - accuracy: 0.997 - ETA: 11s - loss: 0.0046 - accuracy: 0.997 - ETA: 11s - loss: 0.0045 - accuracy: 0.997 - ETA: 11s - loss: 0.0045 - accuracy: 0.997 - ETA: 11s - loss: 0.0044 - accuracy: 0.997 - ETA: 11s - loss: 0.0044 - accuracy: 0.997 - ETA: 11s - loss: 0.0044 - accuracy: 0.997 - ETA: 11s - loss: 0.0043 - accuracy: 0.997 - ETA: 11s - loss: 0.0043 - accuracy: 0.997 - ETA: 11s - loss: 0.0042 - accuracy: 0.997 - ETA: 11s - loss: 0.0042 - accuracy: 0.997 - ETA: 11s - loss: 0.0041 - accuracy: 0.997 - ETA: 11s - loss: 0.0041 - accuracy: 0.997 - ETA: 11s - loss: 0.0041 - accuracy: 0.997 - ETA: 10s - loss: 0.0040 - accuracy: 0.997 - ETA: 10s - loss: 0.0040 - accuracy: 0.997 - ETA: 10s - loss: 0.0040 - accuracy: 0.997 - ETA: 10s - loss: 0.0039 - accuracy: 0.997 - ETA: 10s - loss: 0.0039 - accuracy: 0.997 - ETA: 10s - loss: 0.0038 - accuracy: 0.997 - ETA: 10s - loss: 0.0038 - accuracy: 0.998 - ETA: 10s - loss: 0.0038 - accuracy: 0.998 - ETA: 10s - loss: 0.0037 - accuracy: 0.998 - ETA: 10s - loss: 0.0037 - accuracy: 0.998 - ETA: 10s - loss: 0.0037 - accuracy: 0.998 - ETA: 10s - loss: 0.0036 - accuracy: 0.998 - ETA: 10s - loss: 0.0036 - accuracy: 0.998 - ETA: 9s - loss: 0.0036 - accuracy: 0.998 - ETA: 9s - loss: 0.0036 - accuracy: 0.99 - ETA: 9s - loss: 0.0035 - accuracy: 0.99 - ETA: 9s - loss: 0.0035 - accuracy: 0.99 - ETA: 9s - loss: 0.0035 - accuracy: 0.99 - ETA: 9s - loss: 0.0034 - accuracy: 0.99 - ETA: 9s - loss: 0.0034 - accuracy: 0.99 - ETA: 9s - loss: 0.0034 - accuracy: 0.99 - ETA: 9s - loss: 0.0034 - accuracy: 0.99 - ETA: 9s - loss: 0.0033 - accuracy: 0.99 - ETA: 9s - loss: 0.0033 - accuracy: 0.99 - ETA: 9s - loss: 0.0033 - accuracy: 0.99 - ETA: 9s - loss: 0.0033 - accuracy: 0.99 - ETA: 8s - loss: 0.0032 - accuracy: 0.99 - ETA: 8s - loss: 0.0032 - accuracy: 0.99 - ETA: 8s - loss: 0.0032 - accuracy: 0.99 - ETA: 8s - loss: 0.0032 - accuracy: 0.99 - ETA: 8s - loss: 0.0031 - accuracy: 0.99 - ETA: 8s - loss: 0.0031 - accuracy: 0.99 - ETA: 8s - loss: 0.0031 - accuracy: 0.99 - ETA: 8s - loss: 0.0031 - accuracy: 0.99 - ETA: 8s - loss: 0.0031 - accuracy: 0.99 - ETA: 8s - loss: 0.0030 - accuracy: 0.99 - ETA: 8s - loss: 0.0030 - accuracy: 0.99 - ETA: 8s - loss: 0.0030 - accuracy: 0.99 - ETA: 8s - loss: 0.0030 - accuracy: 0.99 - ETA: 7s - loss: 0.0030 - accuracy: 0.99 - ETA: 7s - loss: 0.0029 - accuracy: 0.99 - ETA: 7s - loss: 0.0029 - accuracy: 0.99 - ETA: 7s - loss: 0.0029 - accuracy: 0.99 - ETA: 7s - loss: 0.0029 - accuracy: 0.99 - ETA: 7s - loss: 0.0029 - accuracy: 0.99 - ETA: 7s - loss: 0.0029 - accuracy: 0.99 - ETA: 7s - loss: 0.0029 - accuracy: 0.99 - ETA: 7s - loss: 0.0028 - accuracy: 0.99 - ETA: 7s - loss: 0.0028 - accuracy: 0.99 - ETA: 7s - loss: 0.0028 - accuracy: 0.99 - ETA: 7s - loss: 0.0028 - accuracy: 0.99 - ETA: 7s - loss: 0.0028 - accuracy: 0.99 - ETA: 6s - loss: 0.0027 - accuracy: 0.99 - ETA: 6s - loss: 0.0027 - accuracy: 0.99 - ETA: 6s - loss: 0.0027 - accuracy: 0.99 - ETA: 6s - loss: 0.0027 - accuracy: 0.99 - ETA: 6s - loss: 0.0027 - accuracy: 0.99 - ETA: 6s - loss: 0.0027 - accuracy: 0.99 - ETA: 6s - loss: 0.0026 - accuracy: 0.99 - ETA: 6s - loss: 0.0026 - accuracy: 0.99 - ETA: 6s - loss: 0.0026 - accuracy: 0.99 - ETA: 6s - loss: 0.0026 - accuracy: 0.99 - ETA: 6s - loss: 0.0026 - accuracy: 0.99 - ETA: 6s - loss: 0.0026 - accuracy: 0.99 - ETA: 6s - loss: 0.0025 - accuracy: 0.99 - ETA: 5s - loss: 0.0025 - accuracy: 0.99 - ETA: 5s - loss: 0.0025 - accuracy: 0.99 - ETA: 5s - loss: 0.0025 - accuracy: 0.99 - ETA: 5s - loss: 0.0025 - accuracy: 0.99 - ETA: 5s - loss: 0.0025 - accuracy: 0.99 - ETA: 5s - loss: 0.0025 - accuracy: 0.99 - ETA: 5s - loss: 0.0025 - accuracy: 0.99 - ETA: 5s - loss: 0.0024 - accuracy: 0.99 - ETA: 5s - loss: 0.0024 - accuracy: 0.99 - ETA: 5s - loss: 0.0024 - accuracy: 0.99 - ETA: 5s - loss: 0.0024 - accuracy: 0.99 - ETA: 5s - loss: 0.0024 - accuracy: 0.99 - ETA: 4s - loss: 0.0024 - accuracy: 0.99 - ETA: 4s - loss: 0.0024 - accuracy: 0.99 - ETA: 4s - loss: 0.0023 - accuracy: 0.99 - ETA: 4s - loss: 0.0023 - accuracy: 0.99 - ETA: 4s - loss: 0.0023 - accuracy: 0.99 - ETA: 4s - loss: 0.0023 - accuracy: 0.99 - ETA: 4s - loss: 0.0023 - accuracy: 0.99 - ETA: 4s - loss: 0.0023 - accuracy: 0.99 - ETA: 4s - loss: 0.0023 - accuracy: 0.99 - ETA: 4s - loss: 0.0023 - accuracy: 0.99 - ETA: 4s - loss: 0.0023 - accuracy: 0.99 - ETA: 4s - loss: 0.0022 - accuracy: 0.9988"
     ]
    },
    {
     "name": "stdout",
     "output_type": "stream",
     "text": [
      "7737/7737 [==============================] - ETA: 4s - loss: 0.0022 - accuracy: 0.99 - ETA: 3s - loss: 0.0022 - accuracy: 0.99 - ETA: 3s - loss: 0.0022 - accuracy: 0.99 - ETA: 3s - loss: 0.0022 - accuracy: 0.99 - ETA: 3s - loss: 0.0022 - accuracy: 0.99 - ETA: 3s - loss: 0.0022 - accuracy: 0.99 - ETA: 3s - loss: 0.0022 - accuracy: 0.99 - ETA: 3s - loss: 0.0022 - accuracy: 0.99 - ETA: 3s - loss: 0.0021 - accuracy: 0.99 - ETA: 3s - loss: 0.0021 - accuracy: 0.99 - ETA: 3s - loss: 0.0021 - accuracy: 0.99 - ETA: 3s - loss: 0.0021 - accuracy: 0.99 - ETA: 3s - loss: 0.0021 - accuracy: 0.99 - ETA: 3s - loss: 0.0021 - accuracy: 0.99 - ETA: 2s - loss: 0.0021 - accuracy: 0.99 - ETA: 2s - loss: 0.0021 - accuracy: 0.99 - ETA: 2s - loss: 0.0021 - accuracy: 0.99 - ETA: 2s - loss: 0.0021 - accuracy: 0.99 - ETA: 2s - loss: 0.0021 - accuracy: 0.99 - ETA: 2s - loss: 0.0021 - accuracy: 0.99 - ETA: 2s - loss: 0.0020 - accuracy: 0.99 - ETA: 2s - loss: 0.0020 - accuracy: 0.99 - ETA: 2s - loss: 0.0020 - accuracy: 0.99 - ETA: 2s - loss: 0.0020 - accuracy: 0.99 - ETA: 2s - loss: 0.0021 - accuracy: 0.99 - ETA: 2s - loss: 0.0021 - accuracy: 0.99 - ETA: 2s - loss: 0.0021 - accuracy: 0.99 - ETA: 1s - loss: 0.0021 - accuracy: 0.99 - ETA: 1s - loss: 0.0021 - accuracy: 0.99 - ETA: 1s - loss: 0.0021 - accuracy: 0.99 - ETA: 1s - loss: 0.0021 - accuracy: 0.99 - ETA: 1s - loss: 0.0021 - accuracy: 0.99 - ETA: 1s - loss: 0.0022 - accuracy: 0.99 - ETA: 1s - loss: 0.0022 - accuracy: 0.99 - ETA: 1s - loss: 0.0022 - accuracy: 0.99 - ETA: 1s - loss: 0.0022 - accuracy: 0.99 - ETA: 1s - loss: 0.0022 - accuracy: 0.99 - ETA: 1s - loss: 0.0022 - accuracy: 0.99 - ETA: 1s - loss: 0.0022 - accuracy: 0.99 - ETA: 0s - loss: 0.0022 - accuracy: 0.99 - ETA: 0s - loss: 0.0022 - accuracy: 0.99 - ETA: 0s - loss: 0.0022 - accuracy: 0.99 - ETA: 0s - loss: 0.0022 - accuracy: 0.99 - ETA: 0s - loss: 0.0022 - accuracy: 0.99 - ETA: 0s - loss: 0.0021 - accuracy: 0.99 - ETA: 0s - loss: 0.0022 - accuracy: 0.99 - ETA: 0s - loss: 0.0022 - accuracy: 0.99 - ETA: 0s - loss: 0.0022 - accuracy: 0.99 - ETA: 0s - loss: 0.0022 - accuracy: 0.99 - ETA: 0s - loss: 0.0021 - accuracy: 0.99 - ETA: 0s - loss: 0.0021 - accuracy: 0.99 - ETA: 0s - loss: 0.0021 - accuracy: 0.99 - 19s 2ms/sample - loss: 0.0021 - accuracy: 0.9988\n"
     ]
    }
   ],
   "source": [
    "history = model.fit(x_train, y_train, epochs=10)"
   ]
  },
  {
   "cell_type": "code",
   "execution_count": 74,
   "metadata": {},
   "outputs": [
    {
     "data": {
      "image/png": "[encoded data removed]",
      "text/plain": [
       "<Figure size 1152x288 with 2 Axes>"
      ]
     },
     "metadata": {
      "needs_background": "light"
     },
     "output_type": "display_data"
    }
   ],
   "source": [
    "acy = history.history['accuracy']\n",
    "loss = history.history['loss']\n",
    "fig, axes = plt.subplots(ncols=2, figsize=(16, 4))\n",
    "axes[0].plot(acy, c='r')\n",
    "axes[1].plot(loss, c='c')\n",
    "plt.show()"
   ]
  },
  {
   "cell_type": "markdown",
   "metadata": {},
   "source": [
    "#### 测试集进行测试"
   ]
  },
  {
   "cell_type": "code",
   "execution_count": 119,
   "metadata": {},
   "outputs": [],
   "source": [
    "result10 = model.predict(x_test)"
   ]
  },
  {
   "cell_type": "code",
   "execution_count": 120,
   "metadata": {
    "scrolled": true
   },
   "outputs": [
    {
     "data": {
      "text/plain": [
       "array([[0.],\n",
       "       [2.],\n",
       "       [2.],\n",
       "       ...,\n",
       "       [2.],\n",
       "       [1.],\n",
       "       [1.]])"
      ]
     },
     "execution_count": 120,
     "metadata": {},
     "output_type": "execute_result"
    }
   ],
   "source": [
    "array10 = np.zeros((len(result10), 1))\n",
    "for i in range(len(result10)):\n",
    "    array10[i] = np.argmax(result10[i])\n",
    "array10"
   ]
  },
  {
   "cell_type": "code",
   "execution_count": 121,
   "metadata": {},
   "outputs": [
    {
     "name": "stdout",
     "output_type": "stream",
     "text": [
      "2382\n"
     ]
    },
    {
     "data": {
      "text/plain": [
       "3316"
      ]
     },
     "execution_count": 121,
     "metadata": {},
     "output_type": "execute_result"
    }
   ],
   "source": [
    "num10 = 0\n",
    "for i in range(len(array10)):\n",
    "    if array10[i, 0] == y_test[i]:\n",
    "        num10 += 1\n",
    "    else:\n",
    "        print(i)\n",
    "num10"
   ]
  },
  {
   "cell_type": "code",
   "execution_count": 122,
   "metadata": {},
   "outputs": [
    {
     "data": {
      "text/plain": [
       "0.9996985227615315"
      ]
     },
     "execution_count": 122,
     "metadata": {},
     "output_type": "execute_result"
    }
   ],
   "source": [
    "num10/y_test.shape[0]"
   ]
  },
  {
   "cell_type": "code",
   "execution_count": 115,
   "metadata": {},
   "outputs": [],
   "source": [
    "p_error = x_test[2382, :, :, 0]"
   ]
  },
  {
   "cell_type": "code",
   "execution_count": 116,
   "metadata": {},
   "outputs": [],
   "source": [
    "p_error = p_error.reshape(1, 2500)"
   ]
  },
  {
   "cell_type": "code",
   "execution_count": 117,
   "metadata": {},
   "outputs": [
    {
     "data": {
      "text/plain": [
       "array([[0.31152205, 0.31152205, 0.16358464, ..., 0.03129445, 0.16358464,\n",
       "        0.16358464]])"
      ]
     },
     "execution_count": 117,
     "metadata": {},
     "output_type": "execute_result"
    }
   ],
   "source": [
    "p_error"
   ]
  },
  {
   "cell_type": "code",
   "execution_count": 118,
   "metadata": {},
   "outputs": [
    {
     "data": {
      "image/png": "[encoded data removed]",
      "text/plain": [
       "<Figure size 432x288 with 1 Axes>"
      ]
     },
     "metadata": {
      "needs_background": "light"
     },
     "output_type": "display_data"
    }
   ],
   "source": [
    "plt.scatter(range(2500), p_error, c='c', s=0.2)\n",
    "plt.show()"
   ]
  },
  {
   "cell_type": "code",
   "execution_count": 126,
   "metadata": {},
   "outputs": [
    {
     "data": {
      "text/plain": [
       "(array([1.4005810e-09, 8.0186951e-01, 1.9813016e-01, 3.2746482e-07],\n",
       "       dtype=float32), array([1.]), 2.0)"
      ]
     },
     "execution_count": 126,
     "metadata": {},
     "output_type": "execute_result"
    }
   ],
   "source": [
    "result10[2382], array10[2382], y_test[2382]"
   ]
  },
  {
   "cell_type": "markdown",
   "metadata": {},
   "source": [
    "### 10  10Cm 模型预测30cm的数据"
   ]
  },
  {
   "cell_type": "code",
   "execution_count": 132,
   "metadata": {},
   "outputs": [],
   "source": [
    "re = model30.predict(x_test)"
   ]
  },
  {
   "cell_type": "code",
   "execution_count": 133,
   "metadata": {
    "collapsed": true
   },
   "outputs": [
    {
     "name": "stdout",
     "output_type": "stream",
     "text": [
      "1\n",
      "2\n",
      "3\n",
      "4\n",
      "5\n",
      "6\n",
      "7\n",
      "8\n",
      "10\n",
      "11\n",
      "12\n",
      "13\n",
      "14\n",
      "15\n",
      "16\n",
      "18\n",
      "19\n",
      "20\n",
      "21\n",
      "23\n",
      "24\n",
      "25\n",
      "26\n",
      "27\n",
      "28\n",
      "29\n",
      "30\n",
      "31\n",
      "32\n",
      "34\n",
      "35\n",
      "37\n",
      "39\n",
      "40\n",
      "41\n",
      "43\n",
      "45\n",
      "46\n",
      "47\n",
      "49\n",
      "50\n",
      "51\n",
      "52\n",
      "53\n",
      "55\n",
      "57\n",
      "58\n",
      "59\n",
      "60\n",
      "63\n",
      "64\n",
      "65\n",
      "67\n",
      "69\n",
      "71\n",
      "73\n",
      "75\n",
      "78\n",
      "79\n",
      "80\n",
      "81\n",
      "82\n",
      "83\n",
      "85\n",
      "86\n",
      "87\n",
      "88\n",
      "89\n",
      "91\n",
      "92\n",
      "93\n",
      "94\n",
      "95\n",
      "96\n",
      "97\n",
      "98\n",
      "100\n",
      "101\n",
      "102\n",
      "104\n",
      "106\n",
      "108\n",
      "109\n",
      "111\n",
      "112\n",
      "113\n",
      "114\n",
      "118\n",
      "121\n",
      "122\n",
      "124\n",
      "125\n",
      "127\n",
      "128\n",
      "129\n",
      "132\n",
      "133\n",
      "134\n",
      "137\n",
      "138\n",
      "140\n",
      "141\n",
      "142\n",
      "143\n",
      "144\n",
      "145\n",
      "147\n",
      "148\n",
      "149\n",
      "151\n",
      "152\n",
      "153\n",
      "154\n",
      "155\n",
      "156\n",
      "157\n",
      "158\n",
      "159\n",
      "160\n",
      "161\n",
      "162\n",
      "163\n",
      "164\n",
      "165\n",
      "166\n",
      "167\n",
      "168\n",
      "169\n",
      "170\n",
      "171\n",
      "172\n",
      "173\n",
      "174\n",
      "177\n",
      "178\n",
      "179\n",
      "181\n",
      "182\n",
      "184\n",
      "185\n",
      "186\n",
      "187\n",
      "189\n",
      "190\n",
      "191\n",
      "192\n",
      "193\n",
      "194\n",
      "195\n",
      "196\n",
      "198\n",
      "199\n",
      "200\n",
      "201\n",
      "203\n",
      "204\n",
      "206\n",
      "207\n",
      "208\n",
      "209\n",
      "210\n",
      "211\n",
      "212\n",
      "213\n",
      "214\n",
      "215\n",
      "216\n",
      "217\n",
      "218\n",
      "220\n",
      "221\n",
      "222\n",
      "223\n",
      "224\n",
      "225\n",
      "227\n",
      "228\n",
      "229\n",
      "230\n",
      "231\n",
      "232\n",
      "234\n",
      "235\n",
      "237\n",
      "238\n",
      "240\n",
      "241\n",
      "242\n",
      "243\n",
      "244\n",
      "246\n",
      "247\n",
      "248\n",
      "249\n",
      "250\n",
      "251\n",
      "252\n",
      "253\n",
      "254\n",
      "256\n",
      "257\n",
      "259\n",
      "260\n",
      "261\n",
      "262\n",
      "263\n",
      "264\n",
      "266\n",
      "267\n",
      "268\n",
      "270\n",
      "271\n",
      "272\n",
      "273\n",
      "274\n",
      "275\n",
      "277\n",
      "278\n",
      "280\n",
      "281\n",
      "282\n",
      "283\n",
      "284\n",
      "285\n",
      "286\n",
      "287\n",
      "288\n",
      "290\n",
      "291\n",
      "292\n",
      "293\n",
      "294\n",
      "295\n",
      "296\n",
      "297\n",
      "298\n",
      "299\n",
      "300\n",
      "301\n",
      "302\n",
      "303\n",
      "304\n",
      "305\n",
      "306\n",
      "307\n",
      "308\n",
      "309\n",
      "310\n",
      "312\n",
      "313\n",
      "315\n",
      "317\n",
      "318\n",
      "319\n",
      "321\n",
      "322\n",
      "323\n",
      "324\n",
      "325\n",
      "326\n",
      "327\n",
      "328\n",
      "329\n",
      "331\n",
      "332\n",
      "333\n",
      "334\n",
      "336\n",
      "337\n",
      "338\n",
      "340\n",
      "341\n",
      "342\n",
      "343\n",
      "344\n",
      "345\n",
      "346\n",
      "347\n",
      "348\n",
      "349\n",
      "350\n",
      "351\n",
      "352\n",
      "353\n",
      "354\n",
      "355\n",
      "356\n",
      "358\n",
      "359\n",
      "360\n",
      "361\n",
      "362\n",
      "367\n",
      "368\n",
      "369\n",
      "370\n",
      "371\n",
      "372\n",
      "373\n",
      "374\n",
      "375\n",
      "376\n",
      "377\n",
      "378\n",
      "379\n",
      "381\n",
      "382\n",
      "383\n",
      "385\n",
      "386\n",
      "388\n",
      "392\n",
      "394\n",
      "395\n",
      "396\n",
      "397\n",
      "399\n",
      "400\n",
      "401\n",
      "402\n",
      "403\n",
      "404\n",
      "406\n",
      "407\n",
      "408\n",
      "409\n",
      "410\n",
      "411\n",
      "413\n",
      "414\n",
      "415\n",
      "416\n",
      "417\n",
      "418\n",
      "420\n",
      "421\n",
      "422\n",
      "423\n",
      "424\n",
      "425\n",
      "426\n",
      "427\n",
      "428\n",
      "429\n",
      "431\n",
      "432\n",
      "436\n",
      "437\n",
      "439\n",
      "440\n",
      "441\n",
      "442\n",
      "443\n",
      "444\n",
      "445\n",
      "446\n",
      "447\n",
      "448\n",
      "449\n",
      "450\n",
      "451\n",
      "453\n",
      "454\n",
      "455\n",
      "456\n",
      "457\n",
      "458\n",
      "459\n",
      "460\n",
      "464\n",
      "465\n",
      "467\n",
      "470\n",
      "471\n",
      "472\n",
      "473\n",
      "474\n",
      "475\n",
      "476\n",
      "477\n",
      "478\n",
      "479\n",
      "480\n",
      "482\n",
      "483\n",
      "484\n",
      "485\n",
      "486\n",
      "487\n",
      "488\n",
      "489\n",
      "491\n",
      "494\n",
      "497\n",
      "498\n",
      "499\n",
      "500\n",
      "501\n",
      "502\n",
      "504\n",
      "505\n",
      "506\n",
      "507\n",
      "508\n",
      "509\n",
      "510\n",
      "511\n",
      "512\n",
      "514\n",
      "518\n",
      "520\n",
      "521\n",
      "522\n",
      "523\n",
      "524\n",
      "525\n",
      "526\n",
      "527\n",
      "531\n",
      "533\n",
      "534\n",
      "535\n",
      "536\n",
      "538\n",
      "539\n",
      "540\n",
      "541\n",
      "542\n",
      "543\n",
      "544\n",
      "545\n",
      "546\n",
      "547\n",
      "548\n",
      "549\n",
      "550\n",
      "552\n",
      "553\n",
      "554\n",
      "555\n",
      "556\n",
      "557\n",
      "558\n",
      "559\n",
      "564\n",
      "565\n",
      "566\n",
      "568\n",
      "569\n",
      "570\n",
      "571\n",
      "572\n",
      "573\n",
      "574\n",
      "575\n",
      "576\n",
      "577\n",
      "578\n",
      "579\n",
      "580\n",
      "581\n",
      "582\n",
      "583\n",
      "584\n",
      "586\n",
      "587\n",
      "588\n",
      "589\n",
      "591\n",
      "592\n",
      "593\n",
      "595\n",
      "596\n",
      "597\n",
      "599\n",
      "600\n",
      "602\n",
      "603\n",
      "605\n",
      "607\n",
      "608\n",
      "609\n",
      "610\n",
      "611\n",
      "613\n",
      "614\n",
      "615\n",
      "616\n",
      "617\n",
      "618\n",
      "619\n",
      "620\n",
      "622\n",
      "623\n",
      "624\n",
      "625\n",
      "626\n",
      "627\n",
      "628\n",
      "629\n",
      "630\n",
      "631\n",
      "634\n",
      "635\n",
      "636\n",
      "637\n",
      "638\n",
      "639\n",
      "642\n",
      "644\n",
      "645\n",
      "646\n",
      "647\n",
      "648\n",
      "649\n",
      "651\n",
      "652\n",
      "653\n",
      "654\n",
      "655\n",
      "657\n",
      "658\n",
      "659\n",
      "660\n",
      "662\n",
      "663\n",
      "664\n",
      "665\n",
      "666\n",
      "667\n",
      "669\n",
      "671\n",
      "673\n",
      "675\n",
      "676\n",
      "677\n",
      "678\n",
      "679\n",
      "680\n",
      "681\n",
      "682\n",
      "683\n",
      "684\n",
      "685\n",
      "686\n",
      "687\n",
      "688\n",
      "689\n",
      "690\n",
      "691\n",
      "692\n",
      "693\n",
      "694\n",
      "695\n",
      "697\n",
      "698\n",
      "700\n",
      "701\n",
      "702\n",
      "703\n",
      "704\n",
      "705\n",
      "706\n",
      "707\n",
      "708\n",
      "710\n",
      "712\n",
      "714\n",
      "716\n",
      "717\n",
      "718\n",
      "719\n",
      "720\n",
      "721\n",
      "722\n",
      "724\n",
      "725\n",
      "727\n",
      "728\n",
      "730\n",
      "731\n",
      "732\n",
      "733\n",
      "734\n",
      "735\n",
      "736\n",
      "738\n",
      "739\n",
      "740\n",
      "741\n",
      "743\n",
      "746\n",
      "747\n",
      "748\n",
      "750\n",
      "752\n",
      "753\n",
      "754\n",
      "755\n",
      "756\n",
      "757\n",
      "758\n",
      "759\n",
      "760\n",
      "761\n",
      "763\n",
      "764\n",
      "766\n",
      "767\n",
      "769\n",
      "771\n",
      "772\n",
      "773\n",
      "775\n",
      "776\n",
      "777\n",
      "778\n",
      "779\n",
      "780\n",
      "781\n",
      "782\n",
      "783\n",
      "784\n",
      "785\n",
      "786\n",
      "787\n",
      "788\n",
      "789\n",
      "790\n",
      "791\n",
      "792\n",
      "794\n",
      "795\n",
      "796\n",
      "797\n",
      "799\n",
      "800\n",
      "801\n",
      "802\n",
      "805\n",
      "807\n",
      "808\n",
      "810\n",
      "812\n",
      "813\n",
      "814\n",
      "816\n",
      "817\n",
      "818\n",
      "820\n",
      "821\n",
      "822\n",
      "823\n",
      "824\n",
      "825\n",
      "828\n",
      "829\n",
      "830\n",
      "832\n",
      "833\n",
      "835\n",
      "837\n",
      "838\n",
      "839\n",
      "841\n",
      "842\n",
      "843\n",
      "845\n",
      "846\n",
      "847\n",
      "849\n",
      "851\n",
      "852\n",
      "853\n",
      "854\n",
      "855\n",
      "856\n",
      "857\n",
      "858\n",
      "859\n",
      "861\n",
      "862\n",
      "864\n",
      "866\n",
      "868\n",
      "870\n",
      "872\n",
      "873\n",
      "874\n",
      "875\n",
      "876\n",
      "877\n",
      "878\n",
      "880\n",
      "881\n",
      "882\n",
      "883\n",
      "884\n",
      "885\n",
      "886\n",
      "888\n",
      "889\n",
      "890\n",
      "891\n",
      "892\n",
      "893\n",
      "894\n",
      "895\n",
      "897\n",
      "898\n",
      "899\n",
      "900\n",
      "901\n",
      "902\n",
      "903\n",
      "904\n",
      "905\n",
      "906\n",
      "907\n",
      "908\n",
      "909\n",
      "911\n",
      "912\n",
      "913\n",
      "914\n",
      "916\n",
      "919\n",
      "921\n",
      "923\n",
      "925\n",
      "926\n",
      "927\n",
      "929\n",
      "930\n",
      "931\n",
      "932\n",
      "935\n",
      "936\n",
      "937\n",
      "938\n",
      "939\n",
      "940\n",
      "941\n",
      "942\n",
      "943\n",
      "944\n",
      "947\n",
      "948\n",
      "949\n",
      "950\n",
      "951\n",
      "952\n",
      "953\n",
      "954\n",
      "955\n",
      "956\n",
      "957\n",
      "958\n",
      "959\n",
      "960\n",
      "961\n",
      "962\n",
      "963\n",
      "964\n",
      "965\n",
      "968\n",
      "969\n",
      "970\n",
      "971\n",
      "972\n",
      "973\n",
      "974\n",
      "975\n",
      "977\n",
      "978\n",
      "981\n",
      "982\n",
      "983\n",
      "984\n",
      "986\n",
      "987\n",
      "988\n",
      "990\n",
      "993\n",
      "994\n",
      "995\n",
      "996\n",
      "997\n",
      "998\n",
      "1000\n",
      "1001\n",
      "1002\n",
      "1003\n",
      "1004\n",
      "1006\n",
      "1007\n",
      "1008\n",
      "1009\n",
      "1010\n",
      "1011\n",
      "1012\n",
      "1013\n",
      "1014\n",
      "1015\n",
      "1016\n",
      "1017\n",
      "1019\n",
      "1021\n",
      "1023\n",
      "1024\n",
      "1025\n",
      "1026\n",
      "1027\n",
      "1028\n",
      "1030\n",
      "1031\n",
      "1032\n",
      "1034\n",
      "1035\n",
      "1036\n",
      "1037\n",
      "1038\n",
      "1039\n",
      "1040\n",
      "1043\n",
      "1044\n",
      "1045\n",
      "1046\n",
      "1049\n",
      "1050\n",
      "1051\n",
      "1052\n",
      "1053\n",
      "1055\n",
      "1056\n",
      "1057\n",
      "1058\n",
      "1060\n",
      "1062\n",
      "1063\n",
      "1064\n",
      "1065\n",
      "1066\n",
      "1067\n",
      "1068\n",
      "1069\n",
      "1072\n",
      "1073\n",
      "1074\n",
      "1075\n",
      "1076\n",
      "1077\n",
      "1078\n",
      "1079\n",
      "1080\n",
      "1081\n",
      "1082\n",
      "1084\n",
      "1085\n",
      "1086\n",
      "1087\n",
      "1088\n",
      "1089\n",
      "1090\n",
      "1091\n",
      "1093\n",
      "1096\n",
      "1097\n",
      "1099\n",
      "1101\n",
      "1102\n",
      "1106\n",
      "1107\n",
      "1108\n",
      "1109\n",
      "1111\n",
      "1113\n",
      "1114\n",
      "1115\n",
      "1116\n",
      "1118\n",
      "1119\n",
      "1121\n",
      "1122\n",
      "1123\n",
      "1124\n",
      "1126\n",
      "1127\n",
      "1128\n",
      "1129\n",
      "1130\n",
      "1131\n",
      "1132\n",
      "1133\n",
      "1134\n",
      "1136\n",
      "1138\n",
      "1139\n",
      "1140\n",
      "1141\n",
      "1142\n",
      "1143\n",
      "1144\n",
      "1145\n",
      "1147\n",
      "1149\n",
      "1150\n",
      "1151\n",
      "1152\n",
      "1155\n",
      "1156\n",
      "1157\n",
      "1158\n",
      "1159\n",
      "1161\n",
      "1162\n",
      "1163\n",
      "1164\n",
      "1165\n",
      "1166\n",
      "1169\n",
      "1171\n",
      "1172\n",
      "1175\n",
      "1176\n",
      "1177\n",
      "1178\n",
      "1180\n",
      "1181\n",
      "1182\n",
      "1183\n",
      "1185\n",
      "1186\n",
      "1187\n",
      "1189\n",
      "1190\n",
      "1191\n",
      "1192\n",
      "1193\n",
      "1194\n",
      "1195\n",
      "1196\n",
      "1197\n",
      "1198\n",
      "1199\n",
      "1200\n",
      "1201\n",
      "1204\n",
      "1205\n",
      "1206\n",
      "1207\n",
      "1208\n",
      "1209\n",
      "1211\n",
      "1212\n",
      "1213\n",
      "1214\n",
      "1215\n",
      "1216\n",
      "1217\n",
      "1218\n",
      "1219\n",
      "1220\n",
      "1223\n",
      "1224\n",
      "1225\n",
      "1226\n",
      "1228\n",
      "1230\n",
      "1231\n",
      "1232\n",
      "1233\n",
      "1235\n",
      "1237\n",
      "1239\n",
      "1240\n",
      "1241\n",
      "1242\n",
      "1243\n",
      "1245\n",
      "1246\n",
      "1247\n",
      "1248\n",
      "1249\n",
      "1253\n",
      "1254\n",
      "1256\n",
      "1257\n",
      "1258\n",
      "1259\n",
      "1260\n",
      "1262\n",
      "1263\n",
      "1264\n",
      "1265\n",
      "1266\n",
      "1267\n",
      "1269\n",
      "1270\n",
      "1271\n",
      "1272\n",
      "1273\n",
      "1274\n",
      "1275\n",
      "1279\n",
      "1280\n",
      "1281\n",
      "1282\n",
      "1283\n",
      "1284\n",
      "1285\n",
      "1286\n",
      "1287\n",
      "1288\n",
      "1289\n",
      "1290\n",
      "1291\n",
      "1292\n",
      "1293\n",
      "1294\n",
      "1295\n",
      "1296\n",
      "1297\n",
      "1298\n",
      "1299\n",
      "1300\n",
      "1301\n",
      "1303\n",
      "1304\n",
      "1305\n",
      "1306\n",
      "1307\n",
      "1308\n",
      "1309\n",
      "1310\n",
      "1311\n",
      "1312\n",
      "1313\n",
      "1314\n",
      "1315\n",
      "1316\n",
      "1317\n",
      "1318\n",
      "1319\n",
      "1320\n",
      "1324\n",
      "1326\n",
      "1327\n",
      "1328\n",
      "1330\n",
      "1331\n",
      "1332\n",
      "1333\n",
      "1334\n",
      "1336\n",
      "1337\n",
      "1338\n",
      "1339\n",
      "1340\n",
      "1341\n",
      "1342\n",
      "1343\n",
      "1344\n",
      "1345\n",
      "1346\n",
      "1347\n",
      "1349\n",
      "1350\n",
      "1351\n",
      "1352\n",
      "1353\n",
      "1354\n",
      "1355\n",
      "1356\n",
      "1357\n",
      "1358\n",
      "1359\n",
      "1360\n",
      "1361\n",
      "1362\n",
      "1363\n",
      "1364\n",
      "1365\n",
      "1366\n",
      "1367\n",
      "1368\n",
      "1369\n",
      "1370\n",
      "1371\n",
      "1372\n",
      "1373\n",
      "1374\n",
      "1375\n",
      "1376\n",
      "1377\n",
      "1379\n",
      "1381\n",
      "1382\n",
      "1383\n",
      "1384\n",
      "1385\n",
      "1386\n",
      "1387\n",
      "1388\n",
      "1390\n",
      "1391\n",
      "1392\n",
      "1393\n",
      "1396\n",
      "1397\n",
      "1398\n",
      "1400\n",
      "1401\n",
      "1402\n",
      "1403\n",
      "1405\n",
      "1408\n",
      "1409\n",
      "1410\n",
      "1411\n",
      "1413\n",
      "1414\n",
      "1415\n",
      "1417\n",
      "1418\n",
      "1420\n",
      "1421\n",
      "1422\n",
      "1423\n",
      "1424\n",
      "1425\n",
      "1426\n",
      "1427\n",
      "1428\n",
      "1430\n",
      "1431\n",
      "1432\n",
      "1433\n",
      "1434\n",
      "1437\n",
      "1439\n",
      "1441\n",
      "1442\n",
      "1443\n",
      "1444\n",
      "1445\n",
      "1447\n",
      "1450\n",
      "1451\n",
      "1452\n",
      "1453\n",
      "1454\n",
      "1455\n",
      "1456\n",
      "1457\n",
      "1458\n",
      "1459\n",
      "1460\n",
      "1463\n",
      "1464\n",
      "1465\n",
      "1466\n",
      "1467\n",
      "1468\n",
      "1469\n",
      "1470\n",
      "1472\n",
      "1474\n",
      "1476\n",
      "1478\n",
      "1479\n",
      "1480\n",
      "1481\n",
      "1482\n",
      "1483\n",
      "1485\n",
      "1486\n",
      "1487\n",
      "1490\n",
      "1491\n",
      "1492\n",
      "1493\n",
      "1494\n",
      "1495\n",
      "1496\n",
      "1497\n",
      "1498\n",
      "1500\n",
      "1501\n",
      "1502\n",
      "1503\n",
      "1504\n",
      "1506\n",
      "1508\n",
      "1509\n",
      "1510\n",
      "1511\n",
      "1512\n",
      "1513\n",
      "1514\n",
      "1515\n",
      "1518\n",
      "1519\n",
      "1521\n",
      "1522\n",
      "1523\n",
      "1524\n",
      "1525\n",
      "1526\n",
      "1527\n",
      "1528\n",
      "1531\n",
      "1532\n",
      "1534\n",
      "1535\n",
      "1536\n",
      "1537\n",
      "1539\n",
      "1540\n",
      "1541\n",
      "1543\n",
      "1544\n",
      "1545\n",
      "1546\n",
      "1548\n",
      "1549\n",
      "1550\n",
      "1552\n",
      "1553\n",
      "1554\n",
      "1555\n",
      "1557\n",
      "1558\n",
      "1559\n",
      "1560\n",
      "1561\n",
      "1562\n",
      "1563\n",
      "1564\n",
      "1565\n",
      "1566\n",
      "1567\n",
      "1568\n",
      "1569\n",
      "1570\n",
      "1571\n",
      "1573\n",
      "1574\n",
      "1575\n",
      "1577\n",
      "1579\n",
      "1580\n",
      "1581\n",
      "1582\n",
      "1583\n",
      "1584\n",
      "1585\n",
      "1586\n",
      "1587\n",
      "1588\n",
      "1589\n",
      "1591\n",
      "1592\n",
      "1593\n",
      "1594\n",
      "1596\n",
      "1597\n",
      "1599\n",
      "1600\n",
      "1601\n",
      "1602\n",
      "1603\n",
      "1604\n",
      "1607\n",
      "1609\n",
      "1613\n",
      "1614\n",
      "1615\n",
      "1616\n",
      "1617\n",
      "1618\n",
      "1619\n",
      "1622\n",
      "1623\n",
      "1627\n",
      "1628\n",
      "1629\n",
      "1632\n",
      "1633\n",
      "1634\n",
      "1635\n",
      "1636\n",
      "1637\n",
      "1638\n",
      "1639\n",
      "1640\n",
      "1641\n",
      "1642\n",
      "1643\n",
      "1644\n",
      "1645\n",
      "1646\n",
      "1647\n",
      "1648\n",
      "1649\n",
      "1650\n",
      "1651\n",
      "1652\n",
      "1653\n",
      "1654\n",
      "1655\n",
      "1656\n",
      "1657\n",
      "1658\n",
      "1659\n",
      "1661\n",
      "1662\n",
      "1663\n",
      "1664\n",
      "1666\n",
      "1667\n",
      "1669\n",
      "1670\n",
      "1671\n",
      "1673\n",
      "1674\n",
      "1675\n",
      "1676\n",
      "1677\n",
      "1678\n",
      "1679\n",
      "1680\n",
      "1681\n",
      "1682\n",
      "1683\n",
      "1684\n",
      "1686\n",
      "1687\n",
      "1688\n",
      "1689\n",
      "1690\n",
      "1692\n",
      "1693\n",
      "1694\n",
      "1695\n",
      "1696\n",
      "1698\n",
      "1699\n",
      "1700\n",
      "1701\n",
      "1702\n",
      "1703\n",
      "1704\n",
      "1705\n",
      "1706\n",
      "1708\n",
      "1709\n",
      "1710\n",
      "1711\n",
      "1713\n",
      "1714\n",
      "1715\n",
      "1716\n",
      "1717\n",
      "1719\n",
      "1720\n",
      "1721\n",
      "1722\n",
      "1723\n",
      "1724\n",
      "1726\n",
      "1727\n",
      "1728\n",
      "1730\n",
      "1731\n",
      "1733\n",
      "1735\n",
      "1736\n",
      "1737\n",
      "1739\n",
      "1740\n",
      "1741\n",
      "1745\n",
      "1747\n",
      "1748\n",
      "1749\n",
      "1750\n",
      "1751\n",
      "1752\n",
      "1753\n",
      "1754\n",
      "1755\n",
      "1756\n",
      "1758\n",
      "1759\n",
      "1760\n",
      "1761\n",
      "1763\n",
      "1764\n",
      "1765\n",
      "1767\n",
      "1768\n",
      "1769\n",
      "1771\n",
      "1772\n",
      "1773\n",
      "1774\n",
      "1775\n",
      "1777\n",
      "1778\n",
      "1779\n",
      "1780\n",
      "1783\n",
      "1784\n",
      "1785\n",
      "1788\n",
      "1789\n",
      "1790\n",
      "1791\n",
      "1793\n",
      "1794\n",
      "1795\n",
      "1796\n",
      "1797\n",
      "1798\n",
      "1799\n",
      "1800\n",
      "1801\n",
      "1803\n",
      "1804\n",
      "1805\n",
      "1806\n",
      "1807\n",
      "1808\n",
      "1809\n",
      "1810\n",
      "1811\n",
      "1812\n",
      "1813\n",
      "1814\n",
      "1815\n",
      "1816\n",
      "1817\n",
      "1818\n",
      "1819\n",
      "1820\n",
      "1821\n",
      "1824\n",
      "1826\n",
      "1827\n",
      "1828\n",
      "1829\n",
      "1830\n",
      "1832\n",
      "1833\n",
      "1834\n",
      "1835\n",
      "1836\n",
      "1839\n",
      "1840\n",
      "1841\n",
      "1842\n",
      "1843\n",
      "1844\n",
      "1845\n",
      "1846\n",
      "1847\n",
      "1848\n",
      "1849\n",
      "1850\n",
      "1851\n",
      "1854\n",
      "1855\n",
      "1856\n",
      "1857\n",
      "1858\n",
      "1859\n",
      "1860\n",
      "1861\n",
      "1862\n",
      "1863\n",
      "1864\n",
      "1865\n",
      "1866\n",
      "1867\n",
      "1868\n",
      "1870\n",
      "1871\n",
      "1872\n",
      "1873\n",
      "1876\n",
      "1877\n",
      "1878\n",
      "1879\n",
      "1880\n",
      "1881\n",
      "1882\n",
      "1883\n",
      "1884\n",
      "1885\n",
      "1886\n",
      "1887\n",
      "1889\n",
      "1890\n",
      "1891\n",
      "1892\n",
      "1896\n",
      "1897\n",
      "1898\n",
      "1900\n",
      "1901\n",
      "1902\n",
      "1903\n",
      "1904\n",
      "1905\n",
      "1907\n",
      "1908\n",
      "1909\n",
      "1910\n",
      "1912\n",
      "1913\n",
      "1915\n",
      "1916\n",
      "1918\n",
      "1919\n",
      "1920\n",
      "1922\n",
      "1923\n",
      "1925\n",
      "1927\n",
      "1928\n",
      "1929\n",
      "1930\n",
      "1932\n",
      "1934\n",
      "1936\n",
      "1937\n",
      "1938\n",
      "1939\n",
      "1940\n",
      "1941\n",
      "1943\n",
      "1944\n",
      "1945\n",
      "1947\n",
      "1948\n",
      "1949\n",
      "1950\n",
      "1952\n",
      "1954\n",
      "1955\n",
      "1957\n",
      "1958\n",
      "1960\n",
      "1961\n",
      "1962\n",
      "1963\n",
      "1964\n",
      "1965\n",
      "1966\n",
      "1967\n",
      "1968\n",
      "1969\n",
      "1971\n",
      "1972\n",
      "1973\n",
      "1975\n",
      "1976\n",
      "1978\n",
      "1981\n",
      "1982\n",
      "1983\n",
      "1985\n",
      "1986\n",
      "1987\n",
      "1988\n",
      "1989\n",
      "1990\n",
      "1991\n",
      "1993\n",
      "1994\n",
      "1995\n",
      "1996\n",
      "1997\n",
      "1998\n",
      "1999\n",
      "2000\n",
      "2003\n",
      "2005\n",
      "2006\n",
      "2007\n",
      "2008\n",
      "2009\n",
      "2010\n",
      "2011\n",
      "2012\n",
      "2013\n",
      "2014\n",
      "2016\n",
      "2017\n",
      "2018\n",
      "2019\n",
      "2020\n",
      "2021\n",
      "2022\n",
      "2023\n",
      "2024\n",
      "2025\n",
      "2027\n",
      "2028\n",
      "2029\n",
      "2031\n",
      "2032\n",
      "2033\n",
      "2034\n",
      "2036\n",
      "2037\n",
      "2038\n",
      "2039\n",
      "2040\n",
      "2041\n",
      "2042\n",
      "2043\n",
      "2044\n",
      "2046\n",
      "2047\n",
      "2048\n",
      "2049\n",
      "2050\n",
      "2051\n",
      "2052\n",
      "2053\n",
      "2055\n",
      "2056\n",
      "2057\n",
      "2058\n",
      "2059\n",
      "2061\n",
      "2062\n",
      "2064\n",
      "2065\n",
      "2066\n",
      "2067\n",
      "2068\n",
      "2069\n",
      "2070\n",
      "2071\n",
      "2074\n",
      "2075\n",
      "2076\n",
      "2078\n",
      "2079\n",
      "2080\n",
      "2081\n",
      "2082\n",
      "2083\n",
      "2086\n",
      "2087\n",
      "2089\n",
      "2090\n",
      "2091\n",
      "2092\n",
      "2093\n",
      "2094\n",
      "2096\n",
      "2097\n",
      "2098\n",
      "2099\n",
      "2100\n",
      "2101\n",
      "2103\n",
      "2104\n",
      "2105\n",
      "2106\n",
      "2107\n",
      "2108\n",
      "2109\n",
      "2110\n",
      "2111\n",
      "2113\n",
      "2114\n",
      "2115\n",
      "2116\n",
      "2117\n",
      "2118\n",
      "2120\n",
      "2121\n",
      "2123\n",
      "2124\n",
      "2125\n",
      "2126\n",
      "2127\n",
      "2128\n",
      "2129\n",
      "2131\n",
      "2132\n",
      "2134\n",
      "2135\n",
      "2136\n",
      "2137\n",
      "2138\n",
      "2139\n",
      "2140\n",
      "2141\n",
      "2142\n",
      "2143\n",
      "2145\n",
      "2146\n",
      "2147\n",
      "2148\n",
      "2149\n",
      "2150\n",
      "2151\n",
      "2152\n",
      "2153\n",
      "2154\n",
      "2155\n",
      "2156\n",
      "2157\n",
      "2158\n",
      "2160\n",
      "2163\n",
      "2165\n",
      "2166\n",
      "2167\n",
      "2168\n",
      "2169\n",
      "2170\n",
      "2171\n",
      "2172\n",
      "2174\n",
      "2175\n",
      "2176\n",
      "2177\n",
      "2178\n",
      "2179\n",
      "2180\n",
      "2181\n",
      "2182\n",
      "2183\n",
      "2184\n",
      "2186\n",
      "2187\n",
      "2188\n",
      "2190\n",
      "2191\n",
      "2192\n",
      "2194\n",
      "2196\n",
      "2199\n",
      "2200\n",
      "2201\n",
      "2202\n",
      "2203\n",
      "2204\n",
      "2205\n",
      "2206\n",
      "2209\n",
      "2210\n",
      "2211\n",
      "2213\n",
      "2214\n",
      "2215\n",
      "2216\n",
      "2219\n",
      "2220\n",
      "2221\n",
      "2222\n",
      "2223\n",
      "2224\n",
      "2227\n",
      "2229\n",
      "2230\n",
      "2231\n",
      "2232\n",
      "2233\n",
      "2234\n",
      "2235\n",
      "2237\n",
      "2238\n",
      "2241\n",
      "2242\n",
      "2243\n",
      "2244\n",
      "2246\n",
      "2248\n",
      "2249\n",
      "2250\n",
      "2251\n",
      "2252\n",
      "2253\n",
      "2254\n",
      "2255\n",
      "2256\n",
      "2258\n",
      "2259\n",
      "2260\n",
      "2261\n",
      "2263\n",
      "2264\n",
      "2265\n",
      "2266\n",
      "2267\n",
      "2268\n",
      "2269\n",
      "2270\n",
      "2271\n",
      "2272\n",
      "2273\n",
      "2274\n",
      "2275\n",
      "2276\n",
      "2277\n",
      "2278\n",
      "2281\n",
      "2282\n",
      "2283\n",
      "2285\n",
      "2287\n",
      "2288\n",
      "2289\n",
      "2290\n",
      "2291\n",
      "2292\n",
      "2293\n",
      "2295\n",
      "2297\n",
      "2298\n",
      "2299\n",
      "2300\n",
      "2301\n",
      "2302\n",
      "2303\n",
      "2304\n",
      "2305\n",
      "2306\n",
      "2307\n",
      "2308\n",
      "2309\n",
      "2310\n",
      "2311\n",
      "2312\n",
      "2314\n",
      "2315\n",
      "2316\n",
      "2317\n",
      "2318\n",
      "2320\n",
      "2321\n",
      "2322\n",
      "2323\n",
      "2324\n",
      "2325\n",
      "2326\n",
      "2327\n",
      "2328\n",
      "2329\n",
      "2330\n",
      "2331\n",
      "2332\n",
      "2335\n",
      "2336\n",
      "2338\n",
      "2339\n",
      "2342\n",
      "2343\n",
      "2344\n",
      "2345\n",
      "2347\n",
      "2348\n",
      "2349\n",
      "2350\n",
      "2351\n",
      "2352\n",
      "2353\n",
      "2356\n",
      "2358\n",
      "2359\n",
      "2360\n",
      "2362\n",
      "2363\n",
      "2365\n",
      "2366\n",
      "2367\n",
      "2368\n",
      "2369\n",
      "2370\n",
      "2371\n",
      "2373\n",
      "2374\n",
      "2375\n",
      "2376\n",
      "2377\n",
      "2378\n",
      "2379\n",
      "2381\n",
      "2382\n",
      "2385\n",
      "2386\n",
      "2387\n",
      "2388\n",
      "2389\n",
      "2390\n",
      "2391\n",
      "2392\n",
      "2393\n",
      "2394\n",
      "2396\n",
      "2397\n",
      "2398\n",
      "2400\n",
      "2402\n",
      "2403\n",
      "2404\n",
      "2405\n",
      "2407\n",
      "2408\n",
      "2409\n",
      "2413\n",
      "2415\n",
      "2416\n",
      "2419\n",
      "2420\n",
      "2421\n",
      "2422\n",
      "2423\n",
      "2424\n",
      "2426\n",
      "2427\n",
      "2428\n",
      "2429\n",
      "2430\n",
      "2431\n",
      "2432\n",
      "2433\n",
      "2434\n",
      "2436\n",
      "2437\n",
      "2439\n",
      "2440\n",
      "2441\n",
      "2442\n",
      "2443\n",
      "2444\n",
      "2445\n",
      "2447\n",
      "2448\n",
      "2449\n",
      "2450\n",
      "2451\n",
      "2453\n",
      "2455\n",
      "2457\n",
      "2458\n",
      "2459\n",
      "2462\n",
      "2463\n",
      "2464\n",
      "2465\n",
      "2467\n",
      "2468\n",
      "2469\n",
      "2470\n",
      "2472\n",
      "2473\n",
      "2474\n",
      "2476\n",
      "2477\n",
      "2478\n",
      "2479\n",
      "2480\n",
      "2481\n",
      "2484\n",
      "2486\n",
      "2488\n",
      "2489\n",
      "2490\n",
      "2491\n",
      "2492\n",
      "2493\n",
      "2494\n",
      "2495\n",
      "2498\n",
      "2499\n",
      "2500\n",
      "2501\n",
      "2502\n",
      "2503\n",
      "2505\n",
      "2506\n",
      "2507\n",
      "2508\n",
      "2509\n",
      "2510\n",
      "2511\n",
      "2512\n",
      "2513\n",
      "2514\n",
      "2515\n",
      "2516\n",
      "2517\n",
      "2519\n",
      "2520\n",
      "2522\n",
      "2523\n",
      "2525\n",
      "2526\n",
      "2527\n",
      "2530\n",
      "2531\n",
      "2533\n",
      "2534\n",
      "2535\n",
      "2536\n",
      "2537\n",
      "2539\n",
      "2540\n",
      "2542\n",
      "2543\n",
      "2544\n",
      "2546\n",
      "2547\n",
      "2548\n",
      "2549\n",
      "2550\n",
      "2551\n",
      "2552\n",
      "2554\n",
      "2555\n",
      "2556\n",
      "2557\n",
      "2558\n",
      "2559\n",
      "2560\n",
      "2561\n",
      "2562\n",
      "2563\n",
      "2564\n",
      "2565\n",
      "2566\n",
      "2568\n",
      "2569\n",
      "2571\n",
      "2572\n",
      "2573\n",
      "2574\n",
      "2575\n",
      "2577\n",
      "2580\n",
      "2582\n",
      "2583\n",
      "2585\n",
      "2587\n",
      "2588\n",
      "2591\n",
      "2592\n",
      "2593\n",
      "2594\n",
      "2595\n",
      "2596\n",
      "2597\n",
      "2598\n",
      "2600\n",
      "2601\n",
      "2602\n",
      "2603\n",
      "2606\n",
      "2607\n",
      "2608\n",
      "2609\n",
      "2612\n",
      "2613\n",
      "2614\n",
      "2615\n",
      "2616\n",
      "2617\n",
      "2618\n",
      "2619\n",
      "2620\n",
      "2621\n",
      "2622\n",
      "2623\n",
      "2624\n",
      "2625\n",
      "2626\n",
      "2628\n",
      "2629\n",
      "2630\n",
      "2631\n",
      "2635\n",
      "2636\n",
      "2637\n",
      "2638\n",
      "2639\n",
      "2640\n",
      "2641\n",
      "2642\n",
      "2643\n",
      "2644\n",
      "2645\n",
      "2646\n",
      "2647\n",
      "2648\n",
      "2649\n",
      "2652\n",
      "2653\n",
      "2654\n",
      "2655\n",
      "2656\n",
      "2657\n",
      "2658\n",
      "2659\n",
      "2660\n",
      "2661\n",
      "2662\n",
      "2663\n",
      "2664\n",
      "2665\n",
      "2666\n",
      "2667\n",
      "2668\n",
      "2669\n",
      "2670\n",
      "2671\n",
      "2674\n",
      "2675\n",
      "2676\n",
      "2678\n",
      "2680\n",
      "2682\n",
      "2683\n",
      "2684\n",
      "2685\n",
      "2686\n",
      "2687\n",
      "2688\n",
      "2689\n",
      "2690\n",
      "2692\n",
      "2693\n",
      "2695\n",
      "2697\n",
      "2698\n",
      "2699\n",
      "2700\n",
      "2701\n",
      "2702\n",
      "2703\n",
      "2704\n",
      "2705\n",
      "2706\n",
      "2707\n",
      "2709\n",
      "2710\n",
      "2711\n",
      "2712\n",
      "2713\n",
      "2714\n",
      "2716\n",
      "2717\n",
      "2718\n",
      "2719\n",
      "2720\n",
      "2721\n",
      "2722\n",
      "2723\n",
      "2726\n",
      "2727\n",
      "2729\n",
      "2730\n",
      "2731\n",
      "2733\n",
      "2734\n",
      "2735\n",
      "2737\n",
      "2738\n",
      "2739\n",
      "2742\n",
      "2743\n",
      "2744\n",
      "2746\n",
      "2748\n",
      "2749\n",
      "2750\n",
      "2751\n",
      "2753\n",
      "2754\n",
      "2756\n",
      "2757\n",
      "2759\n",
      "2760\n",
      "2761\n",
      "2762\n",
      "2764\n",
      "2766\n",
      "2767\n",
      "2768\n",
      "2770\n",
      "2771\n",
      "2772\n",
      "2773\n",
      "2774\n",
      "2776\n",
      "2777\n",
      "2779\n",
      "2780\n",
      "2781\n",
      "2782\n",
      "2783\n",
      "2784\n",
      "2785\n",
      "2787\n",
      "2788\n",
      "2789\n",
      "2791\n",
      "2792\n",
      "2794\n",
      "2795\n",
      "2797\n",
      "2799\n",
      "2801\n",
      "2802\n",
      "2804\n",
      "2806\n",
      "2807\n",
      "2808\n",
      "2809\n",
      "2811\n",
      "2812\n",
      "2814\n",
      "2815\n",
      "2816\n",
      "2817\n",
      "2818\n",
      "2819\n",
      "2820\n",
      "2821\n",
      "2822\n",
      "2823\n",
      "2825\n",
      "2826\n",
      "2827\n",
      "2831\n",
      "2832\n",
      "2834\n",
      "2835\n",
      "2836\n",
      "2837\n",
      "2838\n",
      "2840\n",
      "2841\n",
      "2843\n",
      "2844\n",
      "2845\n",
      "2846\n",
      "2848\n",
      "2849\n",
      "2851\n",
      "2852\n",
      "2853\n",
      "2854\n",
      "2855\n",
      "2857\n",
      "2858\n",
      "2859\n",
      "2860\n",
      "2861\n",
      "2862\n",
      "2863\n",
      "2864\n",
      "2865\n",
      "2867\n",
      "2868\n",
      "2869\n",
      "2870\n",
      "2871\n",
      "2872\n",
      "2873\n",
      "2874\n",
      "2875\n",
      "2876\n",
      "2877\n",
      "2880\n",
      "2881\n",
      "2884\n",
      "2885\n",
      "2886\n",
      "2887\n",
      "2888\n",
      "2889\n",
      "2890\n",
      "2891\n",
      "2892\n",
      "2893\n",
      "2894\n",
      "2895\n",
      "2896\n",
      "2897\n",
      "2900\n",
      "2901\n",
      "2902\n",
      "2904\n",
      "2905\n",
      "2907\n",
      "2908\n",
      "2909\n",
      "2910\n",
      "2911\n",
      "2912\n",
      "2913\n",
      "2914\n",
      "2915\n",
      "2916\n",
      "2917\n",
      "2918\n",
      "2919\n",
      "2920\n",
      "2921\n",
      "2922\n",
      "2923\n",
      "2924\n",
      "2925\n",
      "2926\n",
      "2927\n",
      "2929\n",
      "2930\n",
      "2933\n",
      "2934\n",
      "2935\n",
      "2938\n",
      "2939\n",
      "2940\n",
      "2941\n",
      "2942\n",
      "2943\n",
      "2944\n",
      "2945\n",
      "2946\n",
      "2949\n",
      "2950\n",
      "2951\n",
      "2952\n",
      "2953\n",
      "2954\n",
      "2955\n",
      "2956\n",
      "2957\n",
      "2958\n",
      "2960\n",
      "2962\n",
      "2963\n",
      "2964\n",
      "2967\n",
      "2969\n",
      "2970\n",
      "2972\n",
      "2973\n",
      "2974\n",
      "2975\n",
      "2976\n",
      "2977\n",
      "2978\n",
      "2979\n",
      "2981\n",
      "2983\n",
      "2984\n",
      "2986\n",
      "2987\n",
      "2988\n",
      "2989\n",
      "2990\n",
      "2991\n",
      "2992\n",
      "2993\n",
      "2994\n",
      "2996\n",
      "2998\n",
      "2999\n",
      "3004\n",
      "3006\n",
      "3007\n",
      "3009\n",
      "3010\n",
      "3011\n",
      "3012\n",
      "3013\n",
      "3016\n",
      "3017\n",
      "3019\n",
      "3020\n",
      "3021\n",
      "3022\n",
      "3024\n",
      "3025\n",
      "3026\n",
      "3027\n",
      "3028\n",
      "3029\n",
      "3030\n",
      "3031\n",
      "3032\n",
      "3033\n",
      "3034\n",
      "3037\n",
      "3038\n",
      "3039\n",
      "3040\n",
      "3041\n",
      "3043\n",
      "3044\n",
      "3045\n",
      "3048\n",
      "3049\n",
      "3050\n",
      "3051\n",
      "3052\n",
      "3053\n",
      "3054\n",
      "3056\n",
      "3057\n",
      "3058\n",
      "3059\n",
      "3060\n",
      "3061\n",
      "3062\n",
      "3063\n",
      "3064\n",
      "3065\n",
      "3066\n",
      "3068\n",
      "3069\n",
      "3071\n",
      "3072\n",
      "3073\n",
      "3074\n",
      "3075\n",
      "3077\n",
      "3078\n",
      "3079\n",
      "3080\n",
      "3082\n",
      "3084\n",
      "3086\n",
      "3087\n",
      "3088\n",
      "3089\n",
      "3090\n",
      "3091\n",
      "3092\n",
      "3093\n",
      "3094\n",
      "3095\n",
      "3096\n",
      "3097\n",
      "3098\n",
      "3100\n",
      "3101\n",
      "3102\n",
      "3103\n",
      "3106\n",
      "3108\n",
      "3110\n",
      "3111\n",
      "3113\n",
      "3114\n",
      "3115\n",
      "3116\n",
      "3118\n",
      "3119\n",
      "3121\n",
      "3122\n",
      "3123\n",
      "3124\n",
      "3125\n",
      "3126\n",
      "3127\n",
      "3128\n",
      "3129\n",
      "3130\n",
      "3131\n",
      "3133\n",
      "3135\n",
      "3136\n",
      "3137\n",
      "3138\n",
      "3140\n",
      "3141\n",
      "3143\n",
      "3146\n",
      "3148\n",
      "3149\n",
      "3150\n",
      "3151\n",
      "3152\n",
      "3153\n",
      "3154\n",
      "3155\n",
      "3156\n",
      "3157\n",
      "3158\n",
      "3160\n",
      "3162\n",
      "3163\n",
      "3165\n",
      "3167\n",
      "3168\n",
      "3169\n",
      "3171\n",
      "3172\n",
      "3173\n",
      "3175\n",
      "3176\n",
      "3177\n",
      "3178\n",
      "3180\n",
      "3181\n",
      "3182\n",
      "3183\n",
      "3184\n",
      "3185\n",
      "3186\n",
      "3187\n",
      "3188\n",
      "3189\n",
      "3191\n",
      "3192\n",
      "3193\n",
      "3195\n",
      "3196\n",
      "3197\n",
      "3198\n",
      "3199\n",
      "3200\n",
      "3201\n",
      "3202\n",
      "3203\n",
      "3204\n",
      "3205\n",
      "3206\n",
      "3207\n",
      "3208\n",
      "3209\n",
      "3210\n",
      "3211\n",
      "3212\n",
      "3214\n",
      "3215\n",
      "3217\n",
      "3219\n",
      "3220\n",
      "3221\n",
      "3223\n",
      "3224\n",
      "3225\n",
      "3226\n",
      "3227\n",
      "3228\n",
      "3229\n",
      "3230\n",
      "3231\n",
      "3233\n",
      "3234\n",
      "3235\n",
      "3236\n",
      "3238\n",
      "3239\n",
      "3240\n",
      "3241\n",
      "3242\n",
      "3243\n",
      "3244\n",
      "3245\n",
      "3246\n",
      "3247\n",
      "3248\n",
      "3249\n",
      "3250\n",
      "3251\n",
      "3252\n",
      "3253\n",
      "3254\n",
      "3255\n",
      "3256\n",
      "3257\n",
      "3258\n",
      "3259\n",
      "3261\n",
      "3263\n",
      "3264\n",
      "3267\n",
      "3269\n",
      "3270\n",
      "3272\n",
      "3273\n",
      "3274\n",
      "3275\n",
      "3276\n",
      "3277\n",
      "3278\n",
      "3279\n",
      "3281\n",
      "3283\n",
      "3285\n",
      "3286\n",
      "3287\n",
      "3288\n",
      "3290\n",
      "3291\n",
      "3292\n",
      "3294\n",
      "3295\n",
      "3299\n",
      "3300\n",
      "3302\n",
      "3303\n",
      "3304\n",
      "3305\n",
      "3306\n",
      "3307\n",
      "3308\n",
      "3309\n",
      "3310\n",
      "3311\n",
      "3312\n",
      "3313\n",
      "3314\n",
      "3315\n",
      "3316\n"
     ]
    },
    {
     "data": {
      "text/plain": [
       "689"
      ]
     },
     "execution_count": 133,
     "metadata": {},
     "output_type": "execute_result"
    }
   ],
   "source": [
    "array2 = np.zeros((len(re), 1))\n",
    "for i in range(len(re)):\n",
    "    array10[i] = np.argmax(re[i])\n",
    "num2 = 0\n",
    "for i in range(len(array2)):\n",
    "    if array2[i, 0] == y_test[i]:\n",
    "        num2 += 1\n",
    "    else:\n",
    "        print(i)\n",
    "num2"
   ]
  },
  {
   "cell_type": "code",
   "execution_count": 134,
   "metadata": {},
   "outputs": [
    {
     "data": {
      "text/plain": [
       "0.2077178173047935"
      ]
     },
     "execution_count": 134,
     "metadata": {},
     "output_type": "execute_result"
    }
   ],
   "source": [
    "num2/x_test.shape[0]"
   ]
  },
  {
   "cell_type": "code",
   "execution_count": 3,
   "metadata": {},
   "outputs": [],
   "source": [
    "plt.annotate?"
   ]
  },
  {
   "cell_type": "code",
   "execution_count": 4,
   "metadata": {},
   "outputs": [],
   "source": [
    "a = np.arange(100).reshape(2, 5, 10)"
   ]
  },
  {
   "cell_type": "code",
   "execution_count": 5,
   "metadata": {},
   "outputs": [
    {
     "data": {
      "text/plain": [
       "array([[[ 0,  1,  2,  3,  4,  5,  6,  7,  8,  9],\n",
       "        [10, 11, 12, 13, 14, 15, 16, 17, 18, 19],\n",
       "        [20, 21, 22, 23, 24, 25, 26, 27, 28, 29],\n",
       "        [30, 31, 32, 33, 34, 35, 36, 37, 38, 39],\n",
       "        [40, 41, 42, 43, 44, 45, 46, 47, 48, 49]],\n",
       "\n",
       "       [[50, 51, 52, 53, 54, 55, 56, 57, 58, 59],\n",
       "        [60, 61, 62, 63, 64, 65, 66, 67, 68, 69],\n",
       "        [70, 71, 72, 73, 74, 75, 76, 77, 78, 79],\n",
       "        [80, 81, 82, 83, 84, 85, 86, 87, 88, 89],\n",
       "        [90, 91, 92, 93, 94, 95, 96, 97, 98, 99]]])"
      ]
     },
     "execution_count": 5,
     "metadata": {},
     "output_type": "execute_result"
    }
   ],
   "source": [
    "a"
   ]
  },
  {
   "cell_type": "code",
   "execution_count": 6,
   "metadata": {},
   "outputs": [],
   "source": [
    "np.save('lad.npy', a)"
   ]
  },
  {
   "cell_type": "code",
   "execution_count": 7,
   "metadata": {},
   "outputs": [
    {
     "data": {
      "text/plain": [
       "array([[[ 0,  1,  2,  3,  4,  5,  6,  7,  8,  9],\n",
       "        [10, 11, 12, 13, 14, 15, 16, 17, 18, 19],\n",
       "        [20, 21, 22, 23, 24, 25, 26, 27, 28, 29],\n",
       "        [30, 31, 32, 33, 34, 35, 36, 37, 38, 39],\n",
       "        [40, 41, 42, 43, 44, 45, 46, 47, 48, 49]],\n",
       "\n",
       "       [[50, 51, 52, 53, 54, 55, 56, 57, 58, 59],\n",
       "        [60, 61, 62, 63, 64, 65, 66, 67, 68, 69],\n",
       "        [70, 71, 72, 73, 74, 75, 76, 77, 78, 79],\n",
       "        [80, 81, 82, 83, 84, 85, 86, 87, 88, 89],\n",
       "        [90, 91, 92, 93, 94, 95, 96, 97, 98, 99]]])"
      ]
     },
     "execution_count": 7,
     "metadata": {},
     "output_type": "execute_result"
    }
   ],
   "source": [
    "c = np.load('lad.npy')\n",
    "c"
   ]
  },
  {
   "cell_type": "code",
   "execution_count": 8,
   "metadata": {},
   "outputs": [],
   "source": [
    "f1 = pd.read_csv('../Cs137data/csv/pulse2525.csv')\n",
    "f2 = pd.read_csv('../Cs137data/csv/realtime2525.csv')\n",
    "f3 = pd.read_csv('../Cs137data/csv/pulse_30cm_Set.csv')\n",
    "f4 = pd.read_csv('../Cs137data/csv/realtime_30cm_Set.csv')"
   ]
  },
  {
   "cell_type": "code",
   "execution_count": 15,
   "metadata": {},
   "outputs": [],
   "source": [
    "d1 = f1.values\n",
    "d2 = f2.values\n",
    "d3 = f3.values\n",
    "d4 = f4.values"
   ]
  },
  {
   "cell_type": "code",
   "execution_count": 16,
   "metadata": {},
   "outputs": [
    {
     "data": {
      "text/plain": [
       "((11135, 2502), (11135, 2501), (1156, 2502), (1156, 2501))"
      ]
     },
     "execution_count": 16,
     "metadata": {},
     "output_type": "execute_result"
    }
   ],
   "source": [
    "d1.shape, d2.shape, d3.shape, d4.shape"
   ]
  },
  {
   "cell_type": "code",
   "execution_count": 17,
   "metadata": {},
   "outputs": [
    {
     "data": {
      "text/plain": [
       "((11135, 2500), (11135, 2500), (1156, 2500), (1156, 2500))"
      ]
     },
     "execution_count": 17,
     "metadata": {},
     "output_type": "execute_result"
    }
   ],
   "source": [
    "label1 = d1[:, -1]\n",
    "d1 = d1[:, 1: 2501]\n",
    "d2 = d2[:, 1: 2501]\n",
    "label2 = d3[:, -1]\n",
    "d3 = d3[:, 1: 2501]\n",
    "d4 = d4[:, 1: 2501]\n",
    "d1.shape, d2.shape, d3.shape, d4.shape"
   ]
  },
  {
   "cell_type": "code",
   "execution_count": 18,
   "metadata": {},
   "outputs": [
    {
     "name": "stdout",
     "output_type": "stream",
     "text": [
      "len(index) = 81\n",
      "pulse.shape =  (11054, 2500) realtime.shape =  (11054, 2500) dataSet.shape =  (11054, 50, 50, 2)\n",
      "len(index) = 36\n",
      "pulse.shape =  (1120, 2500) realtime.shape =  (1120, 2500) dataSet.shape =  (1120, 50, 50, 2)\n"
     ]
    }
   ],
   "source": [
    "dataSet1, label1 = nuc.scquential_data_trans_CNN_data(d1, d2, label1)\n",
    "dataSet2, label2 = nuc.scquential_data_trans_CNN_data(d3, d4, label2)"
   ]
  },
  {
   "cell_type": "code",
   "execution_count": 20,
   "metadata": {},
   "outputs": [],
   "source": [
    "np.save('../Cs137data/numpy_data/dataSet_10cm.npy', dataSet1)\n",
    "np.save('../Cs137data/numpy_data/dataSet_30cm.npy', dataSet2)\n"
   ]
  },
  {
   "cell_type": "code",
   "execution_count": 21,
   "metadata": {},
   "outputs": [
    {
     "data": {
      "text/plain": [
       "((11054, 50, 50, 2), (1120, 50, 50, 2))"
      ]
     },
     "execution_count": 21,
     "metadata": {},
     "output_type": "execute_result"
    }
   ],
   "source": [
    "b1 = np.load('../Cs137data/numpy_data/dataSet_10cm.npy')\n",
    "b2 = np.load('../Cs137data/numpy_data/dataSet_30cm.npy')\n",
    "b1.shape, b2.shape"
   ]
  },
  {
   "cell_type": "code",
   "execution_count": 22,
   "metadata": {},
   "outputs": [],
   "source": [
    "np.save('../Cs137data/numpy_data/label_10cm.npy', label1)\n",
    "np.save('../Cs137data/numpy_data/label_30cm.npy', label2)"
   ]
  },
  {
   "cell_type": "code",
   "execution_count": 23,
   "metadata": {},
   "outputs": [
    {
     "data": {
      "text/plain": [
       "((11054,), (1120,))"
      ]
     },
     "execution_count": 23,
     "metadata": {},
     "output_type": "execute_result"
    }
   ],
   "source": [
    "l_10cm = np.load('../Cs137data/numpy_data/label_10cm.npy')\n",
    "l_30cm = np.load('../Cs137data/numpy_data/label_30cm.npy')\n",
    "l_10cm.shape, l_30cm.shape"
   ]
  },
  {
   "cell_type": "markdown",
   "metadata": {},
   "source": [
    "### 11 混合数据模型"
   ]
  },
  {
   "cell_type": "code",
   "execution_count": 2,
   "metadata": {},
   "outputs": [
    {
     "data": {
      "text/plain": [
       "((11054, 50, 50, 2), (1120, 50, 50, 2))"
      ]
     },
     "execution_count": 2,
     "metadata": {},
     "output_type": "execute_result"
    }
   ],
   "source": [
    "dataSet10cm = np.load('../Cs137data/numpy_data/dataSet_10cm.npy')\n",
    "dataSet30cm = np.load('../Cs137data/numpy_data/dataSet_30cm.npy')\n",
    "dataSet10cm.shape, dataSet30cm.shape"
   ]
  },
  {
   "cell_type": "code",
   "execution_count": 3,
   "metadata": {},
   "outputs": [],
   "source": [
    "label10cm = np.load('../Cs137data/numpy_data/label_10cm.npy')\n",
    "label30cm = np.load('../Cs137data/numpy_data/label_30cm.npy')"
   ]
  },
  {
   "cell_type": "code",
   "execution_count": 19,
   "metadata": {},
   "outputs": [],
   "source": [
    "label30cm = label30cm[:] - 1"
   ]
  },
  {
   "cell_type": "code",
   "execution_count": 4,
   "metadata": {},
   "outputs": [],
   "source": [
    "dataSet = np.vstack((dataSet10cm, dataSet30cm))"
   ]
  },
  {
   "cell_type": "code",
   "execution_count": 6,
   "metadata": {},
   "outputs": [
    {
     "data": {
      "text/plain": [
       "(12174, 50, 50, 2)"
      ]
     },
     "execution_count": 6,
     "metadata": {},
     "output_type": "execute_result"
    }
   ],
   "source": [
    "dataSet.shape"
   ]
  },
  {
   "cell_type": "code",
   "execution_count": 20,
   "metadata": {},
   "outputs": [
    {
     "data": {
      "text/plain": [
       "(12174, 1)"
      ]
     },
     "execution_count": 20,
     "metadata": {},
     "output_type": "execute_result"
    }
   ],
   "source": [
    "label = np.vstack((label10cm.reshape(label10cm.shape[0], 1), label30cm.reshape(label30cm.shape[0], 1)))\n",
    "label.shape"
   ]
  },
  {
   "cell_type": "code",
   "execution_count": 24,
   "metadata": {},
   "outputs": [],
   "source": [
    "dataSet[:, :, :, 0] = dataSet[:, :, :, 0] / np.max(dataSet[:, :, :, 0])\n",
    "dataSet[:, :, :, 1] = dataSet[:, :, :, 1] / np.max(dataSet[:, :, :, 1])"
   ]
  },
  {
   "cell_type": "code",
   "execution_count": 25,
   "metadata": {},
   "outputs": [
    {
     "name": "stdout",
     "output_type": "stream",
     "text": [
      "x_train.shape= (7304, 50, 50, 2) y_train.shape= (7304, 1) x_test.shape= (4870, 50, 50, 2) y_test.shape= (4870, 1)\n"
     ]
    }
   ],
   "source": [
    "x_train, y_train, x_test, y_test = nuc.split_dataSet(dataSet, label, test_size=0.4, random_state=42)"
   ]
  },
  {
   "cell_type": "code",
   "execution_count": 26,
   "metadata": {},
   "outputs": [],
   "source": [
    "model = models.Sequential()  # 线性模型\n",
    "model.add(layers.Conv2D(32, (3, 3), activation='relu', input_shape=(50, 50, 2)))\n",
    "model.add(layers.MaxPooling2D((2, 2)))\n",
    "model.add(layers.Conv2D(64, (3, 3), activation='relu'))\n",
    "model.add(layers.MaxPooling2D((2, 2)))\n",
    "model.add(layers.Conv2D(64, (3, 3), activation='relu'))\n",
    "\n",
    "model.add(layers.Flatten())\n",
    "model.add(layers.Dense(64, activation='relu'))\n",
    "model.add(layers.Dense(4, activation='softmax'))\n",
    "\n",
    "model.compile(optimizer='adam',\n",
    "                         loss='sparse_categorical_crossentropy',\n",
    "                         metrics=['accuracy'])\n"
   ]
  },
  {
   "cell_type": "code",
   "execution_count": 27,
   "metadata": {
    "scrolled": true
   },
   "outputs": [
    {
     "name": "stdout",
     "output_type": "stream",
     "text": [
      "Train on 7304 samples\n",
      "Epoch 1/10\n",
      "6048/7304 [=======================>......] - ETA: 40s - loss: 1.3928 - accuracy: 0.375 - ETA: 28s - loss: 1.3784 - accuracy: 0.343 - ETA: 24s - loss: 1.3472 - accuracy: 0.395 - ETA: 22s - loss: 1.3197 - accuracy: 0.406 - ETA: 20s - loss: 1.3304 - accuracy: 0.412 - ETA: 20s - loss: 1.3013 - accuracy: 0.416 - ETA: 19s - loss: 1.3052 - accuracy: 0.401 - ETA: 19s - loss: 1.3079 - accuracy: 0.378 - ETA: 18s - loss: 1.2997 - accuracy: 0.371 - ETA: 18s - loss: 1.2808 - accuracy: 0.393 - ETA: 18s - loss: 1.2704 - accuracy: 0.400 - ETA: 18s - loss: 1.2567 - accuracy: 0.408 - ETA: 18s - loss: 1.2485 - accuracy: 0.401 - ETA: 18s - loss: 1.2460 - accuracy: 0.392 - ETA: 17s - loss: 1.2389 - accuracy: 0.400 - ETA: 17s - loss: 1.2259 - accuracy: 0.408 - ETA: 17s - loss: 1.2134 - accuracy: 0.400 - ETA: 17s - loss: 1.1970 - accuracy: 0.413 - ETA: 17s - loss: 1.1881 - accuracy: 0.409 - ETA: 17s - loss: 1.1845 - accuracy: 0.407 - ETA: 17s - loss: 1.1785 - accuracy: 0.406 - ETA: 16s - loss: 1.1732 - accuracy: 0.404 - ETA: 16s - loss: 1.1642 - accuracy: 0.403 - ETA: 16s - loss: 1.1568 - accuracy: 0.403 - ETA: 16s - loss: 1.1465 - accuracy: 0.406 - ETA: 16s - loss: 1.1379 - accuracy: 0.407 - ETA: 16s - loss: 1.1301 - accuracy: 0.412 - ETA: 16s - loss: 1.1216 - accuracy: 0.409 - ETA: 16s - loss: 1.1151 - accuracy: 0.408 - ETA: 16s - loss: 1.1030 - accuracy: 0.413 - ETA: 15s - loss: 1.0950 - accuracy: 0.416 - ETA: 15s - loss: 1.0848 - accuracy: 0.427 - ETA: 15s - loss: 1.0749 - accuracy: 0.436 - ETA: 15s - loss: 1.0606 - accuracy: 0.447 - ETA: 15s - loss: 1.0489 - accuracy: 0.455 - ETA: 15s - loss: 1.0455 - accuracy: 0.456 - ETA: 15s - loss: 1.0371 - accuracy: 0.463 - ETA: 15s - loss: 1.0255 - accuracy: 0.472 - ETA: 15s - loss: 1.0149 - accuracy: 0.483 - ETA: 15s - loss: 1.0074 - accuracy: 0.489 - ETA: 15s - loss: 1.0024 - accuracy: 0.493 - ETA: 15s - loss: 0.9885 - accuracy: 0.504 - ETA: 14s - loss: 0.9816 - accuracy: 0.511 - ETA: 14s - loss: 0.9740 - accuracy: 0.517 - ETA: 14s - loss: 0.9624 - accuracy: 0.525 - ETA: 14s - loss: 0.9527 - accuracy: 0.531 - ETA: 14s - loss: 0.9492 - accuracy: 0.533 - ETA: 14s - loss: 0.9373 - accuracy: 0.540 - ETA: 14s - loss: 0.9365 - accuracy: 0.541 - ETA: 14s - loss: 0.9320 - accuracy: 0.541 - ETA: 14s - loss: 0.9246 - accuracy: 0.546 - ETA: 14s - loss: 0.9160 - accuracy: 0.551 - ETA: 14s - loss: 0.9094 - accuracy: 0.554 - ETA: 14s - loss: 0.9004 - accuracy: 0.560 - ETA: 13s - loss: 0.8921 - accuracy: 0.566 - ETA: 13s - loss: 0.8851 - accuracy: 0.570 - ETA: 13s - loss: 0.8799 - accuracy: 0.573 - ETA: 13s - loss: 0.8721 - accuracy: 0.579 - ETA: 13s - loss: 0.8647 - accuracy: 0.583 - ETA: 13s - loss: 0.8570 - accuracy: 0.587 - ETA: 13s - loss: 0.8520 - accuracy: 0.590 - ETA: 13s - loss: 0.8448 - accuracy: 0.595 - ETA: 13s - loss: 0.8421 - accuracy: 0.598 - ETA: 13s - loss: 0.8410 - accuracy: 0.601 - ETA: 13s - loss: 0.8337 - accuracy: 0.605 - ETA: 13s - loss: 0.8266 - accuracy: 0.609 - ETA: 13s - loss: 0.8239 - accuracy: 0.611 - ETA: 13s - loss: 0.8182 - accuracy: 0.614 - ETA: 12s - loss: 0.8133 - accuracy: 0.617 - ETA: 12s - loss: 0.8097 - accuracy: 0.621 - ETA: 12s - loss: 0.8037 - accuracy: 0.625 - ETA: 12s - loss: 0.7985 - accuracy: 0.628 - ETA: 12s - loss: 0.7926 - accuracy: 0.631 - ETA: 12s - loss: 0.7864 - accuracy: 0.635 - ETA: 12s - loss: 0.7831 - accuracy: 0.639 - ETA: 12s - loss: 0.7802 - accuracy: 0.641 - ETA: 12s - loss: 0.7734 - accuracy: 0.644 - ETA: 12s - loss: 0.7690 - accuracy: 0.647 - ETA: 12s - loss: 0.7641 - accuracy: 0.649 - ETA: 11s - loss: 0.7588 - accuracy: 0.653 - ETA: 11s - loss: 0.7542 - accuracy: 0.655 - ETA: 11s - loss: 0.7479 - accuracy: 0.659 - ETA: 11s - loss: 0.7424 - accuracy: 0.662 - ETA: 11s - loss: 0.7373 - accuracy: 0.665 - ETA: 11s - loss: 0.7339 - accuracy: 0.668 - ETA: 11s - loss: 0.7303 - accuracy: 0.670 - ETA: 11s - loss: 0.7271 - accuracy: 0.672 - ETA: 11s - loss: 0.7218 - accuracy: 0.675 - ETA: 11s - loss: 0.7162 - accuracy: 0.678 - ETA: 11s - loss: 0.7111 - accuracy: 0.680 - ETA: 11s - loss: 0.7072 - accuracy: 0.683 - ETA: 11s - loss: 0.7038 - accuracy: 0.684 - ETA: 10s - loss: 0.7000 - accuracy: 0.686 - ETA: 10s - loss: 0.6983 - accuracy: 0.687 - ETA: 10s - loss: 0.6974 - accuracy: 0.689 - ETA: 10s - loss: 0.6938 - accuracy: 0.691 - ETA: 10s - loss: 0.6918 - accuracy: 0.692 - ETA: 10s - loss: 0.6902 - accuracy: 0.692 - ETA: 10s - loss: 0.6927 - accuracy: 0.693 - ETA: 10s - loss: 0.6895 - accuracy: 0.695 - ETA: 10s - loss: 0.6887 - accuracy: 0.695 - ETA: 10s - loss: 0.6850 - accuracy: 0.697 - ETA: 10s - loss: 0.6818 - accuracy: 0.699 - ETA: 10s - loss: 0.6790 - accuracy: 0.699 - ETA: 9s - loss: 0.6755 - accuracy: 0.701 - ETA: 9s - loss: 0.6721 - accuracy: 0.70 - ETA: 9s - loss: 0.6718 - accuracy: 0.70 - ETA: 9s - loss: 0.6689 - accuracy: 0.70 - ETA: 9s - loss: 0.6649 - accuracy: 0.70 - ETA: 9s - loss: 0.6617 - accuracy: 0.70 - ETA: 9s - loss: 0.6613 - accuracy: 0.71 - ETA: 9s - loss: 0.6580 - accuracy: 0.71 - ETA: 9s - loss: 0.6555 - accuracy: 0.71 - ETA: 9s - loss: 0.6543 - accuracy: 0.71 - ETA: 9s - loss: 0.6518 - accuracy: 0.71 - ETA: 9s - loss: 0.6483 - accuracy: 0.71 - ETA: 8s - loss: 0.6443 - accuracy: 0.71 - ETA: 8s - loss: 0.6421 - accuracy: 0.71 - ETA: 8s - loss: 0.6391 - accuracy: 0.72 - ETA: 8s - loss: 0.6360 - accuracy: 0.72 - ETA: 8s - loss: 0.6336 - accuracy: 0.72 - ETA: 8s - loss: 0.6307 - accuracy: 0.72 - ETA: 8s - loss: 0.6284 - accuracy: 0.72 - ETA: 8s - loss: 0.6256 - accuracy: 0.72 - ETA: 8s - loss: 0.6226 - accuracy: 0.72 - ETA: 8s - loss: 0.6215 - accuracy: 0.72 - ETA: 8s - loss: 0.6194 - accuracy: 0.73 - ETA: 8s - loss: 0.6173 - accuracy: 0.73 - ETA: 8s - loss: 0.6146 - accuracy: 0.73 - ETA: 7s - loss: 0.6127 - accuracy: 0.73 - ETA: 7s - loss: 0.6098 - accuracy: 0.73 - ETA: 7s - loss: 0.6068 - accuracy: 0.73 - ETA: 7s - loss: 0.6045 - accuracy: 0.73 - ETA: 7s - loss: 0.6027 - accuracy: 0.73 - ETA: 7s - loss: 0.5998 - accuracy: 0.74 - ETA: 7s - loss: 0.5967 - accuracy: 0.74 - ETA: 7s - loss: 0.5952 - accuracy: 0.74 - ETA: 7s - loss: 0.5919 - accuracy: 0.74 - ETA: 7s - loss: 0.5913 - accuracy: 0.74 - ETA: 7s - loss: 0.5894 - accuracy: 0.74 - ETA: 7s - loss: 0.5892 - accuracy: 0.74 - ETA: 6s - loss: 0.5873 - accuracy: 0.74 - ETA: 6s - loss: 0.5846 - accuracy: 0.74 - ETA: 6s - loss: 0.5838 - accuracy: 0.74 - ETA: 6s - loss: 0.5804 - accuracy: 0.75 - ETA: 6s - loss: 0.5786 - accuracy: 0.75 - ETA: 6s - loss: 0.5766 - accuracy: 0.75 - ETA: 6s - loss: 0.5740 - accuracy: 0.75 - ETA: 6s - loss: 0.5739 - accuracy: 0.75 - ETA: 6s - loss: 0.5718 - accuracy: 0.75 - ETA: 6s - loss: 0.5691 - accuracy: 0.75 - ETA: 6s - loss: 0.5666 - accuracy: 0.75 - ETA: 6s - loss: 0.5654 - accuracy: 0.75 - ETA: 5s - loss: 0.5630 - accuracy: 0.75 - ETA: 5s - loss: 0.5607 - accuracy: 0.75 - ETA: 5s - loss: 0.5591 - accuracy: 0.76 - ETA: 5s - loss: 0.5568 - accuracy: 0.76 - ETA: 5s - loss: 0.5547 - accuracy: 0.76 - ETA: 5s - loss: 0.5530 - accuracy: 0.76 - ETA: 5s - loss: 0.5508 - accuracy: 0.76 - ETA: 5s - loss: 0.5482 - accuracy: 0.76 - ETA: 5s - loss: 0.5456 - accuracy: 0.76 - ETA: 5s - loss: 0.5439 - accuracy: 0.76 - ETA: 5s - loss: 0.5415 - accuracy: 0.76 - ETA: 5s - loss: 0.5392 - accuracy: 0.77 - ETA: 5s - loss: 0.5388 - accuracy: 0.77 - ETA: 4s - loss: 0.5367 - accuracy: 0.77 - ETA: 4s - loss: 0.5365 - accuracy: 0.77 - ETA: 4s - loss: 0.5345 - accuracy: 0.77 - ETA: 4s - loss: 0.5322 - accuracy: 0.77 - ETA: 4s - loss: 0.5299 - accuracy: 0.77 - ETA: 4s - loss: 0.5277 - accuracy: 0.77 - ETA: 4s - loss: 0.5253 - accuracy: 0.77 - ETA: 4s - loss: 0.5229 - accuracy: 0.77 - ETA: 4s - loss: 0.5209 - accuracy: 0.77 - ETA: 4s - loss: 0.5183 - accuracy: 0.78 - ETA: 4s - loss: 0.5164 - accuracy: 0.78 - ETA: 4s - loss: 0.5139 - accuracy: 0.78 - ETA: 3s - loss: 0.5117 - accuracy: 0.78 - ETA: 3s - loss: 0.5093 - accuracy: 0.78 - ETA: 3s - loss: 0.5092 - accuracy: 0.78 - ETA: 3s - loss: 0.5078 - accuracy: 0.78 - ETA: 3s - loss: 0.5054 - accuracy: 0.78 - ETA: 3s - loss: 0.5036 - accuracy: 0.78 - ETA: 3s - loss: 0.5013 - accuracy: 0.78 - ETA: 3s - loss: 0.4992 - accuracy: 0.78 - ETA: 3s - loss: 0.4977 - accuracy: 0.79 - ETA: 3s - loss: 0.4956 - accuracy: 0.79 - ETA: 3s - loss: 0.4938 - accuracy: 0.797304/7304 [==============================] - ETA: 3s - loss: 0.4916 - accuracy: 0.79 - ETA: 3s - loss: 0.4893 - accuracy: 0.79 - ETA: 2s - loss: 0.4873 - accuracy: 0.79 - ETA: 2s - loss: 0.4850 - accuracy: 0.79 - ETA: 2s - loss: 0.4828 - accuracy: 0.79 - ETA: 2s - loss: 0.4821 - accuracy: 0.79 - ETA: 2s - loss: 0.4804 - accuracy: 0.79 - ETA: 2s - loss: 0.4782 - accuracy: 0.79 - ETA: 2s - loss: 0.4766 - accuracy: 0.80 - ETA: 2s - loss: 0.4744 - accuracy: 0.80 - ETA: 2s - loss: 0.4724 - accuracy: 0.80 - ETA: 2s - loss: 0.4706 - accuracy: 0.80 - ETA: 2s - loss: 0.4686 - accuracy: 0.80 - ETA: 2s - loss: 0.4665 - accuracy: 0.80 - ETA: 1s - loss: 0.4644 - accuracy: 0.80 - ETA: 1s - loss: 0.4628 - accuracy: 0.80 - ETA: 1s - loss: 0.4613 - accuracy: 0.80 - ETA: 1s - loss: 0.4594 - accuracy: 0.80 - ETA: 1s - loss: 0.4574 - accuracy: 0.80 - ETA: 1s - loss: 0.4554 - accuracy: 0.81 - ETA: 1s - loss: 0.4534 - accuracy: 0.81 - ETA: 1s - loss: 0.4516 - accuracy: 0.81 - ETA: 1s - loss: 0.4496 - accuracy: 0.81 - ETA: 1s - loss: 0.4477 - accuracy: 0.81 - ETA: 1s - loss: 0.4459 - accuracy: 0.81 - ETA: 1s - loss: 0.4439 - accuracy: 0.81 - ETA: 1s - loss: 0.4420 - accuracy: 0.81 - ETA: 0s - loss: 0.4404 - accuracy: 0.81 - ETA: 0s - loss: 0.4386 - accuracy: 0.81 - ETA: 0s - loss: 0.4366 - accuracy: 0.81 - ETA: 0s - loss: 0.4349 - accuracy: 0.81 - ETA: 0s - loss: 0.4342 - accuracy: 0.81 - ETA: 0s - loss: 0.4323 - accuracy: 0.82 - ETA: 0s - loss: 0.4306 - accuracy: 0.82 - ETA: 0s - loss: 0.4287 - accuracy: 0.82 - ETA: 0s - loss: 0.4269 - accuracy: 0.82 - ETA: 0s - loss: 0.4257 - accuracy: 0.82 - ETA: 0s - loss: 0.4238 - accuracy: 0.82 - ETA: 0s - loss: 0.4221 - accuracy: 0.82 - 19s 3ms/sample - loss: 0.4217 - accuracy: 0.8254\n",
      "Epoch 2/10\n"
     ]
    },
    {
     "name": "stdout",
     "output_type": "stream",
     "text": [
      "6080/7304 [=======================>......] - ETA: 16s - loss: 0.0672 - accuracy: 0.968 - ETA: 16s - loss: 0.0649 - accuracy: 0.968 - ETA: 17s - loss: 0.0620 - accuracy: 0.979 - ETA: 17s - loss: 0.0579 - accuracy: 0.984 - ETA: 17s - loss: 0.0509 - accuracy: 0.987 - ETA: 17s - loss: 0.0445 - accuracy: 0.989 - ETA: 17s - loss: 0.0472 - accuracy: 0.986 - ETA: 17s - loss: 0.0588 - accuracy: 0.984 - ETA: 17s - loss: 0.0712 - accuracy: 0.982 - ETA: 17s - loss: 0.0805 - accuracy: 0.978 - ETA: 17s - loss: 0.0867 - accuracy: 0.974 - ETA: 16s - loss: 0.0822 - accuracy: 0.976 - ETA: 16s - loss: 0.0866 - accuracy: 0.971 - ETA: 16s - loss: 0.0949 - accuracy: 0.966 - ETA: 16s - loss: 0.0984 - accuracy: 0.964 - ETA: 16s - loss: 0.0981 - accuracy: 0.964 - ETA: 16s - loss: 0.0950 - accuracy: 0.966 - ETA: 16s - loss: 0.1099 - accuracy: 0.965 - ETA: 16s - loss: 0.1116 - accuracy: 0.965 - ETA: 16s - loss: 0.1075 - accuracy: 0.967 - ETA: 16s - loss: 0.1063 - accuracy: 0.967 - ETA: 16s - loss: 0.1035 - accuracy: 0.968 - ETA: 16s - loss: 0.1063 - accuracy: 0.967 - ETA: 16s - loss: 0.1039 - accuracy: 0.968 - ETA: 15s - loss: 0.1060 - accuracy: 0.967 - ETA: 15s - loss: 0.1083 - accuracy: 0.966 - ETA: 15s - loss: 0.1110 - accuracy: 0.965 - ETA: 15s - loss: 0.1090 - accuracy: 0.966 - ETA: 15s - loss: 0.1092 - accuracy: 0.966 - ETA: 15s - loss: 0.1061 - accuracy: 0.967 - ETA: 15s - loss: 0.1036 - accuracy: 0.968 - ETA: 15s - loss: 0.1008 - accuracy: 0.969 - ETA: 15s - loss: 0.1024 - accuracy: 0.968 - ETA: 15s - loss: 0.0997 - accuracy: 0.969 - ETA: 15s - loss: 0.0978 - accuracy: 0.970 - ETA: 15s - loss: 0.0964 - accuracy: 0.971 - ETA: 15s - loss: 0.0945 - accuracy: 0.972 - ETA: 14s - loss: 0.0922 - accuracy: 0.972 - ETA: 14s - loss: 0.0905 - accuracy: 0.973 - ETA: 14s - loss: 0.0907 - accuracy: 0.972 - ETA: 14s - loss: 0.0910 - accuracy: 0.972 - ETA: 14s - loss: 0.0891 - accuracy: 0.973 - ETA: 14s - loss: 0.0900 - accuracy: 0.973 - ETA: 14s - loss: 0.0913 - accuracy: 0.973 - ETA: 14s - loss: 0.0895 - accuracy: 0.973 - ETA: 14s - loss: 0.0963 - accuracy: 0.970 - ETA: 14s - loss: 0.0944 - accuracy: 0.971 - ETA: 14s - loss: 0.0959 - accuracy: 0.970 - ETA: 14s - loss: 0.1000 - accuracy: 0.969 - ETA: 14s - loss: 0.0987 - accuracy: 0.970 - ETA: 14s - loss: 0.1000 - accuracy: 0.968 - ETA: 13s - loss: 0.1027 - accuracy: 0.966 - ETA: 13s - loss: 0.1009 - accuracy: 0.967 - ETA: 13s - loss: 0.1043 - accuracy: 0.965 - ETA: 13s - loss: 0.1039 - accuracy: 0.966 - ETA: 13s - loss: 0.1026 - accuracy: 0.967 - ETA: 13s - loss: 0.1036 - accuracy: 0.966 - ETA: 13s - loss: 0.1030 - accuracy: 0.966 - ETA: 13s - loss: 0.1017 - accuracy: 0.967 - ETA: 13s - loss: 0.1009 - accuracy: 0.967 - ETA: 13s - loss: 0.0998 - accuracy: 0.967 - ETA: 13s - loss: 0.0989 - accuracy: 0.968 - ETA: 13s - loss: 0.1005 - accuracy: 0.967 - ETA: 13s - loss: 0.0990 - accuracy: 0.968 - ETA: 12s - loss: 0.0981 - accuracy: 0.968 - ETA: 12s - loss: 0.0975 - accuracy: 0.969 - ETA: 12s - loss: 0.0991 - accuracy: 0.967 - ETA: 12s - loss: 0.0977 - accuracy: 0.968 - ETA: 12s - loss: 0.0973 - accuracy: 0.968 - ETA: 12s - loss: 0.1038 - accuracy: 0.964 - ETA: 12s - loss: 0.1027 - accuracy: 0.965 - ETA: 12s - loss: 0.1090 - accuracy: 0.962 - ETA: 12s - loss: 0.1148 - accuracy: 0.959 - ETA: 12s - loss: 0.1133 - accuracy: 0.959 - ETA: 12s - loss: 0.1211 - accuracy: 0.957 - ETA: 12s - loss: 0.1211 - accuracy: 0.956 - ETA: 12s - loss: 0.1198 - accuracy: 0.957 - ETA: 11s - loss: 0.1190 - accuracy: 0.957 - ETA: 11s - loss: 0.1196 - accuracy: 0.957 - ETA: 11s - loss: 0.1189 - accuracy: 0.957 - ETA: 11s - loss: 0.1179 - accuracy: 0.957 - ETA: 11s - loss: 0.1167 - accuracy: 0.958 - ETA: 11s - loss: 0.1159 - accuracy: 0.958 - ETA: 11s - loss: 0.1149 - accuracy: 0.959 - ETA: 11s - loss: 0.1143 - accuracy: 0.959 - ETA: 11s - loss: 0.1133 - accuracy: 0.959 - ETA: 11s - loss: 0.1122 - accuracy: 0.960 - ETA: 11s - loss: 0.1113 - accuracy: 0.960 - ETA: 11s - loss: 0.1110 - accuracy: 0.960 - ETA: 11s - loss: 0.1099 - accuracy: 0.961 - ETA: 11s - loss: 0.1089 - accuracy: 0.961 - ETA: 10s - loss: 0.1079 - accuracy: 0.962 - ETA: 10s - loss: 0.1070 - accuracy: 0.962 - ETA: 10s - loss: 0.1066 - accuracy: 0.962 - ETA: 10s - loss: 0.1069 - accuracy: 0.962 - ETA: 10s - loss: 0.1060 - accuracy: 0.962 - ETA: 10s - loss: 0.1051 - accuracy: 0.963 - ETA: 10s - loss: 0.1051 - accuracy: 0.963 - ETA: 10s - loss: 0.1044 - accuracy: 0.963 - ETA: 10s - loss: 0.1038 - accuracy: 0.963 - ETA: 10s - loss: 0.1030 - accuracy: 0.964 - ETA: 10s - loss: 0.1021 - accuracy: 0.964 - ETA: 10s - loss: 0.1013 - accuracy: 0.964 - ETA: 9s - loss: 0.1009 - accuracy: 0.964 - ETA: 9s - loss: 0.1004 - accuracy: 0.96 - ETA: 9s - loss: 0.0999 - accuracy: 0.96 - ETA: 9s - loss: 0.0991 - accuracy: 0.96 - ETA: 9s - loss: 0.0984 - accuracy: 0.96 - ETA: 9s - loss: 0.0992 - accuracy: 0.96 - ETA: 9s - loss: 0.0987 - accuracy: 0.96 - ETA: 9s - loss: 0.0985 - accuracy: 0.96 - ETA: 9s - loss: 0.0977 - accuracy: 0.96 - ETA: 9s - loss: 0.0969 - accuracy: 0.96 - ETA: 9s - loss: 0.0969 - accuracy: 0.96 - ETA: 9s - loss: 0.0974 - accuracy: 0.96 - ETA: 9s - loss: 0.0969 - accuracy: 0.96 - ETA: 8s - loss: 0.0964 - accuracy: 0.96 - ETA: 8s - loss: 0.0966 - accuracy: 0.96 - ETA: 8s - loss: 0.0960 - accuracy: 0.96 - ETA: 8s - loss: 0.0953 - accuracy: 0.96 - ETA: 8s - loss: 0.0949 - accuracy: 0.96 - ETA: 8s - loss: 0.0943 - accuracy: 0.96 - ETA: 8s - loss: 0.0936 - accuracy: 0.96 - ETA: 8s - loss: 0.0929 - accuracy: 0.96 - ETA: 8s - loss: 0.0928 - accuracy: 0.96 - ETA: 8s - loss: 0.0924 - accuracy: 0.96 - ETA: 8s - loss: 0.0918 - accuracy: 0.96 - ETA: 8s - loss: 0.0913 - accuracy: 0.96 - ETA: 7s - loss: 0.0907 - accuracy: 0.96 - ETA: 7s - loss: 0.0900 - accuracy: 0.96 - ETA: 7s - loss: 0.0894 - accuracy: 0.96 - ETA: 7s - loss: 0.0888 - accuracy: 0.96 - ETA: 7s - loss: 0.0882 - accuracy: 0.97 - ETA: 7s - loss: 0.0876 - accuracy: 0.97 - ETA: 7s - loss: 0.0870 - accuracy: 0.97 - ETA: 7s - loss: 0.0864 - accuracy: 0.97 - ETA: 7s - loss: 0.0859 - accuracy: 0.97 - ETA: 7s - loss: 0.0853 - accuracy: 0.97 - ETA: 7s - loss: 0.0847 - accuracy: 0.97 - ETA: 7s - loss: 0.0841 - accuracy: 0.97 - ETA: 6s - loss: 0.0836 - accuracy: 0.97 - ETA: 6s - loss: 0.0831 - accuracy: 0.97 - ETA: 6s - loss: 0.0826 - accuracy: 0.97 - ETA: 6s - loss: 0.0821 - accuracy: 0.97 - ETA: 6s - loss: 0.0816 - accuracy: 0.97 - ETA: 6s - loss: 0.0812 - accuracy: 0.97 - ETA: 6s - loss: 0.0810 - accuracy: 0.97 - ETA: 6s - loss: 0.0805 - accuracy: 0.97 - ETA: 6s - loss: 0.0800 - accuracy: 0.97 - ETA: 6s - loss: 0.0800 - accuracy: 0.97 - ETA: 6s - loss: 0.0795 - accuracy: 0.97 - ETA: 6s - loss: 0.0790 - accuracy: 0.97 - ETA: 6s - loss: 0.0785 - accuracy: 0.97 - ETA: 5s - loss: 0.0780 - accuracy: 0.97 - ETA: 5s - loss: 0.0776 - accuracy: 0.97 - ETA: 5s - loss: 0.0771 - accuracy: 0.97 - ETA: 5s - loss: 0.0767 - accuracy: 0.97 - ETA: 5s - loss: 0.0764 - accuracy: 0.97 - ETA: 5s - loss: 0.0759 - accuracy: 0.97 - ETA: 5s - loss: 0.0755 - accuracy: 0.97 - ETA: 5s - loss: 0.0751 - accuracy: 0.97 - ETA: 5s - loss: 0.0746 - accuracy: 0.97 - ETA: 5s - loss: 0.0749 - accuracy: 0.97 - ETA: 5s - loss: 0.0745 - accuracy: 0.97 - ETA: 5s - loss: 0.0741 - accuracy: 0.97 - ETA: 4s - loss: 0.0739 - accuracy: 0.97 - ETA: 4s - loss: 0.0736 - accuracy: 0.97 - ETA: 4s - loss: 0.0732 - accuracy: 0.97 - ETA: 4s - loss: 0.0728 - accuracy: 0.97 - ETA: 4s - loss: 0.0727 - accuracy: 0.97 - ETA: 4s - loss: 0.0726 - accuracy: 0.97 - ETA: 4s - loss: 0.0722 - accuracy: 0.97 - ETA: 4s - loss: 0.0718 - accuracy: 0.97 - ETA: 4s - loss: 0.0715 - accuracy: 0.97 - ETA: 4s - loss: 0.0711 - accuracy: 0.97 - ETA: 4s - loss: 0.0707 - accuracy: 0.97 - ETA: 4s - loss: 0.0705 - accuracy: 0.97 - ETA: 4s - loss: 0.0702 - accuracy: 0.97 - ETA: 3s - loss: 0.0699 - accuracy: 0.97 - ETA: 3s - loss: 0.0695 - accuracy: 0.97 - ETA: 3s - loss: 0.0691 - accuracy: 0.97 - ETA: 3s - loss: 0.0687 - accuracy: 0.97 - ETA: 3s - loss: 0.0685 - accuracy: 0.97 - ETA: 3s - loss: 0.0682 - accuracy: 0.97 - ETA: 3s - loss: 0.0678 - accuracy: 0.97 - ETA: 3s - loss: 0.0675 - accuracy: 0.97 - ETA: 3s - loss: 0.0672 - accuracy: 0.97 - ETA: 3s - loss: 0.0668 - accuracy: 0.97 - ETA: 3s - loss: 0.0665 - accuracy: 0.97 - ETA: 3s - loss: 0.0662 - accuracy: 0.9783"
     ]
    },
    {
     "name": "stdout",
     "output_type": "stream",
     "text": [
      "7304/7304 [==============================] - ETA: 3s - loss: 0.0658 - accuracy: 0.97 - ETA: 2s - loss: 0.0656 - accuracy: 0.97 - ETA: 2s - loss: 0.0652 - accuracy: 0.97 - ETA: 2s - loss: 0.0649 - accuracy: 0.97 - ETA: 2s - loss: 0.0646 - accuracy: 0.97 - ETA: 2s - loss: 0.0647 - accuracy: 0.97 - ETA: 2s - loss: 0.0644 - accuracy: 0.97 - ETA: 2s - loss: 0.0641 - accuracy: 0.97 - ETA: 2s - loss: 0.0638 - accuracy: 0.97 - ETA: 2s - loss: 0.0635 - accuracy: 0.97 - ETA: 2s - loss: 0.0632 - accuracy: 0.97 - ETA: 2s - loss: 0.0629 - accuracy: 0.97 - ETA: 2s - loss: 0.0627 - accuracy: 0.97 - ETA: 1s - loss: 0.0624 - accuracy: 0.97 - ETA: 1s - loss: 0.0621 - accuracy: 0.97 - ETA: 1s - loss: 0.0618 - accuracy: 0.97 - ETA: 1s - loss: 0.0615 - accuracy: 0.97 - ETA: 1s - loss: 0.0613 - accuracy: 0.98 - ETA: 1s - loss: 0.0610 - accuracy: 0.98 - ETA: 1s - loss: 0.0607 - accuracy: 0.98 - ETA: 1s - loss: 0.0605 - accuracy: 0.98 - ETA: 1s - loss: 0.0602 - accuracy: 0.98 - ETA: 1s - loss: 0.0600 - accuracy: 0.98 - ETA: 1s - loss: 0.0597 - accuracy: 0.98 - ETA: 1s - loss: 0.0594 - accuracy: 0.98 - ETA: 1s - loss: 0.0591 - accuracy: 0.98 - ETA: 0s - loss: 0.0589 - accuracy: 0.98 - ETA: 0s - loss: 0.0587 - accuracy: 0.98 - ETA: 0s - loss: 0.0584 - accuracy: 0.98 - ETA: 0s - loss: 0.0583 - accuracy: 0.98 - ETA: 0s - loss: 0.0580 - accuracy: 0.98 - ETA: 0s - loss: 0.0578 - accuracy: 0.98 - ETA: 0s - loss: 0.0576 - accuracy: 0.98 - ETA: 0s - loss: 0.0574 - accuracy: 0.98 - ETA: 0s - loss: 0.0572 - accuracy: 0.98 - ETA: 0s - loss: 0.0569 - accuracy: 0.98 - ETA: 0s - loss: 0.0567 - accuracy: 0.98 - ETA: 0s - loss: 0.0567 - accuracy: 0.98 - 19s 3ms/sample - loss: 0.0566 - accuracy: 0.9815\n",
      "Epoch 3/10\n",
      "6048/7304 [=======================>......] - ETA: 17s - loss: 0.0095 - accuracy: 1.000 - ETA: 19s - loss: 0.0056 - accuracy: 1.000 - ETA: 18s - loss: 0.0043 - accuracy: 1.000 - ETA: 17s - loss: 0.0042 - accuracy: 1.000 - ETA: 17s - loss: 0.0057 - accuracy: 1.000 - ETA: 17s - loss: 0.0071 - accuracy: 1.000 - ETA: 17s - loss: 0.0066 - accuracy: 1.000 - ETA: 17s - loss: 0.0059 - accuracy: 1.000 - ETA: 17s - loss: 0.0054 - accuracy: 1.000 - ETA: 17s - loss: 0.0056 - accuracy: 1.000 - ETA: 17s - loss: 0.0057 - accuracy: 1.000 - ETA: 17s - loss: 0.0054 - accuracy: 1.000 - ETA: 17s - loss: 0.0053 - accuracy: 1.000 - ETA: 17s - loss: 0.0050 - accuracy: 1.000 - ETA: 17s - loss: 0.0049 - accuracy: 1.000 - ETA: 17s - loss: 0.0050 - accuracy: 1.000 - ETA: 17s - loss: 0.0047 - accuracy: 1.000 - ETA: 17s - loss: 0.0051 - accuracy: 1.000 - ETA: 17s - loss: 0.0051 - accuracy: 1.000 - ETA: 16s - loss: 0.0050 - accuracy: 1.000 - ETA: 17s - loss: 0.0048 - accuracy: 1.000 - ETA: 16s - loss: 0.0047 - accuracy: 1.000 - ETA: 17s - loss: 0.0046 - accuracy: 1.000 - ETA: 17s - loss: 0.0045 - accuracy: 1.000 - ETA: 16s - loss: 0.0044 - accuracy: 1.000 - ETA: 16s - loss: 0.0042 - accuracy: 1.000 - ETA: 16s - loss: 0.0042 - accuracy: 1.000 - ETA: 16s - loss: 0.0041 - accuracy: 1.000 - ETA: 16s - loss: 0.0040 - accuracy: 1.000 - ETA: 16s - loss: 0.0041 - accuracy: 1.000 - ETA: 16s - loss: 0.0040 - accuracy: 1.000 - ETA: 16s - loss: 0.0039 - accuracy: 1.000 - ETA: 16s - loss: 0.0038 - accuracy: 1.000 - ETA: 16s - loss: 0.0040 - accuracy: 1.000 - ETA: 16s - loss: 0.0039 - accuracy: 1.000 - ETA: 16s - loss: 0.0039 - accuracy: 1.000 - ETA: 16s - loss: 0.0038 - accuracy: 1.000 - ETA: 16s - loss: 0.0037 - accuracy: 1.000 - ETA: 16s - loss: 0.0036 - accuracy: 1.000 - ETA: 16s - loss: 0.0036 - accuracy: 1.000 - ETA: 15s - loss: 0.0035 - accuracy: 1.000 - ETA: 15s - loss: 0.0034 - accuracy: 1.000 - ETA: 15s - loss: 0.0034 - accuracy: 1.000 - ETA: 15s - loss: 0.0033 - accuracy: 1.000 - ETA: 15s - loss: 0.0033 - accuracy: 1.000 - ETA: 15s - loss: 0.0032 - accuracy: 1.000 - ETA: 15s - loss: 0.0032 - accuracy: 1.000 - ETA: 15s - loss: 0.0032 - accuracy: 1.000 - ETA: 15s - loss: 0.0039 - accuracy: 0.999 - ETA: 15s - loss: 0.0039 - accuracy: 0.999 - ETA: 15s - loss: 0.0040 - accuracy: 0.999 - ETA: 15s - loss: 0.0039 - accuracy: 0.999 - ETA: 15s - loss: 0.0038 - accuracy: 0.999 - ETA: 14s - loss: 0.0038 - accuracy: 0.999 - ETA: 14s - loss: 0.0038 - accuracy: 0.999 - ETA: 14s - loss: 0.0037 - accuracy: 0.999 - ETA: 14s - loss: 0.0037 - accuracy: 0.999 - ETA: 14s - loss: 0.0036 - accuracy: 0.999 - ETA: 14s - loss: 0.0036 - accuracy: 0.999 - ETA: 14s - loss: 0.0036 - accuracy: 0.999 - ETA: 14s - loss: 0.0036 - accuracy: 0.999 - ETA: 14s - loss: 0.0035 - accuracy: 0.999 - ETA: 14s - loss: 0.0036 - accuracy: 0.999 - ETA: 14s - loss: 0.0036 - accuracy: 0.999 - ETA: 14s - loss: 0.0035 - accuracy: 0.999 - ETA: 13s - loss: 0.0035 - accuracy: 0.999 - ETA: 13s - loss: 0.0035 - accuracy: 0.999 - ETA: 13s - loss: 0.0035 - accuracy: 0.999 - ETA: 13s - loss: 0.0035 - accuracy: 0.999 - ETA: 13s - loss: 0.0035 - accuracy: 0.999 - ETA: 13s - loss: 0.0035 - accuracy: 0.999 - ETA: 13s - loss: 0.0035 - accuracy: 0.999 - ETA: 13s - loss: 0.0034 - accuracy: 0.999 - ETA: 13s - loss: 0.0034 - accuracy: 0.999 - ETA: 13s - loss: 0.0043 - accuracy: 0.999 - ETA: 13s - loss: 0.0043 - accuracy: 0.999 - ETA: 12s - loss: 0.0051 - accuracy: 0.998 - ETA: 12s - loss: 0.0052 - accuracy: 0.998 - ETA: 12s - loss: 0.0051 - accuracy: 0.998 - ETA: 12s - loss: 0.0051 - accuracy: 0.998 - ETA: 12s - loss: 0.0051 - accuracy: 0.998 - ETA: 12s - loss: 0.0050 - accuracy: 0.998 - ETA: 12s - loss: 0.0052 - accuracy: 0.998 - ETA: 12s - loss: 0.0052 - accuracy: 0.998 - ETA: 12s - loss: 0.0053 - accuracy: 0.998 - ETA: 12s - loss: 0.0053 - accuracy: 0.998 - ETA: 12s - loss: 0.0052 - accuracy: 0.998 - ETA: 12s - loss: 0.0052 - accuracy: 0.998 - ETA: 12s - loss: 0.0052 - accuracy: 0.998 - ETA: 11s - loss: 0.0052 - accuracy: 0.999 - ETA: 11s - loss: 0.0051 - accuracy: 0.999 - ETA: 11s - loss: 0.0051 - accuracy: 0.999 - ETA: 11s - loss: 0.0051 - accuracy: 0.999 - ETA: 11s - loss: 0.0051 - accuracy: 0.999 - ETA: 11s - loss: 0.0051 - accuracy: 0.999 - ETA: 11s - loss: 0.0050 - accuracy: 0.999 - ETA: 11s - loss: 0.0050 - accuracy: 0.999 - ETA: 11s - loss: 0.0050 - accuracy: 0.999 - ETA: 11s - loss: 0.0049 - accuracy: 0.999 - ETA: 11s - loss: 0.0049 - accuracy: 0.999 - ETA: 11s - loss: 0.0048 - accuracy: 0.999 - ETA: 10s - loss: 0.0050 - accuracy: 0.999 - ETA: 10s - loss: 0.0049 - accuracy: 0.999 - ETA: 10s - loss: 0.0049 - accuracy: 0.999 - ETA: 10s - loss: 0.0049 - accuracy: 0.999 - ETA: 10s - loss: 0.0049 - accuracy: 0.999 - ETA: 10s - loss: 0.0048 - accuracy: 0.999 - ETA: 10s - loss: 0.0052 - accuracy: 0.999 - ETA: 10s - loss: 0.0052 - accuracy: 0.999 - ETA: 10s - loss: 0.0052 - accuracy: 0.999 - ETA: 10s - loss: 0.0053 - accuracy: 0.999 - ETA: 10s - loss: 0.0052 - accuracy: 0.999 - ETA: 10s - loss: 0.0054 - accuracy: 0.999 - ETA: 9s - loss: 0.0055 - accuracy: 0.999 - ETA: 9s - loss: 0.0055 - accuracy: 0.99 - ETA: 9s - loss: 0.0055 - accuracy: 0.99 - ETA: 9s - loss: 0.0055 - accuracy: 0.99 - ETA: 9s - loss: 0.0054 - accuracy: 0.99 - ETA: 9s - loss: 0.0056 - accuracy: 0.99 - ETA: 9s - loss: 0.0057 - accuracy: 0.99 - ETA: 9s - loss: 0.0059 - accuracy: 0.99 - ETA: 9s - loss: 0.0060 - accuracy: 0.99 - ETA: 9s - loss: 0.0059 - accuracy: 0.99 - ETA: 9s - loss: 0.0059 - accuracy: 0.99 - ETA: 9s - loss: 0.0059 - accuracy: 0.99 - ETA: 8s - loss: 0.0063 - accuracy: 0.99 - ETA: 8s - loss: 0.0063 - accuracy: 0.99 - ETA: 8s - loss: 0.0063 - accuracy: 0.99 - ETA: 8s - loss: 0.0062 - accuracy: 0.99 - ETA: 8s - loss: 0.0066 - accuracy: 0.99 - ETA: 8s - loss: 0.0066 - accuracy: 0.99 - ETA: 8s - loss: 0.0066 - accuracy: 0.99 - ETA: 8s - loss: 0.0066 - accuracy: 0.99 - ETA: 8s - loss: 0.0065 - accuracy: 0.99 - ETA: 8s - loss: 0.0066 - accuracy: 0.99 - ETA: 8s - loss: 0.0066 - accuracy: 0.99 - ETA: 7s - loss: 0.0066 - accuracy: 0.99 - ETA: 7s - loss: 0.0065 - accuracy: 0.99 - ETA: 7s - loss: 0.0065 - accuracy: 0.99 - ETA: 7s - loss: 0.0065 - accuracy: 0.99 - ETA: 7s - loss: 0.0065 - accuracy: 0.99 - ETA: 7s - loss: 0.0064 - accuracy: 0.99 - ETA: 7s - loss: 0.0066 - accuracy: 0.99 - ETA: 7s - loss: 0.0067 - accuracy: 0.99 - ETA: 7s - loss: 0.0068 - accuracy: 0.99 - ETA: 7s - loss: 0.0068 - accuracy: 0.99 - ETA: 7s - loss: 0.0068 - accuracy: 0.99 - ETA: 6s - loss: 0.0067 - accuracy: 0.99 - ETA: 6s - loss: 0.0067 - accuracy: 0.99 - ETA: 6s - loss: 0.0070 - accuracy: 0.99 - ETA: 6s - loss: 0.0070 - accuracy: 0.99 - ETA: 6s - loss: 0.0072 - accuracy: 0.99 - ETA: 6s - loss: 0.0072 - accuracy: 0.99 - ETA: 6s - loss: 0.0072 - accuracy: 0.99 - ETA: 6s - loss: 0.0072 - accuracy: 0.99 - ETA: 6s - loss: 0.0078 - accuracy: 0.99 - ETA: 6s - loss: 0.0079 - accuracy: 0.99 - ETA: 6s - loss: 0.0078 - accuracy: 0.99 - ETA: 6s - loss: 0.0078 - accuracy: 0.99 - ETA: 5s - loss: 0.0078 - accuracy: 0.99 - ETA: 5s - loss: 0.0083 - accuracy: 0.99 - ETA: 5s - loss: 0.0083 - accuracy: 0.99 - ETA: 5s - loss: 0.0083 - accuracy: 0.99 - ETA: 5s - loss: 0.0082 - accuracy: 0.99 - ETA: 5s - loss: 0.0087 - accuracy: 0.99 - ETA: 5s - loss: 0.0088 - accuracy: 0.99 - ETA: 5s - loss: 0.0088 - accuracy: 0.99 - ETA: 5s - loss: 0.0087 - accuracy: 0.99 - ETA: 5s - loss: 0.0087 - accuracy: 0.99 - ETA: 5s - loss: 0.0089 - accuracy: 0.99 - ETA: 4s - loss: 0.0094 - accuracy: 0.99 - ETA: 4s - loss: 0.0094 - accuracy: 0.99 - ETA: 4s - loss: 0.0094 - accuracy: 0.99 - ETA: 4s - loss: 0.0093 - accuracy: 0.99 - ETA: 4s - loss: 0.0093 - accuracy: 0.99 - ETA: 4s - loss: 0.0094 - accuracy: 0.99 - ETA: 4s - loss: 0.0094 - accuracy: 0.99 - ETA: 4s - loss: 0.0097 - accuracy: 0.99 - ETA: 4s - loss: 0.0097 - accuracy: 0.99 - ETA: 4s - loss: 0.0096 - accuracy: 0.99 - ETA: 4s - loss: 0.0097 - accuracy: 0.99 - ETA: 3s - loss: 0.0106 - accuracy: 0.99 - ETA: 3s - loss: 0.0106 - accuracy: 0.99 - ETA: 3s - loss: 0.0109 - accuracy: 0.99 - ETA: 3s - loss: 0.0120 - accuracy: 0.99 - ETA: 3s - loss: 0.0120 - accuracy: 0.99 - ETA: 3s - loss: 0.0122 - accuracy: 0.99 - ETA: 3s - loss: 0.0137 - accuracy: 0.99 - ETA: 3s - loss: 0.0137 - accuracy: 0.99607304/7304 [==============================] - ETA: 3s - loss: 0.0136 - accuracy: 0.99 - ETA: 3s - loss: 0.0148 - accuracy: 0.99 - ETA: 3s - loss: 0.0147 - accuracy: 0.99 - ETA: 3s - loss: 0.0146 - accuracy: 0.99 - ETA: 2s - loss: 0.0153 - accuracy: 0.99 - ETA: 2s - loss: 0.0153 - accuracy: 0.99 - ETA: 2s - loss: 0.0153 - accuracy: 0.99 - ETA: 2s - loss: 0.0152 - accuracy: 0.99 - ETA: 2s - loss: 0.0152 - accuracy: 0.99 - ETA: 2s - loss: 0.0155 - accuracy: 0.99 - ETA: 2s - loss: 0.0155 - accuracy: 0.99 - ETA: 2s - loss: 0.0154 - accuracy: 0.99 - ETA: 2s - loss: 0.0153 - accuracy: 0.99 - ETA: 2s - loss: 0.0153 - accuracy: 0.99 - ETA: 2s - loss: 0.0153 - accuracy: 0.99 - ETA: 1s - loss: 0.0153 - accuracy: 0.99 - ETA: 1s - loss: 0.0152 - accuracy: 0.99 - ETA: 1s - loss: 0.0152 - accuracy: 0.99 - ETA: 1s - loss: 0.0151 - accuracy: 0.99 - ETA: 1s - loss: 0.0151 - accuracy: 0.99 - ETA: 1s - loss: 0.0150 - accuracy: 0.99 - ETA: 1s - loss: 0.0149 - accuracy: 0.99 - ETA: 1s - loss: 0.0149 - accuracy: 0.99 - ETA: 1s - loss: 0.0148 - accuracy: 0.99 - ETA: 1s - loss: 0.0148 - accuracy: 0.99 - ETA: 1s - loss: 0.0147 - accuracy: 0.99 - ETA: 1s - loss: 0.0147 - accuracy: 0.99 - ETA: 0s - loss: 0.0146 - accuracy: 0.99 - ETA: 0s - loss: 0.0151 - accuracy: 0.99 - ETA: 0s - loss: 0.0150 - accuracy: 0.99 - ETA: 0s - loss: 0.0150 - accuracy: 0.99 - ETA: 0s - loss: 0.0150 - accuracy: 0.99 - ETA: 0s - loss: 0.0149 - accuracy: 0.99 - ETA: 0s - loss: 0.0149 - accuracy: 0.99 - ETA: 0s - loss: 0.0148 - accuracy: 0.99 - ETA: 0s - loss: 0.0149 - accuracy: 0.99 - ETA: 0s - loss: 0.0148 - accuracy: 0.99 - ETA: 0s - loss: 0.0147 - accuracy: 0.99 - ETA: 0s - loss: 0.0147 - accuracy: 0.99 - 19s 3ms/sample - loss: 0.0147 - accuracy: 0.9953\n",
      "Epoch 4/10\n"
     ]
    },
    {
     "name": "stdout",
     "output_type": "stream",
     "text": [
      "6048/7304 [=======================>......] - ETA: 18s - loss: 0.0060 - accuracy: 1.000 - ETA: 17s - loss: 0.0033 - accuracy: 1.000 - ETA: 17s - loss: 0.0029 - accuracy: 1.000 - ETA: 17s - loss: 0.0025 - accuracy: 1.000 - ETA: 17s - loss: 0.0026 - accuracy: 1.000 - ETA: 17s - loss: 0.0024 - accuracy: 1.000 - ETA: 17s - loss: 0.0023 - accuracy: 1.000 - ETA: 17s - loss: 0.0021 - accuracy: 1.000 - ETA: 17s - loss: 0.0024 - accuracy: 1.000 - ETA: 17s - loss: 0.0023 - accuracy: 1.000 - ETA: 17s - loss: 0.0021 - accuracy: 1.000 - ETA: 16s - loss: 0.0025 - accuracy: 1.000 - ETA: 16s - loss: 0.0024 - accuracy: 1.000 - ETA: 16s - loss: 0.0028 - accuracy: 1.000 - ETA: 16s - loss: 0.0026 - accuracy: 1.000 - ETA: 16s - loss: 0.0026 - accuracy: 1.000 - ETA: 16s - loss: 0.0025 - accuracy: 1.000 - ETA: 16s - loss: 0.0025 - accuracy: 1.000 - ETA: 16s - loss: 0.0025 - accuracy: 1.000 - ETA: 16s - loss: 0.0025 - accuracy: 1.000 - ETA: 16s - loss: 0.0024 - accuracy: 1.000 - ETA: 16s - loss: 0.0024 - accuracy: 1.000 - ETA: 16s - loss: 0.0023 - accuracy: 1.000 - ETA: 16s - loss: 0.0023 - accuracy: 1.000 - ETA: 16s - loss: 0.0022 - accuracy: 1.000 - ETA: 16s - loss: 0.0021 - accuracy: 1.000 - ETA: 16s - loss: 0.0021 - accuracy: 1.000 - ETA: 16s - loss: 0.0021 - accuracy: 1.000 - ETA: 16s - loss: 0.0020 - accuracy: 1.000 - ETA: 16s - loss: 0.0020 - accuracy: 1.000 - ETA: 15s - loss: 0.0020 - accuracy: 1.000 - ETA: 15s - loss: 0.0020 - accuracy: 1.000 - ETA: 15s - loss: 0.0020 - accuracy: 1.000 - ETA: 15s - loss: 0.0019 - accuracy: 1.000 - ETA: 15s - loss: 0.0019 - accuracy: 1.000 - ETA: 15s - loss: 0.0019 - accuracy: 1.000 - ETA: 15s - loss: 0.0018 - accuracy: 1.000 - ETA: 15s - loss: 0.0019 - accuracy: 1.000 - ETA: 15s - loss: 0.0019 - accuracy: 1.000 - ETA: 15s - loss: 0.0018 - accuracy: 1.000 - ETA: 15s - loss: 0.0018 - accuracy: 1.000 - ETA: 15s - loss: 0.0018 - accuracy: 1.000 - ETA: 15s - loss: 0.0018 - accuracy: 1.000 - ETA: 14s - loss: 0.0017 - accuracy: 1.000 - ETA: 14s - loss: 0.0017 - accuracy: 1.000 - ETA: 14s - loss: 0.0017 - accuracy: 1.000 - ETA: 14s - loss: 0.0017 - accuracy: 1.000 - ETA: 14s - loss: 0.0016 - accuracy: 1.000 - ETA: 14s - loss: 0.0016 - accuracy: 1.000 - ETA: 14s - loss: 0.0016 - accuracy: 1.000 - ETA: 14s - loss: 0.0016 - accuracy: 1.000 - ETA: 14s - loss: 0.0016 - accuracy: 1.000 - ETA: 14s - loss: 0.0015 - accuracy: 1.000 - ETA: 14s - loss: 0.0016 - accuracy: 1.000 - ETA: 14s - loss: 0.0015 - accuracy: 1.000 - ETA: 14s - loss: 0.0015 - accuracy: 1.000 - ETA: 13s - loss: 0.0015 - accuracy: 1.000 - ETA: 13s - loss: 0.0015 - accuracy: 1.000 - ETA: 13s - loss: 0.0015 - accuracy: 1.000 - ETA: 13s - loss: 0.0015 - accuracy: 1.000 - ETA: 13s - loss: 0.0015 - accuracy: 1.000 - ETA: 13s - loss: 0.0015 - accuracy: 1.000 - ETA: 13s - loss: 0.0014 - accuracy: 1.000 - ETA: 13s - loss: 0.0014 - accuracy: 1.000 - ETA: 13s - loss: 0.0014 - accuracy: 1.000 - ETA: 13s - loss: 0.0014 - accuracy: 1.000 - ETA: 13s - loss: 0.0014 - accuracy: 1.000 - ETA: 13s - loss: 0.0014 - accuracy: 1.000 - ETA: 13s - loss: 0.0014 - accuracy: 1.000 - ETA: 12s - loss: 0.0014 - accuracy: 1.000 - ETA: 12s - loss: 0.0013 - accuracy: 1.000 - ETA: 12s - loss: 0.0013 - accuracy: 1.000 - ETA: 12s - loss: 0.0014 - accuracy: 1.000 - ETA: 12s - loss: 0.0014 - accuracy: 1.000 - ETA: 12s - loss: 0.0014 - accuracy: 1.000 - ETA: 12s - loss: 0.0013 - accuracy: 1.000 - ETA: 12s - loss: 0.0013 - accuracy: 1.000 - ETA: 12s - loss: 0.0013 - accuracy: 1.000 - ETA: 12s - loss: 0.0013 - accuracy: 1.000 - ETA: 12s - loss: 0.0013 - accuracy: 1.000 - ETA: 12s - loss: 0.0013 - accuracy: 1.000 - ETA: 11s - loss: 0.0013 - accuracy: 1.000 - ETA: 11s - loss: 0.0013 - accuracy: 1.000 - ETA: 11s - loss: 0.0013 - accuracy: 1.000 - ETA: 11s - loss: 0.0013 - accuracy: 1.000 - ETA: 11s - loss: 0.0012 - accuracy: 1.000 - ETA: 11s - loss: 0.0012 - accuracy: 1.000 - ETA: 11s - loss: 0.0017 - accuracy: 0.999 - ETA: 11s - loss: 0.0017 - accuracy: 0.999 - ETA: 11s - loss: 0.0017 - accuracy: 0.999 - ETA: 11s - loss: 0.0017 - accuracy: 0.999 - ETA: 11s - loss: 0.0017 - accuracy: 0.999 - ETA: 11s - loss: 0.0017 - accuracy: 0.999 - ETA: 10s - loss: 0.0017 - accuracy: 0.999 - ETA: 10s - loss: 0.0017 - accuracy: 0.999 - ETA: 10s - loss: 0.0017 - accuracy: 0.999 - ETA: 10s - loss: 0.0017 - accuracy: 0.999 - ETA: 10s - loss: 0.0018 - accuracy: 0.999 - ETA: 10s - loss: 0.0018 - accuracy: 0.999 - ETA: 10s - loss: 0.0018 - accuracy: 0.999 - ETA: 10s - loss: 0.0018 - accuracy: 0.999 - ETA: 10s - loss: 0.0019 - accuracy: 0.999 - ETA: 10s - loss: 0.0019 - accuracy: 0.999 - ETA: 10s - loss: 0.0019 - accuracy: 0.999 - ETA: 10s - loss: 0.0019 - accuracy: 0.999 - ETA: 10s - loss: 0.0018 - accuracy: 0.999 - ETA: 9s - loss: 0.0018 - accuracy: 0.999 - ETA: 9s - loss: 0.0018 - accuracy: 0.99 - ETA: 9s - loss: 0.0018 - accuracy: 0.99 - ETA: 9s - loss: 0.0020 - accuracy: 0.99 - ETA: 9s - loss: 0.0021 - accuracy: 0.99 - ETA: 9s - loss: 0.0020 - accuracy: 0.99 - ETA: 9s - loss: 0.0020 - accuracy: 0.99 - ETA: 9s - loss: 0.0020 - accuracy: 0.99 - ETA: 9s - loss: 0.0020 - accuracy: 0.99 - ETA: 9s - loss: 0.0021 - accuracy: 0.99 - ETA: 9s - loss: 0.0021 - accuracy: 0.99 - ETA: 9s - loss: 0.0021 - accuracy: 0.99 - ETA: 9s - loss: 0.0021 - accuracy: 0.99 - ETA: 8s - loss: 0.0020 - accuracy: 0.99 - ETA: 8s - loss: 0.0020 - accuracy: 0.99 - ETA: 8s - loss: 0.0020 - accuracy: 0.99 - ETA: 8s - loss: 0.0020 - accuracy: 0.99 - ETA: 8s - loss: 0.0020 - accuracy: 0.99 - ETA: 8s - loss: 0.0020 - accuracy: 0.99 - ETA: 8s - loss: 0.0020 - accuracy: 0.99 - ETA: 8s - loss: 0.0020 - accuracy: 0.99 - ETA: 8s - loss: 0.0020 - accuracy: 0.99 - ETA: 8s - loss: 0.0020 - accuracy: 0.99 - ETA: 8s - loss: 0.0020 - accuracy: 0.99 - ETA: 8s - loss: 0.0020 - accuracy: 0.99 - ETA: 7s - loss: 0.0021 - accuracy: 0.99 - ETA: 7s - loss: 0.0021 - accuracy: 0.99 - ETA: 7s - loss: 0.0021 - accuracy: 0.99 - ETA: 7s - loss: 0.0021 - accuracy: 0.99 - ETA: 7s - loss: 0.0022 - accuracy: 0.99 - ETA: 7s - loss: 0.0022 - accuracy: 0.99 - ETA: 7s - loss: 0.0022 - accuracy: 0.99 - ETA: 7s - loss: 0.0022 - accuracy: 0.99 - ETA: 7s - loss: 0.0022 - accuracy: 0.99 - ETA: 7s - loss: 0.0022 - accuracy: 0.99 - ETA: 7s - loss: 0.0022 - accuracy: 0.99 - ETA: 7s - loss: 0.0022 - accuracy: 0.99 - ETA: 6s - loss: 0.0022 - accuracy: 0.99 - ETA: 6s - loss: 0.0022 - accuracy: 0.99 - ETA: 6s - loss: 0.0022 - accuracy: 0.99 - ETA: 6s - loss: 0.0022 - accuracy: 0.99 - ETA: 6s - loss: 0.0023 - accuracy: 0.99 - ETA: 6s - loss: 0.0024 - accuracy: 0.99 - ETA: 6s - loss: 0.0024 - accuracy: 0.99 - ETA: 6s - loss: 0.0023 - accuracy: 0.99 - ETA: 6s - loss: 0.0023 - accuracy: 0.99 - ETA: 6s - loss: 0.0024 - accuracy: 0.99 - ETA: 6s - loss: 0.0024 - accuracy: 0.99 - ETA: 6s - loss: 0.0024 - accuracy: 0.99 - ETA: 5s - loss: 0.0024 - accuracy: 0.99 - ETA: 5s - loss: 0.0024 - accuracy: 0.99 - ETA: 5s - loss: 0.0024 - accuracy: 0.99 - ETA: 5s - loss: 0.0025 - accuracy: 0.99 - ETA: 5s - loss: 0.0025 - accuracy: 0.99 - ETA: 5s - loss: 0.0024 - accuracy: 0.99 - ETA: 5s - loss: 0.0024 - accuracy: 0.99 - ETA: 5s - loss: 0.0024 - accuracy: 0.99 - ETA: 5s - loss: 0.0024 - accuracy: 0.99 - ETA: 5s - loss: 0.0024 - accuracy: 0.99 - ETA: 5s - loss: 0.0024 - accuracy: 0.99 - ETA: 5s - loss: 0.0024 - accuracy: 0.99 - ETA: 4s - loss: 0.0024 - accuracy: 0.99 - ETA: 4s - loss: 0.0024 - accuracy: 0.99 - ETA: 4s - loss: 0.0024 - accuracy: 0.99 - ETA: 4s - loss: 0.0024 - accuracy: 0.99 - ETA: 4s - loss: 0.0024 - accuracy: 0.99 - ETA: 4s - loss: 0.0024 - accuracy: 0.99 - ETA: 4s - loss: 0.0023 - accuracy: 0.99 - ETA: 4s - loss: 0.0023 - accuracy: 0.99 - ETA: 4s - loss: 0.0029 - accuracy: 0.99 - ETA: 4s - loss: 0.0029 - accuracy: 0.99 - ETA: 4s - loss: 0.0029 - accuracy: 0.99 - ETA: 4s - loss: 0.0030 - accuracy: 0.99 - ETA: 3s - loss: 0.0029 - accuracy: 0.99 - ETA: 3s - loss: 0.0029 - accuracy: 0.99 - ETA: 3s - loss: 0.0030 - accuracy: 0.99 - ETA: 3s - loss: 0.0030 - accuracy: 0.99 - ETA: 3s - loss: 0.0029 - accuracy: 0.99 - ETA: 3s - loss: 0.0029 - accuracy: 0.99 - ETA: 3s - loss: 0.0029 - accuracy: 0.99 - ETA: 3s - loss: 0.0029 - accuracy: 0.99 - ETA: 3s - loss: 0.0029 - accuracy: 0.99 - ETA: 3s - loss: 0.0029 - accuracy: 0.9995"
     ]
    },
    {
     "name": "stdout",
     "output_type": "stream",
     "text": [
      "7304/7304 [==============================] - ETA: 3s - loss: 0.0029 - accuracy: 0.99 - ETA: 3s - loss: 0.0029 - accuracy: 0.99 - ETA: 2s - loss: 0.0029 - accuracy: 0.99 - ETA: 2s - loss: 0.0029 - accuracy: 0.99 - ETA: 2s - loss: 0.0029 - accuracy: 0.99 - ETA: 2s - loss: 0.0028 - accuracy: 0.99 - ETA: 2s - loss: 0.0028 - accuracy: 0.99 - ETA: 2s - loss: 0.0028 - accuracy: 0.99 - ETA: 2s - loss: 0.0028 - accuracy: 0.99 - ETA: 2s - loss: 0.0028 - accuracy: 0.99 - ETA: 2s - loss: 0.0028 - accuracy: 0.99 - ETA: 2s - loss: 0.0028 - accuracy: 0.99 - ETA: 2s - loss: 0.0028 - accuracy: 0.99 - ETA: 2s - loss: 0.0028 - accuracy: 0.99 - ETA: 1s - loss: 0.0028 - accuracy: 0.99 - ETA: 1s - loss: 0.0028 - accuracy: 0.99 - ETA: 1s - loss: 0.0027 - accuracy: 0.99 - ETA: 1s - loss: 0.0027 - accuracy: 0.99 - ETA: 1s - loss: 0.0027 - accuracy: 0.99 - ETA: 1s - loss: 0.0027 - accuracy: 0.99 - ETA: 1s - loss: 0.0027 - accuracy: 0.99 - ETA: 1s - loss: 0.0027 - accuracy: 0.99 - ETA: 1s - loss: 0.0027 - accuracy: 0.99 - ETA: 1s - loss: 0.0027 - accuracy: 0.99 - ETA: 1s - loss: 0.0027 - accuracy: 0.99 - ETA: 1s - loss: 0.0027 - accuracy: 0.99 - ETA: 1s - loss: 0.0027 - accuracy: 0.99 - ETA: 0s - loss: 0.0027 - accuracy: 0.99 - ETA: 0s - loss: 0.0027 - accuracy: 0.99 - ETA: 0s - loss: 0.0027 - accuracy: 0.99 - ETA: 0s - loss: 0.0027 - accuracy: 0.99 - ETA: 0s - loss: 0.0027 - accuracy: 0.99 - ETA: 0s - loss: 0.0027 - accuracy: 0.99 - ETA: 0s - loss: 0.0027 - accuracy: 0.99 - ETA: 0s - loss: 0.0026 - accuracy: 0.99 - ETA: 0s - loss: 0.0026 - accuracy: 0.99 - ETA: 0s - loss: 0.0026 - accuracy: 0.99 - ETA: 0s - loss: 0.0026 - accuracy: 0.99 - ETA: 0s - loss: 0.0026 - accuracy: 0.99 - 19s 3ms/sample - loss: 0.0026 - accuracy: 0.9996\n",
      "Epoch 5/10\n",
      "6016/7304 [=======================>......] - ETA: 16s - loss: 5.7234e-04 - accuracy: 1.000 - ETA: 17s - loss: 4.2832e-04 - accuracy: 1.000 - ETA: 17s - loss: 3.6010e-04 - accuracy: 1.000 - ETA: 17s - loss: 4.6352e-04 - accuracy: 1.000 - ETA: 17s - loss: 4.0024e-04 - accuracy: 1.000 - ETA: 17s - loss: 3.8832e-04 - accuracy: 1.000 - ETA: 18s - loss: 4.0472e-04 - accuracy: 1.000 - ETA: 18s - loss: 3.9501e-04 - accuracy: 1.000 - ETA: 17s - loss: 4.0620e-04 - accuracy: 1.000 - ETA: 18s - loss: 0.0012 - accuracy: 1.0000    - ETA: 17s - loss: 0.0012 - accuracy: 1.000 - ETA: 17s - loss: 0.0011 - accuracy: 1.000 - ETA: 17s - loss: 0.0013 - accuracy: 1.000 - ETA: 18s - loss: 0.0013 - accuracy: 1.000 - ETA: 18s - loss: 0.0013 - accuracy: 1.000 - ETA: 18s - loss: 0.0013 - accuracy: 1.000 - ETA: 18s - loss: 0.0012 - accuracy: 1.000 - ETA: 18s - loss: 0.0013 - accuracy: 1.000 - ETA: 17s - loss: 0.0013 - accuracy: 1.000 - ETA: 17s - loss: 0.0012 - accuracy: 1.000 - ETA: 17s - loss: 0.0012 - accuracy: 1.000 - ETA: 17s - loss: 0.0012 - accuracy: 1.000 - ETA: 17s - loss: 0.0029 - accuracy: 0.998 - ETA: 17s - loss: 0.0029 - accuracy: 0.998 - ETA: 17s - loss: 0.0028 - accuracy: 0.998 - ETA: 16s - loss: 0.0034 - accuracy: 0.998 - ETA: 16s - loss: 0.0033 - accuracy: 0.998 - ETA: 16s - loss: 0.0032 - accuracy: 0.998 - ETA: 16s - loss: 0.0033 - accuracy: 0.998 - ETA: 16s - loss: 0.0032 - accuracy: 0.999 - ETA: 16s - loss: 0.0031 - accuracy: 0.999 - ETA: 16s - loss: 0.0031 - accuracy: 0.999 - ETA: 16s - loss: 0.0036 - accuracy: 0.999 - ETA: 16s - loss: 0.0035 - accuracy: 0.999 - ETA: 16s - loss: 0.0034 - accuracy: 0.999 - ETA: 15s - loss: 0.0034 - accuracy: 0.999 - ETA: 15s - loss: 0.0033 - accuracy: 0.999 - ETA: 15s - loss: 0.0032 - accuracy: 0.999 - ETA: 15s - loss: 0.0032 - accuracy: 0.999 - ETA: 15s - loss: 0.0033 - accuracy: 0.999 - ETA: 15s - loss: 0.0032 - accuracy: 0.999 - ETA: 15s - loss: 0.0034 - accuracy: 0.999 - ETA: 15s - loss: 0.0033 - accuracy: 0.999 - ETA: 15s - loss: 0.0032 - accuracy: 0.999 - ETA: 15s - loss: 0.0032 - accuracy: 0.999 - ETA: 15s - loss: 0.0031 - accuracy: 0.999 - ETA: 14s - loss: 0.0030 - accuracy: 0.999 - ETA: 14s - loss: 0.0032 - accuracy: 0.999 - ETA: 14s - loss: 0.0032 - accuracy: 0.999 - ETA: 14s - loss: 0.0031 - accuracy: 0.999 - ETA: 14s - loss: 0.0031 - accuracy: 0.999 - ETA: 14s - loss: 0.0031 - accuracy: 0.999 - ETA: 14s - loss: 0.0030 - accuracy: 0.999 - ETA: 14s - loss: 0.0030 - accuracy: 0.999 - ETA: 14s - loss: 0.0029 - accuracy: 0.999 - ETA: 14s - loss: 0.0029 - accuracy: 0.999 - ETA: 14s - loss: 0.0028 - accuracy: 0.999 - ETA: 14s - loss: 0.0028 - accuracy: 0.999 - ETA: 14s - loss: 0.0027 - accuracy: 0.999 - ETA: 14s - loss: 0.0027 - accuracy: 0.999 - ETA: 13s - loss: 0.0027 - accuracy: 0.999 - ETA: 13s - loss: 0.0026 - accuracy: 0.999 - ETA: 13s - loss: 0.0026 - accuracy: 0.999 - ETA: 13s - loss: 0.0025 - accuracy: 0.999 - ETA: 13s - loss: 0.0025 - accuracy: 0.999 - ETA: 13s - loss: 0.0025 - accuracy: 0.999 - ETA: 13s - loss: 0.0025 - accuracy: 0.999 - ETA: 13s - loss: 0.0024 - accuracy: 0.999 - ETA: 13s - loss: 0.0024 - accuracy: 0.999 - ETA: 13s - loss: 0.0024 - accuracy: 0.999 - ETA: 13s - loss: 0.0023 - accuracy: 0.999 - ETA: 13s - loss: 0.0023 - accuracy: 0.999 - ETA: 12s - loss: 0.0023 - accuracy: 0.999 - ETA: 12s - loss: 0.0023 - accuracy: 0.999 - ETA: 12s - loss: 0.0022 - accuracy: 0.999 - ETA: 12s - loss: 0.0022 - accuracy: 0.999 - ETA: 12s - loss: 0.0022 - accuracy: 0.999 - ETA: 12s - loss: 0.0022 - accuracy: 0.999 - ETA: 12s - loss: 0.0022 - accuracy: 0.999 - ETA: 12s - loss: 0.0022 - accuracy: 0.999 - ETA: 12s - loss: 0.0022 - accuracy: 0.999 - ETA: 12s - loss: 0.0021 - accuracy: 0.999 - ETA: 12s - loss: 0.0021 - accuracy: 0.999 - ETA: 11s - loss: 0.0021 - accuracy: 0.999 - ETA: 11s - loss: 0.0021 - accuracy: 0.999 - ETA: 11s - loss: 0.0021 - accuracy: 0.999 - ETA: 11s - loss: 0.0021 - accuracy: 0.999 - ETA: 11s - loss: 0.0021 - accuracy: 0.999 - ETA: 11s - loss: 0.0021 - accuracy: 0.999 - ETA: 11s - loss: 0.0020 - accuracy: 0.999 - ETA: 11s - loss: 0.0020 - accuracy: 0.999 - ETA: 11s - loss: 0.0020 - accuracy: 0.999 - ETA: 11s - loss: 0.0020 - accuracy: 0.999 - ETA: 11s - loss: 0.0020 - accuracy: 0.999 - ETA: 11s - loss: 0.0020 - accuracy: 0.999 - ETA: 10s - loss: 0.0019 - accuracy: 0.999 - ETA: 10s - loss: 0.0019 - accuracy: 0.999 - ETA: 10s - loss: 0.0019 - accuracy: 0.999 - ETA: 10s - loss: 0.0019 - accuracy: 0.999 - ETA: 10s - loss: 0.0019 - accuracy: 0.999 - ETA: 10s - loss: 0.0019 - accuracy: 0.999 - ETA: 10s - loss: 0.0018 - accuracy: 0.999 - ETA: 10s - loss: 0.0018 - accuracy: 0.999 - ETA: 10s - loss: 0.0018 - accuracy: 0.999 - ETA: 10s - loss: 0.0018 - accuracy: 0.999 - ETA: 10s - loss: 0.0018 - accuracy: 0.999 - ETA: 10s - loss: 0.0018 - accuracy: 0.999 - ETA: 9s - loss: 0.0018 - accuracy: 0.999 - ETA: 9s - loss: 0.0018 - accuracy: 0.99 - ETA: 9s - loss: 0.0018 - accuracy: 0.99 - ETA: 9s - loss: 0.0018 - accuracy: 0.99 - ETA: 9s - loss: 0.0018 - accuracy: 0.99 - ETA: 9s - loss: 0.0019 - accuracy: 0.99 - ETA: 9s - loss: 0.0019 - accuracy: 0.99 - ETA: 9s - loss: 0.0018 - accuracy: 0.99 - ETA: 9s - loss: 0.0018 - accuracy: 0.99 - ETA: 9s - loss: 0.0018 - accuracy: 0.99 - ETA: 9s - loss: 0.0018 - accuracy: 0.99 - ETA: 9s - loss: 0.0018 - accuracy: 0.99 - ETA: 8s - loss: 0.0018 - accuracy: 0.99 - ETA: 8s - loss: 0.0019 - accuracy: 0.99 - ETA: 8s - loss: 0.0019 - accuracy: 0.99 - ETA: 8s - loss: 0.0019 - accuracy: 0.99 - ETA: 8s - loss: 0.0019 - accuracy: 0.99 - ETA: 8s - loss: 0.0019 - accuracy: 0.99 - ETA: 8s - loss: 0.0020 - accuracy: 0.99 - ETA: 8s - loss: 0.0020 - accuracy: 0.99 - ETA: 8s - loss: 0.0020 - accuracy: 0.99 - ETA: 8s - loss: 0.0020 - accuracy: 0.99 - ETA: 8s - loss: 0.0019 - accuracy: 0.99 - ETA: 8s - loss: 0.0019 - accuracy: 0.99 - ETA: 7s - loss: 0.0019 - accuracy: 0.99 - ETA: 7s - loss: 0.0019 - accuracy: 0.99 - ETA: 7s - loss: 0.0019 - accuracy: 0.99 - ETA: 7s - loss: 0.0019 - accuracy: 0.99 - ETA: 7s - loss: 0.0019 - accuracy: 0.99 - ETA: 7s - loss: 0.0019 - accuracy: 0.99 - ETA: 7s - loss: 0.0019 - accuracy: 0.99 - ETA: 7s - loss: 0.0019 - accuracy: 0.99 - ETA: 7s - loss: 0.0019 - accuracy: 0.99 - ETA: 7s - loss: 0.0019 - accuracy: 0.99 - ETA: 7s - loss: 0.0019 - accuracy: 0.99 - ETA: 7s - loss: 0.0019 - accuracy: 0.99 - ETA: 7s - loss: 0.0019 - accuracy: 0.99 - ETA: 6s - loss: 0.0024 - accuracy: 0.99 - ETA: 6s - loss: 0.0024 - accuracy: 0.99 - ETA: 6s - loss: 0.0023 - accuracy: 0.99 - ETA: 6s - loss: 0.0039 - accuracy: 0.99 - ETA: 6s - loss: 0.0039 - accuracy: 0.99 - ETA: 6s - loss: 0.0042 - accuracy: 0.99 - ETA: 6s - loss: 0.0057 - accuracy: 0.99 - ETA: 6s - loss: 0.0056 - accuracy: 0.99 - ETA: 6s - loss: 0.0104 - accuracy: 0.99 - ETA: 6s - loss: 0.0103 - accuracy: 0.99 - ETA: 6s - loss: 0.0110 - accuracy: 0.99 - ETA: 5s - loss: 0.0124 - accuracy: 0.99 - ETA: 5s - loss: 0.0124 - accuracy: 0.99 - ETA: 5s - loss: 0.0123 - accuracy: 0.99 - ETA: 5s - loss: 0.0127 - accuracy: 0.99 - ETA: 5s - loss: 0.0133 - accuracy: 0.99 - ETA: 5s - loss: 0.0133 - accuracy: 0.99 - ETA: 5s - loss: 0.0132 - accuracy: 0.99 - ETA: 5s - loss: 0.0132 - accuracy: 0.99 - ETA: 5s - loss: 0.0135 - accuracy: 0.99 - ETA: 5s - loss: 0.0135 - accuracy: 0.99 - ETA: 5s - loss: 0.0136 - accuracy: 0.99 - ETA: 5s - loss: 0.0136 - accuracy: 0.99 - ETA: 4s - loss: 0.0135 - accuracy: 0.99 - ETA: 4s - loss: 0.0135 - accuracy: 0.99 - ETA: 4s - loss: 0.0136 - accuracy: 0.99 - ETA: 4s - loss: 0.0138 - accuracy: 0.99 - ETA: 4s - loss: 0.0137 - accuracy: 0.99 - ETA: 4s - loss: 0.0136 - accuracy: 0.99 - ETA: 4s - loss: 0.0136 - accuracy: 0.99 - ETA: 4s - loss: 0.0136 - accuracy: 0.99 - ETA: 4s - loss: 0.0136 - accuracy: 0.99 - ETA: 4s - loss: 0.0139 - accuracy: 0.99 - ETA: 4s - loss: 0.0139 - accuracy: 0.99 - ETA: 4s - loss: 0.0138 - accuracy: 0.99 - ETA: 3s - loss: 0.0137 - accuracy: 0.99 - ETA: 3s - loss: 0.0137 - accuracy: 0.99 - ETA: 3s - loss: 0.0138 - accuracy: 0.99 - ETA: 3s - loss: 0.0140 - accuracy: 0.99 - ETA: 3s - loss: 0.0140 - accuracy: 0.99 - ETA: 3s - loss: 0.0139 - accuracy: 0.99 - ETA: 3s - loss: 0.0138 - accuracy: 0.99 - ETA: 3s - loss: 0.0140 - accuracy: 0.99 - ETA: 3s - loss: 0.0140 - accuracy: 0.99637304/7304 [==============================] - ETA: 3s - loss: 0.0140 - accuracy: 0.99 - ETA: 3s - loss: 0.0139 - accuracy: 0.99 - ETA: 3s - loss: 0.0138 - accuracy: 0.99 - ETA: 2s - loss: 0.0138 - accuracy: 0.99 - ETA: 2s - loss: 0.0137 - accuracy: 0.99 - ETA: 2s - loss: 0.0136 - accuracy: 0.99 - ETA: 2s - loss: 0.0136 - accuracy: 0.99 - ETA: 2s - loss: 0.0136 - accuracy: 0.99 - ETA: 2s - loss: 0.0135 - accuracy: 0.99 - ETA: 2s - loss: 0.0135 - accuracy: 0.99 - ETA: 2s - loss: 0.0134 - accuracy: 0.99 - ETA: 2s - loss: 0.0134 - accuracy: 0.99 - ETA: 2s - loss: 0.0133 - accuracy: 0.99 - ETA: 2s - loss: 0.0132 - accuracy: 0.99 - ETA: 2s - loss: 0.0132 - accuracy: 0.99 - ETA: 1s - loss: 0.0132 - accuracy: 0.99 - ETA: 1s - loss: 0.0131 - accuracy: 0.99 - ETA: 1s - loss: 0.0130 - accuracy: 0.99 - ETA: 1s - loss: 0.0130 - accuracy: 0.99 - ETA: 1s - loss: 0.0129 - accuracy: 0.99 - ETA: 1s - loss: 0.0129 - accuracy: 0.99 - ETA: 1s - loss: 0.0128 - accuracy: 0.99 - ETA: 1s - loss: 0.0128 - accuracy: 0.99 - ETA: 1s - loss: 0.0127 - accuracy: 0.99 - ETA: 1s - loss: 0.0127 - accuracy: 0.99 - ETA: 1s - loss: 0.0126 - accuracy: 0.99 - ETA: 1s - loss: 0.0125 - accuracy: 0.99 - ETA: 1s - loss: 0.0125 - accuracy: 0.99 - ETA: 0s - loss: 0.0124 - accuracy: 0.99 - ETA: 0s - loss: 0.0124 - accuracy: 0.99 - ETA: 0s - loss: 0.0123 - accuracy: 0.99 - ETA: 0s - loss: 0.0123 - accuracy: 0.99 - ETA: 0s - loss: 0.0122 - accuracy: 0.99 - ETA: 0s - loss: 0.0122 - accuracy: 0.99 - ETA: 0s - loss: 0.0121 - accuracy: 0.99 - ETA: 0s - loss: 0.0121 - accuracy: 0.99 - ETA: 0s - loss: 0.0120 - accuracy: 0.99 - ETA: 0s - loss: 0.0120 - accuracy: 0.99 - ETA: 0s - loss: 0.0119 - accuracy: 0.99 - ETA: 0s - loss: 0.0119 - accuracy: 0.99 - 19s 3ms/sample - loss: 0.0119 - accuracy: 0.9970\n",
      "Epoch 6/10\n"
     ]
    },
    {
     "name": "stdout",
     "output_type": "stream",
     "text": [
      "5568/7304 [=====================>........] - ETA: 17s - loss: 0.0013 - accuracy: 1.000 - ETA: 18s - loss: 0.0020 - accuracy: 1.000 - ETA: 19s - loss: 0.0015 - accuracy: 1.000 - ETA: 20s - loss: 0.0028 - accuracy: 1.000 - ETA: 19s - loss: 0.0023 - accuracy: 1.000 - ETA: 19s - loss: 0.0020 - accuracy: 1.000 - ETA: 19s - loss: 0.0019 - accuracy: 1.000 - ETA: 18s - loss: 0.0017 - accuracy: 1.000 - ETA: 18s - loss: 0.0016 - accuracy: 1.000 - ETA: 18s - loss: 0.0014 - accuracy: 1.000 - ETA: 18s - loss: 0.0013 - accuracy: 1.000 - ETA: 18s - loss: 0.0013 - accuracy: 1.000 - ETA: 17s - loss: 0.0012 - accuracy: 1.000 - ETA: 17s - loss: 0.0012 - accuracy: 1.000 - ETA: 17s - loss: 0.0011 - accuracy: 1.000 - ETA: 17s - loss: 0.0010 - accuracy: 1.000 - ETA: 17s - loss: 9.8879e-04 - accuracy: 1.000 - ETA: 17s - loss: 9.4432e-04 - accuracy: 1.000 - ETA: 17s - loss: 9.0279e-04 - accuracy: 1.000 - ETA: 17s - loss: 8.6876e-04 - accuracy: 1.000 - ETA: 16s - loss: 8.5362e-04 - accuracy: 1.000 - ETA: 16s - loss: 8.2509e-04 - accuracy: 1.000 - ETA: 16s - loss: 7.9624e-04 - accuracy: 1.000 - ETA: 16s - loss: 7.7496e-04 - accuracy: 1.000 - ETA: 16s - loss: 7.5870e-04 - accuracy: 1.000 - ETA: 16s - loss: 7.5193e-04 - accuracy: 1.000 - ETA: 16s - loss: 7.2978e-04 - accuracy: 1.000 - ETA: 16s - loss: 7.1214e-04 - accuracy: 1.000 - ETA: 16s - loss: 7.0257e-04 - accuracy: 1.000 - ETA: 16s - loss: 7.1175e-04 - accuracy: 1.000 - ETA: 15s - loss: 6.9894e-04 - accuracy: 1.000 - ETA: 15s - loss: 7.3290e-04 - accuracy: 1.000 - ETA: 15s - loss: 7.1486e-04 - accuracy: 1.000 - ETA: 15s - loss: 7.1170e-04 - accuracy: 1.000 - ETA: 15s - loss: 7.0065e-04 - accuracy: 1.000 - ETA: 15s - loss: 6.9113e-04 - accuracy: 1.000 - ETA: 15s - loss: 6.8746e-04 - accuracy: 1.000 - ETA: 15s - loss: 6.7991e-04 - accuracy: 1.000 - ETA: 15s - loss: 6.6637e-04 - accuracy: 1.000 - ETA: 15s - loss: 6.9032e-04 - accuracy: 1.000 - ETA: 15s - loss: 6.9226e-04 - accuracy: 1.000 - ETA: 15s - loss: 6.7910e-04 - accuracy: 1.000 - ETA: 15s - loss: 6.6747e-04 - accuracy: 1.000 - ETA: 15s - loss: 6.6040e-04 - accuracy: 1.000 - ETA: 14s - loss: 6.6643e-04 - accuracy: 1.000 - ETA: 14s - loss: 6.7973e-04 - accuracy: 1.000 - ETA: 14s - loss: 6.7011e-04 - accuracy: 1.000 - ETA: 14s - loss: 7.1575e-04 - accuracy: 1.000 - ETA: 14s - loss: 7.0438e-04 - accuracy: 1.000 - ETA: 14s - loss: 6.9615e-04 - accuracy: 1.000 - ETA: 14s - loss: 6.9053e-04 - accuracy: 1.000 - ETA: 14s - loss: 6.8223e-04 - accuracy: 1.000 - ETA: 14s - loss: 6.7633e-04 - accuracy: 1.000 - ETA: 14s - loss: 6.7054e-04 - accuracy: 1.000 - ETA: 14s - loss: 7.2017e-04 - accuracy: 1.000 - ETA: 14s - loss: 7.1164e-04 - accuracy: 1.000 - ETA: 14s - loss: 7.0155e-04 - accuracy: 1.000 - ETA: 14s - loss: 6.9629e-04 - accuracy: 1.000 - ETA: 13s - loss: 6.8609e-04 - accuracy: 1.000 - ETA: 13s - loss: 6.8000e-04 - accuracy: 1.000 - ETA: 13s - loss: 6.7176e-04 - accuracy: 1.000 - ETA: 13s - loss: 6.7641e-04 - accuracy: 1.000 - ETA: 13s - loss: 6.7049e-04 - accuracy: 1.000 - ETA: 13s - loss: 6.6505e-04 - accuracy: 1.000 - ETA: 13s - loss: 6.6510e-04 - accuracy: 1.000 - ETA: 13s - loss: 6.6246e-04 - accuracy: 1.000 - ETA: 13s - loss: 6.5659e-04 - accuracy: 1.000 - ETA: 13s - loss: 6.5300e-04 - accuracy: 1.000 - ETA: 13s - loss: 6.4591e-04 - accuracy: 1.000 - ETA: 12s - loss: 6.3979e-04 - accuracy: 1.000 - ETA: 12s - loss: 6.5448e-04 - accuracy: 1.000 - ETA: 12s - loss: 6.4762e-04 - accuracy: 1.000 - ETA: 12s - loss: 6.4246e-04 - accuracy: 1.000 - ETA: 12s - loss: 6.3704e-04 - accuracy: 1.000 - ETA: 12s - loss: 6.3586e-04 - accuracy: 1.000 - ETA: 12s - loss: 6.4312e-04 - accuracy: 1.000 - ETA: 12s - loss: 6.3711e-04 - accuracy: 1.000 - ETA: 12s - loss: 6.3684e-04 - accuracy: 1.000 - ETA: 12s - loss: 6.3032e-04 - accuracy: 1.000 - ETA: 12s - loss: 6.2415e-04 - accuracy: 1.000 - ETA: 12s - loss: 6.2330e-04 - accuracy: 1.000 - ETA: 11s - loss: 6.1955e-04 - accuracy: 1.000 - ETA: 11s - loss: 6.3186e-04 - accuracy: 1.000 - ETA: 11s - loss: 6.2623e-04 - accuracy: 1.000 - ETA: 11s - loss: 6.2506e-04 - accuracy: 1.000 - ETA: 11s - loss: 6.2139e-04 - accuracy: 1.000 - ETA: 11s - loss: 6.1801e-04 - accuracy: 1.000 - ETA: 11s - loss: 6.1264e-04 - accuracy: 1.000 - ETA: 11s - loss: 6.0820e-04 - accuracy: 1.000 - ETA: 11s - loss: 6.0339e-04 - accuracy: 1.000 - ETA: 11s - loss: 5.9882e-04 - accuracy: 1.000 - ETA: 11s - loss: 5.9857e-04 - accuracy: 1.000 - ETA: 11s - loss: 5.9335e-04 - accuracy: 1.000 - ETA: 10s - loss: 5.8974e-04 - accuracy: 1.000 - ETA: 10s - loss: 5.8516e-04 - accuracy: 1.000 - ETA: 10s - loss: 5.8385e-04 - accuracy: 1.000 - ETA: 10s - loss: 5.8061e-04 - accuracy: 1.000 - ETA: 10s - loss: 5.7631e-04 - accuracy: 1.000 - ETA: 10s - loss: 5.7293e-04 - accuracy: 1.000 - ETA: 10s - loss: 5.6906e-04 - accuracy: 1.000 - ETA: 10s - loss: 5.6661e-04 - accuracy: 1.000 - ETA: 10s - loss: 5.6379e-04 - accuracy: 1.000 - ETA: 10s - loss: 5.6205e-04 - accuracy: 1.000 - ETA: 10s - loss: 5.6147e-04 - accuracy: 1.000 - ETA: 10s - loss: 5.5896e-04 - accuracy: 1.000 - ETA: 9s - loss: 5.5703e-04 - accuracy: 1.000 - ETA: 9s - loss: 5.5298e-04 - accuracy: 1.00 - ETA: 9s - loss: 5.5026e-04 - accuracy: 1.00 - ETA: 9s - loss: 5.4605e-04 - accuracy: 1.00 - ETA: 9s - loss: 5.4259e-04 - accuracy: 1.00 - ETA: 9s - loss: 5.3853e-04 - accuracy: 1.00 - ETA: 9s - loss: 5.3513e-04 - accuracy: 1.00 - ETA: 9s - loss: 5.3135e-04 - accuracy: 1.00 - ETA: 9s - loss: 5.3016e-04 - accuracy: 1.00 - ETA: 9s - loss: 5.2701e-04 - accuracy: 1.00 - ETA: 9s - loss: 5.2324e-04 - accuracy: 1.00 - ETA: 9s - loss: 5.2011e-04 - accuracy: 1.00 - ETA: 8s - loss: 5.2194e-04 - accuracy: 1.00 - ETA: 8s - loss: 5.1899e-04 - accuracy: 1.00 - ETA: 8s - loss: 5.1654e-04 - accuracy: 1.00 - ETA: 8s - loss: 5.2078e-04 - accuracy: 1.00 - ETA: 8s - loss: 5.1792e-04 - accuracy: 1.00 - ETA: 8s - loss: 5.1563e-04 - accuracy: 1.00 - ETA: 8s - loss: 5.1827e-04 - accuracy: 1.00 - ETA: 8s - loss: 5.1616e-04 - accuracy: 1.00 - ETA: 8s - loss: 5.1294e-04 - accuracy: 1.00 - ETA: 8s - loss: 5.1075e-04 - accuracy: 1.00 - ETA: 8s - loss: 5.0754e-04 - accuracy: 1.00 - ETA: 8s - loss: 5.0773e-04 - accuracy: 1.00 - ETA: 7s - loss: 5.0680e-04 - accuracy: 1.00 - ETA: 7s - loss: 5.0544e-04 - accuracy: 1.00 - ETA: 7s - loss: 5.0422e-04 - accuracy: 1.00 - ETA: 7s - loss: 5.3446e-04 - accuracy: 1.00 - ETA: 7s - loss: 5.3127e-04 - accuracy: 1.00 - ETA: 7s - loss: 5.2957e-04 - accuracy: 1.00 - ETA: 7s - loss: 5.2784e-04 - accuracy: 1.00 - ETA: 7s - loss: 5.2657e-04 - accuracy: 1.00 - ETA: 7s - loss: 5.2470e-04 - accuracy: 1.00 - ETA: 7s - loss: 5.5734e-04 - accuracy: 1.00 - ETA: 7s - loss: 5.5437e-04 - accuracy: 1.00 - ETA: 7s - loss: 5.6026e-04 - accuracy: 1.00 - ETA: 6s - loss: 5.5948e-04 - accuracy: 1.00 - ETA: 6s - loss: 5.5658e-04 - accuracy: 1.00 - ETA: 6s - loss: 5.5373e-04 - accuracy: 1.00 - ETA: 6s - loss: 5.5179e-04 - accuracy: 1.00 - ETA: 6s - loss: 5.5095e-04 - accuracy: 1.00 - ETA: 6s - loss: 5.4845e-04 - accuracy: 1.00 - ETA: 6s - loss: 5.4533e-04 - accuracy: 1.00 - ETA: 6s - loss: 5.4344e-04 - accuracy: 1.00 - ETA: 6s - loss: 5.4077e-04 - accuracy: 1.00 - ETA: 6s - loss: 5.3818e-04 - accuracy: 1.00 - ETA: 6s - loss: 5.3580e-04 - accuracy: 1.00 - ETA: 6s - loss: 5.3312e-04 - accuracy: 1.00 - ETA: 6s - loss: 5.3199e-04 - accuracy: 1.00 - ETA: 5s - loss: 5.3119e-04 - accuracy: 1.00 - ETA: 5s - loss: 5.2918e-04 - accuracy: 1.00 - ETA: 5s - loss: 5.2711e-04 - accuracy: 1.00 - ETA: 5s - loss: 5.4835e-04 - accuracy: 1.00 - ETA: 5s - loss: 5.5432e-04 - accuracy: 1.00 - ETA: 5s - loss: 5.5144e-04 - accuracy: 1.00 - ETA: 5s - loss: 5.5327e-04 - accuracy: 1.00 - ETA: 5s - loss: 5.5595e-04 - accuracy: 1.00 - ETA: 5s - loss: 5.5498e-04 - accuracy: 1.00 - ETA: 5s - loss: 5.6266e-04 - accuracy: 1.00 - ETA: 5s - loss: 5.6196e-04 - accuracy: 1.00 - ETA: 5s - loss: 5.5946e-04 - accuracy: 1.00 - ETA: 4s - loss: 5.5673e-04 - accuracy: 1.00 - ETA: 4s - loss: 5.5452e-04 - accuracy: 1.00 - ETA: 4s - loss: 5.5986e-04 - accuracy: 1.00 - ETA: 4s - loss: 6.2731e-04 - accuracy: 1.00 - ETA: 4s - loss: 6.3328e-04 - accuracy: 1.00 - ETA: 4s - loss: 6.3009e-04 - accuracy: 1.00 - ETA: 4s - loss: 6.8374e-04 - accuracy: 1.00 - ETA: 4s - loss: 6.8696e-04 - accuracy: 1.0000"
     ]
    },
    {
     "name": "stdout",
     "output_type": "stream",
     "text": [
      "7304/7304 [==============================] - ETA: 4s - loss: 6.8369e-04 - accuracy: 1.00 - ETA: 4s - loss: 6.8548e-04 - accuracy: 1.00 - ETA: 4s - loss: 6.8213e-04 - accuracy: 1.00 - ETA: 4s - loss: 6.8002e-04 - accuracy: 1.00 - ETA: 3s - loss: 6.8865e-04 - accuracy: 1.00 - ETA: 3s - loss: 6.8583e-04 - accuracy: 1.00 - ETA: 3s - loss: 6.8244e-04 - accuracy: 1.00 - ETA: 3s - loss: 7.0855e-04 - accuracy: 1.00 - ETA: 3s - loss: 7.0541e-04 - accuracy: 1.00 - ETA: 3s - loss: 7.0231e-04 - accuracy: 1.00 - ETA: 3s - loss: 7.2179e-04 - accuracy: 1.00 - ETA: 3s - loss: 7.1845e-04 - accuracy: 1.00 - ETA: 3s - loss: 7.1486e-04 - accuracy: 1.00 - ETA: 3s - loss: 7.1173e-04 - accuracy: 1.00 - ETA: 3s - loss: 7.0860e-04 - accuracy: 1.00 - ETA: 3s - loss: 7.0882e-04 - accuracy: 1.00 - ETA: 3s - loss: 7.0573e-04 - accuracy: 1.00 - ETA: 2s - loss: 7.0271e-04 - accuracy: 1.00 - ETA: 2s - loss: 7.0112e-04 - accuracy: 1.00 - ETA: 2s - loss: 6.9828e-04 - accuracy: 1.00 - ETA: 2s - loss: 6.9647e-04 - accuracy: 1.00 - ETA: 2s - loss: 7.1110e-04 - accuracy: 1.00 - ETA: 2s - loss: 7.1095e-04 - accuracy: 1.00 - ETA: 2s - loss: 7.0816e-04 - accuracy: 1.00 - ETA: 2s - loss: 8.5292e-04 - accuracy: 0.99 - ETA: 2s - loss: 8.5863e-04 - accuracy: 0.99 - ETA: 2s - loss: 8.5460e-04 - accuracy: 0.99 - ETA: 2s - loss: 8.5148e-04 - accuracy: 0.99 - ETA: 2s - loss: 8.4974e-04 - accuracy: 0.99 - ETA: 1s - loss: 8.5056e-04 - accuracy: 0.99 - ETA: 1s - loss: 8.7355e-04 - accuracy: 0.99 - ETA: 1s - loss: 8.7321e-04 - accuracy: 0.99 - ETA: 1s - loss: 8.7500e-04 - accuracy: 0.99 - ETA: 1s - loss: 8.7420e-04 - accuracy: 0.99 - ETA: 1s - loss: 8.7239e-04 - accuracy: 0.99 - ETA: 1s - loss: 8.6893e-04 - accuracy: 0.99 - ETA: 1s - loss: 8.6527e-04 - accuracy: 0.99 - ETA: 1s - loss: 8.6521e-04 - accuracy: 0.99 - ETA: 1s - loss: 8.7302e-04 - accuracy: 0.99 - ETA: 1s - loss: 8.7007e-04 - accuracy: 0.99 - ETA: 1s - loss: 8.6918e-04 - accuracy: 0.99 - ETA: 0s - loss: 8.8796e-04 - accuracy: 0.99 - ETA: 0s - loss: 8.8607e-04 - accuracy: 0.99 - ETA: 0s - loss: 8.8237e-04 - accuracy: 0.99 - ETA: 0s - loss: 8.8849e-04 - accuracy: 0.99 - ETA: 0s - loss: 8.8525e-04 - accuracy: 0.99 - ETA: 0s - loss: 8.8292e-04 - accuracy: 0.99 - ETA: 0s - loss: 8.7926e-04 - accuracy: 0.99 - ETA: 0s - loss: 8.7594e-04 - accuracy: 0.99 - ETA: 0s - loss: 8.7367e-04 - accuracy: 0.99 - ETA: 0s - loss: 8.7093e-04 - accuracy: 0.99 - ETA: 0s - loss: 8.8755e-04 - accuracy: 0.99 - ETA: 0s - loss: 8.9149e-04 - accuracy: 0.99 - ETA: 0s - loss: 8.8797e-04 - accuracy: 0.99 - 19s 3ms/sample - loss: 8.8713e-04 - accuracy: 0.9999\n",
      "Epoch 7/10\n",
      "5728/7304 [======================>.......] - ETA: 16s - loss: 6.6249e-05 - accuracy: 1.000 - ETA: 18s - loss: 0.0028 - accuracy: 1.0000    - ETA: 17s - loss: 0.0019 - accuracy: 1.000 - ETA: 17s - loss: 0.0014 - accuracy: 1.000 - ETA: 17s - loss: 0.0012 - accuracy: 1.000 - ETA: 17s - loss: 9.7690e-04 - accuracy: 1.000 - ETA: 17s - loss: 8.8916e-04 - accuracy: 1.000 - ETA: 17s - loss: 7.8867e-04 - accuracy: 1.000 - ETA: 17s - loss: 0.0011 - accuracy: 1.0000    - ETA: 17s - loss: 0.0011 - accuracy: 1.000 - ETA: 16s - loss: 9.9430e-04 - accuracy: 1.000 - ETA: 16s - loss: 0.0010 - accuracy: 1.0000    - ETA: 16s - loss: 9.3746e-04 - accuracy: 1.000 - ETA: 16s - loss: 8.9087e-04 - accuracy: 1.000 - ETA: 16s - loss: 8.3772e-04 - accuracy: 1.000 - ETA: 16s - loss: 7.9645e-04 - accuracy: 1.000 - ETA: 16s - loss: 7.5243e-04 - accuracy: 1.000 - ETA: 16s - loss: 7.2027e-04 - accuracy: 1.000 - ETA: 16s - loss: 6.9542e-04 - accuracy: 1.000 - ETA: 16s - loss: 6.7738e-04 - accuracy: 1.000 - ETA: 16s - loss: 6.7859e-04 - accuracy: 1.000 - ETA: 16s - loss: 7.4172e-04 - accuracy: 1.000 - ETA: 16s - loss: 7.1779e-04 - accuracy: 1.000 - ETA: 16s - loss: 6.9486e-04 - accuracy: 1.000 - ETA: 16s - loss: 7.7929e-04 - accuracy: 1.000 - ETA: 16s - loss: 7.5777e-04 - accuracy: 1.000 - ETA: 15s - loss: 7.3226e-04 - accuracy: 1.000 - ETA: 15s - loss: 7.0814e-04 - accuracy: 1.000 - ETA: 15s - loss: 7.0184e-04 - accuracy: 1.000 - ETA: 15s - loss: 6.8206e-04 - accuracy: 1.000 - ETA: 15s - loss: 6.7418e-04 - accuracy: 1.000 - ETA: 15s - loss: 6.5531e-04 - accuracy: 1.000 - ETA: 15s - loss: 6.4115e-04 - accuracy: 1.000 - ETA: 15s - loss: 6.2579e-04 - accuracy: 1.000 - ETA: 15s - loss: 6.2161e-04 - accuracy: 1.000 - ETA: 15s - loss: 6.2774e-04 - accuracy: 1.000 - ETA: 15s - loss: 6.1436e-04 - accuracy: 1.000 - ETA: 15s - loss: 5.9939e-04 - accuracy: 1.000 - ETA: 14s - loss: 5.9835e-04 - accuracy: 1.000 - ETA: 14s - loss: 5.8490e-04 - accuracy: 1.000 - ETA: 14s - loss: 5.9009e-04 - accuracy: 1.000 - ETA: 14s - loss: 5.8233e-04 - accuracy: 1.000 - ETA: 14s - loss: 5.7578e-04 - accuracy: 1.000 - ETA: 14s - loss: 5.6436e-04 - accuracy: 1.000 - ETA: 14s - loss: 5.5295e-04 - accuracy: 1.000 - ETA: 14s - loss: 5.4355e-04 - accuracy: 1.000 - ETA: 14s - loss: 5.4600e-04 - accuracy: 1.000 - ETA: 14s - loss: 5.3773e-04 - accuracy: 1.000 - ETA: 14s - loss: 5.2804e-04 - accuracy: 1.000 - ETA: 14s - loss: 5.2041e-04 - accuracy: 1.000 - ETA: 14s - loss: 5.1329e-04 - accuracy: 1.000 - ETA: 14s - loss: 5.0993e-04 - accuracy: 1.000 - ETA: 13s - loss: 5.0091e-04 - accuracy: 1.000 - ETA: 13s - loss: 4.9295e-04 - accuracy: 1.000 - ETA: 13s - loss: 4.9881e-04 - accuracy: 1.000 - ETA: 13s - loss: 4.9703e-04 - accuracy: 1.000 - ETA: 13s - loss: 4.9074e-04 - accuracy: 1.000 - ETA: 13s - loss: 4.8441e-04 - accuracy: 1.000 - ETA: 13s - loss: 4.7830e-04 - accuracy: 1.000 - ETA: 13s - loss: 4.7126e-04 - accuracy: 1.000 - ETA: 13s - loss: 4.6681e-04 - accuracy: 1.000 - ETA: 13s - loss: 4.6059e-04 - accuracy: 1.000 - ETA: 13s - loss: 4.6404e-04 - accuracy: 1.000 - ETA: 13s - loss: 4.5774e-04 - accuracy: 1.000 - ETA: 13s - loss: 4.5250e-04 - accuracy: 1.000 - ETA: 12s - loss: 4.6473e-04 - accuracy: 1.000 - ETA: 12s - loss: 4.5841e-04 - accuracy: 1.000 - ETA: 12s - loss: 4.5701e-04 - accuracy: 1.000 - ETA: 12s - loss: 4.5277e-04 - accuracy: 1.000 - ETA: 12s - loss: 4.4702e-04 - accuracy: 1.000 - ETA: 12s - loss: 4.4287e-04 - accuracy: 1.000 - ETA: 12s - loss: 4.3739e-04 - accuracy: 1.000 - ETA: 12s - loss: 4.3305e-04 - accuracy: 1.000 - ETA: 12s - loss: 4.2965e-04 - accuracy: 1.000 - ETA: 12s - loss: 4.2495e-04 - accuracy: 1.000 - ETA: 12s - loss: 4.2233e-04 - accuracy: 1.000 - ETA: 12s - loss: 4.1745e-04 - accuracy: 1.000 - ETA: 12s - loss: 4.1259e-04 - accuracy: 1.000 - ETA: 11s - loss: 4.1006e-04 - accuracy: 1.000 - ETA: 11s - loss: 4.0541e-04 - accuracy: 1.000 - ETA: 11s - loss: 4.0390e-04 - accuracy: 1.000 - ETA: 11s - loss: 4.0021e-04 - accuracy: 1.000 - ETA: 11s - loss: 3.9649e-04 - accuracy: 1.000 - ETA: 11s - loss: 4.0425e-04 - accuracy: 1.000 - ETA: 11s - loss: 4.0426e-04 - accuracy: 1.000 - ETA: 11s - loss: 4.0185e-04 - accuracy: 1.000 - ETA: 11s - loss: 3.9773e-04 - accuracy: 1.000 - ETA: 11s - loss: 3.9513e-04 - accuracy: 1.000 - ETA: 11s - loss: 4.2649e-04 - accuracy: 1.000 - ETA: 11s - loss: 4.2298e-04 - accuracy: 1.000 - ETA: 10s - loss: 4.6645e-04 - accuracy: 1.000 - ETA: 10s - loss: 4.6396e-04 - accuracy: 1.000 - ETA: 10s - loss: 4.5945e-04 - accuracy: 1.000 - ETA: 10s - loss: 4.5535e-04 - accuracy: 1.000 - ETA: 10s - loss: 4.5640e-04 - accuracy: 1.000 - ETA: 10s - loss: 4.5640e-04 - accuracy: 1.000 - ETA: 10s - loss: 4.5248e-04 - accuracy: 1.000 - ETA: 10s - loss: 4.6075e-04 - accuracy: 1.000 - ETA: 10s - loss: 4.5672e-04 - accuracy: 1.000 - ETA: 10s - loss: 4.5556e-04 - accuracy: 1.000 - ETA: 10s - loss: 4.5152e-04 - accuracy: 1.000 - ETA: 10s - loss: 4.4870e-04 - accuracy: 1.000 - ETA: 10s - loss: 4.4518e-04 - accuracy: 1.000 - ETA: 10s - loss: 4.4306e-04 - accuracy: 1.000 - ETA: 9s - loss: 4.4006e-04 - accuracy: 1.000 - ETA: 9s - loss: 4.3670e-04 - accuracy: 1.00 - ETA: 9s - loss: 4.3292e-04 - accuracy: 1.00 - ETA: 9s - loss: 4.2964e-04 - accuracy: 1.00 - ETA: 9s - loss: 4.3479e-04 - accuracy: 1.00 - ETA: 9s - loss: 4.3268e-04 - accuracy: 1.00 - ETA: 9s - loss: 4.3063e-04 - accuracy: 1.00 - ETA: 9s - loss: 4.2728e-04 - accuracy: 1.00 - ETA: 9s - loss: 5.2025e-04 - accuracy: 1.00 - ETA: 9s - loss: 5.1662e-04 - accuracy: 1.00 - ETA: 9s - loss: 5.1382e-04 - accuracy: 1.00 - ETA: 9s - loss: 5.3651e-04 - accuracy: 1.00 - ETA: 8s - loss: 5.5187e-04 - accuracy: 1.00 - ETA: 8s - loss: 5.5450e-04 - accuracy: 1.00 - ETA: 8s - loss: 0.0010 - accuracy: 0.9997   - ETA: 8s - loss: 0.0010 - accuracy: 0.99 - ETA: 8s - loss: 0.0011 - accuracy: 0.99 - ETA: 8s - loss: 0.0038 - accuracy: 0.99 - ETA: 8s - loss: 0.0038 - accuracy: 0.99 - ETA: 8s - loss: 0.0060 - accuracy: 0.99 - ETA: 8s - loss: 0.0059 - accuracy: 0.99 - ETA: 8s - loss: 0.0083 - accuracy: 0.99 - ETA: 8s - loss: 0.0095 - accuracy: 0.99 - ETA: 8s - loss: 0.0094 - accuracy: 0.99 - ETA: 8s - loss: 0.0094 - accuracy: 0.99 - ETA: 7s - loss: 0.0107 - accuracy: 0.99 - ETA: 7s - loss: 0.0120 - accuracy: 0.99 - ETA: 7s - loss: 0.0119 - accuracy: 0.99 - ETA: 7s - loss: 0.0132 - accuracy: 0.99 - ETA: 7s - loss: 0.0132 - accuracy: 0.99 - ETA: 7s - loss: 0.0153 - accuracy: 0.99 - ETA: 7s - loss: 0.0154 - accuracy: 0.99 - ETA: 7s - loss: 0.0164 - accuracy: 0.99 - ETA: 7s - loss: 0.0169 - accuracy: 0.99 - ETA: 7s - loss: 0.0208 - accuracy: 0.99 - ETA: 7s - loss: 0.0207 - accuracy: 0.99 - ETA: 7s - loss: 0.0206 - accuracy: 0.99 - ETA: 7s - loss: 0.0229 - accuracy: 0.99 - ETA: 6s - loss: 0.0250 - accuracy: 0.99 - ETA: 6s - loss: 0.0249 - accuracy: 0.99 - ETA: 6s - loss: 0.0277 - accuracy: 0.99 - ETA: 6s - loss: 0.0286 - accuracy: 0.99 - ETA: 6s - loss: 0.0284 - accuracy: 0.99 - ETA: 6s - loss: 0.0313 - accuracy: 0.99 - ETA: 6s - loss: 0.0312 - accuracy: 0.99 - ETA: 6s - loss: 0.0310 - accuracy: 0.99 - ETA: 6s - loss: 0.0309 - accuracy: 0.99 - ETA: 6s - loss: 0.0316 - accuracy: 0.99 - ETA: 6s - loss: 0.0316 - accuracy: 0.99 - ETA: 6s - loss: 0.0318 - accuracy: 0.99 - ETA: 6s - loss: 0.0323 - accuracy: 0.99 - ETA: 5s - loss: 0.0328 - accuracy: 0.99 - ETA: 5s - loss: 0.0327 - accuracy: 0.99 - ETA: 5s - loss: 0.0325 - accuracy: 0.99 - ETA: 5s - loss: 0.0323 - accuracy: 0.99 - ETA: 5s - loss: 0.0321 - accuracy: 0.99 - ETA: 5s - loss: 0.0319 - accuracy: 0.99 - ETA: 5s - loss: 0.0318 - accuracy: 0.99 - ETA: 5s - loss: 0.0317 - accuracy: 0.99 - ETA: 5s - loss: 0.0315 - accuracy: 0.99 - ETA: 5s - loss: 0.0313 - accuracy: 0.99 - ETA: 5s - loss: 0.0312 - accuracy: 0.99 - ETA: 5s - loss: 0.0311 - accuracy: 0.99 - ETA: 4s - loss: 0.0309 - accuracy: 0.99 - ETA: 4s - loss: 0.0308 - accuracy: 0.99 - ETA: 4s - loss: 0.0307 - accuracy: 0.99 - ETA: 4s - loss: 0.0305 - accuracy: 0.99 - ETA: 4s - loss: 0.0303 - accuracy: 0.99 - ETA: 4s - loss: 0.0302 - accuracy: 0.99 - ETA: 4s - loss: 0.0300 - accuracy: 0.99 - ETA: 4s - loss: 0.0299 - accuracy: 0.99 - ETA: 4s - loss: 0.0299 - accuracy: 0.99 - ETA: 4s - loss: 0.0297 - accuracy: 0.99 - ETA: 4s - loss: 0.0295 - accuracy: 0.99 - ETA: 4s - loss: 0.0294 - accuracy: 0.99137304/7304 [==============================] - ETA: 3s - loss: 0.0292 - accuracy: 0.99 - ETA: 3s - loss: 0.0291 - accuracy: 0.99 - ETA: 3s - loss: 0.0289 - accuracy: 0.99 - ETA: 3s - loss: 0.0288 - accuracy: 0.99 - ETA: 3s - loss: 0.0287 - accuracy: 0.99 - ETA: 3s - loss: 0.0286 - accuracy: 0.99 - ETA: 3s - loss: 0.0284 - accuracy: 0.99 - ETA: 3s - loss: 0.0283 - accuracy: 0.99 - ETA: 3s - loss: 0.0281 - accuracy: 0.99 - ETA: 3s - loss: 0.0280 - accuracy: 0.99 - ETA: 3s - loss: 0.0278 - accuracy: 0.99 - ETA: 3s - loss: 0.0277 - accuracy: 0.99 - ETA: 3s - loss: 0.0276 - accuracy: 0.99 - ETA: 2s - loss: 0.0274 - accuracy: 0.99 - ETA: 2s - loss: 0.0273 - accuracy: 0.99 - ETA: 2s - loss: 0.0272 - accuracy: 0.99 - ETA: 2s - loss: 0.0270 - accuracy: 0.99 - ETA: 2s - loss: 0.0269 - accuracy: 0.99 - ETA: 2s - loss: 0.0268 - accuracy: 0.99 - ETA: 2s - loss: 0.0266 - accuracy: 0.99 - ETA: 2s - loss: 0.0266 - accuracy: 0.99 - ETA: 2s - loss: 0.0265 - accuracy: 0.99 - ETA: 2s - loss: 0.0263 - accuracy: 0.99 - ETA: 2s - loss: 0.0262 - accuracy: 0.99 - ETA: 2s - loss: 0.0261 - accuracy: 0.99 - ETA: 1s - loss: 0.0261 - accuracy: 0.99 - ETA: 1s - loss: 0.0259 - accuracy: 0.99 - ETA: 1s - loss: 0.0258 - accuracy: 0.99 - ETA: 1s - loss: 0.0257 - accuracy: 0.99 - ETA: 1s - loss: 0.0256 - accuracy: 0.99 - ETA: 1s - loss: 0.0255 - accuracy: 0.99 - ETA: 1s - loss: 0.0253 - accuracy: 0.99 - ETA: 1s - loss: 0.0252 - accuracy: 0.99 - ETA: 1s - loss: 0.0251 - accuracy: 0.99 - ETA: 1s - loss: 0.0250 - accuracy: 0.99 - ETA: 1s - loss: 0.0251 - accuracy: 0.99 - ETA: 1s - loss: 0.0250 - accuracy: 0.99 - ETA: 0s - loss: 0.0249 - accuracy: 0.99 - ETA: 0s - loss: 0.0248 - accuracy: 0.99 - ETA: 0s - loss: 0.0247 - accuracy: 0.99 - ETA: 0s - loss: 0.0246 - accuracy: 0.99 - ETA: 0s - loss: 0.0245 - accuracy: 0.99 - ETA: 0s - loss: 0.0244 - accuracy: 0.99 - ETA: 0s - loss: 0.0243 - accuracy: 0.99 - ETA: 0s - loss: 0.0242 - accuracy: 0.99 - ETA: 0s - loss: 0.0245 - accuracy: 0.99 - ETA: 0s - loss: 0.0244 - accuracy: 0.99 - ETA: 0s - loss: 0.0243 - accuracy: 0.99 - ETA: 0s - loss: 0.0241 - accuracy: 0.99 - 19s 3ms/sample - loss: 0.0241 - accuracy: 0.9927\n",
      "Epoch 8/10\n"
     ]
    },
    {
     "name": "stdout",
     "output_type": "stream",
     "text": [
      "6080/7304 [=======================>......] - ETA: 21s - loss: 0.0020 - accuracy: 1.000 - ETA: 19s - loss: 0.0131 - accuracy: 1.000 - ETA: 19s - loss: 0.0103 - accuracy: 1.000 - ETA: 18s - loss: 0.0105 - accuracy: 1.000 - ETA: 18s - loss: 0.0084 - accuracy: 1.000 - ETA: 18s - loss: 0.0073 - accuracy: 1.000 - ETA: 18s - loss: 0.0066 - accuracy: 1.000 - ETA: 18s - loss: 0.0058 - accuracy: 1.000 - ETA: 18s - loss: 0.0054 - accuracy: 1.000 - ETA: 17s - loss: 0.0109 - accuracy: 0.996 - ETA: 17s - loss: 0.0109 - accuracy: 0.997 - ETA: 17s - loss: 0.0101 - accuracy: 0.997 - ETA: 17s - loss: 0.0093 - accuracy: 0.997 - ETA: 17s - loss: 0.0087 - accuracy: 0.997 - ETA: 17s - loss: 0.0082 - accuracy: 0.997 - ETA: 17s - loss: 0.0081 - accuracy: 0.998 - ETA: 17s - loss: 0.0197 - accuracy: 0.996 - ETA: 17s - loss: 0.0186 - accuracy: 0.996 - ETA: 16s - loss: 0.0177 - accuracy: 0.996 - ETA: 16s - loss: 0.0168 - accuracy: 0.996 - ETA: 16s - loss: 0.0161 - accuracy: 0.997 - ETA: 16s - loss: 0.0153 - accuracy: 0.997 - ETA: 16s - loss: 0.0148 - accuracy: 0.997 - ETA: 16s - loss: 0.0142 - accuracy: 0.997 - ETA: 16s - loss: 0.0139 - accuracy: 0.997 - ETA: 16s - loss: 0.0134 - accuracy: 0.997 - ETA: 16s - loss: 0.0139 - accuracy: 0.997 - ETA: 15s - loss: 0.0154 - accuracy: 0.996 - ETA: 15s - loss: 0.0151 - accuracy: 0.996 - ETA: 15s - loss: 0.0150 - accuracy: 0.996 - ETA: 15s - loss: 0.0245 - accuracy: 0.991 - ETA: 15s - loss: 0.0238 - accuracy: 0.992 - ETA: 15s - loss: 0.0436 - accuracy: 0.984 - ETA: 15s - loss: 0.0428 - accuracy: 0.985 - ETA: 15s - loss: 0.0416 - accuracy: 0.985 - ETA: 15s - loss: 0.0417 - accuracy: 0.985 - ETA: 15s - loss: 0.0476 - accuracy: 0.983 - ETA: 15s - loss: 0.0477 - accuracy: 0.982 - ETA: 15s - loss: 0.0466 - accuracy: 0.983 - ETA: 15s - loss: 0.0454 - accuracy: 0.983 - ETA: 15s - loss: 0.0451 - accuracy: 0.983 - ETA: 14s - loss: 0.0441 - accuracy: 0.983 - ETA: 14s - loss: 0.0618 - accuracy: 0.981 - ETA: 14s - loss: 0.0604 - accuracy: 0.981 - ETA: 14s - loss: 0.0610 - accuracy: 0.981 - ETA: 14s - loss: 0.0661 - accuracy: 0.980 - ETA: 14s - loss: 0.0651 - accuracy: 0.980 - ETA: 14s - loss: 0.0652 - accuracy: 0.980 - ETA: 14s - loss: 0.0640 - accuracy: 0.980 - ETA: 14s - loss: 0.0627 - accuracy: 0.981 - ETA: 14s - loss: 0.0616 - accuracy: 0.981 - ETA: 14s - loss: 0.0605 - accuracy: 0.982 - ETA: 14s - loss: 0.0596 - accuracy: 0.982 - ETA: 13s - loss: 0.0603 - accuracy: 0.981 - ETA: 13s - loss: 0.0593 - accuracy: 0.981 - ETA: 13s - loss: 0.0582 - accuracy: 0.982 - ETA: 13s - loss: 0.0573 - accuracy: 0.982 - ETA: 13s - loss: 0.0563 - accuracy: 0.982 - ETA: 13s - loss: 0.0555 - accuracy: 0.983 - ETA: 13s - loss: 0.0552 - accuracy: 0.982 - ETA: 13s - loss: 0.0552 - accuracy: 0.982 - ETA: 13s - loss: 0.0546 - accuracy: 0.982 - ETA: 13s - loss: 0.0538 - accuracy: 0.983 - ETA: 13s - loss: 0.0530 - accuracy: 0.983 - ETA: 13s - loss: 0.0522 - accuracy: 0.983 - ETA: 13s - loss: 0.0516 - accuracy: 0.983 - ETA: 13s - loss: 0.0509 - accuracy: 0.984 - ETA: 12s - loss: 0.0503 - accuracy: 0.984 - ETA: 12s - loss: 0.0497 - accuracy: 0.984 - ETA: 12s - loss: 0.0490 - accuracy: 0.984 - ETA: 12s - loss: 0.0483 - accuracy: 0.985 - ETA: 12s - loss: 0.0477 - accuracy: 0.985 - ETA: 12s - loss: 0.0471 - accuracy: 0.985 - ETA: 12s - loss: 0.0471 - accuracy: 0.985 - ETA: 12s - loss: 0.0465 - accuracy: 0.985 - ETA: 12s - loss: 0.0459 - accuracy: 0.985 - ETA: 12s - loss: 0.0453 - accuracy: 0.985 - ETA: 12s - loss: 0.0448 - accuracy: 0.986 - ETA: 12s - loss: 0.0442 - accuracy: 0.986 - ETA: 12s - loss: 0.0437 - accuracy: 0.986 - ETA: 11s - loss: 0.0432 - accuracy: 0.986 - ETA: 11s - loss: 0.0427 - accuracy: 0.986 - ETA: 11s - loss: 0.0422 - accuracy: 0.986 - ETA: 11s - loss: 0.0417 - accuracy: 0.987 - ETA: 11s - loss: 0.0413 - accuracy: 0.987 - ETA: 11s - loss: 0.0408 - accuracy: 0.987 - ETA: 11s - loss: 0.0404 - accuracy: 0.987 - ETA: 11s - loss: 0.0399 - accuracy: 0.987 - ETA: 11s - loss: 0.0395 - accuracy: 0.987 - ETA: 11s - loss: 0.0391 - accuracy: 0.987 - ETA: 11s - loss: 0.0386 - accuracy: 0.988 - ETA: 11s - loss: 0.0382 - accuracy: 0.988 - ETA: 10s - loss: 0.0379 - accuracy: 0.988 - ETA: 10s - loss: 0.0375 - accuracy: 0.988 - ETA: 10s - loss: 0.0371 - accuracy: 0.988 - ETA: 10s - loss: 0.0367 - accuracy: 0.988 - ETA: 10s - loss: 0.0364 - accuracy: 0.988 - ETA: 10s - loss: 0.0360 - accuracy: 0.988 - ETA: 10s - loss: 0.0357 - accuracy: 0.989 - ETA: 10s - loss: 0.0353 - accuracy: 0.989 - ETA: 10s - loss: 0.0350 - accuracy: 0.989 - ETA: 10s - loss: 0.0347 - accuracy: 0.989 - ETA: 10s - loss: 0.0343 - accuracy: 0.989 - ETA: 10s - loss: 0.0340 - accuracy: 0.989 - ETA: 9s - loss: 0.0337 - accuracy: 0.989 - ETA: 9s - loss: 0.0334 - accuracy: 0.98 - ETA: 9s - loss: 0.0331 - accuracy: 0.98 - ETA: 9s - loss: 0.0328 - accuracy: 0.98 - ETA: 9s - loss: 0.0325 - accuracy: 0.99 - ETA: 9s - loss: 0.0322 - accuracy: 0.99 - ETA: 9s - loss: 0.0319 - accuracy: 0.99 - ETA: 9s - loss: 0.0317 - accuracy: 0.99 - ETA: 9s - loss: 0.0314 - accuracy: 0.99 - ETA: 9s - loss: 0.0311 - accuracy: 0.99 - ETA: 9s - loss: 0.0308 - accuracy: 0.99 - ETA: 9s - loss: 0.0306 - accuracy: 0.99 - ETA: 8s - loss: 0.0303 - accuracy: 0.99 - ETA: 8s - loss: 0.0301 - accuracy: 0.99 - ETA: 8s - loss: 0.0298 - accuracy: 0.99 - ETA: 8s - loss: 0.0296 - accuracy: 0.99 - ETA: 8s - loss: 0.0293 - accuracy: 0.99 - ETA: 8s - loss: 0.0291 - accuracy: 0.99 - ETA: 8s - loss: 0.0289 - accuracy: 0.99 - ETA: 8s - loss: 0.0286 - accuracy: 0.99 - ETA: 8s - loss: 0.0284 - accuracy: 0.99 - ETA: 8s - loss: 0.0282 - accuracy: 0.99 - ETA: 8s - loss: 0.0280 - accuracy: 0.99 - ETA: 8s - loss: 0.0278 - accuracy: 0.99 - ETA: 8s - loss: 0.0275 - accuracy: 0.99 - ETA: 7s - loss: 0.0273 - accuracy: 0.99 - ETA: 7s - loss: 0.0271 - accuracy: 0.99 - ETA: 7s - loss: 0.0269 - accuracy: 0.99 - ETA: 7s - loss: 0.0267 - accuracy: 0.99 - ETA: 7s - loss: 0.0265 - accuracy: 0.99 - ETA: 7s - loss: 0.0263 - accuracy: 0.99 - ETA: 7s - loss: 0.0261 - accuracy: 0.99 - ETA: 7s - loss: 0.0260 - accuracy: 0.99 - ETA: 7s - loss: 0.0258 - accuracy: 0.99 - ETA: 7s - loss: 0.0256 - accuracy: 0.99 - ETA: 7s - loss: 0.0255 - accuracy: 0.99 - ETA: 7s - loss: 0.0253 - accuracy: 0.99 - ETA: 6s - loss: 0.0251 - accuracy: 0.99 - ETA: 6s - loss: 0.0249 - accuracy: 0.99 - ETA: 6s - loss: 0.0248 - accuracy: 0.99 - ETA: 6s - loss: 0.0246 - accuracy: 0.99 - ETA: 6s - loss: 0.0244 - accuracy: 0.99 - ETA: 6s - loss: 0.0243 - accuracy: 0.99 - ETA: 6s - loss: 0.0241 - accuracy: 0.99 - ETA: 6s - loss: 0.0240 - accuracy: 0.99 - ETA: 6s - loss: 0.0238 - accuracy: 0.99 - ETA: 6s - loss: 0.0236 - accuracy: 0.99 - ETA: 6s - loss: 0.0235 - accuracy: 0.99 - ETA: 6s - loss: 0.0233 - accuracy: 0.99 - ETA: 5s - loss: 0.0232 - accuracy: 0.99 - ETA: 5s - loss: 0.0230 - accuracy: 0.99 - ETA: 5s - loss: 0.0229 - accuracy: 0.99 - ETA: 5s - loss: 0.0228 - accuracy: 0.99 - ETA: 5s - loss: 0.0226 - accuracy: 0.99 - ETA: 5s - loss: 0.0225 - accuracy: 0.99 - ETA: 5s - loss: 0.0223 - accuracy: 0.99 - ETA: 5s - loss: 0.0222 - accuracy: 0.99 - ETA: 5s - loss: 0.0221 - accuracy: 0.99 - ETA: 5s - loss: 0.0219 - accuracy: 0.99 - ETA: 5s - loss: 0.0218 - accuracy: 0.99 - ETA: 5s - loss: 0.0217 - accuracy: 0.99 - ETA: 5s - loss: 0.0216 - accuracy: 0.99 - ETA: 4s - loss: 0.0214 - accuracy: 0.99 - ETA: 4s - loss: 0.0213 - accuracy: 0.99 - ETA: 4s - loss: 0.0212 - accuracy: 0.99 - ETA: 4s - loss: 0.0211 - accuracy: 0.99 - ETA: 4s - loss: 0.0209 - accuracy: 0.99 - ETA: 4s - loss: 0.0208 - accuracy: 0.99 - ETA: 4s - loss: 0.0207 - accuracy: 0.99 - ETA: 4s - loss: 0.0206 - accuracy: 0.99 - ETA: 4s - loss: 0.0205 - accuracy: 0.99 - ETA: 4s - loss: 0.0204 - accuracy: 0.99 - ETA: 4s - loss: 0.0202 - accuracy: 0.99 - ETA: 4s - loss: 0.0201 - accuracy: 0.99 - ETA: 3s - loss: 0.0200 - accuracy: 0.99 - ETA: 3s - loss: 0.0199 - accuracy: 0.99 - ETA: 3s - loss: 0.0198 - accuracy: 0.99 - ETA: 3s - loss: 0.0197 - accuracy: 0.99 - ETA: 3s - loss: 0.0196 - accuracy: 0.99 - ETA: 3s - loss: 0.0195 - accuracy: 0.99 - ETA: 3s - loss: 0.0194 - accuracy: 0.99 - ETA: 3s - loss: 0.0193 - accuracy: 0.99 - ETA: 3s - loss: 0.0192 - accuracy: 0.99 - ETA: 3s - loss: 0.0191 - accuracy: 0.99 - ETA: 3s - loss: 0.0190 - accuracy: 0.99 - ETA: 3s - loss: 0.0189 - accuracy: 0.9942"
     ]
    },
    {
     "name": "stdout",
     "output_type": "stream",
     "text": [
      "7304/7304 [==============================] - ETA: 3s - loss: 0.0188 - accuracy: 0.99 - ETA: 2s - loss: 0.0187 - accuracy: 0.99 - ETA: 2s - loss: 0.0186 - accuracy: 0.99 - ETA: 2s - loss: 0.0185 - accuracy: 0.99 - ETA: 2s - loss: 0.0184 - accuracy: 0.99 - ETA: 2s - loss: 0.0183 - accuracy: 0.99 - ETA: 2s - loss: 0.0182 - accuracy: 0.99 - ETA: 2s - loss: 0.0182 - accuracy: 0.99 - ETA: 2s - loss: 0.0181 - accuracy: 0.99 - ETA: 2s - loss: 0.0180 - accuracy: 0.99 - ETA: 2s - loss: 0.0179 - accuracy: 0.99 - ETA: 2s - loss: 0.0178 - accuracy: 0.99 - ETA: 2s - loss: 0.0177 - accuracy: 0.99 - ETA: 1s - loss: 0.0176 - accuracy: 0.99 - ETA: 1s - loss: 0.0175 - accuracy: 0.99 - ETA: 1s - loss: 0.0175 - accuracy: 0.99 - ETA: 1s - loss: 0.0174 - accuracy: 0.99 - ETA: 1s - loss: 0.0173 - accuracy: 0.99 - ETA: 1s - loss: 0.0172 - accuracy: 0.99 - ETA: 1s - loss: 0.0171 - accuracy: 0.99 - ETA: 1s - loss: 0.0171 - accuracy: 0.99 - ETA: 1s - loss: 0.0170 - accuracy: 0.99 - ETA: 1s - loss: 0.0169 - accuracy: 0.99 - ETA: 1s - loss: 0.0168 - accuracy: 0.99 - ETA: 1s - loss: 0.0168 - accuracy: 0.99 - ETA: 0s - loss: 0.0167 - accuracy: 0.99 - ETA: 0s - loss: 0.0166 - accuracy: 0.99 - ETA: 0s - loss: 0.0165 - accuracy: 0.99 - ETA: 0s - loss: 0.0165 - accuracy: 0.99 - ETA: 0s - loss: 0.0164 - accuracy: 0.99 - ETA: 0s - loss: 0.0163 - accuracy: 0.99 - ETA: 0s - loss: 0.0163 - accuracy: 0.99 - ETA: 0s - loss: 0.0162 - accuracy: 0.99 - ETA: 0s - loss: 0.0161 - accuracy: 0.99 - ETA: 0s - loss: 0.0161 - accuracy: 0.99 - ETA: 0s - loss: 0.0160 - accuracy: 0.99 - ETA: 0s - loss: 0.0159 - accuracy: 0.99 - ETA: 0s - loss: 0.0159 - accuracy: 0.99 - 18s 3ms/sample - loss: 0.0158 - accuracy: 0.9952\n",
      "Epoch 9/10\n",
      "5536/7304 [=====================>........] - ETA: 16s - loss: 1.7291e-04 - accuracy: 1.000 - ETA: 17s - loss: 4.9078e-04 - accuracy: 1.000 - ETA: 18s - loss: 8.3390e-04 - accuracy: 1.000 - ETA: 18s - loss: 6.9172e-04 - accuracy: 1.000 - ETA: 18s - loss: 6.0752e-04 - accuracy: 1.000 - ETA: 17s - loss: 5.5293e-04 - accuracy: 1.000 - ETA: 17s - loss: 5.1503e-04 - accuracy: 1.000 - ETA: 17s - loss: 4.7101e-04 - accuracy: 1.000 - ETA: 17s - loss: 4.3893e-04 - accuracy: 1.000 - ETA: 17s - loss: 4.6297e-04 - accuracy: 1.000 - ETA: 17s - loss: 5.4524e-04 - accuracy: 1.000 - ETA: 17s - loss: 5.2861e-04 - accuracy: 1.000 - ETA: 17s - loss: 5.0366e-04 - accuracy: 1.000 - ETA: 17s - loss: 4.7995e-04 - accuracy: 1.000 - ETA: 17s - loss: 5.2207e-04 - accuracy: 1.000 - ETA: 16s - loss: 5.0186e-04 - accuracy: 1.000 - ETA: 16s - loss: 4.9322e-04 - accuracy: 1.000 - ETA: 16s - loss: 5.0167e-04 - accuracy: 1.000 - ETA: 16s - loss: 5.0280e-04 - accuracy: 1.000 - ETA: 16s - loss: 4.8681e-04 - accuracy: 1.000 - ETA: 16s - loss: 4.9792e-04 - accuracy: 1.000 - ETA: 16s - loss: 4.9403e-04 - accuracy: 1.000 - ETA: 16s - loss: 4.8258e-04 - accuracy: 1.000 - ETA: 16s - loss: 4.7236e-04 - accuracy: 1.000 - ETA: 16s - loss: 4.5892e-04 - accuracy: 1.000 - ETA: 15s - loss: 4.4612e-04 - accuracy: 1.000 - ETA: 15s - loss: 4.5392e-04 - accuracy: 1.000 - ETA: 15s - loss: 4.8568e-04 - accuracy: 1.000 - ETA: 15s - loss: 4.7546e-04 - accuracy: 1.000 - ETA: 15s - loss: 4.6931e-04 - accuracy: 1.000 - ETA: 15s - loss: 4.5898e-04 - accuracy: 1.000 - ETA: 15s - loss: 4.7186e-04 - accuracy: 1.000 - ETA: 15s - loss: 4.6099e-04 - accuracy: 1.000 - ETA: 15s - loss: 4.5298e-04 - accuracy: 1.000 - ETA: 15s - loss: 4.4464e-04 - accuracy: 1.000 - ETA: 15s - loss: 4.3875e-04 - accuracy: 1.000 - ETA: 15s - loss: 4.3210e-04 - accuracy: 1.000 - ETA: 15s - loss: 4.2501e-04 - accuracy: 1.000 - ETA: 14s - loss: 4.1976e-04 - accuracy: 1.000 - ETA: 14s - loss: 4.2800e-04 - accuracy: 1.000 - ETA: 14s - loss: 4.2989e-04 - accuracy: 1.000 - ETA: 14s - loss: 4.3425e-04 - accuracy: 1.000 - ETA: 14s - loss: 4.3182e-04 - accuracy: 1.000 - ETA: 14s - loss: 4.2860e-04 - accuracy: 1.000 - ETA: 14s - loss: 4.3116e-04 - accuracy: 1.000 - ETA: 14s - loss: 4.2936e-04 - accuracy: 1.000 - ETA: 14s - loss: 4.2816e-04 - accuracy: 1.000 - ETA: 14s - loss: 4.2227e-04 - accuracy: 1.000 - ETA: 14s - loss: 4.2699e-04 - accuracy: 1.000 - ETA: 14s - loss: 4.2297e-04 - accuracy: 1.000 - ETA: 14s - loss: 4.1871e-04 - accuracy: 1.000 - ETA: 14s - loss: 4.1600e-04 - accuracy: 1.000 - ETA: 13s - loss: 4.1313e-04 - accuracy: 1.000 - ETA: 13s - loss: 4.0884e-04 - accuracy: 1.000 - ETA: 13s - loss: 4.0451e-04 - accuracy: 1.000 - ETA: 13s - loss: 4.0237e-04 - accuracy: 1.000 - ETA: 13s - loss: 4.0875e-04 - accuracy: 1.000 - ETA: 13s - loss: 4.1089e-04 - accuracy: 1.000 - ETA: 13s - loss: 4.3418e-04 - accuracy: 1.000 - ETA: 13s - loss: 4.3056e-04 - accuracy: 1.000 - ETA: 13s - loss: 4.2577e-04 - accuracy: 1.000 - ETA: 13s - loss: 4.2042e-04 - accuracy: 1.000 - ETA: 13s - loss: 4.1565e-04 - accuracy: 1.000 - ETA: 13s - loss: 4.1394e-04 - accuracy: 1.000 - ETA: 13s - loss: 4.0952e-04 - accuracy: 1.000 - ETA: 12s - loss: 4.0922e-04 - accuracy: 1.000 - ETA: 12s - loss: 4.0777e-04 - accuracy: 1.000 - ETA: 12s - loss: 4.0506e-04 - accuracy: 1.000 - ETA: 12s - loss: 4.0420e-04 - accuracy: 1.000 - ETA: 12s - loss: 4.2336e-04 - accuracy: 1.000 - ETA: 12s - loss: 4.2061e-04 - accuracy: 1.000 - ETA: 12s - loss: 4.2385e-04 - accuracy: 1.000 - ETA: 12s - loss: 4.2285e-04 - accuracy: 1.000 - ETA: 12s - loss: 4.1862e-04 - accuracy: 1.000 - ETA: 12s - loss: 4.1390e-04 - accuracy: 1.000 - ETA: 12s - loss: 4.1075e-04 - accuracy: 1.000 - ETA: 12s - loss: 4.0636e-04 - accuracy: 1.000 - ETA: 11s - loss: 4.0268e-04 - accuracy: 1.000 - ETA: 11s - loss: 4.0034e-04 - accuracy: 1.000 - ETA: 11s - loss: 3.9736e-04 - accuracy: 1.000 - ETA: 11s - loss: 3.9508e-04 - accuracy: 1.000 - ETA: 11s - loss: 3.9239e-04 - accuracy: 1.000 - ETA: 11s - loss: 3.8887e-04 - accuracy: 1.000 - ETA: 11s - loss: 3.8630e-04 - accuracy: 1.000 - ETA: 11s - loss: 4.0616e-04 - accuracy: 1.000 - ETA: 11s - loss: 4.0324e-04 - accuracy: 1.000 - ETA: 11s - loss: 4.0426e-04 - accuracy: 1.000 - ETA: 11s - loss: 4.0350e-04 - accuracy: 1.000 - ETA: 11s - loss: 4.0109e-04 - accuracy: 1.000 - ETA: 11s - loss: 3.9827e-04 - accuracy: 1.000 - ETA: 10s - loss: 4.0299e-04 - accuracy: 1.000 - ETA: 10s - loss: 4.0061e-04 - accuracy: 1.000 - ETA: 10s - loss: 3.9878e-04 - accuracy: 1.000 - ETA: 10s - loss: 5.5064e-04 - accuracy: 1.000 - ETA: 10s - loss: 5.4696e-04 - accuracy: 1.000 - ETA: 10s - loss: 5.4330e-04 - accuracy: 1.000 - ETA: 10s - loss: 5.3899e-04 - accuracy: 1.000 - ETA: 10s - loss: 5.3536e-04 - accuracy: 1.000 - ETA: 10s - loss: 5.3144e-04 - accuracy: 1.000 - ETA: 10s - loss: 5.2694e-04 - accuracy: 1.000 - ETA: 10s - loss: 5.2376e-04 - accuracy: 1.000 - ETA: 10s - loss: 5.2110e-04 - accuracy: 1.000 - ETA: 10s - loss: 5.2126e-04 - accuracy: 1.000 - ETA: 10s - loss: 5.1908e-04 - accuracy: 1.000 - ETA: 9s - loss: 5.1579e-04 - accuracy: 1.000 - ETA: 9s - loss: 5.1571e-04 - accuracy: 1.00 - ETA: 9s - loss: 5.1217e-04 - accuracy: 1.00 - ETA: 9s - loss: 5.0874e-04 - accuracy: 1.00 - ETA: 9s - loss: 5.1254e-04 - accuracy: 1.00 - ETA: 9s - loss: 5.0908e-04 - accuracy: 1.00 - ETA: 9s - loss: 5.0543e-04 - accuracy: 1.00 - ETA: 9s - loss: 5.0658e-04 - accuracy: 1.00 - ETA: 9s - loss: 5.0323e-04 - accuracy: 1.00 - ETA: 9s - loss: 5.0055e-04 - accuracy: 1.00 - ETA: 9s - loss: 4.9708e-04 - accuracy: 1.00 - ETA: 9s - loss: 4.9544e-04 - accuracy: 1.00 - ETA: 8s - loss: 4.9567e-04 - accuracy: 1.00 - ETA: 8s - loss: 4.9212e-04 - accuracy: 1.00 - ETA: 8s - loss: 4.8959e-04 - accuracy: 1.00 - ETA: 8s - loss: 4.8640e-04 - accuracy: 1.00 - ETA: 8s - loss: 4.8491e-04 - accuracy: 1.00 - ETA: 8s - loss: 5.1756e-04 - accuracy: 1.00 - ETA: 8s - loss: 5.1472e-04 - accuracy: 1.00 - ETA: 8s - loss: 5.1391e-04 - accuracy: 1.00 - ETA: 8s - loss: 5.1190e-04 - accuracy: 1.00 - ETA: 8s - loss: 5.0901e-04 - accuracy: 1.00 - ETA: 8s - loss: 5.0619e-04 - accuracy: 1.00 - ETA: 8s - loss: 5.0499e-04 - accuracy: 1.00 - ETA: 8s - loss: 5.0187e-04 - accuracy: 1.00 - ETA: 7s - loss: 4.9943e-04 - accuracy: 1.00 - ETA: 7s - loss: 4.9827e-04 - accuracy: 1.00 - ETA: 7s - loss: 4.9569e-04 - accuracy: 1.00 - ETA: 7s - loss: 4.9254e-04 - accuracy: 1.00 - ETA: 7s - loss: 4.9289e-04 - accuracy: 1.00 - ETA: 7s - loss: 4.9040e-04 - accuracy: 1.00 - ETA: 7s - loss: 4.8766e-04 - accuracy: 1.00 - ETA: 7s - loss: 4.8540e-04 - accuracy: 1.00 - ETA: 7s - loss: 4.8360e-04 - accuracy: 1.00 - ETA: 7s - loss: 4.8171e-04 - accuracy: 1.00 - ETA: 7s - loss: 4.8067e-04 - accuracy: 1.00 - ETA: 7s - loss: 4.7923e-04 - accuracy: 1.00 - ETA: 6s - loss: 4.7683e-04 - accuracy: 1.00 - ETA: 6s - loss: 4.7592e-04 - accuracy: 1.00 - ETA: 6s - loss: 4.7375e-04 - accuracy: 1.00 - ETA: 6s - loss: 4.7175e-04 - accuracy: 1.00 - ETA: 6s - loss: 4.7019e-04 - accuracy: 1.00 - ETA: 6s - loss: 4.6755e-04 - accuracy: 1.00 - ETA: 6s - loss: 4.6497e-04 - accuracy: 1.00 - ETA: 6s - loss: 4.6378e-04 - accuracy: 1.00 - ETA: 6s - loss: 4.6343e-04 - accuracy: 1.00 - ETA: 6s - loss: 4.6292e-04 - accuracy: 1.00 - ETA: 6s - loss: 4.6146e-04 - accuracy: 1.00 - ETA: 6s - loss: 4.5912e-04 - accuracy: 1.00 - ETA: 5s - loss: 4.5697e-04 - accuracy: 1.00 - ETA: 5s - loss: 4.5471e-04 - accuracy: 1.00 - ETA: 5s - loss: 4.5323e-04 - accuracy: 1.00 - ETA: 5s - loss: 4.6299e-04 - accuracy: 1.00 - ETA: 5s - loss: 4.6088e-04 - accuracy: 1.00 - ETA: 5s - loss: 4.5874e-04 - accuracy: 1.00 - ETA: 5s - loss: 4.5678e-04 - accuracy: 1.00 - ETA: 5s - loss: 4.5470e-04 - accuracy: 1.00 - ETA: 5s - loss: 4.5635e-04 - accuracy: 1.00 - ETA: 5s - loss: 4.5423e-04 - accuracy: 1.00 - ETA: 5s - loss: 4.5238e-04 - accuracy: 1.00 - ETA: 5s - loss: 4.5185e-04 - accuracy: 1.00 - ETA: 5s - loss: 4.5033e-04 - accuracy: 1.00 - ETA: 4s - loss: 4.4855e-04 - accuracy: 1.00 - ETA: 4s - loss: 4.5118e-04 - accuracy: 1.00 - ETA: 4s - loss: 4.4900e-04 - accuracy: 1.00 - ETA: 4s - loss: 4.4701e-04 - accuracy: 1.00 - ETA: 4s - loss: 4.4499e-04 - accuracy: 1.00 - ETA: 4s - loss: 4.4299e-04 - accuracy: 1.00 - ETA: 4s - loss: 4.4138e-04 - accuracy: 1.00007304/7304 [==============================] - ETA: 4s - loss: 4.3945e-04 - accuracy: 1.00 - ETA: 4s - loss: 4.3741e-04 - accuracy: 1.00 - ETA: 4s - loss: 4.3529e-04 - accuracy: 1.00 - ETA: 4s - loss: 4.3317e-04 - accuracy: 1.00 - ETA: 4s - loss: 4.3203e-04 - accuracy: 1.00 - ETA: 3s - loss: 4.3498e-04 - accuracy: 1.00 - ETA: 3s - loss: 4.3298e-04 - accuracy: 1.00 - ETA: 3s - loss: 4.3315e-04 - accuracy: 1.00 - ETA: 3s - loss: 4.3324e-04 - accuracy: 1.00 - ETA: 3s - loss: 4.4079e-04 - accuracy: 1.00 - ETA: 3s - loss: 4.3937e-04 - accuracy: 1.00 - ETA: 3s - loss: 4.4018e-04 - accuracy: 1.00 - ETA: 3s - loss: 4.7453e-04 - accuracy: 1.00 - ETA: 3s - loss: 4.7290e-04 - accuracy: 1.00 - ETA: 3s - loss: 4.7075e-04 - accuracy: 1.00 - ETA: 3s - loss: 4.6887e-04 - accuracy: 1.00 - ETA: 3s - loss: 4.6733e-04 - accuracy: 1.00 - ETA: 2s - loss: 4.6556e-04 - accuracy: 1.00 - ETA: 2s - loss: 4.6443e-04 - accuracy: 1.00 - ETA: 2s - loss: 4.6251e-04 - accuracy: 1.00 - ETA: 2s - loss: 4.9470e-04 - accuracy: 1.00 - ETA: 2s - loss: 5.0117e-04 - accuracy: 1.00 - ETA: 2s - loss: 4.9917e-04 - accuracy: 1.00 - ETA: 2s - loss: 4.9841e-04 - accuracy: 1.00 - ETA: 2s - loss: 4.9636e-04 - accuracy: 1.00 - ETA: 2s - loss: 4.9721e-04 - accuracy: 1.00 - ETA: 2s - loss: 4.9522e-04 - accuracy: 1.00 - ETA: 2s - loss: 4.9381e-04 - accuracy: 1.00 - ETA: 2s - loss: 4.9456e-04 - accuracy: 1.00 - ETA: 2s - loss: 4.9324e-04 - accuracy: 1.00 - ETA: 1s - loss: 4.9114e-04 - accuracy: 1.00 - ETA: 1s - loss: 4.8931e-04 - accuracy: 1.00 - ETA: 1s - loss: 4.8763e-04 - accuracy: 1.00 - ETA: 1s - loss: 4.8570e-04 - accuracy: 1.00 - ETA: 1s - loss: 4.8380e-04 - accuracy: 1.00 - ETA: 1s - loss: 4.8493e-04 - accuracy: 1.00 - ETA: 1s - loss: 4.8312e-04 - accuracy: 1.00 - ETA: 1s - loss: 4.9175e-04 - accuracy: 1.00 - ETA: 1s - loss: 4.9862e-04 - accuracy: 1.00 - ETA: 1s - loss: 4.9706e-04 - accuracy: 1.00 - ETA: 1s - loss: 4.9496e-04 - accuracy: 1.00 - ETA: 1s - loss: 4.9321e-04 - accuracy: 1.00 - ETA: 0s - loss: 4.9134e-04 - accuracy: 1.00 - ETA: 0s - loss: 4.9080e-04 - accuracy: 1.00 - ETA: 0s - loss: 4.9036e-04 - accuracy: 1.00 - ETA: 0s - loss: 4.8856e-04 - accuracy: 1.00 - ETA: 0s - loss: 4.8695e-04 - accuracy: 1.00 - ETA: 0s - loss: 4.8576e-04 - accuracy: 1.00 - ETA: 0s - loss: 4.8395e-04 - accuracy: 1.00 - ETA: 0s - loss: 4.8358e-04 - accuracy: 1.00 - ETA: 0s - loss: 5.1293e-04 - accuracy: 1.00 - ETA: 0s - loss: 5.1103e-04 - accuracy: 1.00 - ETA: 0s - loss: 5.0918e-04 - accuracy: 1.00 - ETA: 0s - loss: 5.0730e-04 - accuracy: 1.00 - ETA: 0s - loss: 5.0584e-04 - accuracy: 1.00 - 18s 2ms/sample - loss: 5.0539e-04 - accuracy: 1.0000\n",
      "Epoch 10/10\n"
     ]
    },
    {
     "name": "stdout",
     "output_type": "stream",
     "text": [
      "5824/7304 [======================>.......] - ETA: 17s - loss: 9.4138e-05 - accuracy: 1.000 - ETA: 17s - loss: 1.2669e-04 - accuracy: 1.000 - ETA: 17s - loss: 1.9391e-04 - accuracy: 1.000 - ETA: 17s - loss: 1.8592e-04 - accuracy: 1.000 - ETA: 19s - loss: 2.1784e-04 - accuracy: 1.000 - ETA: 19s - loss: 1.9624e-04 - accuracy: 1.000 - ETA: 19s - loss: 1.7708e-04 - accuracy: 1.000 - ETA: 18s - loss: 3.0652e-04 - accuracy: 1.000 - ETA: 18s - loss: 2.8710e-04 - accuracy: 1.000 - ETA: 18s - loss: 2.8947e-04 - accuracy: 1.000 - ETA: 17s - loss: 2.7173e-04 - accuracy: 1.000 - ETA: 17s - loss: 0.0034 - accuracy: 0.9974    - ETA: 17s - loss: 0.0032 - accuracy: 0.997 - ETA: 17s - loss: 0.0045 - accuracy: 0.997 - ETA: 17s - loss: 0.0051 - accuracy: 0.997 - ETA: 17s - loss: 0.0048 - accuracy: 0.998 - ETA: 17s - loss: 0.0045 - accuracy: 0.998 - ETA: 17s - loss: 0.0046 - accuracy: 0.998 - ETA: 16s - loss: 0.0044 - accuracy: 0.998 - ETA: 16s - loss: 0.0042 - accuracy: 0.998 - ETA: 16s - loss: 0.0040 - accuracy: 0.998 - ETA: 16s - loss: 0.0039 - accuracy: 0.998 - ETA: 16s - loss: 0.0037 - accuracy: 0.998 - ETA: 16s - loss: 0.0037 - accuracy: 0.998 - ETA: 16s - loss: 0.0036 - accuracy: 0.998 - ETA: 16s - loss: 0.0035 - accuracy: 0.998 - ETA: 16s - loss: 0.0033 - accuracy: 0.998 - ETA: 16s - loss: 0.0032 - accuracy: 0.998 - ETA: 16s - loss: 0.0031 - accuracy: 0.998 - ETA: 16s - loss: 0.0030 - accuracy: 0.999 - ETA: 15s - loss: 0.0029 - accuracy: 0.999 - ETA: 15s - loss: 0.0028 - accuracy: 0.999 - ETA: 15s - loss: 0.0027 - accuracy: 0.999 - ETA: 15s - loss: 0.0027 - accuracy: 0.999 - ETA: 15s - loss: 0.0026 - accuracy: 0.999 - ETA: 15s - loss: 0.0026 - accuracy: 0.999 - ETA: 15s - loss: 0.0025 - accuracy: 0.999 - ETA: 15s - loss: 0.0024 - accuracy: 0.999 - ETA: 15s - loss: 0.0024 - accuracy: 0.999 - ETA: 15s - loss: 0.0023 - accuracy: 0.999 - ETA: 15s - loss: 0.0023 - accuracy: 0.999 - ETA: 15s - loss: 0.0022 - accuracy: 0.999 - ETA: 14s - loss: 0.0023 - accuracy: 0.999 - ETA: 14s - loss: 0.0022 - accuracy: 0.999 - ETA: 14s - loss: 0.0022 - accuracy: 0.999 - ETA: 14s - loss: 0.0021 - accuracy: 0.999 - ETA: 14s - loss: 0.0021 - accuracy: 0.999 - ETA: 14s - loss: 0.0020 - accuracy: 0.999 - ETA: 14s - loss: 0.0020 - accuracy: 0.999 - ETA: 14s - loss: 0.0020 - accuracy: 0.999 - ETA: 14s - loss: 0.0019 - accuracy: 0.999 - ETA: 14s - loss: 0.0019 - accuracy: 0.999 - ETA: 14s - loss: 0.0019 - accuracy: 0.999 - ETA: 14s - loss: 0.0019 - accuracy: 0.999 - ETA: 14s - loss: 0.0018 - accuracy: 0.999 - ETA: 14s - loss: 0.0018 - accuracy: 0.999 - ETA: 14s - loss: 0.0018 - accuracy: 0.999 - ETA: 14s - loss: 0.0018 - accuracy: 0.999 - ETA: 13s - loss: 0.0017 - accuracy: 0.999 - ETA: 13s - loss: 0.0017 - accuracy: 0.999 - ETA: 13s - loss: 0.0017 - accuracy: 0.999 - ETA: 13s - loss: 0.0016 - accuracy: 0.999 - ETA: 13s - loss: 0.0016 - accuracy: 0.999 - ETA: 13s - loss: 0.0016 - accuracy: 0.999 - ETA: 13s - loss: 0.0016 - accuracy: 0.999 - ETA: 13s - loss: 0.0016 - accuracy: 0.999 - ETA: 13s - loss: 0.0016 - accuracy: 0.999 - ETA: 13s - loss: 0.0016 - accuracy: 0.999 - ETA: 13s - loss: 0.0015 - accuracy: 0.999 - ETA: 13s - loss: 0.0015 - accuracy: 0.999 - ETA: 12s - loss: 0.0015 - accuracy: 0.999 - ETA: 12s - loss: 0.0015 - accuracy: 0.999 - ETA: 12s - loss: 0.0015 - accuracy: 0.999 - ETA: 12s - loss: 0.0015 - accuracy: 0.999 - ETA: 12s - loss: 0.0014 - accuracy: 0.999 - ETA: 12s - loss: 0.0014 - accuracy: 0.999 - ETA: 12s - loss: 0.0014 - accuracy: 0.999 - ETA: 12s - loss: 0.0014 - accuracy: 0.999 - ETA: 12s - loss: 0.0014 - accuracy: 0.999 - ETA: 12s - loss: 0.0014 - accuracy: 0.999 - ETA: 12s - loss: 0.0014 - accuracy: 0.999 - ETA: 11s - loss: 0.0014 - accuracy: 0.999 - ETA: 11s - loss: 0.0013 - accuracy: 0.999 - ETA: 11s - loss: 0.0013 - accuracy: 0.999 - ETA: 11s - loss: 0.0013 - accuracy: 0.999 - ETA: 11s - loss: 0.0013 - accuracy: 0.999 - ETA: 11s - loss: 0.0013 - accuracy: 0.999 - ETA: 11s - loss: 0.0013 - accuracy: 0.999 - ETA: 11s - loss: 0.0013 - accuracy: 0.999 - ETA: 11s - loss: 0.0013 - accuracy: 0.999 - ETA: 11s - loss: 0.0012 - accuracy: 0.999 - ETA: 11s - loss: 0.0012 - accuracy: 0.999 - ETA: 10s - loss: 0.0012 - accuracy: 0.999 - ETA: 10s - loss: 0.0012 - accuracy: 0.999 - ETA: 10s - loss: 0.0012 - accuracy: 0.999 - ETA: 10s - loss: 0.0012 - accuracy: 0.999 - ETA: 10s - loss: 0.0012 - accuracy: 0.999 - ETA: 10s - loss: 0.0012 - accuracy: 0.999 - ETA: 10s - loss: 0.0012 - accuracy: 0.999 - ETA: 10s - loss: 0.0012 - accuracy: 0.999 - ETA: 10s - loss: 0.0011 - accuracy: 0.999 - ETA: 10s - loss: 0.0011 - accuracy: 0.999 - ETA: 10s - loss: 0.0011 - accuracy: 0.999 - ETA: 10s - loss: 0.0011 - accuracy: 0.999 - ETA: 9s - loss: 0.0011 - accuracy: 0.999 - ETA: 9s - loss: 0.0011 - accuracy: 0.99 - ETA: 9s - loss: 0.0011 - accuracy: 0.99 - ETA: 9s - loss: 0.0011 - accuracy: 0.99 - ETA: 9s - loss: 0.0011 - accuracy: 0.99 - ETA: 9s - loss: 0.0011 - accuracy: 0.99 - ETA: 9s - loss: 0.0011 - accuracy: 0.99 - ETA: 9s - loss: 0.0010 - accuracy: 0.99 - ETA: 9s - loss: 0.0010 - accuracy: 0.99 - ETA: 9s - loss: 0.0010 - accuracy: 0.99 - ETA: 9s - loss: 0.0010 - accuracy: 0.99 - ETA: 9s - loss: 0.0010 - accuracy: 0.99 - ETA: 9s - loss: 0.0010 - accuracy: 0.99 - ETA: 8s - loss: 9.9898e-04 - accuracy: 0.99 - ETA: 8s - loss: 9.9124e-04 - accuracy: 0.99 - ETA: 8s - loss: 9.8394e-04 - accuracy: 0.99 - ETA: 8s - loss: 9.7675e-04 - accuracy: 0.99 - ETA: 8s - loss: 9.8033e-04 - accuracy: 0.99 - ETA: 8s - loss: 9.7505e-04 - accuracy: 0.99 - ETA: 8s - loss: 9.6775e-04 - accuracy: 0.99 - ETA: 8s - loss: 9.6063e-04 - accuracy: 0.99 - ETA: 8s - loss: 9.5351e-04 - accuracy: 0.99 - ETA: 8s - loss: 9.4901e-04 - accuracy: 0.99 - ETA: 8s - loss: 9.4196e-04 - accuracy: 0.99 - ETA: 8s - loss: 9.3515e-04 - accuracy: 0.99 - ETA: 7s - loss: 9.2829e-04 - accuracy: 0.99 - ETA: 7s - loss: 9.2166e-04 - accuracy: 0.99 - ETA: 7s - loss: 9.1498e-04 - accuracy: 0.99 - ETA: 7s - loss: 9.0864e-04 - accuracy: 0.99 - ETA: 7s - loss: 9.0279e-04 - accuracy: 0.99 - ETA: 7s - loss: 8.9678e-04 - accuracy: 0.99 - ETA: 7s - loss: 8.9234e-04 - accuracy: 0.99 - ETA: 7s - loss: 8.8685e-04 - accuracy: 0.99 - ETA: 7s - loss: 8.8075e-04 - accuracy: 0.99 - ETA: 7s - loss: 8.7484e-04 - accuracy: 0.99 - ETA: 7s - loss: 8.7114e-04 - accuracy: 0.99 - ETA: 7s - loss: 8.6531e-04 - accuracy: 0.99 - ETA: 7s - loss: 8.5965e-04 - accuracy: 0.99 - ETA: 6s - loss: 8.5442e-04 - accuracy: 0.99 - ETA: 6s - loss: 8.4892e-04 - accuracy: 0.99 - ETA: 6s - loss: 8.4343e-04 - accuracy: 0.99 - ETA: 6s - loss: 8.3796e-04 - accuracy: 0.99 - ETA: 6s - loss: 8.3270e-04 - accuracy: 0.99 - ETA: 6s - loss: 8.2776e-04 - accuracy: 0.99 - ETA: 6s - loss: 8.2294e-04 - accuracy: 0.99 - ETA: 6s - loss: 8.1821e-04 - accuracy: 0.99 - ETA: 6s - loss: 8.1317e-04 - accuracy: 0.99 - ETA: 6s - loss: 8.0824e-04 - accuracy: 0.99 - ETA: 6s - loss: 8.0418e-04 - accuracy: 0.99 - ETA: 6s - loss: 7.9937e-04 - accuracy: 0.99 - ETA: 6s - loss: 7.9442e-04 - accuracy: 0.99 - ETA: 5s - loss: 7.9041e-04 - accuracy: 0.99 - ETA: 5s - loss: 7.8568e-04 - accuracy: 0.99 - ETA: 5s - loss: 7.8095e-04 - accuracy: 0.99 - ETA: 5s - loss: 7.7630e-04 - accuracy: 0.99 - ETA: 5s - loss: 7.7302e-04 - accuracy: 0.99 - ETA: 5s - loss: 7.6963e-04 - accuracy: 0.99 - ETA: 5s - loss: 7.6543e-04 - accuracy: 0.99 - ETA: 5s - loss: 7.6105e-04 - accuracy: 0.99 - ETA: 5s - loss: 7.5690e-04 - accuracy: 0.99 - ETA: 5s - loss: 7.5286e-04 - accuracy: 0.99 - ETA: 5s - loss: 7.4894e-04 - accuracy: 0.99 - ETA: 5s - loss: 7.4473e-04 - accuracy: 0.99 - ETA: 4s - loss: 7.4107e-04 - accuracy: 0.99 - ETA: 4s - loss: 7.3734e-04 - accuracy: 0.99 - ETA: 4s - loss: 7.3330e-04 - accuracy: 0.99 - ETA: 4s - loss: 7.2922e-04 - accuracy: 0.99 - ETA: 4s - loss: 7.2529e-04 - accuracy: 0.99 - ETA: 4s - loss: 7.2150e-04 - accuracy: 0.99 - ETA: 4s - loss: 7.1789e-04 - accuracy: 0.99 - ETA: 4s - loss: 7.1463e-04 - accuracy: 0.99 - ETA: 4s - loss: 7.1099e-04 - accuracy: 0.99 - ETA: 4s - loss: 7.0790e-04 - accuracy: 0.99 - ETA: 4s - loss: 7.0489e-04 - accuracy: 0.99 - ETA: 4s - loss: 7.0131e-04 - accuracy: 0.99 - ETA: 3s - loss: 6.9774e-04 - accuracy: 0.99 - ETA: 3s - loss: 6.9435e-04 - accuracy: 0.99 - ETA: 3s - loss: 6.9175e-04 - accuracy: 0.9998"
     ]
    },
    {
     "name": "stdout",
     "output_type": "stream",
     "text": [
      "7304/7304 [==============================] - ETA: 3s - loss: 6.8820e-04 - accuracy: 0.99 - ETA: 3s - loss: 6.8549e-04 - accuracy: 0.99 - ETA: 3s - loss: 6.8221e-04 - accuracy: 0.99 - ETA: 3s - loss: 6.7913e-04 - accuracy: 0.99 - ETA: 3s - loss: 6.7594e-04 - accuracy: 0.99 - ETA: 3s - loss: 6.7270e-04 - accuracy: 0.99 - ETA: 3s - loss: 6.7046e-04 - accuracy: 0.99 - ETA: 3s - loss: 6.6753e-04 - accuracy: 0.99 - ETA: 3s - loss: 6.6421e-04 - accuracy: 0.99 - ETA: 3s - loss: 6.6107e-04 - accuracy: 0.99 - ETA: 2s - loss: 6.5820e-04 - accuracy: 0.99 - ETA: 2s - loss: 6.5504e-04 - accuracy: 0.99 - ETA: 2s - loss: 6.5189e-04 - accuracy: 0.99 - ETA: 2s - loss: 6.4902e-04 - accuracy: 0.99 - ETA: 2s - loss: 6.4647e-04 - accuracy: 0.99 - ETA: 2s - loss: 6.4392e-04 - accuracy: 0.99 - ETA: 2s - loss: 6.4088e-04 - accuracy: 0.99 - ETA: 2s - loss: 6.3816e-04 - accuracy: 0.99 - ETA: 2s - loss: 6.3523e-04 - accuracy: 0.99 - ETA: 2s - loss: 6.3235e-04 - accuracy: 0.99 - ETA: 2s - loss: 6.2955e-04 - accuracy: 0.99 - ETA: 2s - loss: 6.2803e-04 - accuracy: 0.99 - ETA: 1s - loss: 6.2521e-04 - accuracy: 0.99 - ETA: 1s - loss: 6.2269e-04 - accuracy: 0.99 - ETA: 1s - loss: 6.2002e-04 - accuracy: 0.99 - ETA: 1s - loss: 6.1731e-04 - accuracy: 0.99 - ETA: 1s - loss: 6.1587e-04 - accuracy: 0.99 - ETA: 1s - loss: 6.1319e-04 - accuracy: 0.99 - ETA: 1s - loss: 6.1041e-04 - accuracy: 0.99 - ETA: 1s - loss: 6.0768e-04 - accuracy: 0.99 - ETA: 1s - loss: 6.0502e-04 - accuracy: 0.99 - ETA: 1s - loss: 6.0284e-04 - accuracy: 0.99 - ETA: 1s - loss: 6.0018e-04 - accuracy: 0.99 - ETA: 1s - loss: 5.9814e-04 - accuracy: 0.99 - ETA: 0s - loss: 5.9587e-04 - accuracy: 0.99 - ETA: 0s - loss: 5.9332e-04 - accuracy: 0.99 - ETA: 0s - loss: 5.9093e-04 - accuracy: 0.99 - ETA: 0s - loss: 5.8857e-04 - accuracy: 0.99 - ETA: 0s - loss: 5.8879e-04 - accuracy: 0.99 - ETA: 0s - loss: 5.8803e-04 - accuracy: 0.99 - ETA: 0s - loss: 5.8616e-04 - accuracy: 0.99 - ETA: 0s - loss: 5.8384e-04 - accuracy: 0.99 - ETA: 0s - loss: 5.8304e-04 - accuracy: 0.99 - ETA: 0s - loss: 5.8061e-04 - accuracy: 0.99 - ETA: 0s - loss: 5.7891e-04 - accuracy: 0.99 - ETA: 0s - loss: 5.8351e-04 - accuracy: 0.99 - 19s 3ms/sample - loss: 5.8291e-04 - accuracy: 0.9999\n"
     ]
    }
   ],
   "source": [
    "history = model.fit(x_train, y_train, epochs=10)"
   ]
  },
  {
   "cell_type": "code",
   "execution_count": 28,
   "metadata": {},
   "outputs": [
    {
     "data": {
      "image/png": "[encoded data removed]",
      "text/plain": [
       "<Figure size 1152x288 with 2 Axes>"
      ]
     },
     "metadata": {
      "needs_background": "light"
     },
     "output_type": "display_data"
    }
   ],
   "source": [
    "acy = history.history['accuracy']\n",
    "loss = history.history['loss']\n",
    "fig, axes = plt.subplots(ncols=2, figsize=(16, 4))\n",
    "axes[0].plot(acy, c='r')\n",
    "axes[1].plot(loss, c='c')\n",
    "plt.show()"
   ]
  },
  {
   "cell_type": "code",
   "execution_count": 40,
   "metadata": {},
   "outputs": [],
   "source": [
    "def predict_accuracy(model, x_test, y_test):\n",
    "    error_index = []\n",
    "    num = 0\n",
    "    result = model.predict(x_test)\n",
    "    array = np.zeros((len(result), 1))\n",
    "    for i in range(len(result)):\n",
    "        array[i] = np.argmax(result[i])\n",
    "    \n",
    "    for i in range(len(array)):\n",
    "        if array[i, 0] == y_test[i, 0]:\n",
    "            num += 1\n",
    "        else:\n",
    "            error_index.append(i)\n",
    "    accuracy = num / y_test.shape[0]\n",
    "    print('accuracy = %d' % accuracy)\n",
    "\n",
    "    return result, error_index, accuracy"
   ]
  },
  {
   "cell_type": "code",
   "execution_count": 43,
   "metadata": {},
   "outputs": [
    {
     "name": "stdout",
     "output_type": "stream",
     "text": [
      "accuracy = 0\n"
     ]
    }
   ],
   "source": []
  },
  {
   "cell_type": "code",
   "execution_count": 36,
   "metadata": {},
   "outputs": [],
   "source": [
    "result = model.predict(x_test)"
   ]
  },
  {
   "cell_type": "code",
   "execution_count": 37,
   "metadata": {},
   "outputs": [],
   "source": [
    "array = np.zeros((len(result), 1))\n",
    "for i in range(len(result)):\n",
    "    array[i] = np.argmax(result[i])"
   ]
  },
  {
   "cell_type": "code",
   "execution_count": 44,
   "metadata": {},
   "outputs": [
    {
     "data": {
      "text/plain": [
       "(4869, [1377])"
      ]
     },
     "execution_count": 44,
     "metadata": {},
     "output_type": "execute_result"
    }
   ],
   "source": [
    "num = 0\n",
    "index = []\n",
    "for i in range(len(array)):\n",
    "    if array[i, 0] == y_test[i, 0]:\n",
    "        num += 1\n",
    "    else:\n",
    "        index.append(i)\n",
    "num, index"
   ]
  },
  {
   "cell_type": "code",
   "execution_count": 42,
   "metadata": {},
   "outputs": [
    {
     "data": {
      "text/plain": [
       "0.999794661190965"
      ]
     },
     "execution_count": 42,
     "metadata": {},
     "output_type": "execute_result"
    }
   ],
   "source": [
    "num/y_test.shape[0]"
   ]
  },
  {
   "cell_type": "code",
   "execution_count": 46,
   "metadata": {},
   "outputs": [
    {
     "data": {
      "text/plain": [
       "(4870, 1)"
      ]
     },
     "execution_count": 46,
     "metadata": {},
     "output_type": "execute_result"
    }
   ],
   "source": [
    "y_test.shape"
   ]
  },
  {
   "cell_type": "code",
   "execution_count": 54,
   "metadata": {},
   "outputs": [
    {
     "data": {
      "text/plain": [
       "363.05622807399703"
      ]
     },
     "execution_count": 54,
     "metadata": {},
     "output_type": "execute_result"
    }
   ],
   "source": [
    "70000 / 482019 * 2500 "
   ]
  },
  {
   "cell_type": "code",
   "execution_count": 49,
   "metadata": {},
   "outputs": [
    {
     "data": {
      "text/plain": [
       "(11054, 50, 50, 2)"
      ]
     },
     "execution_count": 49,
     "metadata": {},
     "output_type": "execute_result"
    }
   ],
   "source": [
    "b1 = np.load('../Cs137data/numpy_data/dataSet_10cm.npy')\n",
    "b1.shape"
   ]
  },
  {
   "cell_type": "code",
   "execution_count": 50,
   "metadata": {},
   "outputs": [
    {
     "data": {
      "text/plain": [
       "array([[3.010000e-01, 4.852000e-01, 5.122000e-01, ..., 5.994400e+00,\n",
       "        6.148000e+00, 6.174200e+00],\n",
       "       [6.286400e+00, 6.312800e+00, 6.465600e+00, ..., 1.320400e+01,\n",
       "        1.323040e+01, 1.335900e+01],\n",
       "       [1.343620e+01, 1.346380e+01, 1.482380e+01, ..., 2.069580e+01,\n",
       "        2.072240e+01, 2.111000e+01],\n",
       "       ...,\n",
       "       [3.103062e+02, 3.103510e+02, 3.103792e+02, ..., 3.144936e+02,\n",
       "        3.145890e+02, 3.146154e+02],\n",
       "       [3.153688e+02, 3.153954e+02, 3.154526e+02, ..., 3.200272e+02,\n",
       "        3.200538e+02, 3.204476e+02],\n",
       "       [3.204732e+02, 3.210278e+02, 3.212496e+02, ..., 3.276336e+02,\n",
       "        3.276564e+02, 3.276778e+02]])"
      ]
     },
     "execution_count": 50,
     "metadata": {},
     "output_type": "execute_result"
    }
   ],
   "source": [
    "b1[0, :, :, 1]"
   ]
  },
  {
   "cell_type": "code",
   "execution_count": 55,
   "metadata": {},
   "outputs": [
    {
     "data": {
      "text/plain": [
       "(1120, 50, 50, 2)"
      ]
     },
     "execution_count": 55,
     "metadata": {},
     "output_type": "execute_result"
    }
   ],
   "source": [
    "b2  = np.load('../Cs137data/numpy_data/dataSet_30cm.npy')\n",
    "b2.shape"
   ]
  },
  {
   "cell_type": "code",
   "execution_count": 56,
   "metadata": {},
   "outputs": [
    {
     "data": {
      "text/plain": [
       "array([[2.5460000e-01, 2.9140000e-01, 1.3902000e+00, ..., 5.1205800e+01,\n",
       "        5.1612000e+01, 5.1692800e+01],\n",
       "       [5.1931400e+01, 5.2076600e+01, 5.2301000e+01, ..., 8.4779200e+01,\n",
       "        8.4884800e+01, 8.5520200e+01],\n",
       "       [8.6816000e+01, 8.7011600e+01, 8.7054000e+01, ..., 1.3390560e+02,\n",
       "        1.3401580e+02, 1.3407880e+02],\n",
       "       ...,\n",
       "       [1.9110028e+03, 1.9113446e+03, 1.9115350e+03, ..., 1.9404116e+03,\n",
       "        1.9406580e+03, 1.9411774e+03],\n",
       "       [1.9412942e+03, 1.9414162e+03, 1.9417120e+03, ..., 1.9788294e+03,\n",
       "        1.9804088e+03, 1.9804920e+03],\n",
       "       [1.9811154e+03, 1.9814086e+03, 1.9814536e+03, ..., 2.0243008e+03,\n",
       "        2.0252366e+03, 2.0271748e+03]])"
      ]
     },
     "execution_count": 56,
     "metadata": {},
     "output_type": "execute_result"
    }
   ],
   "source": [
    "b2[0, :, :, 1]"
   ]
  },
  {
   "cell_type": "code",
   "execution_count": null,
   "metadata": {},
   "outputs": [],
   "source": []
  }
 ],
 "metadata": {
  "kernelspec": {
   "display_name": "Python 3",
   "language": "python",
   "name": "python3"
  },
  "language_info": {
   "codemirror_mode": {
    "name": "ipython",
    "version": 3
   },
   "file_extension": ".py",
   "mimetype": "text/x-python",
   "name": "python",
   "nbconvert_exporter": "python",
   "pygments_lexer": "ipython3",
   "version": "3.7.4"
  }
 },
 "nbformat": 4,
 "nbformat_minor": 2
}
