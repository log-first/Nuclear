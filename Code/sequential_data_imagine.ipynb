{
 "cells": [
  {
   "cell_type": "code",
   "execution_count": 12,
   "metadata": {},
   "outputs": [],
   "source": [
    "import PIL\n",
    "from PIL import Image, ImageColor, ImageDraw, ImageFilter, ImageFont\n",
    "\n",
    "import numpy as np\n",
    "import pandas as pd"
   ]
  },
  {
   "cell_type": "code",
   "execution_count": 26,
   "metadata": {},
   "outputs": [
    {
     "data": {
      "text/plain": [
       "((11054, 50, 50, 2), (11054,))"
      ]
     },
     "execution_count": 26,
     "metadata": {},
     "output_type": "execute_result"
    }
   ],
   "source": [
    "dataSet = np.load('../Cs137data/numpy_data/dataSet_10cm.npy')\n",
    "labels = np.load('../Cs137data/numpy_data/label_10cm.npy')\n",
    "dataSet.shape, labels.shape"
   ]
  },
  {
   "cell_type": "code",
   "execution_count": 40,
   "metadata": {},
   "outputs": [
    {
     "data": {
      "text/plain": [
       "{0.0, 1.0, 2.0, 3.0}"
      ]
     },
     "execution_count": 40,
     "metadata": {},
     "output_type": "execute_result"
    }
   ],
   "source": [
    "set(labels)"
   ]
  },
  {
   "cell_type": "code",
   "execution_count": 27,
   "metadata": {},
   "outputs": [
    {
     "data": {
      "text/plain": [
       "(255.0, array([[24.9137931 , 33.70689655, 34.68390805, ..., 32.72988506,\n",
       "         54.71264368, 55.20114943],\n",
       "        [69.85632184, 70.83333333, 19.54022989, ..., 34.68390805,\n",
       "         36.14942529, 37.12643678],\n",
       "        [53.24712644, 52.75862069, 53.24712644, ..., 17.09770115,\n",
       "         18.56321839, 34.68390805],\n",
       "        ...,\n",
       "        [10.74712644, 17.5862069 , 18.56321839, ..., 11.72413793,\n",
       "         17.09770115, 16.6091954 ],\n",
       "        [37.61494253, 37.61494253, 53.24712644, ..., 14.65517241,\n",
       "         15.63218391, 53.24712644],\n",
       "        [52.75862069, 25.8908046 , 36.63793103, ..., 21.49425287,\n",
       "         15.14367816,  8.3045977 ]]), 0.0)"
      ]
     },
     "execution_count": 27,
     "metadata": {},
     "output_type": "execute_result"
    }
   ],
   "source": [
    "data = dataSet[0, :, :, 0]\n",
    "data = data[:, :] / data.max() * 255\n",
    "data.max(), data, labels[0]"
   ]
  },
  {
   "cell_type": "code",
   "execution_count": 85,
   "metadata": {},
   "outputs": [],
   "source": [
    "index = np.where(labels[:]==3)[0]"
   ]
  },
  {
   "cell_type": "code",
   "execution_count": 86,
   "metadata": {},
   "outputs": [],
   "source": [
    "im = Image.new('RGB', (50, 50))"
   ]
  },
  {
   "cell_type": "code",
   "execution_count": 87,
   "metadata": {},
   "outputs": [],
   "source": [
    "draw = ImageDraw.Draw(im=im)"
   ]
  },
  {
   "cell_type": "code",
   "execution_count": 95,
   "metadata": {},
   "outputs": [],
   "source": [
    "dataSet[:, :, :, 0] = dataSet[:, :, :, 0] / dataSet[:, :, :, 0].max() * 255\n",
    "for i in range(50):\n",
    "    for j in range(50):\n",
    "        draw.point((i, j), fill=(int(dataSet[index[20], i, j, 0]), 0, 0))"
   ]
  },
  {
   "cell_type": "code",
   "execution_count": 96,
   "metadata": {},
   "outputs": [],
   "source": [
    "im = im.resize((200, 200), Image.ANTIALIAS)\n",
    "im.show()"
   ]
  },
  {
   "cell_type": "code",
   "execution_count": null,
   "metadata": {},
   "outputs": [],
   "source": []
  },
  {
   "cell_type": "code",
   "execution_count": null,
   "metadata": {},
   "outputs": [],
   "source": []
  }
 ],
 "metadata": {
  "kernelspec": {
   "display_name": "Python 3",
   "language": "python",
   "name": "python3"
  },
  "language_info": {
   "codemirror_mode": {
    "name": "ipython",
    "version": 3
   },
   "file_extension": ".py",
   "mimetype": "text/x-python",
   "name": "python",
   "nbconvert_exporter": "python",
   "pygments_lexer": "ipython3",
   "version": "3.7.4"
  }
 },
 "nbformat": 4,
 "nbformat_minor": 2
}
